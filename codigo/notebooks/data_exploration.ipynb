{
 "cells": [
  {
   "cell_type": "code",
   "execution_count": 2,
   "metadata": {},
   "outputs": [],
   "source": [
    "import matplotlib.pyplot as plt\n",
    "import polars as pl\n",
    "import numpy as np\n",
    "import seaborn as sns\n",
    "from pathlib import Path"
   ]
  },
  {
   "cell_type": "markdown",
   "metadata": {},
   "source": [
    "## Load Data"
   ]
  },
  {
   "cell_type": "code",
   "execution_count": 4,
   "metadata": {},
   "outputs": [
    {
     "data": {
      "text/html": [
       "<div><style>\n",
       ".dataframe > thead > tr,\n",
       ".dataframe > tbody > tr {\n",
       "  text-align: right;\n",
       "  white-space: pre-wrap;\n",
       "}\n",
       "</style>\n",
       "<small>shape: (5, 46)</small><table border=\"1\" class=\"dataframe\"><thead><tr><th>county</th><th>is_business</th><th>product_type</th><th>target</th><th>is_consumption</th><th>datetime</th><th>data_block_id</th><th>row_id</th><th>prediction_unit_id</th><th>date</th><th>year</th><th>quarter</th><th>month</th><th>week</th><th>hour</th><th>day_of_year</th><th>day_of_month</th><th>day_of_week</th><th>eic_count_client</th><th>installed_capacity_client</th><th>data_block_id_client</th><th>forecast_date_gas</th><th>lowest_price_per_mwh_gas</th><th>highest_price_per_mwh_gas</th><th>data_block_id_gas</th><th>mean_price_per_mwh_24h_gas</th><th>forecast_date_ep</th><th>euros_per_mwh_24h_ep</th><th>data_block_id_ep</th><th>temperature_hw</th><th>dewpoint_hw</th><th>rain_hw</th><th>snowfall_hw</th><th>surface_pressure_hw</th><th>cloudcover_total_hw</th><th>cloudcover_low_hw</th><th>cloudcover_mid_hw</th><th>cloudcover_high_hw</th><th>windspeed_10m_hw</th><th>winddirection_10m_hw</th><th>shortwave_radiation_hw</th><th>direct_solar_radiation_hw</th><th>diffuse_radiation_hw</th><th>latitude_hw</th><th>longitude_hw</th><th>data_block_id_hw</th></tr><tr><td>i64</td><td>i64</td><td>i64</td><td>f64</td><td>i64</td><td>datetime[μs]</td><td>i64</td><td>i64</td><td>i64</td><td>date</td><td>i64</td><td>i64</td><td>i64</td><td>i64</td><td>i64</td><td>i64</td><td>i64</td><td>i64</td><td>i64</td><td>f64</td><td>i64</td><td>date</td><td>f64</td><td>f64</td><td>i64</td><td>f64</td><td>datetime[μs]</td><td>f64</td><td>i64</td><td>f64</td><td>f64</td><td>f64</td><td>f64</td><td>f64</td><td>f64</td><td>f64</td><td>f64</td><td>f64</td><td>f64</td><td>f64</td><td>f64</td><td>f64</td><td>f64</td><td>f64</td><td>f64</td><td>f64</td></tr></thead><tbody><tr><td>0</td><td>0</td><td>1</td><td>0.713</td><td>0</td><td>2021-09-01 00:00:00</td><td>0</td><td>0</td><td>0</td><td>2021-09-01</td><td>2021</td><td>3</td><td>9</td><td>35</td><td>0</td><td>244</td><td>1</td><td>3</td><td>108</td><td>952.89</td><td>2</td><td>2021-09-02</td><td>45.62</td><td>46.29</td><td>2</td><td>45.955</td><td>2021-09-02 00:00:00</td><td>96.99</td><td>2</td><td>13.815385</td><td>10.6</td><td>0.0</td><td>0.0</td><td>1011.569231</td><td>42.461538</td><td>44.153846</td><td>2.923077</td><td>3.384615</td><td>5.619658</td><td>341.384615</td><td>0.0</td><td>0.0</td><td>0.0</td><td>59.492308</td><td>24.584615</td><td>1.0</td></tr><tr><td>0</td><td>0</td><td>1</td><td>96.59</td><td>1</td><td>2021-09-01 00:00:00</td><td>0</td><td>1</td><td>0</td><td>2021-09-01</td><td>2021</td><td>3</td><td>9</td><td>35</td><td>0</td><td>244</td><td>1</td><td>3</td><td>108</td><td>952.89</td><td>2</td><td>2021-09-02</td><td>45.62</td><td>46.29</td><td>2</td><td>45.955</td><td>2021-09-02 00:00:00</td><td>96.99</td><td>2</td><td>13.815385</td><td>10.6</td><td>0.0</td><td>0.0</td><td>1011.569231</td><td>42.461538</td><td>44.153846</td><td>2.923077</td><td>3.384615</td><td>5.619658</td><td>341.384615</td><td>0.0</td><td>0.0</td><td>0.0</td><td>59.492308</td><td>24.584615</td><td>1.0</td></tr><tr><td>0</td><td>0</td><td>2</td><td>0.0</td><td>0</td><td>2021-09-01 00:00:00</td><td>0</td><td>2</td><td>1</td><td>2021-09-01</td><td>2021</td><td>3</td><td>9</td><td>35</td><td>0</td><td>244</td><td>1</td><td>3</td><td>17</td><td>166.4</td><td>2</td><td>2021-09-02</td><td>45.62</td><td>46.29</td><td>2</td><td>45.955</td><td>2021-09-02 00:00:00</td><td>96.99</td><td>2</td><td>13.815385</td><td>10.6</td><td>0.0</td><td>0.0</td><td>1011.569231</td><td>42.461538</td><td>44.153846</td><td>2.923077</td><td>3.384615</td><td>5.619658</td><td>341.384615</td><td>0.0</td><td>0.0</td><td>0.0</td><td>59.492308</td><td>24.584615</td><td>1.0</td></tr><tr><td>0</td><td>0</td><td>2</td><td>17.314</td><td>1</td><td>2021-09-01 00:00:00</td><td>0</td><td>3</td><td>1</td><td>2021-09-01</td><td>2021</td><td>3</td><td>9</td><td>35</td><td>0</td><td>244</td><td>1</td><td>3</td><td>17</td><td>166.4</td><td>2</td><td>2021-09-02</td><td>45.62</td><td>46.29</td><td>2</td><td>45.955</td><td>2021-09-02 00:00:00</td><td>96.99</td><td>2</td><td>13.815385</td><td>10.6</td><td>0.0</td><td>0.0</td><td>1011.569231</td><td>42.461538</td><td>44.153846</td><td>2.923077</td><td>3.384615</td><td>5.619658</td><td>341.384615</td><td>0.0</td><td>0.0</td><td>0.0</td><td>59.492308</td><td>24.584615</td><td>1.0</td></tr><tr><td>0</td><td>0</td><td>3</td><td>2.904</td><td>0</td><td>2021-09-01 00:00:00</td><td>0</td><td>4</td><td>2</td><td>2021-09-01</td><td>2021</td><td>3</td><td>9</td><td>35</td><td>0</td><td>244</td><td>1</td><td>3</td><td>688</td><td>7207.88</td><td>2</td><td>2021-09-02</td><td>45.62</td><td>46.29</td><td>2</td><td>45.955</td><td>2021-09-02 00:00:00</td><td>96.99</td><td>2</td><td>13.815385</td><td>10.6</td><td>0.0</td><td>0.0</td><td>1011.569231</td><td>42.461538</td><td>44.153846</td><td>2.923077</td><td>3.384615</td><td>5.619658</td><td>341.384615</td><td>0.0</td><td>0.0</td><td>0.0</td><td>59.492308</td><td>24.584615</td><td>1.0</td></tr></tbody></table></div>"
      ],
      "text/plain": [
       "shape: (5, 46)\n",
       "┌────────┬────────────┬────────────┬────────┬───┬────────────┬────────────┬────────────┬───────────┐\n",
       "│ county ┆ is_busines ┆ product_ty ┆ target ┆ … ┆ diffuse_ra ┆ latitude_h ┆ longitude_ ┆ data_bloc │\n",
       "│ ---    ┆ s          ┆ pe         ┆ ---    ┆   ┆ diation_hw ┆ w          ┆ hw         ┆ k_id_hw   │\n",
       "│ i64    ┆ ---        ┆ ---        ┆ f64    ┆   ┆ ---        ┆ ---        ┆ ---        ┆ ---       │\n",
       "│        ┆ i64        ┆ i64        ┆        ┆   ┆ f64        ┆ f64        ┆ f64        ┆ f64       │\n",
       "╞════════╪════════════╪════════════╪════════╪═══╪════════════╪════════════╪════════════╪═══════════╡\n",
       "│ 0      ┆ 0          ┆ 1          ┆ 0.713  ┆ … ┆ 0.0        ┆ 59.492308  ┆ 24.584615  ┆ 1.0       │\n",
       "│ 0      ┆ 0          ┆ 1          ┆ 96.59  ┆ … ┆ 0.0        ┆ 59.492308  ┆ 24.584615  ┆ 1.0       │\n",
       "│ 0      ┆ 0          ┆ 2          ┆ 0.0    ┆ … ┆ 0.0        ┆ 59.492308  ┆ 24.584615  ┆ 1.0       │\n",
       "│ 0      ┆ 0          ┆ 2          ┆ 17.314 ┆ … ┆ 0.0        ┆ 59.492308  ┆ 24.584615  ┆ 1.0       │\n",
       "│ 0      ┆ 0          ┆ 3          ┆ 2.904  ┆ … ┆ 0.0        ┆ 59.492308  ┆ 24.584615  ┆ 1.0       │\n",
       "└────────┴────────────┴────────────┴────────┴───┴────────────┴────────────┴────────────┴───────────┘"
      ]
     },
     "execution_count": 4,
     "metadata": {},
     "output_type": "execute_result"
    }
   ],
   "source": [
    "data_file = Path(\"../data/processed_data/proccessed_data.csv\")\n",
    "\n",
    "data = pl.read_csv(data_file, try_parse_dates=True)\n",
    "data.head()"
   ]
  },
  {
   "cell_type": "code",
   "execution_count": 7,
   "metadata": {},
   "outputs": [
    {
     "data": {
      "text/plain": [
       "{'whiskers': [<matplotlib.lines.Line2D at 0x720942de1f90>,\n",
       "  <matplotlib.lines.Line2D at 0x720942de20d0>],\n",
       " 'caps': [<matplotlib.lines.Line2D at 0x720942de2210>,\n",
       "  <matplotlib.lines.Line2D at 0x720942de2350>],\n",
       " 'boxes': [<matplotlib.lines.Line2D at 0x720942de1e50>],\n",
       " 'medians': [<matplotlib.lines.Line2D at 0x720942de2490>],\n",
       " 'fliers': [<matplotlib.lines.Line2D at 0x720942de25d0>],\n",
       " 'means': []}"
      ]
     },
     "execution_count": 7,
     "metadata": {},
     "output_type": "execute_result"
    },
    {
     "data": {
      "image/png": "[encoded data removed]",
      "text/plain": [
       "<Figure size 640x480 with 1 Axes>"
      ]
     },
     "metadata": {},
     "output_type": "display_data"
    }
   ],
   "source": [
    "plt.boxplot(data[\"product_type\"])"
   ]
  }
 ],
 "metadata": {
  "kernelspec": {
   "display_name": ".venv",
   "language": "python",
   "name": "python3"
  },
  "language_info": {
   "codemirror_mode": {
    "name": "ipython",
    "version": 3
   },
   "file_extension": ".py",
   "mimetype": "text/x-python",
   "name": "python",
   "nbconvert_exporter": "python",
   "pygments_lexer": "ipython3",
   "version": "3.13.2"
  }
 },
 "nbformat": 4,
 "nbformat_minor": 2
}
