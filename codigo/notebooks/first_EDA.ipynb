{
 "cells": [
  {
   "cell_type": "markdown",
   "id": "11ea0cf7",
   "metadata": {},
   "source": [
    "# Primer Analisis exploratório de los Datos\n",
    "En este primer cuaderno se realizará un primer analisis de los datos de forma individual, con el fin de comprender su estructura y poder determinar el curso de acción durante el procesamiento de los datos.\n",
    "\n",
    "## Archivos\n",
    "Los datos se componen de 7 diferentes archivos CSV, los cuales proporcionan datos tanto del clima como de los diferentes usuarios y sus hábitos de generación y consumo de energía.\n",
    "\n",
    "Los diferentes archivos se encuentran en una única carpeta llamada \"data\" los cuales serán leidos secuencialmente y se obtendrán datos esenciales sobre los tipos de datos que contienen y sus estadísticas. "
   ]
  },
  {
   "cell_type": "markdown",
   "id": "93976fba",
   "metadata": {
    "vscode": {
     "languageId": "plaintext"
    }
   },
   "source": [
    "# Imports\n",
    "Se listan los paquetes necesários para el análisis de los datos."
   ]
  },
  {
   "cell_type": "code",
   "execution_count": 9,
   "id": "0dd5ebf5",
   "metadata": {},
   "outputs": [],
   "source": [
    "import polars as pl\n",
    "import matplotlib.pyplot as plt\n",
    "from pathlib import Path\n",
    "import numpy as np\n",
    "from IPython.display import Markdown, display"
   ]
  },
  {
   "cell_type": "markdown",
   "id": "3cca017d",
   "metadata": {},
   "source": [
    "# Funciones\n",
    "A continuación se escriben las funciones necesárias para el análisis de los datos."
   ]
  },
  {
   "cell_type": "code",
   "execution_count": 10,
   "id": "be793e0c",
   "metadata": {},
   "outputs": [],
   "source": [
    "def display_column(col: pl.Series):\n",
    "    dtype = col.dtype\n",
    "    display(Markdown(f\"**{col.name}:**\\t{dtype}\"))\n",
    "\n",
    "    numeric_types = [pl.Int64, pl.Float64]\n",
    "    date_types = [pl.Date, pl.Datetime]\n",
    "\n",
    "    print(f\"\\tcount: {col.count()}\")\n",
    "    print(f\"\\tnº nulls: {col.null_count()}\")\n",
    "    if dtype in numeric_types or dtype in date_types:\n",
    "        print(f\"\\tmin: {col.min()}\")\n",
    "        print(f\"\\tmax: {col.max()}\")\n",
    "\n",
    "        if dtype in numeric_types:\n",
    "            print(f\"\\tmean: {col.mean()}\")\n",
    "            print(f\"\\tstd: {col.std()}\")\n",
    "    \n",
    "    elif dtype == pl.Categorical:\n",
    "        print(f\"\\tvalues: {col.unique()}\")\n",
    "            \n",
    "    \n",
    "\n",
    "def describe_data(df: pl.DataFrame):\n",
    "    display(df.head(3))\n",
    "    for column in df.columns:\n",
    "        display_column(df.get_column(column))\n",
    "\n",
    "def describe_full_data(data_folder: Path):\n",
    "    files = data_folder.glob(\"*.csv\")\n",
    "\n",
    "    for file in files:\n",
    "        display(Markdown(f\"### {file.name}\"))\n",
    "        data = pl.read_csv(file, try_parse_dates=True)\n",
    "        describe_data(data)\n"
   ]
  },
  {
   "cell_type": "code",
   "execution_count": 11,
   "id": "68a874ef",
   "metadata": {},
   "outputs": [
    {
     "data": {
      "text/plain": [
       "WindowsPath('D:/Clases/4o Curso/2o Cuatrimestre/TFG/TFG-ProduccionElectrica/codigo/data')"
      ]
     },
     "execution_count": 11,
     "metadata": {},
     "output_type": "execute_result"
    }
   ],
   "source": [
    "data_path = Path(\"../data/\").resolve()\n",
    "data_path"
   ]
  },
  {
   "cell_type": "code",
   "execution_count": 12,
   "id": "4d7a124e",
   "metadata": {},
   "outputs": [
    {
     "data": {
      "text/markdown": [
       "### client.csv"
      ],
      "text/plain": [
       "<IPython.core.display.Markdown object>"
      ]
     },
     "metadata": {},
     "output_type": "display_data"
    },
    {
     "data": {
      "text/html": [
       "<div><style>\n",
       ".dataframe > thead > tr,\n",
       ".dataframe > tbody > tr {\n",
       "  text-align: right;\n",
       "  white-space: pre-wrap;\n",
       "}\n",
       "</style>\n",
       "<small>shape: (3, 7)</small><table border=\"1\" class=\"dataframe\"><thead><tr><th>product_type</th><th>county</th><th>eic_count</th><th>installed_capacity</th><th>is_business</th><th>date</th><th>data_block_id</th></tr><tr><td>i64</td><td>i64</td><td>i64</td><td>f64</td><td>i64</td><td>date</td><td>i64</td></tr></thead><tbody><tr><td>1</td><td>0</td><td>108</td><td>952.89</td><td>0</td><td>2021-09-01</td><td>2</td></tr><tr><td>2</td><td>0</td><td>17</td><td>166.4</td><td>0</td><td>2021-09-01</td><td>2</td></tr><tr><td>3</td><td>0</td><td>688</td><td>7207.88</td><td>0</td><td>2021-09-01</td><td>2</td></tr></tbody></table></div>"
      ],
      "text/plain": [
       "shape: (3, 7)\n",
       "┌──────────────┬────────┬───────────┬───────────────────┬─────────────┬────────────┬───────────────┐\n",
       "│ product_type ┆ county ┆ eic_count ┆ installed_capacit ┆ is_business ┆ date       ┆ data_block_id │\n",
       "│ ---          ┆ ---    ┆ ---       ┆ y                 ┆ ---         ┆ ---        ┆ ---           │\n",
       "│ i64          ┆ i64    ┆ i64       ┆ ---               ┆ i64         ┆ date       ┆ i64           │\n",
       "│              ┆        ┆           ┆ f64               ┆             ┆            ┆               │\n",
       "╞══════════════╪════════╪═══════════╪═══════════════════╪═════════════╪════════════╪═══════════════╡\n",
       "│ 1            ┆ 0      ┆ 108       ┆ 952.89            ┆ 0           ┆ 2021-09-01 ┆ 2             │\n",
       "│ 2            ┆ 0      ┆ 17        ┆ 166.4             ┆ 0           ┆ 2021-09-01 ┆ 2             │\n",
       "│ 3            ┆ 0      ┆ 688       ┆ 7207.88           ┆ 0           ┆ 2021-09-01 ┆ 2             │\n",
       "└──────────────┴────────┴───────────┴───────────────────┴─────────────┴────────────┴───────────────┘"
      ]
     },
     "metadata": {},
     "output_type": "display_data"
    },
    {
     "data": {
      "text/markdown": [
       "**product_type:**\tInt64"
      ],
      "text/plain": [
       "<IPython.core.display.Markdown object>"
      ]
     },
     "metadata": {},
     "output_type": "display_data"
    },
    {
     "name": "stdout",
     "output_type": "stream",
     "text": [
      "\tcount: 41919\n",
      "\tnº nulls: 0\n",
      "\tmin: 0\n",
      "\tmax: 3\n",
      "\tmean: 1.8989956821489062\n",
      "\tstd: 1.0817126643589838\n"
     ]
    },
    {
     "data": {
      "text/markdown": [
       "**county:**\tInt64"
      ],
      "text/plain": [
       "<IPython.core.display.Markdown object>"
      ]
     },
     "metadata": {},
     "output_type": "display_data"
    },
    {
     "name": "stdout",
     "output_type": "stream",
     "text": [
      "\tcount: 41919\n",
      "\tnº nulls: 0\n",
      "\tmin: 0\n",
      "\tmax: 15\n",
      "\tmean: 7.297096781888881\n",
      "\tstd: 4.780750373851959\n"
     ]
    },
    {
     "data": {
      "text/markdown": [
       "**eic_count:**\tInt64"
      ],
      "text/plain": [
       "<IPython.core.display.Markdown object>"
      ]
     },
     "metadata": {},
     "output_type": "display_data"
    },
    {
     "name": "stdout",
     "output_type": "stream",
     "text": [
      "\tcount: 41919\n",
      "\tnº nulls: 0\n",
      "\tmin: 5\n",
      "\tmax: 1517\n",
      "\tmean: 73.34511796560032\n",
      "\tstd: 144.0643893026519\n"
     ]
    },
    {
     "data": {
      "text/markdown": [
       "**installed_capacity:**\tFloat64"
      ],
      "text/plain": [
       "<IPython.core.display.Markdown object>"
      ]
     },
     "metadata": {},
     "output_type": "display_data"
    },
    {
     "name": "stdout",
     "output_type": "stream",
     "text": [
      "\tcount: 41919\n",
      "\tnº nulls: 0\n",
      "\tmin: 5.5\n",
      "\tmax: 19314.31\n",
      "\tmean: 1450.771451370499\n",
      "\tstd: 2422.233120188548\n"
     ]
    },
    {
     "data": {
      "text/markdown": [
       "**is_business:**\tInt64"
      ],
      "text/plain": [
       "<IPython.core.display.Markdown object>"
      ]
     },
     "metadata": {},
     "output_type": "display_data"
    },
    {
     "name": "stdout",
     "output_type": "stream",
     "text": [
      "\tcount: 41919\n",
      "\tnº nulls: 0\n",
      "\tmin: 0\n",
      "\tmax: 1\n",
      "\tmean: 0.5367733008898113\n",
      "\tstd: 0.49865183856739687\n"
     ]
    },
    {
     "data": {
      "text/markdown": [
       "**date:**\tDate"
      ],
      "text/plain": [
       "<IPython.core.display.Markdown object>"
      ]
     },
     "metadata": {},
     "output_type": "display_data"
    },
    {
     "name": "stdout",
     "output_type": "stream",
     "text": [
      "\tcount: 41919\n",
      "\tnº nulls: 0\n",
      "\tmin: 2021-09-01\n",
      "\tmax: 2023-05-29\n"
     ]
    },
    {
     "data": {
      "text/markdown": [
       "**data_block_id:**\tInt64"
      ],
      "text/plain": [
       "<IPython.core.display.Markdown object>"
      ]
     },
     "metadata": {},
     "output_type": "display_data"
    },
    {
     "name": "stdout",
     "output_type": "stream",
     "text": [
      "\tcount: 41919\n",
      "\tnº nulls: 0\n",
      "\tmin: 2\n",
      "\tmax: 637\n",
      "\tmean: 322.8988764044944\n",
      "\tstd: 182.07572371646717\n"
     ]
    },
    {
     "data": {
      "text/markdown": [
       "### electricity_prices.csv"
      ],
      "text/plain": [
       "<IPython.core.display.Markdown object>"
      ]
     },
     "metadata": {},
     "output_type": "display_data"
    },
    {
     "data": {
      "text/html": [
       "<div><style>\n",
       ".dataframe > thead > tr,\n",
       ".dataframe > tbody > tr {\n",
       "  text-align: right;\n",
       "  white-space: pre-wrap;\n",
       "}\n",
       "</style>\n",
       "<small>shape: (3, 4)</small><table border=\"1\" class=\"dataframe\"><thead><tr><th>forecast_date</th><th>euros_per_mwh</th><th>origin_date</th><th>data_block_id</th></tr><tr><td>datetime[μs]</td><td>f64</td><td>datetime[μs]</td><td>i64</td></tr></thead><tbody><tr><td>2021-09-01 00:00:00</td><td>92.51</td><td>2021-08-31 00:00:00</td><td>1</td></tr><tr><td>2021-09-01 01:00:00</td><td>88.9</td><td>2021-08-31 01:00:00</td><td>1</td></tr><tr><td>2021-09-01 02:00:00</td><td>87.35</td><td>2021-08-31 02:00:00</td><td>1</td></tr></tbody></table></div>"
      ],
      "text/plain": [
       "shape: (3, 4)\n",
       "┌─────────────────────┬───────────────┬─────────────────────┬───────────────┐\n",
       "│ forecast_date       ┆ euros_per_mwh ┆ origin_date         ┆ data_block_id │\n",
       "│ ---                 ┆ ---           ┆ ---                 ┆ ---           │\n",
       "│ datetime[μs]        ┆ f64           ┆ datetime[μs]        ┆ i64           │\n",
       "╞═════════════════════╪═══════════════╪═════════════════════╪═══════════════╡\n",
       "│ 2021-09-01 00:00:00 ┆ 92.51         ┆ 2021-08-31 00:00:00 ┆ 1             │\n",
       "│ 2021-09-01 01:00:00 ┆ 88.9          ┆ 2021-08-31 01:00:00 ┆ 1             │\n",
       "│ 2021-09-01 02:00:00 ┆ 87.35         ┆ 2021-08-31 02:00:00 ┆ 1             │\n",
       "└─────────────────────┴───────────────┴─────────────────────┴───────────────┘"
      ]
     },
     "metadata": {},
     "output_type": "display_data"
    },
    {
     "data": {
      "text/markdown": [
       "**forecast_date:**\tDatetime(time_unit='us', time_zone=None)"
      ],
      "text/plain": [
       "<IPython.core.display.Markdown object>"
      ]
     },
     "metadata": {},
     "output_type": "display_data"
    },
    {
     "name": "stdout",
     "output_type": "stream",
     "text": [
      "\tcount: 15286\n",
      "\tnº nulls: 0\n",
      "\tmin: 2021-09-01 00:00:00\n",
      "\tmax: 2023-05-30 23:00:00\n"
     ]
    },
    {
     "data": {
      "text/markdown": [
       "**euros_per_mwh:**\tFloat64"
      ],
      "text/plain": [
       "<IPython.core.display.Markdown object>"
      ]
     },
     "metadata": {},
     "output_type": "display_data"
    },
    {
     "name": "stdout",
     "output_type": "stream",
     "text": [
      "\tcount: 15286\n",
      "\tnº nulls: 0\n",
      "\tmin: -10.06\n",
      "\tmax: 4000.0\n",
      "\tmean: 157.06417571634174\n",
      "\tstd: 121.14862497158866\n"
     ]
    },
    {
     "data": {
      "text/markdown": [
       "**origin_date:**\tDatetime(time_unit='us', time_zone=None)"
      ],
      "text/plain": [
       "<IPython.core.display.Markdown object>"
      ]
     },
     "metadata": {},
     "output_type": "display_data"
    },
    {
     "name": "stdout",
     "output_type": "stream",
     "text": [
      "\tcount: 15286\n",
      "\tnº nulls: 0\n",
      "\tmin: 2021-08-31 00:00:00\n",
      "\tmax: 2023-05-29 23:00:00\n"
     ]
    },
    {
     "data": {
      "text/markdown": [
       "**data_block_id:**\tInt64"
      ],
      "text/plain": [
       "<IPython.core.display.Markdown object>"
      ]
     },
     "metadata": {},
     "output_type": "display_data"
    },
    {
     "name": "stdout",
     "output_type": "stream",
     "text": [
      "\tcount: 15286\n",
      "\tnº nulls: 0\n",
      "\tmin: 1\n",
      "\tmax: 637\n",
      "\tmean: 318.9907104540102\n",
      "\tstd: 183.89030108081295\n"
     ]
    },
    {
     "data": {
      "text/markdown": [
       "### forecast_weather.csv"
      ],
      "text/plain": [
       "<IPython.core.display.Markdown object>"
      ]
     },
     "metadata": {},
     "output_type": "display_data"
    },
    {
     "data": {
      "text/html": [
       "<div><style>\n",
       ".dataframe > thead > tr,\n",
       ".dataframe > tbody > tr {\n",
       "  text-align: right;\n",
       "  white-space: pre-wrap;\n",
       "}\n",
       "</style>\n",
       "<small>shape: (3, 18)</small><table border=\"1\" class=\"dataframe\"><thead><tr><th>latitude</th><th>longitude</th><th>origin_datetime</th><th>hours_ahead</th><th>temperature</th><th>dewpoint</th><th>cloudcover_high</th><th>cloudcover_low</th><th>cloudcover_mid</th><th>cloudcover_total</th><th>10_metre_u_wind_component</th><th>10_metre_v_wind_component</th><th>data_block_id</th><th>forecast_datetime</th><th>direct_solar_radiation</th><th>surface_solar_radiation_downwards</th><th>snowfall</th><th>total_precipitation</th></tr><tr><td>f64</td><td>f64</td><td>datetime[μs]</td><td>i64</td><td>f64</td><td>f64</td><td>f64</td><td>f64</td><td>f64</td><td>f64</td><td>f64</td><td>f64</td><td>i64</td><td>datetime[μs]</td><td>f64</td><td>f64</td><td>f64</td><td>f64</td></tr></thead><tbody><tr><td>57.6</td><td>21.7</td><td>2021-09-01 02:00:00</td><td>1</td><td>15.655786</td><td>11.553613</td><td>0.904816</td><td>0.019714</td><td>0.0</td><td>0.905899</td><td>-0.411328</td><td>-9.106137</td><td>1</td><td>2021-09-01 03:00:00</td><td>0.0</td><td>0.0</td><td>0.0</td><td>0.0</td></tr><tr><td>57.6</td><td>22.2</td><td>2021-09-01 02:00:00</td><td>1</td><td>13.003931</td><td>10.689844</td><td>0.886322</td><td>0.004456</td><td>0.0</td><td>0.886658</td><td>0.206347</td><td>-5.355405</td><td>1</td><td>2021-09-01 03:00:00</td><td>0.0</td><td>0.0</td><td>0.0</td><td>0.0</td></tr><tr><td>57.6</td><td>22.7</td><td>2021-09-01 02:00:00</td><td>1</td><td>14.206567</td><td>11.671777</td><td>0.729034</td><td>0.005615</td><td>0.0</td><td>0.730499</td><td>1.451587</td><td>-7.417905</td><td>1</td><td>2021-09-01 03:00:00</td><td>0.0</td><td>0.0</td><td>0.0</td><td>0.0</td></tr></tbody></table></div>"
      ],
      "text/plain": [
       "shape: (3, 18)\n",
       "┌──────────┬───────────┬────────────┬───────────┬───┬───────────┬───────────┬──────────┬───────────┐\n",
       "│ latitude ┆ longitude ┆ origin_dat ┆ hours_ahe ┆ … ┆ direct_so ┆ surface_s ┆ snowfall ┆ total_pre │\n",
       "│ ---      ┆ ---       ┆ etime      ┆ ad        ┆   ┆ lar_radia ┆ olar_radi ┆ ---      ┆ cipitatio │\n",
       "│ f64      ┆ f64       ┆ ---        ┆ ---       ┆   ┆ tion      ┆ ation_dow ┆ f64      ┆ n         │\n",
       "│          ┆           ┆ datetime[μ ┆ i64       ┆   ┆ ---       ┆ nwa…      ┆          ┆ ---       │\n",
       "│          ┆           ┆ s]         ┆           ┆   ┆ f64       ┆ ---       ┆          ┆ f64       │\n",
       "│          ┆           ┆            ┆           ┆   ┆           ┆ f64       ┆          ┆           │\n",
       "╞══════════╪═══════════╪════════════╪═══════════╪═══╪═══════════╪═══════════╪══════════╪═══════════╡\n",
       "│ 57.6     ┆ 21.7      ┆ 2021-09-01 ┆ 1         ┆ … ┆ 0.0       ┆ 0.0       ┆ 0.0      ┆ 0.0       │\n",
       "│          ┆           ┆ 02:00:00   ┆           ┆   ┆           ┆           ┆          ┆           │\n",
       "│ 57.6     ┆ 22.2      ┆ 2021-09-01 ┆ 1         ┆ … ┆ 0.0       ┆ 0.0       ┆ 0.0      ┆ 0.0       │\n",
       "│          ┆           ┆ 02:00:00   ┆           ┆   ┆           ┆           ┆          ┆           │\n",
       "│ 57.6     ┆ 22.7      ┆ 2021-09-01 ┆ 1         ┆ … ┆ 0.0       ┆ 0.0       ┆ 0.0      ┆ 0.0       │\n",
       "│          ┆           ┆ 02:00:00   ┆           ┆   ┆           ┆           ┆          ┆           │\n",
       "└──────────┴───────────┴────────────┴───────────┴───┴───────────┴───────────┴──────────┴───────────┘"
      ]
     },
     "metadata": {},
     "output_type": "display_data"
    },
    {
     "data": {
      "text/markdown": [
       "**latitude:**\tFloat64"
      ],
      "text/plain": [
       "<IPython.core.display.Markdown object>"
      ]
     },
     "metadata": {},
     "output_type": "display_data"
    },
    {
     "name": "stdout",
     "output_type": "stream",
     "text": [
      "\tcount: 3424512\n",
      "\tnº nulls: 0\n",
      "\tmin: 57.6\n",
      "\tmax: 59.7\n",
      "\tmean: 58.650000000000006\n",
      "\tstd: 0.6873864546060713\n"
     ]
    },
    {
     "data": {
      "text/markdown": [
       "**longitude:**\tFloat64"
      ],
      "text/plain": [
       "<IPython.core.display.Markdown object>"
      ]
     },
     "metadata": {},
     "output_type": "display_data"
    },
    {
     "name": "stdout",
     "output_type": "stream",
     "text": [
      "\tcount: 3424512\n",
      "\tnº nulls: 0\n",
      "\tmin: 21.7\n",
      "\tmax: 28.2\n",
      "\tmean: 24.94999999999998\n",
      "\tstd: 2.015564731359616\n"
     ]
    },
    {
     "data": {
      "text/markdown": [
       "**origin_datetime:**\tDatetime(time_unit='us', time_zone=None)"
      ],
      "text/plain": [
       "<IPython.core.display.Markdown object>"
      ]
     },
     "metadata": {},
     "output_type": "display_data"
    },
    {
     "name": "stdout",
     "output_type": "stream",
     "text": [
      "\tcount: 3424512\n",
      "\tnº nulls: 0\n",
      "\tmin: 2021-09-01 02:00:00\n",
      "\tmax: 2023-05-30 02:00:00\n"
     ]
    },
    {
     "data": {
      "text/markdown": [
       "**hours_ahead:**\tInt64"
      ],
      "text/plain": [
       "<IPython.core.display.Markdown object>"
      ]
     },
     "metadata": {},
     "output_type": "display_data"
    },
    {
     "name": "stdout",
     "output_type": "stream",
     "text": [
      "\tcount: 3424512\n",
      "\tnº nulls: 0\n",
      "\tmin: 1\n",
      "\tmax: 48\n",
      "\tmean: 24.5\n",
      "\tstd: 13.853401124226906\n"
     ]
    },
    {
     "data": {
      "text/markdown": [
       "**temperature:**\tFloat64"
      ],
      "text/plain": [
       "<IPython.core.display.Markdown object>"
      ]
     },
     "metadata": {},
     "output_type": "display_data"
    },
    {
     "name": "stdout",
     "output_type": "stream",
     "text": [
      "\tcount: 3424512\n",
      "\tnº nulls: 0\n",
      "\tmin: -27.499395751953102\n",
      "\tmax: 31.810693359375023\n",
      "\tmean: 5.743912920130573\n",
      "\tstd: 7.844205564571225\n"
     ]
    },
    {
     "data": {
      "text/markdown": [
       "**dewpoint:**\tFloat64"
      ],
      "text/plain": [
       "<IPython.core.display.Markdown object>"
      ]
     },
     "metadata": {},
     "output_type": "display_data"
    },
    {
     "name": "stdout",
     "output_type": "stream",
     "text": [
      "\tcount: 3424512\n",
      "\tnº nulls: 0\n",
      "\tmin: -29.683569335937477\n",
      "\tmax: 23.680566406250023\n",
      "\tmean: 2.411946331585833\n",
      "\tstd: 7.121431885390269\n"
     ]
    },
    {
     "data": {
      "text/markdown": [
       "**cloudcover_high:**\tFloat64"
      ],
      "text/plain": [
       "<IPython.core.display.Markdown object>"
      ]
     },
     "metadata": {},
     "output_type": "display_data"
    },
    {
     "name": "stdout",
     "output_type": "stream",
     "text": [
      "\tcount: 3424512\n",
      "\tnº nulls: 0\n",
      "\tmin: 0.0\n",
      "\tmax: 1.0000076293945312\n",
      "\tmean: 0.39466538707738674\n",
      "\tstd: 0.44404250997993655\n"
     ]
    },
    {
     "data": {
      "text/markdown": [
       "**cloudcover_low:**\tFloat64"
      ],
      "text/plain": [
       "<IPython.core.display.Markdown object>"
      ]
     },
     "metadata": {},
     "output_type": "display_data"
    },
    {
     "name": "stdout",
     "output_type": "stream",
     "text": [
      "\tcount: 3424512\n",
      "\tnº nulls: 0\n",
      "\tmin: 0.0\n",
      "\tmax: 1.0000076293945312\n",
      "\tmean: 0.43464533793686067\n",
      "\tstd: 0.4386346186601451\n"
     ]
    },
    {
     "data": {
      "text/markdown": [
       "**cloudcover_mid:**\tFloat64"
      ],
      "text/plain": [
       "<IPython.core.display.Markdown object>"
      ]
     },
     "metadata": {},
     "output_type": "display_data"
    },
    {
     "name": "stdout",
     "output_type": "stream",
     "text": [
      "\tcount: 3424512\n",
      "\tnº nulls: 0\n",
      "\tmin: 0.0\n",
      "\tmax: 1.0000076293945312\n",
      "\tmean: 0.35906934760703196\n",
      "\tstd: 0.42015560381711575\n"
     ]
    },
    {
     "data": {
      "text/markdown": [
       "**cloudcover_total:**\tFloat64"
      ],
      "text/plain": [
       "<IPython.core.display.Markdown object>"
      ]
     },
     "metadata": {},
     "output_type": "display_data"
    },
    {
     "name": "stdout",
     "output_type": "stream",
     "text": [
      "\tcount: 3424512\n",
      "\tnº nulls: 0\n",
      "\tmin: 0.0\n",
      "\tmax: 1.0000076293945312\n",
      "\tmean: 0.6819927145740771\n",
      "\tstd: 0.40096288460112794\n"
     ]
    },
    {
     "data": {
      "text/markdown": [
       "**10_metre_u_wind_component:**\tFloat64"
      ],
      "text/plain": [
       "<IPython.core.display.Markdown object>"
      ]
     },
     "metadata": {},
     "output_type": "display_data"
    },
    {
     "name": "stdout",
     "output_type": "stream",
     "text": [
      "\tcount: 3424512\n",
      "\tnº nulls: 0\n",
      "\tmin: -17.577178955078125\n",
      "\tmax: 22.573198318481445\n",
      "\tmean: 1.255446288060258\n",
      "\tstd: 3.9953004119000584\n"
     ]
    },
    {
     "data": {
      "text/markdown": [
       "**10_metre_v_wind_component:**\tFloat64"
      ],
      "text/plain": [
       "<IPython.core.display.Markdown object>"
      ]
     },
     "metadata": {},
     "output_type": "display_data"
    },
    {
     "name": "stdout",
     "output_type": "stream",
     "text": [
      "\tcount: 3424512\n",
      "\tnº nulls: 0\n",
      "\tmin: -22.116119384765625\n",
      "\tmax: 19.314369201660156\n",
      "\tmean: 0.7250110057142549\n",
      "\tstd: 4.223751603346017\n"
     ]
    },
    {
     "data": {
      "text/markdown": [
       "**data_block_id:**\tInt64"
      ],
      "text/plain": [
       "<IPython.core.display.Markdown object>"
      ]
     },
     "metadata": {},
     "output_type": "display_data"
    },
    {
     "name": "stdout",
     "output_type": "stream",
     "text": [
      "\tcount: 3424512\n",
      "\tnº nulls: 0\n",
      "\tmin: 1\n",
      "\tmax: 637\n",
      "\tmean: 319.0\n",
      "\tstd: 183.88586099564722\n"
     ]
    },
    {
     "data": {
      "text/markdown": [
       "**forecast_datetime:**\tDatetime(time_unit='us', time_zone=None)"
      ],
      "text/plain": [
       "<IPython.core.display.Markdown object>"
      ]
     },
     "metadata": {},
     "output_type": "display_data"
    },
    {
     "name": "stdout",
     "output_type": "stream",
     "text": [
      "\tcount: 3424512\n",
      "\tnº nulls: 0\n",
      "\tmin: 2021-09-01 03:00:00\n",
      "\tmax: 2023-06-01 02:00:00\n"
     ]
    },
    {
     "data": {
      "text/markdown": [
       "**direct_solar_radiation:**\tFloat64"
      ],
      "text/plain": [
       "<IPython.core.display.Markdown object>"
      ]
     },
     "metadata": {},
     "output_type": "display_data"
    },
    {
     "name": "stdout",
     "output_type": "stream",
     "text": [
      "\tcount: 3424512\n",
      "\tnº nulls: 0\n",
      "\tmin: -0.773333333334449\n",
      "\tmax: 954.4222222222215\n",
      "\tmean: 151.1882116442292\n",
      "\tstd: 256.5069027992335\n"
     ]
    },
    {
     "data": {
      "text/markdown": [
       "**surface_solar_radiation_downwards:**\tFloat64"
      ],
      "text/plain": [
       "<IPython.core.display.Markdown object>"
      ]
     },
     "metadata": {},
     "output_type": "display_data"
    },
    {
     "name": "stdout",
     "output_type": "stream",
     "text": [
      "\tcount: 3424510\n",
      "\tnº nulls: 2\n",
      "\tmin: -0.3258333333333212\n",
      "\tmax: 848.7144444444439\n",
      "\tmean: 110.76420663802111\n",
      "\tstd: 187.44437281644247\n"
     ]
    },
    {
     "data": {
      "text/markdown": [
       "**snowfall:**\tFloat64"
      ],
      "text/plain": [
       "<IPython.core.display.Markdown object>"
      ]
     },
     "metadata": {},
     "output_type": "display_data"
    },
    {
     "name": "stdout",
     "output_type": "stream",
     "text": [
      "\tcount: 3424512\n",
      "\tnº nulls: 0\n",
      "\tmin: -3.814697265625e-06\n",
      "\tmax: 0.0048329830169677734\n",
      "\tmean: 2.533922635490404e-05\n",
      "\tstd: 0.0001222840090302696\n"
     ]
    },
    {
     "data": {
      "text/markdown": [
       "**total_precipitation:**\tFloat64"
      ],
      "text/plain": [
       "<IPython.core.display.Markdown object>"
      ]
     },
     "metadata": {},
     "output_type": "display_data"
    },
    {
     "name": "stdout",
     "output_type": "stream",
     "text": [
      "\tcount: 3424512\n",
      "\tnº nulls: 0\n",
      "\tmin: -1.5290977898985147e-05\n",
      "\tmax: 0.01651620864868164\n",
      "\tmean: 7.863859249567455e-05\n",
      "\tstd: 0.000278087973486791\n"
     ]
    },
    {
     "data": {
      "text/markdown": [
       "### gas_prices.csv"
      ],
      "text/plain": [
       "<IPython.core.display.Markdown object>"
      ]
     },
     "metadata": {},
     "output_type": "display_data"
    },
    {
     "data": {
      "text/html": [
       "<div><style>\n",
       ".dataframe > thead > tr,\n",
       ".dataframe > tbody > tr {\n",
       "  text-align: right;\n",
       "  white-space: pre-wrap;\n",
       "}\n",
       "</style>\n",
       "<small>shape: (3, 5)</small><table border=\"1\" class=\"dataframe\"><thead><tr><th>forecast_date</th><th>lowest_price_per_mwh</th><th>highest_price_per_mwh</th><th>origin_date</th><th>data_block_id</th></tr><tr><td>date</td><td>f64</td><td>f64</td><td>date</td><td>i64</td></tr></thead><tbody><tr><td>2021-09-01</td><td>45.23</td><td>46.32</td><td>2021-08-31</td><td>1</td></tr><tr><td>2021-09-02</td><td>45.62</td><td>46.29</td><td>2021-09-01</td><td>2</td></tr><tr><td>2021-09-03</td><td>45.85</td><td>46.4</td><td>2021-09-02</td><td>3</td></tr></tbody></table></div>"
      ],
      "text/plain": [
       "shape: (3, 5)\n",
       "┌───────────────┬──────────────────────┬───────────────────────┬─────────────┬───────────────┐\n",
       "│ forecast_date ┆ lowest_price_per_mwh ┆ highest_price_per_mwh ┆ origin_date ┆ data_block_id │\n",
       "│ ---           ┆ ---                  ┆ ---                   ┆ ---         ┆ ---           │\n",
       "│ date          ┆ f64                  ┆ f64                   ┆ date        ┆ i64           │\n",
       "╞═══════════════╪══════════════════════╪═══════════════════════╪═════════════╪═══════════════╡\n",
       "│ 2021-09-01    ┆ 45.23                ┆ 46.32                 ┆ 2021-08-31  ┆ 1             │\n",
       "│ 2021-09-02    ┆ 45.62                ┆ 46.29                 ┆ 2021-09-01  ┆ 2             │\n",
       "│ 2021-09-03    ┆ 45.85                ┆ 46.4                  ┆ 2021-09-02  ┆ 3             │\n",
       "└───────────────┴──────────────────────┴───────────────────────┴─────────────┴───────────────┘"
      ]
     },
     "metadata": {},
     "output_type": "display_data"
    },
    {
     "data": {
      "text/markdown": [
       "**forecast_date:**\tDate"
      ],
      "text/plain": [
       "<IPython.core.display.Markdown object>"
      ]
     },
     "metadata": {},
     "output_type": "display_data"
    },
    {
     "name": "stdout",
     "output_type": "stream",
     "text": [
      "\tcount: 637\n",
      "\tnº nulls: 0\n",
      "\tmin: 2021-09-01\n",
      "\tmax: 2023-05-30\n"
     ]
    },
    {
     "data": {
      "text/markdown": [
       "**lowest_price_per_mwh:**\tFloat64"
      ],
      "text/plain": [
       "<IPython.core.display.Markdown object>"
      ]
     },
     "metadata": {},
     "output_type": "display_data"
    },
    {
     "name": "stdout",
     "output_type": "stream",
     "text": [
      "\tcount: 637\n",
      "\tnº nulls: 0\n",
      "\tmin: 28.1\n",
      "\tmax: 250.0\n",
      "\tmean: 95.03675039246471\n",
      "\tstd: 47.55229451330453\n"
     ]
    },
    {
     "data": {
      "text/markdown": [
       "**highest_price_per_mwh:**\tFloat64"
      ],
      "text/plain": [
       "<IPython.core.display.Markdown object>"
      ]
     },
     "metadata": {},
     "output_type": "display_data"
    },
    {
     "name": "stdout",
     "output_type": "stream",
     "text": [
      "\tcount: 637\n",
      "\tnº nulls: 0\n",
      "\tmin: 34.0\n",
      "\tmax: 305.0\n",
      "\tmean: 107.75463108320251\n",
      "\tstd: 54.743666079706344\n"
     ]
    },
    {
     "data": {
      "text/markdown": [
       "**origin_date:**\tDate"
      ],
      "text/plain": [
       "<IPython.core.display.Markdown object>"
      ]
     },
     "metadata": {},
     "output_type": "display_data"
    },
    {
     "name": "stdout",
     "output_type": "stream",
     "text": [
      "\tcount: 637\n",
      "\tnº nulls: 0\n",
      "\tmin: 2021-08-31\n",
      "\tmax: 2023-05-29\n"
     ]
    },
    {
     "data": {
      "text/markdown": [
       "**data_block_id:**\tInt64"
      ],
      "text/plain": [
       "<IPython.core.display.Markdown object>"
      ]
     },
     "metadata": {},
     "output_type": "display_data"
    },
    {
     "name": "stdout",
     "output_type": "stream",
     "text": [
      "\tcount: 637\n",
      "\tnº nulls: 0\n",
      "\tmin: 1\n",
      "\tmax: 637\n",
      "\tmean: 319.0\n",
      "\tstd: 184.03034170121694\n"
     ]
    },
    {
     "data": {
      "text/markdown": [
       "### historical_weather.csv"
      ],
      "text/plain": [
       "<IPython.core.display.Markdown object>"
      ]
     },
     "metadata": {},
     "output_type": "display_data"
    },
    {
     "data": {
      "text/html": [
       "<div><style>\n",
       ".dataframe > thead > tr,\n",
       ".dataframe > tbody > tr {\n",
       "  text-align: right;\n",
       "  white-space: pre-wrap;\n",
       "}\n",
       "</style>\n",
       "<small>shape: (3, 18)</small><table border=\"1\" class=\"dataframe\"><thead><tr><th>datetime</th><th>temperature</th><th>dewpoint</th><th>rain</th><th>snowfall</th><th>surface_pressure</th><th>cloudcover_total</th><th>cloudcover_low</th><th>cloudcover_mid</th><th>cloudcover_high</th><th>windspeed_10m</th><th>winddirection_10m</th><th>shortwave_radiation</th><th>direct_solar_radiation</th><th>diffuse_radiation</th><th>latitude</th><th>longitude</th><th>data_block_id</th></tr><tr><td>datetime[μs]</td><td>f64</td><td>f64</td><td>f64</td><td>f64</td><td>f64</td><td>i64</td><td>i64</td><td>i64</td><td>i64</td><td>f64</td><td>i64</td><td>f64</td><td>f64</td><td>f64</td><td>f64</td><td>f64</td><td>f64</td></tr></thead><tbody><tr><td>2021-09-01 00:00:00</td><td>14.2</td><td>11.6</td><td>0.0</td><td>0.0</td><td>1015.9</td><td>31</td><td>31</td><td>0</td><td>11</td><td>7.083333</td><td>8</td><td>0.0</td><td>0.0</td><td>0.0</td><td>57.6</td><td>21.7</td><td>1.0</td></tr><tr><td>2021-09-01 00:00:00</td><td>13.9</td><td>11.5</td><td>0.0</td><td>0.0</td><td>1010.7</td><td>33</td><td>37</td><td>0</td><td>0</td><td>5.111111</td><td>359</td><td>0.0</td><td>0.0</td><td>0.0</td><td>57.6</td><td>22.2</td><td>1.0</td></tr><tr><td>2021-09-01 00:00:00</td><td>14.0</td><td>12.5</td><td>0.0</td><td>0.0</td><td>1015.0</td><td>31</td><td>34</td><td>0</td><td>0</td><td>6.333333</td><td>355</td><td>0.0</td><td>0.0</td><td>0.0</td><td>57.6</td><td>22.7</td><td>1.0</td></tr></tbody></table></div>"
      ],
      "text/plain": [
       "shape: (3, 18)\n",
       "┌─────────────┬─────────────┬──────────┬──────┬───┬────────────┬──────────┬───────────┬────────────┐\n",
       "│ datetime    ┆ temperature ┆ dewpoint ┆ rain ┆ … ┆ diffuse_ra ┆ latitude ┆ longitude ┆ data_block │\n",
       "│ ---         ┆ ---         ┆ ---      ┆ ---  ┆   ┆ diation    ┆ ---      ┆ ---       ┆ _id        │\n",
       "│ datetime[μs ┆ f64         ┆ f64      ┆ f64  ┆   ┆ ---        ┆ f64      ┆ f64       ┆ ---        │\n",
       "│ ]           ┆             ┆          ┆      ┆   ┆ f64        ┆          ┆           ┆ f64        │\n",
       "╞═════════════╪═════════════╪══════════╪══════╪═══╪════════════╪══════════╪═══════════╪════════════╡\n",
       "│ 2021-09-01  ┆ 14.2        ┆ 11.6     ┆ 0.0  ┆ … ┆ 0.0        ┆ 57.6     ┆ 21.7      ┆ 1.0        │\n",
       "│ 00:00:00    ┆             ┆          ┆      ┆   ┆            ┆          ┆           ┆            │\n",
       "│ 2021-09-01  ┆ 13.9        ┆ 11.5     ┆ 0.0  ┆ … ┆ 0.0        ┆ 57.6     ┆ 22.2      ┆ 1.0        │\n",
       "│ 00:00:00    ┆             ┆          ┆      ┆   ┆            ┆          ┆           ┆            │\n",
       "│ 2021-09-01  ┆ 14.0        ┆ 12.5     ┆ 0.0  ┆ … ┆ 0.0        ┆ 57.6     ┆ 22.7      ┆ 1.0        │\n",
       "│ 00:00:00    ┆             ┆          ┆      ┆   ┆            ┆          ┆           ┆            │\n",
       "└─────────────┴─────────────┴──────────┴──────┴───┴────────────┴──────────┴───────────┴────────────┘"
      ]
     },
     "metadata": {},
     "output_type": "display_data"
    },
    {
     "data": {
      "text/markdown": [
       "**datetime:**\tDatetime(time_unit='us', time_zone=None)"
      ],
      "text/plain": [
       "<IPython.core.display.Markdown object>"
      ]
     },
     "metadata": {},
     "output_type": "display_data"
    },
    {
     "name": "stdout",
     "output_type": "stream",
     "text": [
      "\tcount: 1710802\n",
      "\tnº nulls: 0\n",
      "\tmin: 2021-09-01 00:00:00\n",
      "\tmax: 2023-05-30 10:00:00\n"
     ]
    },
    {
     "data": {
      "text/markdown": [
       "**temperature:**\tFloat64"
      ],
      "text/plain": [
       "<IPython.core.display.Markdown object>"
      ]
     },
     "metadata": {},
     "output_type": "display_data"
    },
    {
     "name": "stdout",
     "output_type": "stream",
     "text": [
      "\tcount: 1710802\n",
      "\tnº nulls: 0\n",
      "\tmin: -23.7\n",
      "\tmax: 32.6\n",
      "\tmean: 5.7409677449523615\n",
      "\tstd: 8.025647396635456\n"
     ]
    },
    {
     "data": {
      "text/markdown": [
       "**dewpoint:**\tFloat64"
      ],
      "text/plain": [
       "<IPython.core.display.Markdown object>"
      ]
     },
     "metadata": {},
     "output_type": "display_data"
    },
    {
     "name": "stdout",
     "output_type": "stream",
     "text": [
      "\tcount: 1710802\n",
      "\tnº nulls: 0\n",
      "\tmin: -25.9\n",
      "\tmax: 23.8\n",
      "\tmean: 2.2403116783824197\n",
      "\tstd: 7.224356820215283\n"
     ]
    },
    {
     "data": {
      "text/markdown": [
       "**rain:**\tFloat64"
      ],
      "text/plain": [
       "<IPython.core.display.Markdown object>"
      ]
     },
     "metadata": {},
     "output_type": "display_data"
    },
    {
     "name": "stdout",
     "output_type": "stream",
     "text": [
      "\tcount: 1710802\n",
      "\tnº nulls: 0\n",
      "\tmin: 0.0\n",
      "\tmax: 16.8\n",
      "\tmean: 0.04962011968655634\n",
      "\tstd: 0.20791129631705607\n"
     ]
    },
    {
     "data": {
      "text/markdown": [
       "**snowfall:**\tFloat64"
      ],
      "text/plain": [
       "<IPython.core.display.Markdown object>"
      ]
     },
     "metadata": {},
     "output_type": "display_data"
    },
    {
     "name": "stdout",
     "output_type": "stream",
     "text": [
      "\tcount: 1710802\n",
      "\tnº nulls: 0\n",
      "\tmin: 0.0\n",
      "\tmax: 2.66\n",
      "\tmean: 0.016048958324809067\n",
      "\tstd: 0.07462935561057461\n"
     ]
    },
    {
     "data": {
      "text/markdown": [
       "**surface_pressure:**\tFloat64"
      ],
      "text/plain": [
       "<IPython.core.display.Markdown object>"
      ]
     },
     "metadata": {},
     "output_type": "display_data"
    },
    {
     "name": "stdout",
     "output_type": "stream",
     "text": [
      "\tcount: 1710802\n",
      "\tnº nulls: 0\n",
      "\tmin: 942.9\n",
      "\tmax: 1049.3\n",
      "\tmean: 1009.2815146346568\n",
      "\tstd: 13.08891494992898\n"
     ]
    },
    {
     "data": {
      "text/markdown": [
       "**cloudcover_total:**\tInt64"
      ],
      "text/plain": [
       "<IPython.core.display.Markdown object>"
      ]
     },
     "metadata": {},
     "output_type": "display_data"
    },
    {
     "name": "stdout",
     "output_type": "stream",
     "text": [
      "\tcount: 1710802\n",
      "\tnº nulls: 0\n",
      "\tmin: 0\n",
      "\tmax: 100\n",
      "\tmean: 60.91269591688577\n",
      "\tstd: 37.76904750088249\n"
     ]
    },
    {
     "data": {
      "text/markdown": [
       "**cloudcover_low:**\tInt64"
      ],
      "text/plain": [
       "<IPython.core.display.Markdown object>"
      ]
     },
     "metadata": {},
     "output_type": "display_data"
    },
    {
     "name": "stdout",
     "output_type": "stream",
     "text": [
      "\tcount: 1710802\n",
      "\tnº nulls: 0\n",
      "\tmin: 0\n",
      "\tmax: 100\n",
      "\tmean: 46.685927418836314\n",
      "\tstd: 40.74759834341767\n"
     ]
    },
    {
     "data": {
      "text/markdown": [
       "**cloudcover_mid:**\tInt64"
      ],
      "text/plain": [
       "<IPython.core.display.Markdown object>"
      ]
     },
     "metadata": {},
     "output_type": "display_data"
    },
    {
     "name": "stdout",
     "output_type": "stream",
     "text": [
      "\tcount: 1710802\n",
      "\tnº nulls: 0\n",
      "\tmin: 0\n",
      "\tmax: 100\n",
      "\tmean: 34.406980468809365\n",
      "\tstd: 38.327692910054715\n"
     ]
    },
    {
     "data": {
      "text/markdown": [
       "**cloudcover_high:**\tInt64"
      ],
      "text/plain": [
       "<IPython.core.display.Markdown object>"
      ]
     },
     "metadata": {},
     "output_type": "display_data"
    },
    {
     "name": "stdout",
     "output_type": "stream",
     "text": [
      "\tcount: 1710802\n",
      "\tnº nulls: 0\n",
      "\tmin: 0\n",
      "\tmax: 100\n",
      "\tmean: 36.051408053065174\n",
      "\tstd: 41.35852074534182\n"
     ]
    },
    {
     "data": {
      "text/markdown": [
       "**windspeed_10m:**\tFloat64"
      ],
      "text/plain": [
       "<IPython.core.display.Markdown object>"
      ]
     },
     "metadata": {},
     "output_type": "display_data"
    },
    {
     "name": "stdout",
     "output_type": "stream",
     "text": [
      "\tcount: 1710802\n",
      "\tnº nulls: 0\n",
      "\tmin: 0.0\n",
      "\tmax: 21.75\n",
      "\tmean: 4.849871385856851\n",
      "\tstd: 2.475450310599722\n"
     ]
    },
    {
     "data": {
      "text/markdown": [
       "**winddirection_10m:**\tInt64"
      ],
      "text/plain": [
       "<IPython.core.display.Markdown object>"
      ]
     },
     "metadata": {},
     "output_type": "display_data"
    },
    {
     "name": "stdout",
     "output_type": "stream",
     "text": [
      "\tcount: 1710802\n",
      "\tnº nulls: 0\n",
      "\tmin: 0\n",
      "\tmax: 360\n",
      "\tmean: 197.86941913792478\n",
      "\tstd: 89.9379784466276\n"
     ]
    },
    {
     "data": {
      "text/markdown": [
       "**shortwave_radiation:**\tFloat64"
      ],
      "text/plain": [
       "<IPython.core.display.Markdown object>"
      ]
     },
     "metadata": {},
     "output_type": "display_data"
    },
    {
     "name": "stdout",
     "output_type": "stream",
     "text": [
      "\tcount: 1710802\n",
      "\tnº nulls: 0\n",
      "\tmin: 0.0\n",
      "\tmax: 849.0\n",
      "\tmean: 106.49050445346685\n",
      "\tstd: 179.94491172141247\n"
     ]
    },
    {
     "data": {
      "text/markdown": [
       "**direct_solar_radiation:**\tFloat64"
      ],
      "text/plain": [
       "<IPython.core.display.Markdown object>"
      ]
     },
     "metadata": {},
     "output_type": "display_data"
    },
    {
     "name": "stdout",
     "output_type": "stream",
     "text": [
      "\tcount: 1710802\n",
      "\tnº nulls: 0\n",
      "\tmin: 0.0\n",
      "\tmax: 754.0\n",
      "\tmean: 64.45291740365045\n",
      "\tstd: 133.40995132346063\n"
     ]
    },
    {
     "data": {
      "text/markdown": [
       "**diffuse_radiation:**\tFloat64"
      ],
      "text/plain": [
       "<IPython.core.display.Markdown object>"
      ]
     },
     "metadata": {},
     "output_type": "display_data"
    },
    {
     "name": "stdout",
     "output_type": "stream",
     "text": [
      "\tcount: 1710802\n",
      "\tnº nulls: 0\n",
      "\tmin: 0.0\n",
      "\tmax: 388.0\n",
      "\tmean: 42.0375870498164\n",
      "\tstd: 61.95225075947365\n"
     ]
    },
    {
     "data": {
      "text/markdown": [
       "**latitude:**\tFloat64"
      ],
      "text/plain": [
       "<IPython.core.display.Markdown object>"
      ]
     },
     "metadata": {},
     "output_type": "display_data"
    },
    {
     "name": "stdout",
     "output_type": "stream",
     "text": [
      "\tcount: 1710802\n",
      "\tnº nulls: 0\n",
      "\tmin: 57.6\n",
      "\tmax: 59.7\n",
      "\tmean: 58.649998772505526\n",
      "\tstd: 0.6873870908607653\n"
     ]
    },
    {
     "data": {
      "text/markdown": [
       "**longitude:**\tFloat64"
      ],
      "text/plain": [
       "<IPython.core.display.Markdown object>"
      ]
     },
     "metadata": {},
     "output_type": "display_data"
    },
    {
     "name": "stdout",
     "output_type": "stream",
     "text": [
      "\tcount: 1710802\n",
      "\tnº nulls: 0\n",
      "\tmin: 21.7\n",
      "\tmax: 28.2\n",
      "\tmean: 24.94999853869706\n",
      "\tstd: 2.015564373635757\n"
     ]
    },
    {
     "data": {
      "text/markdown": [
       "**data_block_id:**\tFloat64"
      ],
      "text/plain": [
       "<IPython.core.display.Markdown object>"
      ]
     },
     "metadata": {},
     "output_type": "display_data"
    },
    {
     "name": "stdout",
     "output_type": "stream",
     "text": [
      "\tcount: 1710802\n",
      "\tnº nulls: 0\n",
      "\tmin: 1.0\n",
      "\tmax: 637.0\n",
      "\tmean: 319.2707782665674\n",
      "\tstd: 183.72979800619706\n"
     ]
    },
    {
     "data": {
      "text/markdown": [
       "### train.csv"
      ],
      "text/plain": [
       "<IPython.core.display.Markdown object>"
      ]
     },
     "metadata": {},
     "output_type": "display_data"
    },
    {
     "data": {
      "text/html": [
       "<div><style>\n",
       ".dataframe > thead > tr,\n",
       ".dataframe > tbody > tr {\n",
       "  text-align: right;\n",
       "  white-space: pre-wrap;\n",
       "}\n",
       "</style>\n",
       "<small>shape: (3, 9)</small><table border=\"1\" class=\"dataframe\"><thead><tr><th>county</th><th>is_business</th><th>product_type</th><th>target</th><th>is_consumption</th><th>datetime</th><th>data_block_id</th><th>row_id</th><th>prediction_unit_id</th></tr><tr><td>i64</td><td>i64</td><td>i64</td><td>f64</td><td>i64</td><td>datetime[μs]</td><td>i64</td><td>i64</td><td>i64</td></tr></thead><tbody><tr><td>0</td><td>0</td><td>1</td><td>0.713</td><td>0</td><td>2021-09-01 00:00:00</td><td>0</td><td>0</td><td>0</td></tr><tr><td>0</td><td>0</td><td>1</td><td>96.59</td><td>1</td><td>2021-09-01 00:00:00</td><td>0</td><td>1</td><td>0</td></tr><tr><td>0</td><td>0</td><td>2</td><td>0.0</td><td>0</td><td>2021-09-01 00:00:00</td><td>0</td><td>2</td><td>1</td></tr></tbody></table></div>"
      ],
      "text/plain": [
       "shape: (3, 9)\n",
       "┌────────┬─────────────┬─────────────┬────────┬───┬─────────────┬────────────┬────────┬────────────┐\n",
       "│ county ┆ is_business ┆ product_typ ┆ target ┆ … ┆ datetime    ┆ data_block ┆ row_id ┆ prediction │\n",
       "│ ---    ┆ ---         ┆ e           ┆ ---    ┆   ┆ ---         ┆ _id        ┆ ---    ┆ _unit_id   │\n",
       "│ i64    ┆ i64         ┆ ---         ┆ f64    ┆   ┆ datetime[μs ┆ ---        ┆ i64    ┆ ---        │\n",
       "│        ┆             ┆ i64         ┆        ┆   ┆ ]           ┆ i64        ┆        ┆ i64        │\n",
       "╞════════╪═════════════╪═════════════╪════════╪═══╪═════════════╪════════════╪════════╪════════════╡\n",
       "│ 0      ┆ 0           ┆ 1           ┆ 0.713  ┆ … ┆ 2021-09-01  ┆ 0          ┆ 0      ┆ 0          │\n",
       "│        ┆             ┆             ┆        ┆   ┆ 00:00:00    ┆            ┆        ┆            │\n",
       "│ 0      ┆ 0           ┆ 1           ┆ 96.59  ┆ … ┆ 2021-09-01  ┆ 0          ┆ 1      ┆ 0          │\n",
       "│        ┆             ┆             ┆        ┆   ┆ 00:00:00    ┆            ┆        ┆            │\n",
       "│ 0      ┆ 0           ┆ 2           ┆ 0.0    ┆ … ┆ 2021-09-01  ┆ 0          ┆ 2      ┆ 1          │\n",
       "│        ┆             ┆             ┆        ┆   ┆ 00:00:00    ┆            ┆        ┆            │\n",
       "└────────┴─────────────┴─────────────┴────────┴───┴─────────────┴────────────┴────────┴────────────┘"
      ]
     },
     "metadata": {},
     "output_type": "display_data"
    },
    {
     "data": {
      "text/markdown": [
       "**county:**\tInt64"
      ],
      "text/plain": [
       "<IPython.core.display.Markdown object>"
      ]
     },
     "metadata": {},
     "output_type": "display_data"
    },
    {
     "name": "stdout",
     "output_type": "stream",
     "text": [
      "\tcount: 2018352\n",
      "\tnº nulls: 0\n",
      "\tmin: 0\n",
      "\tmax: 15\n",
      "\tmean: 7.297034412233347\n",
      "\tstd: 4.780990335833066\n"
     ]
    },
    {
     "data": {
      "text/markdown": [
       "**is_business:**\tInt64"
      ],
      "text/plain": [
       "<IPython.core.display.Markdown object>"
      ]
     },
     "metadata": {},
     "output_type": "display_data"
    },
    {
     "name": "stdout",
     "output_type": "stream",
     "text": [
      "\tcount: 2018352\n",
      "\tnº nulls: 0\n",
      "\tmin: 0\n",
      "\tmax: 1\n",
      "\tmean: 0.5368260838545507\n",
      "\tstd: 0.49864211889842713\n"
     ]
    },
    {
     "data": {
      "text/markdown": [
       "**product_type:**\tInt64"
      ],
      "text/plain": [
       "<IPython.core.display.Markdown object>"
      ]
     },
     "metadata": {},
     "output_type": "display_data"
    },
    {
     "name": "stdout",
     "output_type": "stream",
     "text": [
      "\tcount: 2018352\n",
      "\tnº nulls: 0\n",
      "\tmin: 0\n",
      "\tmax: 3\n",
      "\tmean: 1.8989274417940973\n",
      "\tstd: 1.0817658113000004\n"
     ]
    },
    {
     "data": {
      "text/markdown": [
       "**target:**\tFloat64"
      ],
      "text/plain": [
       "<IPython.core.display.Markdown object>"
      ]
     },
     "metadata": {},
     "output_type": "display_data"
    },
    {
     "name": "stdout",
     "output_type": "stream",
     "text": [
      "\tcount: 2017824\n",
      "\tnº nulls: 528\n",
      "\tmin: 0.0\n",
      "\tmax: 15480.274\n",
      "\tmean: 274.85556009889854\n",
      "\tstd: 909.5023780198597\n"
     ]
    },
    {
     "data": {
      "text/markdown": [
       "**is_consumption:**\tInt64"
      ],
      "text/plain": [
       "<IPython.core.display.Markdown object>"
      ]
     },
     "metadata": {},
     "output_type": "display_data"
    },
    {
     "name": "stdout",
     "output_type": "stream",
     "text": [
      "\tcount: 2018352\n",
      "\tnº nulls: 0\n",
      "\tmin: 0\n",
      "\tmax: 1\n",
      "\tmean: 0.5\n",
      "\tstd: 0.5000001238634751\n"
     ]
    },
    {
     "data": {
      "text/markdown": [
       "**datetime:**\tDatetime(time_unit='us', time_zone=None)"
      ],
      "text/plain": [
       "<IPython.core.display.Markdown object>"
      ]
     },
     "metadata": {},
     "output_type": "display_data"
    },
    {
     "name": "stdout",
     "output_type": "stream",
     "text": [
      "\tcount: 2018352\n",
      "\tnº nulls: 0\n",
      "\tmin: 2021-09-01 00:00:00\n",
      "\tmax: 2023-05-31 23:00:00\n"
     ]
    },
    {
     "data": {
      "text/markdown": [
       "**data_block_id:**\tInt64"
      ],
      "text/plain": [
       "<IPython.core.display.Markdown object>"
      ]
     },
     "metadata": {},
     "output_type": "display_data"
    },
    {
     "name": "stdout",
     "output_type": "stream",
     "text": [
      "\tcount: 2018352\n",
      "\tnº nulls: 0\n",
      "\tmin: 0\n",
      "\tmax: 637\n",
      "\tmean: 321.8745986824895\n",
      "\tstd: 182.6343140006769\n"
     ]
    },
    {
     "data": {
      "text/markdown": [
       "**row_id:**\tInt64"
      ],
      "text/plain": [
       "<IPython.core.display.Markdown object>"
      ]
     },
     "metadata": {},
     "output_type": "display_data"
    },
    {
     "name": "stdout",
     "output_type": "stream",
     "text": [
      "\tcount: 2018352\n",
      "\tnº nulls: 0\n",
      "\tmin: 0\n",
      "\tmax: 2018351\n",
      "\tmean: 1009175.5\n",
      "\tstd: 582648.179597259\n"
     ]
    },
    {
     "data": {
      "text/markdown": [
       "**prediction_unit_id:**\tInt64"
      ],
      "text/plain": [
       "<IPython.core.display.Markdown object>"
      ]
     },
     "metadata": {},
     "output_type": "display_data"
    },
    {
     "name": "stdout",
     "output_type": "stream",
     "text": [
      "\tcount: 2018352\n",
      "\tnº nulls: 0\n",
      "\tmin: 0\n",
      "\tmax: 68\n",
      "\tmean: 33.04537563318985\n",
      "\tstd: 19.590593978268064\n"
     ]
    },
    {
     "data": {
      "text/markdown": [
       "### weather_station_to_county_mapping.csv"
      ],
      "text/plain": [
       "<IPython.core.display.Markdown object>"
      ]
     },
     "metadata": {},
     "output_type": "display_data"
    },
    {
     "data": {
      "text/html": [
       "<div><style>\n",
       ".dataframe > thead > tr,\n",
       ".dataframe > tbody > tr {\n",
       "  text-align: right;\n",
       "  white-space: pre-wrap;\n",
       "}\n",
       "</style>\n",
       "<small>shape: (3, 4)</small><table border=\"1\" class=\"dataframe\"><thead><tr><th>county_name</th><th>longitude</th><th>latitude</th><th>county</th></tr><tr><td>str</td><td>f64</td><td>f64</td><td>i64</td></tr></thead><tbody><tr><td>null</td><td>21.7</td><td>57.6</td><td>null</td></tr><tr><td>null</td><td>21.7</td><td>57.9</td><td>null</td></tr><tr><td>null</td><td>21.7</td><td>58.2</td><td>null</td></tr></tbody></table></div>"
      ],
      "text/plain": [
       "shape: (3, 4)\n",
       "┌─────────────┬───────────┬──────────┬────────┐\n",
       "│ county_name ┆ longitude ┆ latitude ┆ county │\n",
       "│ ---         ┆ ---       ┆ ---      ┆ ---    │\n",
       "│ str         ┆ f64       ┆ f64      ┆ i64    │\n",
       "╞═════════════╪═══════════╪══════════╪════════╡\n",
       "│ null        ┆ 21.7      ┆ 57.6     ┆ null   │\n",
       "│ null        ┆ 21.7      ┆ 57.9     ┆ null   │\n",
       "│ null        ┆ 21.7      ┆ 58.2     ┆ null   │\n",
       "└─────────────┴───────────┴──────────┴────────┘"
      ]
     },
     "metadata": {},
     "output_type": "display_data"
    },
    {
     "data": {
      "text/markdown": [
       "**county_name:**\tString"
      ],
      "text/plain": [
       "<IPython.core.display.Markdown object>"
      ]
     },
     "metadata": {},
     "output_type": "display_data"
    },
    {
     "name": "stdout",
     "output_type": "stream",
     "text": [
      "\tcount: 49\n",
      "\tnº nulls: 63\n"
     ]
    },
    {
     "data": {
      "text/markdown": [
       "**longitude:**\tFloat64"
      ],
      "text/plain": [
       "<IPython.core.display.Markdown object>"
      ]
     },
     "metadata": {},
     "output_type": "display_data"
    },
    {
     "name": "stdout",
     "output_type": "stream",
     "text": [
      "\tcount: 112\n",
      "\tnº nulls: 0\n",
      "\tmin: 21.7\n",
      "\tmax: 28.2\n",
      "\tmean: 24.949999999999978\n",
      "\tstd: 2.024623199288969\n"
     ]
    },
    {
     "data": {
      "text/markdown": [
       "**latitude:**\tFloat64"
      ],
      "text/plain": [
       "<IPython.core.display.Markdown object>"
      ]
     },
     "metadata": {},
     "output_type": "display_data"
    },
    {
     "name": "stdout",
     "output_type": "stream",
     "text": [
      "\tcount: 112\n",
      "\tnº nulls: 0\n",
      "\tmin: 57.6\n",
      "\tmax: 59.69999999999998\n",
      "\tmean: 58.649999999999984\n",
      "\tstd: 0.6904757466824936\n"
     ]
    },
    {
     "data": {
      "text/markdown": [
       "**county:**\tInt64"
      ],
      "text/plain": [
       "<IPython.core.display.Markdown object>"
      ]
     },
     "metadata": {},
     "output_type": "display_data"
    },
    {
     "name": "stdout",
     "output_type": "stream",
     "text": [
      "\tcount: 49\n",
      "\tnº nulls: 63\n",
      "\tmin: 0\n",
      "\tmax: 15\n",
      "\tmean: 7.061224489795919\n",
      "\tstd: 4.870866466662212\n"
     ]
    }
   ],
   "source": [
    "describe_full_data(data_path)"
   ]
  },
  {
   "cell_type": "code",
   "execution_count": null,
   "id": "912f66e7",
   "metadata": {},
   "outputs": [],
   "source": []
  }
 ],
 "metadata": {
  "kernelspec": {
   "display_name": ".VENV",
   "language": "python",
   "name": "python3"
  },
  "language_info": {
   "codemirror_mode": {
    "name": "ipython",
    "version": 3
   },
   "file_extension": ".py",
   "mimetype": "text/x-python",
   "name": "python",
   "nbconvert_exporter": "python",
   "pygments_lexer": "ipython3",
   "version": "3.12.3"
  }
 },
 "nbformat": 4,
 "nbformat_minor": 5
}
