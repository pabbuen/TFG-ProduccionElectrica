{
 "cells": [
  {
   "cell_type": "code",
   "execution_count": 1,
   "metadata": {},
   "outputs": [],
   "source": [
    "import matplotlib.pyplot as plt\n",
    "import polars as pl\n",
    "import numpy as np\n",
    "import seaborn as sns\n",
    "from pathlib import Path\n",
    "from IPython.display import display, Markdown"
   ]
  },
  {
   "cell_type": "code",
   "execution_count": 2,
   "metadata": {},
   "outputs": [],
   "source": [
    "def print_files(data_path: Path):\n",
    "    files = data_path.glob('*.csv')\n",
    "    for file in files:\n",
    "        print(file.name)"
   ]
  },
  {
   "cell_type": "code",
   "execution_count": 3,
   "metadata": {},
   "outputs": [
    {
     "name": "stdout",
     "output_type": "stream",
     "text": [
      "gas_prices.csv\n",
      "client.csv\n",
      "forecast_weather.csv\n",
      "historical_weather.csv\n",
      "weather_station_to_county_mapping.csv\n",
      "train.csv\n",
      "electricity_prices.csv\n"
     ]
    }
   ],
   "source": [
    "data_path = Path('../data/')\n",
    "print_files(data_path)"
   ]
  },
  {
   "cell_type": "markdown",
   "metadata": {},
   "source": [
    "# Carga de los datos"
   ]
  },
  {
   "cell_type": "code",
   "execution_count": 4,
   "metadata": {},
   "outputs": [],
   "source": [
    "def load_data(data_path: Path) -> dict[str, pl.DataFrame]:\n",
    "    files = data_path.glob('*.csv')\n",
    "    data_dict = dict()\n",
    "\n",
    "    for file in files:\n",
    "        file_name = file.stem\n",
    "        file_path = file.resolve()\n",
    "\n",
    "        if 'weather_station' in file_name:\n",
    "            file_name = 'weather_station'\n",
    "        \n",
    "        data_dict[file_name] = pl.read_csv(file_path, try_parse_dates=True)\n",
    "    \n",
    "    return data_dict"
   ]
  },
  {
   "cell_type": "code",
   "execution_count": 5,
   "metadata": {},
   "outputs": [],
   "source": [
    "data_dict = load_data(data_path)"
   ]
  },
  {
   "cell_type": "markdown",
   "metadata": {},
   "source": [
    "# Descripción de los datos"
   ]
  },
  {
   "cell_type": "code",
   "execution_count": 6,
   "metadata": {},
   "outputs": [],
   "source": [
    "def print_categories(df: pl.DataFrame, cat_cols: list[str]):\n",
    "    cols = list(set(cat_cols).intersection(df.columns))\n",
    "\n",
    "    display(Markdown('#### Categorías:'))\n",
    "    if cols:   \n",
    "        for col in cols:\n",
    "            display(Markdown(f'{col}:'))\n",
    "            print(df[col].unique().to_list())\n",
    "    else:\n",
    "        display(Markdown('Sin columnas categóricas.'))\n"
   ]
  },
  {
   "cell_type": "code",
   "execution_count": 7,
   "metadata": {},
   "outputs": [],
   "source": [
    "def print_correlations(df: pl.DataFrame, exclude: set[list]):\n",
    "    display(Markdown('Correlations:'))\n",
    "    display(\n",
    "        df.select(\n",
    "            pl.col(pl.Int64, pl.Float64).exclude(categorical_columns)\n",
    "        ).corr().to_pandas()\n",
    "    )"
   ]
  },
  {
   "cell_type": "code",
   "execution_count": 8,
   "metadata": {},
   "outputs": [],
   "source": [
    "categorical_columns = [\n",
    "    'county',\n",
    "    'product_type',\n",
    "    'is_business',\n",
    "    'county_name',\n",
    "    'is_consumption'\n",
    "]"
   ]
  },
  {
   "cell_type": "code",
   "execution_count": 9,
   "metadata": {},
   "outputs": [
    {
     "data": {
      "text/markdown": [
       "### **gas_prices:**"
      ],
      "text/plain": [
       "<IPython.core.display.Markdown object>"
      ]
     },
     "metadata": {},
     "output_type": "display_data"
    },
    {
     "data": {
      "text/html": [
       "<div><style>\n",
       ".dataframe > thead > tr,\n",
       ".dataframe > tbody > tr {\n",
       "  text-align: right;\n",
       "  white-space: pre-wrap;\n",
       "}\n",
       "</style>\n",
       "<small>shape: (5, 5)</small><table border=\"1\" class=\"dataframe\"><thead><tr><th>forecast_date</th><th>lowest_price_per_mwh</th><th>highest_price_per_mwh</th><th>origin_date</th><th>data_block_id</th></tr><tr><td>date</td><td>f64</td><td>f64</td><td>date</td><td>i64</td></tr></thead><tbody><tr><td>2021-09-01</td><td>45.23</td><td>46.32</td><td>2021-08-31</td><td>1</td></tr><tr><td>2021-09-02</td><td>45.62</td><td>46.29</td><td>2021-09-01</td><td>2</td></tr><tr><td>2021-09-03</td><td>45.85</td><td>46.4</td><td>2021-09-02</td><td>3</td></tr><tr><td>2021-09-04</td><td>46.3</td><td>46.8</td><td>2021-09-03</td><td>4</td></tr><tr><td>2021-09-05</td><td>46.3</td><td>46.58</td><td>2021-09-04</td><td>5</td></tr></tbody></table></div>"
      ],
      "text/plain": [
       "shape: (5, 5)\n",
       "┌───────────────┬──────────────────────┬───────────────────────┬─────────────┬───────────────┐\n",
       "│ forecast_date ┆ lowest_price_per_mwh ┆ highest_price_per_mwh ┆ origin_date ┆ data_block_id │\n",
       "│ ---           ┆ ---                  ┆ ---                   ┆ ---         ┆ ---           │\n",
       "│ date          ┆ f64                  ┆ f64                   ┆ date        ┆ i64           │\n",
       "╞═══════════════╪══════════════════════╪═══════════════════════╪═════════════╪═══════════════╡\n",
       "│ 2021-09-01    ┆ 45.23                ┆ 46.32                 ┆ 2021-08-31  ┆ 1             │\n",
       "│ 2021-09-02    ┆ 45.62                ┆ 46.29                 ┆ 2021-09-01  ┆ 2             │\n",
       "│ 2021-09-03    ┆ 45.85                ┆ 46.4                  ┆ 2021-09-02  ┆ 3             │\n",
       "│ 2021-09-04    ┆ 46.3                 ┆ 46.8                  ┆ 2021-09-03  ┆ 4             │\n",
       "│ 2021-09-05    ┆ 46.3                 ┆ 46.58                 ┆ 2021-09-04  ┆ 5             │\n",
       "└───────────────┴──────────────────────┴───────────────────────┴─────────────┴───────────────┘"
      ]
     },
     "metadata": {},
     "output_type": "display_data"
    },
    {
     "data": {
      "text/markdown": [
       "shape: (637, 5)"
      ],
      "text/plain": [
       "<IPython.core.display.Markdown object>"
      ]
     },
     "metadata": {},
     "output_type": "display_data"
    },
    {
     "data": {
      "text/markdown": [
       "#### Estadísticas:"
      ],
      "text/plain": [
       "<IPython.core.display.Markdown object>"
      ]
     },
     "metadata": {},
     "output_type": "display_data"
    },
    {
     "data": {
      "text/html": [
       "<div><style>\n",
       ".dataframe > thead > tr,\n",
       ".dataframe > tbody > tr {\n",
       "  text-align: right;\n",
       "  white-space: pre-wrap;\n",
       "}\n",
       "</style>\n",
       "<small>shape: (9, 6)</small><table border=\"1\" class=\"dataframe\"><thead><tr><th>statistic</th><th>forecast_date</th><th>lowest_price_per_mwh</th><th>highest_price_per_mwh</th><th>origin_date</th><th>data_block_id</th></tr><tr><td>str</td><td>str</td><td>f64</td><td>f64</td><td>str</td><td>f64</td></tr></thead><tbody><tr><td>&quot;count&quot;</td><td>&quot;637&quot;</td><td>637.0</td><td>637.0</td><td>&quot;637&quot;</td><td>637.0</td></tr><tr><td>&quot;null_count&quot;</td><td>&quot;0&quot;</td><td>0.0</td><td>0.0</td><td>&quot;0&quot;</td><td>0.0</td></tr><tr><td>&quot;mean&quot;</td><td>&quot;2022-07-16 00:00:00&quot;</td><td>95.03675</td><td>107.754631</td><td>&quot;2022-07-15 00:00:00&quot;</td><td>319.0</td></tr><tr><td>&quot;std&quot;</td><td>null</td><td>47.552295</td><td>54.743666</td><td>null</td><td>184.030342</td></tr><tr><td>&quot;min&quot;</td><td>&quot;2021-09-01&quot;</td><td>28.1</td><td>34.0</td><td>&quot;2021-08-31&quot;</td><td>1.0</td></tr><tr><td>&quot;25%&quot;</td><td>&quot;2022-02-07&quot;</td><td>60.0</td><td>67.53</td><td>&quot;2022-02-06&quot;</td><td>160.0</td></tr><tr><td>&quot;50%&quot;</td><td>&quot;2022-07-16&quot;</td><td>85.21</td><td>93.47</td><td>&quot;2022-07-15&quot;</td><td>319.0</td></tr><tr><td>&quot;75%&quot;</td><td>&quot;2022-12-22&quot;</td><td>109.0</td><td>130.74</td><td>&quot;2022-12-21&quot;</td><td>478.0</td></tr><tr><td>&quot;max&quot;</td><td>&quot;2023-05-30&quot;</td><td>250.0</td><td>305.0</td><td>&quot;2023-05-29&quot;</td><td>637.0</td></tr></tbody></table></div>"
      ],
      "text/plain": [
       "shape: (9, 6)\n",
       "┌────────────┬──────────────────┬──────────────────┬─────────────────┬─────────────┬───────────────┐\n",
       "│ statistic  ┆ forecast_date    ┆ lowest_price_per ┆ highest_price_p ┆ origin_date ┆ data_block_id │\n",
       "│ ---        ┆ ---              ┆ _mwh             ┆ er_mwh          ┆ ---         ┆ ---           │\n",
       "│ str        ┆ str              ┆ ---              ┆ ---             ┆ str         ┆ f64           │\n",
       "│            ┆                  ┆ f64              ┆ f64             ┆             ┆               │\n",
       "╞════════════╪══════════════════╪══════════════════╪═════════════════╪═════════════╪═══════════════╡\n",
       "│ count      ┆ 637              ┆ 637.0            ┆ 637.0           ┆ 637         ┆ 637.0         │\n",
       "│ null_count ┆ 0                ┆ 0.0              ┆ 0.0             ┆ 0           ┆ 0.0           │\n",
       "│ mean       ┆ 2022-07-16       ┆ 95.03675         ┆ 107.754631      ┆ 2022-07-15  ┆ 319.0         │\n",
       "│            ┆ 00:00:00         ┆                  ┆                 ┆ 00:00:00    ┆               │\n",
       "│ std        ┆ null             ┆ 47.552295        ┆ 54.743666       ┆ null        ┆ 184.030342    │\n",
       "│ min        ┆ 2021-09-01       ┆ 28.1             ┆ 34.0            ┆ 2021-08-31  ┆ 1.0           │\n",
       "│ 25%        ┆ 2022-02-07       ┆ 60.0             ┆ 67.53           ┆ 2022-02-06  ┆ 160.0         │\n",
       "│ 50%        ┆ 2022-07-16       ┆ 85.21            ┆ 93.47           ┆ 2022-07-15  ┆ 319.0         │\n",
       "│ 75%        ┆ 2022-12-22       ┆ 109.0            ┆ 130.74          ┆ 2022-12-21  ┆ 478.0         │\n",
       "│ max        ┆ 2023-05-30       ┆ 250.0            ┆ 305.0           ┆ 2023-05-29  ┆ 637.0         │\n",
       "└────────────┴──────────────────┴──────────────────┴─────────────────┴─────────────┴───────────────┘"
      ]
     },
     "metadata": {},
     "output_type": "display_data"
    },
    {
     "data": {
      "text/markdown": [
       "#### Categorías:"
      ],
      "text/plain": [
       "<IPython.core.display.Markdown object>"
      ]
     },
     "metadata": {},
     "output_type": "display_data"
    },
    {
     "data": {
      "text/markdown": [
       "Sin columnas categóricas."
      ],
      "text/plain": [
       "<IPython.core.display.Markdown object>"
      ]
     },
     "metadata": {},
     "output_type": "display_data"
    },
    {
     "data": {
      "text/markdown": [
       "Correlations:"
      ],
      "text/plain": [
       "<IPython.core.display.Markdown object>"
      ]
     },
     "metadata": {},
     "output_type": "display_data"
    },
    {
     "data": {
      "text/html": [
       "<div>\n",
       "<style scoped>\n",
       "    .dataframe tbody tr th:only-of-type {\n",
       "        vertical-align: middle;\n",
       "    }\n",
       "\n",
       "    .dataframe tbody tr th {\n",
       "        vertical-align: top;\n",
       "    }\n",
       "\n",
       "    .dataframe thead th {\n",
       "        text-align: right;\n",
       "    }\n",
       "</style>\n",
       "<table border=\"1\" class=\"dataframe\">\n",
       "  <thead>\n",
       "    <tr style=\"text-align: right;\">\n",
       "      <th></th>\n",
       "      <th>lowest_price_per_mwh</th>\n",
       "      <th>highest_price_per_mwh</th>\n",
       "      <th>data_block_id</th>\n",
       "    </tr>\n",
       "  </thead>\n",
       "  <tbody>\n",
       "    <tr>\n",
       "      <th>0</th>\n",
       "      <td>1.000000</td>\n",
       "      <td>0.981314</td>\n",
       "      <td>-0.040145</td>\n",
       "    </tr>\n",
       "    <tr>\n",
       "      <th>1</th>\n",
       "      <td>0.981314</td>\n",
       "      <td>1.000000</td>\n",
       "      <td>-0.002705</td>\n",
       "    </tr>\n",
       "    <tr>\n",
       "      <th>2</th>\n",
       "      <td>-0.040145</td>\n",
       "      <td>-0.002705</td>\n",
       "      <td>1.000000</td>\n",
       "    </tr>\n",
       "  </tbody>\n",
       "</table>\n",
       "</div>"
      ],
      "text/plain": [
       "   lowest_price_per_mwh  highest_price_per_mwh  data_block_id\n",
       "0              1.000000               0.981314      -0.040145\n",
       "1              0.981314               1.000000      -0.002705\n",
       "2             -0.040145              -0.002705       1.000000"
      ]
     },
     "metadata": {},
     "output_type": "display_data"
    },
    {
     "data": {
      "text/markdown": [
       "### **client:**"
      ],
      "text/plain": [
       "<IPython.core.display.Markdown object>"
      ]
     },
     "metadata": {},
     "output_type": "display_data"
    },
    {
     "data": {
      "text/html": [
       "<div><style>\n",
       ".dataframe > thead > tr,\n",
       ".dataframe > tbody > tr {\n",
       "  text-align: right;\n",
       "  white-space: pre-wrap;\n",
       "}\n",
       "</style>\n",
       "<small>shape: (5, 7)</small><table border=\"1\" class=\"dataframe\"><thead><tr><th>product_type</th><th>county</th><th>eic_count</th><th>installed_capacity</th><th>is_business</th><th>date</th><th>data_block_id</th></tr><tr><td>i64</td><td>i64</td><td>i64</td><td>f64</td><td>i64</td><td>date</td><td>i64</td></tr></thead><tbody><tr><td>1</td><td>0</td><td>108</td><td>952.89</td><td>0</td><td>2021-09-01</td><td>2</td></tr><tr><td>2</td><td>0</td><td>17</td><td>166.4</td><td>0</td><td>2021-09-01</td><td>2</td></tr><tr><td>3</td><td>0</td><td>688</td><td>7207.88</td><td>0</td><td>2021-09-01</td><td>2</td></tr><tr><td>0</td><td>0</td><td>5</td><td>400.0</td><td>1</td><td>2021-09-01</td><td>2</td></tr><tr><td>1</td><td>0</td><td>43</td><td>1411.0</td><td>1</td><td>2021-09-01</td><td>2</td></tr></tbody></table></div>"
      ],
      "text/plain": [
       "shape: (5, 7)\n",
       "┌──────────────┬────────┬───────────┬───────────────────┬─────────────┬────────────┬───────────────┐\n",
       "│ product_type ┆ county ┆ eic_count ┆ installed_capacit ┆ is_business ┆ date       ┆ data_block_id │\n",
       "│ ---          ┆ ---    ┆ ---       ┆ y                 ┆ ---         ┆ ---        ┆ ---           │\n",
       "│ i64          ┆ i64    ┆ i64       ┆ ---               ┆ i64         ┆ date       ┆ i64           │\n",
       "│              ┆        ┆           ┆ f64               ┆             ┆            ┆               │\n",
       "╞══════════════╪════════╪═══════════╪═══════════════════╪═════════════╪════════════╪═══════════════╡\n",
       "│ 1            ┆ 0      ┆ 108       ┆ 952.89            ┆ 0           ┆ 2021-09-01 ┆ 2             │\n",
       "│ 2            ┆ 0      ┆ 17        ┆ 166.4             ┆ 0           ┆ 2021-09-01 ┆ 2             │\n",
       "│ 3            ┆ 0      ┆ 688       ┆ 7207.88           ┆ 0           ┆ 2021-09-01 ┆ 2             │\n",
       "│ 0            ┆ 0      ┆ 5         ┆ 400.0             ┆ 1           ┆ 2021-09-01 ┆ 2             │\n",
       "│ 1            ┆ 0      ┆ 43        ┆ 1411.0            ┆ 1           ┆ 2021-09-01 ┆ 2             │\n",
       "└──────────────┴────────┴───────────┴───────────────────┴─────────────┴────────────┴───────────────┘"
      ]
     },
     "metadata": {},
     "output_type": "display_data"
    },
    {
     "data": {
      "text/markdown": [
       "shape: (41919, 7)"
      ],
      "text/plain": [
       "<IPython.core.display.Markdown object>"
      ]
     },
     "metadata": {},
     "output_type": "display_data"
    },
    {
     "data": {
      "text/markdown": [
       "#### Estadísticas:"
      ],
      "text/plain": [
       "<IPython.core.display.Markdown object>"
      ]
     },
     "metadata": {},
     "output_type": "display_data"
    },
    {
     "data": {
      "text/html": [
       "<div><style>\n",
       ".dataframe > thead > tr,\n",
       ".dataframe > tbody > tr {\n",
       "  text-align: right;\n",
       "  white-space: pre-wrap;\n",
       "}\n",
       "</style>\n",
       "<small>shape: (9, 8)</small><table border=\"1\" class=\"dataframe\"><thead><tr><th>statistic</th><th>product_type</th><th>county</th><th>eic_count</th><th>installed_capacity</th><th>is_business</th><th>date</th><th>data_block_id</th></tr><tr><td>str</td><td>f64</td><td>f64</td><td>f64</td><td>f64</td><td>f64</td><td>str</td><td>f64</td></tr></thead><tbody><tr><td>&quot;count&quot;</td><td>41919.0</td><td>41919.0</td><td>41919.0</td><td>41919.0</td><td>41919.0</td><td>&quot;41919&quot;</td><td>41919.0</td></tr><tr><td>&quot;null_count&quot;</td><td>0.0</td><td>0.0</td><td>0.0</td><td>0.0</td><td>0.0</td><td>&quot;0&quot;</td><td>0.0</td></tr><tr><td>&quot;mean&quot;</td><td>1.898996</td><td>7.297097</td><td>73.345118</td><td>1450.771451</td><td>0.536773</td><td>&quot;2022-07-18 21:34:22.921000&quot;</td><td>322.898876</td></tr><tr><td>&quot;std&quot;</td><td>1.081713</td><td>4.78075</td><td>144.064389</td><td>2422.23312</td><td>0.498652</td><td>null</td><td>182.075724</td></tr><tr><td>&quot;min&quot;</td><td>0.0</td><td>0.0</td><td>5.0</td><td>5.5</td><td>0.0</td><td>&quot;2021-09-01&quot;</td><td>2.0</td></tr><tr><td>&quot;25%&quot;</td><td>1.0</td><td>3.0</td><td>13.0</td><td>321.9</td><td>0.0</td><td>&quot;2022-02-13&quot;</td><td>167.0</td></tr><tr><td>&quot;50%&quot;</td><td>2.0</td><td>7.0</td><td>32.0</td><td>645.2</td><td>1.0</td><td>&quot;2022-07-20&quot;</td><td>324.0</td></tr><tr><td>&quot;75%&quot;</td><td>3.0</td><td>11.0</td><td>70.0</td><td>1567.15</td><td>1.0</td><td>&quot;2022-12-23&quot;</td><td>480.0</td></tr><tr><td>&quot;max&quot;</td><td>3.0</td><td>15.0</td><td>1517.0</td><td>19314.31</td><td>1.0</td><td>&quot;2023-05-29&quot;</td><td>637.0</td></tr></tbody></table></div>"
      ],
      "text/plain": [
       "shape: (9, 8)\n",
       "┌────────────┬────────────┬──────────┬────────────┬────────────┬───────────┬───────────┬───────────┐\n",
       "│ statistic  ┆ product_ty ┆ county   ┆ eic_count  ┆ installed_ ┆ is_busine ┆ date      ┆ data_bloc │\n",
       "│ ---        ┆ pe         ┆ ---      ┆ ---        ┆ capacity   ┆ ss        ┆ ---       ┆ k_id      │\n",
       "│ str        ┆ ---        ┆ f64      ┆ f64        ┆ ---        ┆ ---       ┆ str       ┆ ---       │\n",
       "│            ┆ f64        ┆          ┆            ┆ f64        ┆ f64       ┆           ┆ f64       │\n",
       "╞════════════╪════════════╪══════════╪════════════╪════════════╪═══════════╪═══════════╪═══════════╡\n",
       "│ count      ┆ 41919.0    ┆ 41919.0  ┆ 41919.0    ┆ 41919.0    ┆ 41919.0   ┆ 41919     ┆ 41919.0   │\n",
       "│ null_count ┆ 0.0        ┆ 0.0      ┆ 0.0        ┆ 0.0        ┆ 0.0       ┆ 0         ┆ 0.0       │\n",
       "│ mean       ┆ 1.898996   ┆ 7.297097 ┆ 73.345118  ┆ 1450.77145 ┆ 0.536773  ┆ 2022-07-1 ┆ 322.89887 │\n",
       "│            ┆            ┆          ┆            ┆ 1          ┆           ┆ 8 21:34:2 ┆ 6         │\n",
       "│            ┆            ┆          ┆            ┆            ┆           ┆ 2.921000  ┆           │\n",
       "│ std        ┆ 1.081713   ┆ 4.78075  ┆ 144.064389 ┆ 2422.23312 ┆ 0.498652  ┆ null      ┆ 182.07572 │\n",
       "│            ┆            ┆          ┆            ┆            ┆           ┆           ┆ 4         │\n",
       "│ min        ┆ 0.0        ┆ 0.0      ┆ 5.0        ┆ 5.5        ┆ 0.0       ┆ 2021-09-0 ┆ 2.0       │\n",
       "│            ┆            ┆          ┆            ┆            ┆           ┆ 1         ┆           │\n",
       "│ 25%        ┆ 1.0        ┆ 3.0      ┆ 13.0       ┆ 321.9      ┆ 0.0       ┆ 2022-02-1 ┆ 167.0     │\n",
       "│            ┆            ┆          ┆            ┆            ┆           ┆ 3         ┆           │\n",
       "│ 50%        ┆ 2.0        ┆ 7.0      ┆ 32.0       ┆ 645.2      ┆ 1.0       ┆ 2022-07-2 ┆ 324.0     │\n",
       "│            ┆            ┆          ┆            ┆            ┆           ┆ 0         ┆           │\n",
       "│ 75%        ┆ 3.0        ┆ 11.0     ┆ 70.0       ┆ 1567.15    ┆ 1.0       ┆ 2022-12-2 ┆ 480.0     │\n",
       "│            ┆            ┆          ┆            ┆            ┆           ┆ 3         ┆           │\n",
       "│ max        ┆ 3.0        ┆ 15.0     ┆ 1517.0     ┆ 19314.31   ┆ 1.0       ┆ 2023-05-2 ┆ 637.0     │\n",
       "│            ┆            ┆          ┆            ┆            ┆           ┆ 9         ┆           │\n",
       "└────────────┴────────────┴──────────┴────────────┴────────────┴───────────┴───────────┴───────────┘"
      ]
     },
     "metadata": {},
     "output_type": "display_data"
    },
    {
     "data": {
      "text/markdown": [
       "#### Categorías:"
      ],
      "text/plain": [
       "<IPython.core.display.Markdown object>"
      ]
     },
     "metadata": {},
     "output_type": "display_data"
    },
    {
     "data": {
      "text/markdown": [
       "product_type:"
      ],
      "text/plain": [
       "<IPython.core.display.Markdown object>"
      ]
     },
     "metadata": {},
     "output_type": "display_data"
    },
    {
     "name": "stdout",
     "output_type": "stream",
     "text": [
      "[0, 1, 2, 3]\n"
     ]
    },
    {
     "data": {
      "text/markdown": [
       "is_business:"
      ],
      "text/plain": [
       "<IPython.core.display.Markdown object>"
      ]
     },
     "metadata": {},
     "output_type": "display_data"
    },
    {
     "name": "stdout",
     "output_type": "stream",
     "text": [
      "[0, 1]\n"
     ]
    },
    {
     "data": {
      "text/markdown": [
       "county:"
      ],
      "text/plain": [
       "<IPython.core.display.Markdown object>"
      ]
     },
     "metadata": {},
     "output_type": "display_data"
    },
    {
     "name": "stdout",
     "output_type": "stream",
     "text": [
      "[0, 1, 2, 3, 4, 5, 6, 7, 8, 9, 10, 11, 12, 13, 14, 15]\n"
     ]
    },
    {
     "data": {
      "text/markdown": [
       "Correlations:"
      ],
      "text/plain": [
       "<IPython.core.display.Markdown object>"
      ]
     },
     "metadata": {},
     "output_type": "display_data"
    },
    {
     "data": {
      "text/html": [
       "<div>\n",
       "<style scoped>\n",
       "    .dataframe tbody tr th:only-of-type {\n",
       "        vertical-align: middle;\n",
       "    }\n",
       "\n",
       "    .dataframe tbody tr th {\n",
       "        vertical-align: top;\n",
       "    }\n",
       "\n",
       "    .dataframe thead th {\n",
       "        text-align: right;\n",
       "    }\n",
       "</style>\n",
       "<table border=\"1\" class=\"dataframe\">\n",
       "  <thead>\n",
       "    <tr style=\"text-align: right;\">\n",
       "      <th></th>\n",
       "      <th>eic_count</th>\n",
       "      <th>installed_capacity</th>\n",
       "      <th>data_block_id</th>\n",
       "    </tr>\n",
       "  </thead>\n",
       "  <tbody>\n",
       "    <tr>\n",
       "      <th>0</th>\n",
       "      <td>1.000000</td>\n",
       "      <td>0.754353</td>\n",
       "      <td>0.119872</td>\n",
       "    </tr>\n",
       "    <tr>\n",
       "      <th>1</th>\n",
       "      <td>0.754353</td>\n",
       "      <td>1.000000</td>\n",
       "      <td>0.110381</td>\n",
       "    </tr>\n",
       "    <tr>\n",
       "      <th>2</th>\n",
       "      <td>0.119872</td>\n",
       "      <td>0.110381</td>\n",
       "      <td>1.000000</td>\n",
       "    </tr>\n",
       "  </tbody>\n",
       "</table>\n",
       "</div>"
      ],
      "text/plain": [
       "   eic_count  installed_capacity  data_block_id\n",
       "0   1.000000            0.754353       0.119872\n",
       "1   0.754353            1.000000       0.110381\n",
       "2   0.119872            0.110381       1.000000"
      ]
     },
     "metadata": {},
     "output_type": "display_data"
    },
    {
     "data": {
      "text/markdown": [
       "### **forecast_weather:**"
      ],
      "text/plain": [
       "<IPython.core.display.Markdown object>"
      ]
     },
     "metadata": {},
     "output_type": "display_data"
    },
    {
     "data": {
      "text/html": [
       "<div><style>\n",
       ".dataframe > thead > tr,\n",
       ".dataframe > tbody > tr {\n",
       "  text-align: right;\n",
       "  white-space: pre-wrap;\n",
       "}\n",
       "</style>\n",
       "<small>shape: (5, 18)</small><table border=\"1\" class=\"dataframe\"><thead><tr><th>latitude</th><th>longitude</th><th>origin_datetime</th><th>hours_ahead</th><th>temperature</th><th>dewpoint</th><th>cloudcover_high</th><th>cloudcover_low</th><th>cloudcover_mid</th><th>cloudcover_total</th><th>10_metre_u_wind_component</th><th>10_metre_v_wind_component</th><th>data_block_id</th><th>forecast_datetime</th><th>direct_solar_radiation</th><th>surface_solar_radiation_downwards</th><th>snowfall</th><th>total_precipitation</th></tr><tr><td>f64</td><td>f64</td><td>datetime[μs]</td><td>i64</td><td>f64</td><td>f64</td><td>f64</td><td>f64</td><td>f64</td><td>f64</td><td>f64</td><td>f64</td><td>i64</td><td>datetime[μs]</td><td>f64</td><td>f64</td><td>f64</td><td>f64</td></tr></thead><tbody><tr><td>57.6</td><td>21.7</td><td>2021-09-01 02:00:00</td><td>1</td><td>15.655786</td><td>11.553613</td><td>0.904816</td><td>0.019714</td><td>0.0</td><td>0.905899</td><td>-0.411328</td><td>-9.106137</td><td>1</td><td>2021-09-01 03:00:00</td><td>0.0</td><td>0.0</td><td>0.0</td><td>0.0</td></tr><tr><td>57.6</td><td>22.2</td><td>2021-09-01 02:00:00</td><td>1</td><td>13.003931</td><td>10.689844</td><td>0.886322</td><td>0.004456</td><td>0.0</td><td>0.886658</td><td>0.206347</td><td>-5.355405</td><td>1</td><td>2021-09-01 03:00:00</td><td>0.0</td><td>0.0</td><td>0.0</td><td>0.0</td></tr><tr><td>57.6</td><td>22.7</td><td>2021-09-01 02:00:00</td><td>1</td><td>14.206567</td><td>11.671777</td><td>0.729034</td><td>0.005615</td><td>0.0</td><td>0.730499</td><td>1.451587</td><td>-7.417905</td><td>1</td><td>2021-09-01 03:00:00</td><td>0.0</td><td>0.0</td><td>0.0</td><td>0.0</td></tr><tr><td>57.6</td><td>23.2</td><td>2021-09-01 02:00:00</td><td>1</td><td>14.844507</td><td>12.264917</td><td>0.336304</td><td>0.074341</td><td>0.000626</td><td>0.385468</td><td>1.090869</td><td>-9.163999</td><td>1</td><td>2021-09-01 03:00:00</td><td>0.0</td><td>0.0</td><td>0.0</td><td>0.0</td></tr><tr><td>57.6</td><td>23.7</td><td>2021-09-01 02:00:00</td><td>1</td><td>15.293848</td><td>12.458887</td><td>0.102875</td><td>0.088074</td><td>0.000015</td><td>0.17659</td><td>1.268481</td><td>-8.975766</td><td>1</td><td>2021-09-01 03:00:00</td><td>0.0</td><td>0.0</td><td>0.0</td><td>0.0</td></tr></tbody></table></div>"
      ],
      "text/plain": [
       "shape: (5, 18)\n",
       "┌──────────┬───────────┬────────────┬───────────┬───┬───────────┬───────────┬──────────┬───────────┐\n",
       "│ latitude ┆ longitude ┆ origin_dat ┆ hours_ahe ┆ … ┆ direct_so ┆ surface_s ┆ snowfall ┆ total_pre │\n",
       "│ ---      ┆ ---       ┆ etime      ┆ ad        ┆   ┆ lar_radia ┆ olar_radi ┆ ---      ┆ cipitatio │\n",
       "│ f64      ┆ f64       ┆ ---        ┆ ---       ┆   ┆ tion      ┆ ation_dow ┆ f64      ┆ n         │\n",
       "│          ┆           ┆ datetime[μ ┆ i64       ┆   ┆ ---       ┆ nwa…      ┆          ┆ ---       │\n",
       "│          ┆           ┆ s]         ┆           ┆   ┆ f64       ┆ ---       ┆          ┆ f64       │\n",
       "│          ┆           ┆            ┆           ┆   ┆           ┆ f64       ┆          ┆           │\n",
       "╞══════════╪═══════════╪════════════╪═══════════╪═══╪═══════════╪═══════════╪══════════╪═══════════╡\n",
       "│ 57.6     ┆ 21.7      ┆ 2021-09-01 ┆ 1         ┆ … ┆ 0.0       ┆ 0.0       ┆ 0.0      ┆ 0.0       │\n",
       "│          ┆           ┆ 02:00:00   ┆           ┆   ┆           ┆           ┆          ┆           │\n",
       "│ 57.6     ┆ 22.2      ┆ 2021-09-01 ┆ 1         ┆ … ┆ 0.0       ┆ 0.0       ┆ 0.0      ┆ 0.0       │\n",
       "│          ┆           ┆ 02:00:00   ┆           ┆   ┆           ┆           ┆          ┆           │\n",
       "│ 57.6     ┆ 22.7      ┆ 2021-09-01 ┆ 1         ┆ … ┆ 0.0       ┆ 0.0       ┆ 0.0      ┆ 0.0       │\n",
       "│          ┆           ┆ 02:00:00   ┆           ┆   ┆           ┆           ┆          ┆           │\n",
       "│ 57.6     ┆ 23.2      ┆ 2021-09-01 ┆ 1         ┆ … ┆ 0.0       ┆ 0.0       ┆ 0.0      ┆ 0.0       │\n",
       "│          ┆           ┆ 02:00:00   ┆           ┆   ┆           ┆           ┆          ┆           │\n",
       "│ 57.6     ┆ 23.7      ┆ 2021-09-01 ┆ 1         ┆ … ┆ 0.0       ┆ 0.0       ┆ 0.0      ┆ 0.0       │\n",
       "│          ┆           ┆ 02:00:00   ┆           ┆   ┆           ┆           ┆          ┆           │\n",
       "└──────────┴───────────┴────────────┴───────────┴───┴───────────┴───────────┴──────────┴───────────┘"
      ]
     },
     "metadata": {},
     "output_type": "display_data"
    },
    {
     "data": {
      "text/markdown": [
       "shape: (3424512, 18)"
      ],
      "text/plain": [
       "<IPython.core.display.Markdown object>"
      ]
     },
     "metadata": {},
     "output_type": "display_data"
    },
    {
     "data": {
      "text/markdown": [
       "#### Estadísticas:"
      ],
      "text/plain": [
       "<IPython.core.display.Markdown object>"
      ]
     },
     "metadata": {},
     "output_type": "display_data"
    },
    {
     "data": {
      "text/html": [
       "<div><style>\n",
       ".dataframe > thead > tr,\n",
       ".dataframe > tbody > tr {\n",
       "  text-align: right;\n",
       "  white-space: pre-wrap;\n",
       "}\n",
       "</style>\n",
       "<small>shape: (9, 19)</small><table border=\"1\" class=\"dataframe\"><thead><tr><th>statistic</th><th>latitude</th><th>longitude</th><th>origin_datetime</th><th>hours_ahead</th><th>temperature</th><th>dewpoint</th><th>cloudcover_high</th><th>cloudcover_low</th><th>cloudcover_mid</th><th>cloudcover_total</th><th>10_metre_u_wind_component</th><th>10_metre_v_wind_component</th><th>data_block_id</th><th>forecast_datetime</th><th>direct_solar_radiation</th><th>surface_solar_radiation_downwards</th><th>snowfall</th><th>total_precipitation</th></tr><tr><td>str</td><td>f64</td><td>f64</td><td>str</td><td>f64</td><td>f64</td><td>f64</td><td>f64</td><td>f64</td><td>f64</td><td>f64</td><td>f64</td><td>f64</td><td>f64</td><td>str</td><td>f64</td><td>f64</td><td>f64</td><td>f64</td></tr></thead><tbody><tr><td>&quot;count&quot;</td><td>3.424512e6</td><td>3.424512e6</td><td>&quot;3424512&quot;</td><td>3.424512e6</td><td>3.424512e6</td><td>3.424512e6</td><td>3.424512e6</td><td>3.424512e6</td><td>3.424512e6</td><td>3.424512e6</td><td>3.424512e6</td><td>3.424512e6</td><td>3.424512e6</td><td>&quot;3424512&quot;</td><td>3.424512e6</td><td>3.42451e6</td><td>3.424512e6</td><td>3.424512e6</td></tr><tr><td>&quot;null_count&quot;</td><td>0.0</td><td>0.0</td><td>&quot;0&quot;</td><td>0.0</td><td>0.0</td><td>0.0</td><td>0.0</td><td>0.0</td><td>0.0</td><td>0.0</td><td>0.0</td><td>0.0</td><td>0.0</td><td>&quot;0&quot;</td><td>0.0</td><td>2.0</td><td>0.0</td><td>0.0</td></tr><tr><td>&quot;mean&quot;</td><td>58.65</td><td>24.95</td><td>&quot;2022-07-16 01:32:18.461538&quot;</td><td>24.5</td><td>5.743913</td><td>2.411946</td><td>0.394665</td><td>0.434645</td><td>0.359069</td><td>0.681993</td><td>1.255446</td><td>0.725011</td><td>319.0</td><td>&quot;2022-07-17 02:02:18.461538&quot;</td><td>151.188212</td><td>110.764207</td><td>0.000025</td><td>0.000079</td></tr><tr><td>&quot;std&quot;</td><td>0.687386</td><td>2.015565</td><td>null</td><td>13.853401</td><td>7.844206</td><td>7.121432</td><td>0.444043</td><td>0.438635</td><td>0.420156</td><td>0.400963</td><td>3.9953</td><td>4.223752</td><td>183.885861</td><td>null</td><td>256.506903</td><td>187.444373</td><td>0.000122</td><td>0.000278</td></tr><tr><td>&quot;min&quot;</td><td>57.6</td><td>21.7</td><td>&quot;2021-09-01 02:00:00&quot;</td><td>1.0</td><td>-27.499396</td><td>-29.683569</td><td>0.0</td><td>0.0</td><td>0.0</td><td>0.0</td><td>-17.577179</td><td>-22.116119</td><td>1.0</td><td>&quot;2021-09-01 03:00:00&quot;</td><td>-0.773333</td><td>-0.325833</td><td>-0.000004</td><td>-0.000015</td></tr><tr><td>&quot;25%&quot;</td><td>58.2</td><td>23.2</td><td>&quot;2022-02-07 01:00:00&quot;</td><td>13.0</td><td>0.260645</td><td>-2.364355</td><td>0.0</td><td>0.000336</td><td>0.0</td><td>0.264893</td><td>-1.46669</td><td>-1.978104</td><td>160.0</td><td>&quot;2022-02-07 20:00:00&quot;</td><td>0.0</td><td>0.0</td><td>0.0</td><td>0.0</td></tr><tr><td>&quot;50%&quot;</td><td>58.8</td><td>25.2</td><td>&quot;2022-07-16 02:00:00&quot;</td><td>25.0</td><td>4.872705</td><td>1.835596</td><td>0.088669</td><td>0.230546</td><td>0.101196</td><td>0.977267</td><td>1.468682</td><td>0.943322</td><td>319.0</td><td>&quot;2022-07-17 03:00:00&quot;</td><td>0.0</td><td>0.604444</td><td>0.0</td><td>0.0</td></tr><tr><td>&quot;75%&quot;</td><td>59.1</td><td>26.7</td><td>&quot;2022-12-22 01:00:00&quot;</td><td>36.0</td><td>11.146387</td><td>7.302026</td><td>0.978485</td><td>0.999459</td><td>0.900085</td><td>1.0</td><td>3.813531</td><td>3.507628</td><td>478.0</td><td>&quot;2022-12-23 07:00:00&quot;</td><td>212.844444</td><td>144.172326</td><td>0.0</td><td>0.000028</td></tr><tr><td>&quot;max&quot;</td><td>59.7</td><td>28.2</td><td>&quot;2023-05-30 02:00:00&quot;</td><td>48.0</td><td>31.810693</td><td>23.680566</td><td>1.000008</td><td>1.000008</td><td>1.000008</td><td>1.000008</td><td>22.573198</td><td>19.314369</td><td>637.0</td><td>&quot;2023-06-01 02:00:00&quot;</td><td>954.422222</td><td>848.714444</td><td>0.004833</td><td>0.016516</td></tr></tbody></table></div>"
      ],
      "text/plain": [
       "shape: (9, 19)\n",
       "┌───────────┬───────────┬───────────┬───────────┬───┬───────────┬───────────┬───────────┬──────────┐\n",
       "│ statistic ┆ latitude  ┆ longitude ┆ origin_da ┆ … ┆ direct_so ┆ surface_s ┆ snowfall  ┆ total_pr │\n",
       "│ ---       ┆ ---       ┆ ---       ┆ tetime    ┆   ┆ lar_radia ┆ olar_radi ┆ ---       ┆ ecipitat │\n",
       "│ str       ┆ f64       ┆ f64       ┆ ---       ┆   ┆ tion      ┆ ation_dow ┆ f64       ┆ ion      │\n",
       "│           ┆           ┆           ┆ str       ┆   ┆ ---       ┆ nwa…      ┆           ┆ ---      │\n",
       "│           ┆           ┆           ┆           ┆   ┆ f64       ┆ ---       ┆           ┆ f64      │\n",
       "│           ┆           ┆           ┆           ┆   ┆           ┆ f64       ┆           ┆          │\n",
       "╞═══════════╪═══════════╪═══════════╪═══════════╪═══╪═══════════╪═══════════╪═══════════╪══════════╡\n",
       "│ count     ┆ 3.424512e ┆ 3.424512e ┆ 3424512   ┆ … ┆ 3.424512e ┆ 3.42451e6 ┆ 3.424512e ┆ 3.424512 │\n",
       "│           ┆ 6         ┆ 6         ┆           ┆   ┆ 6         ┆           ┆ 6         ┆ e6       │\n",
       "│ null_coun ┆ 0.0       ┆ 0.0       ┆ 0         ┆ … ┆ 0.0       ┆ 2.0       ┆ 0.0       ┆ 0.0      │\n",
       "│ t         ┆           ┆           ┆           ┆   ┆           ┆           ┆           ┆          │\n",
       "│ mean      ┆ 58.65     ┆ 24.95     ┆ 2022-07-1 ┆ … ┆ 151.18821 ┆ 110.76420 ┆ 0.000025  ┆ 0.000079 │\n",
       "│           ┆           ┆           ┆ 6 01:32:1 ┆   ┆ 2         ┆ 7         ┆           ┆          │\n",
       "│           ┆           ┆           ┆ 8.461538  ┆   ┆           ┆           ┆           ┆          │\n",
       "│ std       ┆ 0.687386  ┆ 2.015565  ┆ null      ┆ … ┆ 256.50690 ┆ 187.44437 ┆ 0.000122  ┆ 0.000278 │\n",
       "│           ┆           ┆           ┆           ┆   ┆ 3         ┆ 3         ┆           ┆          │\n",
       "│ min       ┆ 57.6      ┆ 21.7      ┆ 2021-09-0 ┆ … ┆ -0.773333 ┆ -0.325833 ┆ -0.000004 ┆ -0.00001 │\n",
       "│           ┆           ┆           ┆ 1         ┆   ┆           ┆           ┆           ┆ 5        │\n",
       "│           ┆           ┆           ┆ 02:00:00  ┆   ┆           ┆           ┆           ┆          │\n",
       "│ 25%       ┆ 58.2      ┆ 23.2      ┆ 2022-02-0 ┆ … ┆ 0.0       ┆ 0.0       ┆ 0.0       ┆ 0.0      │\n",
       "│           ┆           ┆           ┆ 7         ┆   ┆           ┆           ┆           ┆          │\n",
       "│           ┆           ┆           ┆ 01:00:00  ┆   ┆           ┆           ┆           ┆          │\n",
       "│ 50%       ┆ 58.8      ┆ 25.2      ┆ 2022-07-1 ┆ … ┆ 0.0       ┆ 0.604444  ┆ 0.0       ┆ 0.0      │\n",
       "│           ┆           ┆           ┆ 6         ┆   ┆           ┆           ┆           ┆          │\n",
       "│           ┆           ┆           ┆ 02:00:00  ┆   ┆           ┆           ┆           ┆          │\n",
       "│ 75%       ┆ 59.1      ┆ 26.7      ┆ 2022-12-2 ┆ … ┆ 212.84444 ┆ 144.17232 ┆ 0.0       ┆ 0.000028 │\n",
       "│           ┆           ┆           ┆ 2         ┆   ┆ 4         ┆ 6         ┆           ┆          │\n",
       "│           ┆           ┆           ┆ 01:00:00  ┆   ┆           ┆           ┆           ┆          │\n",
       "│ max       ┆ 59.7      ┆ 28.2      ┆ 2023-05-3 ┆ … ┆ 954.42222 ┆ 848.71444 ┆ 0.004833  ┆ 0.016516 │\n",
       "│           ┆           ┆           ┆ 0         ┆   ┆ 2         ┆ 4         ┆           ┆          │\n",
       "│           ┆           ┆           ┆ 02:00:00  ┆   ┆           ┆           ┆           ┆          │\n",
       "└───────────┴───────────┴───────────┴───────────┴───┴───────────┴───────────┴───────────┴──────────┘"
      ]
     },
     "metadata": {},
     "output_type": "display_data"
    },
    {
     "data": {
      "text/markdown": [
       "#### Categorías:"
      ],
      "text/plain": [
       "<IPython.core.display.Markdown object>"
      ]
     },
     "metadata": {},
     "output_type": "display_data"
    },
    {
     "data": {
      "text/markdown": [
       "Sin columnas categóricas."
      ],
      "text/plain": [
       "<IPython.core.display.Markdown object>"
      ]
     },
     "metadata": {},
     "output_type": "display_data"
    },
    {
     "data": {
      "text/markdown": [
       "Correlations:"
      ],
      "text/plain": [
       "<IPython.core.display.Markdown object>"
      ]
     },
     "metadata": {},
     "output_type": "display_data"
    },
    {
     "data": {
      "text/html": [
       "<div>\n",
       "<style scoped>\n",
       "    .dataframe tbody tr th:only-of-type {\n",
       "        vertical-align: middle;\n",
       "    }\n",
       "\n",
       "    .dataframe tbody tr th {\n",
       "        vertical-align: top;\n",
       "    }\n",
       "\n",
       "    .dataframe thead th {\n",
       "        text-align: right;\n",
       "    }\n",
       "</style>\n",
       "<table border=\"1\" class=\"dataframe\">\n",
       "  <thead>\n",
       "    <tr style=\"text-align: right;\">\n",
       "      <th></th>\n",
       "      <th>latitude</th>\n",
       "      <th>longitude</th>\n",
       "      <th>hours_ahead</th>\n",
       "      <th>temperature</th>\n",
       "      <th>dewpoint</th>\n",
       "      <th>cloudcover_high</th>\n",
       "      <th>cloudcover_low</th>\n",
       "      <th>cloudcover_mid</th>\n",
       "      <th>cloudcover_total</th>\n",
       "      <th>10_metre_u_wind_component</th>\n",
       "      <th>10_metre_v_wind_component</th>\n",
       "      <th>data_block_id</th>\n",
       "      <th>direct_solar_radiation</th>\n",
       "      <th>surface_solar_radiation_downwards</th>\n",
       "      <th>snowfall</th>\n",
       "      <th>total_precipitation</th>\n",
       "    </tr>\n",
       "  </thead>\n",
       "  <tbody>\n",
       "    <tr>\n",
       "      <th>0</th>\n",
       "      <td>1.000000e+00</td>\n",
       "      <td>-3.326960e-17</td>\n",
       "      <td>-3.997295e-17</td>\n",
       "      <td>-0.019066</td>\n",
       "      <td>-0.005450</td>\n",
       "      <td>0.009524</td>\n",
       "      <td>-0.005378</td>\n",
       "      <td>0.000394</td>\n",
       "      <td>-0.001932</td>\n",
       "      <td>0.003134</td>\n",
       "      <td>-0.005836</td>\n",
       "      <td>-3.361803e-20</td>\n",
       "      <td>0.008906</td>\n",
       "      <td>NaN</td>\n",
       "      <td>0.005826</td>\n",
       "      <td>-0.005539</td>\n",
       "    </tr>\n",
       "    <tr>\n",
       "      <th>1</th>\n",
       "      <td>-3.326960e-17</td>\n",
       "      <td>1.000000e+00</td>\n",
       "      <td>3.408085e-18</td>\n",
       "      <td>-0.092072</td>\n",
       "      <td>-0.116255</td>\n",
       "      <td>0.003922</td>\n",
       "      <td>0.072007</td>\n",
       "      <td>0.055336</td>\n",
       "      <td>0.060049</td>\n",
       "      <td>-0.064094</td>\n",
       "      <td>0.005858</td>\n",
       "      <td>2.866266e-21</td>\n",
       "      <td>-0.038141</td>\n",
       "      <td>NaN</td>\n",
       "      <td>0.025346</td>\n",
       "      <td>0.011280</td>\n",
       "    </tr>\n",
       "    <tr>\n",
       "      <th>2</th>\n",
       "      <td>-3.997295e-17</td>\n",
       "      <td>3.408085e-18</td>\n",
       "      <td>1.000000e+00</td>\n",
       "      <td>0.005968</td>\n",
       "      <td>-0.004067</td>\n",
       "      <td>-0.009825</td>\n",
       "      <td>-0.020608</td>\n",
       "      <td>-0.011232</td>\n",
       "      <td>-0.018914</td>\n",
       "      <td>-0.008840</td>\n",
       "      <td>-0.013529</td>\n",
       "      <td>0.000000e+00</td>\n",
       "      <td>-0.067572</td>\n",
       "      <td>NaN</td>\n",
       "      <td>-0.000977</td>\n",
       "      <td>0.002955</td>\n",
       "    </tr>\n",
       "    <tr>\n",
       "      <th>3</th>\n",
       "      <td>-1.906578e-02</td>\n",
       "      <td>-9.207159e-02</td>\n",
       "      <td>5.968429e-03</td>\n",
       "      <td>1.000000</td>\n",
       "      <td>0.936011</td>\n",
       "      <td>-0.000619</td>\n",
       "      <td>-0.350687</td>\n",
       "      <td>-0.150763</td>\n",
       "      <td>-0.198066</td>\n",
       "      <td>0.073946</td>\n",
       "      <td>0.054196</td>\n",
       "      <td>-1.463371e-02</td>\n",
       "      <td>0.369071</td>\n",
       "      <td>NaN</td>\n",
       "      <td>-0.181728</td>\n",
       "      <td>0.017047</td>\n",
       "    </tr>\n",
       "    <tr>\n",
       "      <th>4</th>\n",
       "      <td>-5.449802e-03</td>\n",
       "      <td>-1.162553e-01</td>\n",
       "      <td>-4.066604e-03</td>\n",
       "      <td>0.936011</td>\n",
       "      <td>1.000000</td>\n",
       "      <td>0.046326</td>\n",
       "      <td>-0.233734</td>\n",
       "      <td>-0.105597</td>\n",
       "      <td>-0.121664</td>\n",
       "      <td>0.086573</td>\n",
       "      <td>0.135172</td>\n",
       "      <td>-4.263901e-02</td>\n",
       "      <td>0.207364</td>\n",
       "      <td>NaN</td>\n",
       "      <td>-0.152015</td>\n",
       "      <td>0.077499</td>\n",
       "    </tr>\n",
       "    <tr>\n",
       "      <th>5</th>\n",
       "      <td>9.524214e-03</td>\n",
       "      <td>3.922290e-03</td>\n",
       "      <td>-9.825492e-03</td>\n",
       "      <td>-0.000619</td>\n",
       "      <td>0.046326</td>\n",
       "      <td>1.000000</td>\n",
       "      <td>0.140645</td>\n",
       "      <td>0.428877</td>\n",
       "      <td>0.597478</td>\n",
       "      <td>-0.068907</td>\n",
       "      <td>0.239148</td>\n",
       "      <td>1.815211e-02</td>\n",
       "      <td>-0.197669</td>\n",
       "      <td>NaN</td>\n",
       "      <td>0.121931</td>\n",
       "      <td>0.178563</td>\n",
       "    </tr>\n",
       "    <tr>\n",
       "      <th>6</th>\n",
       "      <td>-5.377779e-03</td>\n",
       "      <td>7.200727e-02</td>\n",
       "      <td>-2.060802e-02</td>\n",
       "      <td>-0.350687</td>\n",
       "      <td>-0.233734</td>\n",
       "      <td>0.140645</td>\n",
       "      <td>1.000000</td>\n",
       "      <td>0.346198</td>\n",
       "      <td>0.640368</td>\n",
       "      <td>-0.084211</td>\n",
       "      <td>0.138004</td>\n",
       "      <td>-3.041813e-02</td>\n",
       "      <td>-0.410390</td>\n",
       "      <td>NaN</td>\n",
       "      <td>0.227358</td>\n",
       "      <td>0.231231</td>\n",
       "    </tr>\n",
       "    <tr>\n",
       "      <th>7</th>\n",
       "      <td>3.944586e-04</td>\n",
       "      <td>5.533621e-02</td>\n",
       "      <td>-1.123241e-02</td>\n",
       "      <td>-0.150763</td>\n",
       "      <td>-0.105597</td>\n",
       "      <td>0.428877</td>\n",
       "      <td>0.346198</td>\n",
       "      <td>1.000000</td>\n",
       "      <td>0.560125</td>\n",
       "      <td>-0.093763</td>\n",
       "      <td>0.176381</td>\n",
       "      <td>1.595295e-02</td>\n",
       "      <td>-0.304141</td>\n",
       "      <td>NaN</td>\n",
       "      <td>0.270424</td>\n",
       "      <td>0.325176</td>\n",
       "    </tr>\n",
       "    <tr>\n",
       "      <th>8</th>\n",
       "      <td>-1.931851e-03</td>\n",
       "      <td>6.004925e-02</td>\n",
       "      <td>-1.891370e-02</td>\n",
       "      <td>-0.198066</td>\n",
       "      <td>-0.121664</td>\n",
       "      <td>0.597478</td>\n",
       "      <td>0.640368</td>\n",
       "      <td>0.560125</td>\n",
       "      <td>1.000000</td>\n",
       "      <td>-0.071730</td>\n",
       "      <td>0.201733</td>\n",
       "      <td>-1.586054e-02</td>\n",
       "      <td>-0.410321</td>\n",
       "      <td>NaN</td>\n",
       "      <td>0.154980</td>\n",
       "      <td>0.195892</td>\n",
       "    </tr>\n",
       "    <tr>\n",
       "      <th>9</th>\n",
       "      <td>3.134007e-03</td>\n",
       "      <td>-6.409398e-02</td>\n",
       "      <td>-8.840236e-03</td>\n",
       "      <td>0.073946</td>\n",
       "      <td>0.086573</td>\n",
       "      <td>-0.068907</td>\n",
       "      <td>-0.084211</td>\n",
       "      <td>-0.093763</td>\n",
       "      <td>-0.071730</td>\n",
       "      <td>1.000000</td>\n",
       "      <td>0.033467</td>\n",
       "      <td>-8.749214e-02</td>\n",
       "      <td>0.055502</td>\n",
       "      <td>NaN</td>\n",
       "      <td>-0.105648</td>\n",
       "      <td>-0.029627</td>\n",
       "    </tr>\n",
       "    <tr>\n",
       "      <th>10</th>\n",
       "      <td>-5.835981e-03</td>\n",
       "      <td>5.857622e-03</td>\n",
       "      <td>-1.352904e-02</td>\n",
       "      <td>0.054196</td>\n",
       "      <td>0.135172</td>\n",
       "      <td>0.239148</td>\n",
       "      <td>0.138004</td>\n",
       "      <td>0.176381</td>\n",
       "      <td>0.201733</td>\n",
       "      <td>0.033467</td>\n",
       "      <td>1.000000</td>\n",
       "      <td>2.629844e-03</td>\n",
       "      <td>-0.107738</td>\n",
       "      <td>NaN</td>\n",
       "      <td>0.016561</td>\n",
       "      <td>0.079994</td>\n",
       "    </tr>\n",
       "    <tr>\n",
       "      <th>11</th>\n",
       "      <td>-3.361803e-20</td>\n",
       "      <td>2.866266e-21</td>\n",
       "      <td>0.000000e+00</td>\n",
       "      <td>-0.014634</td>\n",
       "      <td>-0.042639</td>\n",
       "      <td>0.018152</td>\n",
       "      <td>-0.030418</td>\n",
       "      <td>0.015953</td>\n",
       "      <td>-0.015861</td>\n",
       "      <td>-0.087492</td>\n",
       "      <td>0.002630</td>\n",
       "      <td>1.000000e+00</td>\n",
       "      <td>0.069154</td>\n",
       "      <td>NaN</td>\n",
       "      <td>0.015705</td>\n",
       "      <td>-0.022435</td>\n",
       "    </tr>\n",
       "    <tr>\n",
       "      <th>12</th>\n",
       "      <td>8.906172e-03</td>\n",
       "      <td>-3.814141e-02</td>\n",
       "      <td>-6.757171e-02</td>\n",
       "      <td>0.369071</td>\n",
       "      <td>0.207364</td>\n",
       "      <td>-0.197669</td>\n",
       "      <td>-0.410390</td>\n",
       "      <td>-0.304141</td>\n",
       "      <td>-0.410321</td>\n",
       "      <td>0.055502</td>\n",
       "      <td>-0.107738</td>\n",
       "      <td>6.915436e-02</td>\n",
       "      <td>1.000000</td>\n",
       "      <td>NaN</td>\n",
       "      <td>-0.114728</td>\n",
       "      <td>-0.125303</td>\n",
       "    </tr>\n",
       "    <tr>\n",
       "      <th>13</th>\n",
       "      <td>NaN</td>\n",
       "      <td>NaN</td>\n",
       "      <td>NaN</td>\n",
       "      <td>NaN</td>\n",
       "      <td>NaN</td>\n",
       "      <td>NaN</td>\n",
       "      <td>NaN</td>\n",
       "      <td>NaN</td>\n",
       "      <td>NaN</td>\n",
       "      <td>NaN</td>\n",
       "      <td>NaN</td>\n",
       "      <td>NaN</td>\n",
       "      <td>NaN</td>\n",
       "      <td>NaN</td>\n",
       "      <td>NaN</td>\n",
       "      <td>NaN</td>\n",
       "    </tr>\n",
       "    <tr>\n",
       "      <th>14</th>\n",
       "      <td>5.825776e-03</td>\n",
       "      <td>2.534636e-02</td>\n",
       "      <td>-9.767246e-04</td>\n",
       "      <td>-0.181728</td>\n",
       "      <td>-0.152015</td>\n",
       "      <td>0.121931</td>\n",
       "      <td>0.227358</td>\n",
       "      <td>0.270424</td>\n",
       "      <td>0.154980</td>\n",
       "      <td>-0.105648</td>\n",
       "      <td>0.016561</td>\n",
       "      <td>1.570471e-02</td>\n",
       "      <td>-0.114728</td>\n",
       "      <td>NaN</td>\n",
       "      <td>1.000000</td>\n",
       "      <td>0.442554</td>\n",
       "    </tr>\n",
       "    <tr>\n",
       "      <th>15</th>\n",
       "      <td>-5.538849e-03</td>\n",
       "      <td>1.127955e-02</td>\n",
       "      <td>2.955321e-03</td>\n",
       "      <td>0.017047</td>\n",
       "      <td>0.077499</td>\n",
       "      <td>0.178563</td>\n",
       "      <td>0.231231</td>\n",
       "      <td>0.325176</td>\n",
       "      <td>0.195892</td>\n",
       "      <td>-0.029627</td>\n",
       "      <td>0.079994</td>\n",
       "      <td>-2.243502e-02</td>\n",
       "      <td>-0.125303</td>\n",
       "      <td>NaN</td>\n",
       "      <td>0.442554</td>\n",
       "      <td>1.000000</td>\n",
       "    </tr>\n",
       "  </tbody>\n",
       "</table>\n",
       "</div>"
      ],
      "text/plain": [
       "        latitude     longitude   hours_ahead  temperature  dewpoint  \\\n",
       "0   1.000000e+00 -3.326960e-17 -3.997295e-17    -0.019066 -0.005450   \n",
       "1  -3.326960e-17  1.000000e+00  3.408085e-18    -0.092072 -0.116255   \n",
       "2  -3.997295e-17  3.408085e-18  1.000000e+00     0.005968 -0.004067   \n",
       "3  -1.906578e-02 -9.207159e-02  5.968429e-03     1.000000  0.936011   \n",
       "4  -5.449802e-03 -1.162553e-01 -4.066604e-03     0.936011  1.000000   \n",
       "5   9.524214e-03  3.922290e-03 -9.825492e-03    -0.000619  0.046326   \n",
       "6  -5.377779e-03  7.200727e-02 -2.060802e-02    -0.350687 -0.233734   \n",
       "7   3.944586e-04  5.533621e-02 -1.123241e-02    -0.150763 -0.105597   \n",
       "8  -1.931851e-03  6.004925e-02 -1.891370e-02    -0.198066 -0.121664   \n",
       "9   3.134007e-03 -6.409398e-02 -8.840236e-03     0.073946  0.086573   \n",
       "10 -5.835981e-03  5.857622e-03 -1.352904e-02     0.054196  0.135172   \n",
       "11 -3.361803e-20  2.866266e-21  0.000000e+00    -0.014634 -0.042639   \n",
       "12  8.906172e-03 -3.814141e-02 -6.757171e-02     0.369071  0.207364   \n",
       "13           NaN           NaN           NaN          NaN       NaN   \n",
       "14  5.825776e-03  2.534636e-02 -9.767246e-04    -0.181728 -0.152015   \n",
       "15 -5.538849e-03  1.127955e-02  2.955321e-03     0.017047  0.077499   \n",
       "\n",
       "    cloudcover_high  cloudcover_low  cloudcover_mid  cloudcover_total  \\\n",
       "0          0.009524       -0.005378        0.000394         -0.001932   \n",
       "1          0.003922        0.072007        0.055336          0.060049   \n",
       "2         -0.009825       -0.020608       -0.011232         -0.018914   \n",
       "3         -0.000619       -0.350687       -0.150763         -0.198066   \n",
       "4          0.046326       -0.233734       -0.105597         -0.121664   \n",
       "5          1.000000        0.140645        0.428877          0.597478   \n",
       "6          0.140645        1.000000        0.346198          0.640368   \n",
       "7          0.428877        0.346198        1.000000          0.560125   \n",
       "8          0.597478        0.640368        0.560125          1.000000   \n",
       "9         -0.068907       -0.084211       -0.093763         -0.071730   \n",
       "10         0.239148        0.138004        0.176381          0.201733   \n",
       "11         0.018152       -0.030418        0.015953         -0.015861   \n",
       "12        -0.197669       -0.410390       -0.304141         -0.410321   \n",
       "13              NaN             NaN             NaN               NaN   \n",
       "14         0.121931        0.227358        0.270424          0.154980   \n",
       "15         0.178563        0.231231        0.325176          0.195892   \n",
       "\n",
       "    10_metre_u_wind_component  10_metre_v_wind_component  data_block_id  \\\n",
       "0                    0.003134                  -0.005836  -3.361803e-20   \n",
       "1                   -0.064094                   0.005858   2.866266e-21   \n",
       "2                   -0.008840                  -0.013529   0.000000e+00   \n",
       "3                    0.073946                   0.054196  -1.463371e-02   \n",
       "4                    0.086573                   0.135172  -4.263901e-02   \n",
       "5                   -0.068907                   0.239148   1.815211e-02   \n",
       "6                   -0.084211                   0.138004  -3.041813e-02   \n",
       "7                   -0.093763                   0.176381   1.595295e-02   \n",
       "8                   -0.071730                   0.201733  -1.586054e-02   \n",
       "9                    1.000000                   0.033467  -8.749214e-02   \n",
       "10                   0.033467                   1.000000   2.629844e-03   \n",
       "11                  -0.087492                   0.002630   1.000000e+00   \n",
       "12                   0.055502                  -0.107738   6.915436e-02   \n",
       "13                        NaN                        NaN            NaN   \n",
       "14                  -0.105648                   0.016561   1.570471e-02   \n",
       "15                  -0.029627                   0.079994  -2.243502e-02   \n",
       "\n",
       "    direct_solar_radiation  surface_solar_radiation_downwards  snowfall  \\\n",
       "0                 0.008906                                NaN  0.005826   \n",
       "1                -0.038141                                NaN  0.025346   \n",
       "2                -0.067572                                NaN -0.000977   \n",
       "3                 0.369071                                NaN -0.181728   \n",
       "4                 0.207364                                NaN -0.152015   \n",
       "5                -0.197669                                NaN  0.121931   \n",
       "6                -0.410390                                NaN  0.227358   \n",
       "7                -0.304141                                NaN  0.270424   \n",
       "8                -0.410321                                NaN  0.154980   \n",
       "9                 0.055502                                NaN -0.105648   \n",
       "10               -0.107738                                NaN  0.016561   \n",
       "11                0.069154                                NaN  0.015705   \n",
       "12                1.000000                                NaN -0.114728   \n",
       "13                     NaN                                NaN       NaN   \n",
       "14               -0.114728                                NaN  1.000000   \n",
       "15               -0.125303                                NaN  0.442554   \n",
       "\n",
       "    total_precipitation  \n",
       "0             -0.005539  \n",
       "1              0.011280  \n",
       "2              0.002955  \n",
       "3              0.017047  \n",
       "4              0.077499  \n",
       "5              0.178563  \n",
       "6              0.231231  \n",
       "7              0.325176  \n",
       "8              0.195892  \n",
       "9             -0.029627  \n",
       "10             0.079994  \n",
       "11            -0.022435  \n",
       "12            -0.125303  \n",
       "13                  NaN  \n",
       "14             0.442554  \n",
       "15             1.000000  "
      ]
     },
     "metadata": {},
     "output_type": "display_data"
    },
    {
     "data": {
      "text/markdown": [
       "### **historical_weather:**"
      ],
      "text/plain": [
       "<IPython.core.display.Markdown object>"
      ]
     },
     "metadata": {},
     "output_type": "display_data"
    },
    {
     "data": {
      "text/html": [
       "<div><style>\n",
       ".dataframe > thead > tr,\n",
       ".dataframe > tbody > tr {\n",
       "  text-align: right;\n",
       "  white-space: pre-wrap;\n",
       "}\n",
       "</style>\n",
       "<small>shape: (5, 18)</small><table border=\"1\" class=\"dataframe\"><thead><tr><th>datetime</th><th>temperature</th><th>dewpoint</th><th>rain</th><th>snowfall</th><th>surface_pressure</th><th>cloudcover_total</th><th>cloudcover_low</th><th>cloudcover_mid</th><th>cloudcover_high</th><th>windspeed_10m</th><th>winddirection_10m</th><th>shortwave_radiation</th><th>direct_solar_radiation</th><th>diffuse_radiation</th><th>latitude</th><th>longitude</th><th>data_block_id</th></tr><tr><td>datetime[μs]</td><td>f64</td><td>f64</td><td>f64</td><td>f64</td><td>f64</td><td>i64</td><td>i64</td><td>i64</td><td>i64</td><td>f64</td><td>i64</td><td>f64</td><td>f64</td><td>f64</td><td>f64</td><td>f64</td><td>f64</td></tr></thead><tbody><tr><td>2021-09-01 00:00:00</td><td>14.2</td><td>11.6</td><td>0.0</td><td>0.0</td><td>1015.9</td><td>31</td><td>31</td><td>0</td><td>11</td><td>7.083333</td><td>8</td><td>0.0</td><td>0.0</td><td>0.0</td><td>57.6</td><td>21.7</td><td>1.0</td></tr><tr><td>2021-09-01 00:00:00</td><td>13.9</td><td>11.5</td><td>0.0</td><td>0.0</td><td>1010.7</td><td>33</td><td>37</td><td>0</td><td>0</td><td>5.111111</td><td>359</td><td>0.0</td><td>0.0</td><td>0.0</td><td>57.6</td><td>22.2</td><td>1.0</td></tr><tr><td>2021-09-01 00:00:00</td><td>14.0</td><td>12.5</td><td>0.0</td><td>0.0</td><td>1015.0</td><td>31</td><td>34</td><td>0</td><td>0</td><td>6.333333</td><td>355</td><td>0.0</td><td>0.0</td><td>0.0</td><td>57.6</td><td>22.7</td><td>1.0</td></tr><tr><td>2021-09-01 00:00:00</td><td>14.6</td><td>11.5</td><td>0.0</td><td>0.0</td><td>1017.3</td><td>0</td><td>0</td><td>0</td><td>0</td><td>8.083333</td><td>297</td><td>358.0</td><td>277.0</td><td>81.0</td><td>57.6</td><td>23.2</td><td>1.0</td></tr><tr><td>2021-09-01 00:00:00</td><td>15.7</td><td>12.9</td><td>0.0</td><td>0.0</td><td>1014.0</td><td>22</td><td>25</td><td>0</td><td>0</td><td>8.416667</td><td>5</td><td>0.0</td><td>0.0</td><td>0.0</td><td>57.6</td><td>23.7</td><td>1.0</td></tr></tbody></table></div>"
      ],
      "text/plain": [
       "shape: (5, 18)\n",
       "┌─────────────┬─────────────┬──────────┬──────┬───┬────────────┬──────────┬───────────┬────────────┐\n",
       "│ datetime    ┆ temperature ┆ dewpoint ┆ rain ┆ … ┆ diffuse_ra ┆ latitude ┆ longitude ┆ data_block │\n",
       "│ ---         ┆ ---         ┆ ---      ┆ ---  ┆   ┆ diation    ┆ ---      ┆ ---       ┆ _id        │\n",
       "│ datetime[μs ┆ f64         ┆ f64      ┆ f64  ┆   ┆ ---        ┆ f64      ┆ f64       ┆ ---        │\n",
       "│ ]           ┆             ┆          ┆      ┆   ┆ f64        ┆          ┆           ┆ f64        │\n",
       "╞═════════════╪═════════════╪══════════╪══════╪═══╪════════════╪══════════╪═══════════╪════════════╡\n",
       "│ 2021-09-01  ┆ 14.2        ┆ 11.6     ┆ 0.0  ┆ … ┆ 0.0        ┆ 57.6     ┆ 21.7      ┆ 1.0        │\n",
       "│ 00:00:00    ┆             ┆          ┆      ┆   ┆            ┆          ┆           ┆            │\n",
       "│ 2021-09-01  ┆ 13.9        ┆ 11.5     ┆ 0.0  ┆ … ┆ 0.0        ┆ 57.6     ┆ 22.2      ┆ 1.0        │\n",
       "│ 00:00:00    ┆             ┆          ┆      ┆   ┆            ┆          ┆           ┆            │\n",
       "│ 2021-09-01  ┆ 14.0        ┆ 12.5     ┆ 0.0  ┆ … ┆ 0.0        ┆ 57.6     ┆ 22.7      ┆ 1.0        │\n",
       "│ 00:00:00    ┆             ┆          ┆      ┆   ┆            ┆          ┆           ┆            │\n",
       "│ 2021-09-01  ┆ 14.6        ┆ 11.5     ┆ 0.0  ┆ … ┆ 81.0       ┆ 57.6     ┆ 23.2      ┆ 1.0        │\n",
       "│ 00:00:00    ┆             ┆          ┆      ┆   ┆            ┆          ┆           ┆            │\n",
       "│ 2021-09-01  ┆ 15.7        ┆ 12.9     ┆ 0.0  ┆ … ┆ 0.0        ┆ 57.6     ┆ 23.7      ┆ 1.0        │\n",
       "│ 00:00:00    ┆             ┆          ┆      ┆   ┆            ┆          ┆           ┆            │\n",
       "└─────────────┴─────────────┴──────────┴──────┴───┴────────────┴──────────┴───────────┴────────────┘"
      ]
     },
     "metadata": {},
     "output_type": "display_data"
    },
    {
     "data": {
      "text/markdown": [
       "shape: (1710802, 18)"
      ],
      "text/plain": [
       "<IPython.core.display.Markdown object>"
      ]
     },
     "metadata": {},
     "output_type": "display_data"
    },
    {
     "data": {
      "text/markdown": [
       "#### Estadísticas:"
      ],
      "text/plain": [
       "<IPython.core.display.Markdown object>"
      ]
     },
     "metadata": {},
     "output_type": "display_data"
    },
    {
     "data": {
      "text/html": [
       "<div><style>\n",
       ".dataframe > thead > tr,\n",
       ".dataframe > tbody > tr {\n",
       "  text-align: right;\n",
       "  white-space: pre-wrap;\n",
       "}\n",
       "</style>\n",
       "<small>shape: (9, 19)</small><table border=\"1\" class=\"dataframe\"><thead><tr><th>statistic</th><th>datetime</th><th>temperature</th><th>dewpoint</th><th>rain</th><th>snowfall</th><th>surface_pressure</th><th>cloudcover_total</th><th>cloudcover_low</th><th>cloudcover_mid</th><th>cloudcover_high</th><th>windspeed_10m</th><th>winddirection_10m</th><th>shortwave_radiation</th><th>direct_solar_radiation</th><th>diffuse_radiation</th><th>latitude</th><th>longitude</th><th>data_block_id</th></tr><tr><td>str</td><td>str</td><td>f64</td><td>f64</td><td>f64</td><td>f64</td><td>f64</td><td>f64</td><td>f64</td><td>f64</td><td>f64</td><td>f64</td><td>f64</td><td>f64</td><td>f64</td><td>f64</td><td>f64</td><td>f64</td><td>f64</td></tr></thead><tbody><tr><td>&quot;count&quot;</td><td>&quot;1710802&quot;</td><td>1.710802e6</td><td>1.710802e6</td><td>1.710802e6</td><td>1.710802e6</td><td>1.710802e6</td><td>1.710802e6</td><td>1.710802e6</td><td>1.710802e6</td><td>1.710802e6</td><td>1.710802e6</td><td>1.710802e6</td><td>1.710802e6</td><td>1.710802e6</td><td>1.710802e6</td><td>1.710802e6</td><td>1.710802e6</td><td>1.710802e6</td></tr><tr><td>&quot;null_count&quot;</td><td>&quot;0&quot;</td><td>0.0</td><td>0.0</td><td>0.0</td><td>0.0</td><td>0.0</td><td>0.0</td><td>0.0</td><td>0.0</td><td>0.0</td><td>0.0</td><td>0.0</td><td>0.0</td><td>0.0</td><td>0.0</td><td>0.0</td><td>0.0</td><td>0.0</td></tr><tr><td>&quot;mean&quot;</td><td>&quot;2022-07-16 05:00:12.061711&quot;</td><td>5.740968</td><td>2.240312</td><td>0.04962</td><td>0.016049</td><td>1009.281515</td><td>60.912696</td><td>46.685927</td><td>34.40698</td><td>36.051408</td><td>4.849871</td><td>197.869419</td><td>106.490504</td><td>64.452917</td><td>42.037587</td><td>58.649999</td><td>24.949999</td><td>319.270778</td></tr><tr><td>&quot;std&quot;</td><td>null</td><td>8.025647</td><td>7.224357</td><td>0.207911</td><td>0.074629</td><td>13.088915</td><td>37.769048</td><td>40.747598</td><td>38.327693</td><td>41.358521</td><td>2.47545</td><td>89.937978</td><td>179.944912</td><td>133.409951</td><td>61.952251</td><td>0.687387</td><td>2.015564</td><td>183.729798</td></tr><tr><td>&quot;min&quot;</td><td>&quot;2021-09-01 00:00:00&quot;</td><td>-23.7</td><td>-25.9</td><td>0.0</td><td>0.0</td><td>942.9</td><td>0.0</td><td>0.0</td><td>0.0</td><td>0.0</td><td>0.0</td><td>0.0</td><td>0.0</td><td>0.0</td><td>0.0</td><td>57.6</td><td>21.7</td><td>1.0</td></tr><tr><td>&quot;25%&quot;</td><td>&quot;2022-02-07 02:00:00&quot;</td><td>0.0</td><td>-2.6</td><td>0.0</td><td>0.0</td><td>1001.5</td><td>25.0</td><td>3.0</td><td>0.0</td><td>0.0</td><td>3.0</td><td>139.0</td><td>0.0</td><td>0.0</td><td>0.0</td><td>57.9</td><td>23.2</td><td>160.0</td></tr><tr><td>&quot;50%&quot;</td><td>&quot;2022-07-16 05:00:00&quot;</td><td>5.1</td><td>1.7</td><td>0.0</td><td>0.0</td><td>1010.4</td><td>72.0</td><td>39.0</td><td>16.0</td><td>10.0</td><td>4.5</td><td>208.0</td><td>1.0</td><td>0.0</td><td>1.0</td><td>58.5</td><td>24.7</td><td>319.0</td></tr><tr><td>&quot;75%&quot;</td><td>&quot;2022-12-22 08:00:00&quot;</td><td>11.2</td><td>7.2</td><td>0.0</td><td>0.0</td><td>1018.0</td><td>100.0</td><td>94.0</td><td>72.0</td><td>85.0</td><td>6.277778</td><td>263.0</td><td>140.0</td><td>47.0</td><td>74.0</td><td>59.1</td><td>26.7</td><td>478.0</td></tr><tr><td>&quot;max&quot;</td><td>&quot;2023-05-30 10:00:00&quot;</td><td>32.6</td><td>23.8</td><td>16.8</td><td>2.66</td><td>1049.3</td><td>100.0</td><td>100.0</td><td>100.0</td><td>100.0</td><td>21.75</td><td>360.0</td><td>849.0</td><td>754.0</td><td>388.0</td><td>59.7</td><td>28.2</td><td>637.0</td></tr></tbody></table></div>"
      ],
      "text/plain": [
       "shape: (9, 19)\n",
       "┌───────────┬───────────┬───────────┬───────────┬───┬───────────┬───────────┬───────────┬──────────┐\n",
       "│ statistic ┆ datetime  ┆ temperatu ┆ dewpoint  ┆ … ┆ diffuse_r ┆ latitude  ┆ longitude ┆ data_blo │\n",
       "│ ---       ┆ ---       ┆ re        ┆ ---       ┆   ┆ adiation  ┆ ---       ┆ ---       ┆ ck_id    │\n",
       "│ str       ┆ str       ┆ ---       ┆ f64       ┆   ┆ ---       ┆ f64       ┆ f64       ┆ ---      │\n",
       "│           ┆           ┆ f64       ┆           ┆   ┆ f64       ┆           ┆           ┆ f64      │\n",
       "╞═══════════╪═══════════╪═══════════╪═══════════╪═══╪═══════════╪═══════════╪═══════════╪══════════╡\n",
       "│ count     ┆ 1710802   ┆ 1.710802e ┆ 1.710802e ┆ … ┆ 1.710802e ┆ 1.710802e ┆ 1.710802e ┆ 1.710802 │\n",
       "│           ┆           ┆ 6         ┆ 6         ┆   ┆ 6         ┆ 6         ┆ 6         ┆ e6       │\n",
       "│ null_coun ┆ 0         ┆ 0.0       ┆ 0.0       ┆ … ┆ 0.0       ┆ 0.0       ┆ 0.0       ┆ 0.0      │\n",
       "│ t         ┆           ┆           ┆           ┆   ┆           ┆           ┆           ┆          │\n",
       "│ mean      ┆ 2022-07-1 ┆ 5.740968  ┆ 2.240312  ┆ … ┆ 42.037587 ┆ 58.649999 ┆ 24.949999 ┆ 319.2707 │\n",
       "│           ┆ 6 05:00:1 ┆           ┆           ┆   ┆           ┆           ┆           ┆ 78       │\n",
       "│           ┆ 2.061711  ┆           ┆           ┆   ┆           ┆           ┆           ┆          │\n",
       "│ std       ┆ null      ┆ 8.025647  ┆ 7.224357  ┆ … ┆ 61.952251 ┆ 0.687387  ┆ 2.015564  ┆ 183.7297 │\n",
       "│           ┆           ┆           ┆           ┆   ┆           ┆           ┆           ┆ 98       │\n",
       "│ min       ┆ 2021-09-0 ┆ -23.7     ┆ -25.9     ┆ … ┆ 0.0       ┆ 57.6      ┆ 21.7      ┆ 1.0      │\n",
       "│           ┆ 1         ┆           ┆           ┆   ┆           ┆           ┆           ┆          │\n",
       "│           ┆ 00:00:00  ┆           ┆           ┆   ┆           ┆           ┆           ┆          │\n",
       "│ 25%       ┆ 2022-02-0 ┆ 0.0       ┆ -2.6      ┆ … ┆ 0.0       ┆ 57.9      ┆ 23.2      ┆ 160.0    │\n",
       "│           ┆ 7         ┆           ┆           ┆   ┆           ┆           ┆           ┆          │\n",
       "│           ┆ 02:00:00  ┆           ┆           ┆   ┆           ┆           ┆           ┆          │\n",
       "│ 50%       ┆ 2022-07-1 ┆ 5.1       ┆ 1.7       ┆ … ┆ 1.0       ┆ 58.5      ┆ 24.7      ┆ 319.0    │\n",
       "│           ┆ 6         ┆           ┆           ┆   ┆           ┆           ┆           ┆          │\n",
       "│           ┆ 05:00:00  ┆           ┆           ┆   ┆           ┆           ┆           ┆          │\n",
       "│ 75%       ┆ 2022-12-2 ┆ 11.2      ┆ 7.2       ┆ … ┆ 74.0      ┆ 59.1      ┆ 26.7      ┆ 478.0    │\n",
       "│           ┆ 2         ┆           ┆           ┆   ┆           ┆           ┆           ┆          │\n",
       "│           ┆ 08:00:00  ┆           ┆           ┆   ┆           ┆           ┆           ┆          │\n",
       "│ max       ┆ 2023-05-3 ┆ 32.6      ┆ 23.8      ┆ … ┆ 388.0     ┆ 59.7      ┆ 28.2      ┆ 637.0    │\n",
       "│           ┆ 0         ┆           ┆           ┆   ┆           ┆           ┆           ┆          │\n",
       "│           ┆ 10:00:00  ┆           ┆           ┆   ┆           ┆           ┆           ┆          │\n",
       "└───────────┴───────────┴───────────┴───────────┴───┴───────────┴───────────┴───────────┴──────────┘"
      ]
     },
     "metadata": {},
     "output_type": "display_data"
    },
    {
     "data": {
      "text/markdown": [
       "#### Categorías:"
      ],
      "text/plain": [
       "<IPython.core.display.Markdown object>"
      ]
     },
     "metadata": {},
     "output_type": "display_data"
    },
    {
     "data": {
      "text/markdown": [
       "Sin columnas categóricas."
      ],
      "text/plain": [
       "<IPython.core.display.Markdown object>"
      ]
     },
     "metadata": {},
     "output_type": "display_data"
    },
    {
     "data": {
      "text/markdown": [
       "Correlations:"
      ],
      "text/plain": [
       "<IPython.core.display.Markdown object>"
      ]
     },
     "metadata": {},
     "output_type": "display_data"
    },
    {
     "data": {
      "text/html": [
       "<div>\n",
       "<style scoped>\n",
       "    .dataframe tbody tr th:only-of-type {\n",
       "        vertical-align: middle;\n",
       "    }\n",
       "\n",
       "    .dataframe tbody tr th {\n",
       "        vertical-align: top;\n",
       "    }\n",
       "\n",
       "    .dataframe thead th {\n",
       "        text-align: right;\n",
       "    }\n",
       "</style>\n",
       "<table border=\"1\" class=\"dataframe\">\n",
       "  <thead>\n",
       "    <tr style=\"text-align: right;\">\n",
       "      <th></th>\n",
       "      <th>temperature</th>\n",
       "      <th>dewpoint</th>\n",
       "      <th>rain</th>\n",
       "      <th>snowfall</th>\n",
       "      <th>surface_pressure</th>\n",
       "      <th>cloudcover_total</th>\n",
       "      <th>cloudcover_low</th>\n",
       "      <th>cloudcover_mid</th>\n",
       "      <th>cloudcover_high</th>\n",
       "      <th>windspeed_10m</th>\n",
       "      <th>winddirection_10m</th>\n",
       "      <th>shortwave_radiation</th>\n",
       "      <th>direct_solar_radiation</th>\n",
       "      <th>diffuse_radiation</th>\n",
       "      <th>latitude</th>\n",
       "      <th>longitude</th>\n",
       "      <th>data_block_id</th>\n",
       "    </tr>\n",
       "  </thead>\n",
       "  <tbody>\n",
       "    <tr>\n",
       "      <th>0</th>\n",
       "      <td>1.000000</td>\n",
       "      <td>0.932826</td>\n",
       "      <td>0.117469</td>\n",
       "      <td>-0.188817</td>\n",
       "      <td>0.108984</td>\n",
       "      <td>-0.274801</td>\n",
       "      <td>-0.348149</td>\n",
       "      <td>-0.123345</td>\n",
       "      <td>0.010232</td>\n",
       "      <td>-0.054503</td>\n",
       "      <td>0.031014</td>\n",
       "      <td>0.448535</td>\n",
       "      <td>0.419212</td>\n",
       "      <td>0.400059</td>\n",
       "      <td>-0.023109</td>\n",
       "      <td>-8.930361e-02</td>\n",
       "      <td>-1.710311e-02</td>\n",
       "    </tr>\n",
       "    <tr>\n",
       "      <th>1</th>\n",
       "      <td>0.932826</td>\n",
       "      <td>1.000000</td>\n",
       "      <td>0.183479</td>\n",
       "      <td>-0.151717</td>\n",
       "      <td>0.027504</td>\n",
       "      <td>-0.146175</td>\n",
       "      <td>-0.199881</td>\n",
       "      <td>-0.067964</td>\n",
       "      <td>0.056985</td>\n",
       "      <td>-0.035742</td>\n",
       "      <td>0.067949</td>\n",
       "      <td>0.245328</td>\n",
       "      <td>0.218748</td>\n",
       "      <td>0.241515</td>\n",
       "      <td>-0.012916</td>\n",
       "      <td>-1.058830e-01</td>\n",
       "      <td>-5.603278e-02</td>\n",
       "    </tr>\n",
       "    <tr>\n",
       "      <th>2</th>\n",
       "      <td>0.117469</td>\n",
       "      <td>0.183479</td>\n",
       "      <td>1.000000</td>\n",
       "      <td>-0.002668</td>\n",
       "      <td>-0.173514</td>\n",
       "      <td>0.188819</td>\n",
       "      <td>0.146022</td>\n",
       "      <td>0.266776</td>\n",
       "      <td>0.151844</td>\n",
       "      <td>0.114598</td>\n",
       "      <td>-0.001668</td>\n",
       "      <td>-0.033264</td>\n",
       "      <td>-0.055839</td>\n",
       "      <td>0.023629</td>\n",
       "      <td>-0.004645</td>\n",
       "      <td>-5.169818e-03</td>\n",
       "      <td>-3.421934e-02</td>\n",
       "    </tr>\n",
       "    <tr>\n",
       "      <th>3</th>\n",
       "      <td>-0.188817</td>\n",
       "      <td>-0.151717</td>\n",
       "      <td>-0.002668</td>\n",
       "      <td>1.000000</td>\n",
       "      <td>-0.257111</td>\n",
       "      <td>0.210455</td>\n",
       "      <td>0.215334</td>\n",
       "      <td>0.315405</td>\n",
       "      <td>0.158039</td>\n",
       "      <td>0.142666</td>\n",
       "      <td>-0.008854</td>\n",
       "      <td>-0.105201</td>\n",
       "      <td>-0.099027</td>\n",
       "      <td>-0.092315</td>\n",
       "      <td>0.006490</td>\n",
       "      <td>2.734272e-02</td>\n",
       "      <td>1.624558e-02</td>\n",
       "    </tr>\n",
       "    <tr>\n",
       "      <th>4</th>\n",
       "      <td>0.108984</td>\n",
       "      <td>0.027504</td>\n",
       "      <td>-0.173514</td>\n",
       "      <td>-0.257111</td>\n",
       "      <td>1.000000</td>\n",
       "      <td>-0.337567</td>\n",
       "      <td>-0.283840</td>\n",
       "      <td>-0.343643</td>\n",
       "      <td>-0.158701</td>\n",
       "      <td>-0.198898</td>\n",
       "      <td>-0.065881</td>\n",
       "      <td>0.144627</td>\n",
       "      <td>0.166921</td>\n",
       "      <td>0.060627</td>\n",
       "      <td>0.073101</td>\n",
       "      <td>-2.081593e-01</td>\n",
       "      <td>8.090565e-02</td>\n",
       "    </tr>\n",
       "    <tr>\n",
       "      <th>5</th>\n",
       "      <td>-0.274801</td>\n",
       "      <td>-0.146175</td>\n",
       "      <td>0.188819</td>\n",
       "      <td>0.210455</td>\n",
       "      <td>-0.337567</td>\n",
       "      <td>1.000000</td>\n",
       "      <td>0.839190</td>\n",
       "      <td>0.633825</td>\n",
       "      <td>0.437592</td>\n",
       "      <td>0.176693</td>\n",
       "      <td>0.010764</td>\n",
       "      <td>-0.294352</td>\n",
       "      <td>-0.365561</td>\n",
       "      <td>-0.067756</td>\n",
       "      <td>-0.005311</td>\n",
       "      <td>7.505867e-02</td>\n",
       "      <td>-3.874790e-02</td>\n",
       "    </tr>\n",
       "    <tr>\n",
       "      <th>6</th>\n",
       "      <td>-0.348149</td>\n",
       "      <td>-0.199881</td>\n",
       "      <td>0.146022</td>\n",
       "      <td>0.215334</td>\n",
       "      <td>-0.283840</td>\n",
       "      <td>0.839190</td>\n",
       "      <td>1.000000</td>\n",
       "      <td>0.325426</td>\n",
       "      <td>0.139035</td>\n",
       "      <td>0.148048</td>\n",
       "      <td>0.002224</td>\n",
       "      <td>-0.319044</td>\n",
       "      <td>-0.351790</td>\n",
       "      <td>-0.169133</td>\n",
       "      <td>-0.005643</td>\n",
       "      <td>7.736866e-02</td>\n",
       "      <td>-5.007015e-02</td>\n",
       "    </tr>\n",
       "    <tr>\n",
       "      <th>7</th>\n",
       "      <td>-0.123345</td>\n",
       "      <td>-0.067964</td>\n",
       "      <td>0.266776</td>\n",
       "      <td>0.315405</td>\n",
       "      <td>-0.343643</td>\n",
       "      <td>0.633825</td>\n",
       "      <td>0.325426</td>\n",
       "      <td>1.000000</td>\n",
       "      <td>0.451237</td>\n",
       "      <td>0.178359</td>\n",
       "      <td>0.008718</td>\n",
       "      <td>-0.153572</td>\n",
       "      <td>-0.204507</td>\n",
       "      <td>-0.005670</td>\n",
       "      <td>0.000646</td>\n",
       "      <td>5.335170e-02</td>\n",
       "      <td>1.660490e-02</td>\n",
       "    </tr>\n",
       "    <tr>\n",
       "      <th>8</th>\n",
       "      <td>0.010232</td>\n",
       "      <td>0.056985</td>\n",
       "      <td>0.151844</td>\n",
       "      <td>0.158039</td>\n",
       "      <td>-0.158701</td>\n",
       "      <td>0.437592</td>\n",
       "      <td>0.139035</td>\n",
       "      <td>0.451237</td>\n",
       "      <td>1.000000</td>\n",
       "      <td>0.125372</td>\n",
       "      <td>0.017386</td>\n",
       "      <td>-0.089257</td>\n",
       "      <td>-0.136722</td>\n",
       "      <td>0.035166</td>\n",
       "      <td>0.006195</td>\n",
       "      <td>-4.931478e-04</td>\n",
       "      <td>2.201851e-02</td>\n",
       "    </tr>\n",
       "    <tr>\n",
       "      <th>9</th>\n",
       "      <td>-0.054503</td>\n",
       "      <td>-0.035742</td>\n",
       "      <td>0.114598</td>\n",
       "      <td>0.142666</td>\n",
       "      <td>-0.198898</td>\n",
       "      <td>0.176693</td>\n",
       "      <td>0.148048</td>\n",
       "      <td>0.178359</td>\n",
       "      <td>0.125372</td>\n",
       "      <td>1.000000</td>\n",
       "      <td>0.011507</td>\n",
       "      <td>-0.068603</td>\n",
       "      <td>-0.078684</td>\n",
       "      <td>-0.029824</td>\n",
       "      <td>0.074656</td>\n",
       "      <td>-3.199888e-01</td>\n",
       "      <td>-1.145911e-01</td>\n",
       "    </tr>\n",
       "    <tr>\n",
       "      <th>10</th>\n",
       "      <td>0.031014</td>\n",
       "      <td>0.067949</td>\n",
       "      <td>-0.001668</td>\n",
       "      <td>-0.008854</td>\n",
       "      <td>-0.065881</td>\n",
       "      <td>0.010764</td>\n",
       "      <td>0.002224</td>\n",
       "      <td>0.008718</td>\n",
       "      <td>0.017386</td>\n",
       "      <td>0.011507</td>\n",
       "      <td>1.000000</td>\n",
       "      <td>-0.030258</td>\n",
       "      <td>-0.022235</td>\n",
       "      <td>-0.040004</td>\n",
       "      <td>-0.000488</td>\n",
       "      <td>1.191594e-02</td>\n",
       "      <td>6.861709e-03</td>\n",
       "    </tr>\n",
       "    <tr>\n",
       "      <th>11</th>\n",
       "      <td>0.448535</td>\n",
       "      <td>0.245328</td>\n",
       "      <td>-0.033264</td>\n",
       "      <td>-0.105201</td>\n",
       "      <td>0.144627</td>\n",
       "      <td>-0.294352</td>\n",
       "      <td>-0.319044</td>\n",
       "      <td>-0.153572</td>\n",
       "      <td>-0.089257</td>\n",
       "      <td>-0.068603</td>\n",
       "      <td>-0.030258</td>\n",
       "      <td>1.000000</td>\n",
       "      <td>0.965164</td>\n",
       "      <td>0.826159</td>\n",
       "      <td>-0.006904</td>\n",
       "      <td>-1.839939e-02</td>\n",
       "      <td>8.670149e-02</td>\n",
       "    </tr>\n",
       "    <tr>\n",
       "      <th>12</th>\n",
       "      <td>0.419212</td>\n",
       "      <td>0.218748</td>\n",
       "      <td>-0.055839</td>\n",
       "      <td>-0.099027</td>\n",
       "      <td>0.166921</td>\n",
       "      <td>-0.365561</td>\n",
       "      <td>-0.351790</td>\n",
       "      <td>-0.204507</td>\n",
       "      <td>-0.136722</td>\n",
       "      <td>-0.078684</td>\n",
       "      <td>-0.022235</td>\n",
       "      <td>0.965164</td>\n",
       "      <td>1.000000</td>\n",
       "      <td>0.649958</td>\n",
       "      <td>-0.000637</td>\n",
       "      <td>-2.899387e-02</td>\n",
       "      <td>8.785629e-02</td>\n",
       "    </tr>\n",
       "    <tr>\n",
       "      <th>13</th>\n",
       "      <td>0.400059</td>\n",
       "      <td>0.241515</td>\n",
       "      <td>0.023629</td>\n",
       "      <td>-0.092315</td>\n",
       "      <td>0.060627</td>\n",
       "      <td>-0.067756</td>\n",
       "      <td>-0.169133</td>\n",
       "      <td>-0.005670</td>\n",
       "      <td>0.035166</td>\n",
       "      <td>-0.029824</td>\n",
       "      <td>-0.040004</td>\n",
       "      <td>0.826159</td>\n",
       "      <td>0.649958</td>\n",
       "      <td>1.000000</td>\n",
       "      <td>-0.018680</td>\n",
       "      <td>8.993951e-03</td>\n",
       "      <td>6.263839e-02</td>\n",
       "    </tr>\n",
       "    <tr>\n",
       "      <th>14</th>\n",
       "      <td>-0.023109</td>\n",
       "      <td>-0.012916</td>\n",
       "      <td>-0.004645</td>\n",
       "      <td>0.006490</td>\n",
       "      <td>0.073101</td>\n",
       "      <td>-0.005311</td>\n",
       "      <td>-0.005643</td>\n",
       "      <td>0.000646</td>\n",
       "      <td>0.006195</td>\n",
       "      <td>0.074656</td>\n",
       "      <td>-0.000488</td>\n",
       "      <td>-0.006904</td>\n",
       "      <td>-0.000637</td>\n",
       "      <td>-0.018680</td>\n",
       "      <td>1.000000</td>\n",
       "      <td>1.107468e-06</td>\n",
       "      <td>-1.163695e-06</td>\n",
       "    </tr>\n",
       "    <tr>\n",
       "      <th>15</th>\n",
       "      <td>-0.089304</td>\n",
       "      <td>-0.105883</td>\n",
       "      <td>-0.005170</td>\n",
       "      <td>0.027343</td>\n",
       "      <td>-0.208159</td>\n",
       "      <td>0.075059</td>\n",
       "      <td>0.077369</td>\n",
       "      <td>0.053352</td>\n",
       "      <td>-0.000493</td>\n",
       "      <td>-0.319989</td>\n",
       "      <td>0.011916</td>\n",
       "      <td>-0.018399</td>\n",
       "      <td>-0.028994</td>\n",
       "      <td>0.008994</td>\n",
       "      <td>0.000001</td>\n",
       "      <td>1.000000e+00</td>\n",
       "      <td>-4.724593e-07</td>\n",
       "    </tr>\n",
       "    <tr>\n",
       "      <th>16</th>\n",
       "      <td>-0.017103</td>\n",
       "      <td>-0.056033</td>\n",
       "      <td>-0.034219</td>\n",
       "      <td>0.016246</td>\n",
       "      <td>0.080906</td>\n",
       "      <td>-0.038748</td>\n",
       "      <td>-0.050070</td>\n",
       "      <td>0.016605</td>\n",
       "      <td>0.022019</td>\n",
       "      <td>-0.114591</td>\n",
       "      <td>0.006862</td>\n",
       "      <td>0.086701</td>\n",
       "      <td>0.087856</td>\n",
       "      <td>0.062638</td>\n",
       "      <td>-0.000001</td>\n",
       "      <td>-4.724593e-07</td>\n",
       "      <td>1.000000e+00</td>\n",
       "    </tr>\n",
       "  </tbody>\n",
       "</table>\n",
       "</div>"
      ],
      "text/plain": [
       "    temperature  dewpoint      rain  snowfall  surface_pressure  \\\n",
       "0      1.000000  0.932826  0.117469 -0.188817          0.108984   \n",
       "1      0.932826  1.000000  0.183479 -0.151717          0.027504   \n",
       "2      0.117469  0.183479  1.000000 -0.002668         -0.173514   \n",
       "3     -0.188817 -0.151717 -0.002668  1.000000         -0.257111   \n",
       "4      0.108984  0.027504 -0.173514 -0.257111          1.000000   \n",
       "5     -0.274801 -0.146175  0.188819  0.210455         -0.337567   \n",
       "6     -0.348149 -0.199881  0.146022  0.215334         -0.283840   \n",
       "7     -0.123345 -0.067964  0.266776  0.315405         -0.343643   \n",
       "8      0.010232  0.056985  0.151844  0.158039         -0.158701   \n",
       "9     -0.054503 -0.035742  0.114598  0.142666         -0.198898   \n",
       "10     0.031014  0.067949 -0.001668 -0.008854         -0.065881   \n",
       "11     0.448535  0.245328 -0.033264 -0.105201          0.144627   \n",
       "12     0.419212  0.218748 -0.055839 -0.099027          0.166921   \n",
       "13     0.400059  0.241515  0.023629 -0.092315          0.060627   \n",
       "14    -0.023109 -0.012916 -0.004645  0.006490          0.073101   \n",
       "15    -0.089304 -0.105883 -0.005170  0.027343         -0.208159   \n",
       "16    -0.017103 -0.056033 -0.034219  0.016246          0.080906   \n",
       "\n",
       "    cloudcover_total  cloudcover_low  cloudcover_mid  cloudcover_high  \\\n",
       "0          -0.274801       -0.348149       -0.123345         0.010232   \n",
       "1          -0.146175       -0.199881       -0.067964         0.056985   \n",
       "2           0.188819        0.146022        0.266776         0.151844   \n",
       "3           0.210455        0.215334        0.315405         0.158039   \n",
       "4          -0.337567       -0.283840       -0.343643        -0.158701   \n",
       "5           1.000000        0.839190        0.633825         0.437592   \n",
       "6           0.839190        1.000000        0.325426         0.139035   \n",
       "7           0.633825        0.325426        1.000000         0.451237   \n",
       "8           0.437592        0.139035        0.451237         1.000000   \n",
       "9           0.176693        0.148048        0.178359         0.125372   \n",
       "10          0.010764        0.002224        0.008718         0.017386   \n",
       "11         -0.294352       -0.319044       -0.153572        -0.089257   \n",
       "12         -0.365561       -0.351790       -0.204507        -0.136722   \n",
       "13         -0.067756       -0.169133       -0.005670         0.035166   \n",
       "14         -0.005311       -0.005643        0.000646         0.006195   \n",
       "15          0.075059        0.077369        0.053352        -0.000493   \n",
       "16         -0.038748       -0.050070        0.016605         0.022019   \n",
       "\n",
       "    windspeed_10m  winddirection_10m  shortwave_radiation  \\\n",
       "0       -0.054503           0.031014             0.448535   \n",
       "1       -0.035742           0.067949             0.245328   \n",
       "2        0.114598          -0.001668            -0.033264   \n",
       "3        0.142666          -0.008854            -0.105201   \n",
       "4       -0.198898          -0.065881             0.144627   \n",
       "5        0.176693           0.010764            -0.294352   \n",
       "6        0.148048           0.002224            -0.319044   \n",
       "7        0.178359           0.008718            -0.153572   \n",
       "8        0.125372           0.017386            -0.089257   \n",
       "9        1.000000           0.011507            -0.068603   \n",
       "10       0.011507           1.000000            -0.030258   \n",
       "11      -0.068603          -0.030258             1.000000   \n",
       "12      -0.078684          -0.022235             0.965164   \n",
       "13      -0.029824          -0.040004             0.826159   \n",
       "14       0.074656          -0.000488            -0.006904   \n",
       "15      -0.319989           0.011916            -0.018399   \n",
       "16      -0.114591           0.006862             0.086701   \n",
       "\n",
       "    direct_solar_radiation  diffuse_radiation  latitude     longitude  \\\n",
       "0                 0.419212           0.400059 -0.023109 -8.930361e-02   \n",
       "1                 0.218748           0.241515 -0.012916 -1.058830e-01   \n",
       "2                -0.055839           0.023629 -0.004645 -5.169818e-03   \n",
       "3                -0.099027          -0.092315  0.006490  2.734272e-02   \n",
       "4                 0.166921           0.060627  0.073101 -2.081593e-01   \n",
       "5                -0.365561          -0.067756 -0.005311  7.505867e-02   \n",
       "6                -0.351790          -0.169133 -0.005643  7.736866e-02   \n",
       "7                -0.204507          -0.005670  0.000646  5.335170e-02   \n",
       "8                -0.136722           0.035166  0.006195 -4.931478e-04   \n",
       "9                -0.078684          -0.029824  0.074656 -3.199888e-01   \n",
       "10               -0.022235          -0.040004 -0.000488  1.191594e-02   \n",
       "11                0.965164           0.826159 -0.006904 -1.839939e-02   \n",
       "12                1.000000           0.649958 -0.000637 -2.899387e-02   \n",
       "13                0.649958           1.000000 -0.018680  8.993951e-03   \n",
       "14               -0.000637          -0.018680  1.000000  1.107468e-06   \n",
       "15               -0.028994           0.008994  0.000001  1.000000e+00   \n",
       "16                0.087856           0.062638 -0.000001 -4.724593e-07   \n",
       "\n",
       "    data_block_id  \n",
       "0   -1.710311e-02  \n",
       "1   -5.603278e-02  \n",
       "2   -3.421934e-02  \n",
       "3    1.624558e-02  \n",
       "4    8.090565e-02  \n",
       "5   -3.874790e-02  \n",
       "6   -5.007015e-02  \n",
       "7    1.660490e-02  \n",
       "8    2.201851e-02  \n",
       "9   -1.145911e-01  \n",
       "10   6.861709e-03  \n",
       "11   8.670149e-02  \n",
       "12   8.785629e-02  \n",
       "13   6.263839e-02  \n",
       "14  -1.163695e-06  \n",
       "15  -4.724593e-07  \n",
       "16   1.000000e+00  "
      ]
     },
     "metadata": {},
     "output_type": "display_data"
    },
    {
     "data": {
      "text/markdown": [
       "### **weather_station:**"
      ],
      "text/plain": [
       "<IPython.core.display.Markdown object>"
      ]
     },
     "metadata": {},
     "output_type": "display_data"
    },
    {
     "data": {
      "text/html": [
       "<div><style>\n",
       ".dataframe > thead > tr,\n",
       ".dataframe > tbody > tr {\n",
       "  text-align: right;\n",
       "  white-space: pre-wrap;\n",
       "}\n",
       "</style>\n",
       "<small>shape: (5, 4)</small><table border=\"1\" class=\"dataframe\"><thead><tr><th>county_name</th><th>longitude</th><th>latitude</th><th>county</th></tr><tr><td>str</td><td>f64</td><td>f64</td><td>i64</td></tr></thead><tbody><tr><td>null</td><td>21.7</td><td>57.6</td><td>null</td></tr><tr><td>null</td><td>21.7</td><td>57.9</td><td>null</td></tr><tr><td>null</td><td>21.7</td><td>58.2</td><td>null</td></tr><tr><td>null</td><td>21.7</td><td>58.5</td><td>null</td></tr><tr><td>null</td><td>21.7</td><td>58.8</td><td>null</td></tr></tbody></table></div>"
      ],
      "text/plain": [
       "shape: (5, 4)\n",
       "┌─────────────┬───────────┬──────────┬────────┐\n",
       "│ county_name ┆ longitude ┆ latitude ┆ county │\n",
       "│ ---         ┆ ---       ┆ ---      ┆ ---    │\n",
       "│ str         ┆ f64       ┆ f64      ┆ i64    │\n",
       "╞═════════════╪═══════════╪══════════╪════════╡\n",
       "│ null        ┆ 21.7      ┆ 57.6     ┆ null   │\n",
       "│ null        ┆ 21.7      ┆ 57.9     ┆ null   │\n",
       "│ null        ┆ 21.7      ┆ 58.2     ┆ null   │\n",
       "│ null        ┆ 21.7      ┆ 58.5     ┆ null   │\n",
       "│ null        ┆ 21.7      ┆ 58.8     ┆ null   │\n",
       "└─────────────┴───────────┴──────────┴────────┘"
      ]
     },
     "metadata": {},
     "output_type": "display_data"
    },
    {
     "data": {
      "text/markdown": [
       "shape: (112, 4)"
      ],
      "text/plain": [
       "<IPython.core.display.Markdown object>"
      ]
     },
     "metadata": {},
     "output_type": "display_data"
    },
    {
     "data": {
      "text/markdown": [
       "#### Estadísticas:"
      ],
      "text/plain": [
       "<IPython.core.display.Markdown object>"
      ]
     },
     "metadata": {},
     "output_type": "display_data"
    },
    {
     "data": {
      "text/html": [
       "<div><style>\n",
       ".dataframe > thead > tr,\n",
       ".dataframe > tbody > tr {\n",
       "  text-align: right;\n",
       "  white-space: pre-wrap;\n",
       "}\n",
       "</style>\n",
       "<small>shape: (9, 5)</small><table border=\"1\" class=\"dataframe\"><thead><tr><th>statistic</th><th>county_name</th><th>longitude</th><th>latitude</th><th>county</th></tr><tr><td>str</td><td>str</td><td>f64</td><td>f64</td><td>f64</td></tr></thead><tbody><tr><td>&quot;count&quot;</td><td>&quot;49&quot;</td><td>112.0</td><td>112.0</td><td>49.0</td></tr><tr><td>&quot;null_count&quot;</td><td>&quot;63&quot;</td><td>0.0</td><td>0.0</td><td>63.0</td></tr><tr><td>&quot;mean&quot;</td><td>null</td><td>24.95</td><td>58.65</td><td>7.061224</td></tr><tr><td>&quot;std&quot;</td><td>null</td><td>2.024623</td><td>0.690476</td><td>4.870866</td></tr><tr><td>&quot;min&quot;</td><td>&quot;Harjumaa&quot;</td><td>21.7</td><td>57.6</td><td>0.0</td></tr><tr><td>&quot;25%&quot;</td><td>null</td><td>23.2</td><td>58.2</td><td>3.0</td></tr><tr><td>&quot;50%&quot;</td><td>null</td><td>25.2</td><td>58.8</td><td>7.0</td></tr><tr><td>&quot;75%&quot;</td><td>null</td><td>26.7</td><td>59.1</td><td>11.0</td></tr><tr><td>&quot;max&quot;</td><td>&quot;Võrumaa&quot;</td><td>28.2</td><td>59.7</td><td>15.0</td></tr></tbody></table></div>"
      ],
      "text/plain": [
       "shape: (9, 5)\n",
       "┌────────────┬─────────────┬───────────┬──────────┬──────────┐\n",
       "│ statistic  ┆ county_name ┆ longitude ┆ latitude ┆ county   │\n",
       "│ ---        ┆ ---         ┆ ---       ┆ ---      ┆ ---      │\n",
       "│ str        ┆ str         ┆ f64       ┆ f64      ┆ f64      │\n",
       "╞════════════╪═════════════╪═══════════╪══════════╪══════════╡\n",
       "│ count      ┆ 49          ┆ 112.0     ┆ 112.0    ┆ 49.0     │\n",
       "│ null_count ┆ 63          ┆ 0.0       ┆ 0.0      ┆ 63.0     │\n",
       "│ mean       ┆ null        ┆ 24.95     ┆ 58.65    ┆ 7.061224 │\n",
       "│ std        ┆ null        ┆ 2.024623  ┆ 0.690476 ┆ 4.870866 │\n",
       "│ min        ┆ Harjumaa    ┆ 21.7      ┆ 57.6     ┆ 0.0      │\n",
       "│ 25%        ┆ null        ┆ 23.2      ┆ 58.2     ┆ 3.0      │\n",
       "│ 50%        ┆ null        ┆ 25.2      ┆ 58.8     ┆ 7.0      │\n",
       "│ 75%        ┆ null        ┆ 26.7      ┆ 59.1     ┆ 11.0     │\n",
       "│ max        ┆ Võrumaa     ┆ 28.2      ┆ 59.7     ┆ 15.0     │\n",
       "└────────────┴─────────────┴───────────┴──────────┴──────────┘"
      ]
     },
     "metadata": {},
     "output_type": "display_data"
    },
    {
     "data": {
      "text/markdown": [
       "#### Categorías:"
      ],
      "text/plain": [
       "<IPython.core.display.Markdown object>"
      ]
     },
     "metadata": {},
     "output_type": "display_data"
    },
    {
     "data": {
      "text/markdown": [
       "county:"
      ],
      "text/plain": [
       "<IPython.core.display.Markdown object>"
      ]
     },
     "metadata": {},
     "output_type": "display_data"
    },
    {
     "name": "stdout",
     "output_type": "stream",
     "text": [
      "[None, 0, 1, 2, 3, 4, 5, 6, 7, 8, 9, 10, 11, 13, 14, 15]\n"
     ]
    },
    {
     "data": {
      "text/markdown": [
       "county_name:"
      ],
      "text/plain": [
       "<IPython.core.display.Markdown object>"
      ]
     },
     "metadata": {},
     "output_type": "display_data"
    },
    {
     "name": "stdout",
     "output_type": "stream",
     "text": [
      "['Võrumaa', 'Valgamaa', 'Pärnumaa', 'Raplamaa', 'Põlvamaa', 'Harjumaa', 'Järvamaa', 'Lääne-Virumaa', 'Jõgevamaa', 'Läänemaa', None, 'Ida-Virumaa', 'Tartumaa', 'Saaremaa', 'Viljandimaa', 'Hiiumaa']\n"
     ]
    },
    {
     "data": {
      "text/markdown": [
       "Correlations:"
      ],
      "text/plain": [
       "<IPython.core.display.Markdown object>"
      ]
     },
     "metadata": {},
     "output_type": "display_data"
    },
    {
     "data": {
      "text/html": [
       "<div>\n",
       "<style scoped>\n",
       "    .dataframe tbody tr th:only-of-type {\n",
       "        vertical-align: middle;\n",
       "    }\n",
       "\n",
       "    .dataframe tbody tr th {\n",
       "        vertical-align: top;\n",
       "    }\n",
       "\n",
       "    .dataframe thead th {\n",
       "        text-align: right;\n",
       "    }\n",
       "</style>\n",
       "<table border=\"1\" class=\"dataframe\">\n",
       "  <thead>\n",
       "    <tr style=\"text-align: right;\">\n",
       "      <th></th>\n",
       "      <th>longitude</th>\n",
       "      <th>latitude</th>\n",
       "    </tr>\n",
       "  </thead>\n",
       "  <tbody>\n",
       "    <tr>\n",
       "      <th>0</th>\n",
       "      <td>1.000000e+00</td>\n",
       "      <td>2.289521e-18</td>\n",
       "    </tr>\n",
       "    <tr>\n",
       "      <th>1</th>\n",
       "      <td>2.289521e-18</td>\n",
       "      <td>1.000000e+00</td>\n",
       "    </tr>\n",
       "  </tbody>\n",
       "</table>\n",
       "</div>"
      ],
      "text/plain": [
       "      longitude      latitude\n",
       "0  1.000000e+00  2.289521e-18\n",
       "1  2.289521e-18  1.000000e+00"
      ]
     },
     "metadata": {},
     "output_type": "display_data"
    },
    {
     "data": {
      "text/markdown": [
       "### **train:**"
      ],
      "text/plain": [
       "<IPython.core.display.Markdown object>"
      ]
     },
     "metadata": {},
     "output_type": "display_data"
    },
    {
     "data": {
      "text/html": [
       "<div><style>\n",
       ".dataframe > thead > tr,\n",
       ".dataframe > tbody > tr {\n",
       "  text-align: right;\n",
       "  white-space: pre-wrap;\n",
       "}\n",
       "</style>\n",
       "<small>shape: (5, 9)</small><table border=\"1\" class=\"dataframe\"><thead><tr><th>county</th><th>is_business</th><th>product_type</th><th>target</th><th>is_consumption</th><th>datetime</th><th>data_block_id</th><th>row_id</th><th>prediction_unit_id</th></tr><tr><td>i64</td><td>i64</td><td>i64</td><td>f64</td><td>i64</td><td>datetime[μs]</td><td>i64</td><td>i64</td><td>i64</td></tr></thead><tbody><tr><td>0</td><td>0</td><td>1</td><td>0.713</td><td>0</td><td>2021-09-01 00:00:00</td><td>0</td><td>0</td><td>0</td></tr><tr><td>0</td><td>0</td><td>1</td><td>96.59</td><td>1</td><td>2021-09-01 00:00:00</td><td>0</td><td>1</td><td>0</td></tr><tr><td>0</td><td>0</td><td>2</td><td>0.0</td><td>0</td><td>2021-09-01 00:00:00</td><td>0</td><td>2</td><td>1</td></tr><tr><td>0</td><td>0</td><td>2</td><td>17.314</td><td>1</td><td>2021-09-01 00:00:00</td><td>0</td><td>3</td><td>1</td></tr><tr><td>0</td><td>0</td><td>3</td><td>2.904</td><td>0</td><td>2021-09-01 00:00:00</td><td>0</td><td>4</td><td>2</td></tr></tbody></table></div>"
      ],
      "text/plain": [
       "shape: (5, 9)\n",
       "┌────────┬─────────────┬─────────────┬────────┬───┬─────────────┬────────────┬────────┬────────────┐\n",
       "│ county ┆ is_business ┆ product_typ ┆ target ┆ … ┆ datetime    ┆ data_block ┆ row_id ┆ prediction │\n",
       "│ ---    ┆ ---         ┆ e           ┆ ---    ┆   ┆ ---         ┆ _id        ┆ ---    ┆ _unit_id   │\n",
       "│ i64    ┆ i64         ┆ ---         ┆ f64    ┆   ┆ datetime[μs ┆ ---        ┆ i64    ┆ ---        │\n",
       "│        ┆             ┆ i64         ┆        ┆   ┆ ]           ┆ i64        ┆        ┆ i64        │\n",
       "╞════════╪═════════════╪═════════════╪════════╪═══╪═════════════╪════════════╪════════╪════════════╡\n",
       "│ 0      ┆ 0           ┆ 1           ┆ 0.713  ┆ … ┆ 2021-09-01  ┆ 0          ┆ 0      ┆ 0          │\n",
       "│        ┆             ┆             ┆        ┆   ┆ 00:00:00    ┆            ┆        ┆            │\n",
       "│ 0      ┆ 0           ┆ 1           ┆ 96.59  ┆ … ┆ 2021-09-01  ┆ 0          ┆ 1      ┆ 0          │\n",
       "│        ┆             ┆             ┆        ┆   ┆ 00:00:00    ┆            ┆        ┆            │\n",
       "│ 0      ┆ 0           ┆ 2           ┆ 0.0    ┆ … ┆ 2021-09-01  ┆ 0          ┆ 2      ┆ 1          │\n",
       "│        ┆             ┆             ┆        ┆   ┆ 00:00:00    ┆            ┆        ┆            │\n",
       "│ 0      ┆ 0           ┆ 2           ┆ 17.314 ┆ … ┆ 2021-09-01  ┆ 0          ┆ 3      ┆ 1          │\n",
       "│        ┆             ┆             ┆        ┆   ┆ 00:00:00    ┆            ┆        ┆            │\n",
       "│ 0      ┆ 0           ┆ 3           ┆ 2.904  ┆ … ┆ 2021-09-01  ┆ 0          ┆ 4      ┆ 2          │\n",
       "│        ┆             ┆             ┆        ┆   ┆ 00:00:00    ┆            ┆        ┆            │\n",
       "└────────┴─────────────┴─────────────┴────────┴───┴─────────────┴────────────┴────────┴────────────┘"
      ]
     },
     "metadata": {},
     "output_type": "display_data"
    },
    {
     "data": {
      "text/markdown": [
       "shape: (2018352, 9)"
      ],
      "text/plain": [
       "<IPython.core.display.Markdown object>"
      ]
     },
     "metadata": {},
     "output_type": "display_data"
    },
    {
     "data": {
      "text/markdown": [
       "#### Estadísticas:"
      ],
      "text/plain": [
       "<IPython.core.display.Markdown object>"
      ]
     },
     "metadata": {},
     "output_type": "display_data"
    },
    {
     "data": {
      "text/html": [
       "<div><style>\n",
       ".dataframe > thead > tr,\n",
       ".dataframe > tbody > tr {\n",
       "  text-align: right;\n",
       "  white-space: pre-wrap;\n",
       "}\n",
       "</style>\n",
       "<small>shape: (9, 10)</small><table border=\"1\" class=\"dataframe\"><thead><tr><th>statistic</th><th>county</th><th>is_business</th><th>product_type</th><th>target</th><th>is_consumption</th><th>datetime</th><th>data_block_id</th><th>row_id</th><th>prediction_unit_id</th></tr><tr><td>str</td><td>f64</td><td>f64</td><td>f64</td><td>f64</td><td>f64</td><td>str</td><td>f64</td><td>f64</td><td>f64</td></tr></thead><tbody><tr><td>&quot;count&quot;</td><td>2.018352e6</td><td>2.018352e6</td><td>2.018352e6</td><td>2.017824e6</td><td>2.018352e6</td><td>&quot;2018352&quot;</td><td>2.018352e6</td><td>2.018352e6</td><td>2.018352e6</td></tr><tr><td>&quot;null_count&quot;</td><td>0.0</td><td>0.0</td><td>0.0</td><td>528.0</td><td>0.0</td><td>&quot;0&quot;</td><td>0.0</td><td>0.0</td><td>0.0</td></tr><tr><td>&quot;mean&quot;</td><td>7.297034</td><td>0.536826</td><td>1.898927</td><td>274.85556</td><td>0.5</td><td>&quot;2022-07-20 08:29:25.326167&quot;</td><td>321.874599</td><td>1009175.5</td><td>33.045376</td></tr><tr><td>&quot;std&quot;</td><td>4.78099</td><td>0.498642</td><td>1.081766</td><td>909.502378</td><td>0.5</td><td>null</td><td>182.634314</td><td>582648.179597</td><td>19.590594</td></tr><tr><td>&quot;min&quot;</td><td>0.0</td><td>0.0</td><td>0.0</td><td>0.0</td><td>0.0</td><td>&quot;2021-09-01 00:00:00&quot;</td><td>0.0</td><td>0.0</td><td>0.0</td></tr><tr><td>&quot;25%&quot;</td><td>3.0</td><td>0.0</td><td>1.0</td><td>0.378</td><td>0.0</td><td>&quot;2022-02-14 04:00:00&quot;</td><td>166.0</td><td>504588.0</td><td>16.0</td></tr><tr><td>&quot;50%&quot;</td><td>7.0</td><td>1.0</td><td>2.0</td><td>31.133</td><td>1.0</td><td>&quot;2022-07-21 10:00:00&quot;</td><td>323.0</td><td>1.009176e6</td><td>33.0</td></tr><tr><td>&quot;75%&quot;</td><td>11.0</td><td>1.0</td><td>3.0</td><td>180.206</td><td>1.0</td><td>&quot;2022-12-24 14:00:00&quot;</td><td>479.0</td><td>1.513763e6</td><td>50.0</td></tr><tr><td>&quot;max&quot;</td><td>15.0</td><td>1.0</td><td>3.0</td><td>15480.274</td><td>1.0</td><td>&quot;2023-05-31 23:00:00&quot;</td><td>637.0</td><td>2.018351e6</td><td>68.0</td></tr></tbody></table></div>"
      ],
      "text/plain": [
       "shape: (9, 10)\n",
       "┌───────────┬───────────┬───────────┬───────────┬───┬───────────┬───────────┬───────────┬──────────┐\n",
       "│ statistic ┆ county    ┆ is_busine ┆ product_t ┆ … ┆ datetime  ┆ data_bloc ┆ row_id    ┆ predicti │\n",
       "│ ---       ┆ ---       ┆ ss        ┆ ype       ┆   ┆ ---       ┆ k_id      ┆ ---       ┆ on_unit_ │\n",
       "│ str       ┆ f64       ┆ ---       ┆ ---       ┆   ┆ str       ┆ ---       ┆ f64       ┆ id       │\n",
       "│           ┆           ┆ f64       ┆ f64       ┆   ┆           ┆ f64       ┆           ┆ ---      │\n",
       "│           ┆           ┆           ┆           ┆   ┆           ┆           ┆           ┆ f64      │\n",
       "╞═══════════╪═══════════╪═══════════╪═══════════╪═══╪═══════════╪═══════════╪═══════════╪══════════╡\n",
       "│ count     ┆ 2.018352e ┆ 2.018352e ┆ 2.018352e ┆ … ┆ 2018352   ┆ 2.018352e ┆ 2.018352e ┆ 2.018352 │\n",
       "│           ┆ 6         ┆ 6         ┆ 6         ┆   ┆           ┆ 6         ┆ 6         ┆ e6       │\n",
       "│ null_coun ┆ 0.0       ┆ 0.0       ┆ 0.0       ┆ … ┆ 0         ┆ 0.0       ┆ 0.0       ┆ 0.0      │\n",
       "│ t         ┆           ┆           ┆           ┆   ┆           ┆           ┆           ┆          │\n",
       "│ mean      ┆ 7.297034  ┆ 0.536826  ┆ 1.898927  ┆ … ┆ 2022-07-2 ┆ 321.87459 ┆ 1009175.5 ┆ 33.04537 │\n",
       "│           ┆           ┆           ┆           ┆   ┆ 0 08:29:2 ┆ 9         ┆           ┆ 6        │\n",
       "│           ┆           ┆           ┆           ┆   ┆ 5.326167  ┆           ┆           ┆          │\n",
       "│ std       ┆ 4.78099   ┆ 0.498642  ┆ 1.081766  ┆ … ┆ null      ┆ 182.63431 ┆ 582648.17 ┆ 19.59059 │\n",
       "│           ┆           ┆           ┆           ┆   ┆           ┆ 4         ┆ 9597      ┆ 4        │\n",
       "│ min       ┆ 0.0       ┆ 0.0       ┆ 0.0       ┆ … ┆ 2021-09-0 ┆ 0.0       ┆ 0.0       ┆ 0.0      │\n",
       "│           ┆           ┆           ┆           ┆   ┆ 1         ┆           ┆           ┆          │\n",
       "│           ┆           ┆           ┆           ┆   ┆ 00:00:00  ┆           ┆           ┆          │\n",
       "│ 25%       ┆ 3.0       ┆ 0.0       ┆ 1.0       ┆ … ┆ 2022-02-1 ┆ 166.0     ┆ 504588.0  ┆ 16.0     │\n",
       "│           ┆           ┆           ┆           ┆   ┆ 4         ┆           ┆           ┆          │\n",
       "│           ┆           ┆           ┆           ┆   ┆ 04:00:00  ┆           ┆           ┆          │\n",
       "│ 50%       ┆ 7.0       ┆ 1.0       ┆ 2.0       ┆ … ┆ 2022-07-2 ┆ 323.0     ┆ 1.009176e ┆ 33.0     │\n",
       "│           ┆           ┆           ┆           ┆   ┆ 1         ┆           ┆ 6         ┆          │\n",
       "│           ┆           ┆           ┆           ┆   ┆ 10:00:00  ┆           ┆           ┆          │\n",
       "│ 75%       ┆ 11.0      ┆ 1.0       ┆ 3.0       ┆ … ┆ 2022-12-2 ┆ 479.0     ┆ 1.513763e ┆ 50.0     │\n",
       "│           ┆           ┆           ┆           ┆   ┆ 4         ┆           ┆ 6         ┆          │\n",
       "│           ┆           ┆           ┆           ┆   ┆ 14:00:00  ┆           ┆           ┆          │\n",
       "│ max       ┆ 15.0      ┆ 1.0       ┆ 3.0       ┆ … ┆ 2023-05-3 ┆ 637.0     ┆ 2.018351e ┆ 68.0     │\n",
       "│           ┆           ┆           ┆           ┆   ┆ 1         ┆           ┆ 6         ┆          │\n",
       "│           ┆           ┆           ┆           ┆   ┆ 23:00:00  ┆           ┆           ┆          │\n",
       "└───────────┴───────────┴───────────┴───────────┴───┴───────────┴───────────┴───────────┴──────────┘"
      ]
     },
     "metadata": {},
     "output_type": "display_data"
    },
    {
     "data": {
      "text/markdown": [
       "#### Categorías:"
      ],
      "text/plain": [
       "<IPython.core.display.Markdown object>"
      ]
     },
     "metadata": {},
     "output_type": "display_data"
    },
    {
     "data": {
      "text/markdown": [
       "county:"
      ],
      "text/plain": [
       "<IPython.core.display.Markdown object>"
      ]
     },
     "metadata": {},
     "output_type": "display_data"
    },
    {
     "name": "stdout",
     "output_type": "stream",
     "text": [
      "[0, 1, 2, 3, 4, 5, 6, 7, 8, 9, 10, 11, 12, 13, 14, 15]\n"
     ]
    },
    {
     "data": {
      "text/markdown": [
       "is_consumption:"
      ],
      "text/plain": [
       "<IPython.core.display.Markdown object>"
      ]
     },
     "metadata": {},
     "output_type": "display_data"
    },
    {
     "name": "stdout",
     "output_type": "stream",
     "text": [
      "[0, 1]\n"
     ]
    },
    {
     "data": {
      "text/markdown": [
       "is_business:"
      ],
      "text/plain": [
       "<IPython.core.display.Markdown object>"
      ]
     },
     "metadata": {},
     "output_type": "display_data"
    },
    {
     "name": "stdout",
     "output_type": "stream",
     "text": [
      "[0, 1]\n"
     ]
    },
    {
     "data": {
      "text/markdown": [
       "product_type:"
      ],
      "text/plain": [
       "<IPython.core.display.Markdown object>"
      ]
     },
     "metadata": {},
     "output_type": "display_data"
    },
    {
     "name": "stdout",
     "output_type": "stream",
     "text": [
      "[0, 1, 2, 3]\n"
     ]
    },
    {
     "data": {
      "text/markdown": [
       "Correlations:"
      ],
      "text/plain": [
       "<IPython.core.display.Markdown object>"
      ]
     },
     "metadata": {},
     "output_type": "display_data"
    },
    {
     "data": {
      "text/html": [
       "<div>\n",
       "<style scoped>\n",
       "    .dataframe tbody tr th:only-of-type {\n",
       "        vertical-align: middle;\n",
       "    }\n",
       "\n",
       "    .dataframe tbody tr th {\n",
       "        vertical-align: top;\n",
       "    }\n",
       "\n",
       "    .dataframe thead th {\n",
       "        text-align: right;\n",
       "    }\n",
       "</style>\n",
       "<table border=\"1\" class=\"dataframe\">\n",
       "  <thead>\n",
       "    <tr style=\"text-align: right;\">\n",
       "      <th></th>\n",
       "      <th>target</th>\n",
       "      <th>data_block_id</th>\n",
       "      <th>row_id</th>\n",
       "      <th>prediction_unit_id</th>\n",
       "    </tr>\n",
       "  </thead>\n",
       "  <tbody>\n",
       "    <tr>\n",
       "      <th>0</th>\n",
       "      <td>NaN</td>\n",
       "      <td>NaN</td>\n",
       "      <td>NaN</td>\n",
       "      <td>NaN</td>\n",
       "    </tr>\n",
       "    <tr>\n",
       "      <th>1</th>\n",
       "      <td>NaN</td>\n",
       "      <td>1.000000</td>\n",
       "      <td>0.999957</td>\n",
       "      <td>0.033846</td>\n",
       "    </tr>\n",
       "    <tr>\n",
       "      <th>2</th>\n",
       "      <td>NaN</td>\n",
       "      <td>0.999957</td>\n",
       "      <td>1.000000</td>\n",
       "      <td>0.033596</td>\n",
       "    </tr>\n",
       "    <tr>\n",
       "      <th>3</th>\n",
       "      <td>NaN</td>\n",
       "      <td>0.033846</td>\n",
       "      <td>0.033596</td>\n",
       "      <td>1.000000</td>\n",
       "    </tr>\n",
       "  </tbody>\n",
       "</table>\n",
       "</div>"
      ],
      "text/plain": [
       "   target  data_block_id    row_id  prediction_unit_id\n",
       "0     NaN            NaN       NaN                 NaN\n",
       "1     NaN       1.000000  0.999957            0.033846\n",
       "2     NaN       0.999957  1.000000            0.033596\n",
       "3     NaN       0.033846  0.033596            1.000000"
      ]
     },
     "metadata": {},
     "output_type": "display_data"
    },
    {
     "data": {
      "text/markdown": [
       "### **electricity_prices:**"
      ],
      "text/plain": [
       "<IPython.core.display.Markdown object>"
      ]
     },
     "metadata": {},
     "output_type": "display_data"
    },
    {
     "data": {
      "text/html": [
       "<div><style>\n",
       ".dataframe > thead > tr,\n",
       ".dataframe > tbody > tr {\n",
       "  text-align: right;\n",
       "  white-space: pre-wrap;\n",
       "}\n",
       "</style>\n",
       "<small>shape: (5, 4)</small><table border=\"1\" class=\"dataframe\"><thead><tr><th>forecast_date</th><th>euros_per_mwh</th><th>origin_date</th><th>data_block_id</th></tr><tr><td>datetime[μs]</td><td>f64</td><td>datetime[μs]</td><td>i64</td></tr></thead><tbody><tr><td>2021-09-01 00:00:00</td><td>92.51</td><td>2021-08-31 00:00:00</td><td>1</td></tr><tr><td>2021-09-01 01:00:00</td><td>88.9</td><td>2021-08-31 01:00:00</td><td>1</td></tr><tr><td>2021-09-01 02:00:00</td><td>87.35</td><td>2021-08-31 02:00:00</td><td>1</td></tr><tr><td>2021-09-01 03:00:00</td><td>86.88</td><td>2021-08-31 03:00:00</td><td>1</td></tr><tr><td>2021-09-01 04:00:00</td><td>88.43</td><td>2021-08-31 04:00:00</td><td>1</td></tr></tbody></table></div>"
      ],
      "text/plain": [
       "shape: (5, 4)\n",
       "┌─────────────────────┬───────────────┬─────────────────────┬───────────────┐\n",
       "│ forecast_date       ┆ euros_per_mwh ┆ origin_date         ┆ data_block_id │\n",
       "│ ---                 ┆ ---           ┆ ---                 ┆ ---           │\n",
       "│ datetime[μs]        ┆ f64           ┆ datetime[μs]        ┆ i64           │\n",
       "╞═════════════════════╪═══════════════╪═════════════════════╪═══════════════╡\n",
       "│ 2021-09-01 00:00:00 ┆ 92.51         ┆ 2021-08-31 00:00:00 ┆ 1             │\n",
       "│ 2021-09-01 01:00:00 ┆ 88.9          ┆ 2021-08-31 01:00:00 ┆ 1             │\n",
       "│ 2021-09-01 02:00:00 ┆ 87.35         ┆ 2021-08-31 02:00:00 ┆ 1             │\n",
       "│ 2021-09-01 03:00:00 ┆ 86.88         ┆ 2021-08-31 03:00:00 ┆ 1             │\n",
       "│ 2021-09-01 04:00:00 ┆ 88.43         ┆ 2021-08-31 04:00:00 ┆ 1             │\n",
       "└─────────────────────┴───────────────┴─────────────────────┴───────────────┘"
      ]
     },
     "metadata": {},
     "output_type": "display_data"
    },
    {
     "data": {
      "text/markdown": [
       "shape: (15286, 4)"
      ],
      "text/plain": [
       "<IPython.core.display.Markdown object>"
      ]
     },
     "metadata": {},
     "output_type": "display_data"
    },
    {
     "data": {
      "text/markdown": [
       "#### Estadísticas:"
      ],
      "text/plain": [
       "<IPython.core.display.Markdown object>"
      ]
     },
     "metadata": {},
     "output_type": "display_data"
    },
    {
     "data": {
      "text/html": [
       "<div><style>\n",
       ".dataframe > thead > tr,\n",
       ".dataframe > tbody > tr {\n",
       "  text-align: right;\n",
       "  white-space: pre-wrap;\n",
       "}\n",
       "</style>\n",
       "<small>shape: (9, 5)</small><table border=\"1\" class=\"dataframe\"><thead><tr><th>statistic</th><th>forecast_date</th><th>euros_per_mwh</th><th>origin_date</th><th>data_block_id</th></tr><tr><td>str</td><td>str</td><td>f64</td><td>str</td><td>f64</td></tr></thead><tbody><tr><td>&quot;count&quot;</td><td>&quot;15286&quot;</td><td>15286.0</td><td>&quot;15286&quot;</td><td>15286.0</td></tr><tr><td>&quot;null_count&quot;</td><td>&quot;0&quot;</td><td>0.0</td><td>&quot;0&quot;</td><td>0.0</td></tr><tr><td>&quot;mean&quot;</td><td>&quot;2022-07-16 11:16:41.857909&quot;</td><td>157.064176</td><td>&quot;2022-07-15 11:16:41.857909&quot;</td><td>318.99071</td></tr><tr><td>&quot;std&quot;</td><td>null</td><td>121.148625</td><td>null</td><td>183.890301</td></tr><tr><td>&quot;min&quot;</td><td>&quot;2021-09-01 00:00:00&quot;</td><td>-10.06</td><td>&quot;2021-08-31 00:00:00&quot;</td><td>1.0</td></tr><tr><td>&quot;25%&quot;</td><td>&quot;2022-02-07 05:00:00&quot;</td><td>85.29</td><td>&quot;2022-02-06 05:00:00&quot;</td><td>160.0</td></tr><tr><td>&quot;50%&quot;</td><td>&quot;2022-07-16 12:00:00&quot;</td><td>128.28</td><td>&quot;2022-07-15 12:00:00&quot;</td><td>319.0</td></tr><tr><td>&quot;75%&quot;</td><td>&quot;2022-12-22 17:00:00&quot;</td><td>199.8</td><td>&quot;2022-12-21 17:00:00&quot;</td><td>478.0</td></tr><tr><td>&quot;max&quot;</td><td>&quot;2023-05-30 23:00:00&quot;</td><td>4000.0</td><td>&quot;2023-05-29 23:00:00&quot;</td><td>637.0</td></tr></tbody></table></div>"
      ],
      "text/plain": [
       "shape: (9, 5)\n",
       "┌────────────┬─────────────────────┬───────────────┬────────────────────────────┬───────────────┐\n",
       "│ statistic  ┆ forecast_date       ┆ euros_per_mwh ┆ origin_date                ┆ data_block_id │\n",
       "│ ---        ┆ ---                 ┆ ---           ┆ ---                        ┆ ---           │\n",
       "│ str        ┆ str                 ┆ f64           ┆ str                        ┆ f64           │\n",
       "╞════════════╪═════════════════════╪═══════════════╪════════════════════════════╪═══════════════╡\n",
       "│ count      ┆ 15286               ┆ 15286.0       ┆ 15286                      ┆ 15286.0       │\n",
       "│ null_count ┆ 0                   ┆ 0.0           ┆ 0                          ┆ 0.0           │\n",
       "│ mean       ┆ 2022-07-16          ┆ 157.064176    ┆ 2022-07-15 11:16:41.857909 ┆ 318.99071     │\n",
       "│            ┆ 11:16:41.857909     ┆               ┆                            ┆               │\n",
       "│ std        ┆ null                ┆ 121.148625    ┆ null                       ┆ 183.890301    │\n",
       "│ min        ┆ 2021-09-01 00:00:00 ┆ -10.06        ┆ 2021-08-31 00:00:00        ┆ 1.0           │\n",
       "│ 25%        ┆ 2022-02-07 05:00:00 ┆ 85.29         ┆ 2022-02-06 05:00:00        ┆ 160.0         │\n",
       "│ 50%        ┆ 2022-07-16 12:00:00 ┆ 128.28        ┆ 2022-07-15 12:00:00        ┆ 319.0         │\n",
       "│ 75%        ┆ 2022-12-22 17:00:00 ┆ 199.8         ┆ 2022-12-21 17:00:00        ┆ 478.0         │\n",
       "│ max        ┆ 2023-05-30 23:00:00 ┆ 4000.0        ┆ 2023-05-29 23:00:00        ┆ 637.0         │\n",
       "└────────────┴─────────────────────┴───────────────┴────────────────────────────┴───────────────┘"
      ]
     },
     "metadata": {},
     "output_type": "display_data"
    },
    {
     "data": {
      "text/markdown": [
       "#### Categorías:"
      ],
      "text/plain": [
       "<IPython.core.display.Markdown object>"
      ]
     },
     "metadata": {},
     "output_type": "display_data"
    },
    {
     "data": {
      "text/markdown": [
       "Sin columnas categóricas."
      ],
      "text/plain": [
       "<IPython.core.display.Markdown object>"
      ]
     },
     "metadata": {},
     "output_type": "display_data"
    },
    {
     "data": {
      "text/markdown": [
       "Correlations:"
      ],
      "text/plain": [
       "<IPython.core.display.Markdown object>"
      ]
     },
     "metadata": {},
     "output_type": "display_data"
    },
    {
     "data": {
      "text/html": [
       "<div>\n",
       "<style scoped>\n",
       "    .dataframe tbody tr th:only-of-type {\n",
       "        vertical-align: middle;\n",
       "    }\n",
       "\n",
       "    .dataframe tbody tr th {\n",
       "        vertical-align: top;\n",
       "    }\n",
       "\n",
       "    .dataframe thead th {\n",
       "        text-align: right;\n",
       "    }\n",
       "</style>\n",
       "<table border=\"1\" class=\"dataframe\">\n",
       "  <thead>\n",
       "    <tr style=\"text-align: right;\">\n",
       "      <th></th>\n",
       "      <th>euros_per_mwh</th>\n",
       "      <th>data_block_id</th>\n",
       "    </tr>\n",
       "  </thead>\n",
       "  <tbody>\n",
       "    <tr>\n",
       "      <th>0</th>\n",
       "      <td>1.000000</td>\n",
       "      <td>-0.026326</td>\n",
       "    </tr>\n",
       "    <tr>\n",
       "      <th>1</th>\n",
       "      <td>-0.026326</td>\n",
       "      <td>1.000000</td>\n",
       "    </tr>\n",
       "  </tbody>\n",
       "</table>\n",
       "</div>"
      ],
      "text/plain": [
       "   euros_per_mwh  data_block_id\n",
       "0       1.000000      -0.026326\n",
       "1      -0.026326       1.000000"
      ]
     },
     "metadata": {},
     "output_type": "display_data"
    }
   ],
   "source": [
    "# Display DataFrames\n",
    "for table in data_dict.keys():\n",
    "    tmp_df = data_dict[table]\n",
    "    # Data visualization\n",
    "    display(Markdown(f'### **{table}:**'))\n",
    "    display(tmp_df.head())\n",
    "    display(Markdown(f'shape: {tmp_df.shape}'))\n",
    "\n",
    "    # Data Statistics\n",
    "    display(Markdown('#### Estadísticas:'))\n",
    "    display(tmp_df.describe())\n",
    "\n",
    "    # Categorical columns\n",
    "    print_categories(tmp_df, categorical_columns)\n",
    "\n",
    "    # Correlations\n",
    "    print_correlations(tmp_df, categorical_columns)"
   ]
  },
  {
   "cell_type": "code",
   "execution_count": 21,
   "metadata": {},
   "outputs": [
    {
     "ename": "ColumnNotFoundError",
     "evalue": "unable to find column \"client_id\"; valid columns: [\"county\", \"is_business\", \"product_type\", \"target\", \"is_consumption\", \"datetime\", \"data_block_id\", \"row_id\", \"prediction_unit_id\"]\n\nResolved plan until failure:\n\n\t---> FAILED HERE RESOLVING 'sink' <---\nDF [\"county\", \"is_business\", \"product_type\", \"target\", ...]; PROJECT */9 COLUMNS",
     "output_type": "error",
     "traceback": [
      "\u001b[31m---------------------------------------------------------------------------\u001b[39m",
      "\u001b[31mColumnNotFoundError\u001b[39m                       Traceback (most recent call last)",
      "\u001b[36mCell\u001b[39m\u001b[36m \u001b[39m\u001b[32mIn[21]\u001b[39m\u001b[32m, line 1\u001b[39m\n\u001b[32m----> \u001b[39m\u001b[32m1\u001b[39m client_1 = \u001b[43mdata_dict\u001b[49m\u001b[43m[\u001b[49m\u001b[33;43m\"\u001b[39;49m\u001b[33;43mtrain\u001b[39;49m\u001b[33;43m\"\u001b[39;49m\u001b[43m]\u001b[49m\u001b[43m.\u001b[49m\u001b[43mfilter\u001b[49m\u001b[43m(\u001b[49m\n\u001b[32m      2\u001b[39m \u001b[43m    \u001b[49m\u001b[43m(\u001b[49m\u001b[43mpl\u001b[49m\u001b[43m.\u001b[49m\u001b[43mcol\u001b[49m\u001b[43m(\u001b[49m\u001b[33;43m'\u001b[39;49m\u001b[33;43mclient_id\u001b[39;49m\u001b[33;43m'\u001b[39;49m\u001b[43m)\u001b[49m\u001b[43m \u001b[49m\u001b[43m==\u001b[49m\u001b[43m \u001b[49m\u001b[32;43m1\u001b[39;49m\u001b[43m)\u001b[49m\u001b[43m \u001b[49m\u001b[43m&\u001b[49m\u001b[43m \u001b[49m\n\u001b[32m      3\u001b[39m \u001b[43m    \u001b[49m\u001b[43m(\u001b[49m\u001b[43mpl\u001b[49m\u001b[43m.\u001b[49m\u001b[43mcol\u001b[49m\u001b[43m(\u001b[49m\u001b[33;43m'\u001b[39;49m\u001b[33;43mis_consumption\u001b[39;49m\u001b[33;43m'\u001b[39;49m\u001b[43m)\u001b[49m\u001b[43m \u001b[49m\u001b[43m==\u001b[49m\u001b[43m \u001b[49m\u001b[32;43m1\u001b[39;49m\u001b[43m)\u001b[49m\u001b[43m \u001b[49m\u001b[43m&\u001b[49m\n\u001b[32m      4\u001b[39m \u001b[43m    \u001b[49m\u001b[43m(\u001b[49m\u001b[43mpl\u001b[49m\u001b[43m.\u001b[49m\u001b[43mcol\u001b[49m\u001b[43m(\u001b[49m\u001b[33;43m'\u001b[39;49m\u001b[33;43myear\u001b[39;49m\u001b[33;43m'\u001b[39;49m\u001b[43m)\u001b[49m\u001b[43m \u001b[49m\u001b[43m==\u001b[49m\u001b[43m \u001b[49m\u001b[32;43m2022\u001b[39;49m\u001b[43m)\u001b[49m\u001b[43m \u001b[49m\u001b[43m&\u001b[49m\n\u001b[32m      5\u001b[39m \u001b[43m    \u001b[49m\u001b[43m(\u001b[49m\u001b[43mpl\u001b[49m\u001b[43m.\u001b[49m\u001b[43mcol\u001b[49m\u001b[43m(\u001b[49m\u001b[33;43m'\u001b[39;49m\u001b[33;43mmonth\u001b[39;49m\u001b[33;43m'\u001b[39;49m\u001b[43m)\u001b[49m\u001b[43m \u001b[49m\u001b[43m==\u001b[49m\u001b[43m \u001b[49m\u001b[32;43m1\u001b[39;49m\u001b[43m)\u001b[49m\n\u001b[32m      6\u001b[39m \u001b[43m)\u001b[49m\n\u001b[32m      7\u001b[39m sns.scatterplot(x=client_1[\u001b[33m'\u001b[39m\u001b[33mdatetime\u001b[39m\u001b[33m'\u001b[39m], y=client_1[\u001b[33m'\u001b[39m\u001b[33mtemperature_hw\u001b[39m\u001b[33m'\u001b[39m])\n",
      "\u001b[36mFile \u001b[39m\u001b[32m~/proyectos/TFG/TFG-ProduccionElectrica/.venv/lib/python3.12/site-packages/polars/dataframe/frame.py:5102\u001b[39m, in \u001b[36mDataFrame.filter\u001b[39m\u001b[34m(self, *predicates, **constraints)\u001b[39m\n\u001b[32m   4936\u001b[39m \u001b[38;5;28;01mdef\u001b[39;00m\u001b[38;5;250m \u001b[39m\u001b[34mfilter\u001b[39m(\n\u001b[32m   4937\u001b[39m     \u001b[38;5;28mself\u001b[39m,\n\u001b[32m   4938\u001b[39m     *predicates: (\n\u001b[32m   (...)\u001b[39m\u001b[32m   4945\u001b[39m     **constraints: Any,\n\u001b[32m   4946\u001b[39m ) -> DataFrame:\n\u001b[32m   4947\u001b[39m \u001b[38;5;250m    \u001b[39m\u001b[33;03m\"\"\"\u001b[39;00m\n\u001b[32m   4948\u001b[39m \u001b[33;03m    Filter rows, retaining those that match the given predicate expression(s).\u001b[39;00m\n\u001b[32m   4949\u001b[39m \n\u001b[32m   (...)\u001b[39m\u001b[32m   5100\u001b[39m \u001b[33;03m    └──────┴──────┴─────┘\u001b[39;00m\n\u001b[32m   5101\u001b[39m \u001b[33;03m    \"\"\"\u001b[39;00m\n\u001b[32m-> \u001b[39m\u001b[32m5102\u001b[39m     \u001b[38;5;28;01mreturn\u001b[39;00m \u001b[38;5;28;43mself\u001b[39;49m\u001b[43m.\u001b[49m\u001b[43mlazy\u001b[49m\u001b[43m(\u001b[49m\u001b[43m)\u001b[49m\u001b[43m.\u001b[49m\u001b[43mfilter\u001b[49m\u001b[43m(\u001b[49m\u001b[43m*\u001b[49m\u001b[43mpredicates\u001b[49m\u001b[43m,\u001b[49m\u001b[43m \u001b[49m\u001b[43m*\u001b[49m\u001b[43m*\u001b[49m\u001b[43mconstraints\u001b[49m\u001b[43m)\u001b[49m\u001b[43m.\u001b[49m\u001b[43mcollect\u001b[49m\u001b[43m(\u001b[49m\u001b[43m_eager\u001b[49m\u001b[43m=\u001b[49m\u001b[38;5;28;43;01mTrue\u001b[39;49;00m\u001b[43m)\u001b[49m\n",
      "\u001b[36mFile \u001b[39m\u001b[32m~/proyectos/TFG/TFG-ProduccionElectrica/.venv/lib/python3.12/site-packages/polars/_utils/deprecation.py:93\u001b[39m, in \u001b[36mdeprecate_streaming_parameter.<locals>.decorate.<locals>.wrapper\u001b[39m\u001b[34m(*args, **kwargs)\u001b[39m\n\u001b[32m     89\u001b[39m         kwargs[\u001b[33m\"\u001b[39m\u001b[33mengine\u001b[39m\u001b[33m\"\u001b[39m] = \u001b[33m\"\u001b[39m\u001b[33min-memory\u001b[39m\u001b[33m\"\u001b[39m\n\u001b[32m     91\u001b[39m     \u001b[38;5;28;01mdel\u001b[39;00m kwargs[\u001b[33m\"\u001b[39m\u001b[33mstreaming\u001b[39m\u001b[33m\"\u001b[39m]\n\u001b[32m---> \u001b[39m\u001b[32m93\u001b[39m \u001b[38;5;28;01mreturn\u001b[39;00m \u001b[43mfunction\u001b[49m\u001b[43m(\u001b[49m\u001b[43m*\u001b[49m\u001b[43margs\u001b[49m\u001b[43m,\u001b[49m\u001b[43m \u001b[49m\u001b[43m*\u001b[49m\u001b[43m*\u001b[49m\u001b[43mkwargs\u001b[49m\u001b[43m)\u001b[49m\n",
      "\u001b[36mFile \u001b[39m\u001b[32m~/proyectos/TFG/TFG-ProduccionElectrica/.venv/lib/python3.12/site-packages/polars/lazyframe/frame.py:2188\u001b[39m, in \u001b[36mLazyFrame.collect\u001b[39m\u001b[34m(self, type_coercion, _type_check, predicate_pushdown, projection_pushdown, simplify_expression, slice_pushdown, comm_subplan_elim, comm_subexpr_elim, cluster_with_columns, collapse_joins, no_optimization, engine, background, _check_order, _eager, **_kwargs)\u001b[39m\n\u001b[32m   2186\u001b[39m \u001b[38;5;66;03m# Only for testing purposes\u001b[39;00m\n\u001b[32m   2187\u001b[39m callback = _kwargs.get(\u001b[33m\"\u001b[39m\u001b[33mpost_opt_callback\u001b[39m\u001b[33m\"\u001b[39m, callback)\n\u001b[32m-> \u001b[39m\u001b[32m2188\u001b[39m \u001b[38;5;28;01mreturn\u001b[39;00m wrap_df(\u001b[43mldf\u001b[49m\u001b[43m.\u001b[49m\u001b[43mcollect\u001b[49m\u001b[43m(\u001b[49m\u001b[43mengine\u001b[49m\u001b[43m,\u001b[49m\u001b[43m \u001b[49m\u001b[43mcallback\u001b[49m\u001b[43m)\u001b[49m)\n",
      "\u001b[31mColumnNotFoundError\u001b[39m: unable to find column \"client_id\"; valid columns: [\"county\", \"is_business\", \"product_type\", \"target\", \"is_consumption\", \"datetime\", \"data_block_id\", \"row_id\", \"prediction_unit_id\"]\n\nResolved plan until failure:\n\n\t---> FAILED HERE RESOLVING 'sink' <---\nDF [\"county\", \"is_business\", \"product_type\", \"target\", ...]; PROJECT */9 COLUMNS"
     ]
    }
   ],
   "source": [
    "client_1 = data_dict[\"train\"].filter(\n",
    "    (pl.col('client_id') == 1) & \n",
    "    (pl.col('is_consumption') == 1) &\n",
    "    (pl.col('year') == 2022) &\n",
    "    (pl.col('month') == 1)\n",
    ")\n",
    "sns.scatterplot(x=client_1['datetime'], y=client_1['temperature_hw'])"
   ]
  },
  {
   "cell_type": "code",
   "execution_count": null,
   "metadata": {},
   "outputs": [],
   "source": []
  }
 ],
 "metadata": {
  "kernelspec": {
   "display_name": ".venv",
   "language": "python",
   "name": "python3"
  },
  "language_info": {
   "codemirror_mode": {
    "name": "ipython",
    "version": 3
   },
   "file_extension": ".py",
   "mimetype": "text/x-python",
   "name": "python",
   "nbconvert_exporter": "python",
   "pygments_lexer": "ipython3",
   "version": "3.12.3"
  }
 },
 "nbformat": 4,
 "nbformat_minor": 2
}
