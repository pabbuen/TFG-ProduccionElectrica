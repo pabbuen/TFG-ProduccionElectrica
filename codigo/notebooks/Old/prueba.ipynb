{
 "cells": [
  {
   "cell_type": "code",
   "execution_count": 2,
   "metadata": {},
   "outputs": [],
   "source": [
    "import polars as pl\n",
    "import numpy as np"
   ]
  },
  {
   "cell_type": "code",
   "execution_count": 3,
   "metadata": {},
   "outputs": [
    {
     "data": {
      "text/html": [
       "<div><style>\n",
       ".dataframe > thead > tr,\n",
       ".dataframe > tbody > tr {\n",
       "  text-align: right;\n",
       "  white-space: pre-wrap;\n",
       "}\n",
       "</style>\n",
       "<small>shape: (7, 2)</small><table border=\"1\" class=\"dataframe\"><thead><tr><th>col 1</th><th>col 2</th></tr><tr><td>i64</td><td>str</td></tr></thead><tbody><tr><td>1</td><td>&quot;a&quot;</td></tr><tr><td>2</td><td>&quot;b&quot;</td></tr><tr><td>3</td><td>&quot;c&quot;</td></tr><tr><td>4</td><td>&quot;d&quot;</td></tr><tr><td>5</td><td>&quot;e&quot;</td></tr><tr><td>6</td><td>&quot;f&quot;</td></tr><tr><td>7</td><td>&quot;f&quot;</td></tr></tbody></table></div>"
      ],
      "text/plain": [
       "shape: (7, 2)\n",
       "┌───────┬───────┐\n",
       "│ col 1 ┆ col 2 │\n",
       "│ ---   ┆ ---   │\n",
       "│ i64   ┆ str   │\n",
       "╞═══════╪═══════╡\n",
       "│ 1     ┆ a     │\n",
       "│ 2     ┆ b     │\n",
       "│ 3     ┆ c     │\n",
       "│ 4     ┆ d     │\n",
       "│ 5     ┆ e     │\n",
       "│ 6     ┆ f     │\n",
       "│ 7     ┆ f     │\n",
       "└───────┴───────┘"
      ]
     },
     "execution_count": 3,
     "metadata": {},
     "output_type": "execute_result"
    }
   ],
   "source": [
    "df = pl.DataFrame({\n",
    "    \"col 1\" : [1, 2, 3, 4, 5, 6, 7],\n",
    "    \"col 2\" : [\"a\", \"b\", \"c\", \"d\", \"e\", \"f\", \"f\"]\n",
    "})\n",
    "df"
   ]
  },
  {
   "cell_type": "code",
   "execution_count": 7,
   "metadata": {},
   "outputs": [
    {
     "data": {
      "text/html": [
       "<div><style>\n",
       ".dataframe > thead > tr,\n",
       ".dataframe > tbody > tr {\n",
       "  text-align: right;\n",
       "  white-space: pre-wrap;\n",
       "}\n",
       "</style>\n",
       "<small>shape: (3, 2)</small><table border=\"1\" class=\"dataframe\"><thead><tr><th>col 1</th><th>col 2</th></tr><tr><td>i64</td><td>str</td></tr></thead><tbody><tr><td>2</td><td>&quot;b&quot;</td></tr><tr><td>5</td><td>&quot;e&quot;</td></tr><tr><td>7</td><td>&quot;f&quot;</td></tr></tbody></table></div>"
      ],
      "text/plain": [
       "shape: (3, 2)\n",
       "┌───────┬───────┐\n",
       "│ col 1 ┆ col 2 │\n",
       "│ ---   ┆ ---   │\n",
       "│ i64   ┆ str   │\n",
       "╞═══════╪═══════╡\n",
       "│ 2     ┆ b     │\n",
       "│ 5     ┆ e     │\n",
       "│ 7     ┆ f     │\n",
       "└───────┴───────┘"
      ]
     },
     "execution_count": 7,
     "metadata": {},
     "output_type": "execute_result"
    }
   ],
   "source": [
    "df.filter(~pl.col(\"col 1\").is_in([1, 3, 4, 6]))"
   ]
  }
 ],
 "metadata": {
  "kernelspec": {
   "display_name": ".VENV",
   "language": "python",
   "name": "python3"
  },
  "language_info": {
   "codemirror_mode": {
    "name": "ipython",
    "version": 3
   },
   "file_extension": ".py",
   "mimetype": "text/x-python",
   "name": "python",
   "nbconvert_exporter": "python",
   "pygments_lexer": "ipython3",
   "version": "3.11.1"
  }
 },
 "nbformat": 4,
 "nbformat_minor": 2
}
