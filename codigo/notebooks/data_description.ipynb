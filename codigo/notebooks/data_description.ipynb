{
 "cells": [
  {
   "cell_type": "code",
   "execution_count": 27,
   "metadata": {},
   "outputs": [],
   "source": [
    "import polars as pl\n",
    "import matplotlib.pyplot as plt\n",
    "import numpy as np\n",
    "from pathlib import Path"
   ]
  },
  {
   "cell_type": "code",
   "execution_count": 28,
   "metadata": {},
   "outputs": [],
   "source": [
    "data_folder = Path(\"../data/predict-energy-behavior-of-prosumers\")\n",
    "\n",
    "files = {\n",
    "    \"train\": \"train.csv\",\n",
    "    \"gas_prices\": \"gas_prices.csv\",\n",
    "    \"client\": \"client.csv\",\n",
    "    \"electricity_prices\": \"electricity_prices.csv\",\n",
    "    \"forecast_weather\": \"forecast_weather.csv\",\n",
    "    \"historical_weather\": \"historical_weather.csv\",\n",
    "}"
   ]
  },
  {
   "cell_type": "code",
   "execution_count": 29,
   "metadata": {},
   "outputs": [],
   "source": [
    "train_df = pl.read_csv(\n",
    "    data_folder / files[\"train\"]\n",
    ")\n",
    "\n",
    "gas_df = pl.read_csv(\n",
    "    data_folder / files[\"gas_prices\"]\n",
    ")\n",
    "\n",
    "client_df = pl.read_csv(\n",
    "    data_folder / files[\"client\"]\n",
    ")\n",
    "\n",
    "electricity_df = pl.read_csv(\n",
    "    data_folder / files[\"electricity_prices\"]\n",
    ")\n",
    "\n",
    "forecast_df = pl.read_csv(\n",
    "    data_folder / files[\"forecast_weather\"]\n",
    ")\n",
    "\n",
    "historical_df = pl.read_csv(\n",
    "    data_folder / files[\"historical_weather\"]\n",
    ")"
   ]
  },
  {
   "cell_type": "code",
   "execution_count": 30,
   "metadata": {},
   "outputs": [
    {
     "data": {
      "text/html": [
       "<div><style>\n",
       ".dataframe > thead > tr,\n",
       ".dataframe > tbody > tr {\n",
       "  text-align: right;\n",
       "  white-space: pre-wrap;\n",
       "}\n",
       "</style>\n",
       "<small>shape: (10, 9)</small><table border=\"1\" class=\"dataframe\"><thead><tr><th>county</th><th>is_business</th><th>product_type</th><th>target</th><th>is_consumption</th><th>datetime</th><th>data_block_id</th><th>row_id</th><th>prediction_unit_id</th></tr><tr><td>i64</td><td>i64</td><td>i64</td><td>f64</td><td>i64</td><td>str</td><td>i64</td><td>i64</td><td>i64</td></tr></thead><tbody><tr><td>0</td><td>0</td><td>1</td><td>0.713</td><td>0</td><td>&quot;2021-09-01 00:00:00&quot;</td><td>0</td><td>0</td><td>0</td></tr><tr><td>0</td><td>0</td><td>1</td><td>96.59</td><td>1</td><td>&quot;2021-09-01 00:00:00&quot;</td><td>0</td><td>1</td><td>0</td></tr><tr><td>0</td><td>0</td><td>2</td><td>0.0</td><td>0</td><td>&quot;2021-09-01 00:00:00&quot;</td><td>0</td><td>2</td><td>1</td></tr><tr><td>0</td><td>0</td><td>2</td><td>17.314</td><td>1</td><td>&quot;2021-09-01 00:00:00&quot;</td><td>0</td><td>3</td><td>1</td></tr><tr><td>0</td><td>0</td><td>3</td><td>2.904</td><td>0</td><td>&quot;2021-09-01 00:00:00&quot;</td><td>0</td><td>4</td><td>2</td></tr><tr><td>0</td><td>0</td><td>3</td><td>656.859</td><td>1</td><td>&quot;2021-09-01 00:00:00&quot;</td><td>0</td><td>5</td><td>2</td></tr><tr><td>0</td><td>1</td><td>0</td><td>0.0</td><td>0</td><td>&quot;2021-09-01 00:00:00&quot;</td><td>0</td><td>6</td><td>3</td></tr><tr><td>0</td><td>1</td><td>0</td><td>59.0</td><td>1</td><td>&quot;2021-09-01 00:00:00&quot;</td><td>0</td><td>7</td><td>3</td></tr><tr><td>0</td><td>1</td><td>1</td><td>0.0</td><td>0</td><td>&quot;2021-09-01 00:00:00&quot;</td><td>0</td><td>8</td><td>4</td></tr><tr><td>0</td><td>1</td><td>1</td><td>501.76</td><td>1</td><td>&quot;2021-09-01 00:00:00&quot;</td><td>0</td><td>9</td><td>4</td></tr></tbody></table></div>"
      ],
      "text/plain": [
       "shape: (10, 9)\n",
       "┌────────┬─────────────┬─────────────┬─────────┬───┬────────────┬────────────┬────────┬────────────┐\n",
       "│ county ┆ is_business ┆ product_typ ┆ target  ┆ … ┆ datetime   ┆ data_block ┆ row_id ┆ prediction │\n",
       "│ ---    ┆ ---         ┆ e           ┆ ---     ┆   ┆ ---        ┆ _id        ┆ ---    ┆ _unit_id   │\n",
       "│ i64    ┆ i64         ┆ ---         ┆ f64     ┆   ┆ str        ┆ ---        ┆ i64    ┆ ---        │\n",
       "│        ┆             ┆ i64         ┆         ┆   ┆            ┆ i64        ┆        ┆ i64        │\n",
       "╞════════╪═════════════╪═════════════╪═════════╪═══╪════════════╪════════════╪════════╪════════════╡\n",
       "│ 0      ┆ 0           ┆ 1           ┆ 0.713   ┆ … ┆ 2021-09-01 ┆ 0          ┆ 0      ┆ 0          │\n",
       "│        ┆             ┆             ┆         ┆   ┆ 00:00:00   ┆            ┆        ┆            │\n",
       "│ 0      ┆ 0           ┆ 1           ┆ 96.59   ┆ … ┆ 2021-09-01 ┆ 0          ┆ 1      ┆ 0          │\n",
       "│        ┆             ┆             ┆         ┆   ┆ 00:00:00   ┆            ┆        ┆            │\n",
       "│ 0      ┆ 0           ┆ 2           ┆ 0.0     ┆ … ┆ 2021-09-01 ┆ 0          ┆ 2      ┆ 1          │\n",
       "│        ┆             ┆             ┆         ┆   ┆ 00:00:00   ┆            ┆        ┆            │\n",
       "│ 0      ┆ 0           ┆ 2           ┆ 17.314  ┆ … ┆ 2021-09-01 ┆ 0          ┆ 3      ┆ 1          │\n",
       "│        ┆             ┆             ┆         ┆   ┆ 00:00:00   ┆            ┆        ┆            │\n",
       "│ 0      ┆ 0           ┆ 3           ┆ 2.904   ┆ … ┆ 2021-09-01 ┆ 0          ┆ 4      ┆ 2          │\n",
       "│        ┆             ┆             ┆         ┆   ┆ 00:00:00   ┆            ┆        ┆            │\n",
       "│ 0      ┆ 0           ┆ 3           ┆ 656.859 ┆ … ┆ 2021-09-01 ┆ 0          ┆ 5      ┆ 2          │\n",
       "│        ┆             ┆             ┆         ┆   ┆ 00:00:00   ┆            ┆        ┆            │\n",
       "│ 0      ┆ 1           ┆ 0           ┆ 0.0     ┆ … ┆ 2021-09-01 ┆ 0          ┆ 6      ┆ 3          │\n",
       "│        ┆             ┆             ┆         ┆   ┆ 00:00:00   ┆            ┆        ┆            │\n",
       "│ 0      ┆ 1           ┆ 0           ┆ 59.0    ┆ … ┆ 2021-09-01 ┆ 0          ┆ 7      ┆ 3          │\n",
       "│        ┆             ┆             ┆         ┆   ┆ 00:00:00   ┆            ┆        ┆            │\n",
       "│ 0      ┆ 1           ┆ 1           ┆ 0.0     ┆ … ┆ 2021-09-01 ┆ 0          ┆ 8      ┆ 4          │\n",
       "│        ┆             ┆             ┆         ┆   ┆ 00:00:00   ┆            ┆        ┆            │\n",
       "│ 0      ┆ 1           ┆ 1           ┆ 501.76  ┆ … ┆ 2021-09-01 ┆ 0          ┆ 9      ┆ 4          │\n",
       "│        ┆             ┆             ┆         ┆   ┆ 00:00:00   ┆            ┆        ┆            │\n",
       "└────────┴─────────────┴─────────────┴─────────┴───┴────────────┴────────────┴────────┴────────────┘"
      ]
     },
     "execution_count": 30,
     "metadata": {},
     "output_type": "execute_result"
    }
   ],
   "source": [
    "train_df.head(10)"
   ]
  },
  {
   "cell_type": "markdown",
   "metadata": {},
   "source": [
    "## prediction_unit_id\n",
    "El objetivo es saber como funciona la columna \"prediction_unit_id\" para ello \n",
    "se crea un nuevo dataframe formado solo por esta columna y aquellas por las que está formada"
   ]
  },
  {
   "cell_type": "code",
   "execution_count": 31,
   "metadata": {},
   "outputs": [
    {
     "data": {
      "text/html": [
       "<div><style>\n",
       ".dataframe > thead > tr,\n",
       ".dataframe > tbody > tr {\n",
       "  text-align: right;\n",
       "  white-space: pre-wrap;\n",
       "}\n",
       "</style>\n",
       "<small>shape: (10, 5)</small><table border=\"1\" class=\"dataframe\"><thead><tr><th>county</th><th>is_business</th><th>product_type</th><th>is_consumption</th><th>prediction_unit_id</th></tr><tr><td>i64</td><td>i64</td><td>i64</td><td>i64</td><td>i64</td></tr></thead><tbody><tr><td>0</td><td>0</td><td>1</td><td>0</td><td>0</td></tr><tr><td>0</td><td>0</td><td>1</td><td>1</td><td>0</td></tr><tr><td>0</td><td>0</td><td>2</td><td>0</td><td>1</td></tr><tr><td>0</td><td>0</td><td>2</td><td>1</td><td>1</td></tr><tr><td>0</td><td>0</td><td>3</td><td>0</td><td>2</td></tr><tr><td>0</td><td>0</td><td>3</td><td>1</td><td>2</td></tr><tr><td>0</td><td>1</td><td>0</td><td>0</td><td>3</td></tr><tr><td>0</td><td>1</td><td>0</td><td>1</td><td>3</td></tr><tr><td>0</td><td>1</td><td>1</td><td>0</td><td>4</td></tr><tr><td>0</td><td>1</td><td>1</td><td>1</td><td>4</td></tr></tbody></table></div>"
      ],
      "text/plain": [
       "shape: (10, 5)\n",
       "┌────────┬─────────────┬──────────────┬────────────────┬────────────────────┐\n",
       "│ county ┆ is_business ┆ product_type ┆ is_consumption ┆ prediction_unit_id │\n",
       "│ ---    ┆ ---         ┆ ---          ┆ ---            ┆ ---                │\n",
       "│ i64    ┆ i64         ┆ i64          ┆ i64            ┆ i64                │\n",
       "╞════════╪═════════════╪══════════════╪════════════════╪════════════════════╡\n",
       "│ 0      ┆ 0           ┆ 1            ┆ 0              ┆ 0                  │\n",
       "│ 0      ┆ 0           ┆ 1            ┆ 1              ┆ 0                  │\n",
       "│ 0      ┆ 0           ┆ 2            ┆ 0              ┆ 1                  │\n",
       "│ 0      ┆ 0           ┆ 2            ┆ 1              ┆ 1                  │\n",
       "│ 0      ┆ 0           ┆ 3            ┆ 0              ┆ 2                  │\n",
       "│ 0      ┆ 0           ┆ 3            ┆ 1              ┆ 2                  │\n",
       "│ 0      ┆ 1           ┆ 0            ┆ 0              ┆ 3                  │\n",
       "│ 0      ┆ 1           ┆ 0            ┆ 1              ┆ 3                  │\n",
       "│ 0      ┆ 1           ┆ 1            ┆ 0              ┆ 4                  │\n",
       "│ 0      ┆ 1           ┆ 1            ┆ 1              ┆ 4                  │\n",
       "└────────┴─────────────┴──────────────┴────────────────┴────────────────────┘"
      ]
     },
     "execution_count": 31,
     "metadata": {},
     "output_type": "execute_result"
    }
   ],
   "source": [
    "pu_id = train_df.select(pl.col(\n",
    "    \"county\", \"is_business\", \"product_type\", \"is_consumption\", \"prediction_unit_id\"\n",
    "    ))\n",
    "pu_id.head(10)"
   ]
  },
  {
   "cell_type": "code",
   "execution_count": 32,
   "metadata": {},
   "outputs": [
    {
     "data": {
      "text/html": [
       "<div><style>\n",
       ".dataframe > thead > tr,\n",
       ".dataframe > tbody > tr {\n",
       "  text-align: right;\n",
       "  white-space: pre-wrap;\n",
       "}\n",
       "</style>\n",
       "<small>shape: (10, 5)</small><table border=\"1\" class=\"dataframe\"><thead><tr><th>county</th><th>is_business</th><th>product_type</th><th>is_consumption</th><th>prediction_unit_id</th></tr><tr><td>i64</td><td>i64</td><td>i64</td><td>i64</td><td>i64</td></tr></thead><tbody><tr><td>0</td><td>1</td><td>3</td><td>0</td><td>5</td></tr><tr><td>0</td><td>1</td><td>3</td><td>1</td><td>5</td></tr><tr><td>1</td><td>0</td><td>1</td><td>0</td><td>6</td></tr><tr><td>1</td><td>0</td><td>1</td><td>1</td><td>6</td></tr><tr><td>1</td><td>0</td><td>3</td><td>0</td><td>7</td></tr><tr><td>1</td><td>0</td><td>3</td><td>1</td><td>7</td></tr><tr><td>1</td><td>1</td><td>3</td><td>0</td><td>8</td></tr><tr><td>1</td><td>1</td><td>3</td><td>1</td><td>8</td></tr><tr><td>2</td><td>0</td><td>3</td><td>0</td><td>9</td></tr><tr><td>2</td><td>0</td><td>3</td><td>1</td><td>9</td></tr></tbody></table></div>"
      ],
      "text/plain": [
       "shape: (10, 5)\n",
       "┌────────┬─────────────┬──────────────┬────────────────┬────────────────────┐\n",
       "│ county ┆ is_business ┆ product_type ┆ is_consumption ┆ prediction_unit_id │\n",
       "│ ---    ┆ ---         ┆ ---          ┆ ---            ┆ ---                │\n",
       "│ i64    ┆ i64         ┆ i64          ┆ i64            ┆ i64                │\n",
       "╞════════╪═════════════╪══════════════╪════════════════╪════════════════════╡\n",
       "│ 0      ┆ 1           ┆ 3            ┆ 0              ┆ 5                  │\n",
       "│ 0      ┆ 1           ┆ 3            ┆ 1              ┆ 5                  │\n",
       "│ 1      ┆ 0           ┆ 1            ┆ 0              ┆ 6                  │\n",
       "│ 1      ┆ 0           ┆ 1            ┆ 1              ┆ 6                  │\n",
       "│ 1      ┆ 0           ┆ 3            ┆ 0              ┆ 7                  │\n",
       "│ 1      ┆ 0           ┆ 3            ┆ 1              ┆ 7                  │\n",
       "│ 1      ┆ 1           ┆ 3            ┆ 0              ┆ 8                  │\n",
       "│ 1      ┆ 1           ┆ 3            ┆ 1              ┆ 8                  │\n",
       "│ 2      ┆ 0           ┆ 3            ┆ 0              ┆ 9                  │\n",
       "│ 2      ┆ 0           ┆ 3            ┆ 1              ┆ 9                  │\n",
       "└────────┴─────────────┴──────────────┴────────────────┴────────────────────┘"
      ]
     },
     "execution_count": 32,
     "metadata": {},
     "output_type": "execute_result"
    }
   ],
   "source": [
    "pu_id[10:20]"
   ]
  },
  {
   "cell_type": "markdown",
   "metadata": {},
   "source": [
    "Se obtienen los valores únicos de cada columna"
   ]
  },
  {
   "cell_type": "code",
   "execution_count": 35,
   "metadata": {},
   "outputs": [
    {
     "name": "stdout",
     "output_type": "stream",
     "text": [
      "county :\n",
      "\t [0, 1, 2, 3, 4, 5, 6, 7, 8, 9, 10, 11, 12, 13, 14, 15]\n",
      "is_business :\n",
      "\t [0, 1]\n",
      "product_type :\n",
      "\t [0, 1, 2, 3]\n",
      "is_consumption :\n",
      "\t [0, 1]\n",
      "prediction_unit_id :\n",
      "\t [0, 1, 2, 3, 4, 5, 6, 7, 8, 9, 10, 11, 12, 13, 14, 15, 16, 17, 18, 19, 20, 21, 22, 23, 24, 25, 26, 27, 28, 29, 30, 31, 32, 33, 34, 35, 36, 37, 38, 39, 40, 41, 42, 43, 44, 45, 46, 47, 48, 49, 50, 51, 52, 53, 54, 55, 56, 57, 58, 59, 60, 61, 62, 63, 64, 65, 66, 67, 68]\n"
     ]
    }
   ],
   "source": [
    "for col in pu_id.columns:\n",
    "    print(col, \":\\n\\t\", pu_id[col].unique().to_list())"
   ]
  },
  {
   "cell_type": "markdown",
   "metadata": {},
   "source": [
    "Puede observarse que existen 15 condados, un valor booleano para determinar \n",
    "si el cliente es un negócio y 4 tipos de productos"
   ]
  },
  {
   "cell_type": "markdown",
   "metadata": {},
   "source": [
    "observando el DataFrame puede observarse que prediction_unit_id  \n",
    "sigue un orden en el cual, dentro de cada condado, primero se  \n",
    "ordena por \"is_business\" y luego por \"product_type\".  \n",
    "\n",
    "De esta forma que el orden de prioridad sería:\n",
    "county, is_business y product_type.\n",
    "\n",
    "por ejemplo: \n",
    "\n",
    "12, 0, 0, 30  \n",
    "12, 0, 2, 31  \n",
    "13, 1, 0, 32  \n",
    "13, 1, 1, 33  \n",
    "14, 0, 1, 34  \n",
    "\n",
    "De esta forma \"prediction_unit_id\" sería un identificador único\n",
    "que permite unificar a diferentes clientes con el mismo \n",
    "contrato dentro de un mismo condado con el fin de unificar\n",
    "las predicciones."
   ]
  },
  {
   "cell_type": "markdown",
   "metadata": {},
   "source": []
  }
 ],
 "metadata": {
  "kernelspec": {
   "display_name": ".venv",
   "language": "python",
   "name": "python3"
  },
  "language_info": {
   "codemirror_mode": {
    "name": "ipython",
    "version": 3
   },
   "file_extension": ".py",
   "mimetype": "text/x-python",
   "name": "python",
   "nbconvert_exporter": "python",
   "pygments_lexer": "ipython3",
   "version": "3.10.15"
  }
 },
 "nbformat": 4,
 "nbformat_minor": 2
}
