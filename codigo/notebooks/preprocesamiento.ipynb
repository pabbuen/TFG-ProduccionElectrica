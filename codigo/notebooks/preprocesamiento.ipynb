{
 "cells": [
  {
   "cell_type": "markdown",
   "metadata": {},
   "source": [
    "# Preprocesamiento de datos"
   ]
  },
  {
   "cell_type": "markdown",
   "metadata": {},
   "source": [
    "Con el fin de poder entrenar los diversos modelos de Machine Learning y\n",
    "Deep learning, es necesário hacer un preprocesamiento de los datos para \n",
    "poder obtener un único DataFrame con todas las características necesárias"
   ]
  },
  {
   "cell_type": "markdown",
   "metadata": {},
   "source": [
    "## Carga de datos\n",
    "\n",
    "Antes de poder manipular los diferentes datos, primero es necesário\n",
    "cargarlos en el sistema"
   ]
  },
  {
   "cell_type": "code",
   "execution_count": 1,
   "metadata": {},
   "outputs": [],
   "source": [
    "import pandas as pd\n",
    "import polars as pl\n",
    "import numpy as np \n",
    "from pathlib import Path"
   ]
  },
  {
   "cell_type": "code",
   "execution_count": 2,
   "metadata": {},
   "outputs": [],
   "source": [
    "# Directório de archivos\n",
    "data_folder = Path(\"../data/predict-energy-behavior-of-prosumers\")\n",
    "\n",
    "# Diccionario de archivos\n",
    "files = {\n",
    "    \"train\": \"train.csv\",\n",
    "    \"gas_prices\": \"gas_prices.csv\",\n",
    "    \"client\": \"client.csv\",\n",
    "    \"electricity_prices\": \"electricity_prices.csv\",\n",
    "    \"forecast_weather\": \"forecast_weather.csv\",\n",
    "    \"historical_weather\": \"historical_weather.csv\",\n",
    "    \"county_lon_lats\": \"county_lon_lats.csv\",\n",
    "    \"weather_station\": \"weather_station_to_county_mapping.csv\"\n",
    "}"
   ]
  },
  {
   "cell_type": "code",
   "execution_count": 3,
   "metadata": {},
   "outputs": [
    {
     "name": "stdout",
     "output_type": "stream",
     "text": [
      "Archivo train cargado con exito.\n",
      "Archivo gas_prices cargado con exito.\n",
      "Archivo client cargado con exito.\n",
      "Archivo electricity_prices cargado con exito.\n",
      "Archivo forecast_weather cargado con exito.\n",
      "Archivo historical_weather cargado con exito.\n",
      "Archivo county_lon_lats cargado con exito.\n",
      "Archivo weather_station cargado con exito.\n"
     ]
    }
   ],
   "source": [
    "# Se crea un diccionario de DataFrames para acceder facilmente a todos\n",
    "# y poder iterar sobre ellos si es necesário\n",
    "dfs = {}\n",
    "\n",
    "for key, filename in files.items():\n",
    "    filepath = data_folder / filename\n",
    "    try:\n",
    "        df = pl.read_csv(filepath)\n",
    "        dfs[key] = df\n",
    "        print(f\"Archivo {key} cargado con exito.\")\n",
    "    except:\n",
    "        print(f\"No pudo cargarse el archivo {key}.\")\n",
    "    "
   ]
  },
  {
   "cell_type": "markdown",
   "metadata": {},
   "source": [
    "## Asignación de longitud/latitud a un condado especifico\n",
    "\n",
    "Con el fin de poder unir los csv de \"train.csv\" y \"forecast_weather.csv\"\n",
    "es necesario poder asignar a cada longitud y latitud, su condado\n",
    "correspondiente.\n",
    "\n",
    "Para ello se utilizará el archivo \"county_lon_lats\" obtenido de la página\n",
    "de [kaggle](https://www.kaggle.com/datasets/michaelo/fabiendaniels-mapping-locations-and-county-codes/data)\n",
    "con datos que asignan latitudes y longitudes a su correspondiente condado."
   ]
  },
  {
   "cell_type": "markdown",
   "metadata": {},
   "source": [
    "### Visualización de los datos"
   ]
  },
  {
   "cell_type": "code",
   "execution_count": 4,
   "metadata": {},
   "outputs": [
    {
     "ename": "KeyboardInterrupt",
     "evalue": "",
     "output_type": "error",
     "traceback": [
      "\u001b[1;31m---------------------------------------------------------------------------\u001b[0m",
      "\u001b[1;31mKeyboardInterrupt\u001b[0m                         Traceback (most recent call last)",
      "Cell \u001b[1;32mIn[4], line 1\u001b[0m\n\u001b[1;32m----> 1\u001b[0m \u001b[38;5;28;01mimport\u001b[39;00m \u001b[38;5;21;01mmatplotlib\u001b[39;00m\u001b[38;5;21;01m.\u001b[39;00m\u001b[38;5;21;01mpyplot\u001b[39;00m \u001b[38;5;28;01mas\u001b[39;00m \u001b[38;5;21;01mplt\u001b[39;00m\n",
      "File \u001b[1;32md:\\Proyectos\\TFG-ProduccionElectrica\\.venv\\Lib\\site-packages\\matplotlib\\__init__.py:159\u001b[0m\n\u001b[0;32m    155\u001b[0m \u001b[38;5;28;01mfrom\u001b[39;00m \u001b[38;5;21;01mpackaging\u001b[39;00m\u001b[38;5;21;01m.\u001b[39;00m\u001b[38;5;21;01mversion\u001b[39;00m \u001b[38;5;28;01mimport\u001b[39;00m parse \u001b[38;5;28;01mas\u001b[39;00m parse_version\n\u001b[0;32m    157\u001b[0m \u001b[38;5;66;03m# cbook must import matplotlib only within function\u001b[39;00m\n\u001b[0;32m    158\u001b[0m \u001b[38;5;66;03m# definitions, so it is safe to import from it here.\u001b[39;00m\n\u001b[1;32m--> 159\u001b[0m \u001b[38;5;28;01mfrom\u001b[39;00m \u001b[38;5;21;01m.\u001b[39;00m \u001b[38;5;28;01mimport\u001b[39;00m _api, _version, cbook, _docstring, rcsetup\n\u001b[0;32m    160\u001b[0m \u001b[38;5;28;01mfrom\u001b[39;00m \u001b[38;5;21;01mmatplotlib\u001b[39;00m\u001b[38;5;21;01m.\u001b[39;00m\u001b[38;5;21;01mcbook\u001b[39;00m \u001b[38;5;28;01mimport\u001b[39;00m sanitize_sequence\n\u001b[0;32m    161\u001b[0m \u001b[38;5;28;01mfrom\u001b[39;00m \u001b[38;5;21;01mmatplotlib\u001b[39;00m\u001b[38;5;21;01m.\u001b[39;00m\u001b[38;5;21;01m_api\u001b[39;00m \u001b[38;5;28;01mimport\u001b[39;00m MatplotlibDeprecationWarning\n",
      "File \u001b[1;32md:\\Proyectos\\TFG-ProduccionElectrica\\.venv\\Lib\\site-packages\\matplotlib\\rcsetup.py:28\u001b[0m\n\u001b[0;32m     26\u001b[0m \u001b[38;5;28;01mfrom\u001b[39;00m \u001b[38;5;21;01mmatplotlib\u001b[39;00m\u001b[38;5;21;01m.\u001b[39;00m\u001b[38;5;21;01mbackends\u001b[39;00m \u001b[38;5;28;01mimport\u001b[39;00m BackendFilter, backend_registry\n\u001b[0;32m     27\u001b[0m \u001b[38;5;28;01mfrom\u001b[39;00m \u001b[38;5;21;01mmatplotlib\u001b[39;00m\u001b[38;5;21;01m.\u001b[39;00m\u001b[38;5;21;01mcbook\u001b[39;00m \u001b[38;5;28;01mimport\u001b[39;00m ls_mapper\n\u001b[1;32m---> 28\u001b[0m \u001b[38;5;28;01mfrom\u001b[39;00m \u001b[38;5;21;01mmatplotlib\u001b[39;00m\u001b[38;5;21;01m.\u001b[39;00m\u001b[38;5;21;01mcolors\u001b[39;00m \u001b[38;5;28;01mimport\u001b[39;00m Colormap, is_color_like\n\u001b[0;32m     29\u001b[0m \u001b[38;5;28;01mfrom\u001b[39;00m \u001b[38;5;21;01mmatplotlib\u001b[39;00m\u001b[38;5;21;01m.\u001b[39;00m\u001b[38;5;21;01m_fontconfig_pattern\u001b[39;00m \u001b[38;5;28;01mimport\u001b[39;00m parse_fontconfig_pattern\n\u001b[0;32m     30\u001b[0m \u001b[38;5;28;01mfrom\u001b[39;00m \u001b[38;5;21;01mmatplotlib\u001b[39;00m\u001b[38;5;21;01m.\u001b[39;00m\u001b[38;5;21;01m_enums\u001b[39;00m \u001b[38;5;28;01mimport\u001b[39;00m JoinStyle, CapStyle\n",
      "File \u001b[1;32md:\\Proyectos\\TFG-ProduccionElectrica\\.venv\\Lib\\site-packages\\matplotlib\\colors.py:53\u001b[0m\n\u001b[0;32m     50\u001b[0m \u001b[38;5;28;01mimport\u001b[39;00m \u001b[38;5;21;01mre\u001b[39;00m\n\u001b[0;32m     52\u001b[0m \u001b[38;5;28;01mfrom\u001b[39;00m \u001b[38;5;21;01mPIL\u001b[39;00m \u001b[38;5;28;01mimport\u001b[39;00m Image\n\u001b[1;32m---> 53\u001b[0m \u001b[38;5;28;01mfrom\u001b[39;00m \u001b[38;5;21;01mPIL\u001b[39;00m\u001b[38;5;21;01m.\u001b[39;00m\u001b[38;5;21;01mPngImagePlugin\u001b[39;00m \u001b[38;5;28;01mimport\u001b[39;00m PngInfo\n\u001b[0;32m     55\u001b[0m \u001b[38;5;28;01mimport\u001b[39;00m \u001b[38;5;21;01mmatplotlib\u001b[39;00m \u001b[38;5;28;01mas\u001b[39;00m \u001b[38;5;21;01mmpl\u001b[39;00m\n\u001b[0;32m     56\u001b[0m \u001b[38;5;28;01mimport\u001b[39;00m \u001b[38;5;21;01mnumpy\u001b[39;00m \u001b[38;5;28;01mas\u001b[39;00m \u001b[38;5;21;01mnp\u001b[39;00m\n",
      "File \u001b[1;32m<frozen importlib._bootstrap>:1360\u001b[0m, in \u001b[0;36m_find_and_load\u001b[1;34m(name, import_)\u001b[0m\n",
      "File \u001b[1;32m<frozen importlib._bootstrap>:1331\u001b[0m, in \u001b[0;36m_find_and_load_unlocked\u001b[1;34m(name, import_)\u001b[0m\n",
      "File \u001b[1;32m<frozen importlib._bootstrap>:935\u001b[0m, in \u001b[0;36m_load_unlocked\u001b[1;34m(spec)\u001b[0m\n",
      "File \u001b[1;32m<frozen importlib._bootstrap_external>:991\u001b[0m, in \u001b[0;36mexec_module\u001b[1;34m(self, module)\u001b[0m\n",
      "File \u001b[1;32m<frozen importlib._bootstrap_external>:1087\u001b[0m, in \u001b[0;36mget_code\u001b[1;34m(self, fullname)\u001b[0m\n",
      "File \u001b[1;32m<frozen importlib._bootstrap_external>:1187\u001b[0m, in \u001b[0;36mget_data\u001b[1;34m(self, path)\u001b[0m\n",
      "\u001b[1;31mKeyboardInterrupt\u001b[0m: "
     ]
    }
   ],
   "source": [
    "import matplotlib.pyplot as plt"
   ]
  },
  {
   "cell_type": "code",
   "execution_count": null,
   "metadata": {},
   "outputs": [
    {
     "data": {
      "text/html": [
       "<div><style>\n",
       ".dataframe > thead > tr,\n",
       ".dataframe > tbody > tr {\n",
       "  text-align: right;\n",
       "  white-space: pre-wrap;\n",
       "}\n",
       "</style>\n",
       "<small>shape: (112, 4)</small><table border=\"1\" class=\"dataframe\"><thead><tr><th>county_name</th><th>longitude</th><th>latitude</th><th>county</th></tr><tr><td>str</td><td>f64</td><td>f64</td><td>i64</td></tr></thead><tbody><tr><td>null</td><td>21.7</td><td>57.6</td><td>null</td></tr><tr><td>null</td><td>21.7</td><td>57.9</td><td>null</td></tr><tr><td>null</td><td>21.7</td><td>58.2</td><td>null</td></tr><tr><td>null</td><td>21.7</td><td>58.5</td><td>null</td></tr><tr><td>null</td><td>21.7</td><td>58.8</td><td>null</td></tr><tr><td>&hellip;</td><td>&hellip;</td><td>&hellip;</td><td>&hellip;</td></tr><tr><td>null</td><td>28.2</td><td>58.5</td><td>null</td></tr><tr><td>null</td><td>28.2</td><td>58.8</td><td>null</td></tr><tr><td>null</td><td>28.2</td><td>59.1</td><td>null</td></tr><tr><td>null</td><td>28.2</td><td>59.4</td><td>null</td></tr><tr><td>null</td><td>28.2</td><td>59.7</td><td>null</td></tr></tbody></table></div>"
      ],
      "text/plain": [
       "shape: (112, 4)\n",
       "┌─────────────┬───────────┬──────────┬────────┐\n",
       "│ county_name ┆ longitude ┆ latitude ┆ county │\n",
       "│ ---         ┆ ---       ┆ ---      ┆ ---    │\n",
       "│ str         ┆ f64       ┆ f64      ┆ i64    │\n",
       "╞═════════════╪═══════════╪══════════╪════════╡\n",
       "│ null        ┆ 21.7      ┆ 57.6     ┆ null   │\n",
       "│ null        ┆ 21.7      ┆ 57.9     ┆ null   │\n",
       "│ null        ┆ 21.7      ┆ 58.2     ┆ null   │\n",
       "│ null        ┆ 21.7      ┆ 58.5     ┆ null   │\n",
       "│ null        ┆ 21.7      ┆ 58.8     ┆ null   │\n",
       "│ …           ┆ …         ┆ …        ┆ …      │\n",
       "│ null        ┆ 28.2      ┆ 58.5     ┆ null   │\n",
       "│ null        ┆ 28.2      ┆ 58.8     ┆ null   │\n",
       "│ null        ┆ 28.2      ┆ 59.1     ┆ null   │\n",
       "│ null        ┆ 28.2      ┆ 59.4     ┆ null   │\n",
       "│ null        ┆ 28.2      ┆ 59.7     ┆ null   │\n",
       "└─────────────┴───────────┴──────────┴────────┘"
      ]
     },
     "execution_count": 13,
     "metadata": {},
     "output_type": "execute_result"
    }
   ],
   "source": [
    "dfs[\"weather_station\"]"
   ]
  },
  {
   "cell_type": "code",
   "execution_count": null,
   "metadata": {},
   "outputs": [
    {
     "data": {
      "image/png": "[encoded data removed]",
      "text/plain": [
       "<Figure size 640x480 with 1 Axes>"
      ]
     },
     "metadata": {},
     "output_type": "display_data"
    }
   ],
   "source": [
    "plt.scatter('longitude', 'latitude', c='county', data=dfs[\"county_lon_lats\"])\n",
    "plt.xlabel(\"Longitud\")\n",
    "plt.ylabel(\"latitud\")\n",
    "plt.legend()\n",
    "plt.show()"
   ]
  },
  {
   "cell_type": "code",
   "execution_count": null,
   "metadata": {},
   "outputs": [],
   "source": [
    "from sklearn.model_selection import StratifiedKFold\n",
    "from sklearn.cluster import KMeans\n",
    "from sklearn.neighbors import KNeighborsClassifier\n",
    "from sklearn.preprocessing import MinMaxScaler\n",
    "from sklearn.metrics import accuracy_score\n",
    "from warnings import filterwarnings\n",
    "filterwarnings(\"ignore\")"
   ]
  },
  {
   "cell_type": "code",
   "execution_count": null,
   "metadata": {},
   "outputs": [],
   "source": [
    "# obtención de X e y\n",
    "X = dfs[\"county_lon_lats\"].drop(\"county\")\n",
    "y = dfs[\"county_lon_lats\"][\"county\"].to_numpy()"
   ]
  },
  {
   "cell_type": "markdown",
   "metadata": {},
   "source": [
    "## Predicción y comparación de modelos\n",
    "\n",
    "A continuación se presentan 3 modelos (KNN, Kmeans\\[moda\\] y\n",
    "RBF-SVM) los cuales se compararán para averiguar cual de los 3 \n",
    "da una mayor precisión."
   ]
  },
  {
   "cell_type": "code",
   "execution_count": null,
   "metadata": {},
   "outputs": [],
   "source": [
    "def plot_lines(\n",
    "        X: np.array, *y: np.array, xlabel:str=None, \n",
    "        ylabel:str=None, legend:bool=False,\n",
    "        legend_labels:np.array=None\n",
    "    ):\n",
    "    \"\"\"\n",
    "    Imprime uno o mas diagramas de linea sobre\n",
    "    el mismo eje X\n",
    "\n",
    "    Parameters\n",
    "    ----------\n",
    "    X: np.array\n",
    "        Eje X del diagrama\n",
    "    *y: np.array\n",
    "        Tupla con los ejes y del diagrama\n",
    "    xlabel: str, optional\n",
    "        Etiqueta del eje X del diagrama\n",
    "    ylabel: str, optional\n",
    "        Etiqueta del eje y del diagrama\n",
    "    legend: bool, optional\n",
    "        Si es 'True' imprime la legenda del diagrama\n",
    "    legend_labels: array, optional\n",
    "        Strings de la legenda\n",
    "\n",
    "    \"\"\"\n",
    "    for line, lab in zip(y, legend_labels):\n",
    "        plt.plot(X, line, label=lab)\n",
    "    plt.xlabel(xlabel)\n",
    "    plt.ylabel(ylabel)\n",
    "    if legend:\n",
    "        plt.legend()\n",
    "    plt.show()"
   ]
  },
  {
   "cell_type": "markdown",
   "metadata": {},
   "source": [
    "#### Clases"
   ]
  },
  {
   "cell_type": "code",
   "execution_count": null,
   "metadata": {},
   "outputs": [],
   "source": [
    "from sklearn.svm import SVC\n",
    "from sklearn.metrics.pairwise import euclidean_distances\n",
    "from statistics import mode"
   ]
  },
  {
   "cell_type": "code",
   "execution_count": null,
   "metadata": {},
   "outputs": [],
   "source": [
    "# Calcula y agrupa los datos en clusters utilizando el criterio de la moda\n",
    "class kmedias_moda:\n",
    "    def __init__(self, n_clusters) -> None:\n",
    "        self.k = n_clusters\n",
    "        self.moda = -1 * np.ones(self.k, dtype=int)\n",
    "\n",
    "    def fit(self, X, y):\n",
    "        self.model = KMeans(self.k)\n",
    "        self.model.fit(X)\n",
    "\n",
    "        for i in range(self.k):\n",
    "            self.moda[i] = mode(y[self.model.labels_ == i])\n",
    "    \n",
    "    def predict(self, X):\n",
    "        return self.moda[self.model.predict(X)]\n",
    "    \n",
    "    def score(self, X, y):\n",
    "        return np.mean(self.predict(X) == y)"
   ]
  },
  {
   "cell_type": "code",
   "execution_count": null,
   "metadata": {},
   "outputs": [],
   "source": [
    "class oculta_rbf:\n",
    "    '''\n",
    "    Calcula los centroides de un modelo Kmeans al cual se le \n",
    "    aplica una función RBF utilizando la distancia entre los centroides\n",
    "    '''\n",
    "\n",
    "    def __init__(self, n_clusters) -> None:\n",
    "        self.k = n_clusters\n",
    "    \n",
    "    def fit(self, X):\n",
    "        self.kmeans = KMeans(self.k)\n",
    "        self.kmeans.fit(X)\n",
    "\n",
    "        self.centers = self.kmeans.cluster_centers_\n",
    "        dist = euclidean_distances(X, self.centers)\n",
    "        self.sigma = np.sum(dist, axis=0)/(dist.shape[0] - 1)\n",
    "    \n",
    "    def predict(self, X):\n",
    "        return np.exp(\n",
    "            (-euclidean_distances(X, self.centers)**2)/(\n",
    "                2.0*(self.sigma**2)\n",
    "            )\n",
    "        )"
   ]
  },
  {
   "cell_type": "code",
   "execution_count": null,
   "metadata": {},
   "outputs": [],
   "source": [
    "class RBF_SVM:\n",
    "    def __init__(self, n_clusters:int, degree:int, scale=False):\n",
    "        self.oculta = oculta_rbf(n_clusters)\n",
    "        self.svm = SVC(kernel='poly', degree=degree)\n",
    "        self.scale=scale\n",
    "        self.scaler = MinMaxScaler()\n",
    "    \n",
    "    def fit(self, X, y):\n",
    "        if self.scale:\n",
    "            X = self.scaler.fit_transform(X)\n",
    "        self.oculta.fit(X)\n",
    "        self.svm.fit(self.oculta.predict(X), y)\n",
    "\n",
    "    def predict(self, X):\n",
    "        if self.scale:\n",
    "            X = self.scaler.transform(X)\n",
    "        return self.svm.predict(self.oculta.predict(X))\n",
    "    \n",
    "    def score(self, X, y):\n",
    "        if self.scale:\n",
    "            X = self.scaler.transform(X)\n",
    "        return self.svm.score(self.oculta.predict(X), y)"
   ]
  },
  {
   "cell_type": "code",
   "execution_count": null,
   "metadata": {},
   "outputs": [],
   "source": [
    "def cast_dataframe(df: pl.DataFrame) -> pl.DataFrame:\n",
    "    \"\"\"\n",
    "    Realiza un downcast de todas las columnas con valores\n",
    "    numéricos de un dataframe dado.\n",
    "\n",
    "    Parameters\n",
    "    ----------\n",
    "    df : pl.DataFrame\n",
    "        El DataFrame a modificar\n",
    "    \n",
    "    Returns\n",
    "    -------\n",
    "    pl.DataFrame\n",
    "        El DataFrame modificado\n",
    "    \"\"\"\n",
    "\n",
    "    for col in df.columns:\n",
    "        column = df[col]\n",
    "        col_dtype = column.dtype\n",
    "\n",
    "        # Downcast de enteros\n",
    "        if col_dtype == pl.Int64 or col_dtype == pl.Int32 or col_dtype == pl.Int16:\n",
    "\n",
    "            min_val, max_val = column.min(), column.max()\n",
    "\n",
    "            if np.iinfo(np.int8).min <= min_val <= max_val <= np.iinfo(np.int8).max:\n",
    "                new_type = pl.Int8\n",
    "            elif np.iinfo(np.int16).min <= min_val <= max_val <= np.iinfo(np.int16).max:\n",
    "                new_type = pl.Int16\n",
    "            elif np.iinfo(np.int32).min <= min_val <= max_val <= np.iinfo(np.int32).max:\n",
    "                new_type = pl.Int32\n",
    "            else:\n",
    "                new_type = pl.Int64\n",
    "\n",
    "            df = df.with_columns(pl.col(col).cast(new_type))\n",
    "        \n",
    "        # Downcast de punto flotante\n",
    "        elif col_dtype == pl.Float64:\n",
    "\n",
    "            min_val, max_val = column.min(), column.max()\n",
    "\n",
    "            if np.finfo(np.float32).min <= min_val <= max_val <= np.finfo(np.float32).max:\n",
    "                new_type = pl.Float32\n",
    "            else:\n",
    "                new_type = pl.Float64\n",
    "            \n",
    "            df = df.with_columns(pl.col(col).cast(new_type))\n",
    "        \n",
    "    return df\n"
   ]
  },
  {
   "cell_type": "code",
   "execution_count": null,
   "metadata": {},
   "outputs": [],
   "source": [
    "def get_scores(X, y, range_items, model, clusters:int=None, n_folds:int=10):\n",
    "    \"\"\"\n",
    "    Realiza una prueba de estratificación cruzada sobre\n",
    "    un modelo y calcula la precisión de cada Fold\n",
    "\n",
    "    Parameters\n",
    "    ----------\n",
    "    X:\n",
    "        Datos totales del conjunto\n",
    "    y:\n",
    "        Clase del Conjunto\n",
    "    model:\n",
    "        Clase del modelo a entrenar\n",
    "    clusters: int, optional\n",
    "        Númeor de clusters del modelo RBF_SVM\n",
    "    n_folds: int, optional\n",
    "        Número de particiones del K-Fold\n",
    "    \n",
    "    Returns\n",
    "    -------\n",
    "    (np.array, np.array):\n",
    "        Tupla con las puntuaciones del conjuntop Train y Test\n",
    "    \"\"\"\n",
    "\n",
    "    skf = StratifiedKFold(n_folds)\n",
    "    X_scl = MinMaxScaler().fit_transform(X)\n",
    "\n",
    "    train_scores = np.array([])\n",
    "    test_scores = np.array([])\n",
    "\n",
    "    # Se itera sobre el parámetro a optimizar\n",
    "    for i in range_items:\n",
    "        fold_train_scores = np.array([])\n",
    "        fold_test_scores = np.array([])\n",
    "\n",
    "        # K-Fold Estratificado\n",
    "        for train_idx, test_idx in skf.split(X, y):\n",
    "            X_train, X_test = X_scl[train_idx], X_scl[test_idx]\n",
    "            y_train, y_test = y[train_idx], y[test_idx]\n",
    "\n",
    "            # Instanciación del modelo a entrenar\n",
    "            if model in [KNeighborsClassifier, kmedias_moda]:\n",
    "                m = model(i)\n",
    "            elif model == RBF_SVM and clusters != None:\n",
    "                m = model(clusters, i)\n",
    "\n",
    "            # Entrenamiento del modelo\n",
    "            m.fit(X_train, y_train)\n",
    "\n",
    "            # Se guardan los resultados de cada iteración\n",
    "            fold_train_scores = np.append(\n",
    "                fold_train_scores,\n",
    "                m.score(X_train, y_train)\n",
    "            )\n",
    "\n",
    "            fold_test_scores = np.append(\n",
    "                fold_test_scores,\n",
    "                m.score(X_test, y_test)\n",
    "            )\n",
    "        \n",
    "        # Se calculan los resultados de cada Fold\n",
    "        train_scores = np.append(train_scores, fold_train_scores.mean())\n",
    "        test_scores = np.append(test_scores, fold_test_scores.mean())\n",
    "\n",
    "    return train_scores, test_scores"
   ]
  },
  {
   "cell_type": "markdown",
   "metadata": {},
   "source": [
    "### Downcast\n",
    "Se realiza un cast a a todos los datatypes de las columnas\n",
    "de los DataFrames para reducier el coste computacional del \n",
    "entrenamiento y los merge"
   ]
  },
  {
   "cell_type": "code",
   "execution_count": null,
   "metadata": {},
   "outputs": [],
   "source": [
    "for key in dfs.keys():\n",
    "    dfs[key] = cast_dataframe(dfs[key])"
   ]
  },
  {
   "cell_type": "markdown",
   "metadata": {},
   "source": [
    "### KNN\n",
    "Se comprueba la precisión del modelo Vecinos mas próximos"
   ]
  },
  {
   "cell_type": "code",
   "execution_count": null,
   "metadata": {},
   "outputs": [],
   "source": [
    "n_neighbors = np.arange(start=1, step=2, stop=21)\n",
    "train_scores, test_scores = get_scores(X, y, n_neighbors, KNeighborsClassifier)"
   ]
  },
  {
   "cell_type": "code",
   "execution_count": null,
   "metadata": {},
   "outputs": [
    {
     "data": {
      "text/plain": [
       "(array([1.        , 0.90959175, 0.87546093, 0.85930641, 0.78950834,\n",
       "        0.74205443, 0.6797849 , 0.66038191, 0.59374451, 0.54484197]),\n",
       " array([0.60357143, 0.68571429, 0.74285714, 0.7375    , 0.67321429,\n",
       "        0.64821429, 0.56607143, 0.51428571, 0.51428571, 0.47678571]))"
      ]
     },
     "execution_count": 18,
     "metadata": {},
     "output_type": "execute_result"
    }
   ],
   "source": [
    "train_scores, test_scores"
   ]
  },
  {
   "cell_type": "code",
   "execution_count": null,
   "metadata": {},
   "outputs": [
    {
     "data": {
      "image/png": "[encoded data removed]",
      "text/plain": [
       "<Figure size 640x480 with 1 Axes>"
      ]
     },
     "metadata": {},
     "output_type": "display_data"
    }
   ],
   "source": [
    "plot_lines(\n",
    "    n_neighbors, \n",
    "    train_scores, \n",
    "    test_scores,\n",
    "    xlabel=\"Num Neighbors\",\n",
    "    ylabel=\"Accuracy Score\",\n",
    "    legend=True,\n",
    "    legend_labels=[\"Train\", \"Test\"]\n",
    ")"
   ]
  },
  {
   "cell_type": "code",
   "execution_count": null,
   "metadata": {},
   "outputs": [
    {
     "name": "stdout",
     "output_type": "stream",
     "text": [
      "neighbors_optim: 5\n",
      "score: 0.7428571428571428\n"
     ]
    }
   ],
   "source": [
    "nn_optim = n_neighbors[test_scores == test_scores.max()].item()\n",
    "knn_score = test_scores.max()\n",
    "print(f\"neighbors_optim: {nn_optim}\")\n",
    "print(f\"score: {knn_score}\")"
   ]
  },
  {
   "cell_type": "markdown",
   "metadata": {},
   "source": [
    "### KMeans y SVC con capa oculta RBF"
   ]
  },
  {
   "cell_type": "markdown",
   "metadata": {},
   "source": [
    "#### Obtención de num. clusters óptimo\n",
    "Se calcula el número óptimo de clusters que debe tener KMeans\n",
    "para poder maximizar el resultado de la capa oculta con RBF.  \n",
    "\n",
    "A su vez, estos resultados nos permite saber por separado \n",
    "la precisión del modelo KMeans para la predición de los condados."
   ]
  },
  {
   "cell_type": "code",
   "execution_count": null,
   "metadata": {},
   "outputs": [],
   "source": [
    "n_clusters = np.arange(start=1, stop=16)\n",
    "train_scores, test_scores = get_scores(X, y, n_clusters, kmedias_moda)"
   ]
  },
  {
   "cell_type": "code",
   "execution_count": null,
   "metadata": {},
   "outputs": [
    {
     "data": {
      "image/png": "[encoded data removed]",
      "text/plain": [
       "<Figure size 640x480 with 1 Axes>"
      ]
     },
     "metadata": {},
     "output_type": "display_data"
    }
   ],
   "source": [
    "plot_lines(\n",
    "    n_clusters, \n",
    "    train_scores, \n",
    "    test_scores,\n",
    "    xlabel=\"Num Clusters\",\n",
    "    ylabel=\"Accuracy Score\",\n",
    "    legend=True,\n",
    "    legend_labels=[\"Train\", \"Test\"]\n",
    ")"
   ]
  },
  {
   "cell_type": "code",
   "execution_count": null,
   "metadata": {},
   "outputs": [
    {
     "name": "stdout",
     "output_type": "stream",
     "text": [
      "k_optim: 11\n",
      "score: 0.6089285714285715\n"
     ]
    }
   ],
   "source": [
    "k_optim = n_clusters[test_scores == test_scores.max()].item()\n",
    "km_score = test_scores.max()\n",
    "print(f\"k_optim: {k_optim}\\nscore: {km_score}\")"
   ]
  },
  {
   "cell_type": "markdown",
   "metadata": {},
   "source": [
    "#### Cálculo del grado óptimo\n",
    "Se calcula el grádo óptimo del kernel polinómico de la SVM \n",
    "para maximizar el resultado."
   ]
  },
  {
   "cell_type": "code",
   "execution_count": null,
   "metadata": {},
   "outputs": [],
   "source": [
    "grados = np.arange(start=2, stop=10)\n",
    "train_scores, test_scores = get_scores(X, y, grados, RBF_SVM, clusters=k_optim)"
   ]
  },
  {
   "cell_type": "code",
   "execution_count": null,
   "metadata": {},
   "outputs": [
    {
     "data": {
      "image/png": "[encoded data removed]",
      "text/plain": [
       "<Figure size 640x480 with 1 Axes>"
      ]
     },
     "metadata": {},
     "output_type": "display_data"
    }
   ],
   "source": [
    "plot_lines(\n",
    "    grados, \n",
    "    train_scores, \n",
    "    test_scores,\n",
    "    xlabel=\"Degree\",\n",
    "    ylabel=\"Accuracy Score\",\n",
    "    legend=True,\n",
    "    legend_labels=[\"Train\", \"Test\"]\n",
    ")"
   ]
  },
  {
   "cell_type": "code",
   "execution_count": null,
   "metadata": {},
   "outputs": [
    {
     "name": "stdout",
     "output_type": "stream",
     "text": [
      "grad_optim: 3\n",
      "score: 0.7053571428571428\n"
     ]
    }
   ],
   "source": [
    "grad_optim = grados[test_scores == test_scores.max()].item()\n",
    "svm_score = test_scores.max()\n",
    "print(f\"grad_optim: {grad_optim}\\nscore: {svm_score}\")"
   ]
  },
  {
   "cell_type": "markdown",
   "metadata": {},
   "source": [
    "Obtenidos los resultados óptimos comparamos los 3 modelos:"
   ]
  },
  {
   "cell_type": "code",
   "execution_count": null,
   "metadata": {},
   "outputs": [
    {
     "name": "stdout",
     "output_type": "stream",
     "text": [
      "KNN:\n",
      "\tnn_optim: 5\n",
      "\tscore: 0.7428571428571428\n",
      "KMeans:\n",
      "\tk_optim: 11\n",
      "\tscore: 0.6089285714285715\n",
      "RBF_SVM:\n",
      "\tdeg_optim: 3\n",
      "\tscore: 0.7053571428571428\n"
     ]
    }
   ],
   "source": [
    "print(f\"KNN:\\n\\tnn_optim: {nn_optim}\\n\\tscore: {knn_score}\")\n",
    "print(f\"KMeans:\\n\\tk_optim: {k_optim}\\n\\tscore: {km_score}\")\n",
    "print(f\"RBF_SVM:\\n\\tdeg_optim: {grad_optim}\\n\\tscore: {svm_score}\")"
   ]
  },
  {
   "cell_type": "markdown",
   "metadata": {},
   "source": [
    "Puede observarse que el modelo que mejor resultado da a la hora de predecir el conjunto de entrenamiento\n",
    "es KNN con un número óptimo de vecinos entre 3 y 5 (Dependiendo de la ejecución)"
   ]
  },
  {
   "cell_type": "markdown",
   "metadata": {},
   "source": [
    "## Unión de DataFrames\n",
    "\n",
    "Conociendo el mejor modelo para predecir el condado\n",
    "se puede proceder con la unión de los DataFrames"
   ]
  },
  {
   "cell_type": "code",
   "execution_count": null,
   "metadata": {},
   "outputs": [],
   "source": [
    "def add_county(df: pl.DataFrame, model, scaler):\n",
    "    \"\"\"\n",
    "    Añade la predicción de los condados \n",
    "    al dataframe dado.\n",
    "\n",
    "    Parameters\n",
    "    ----------\n",
    "    df: pl.DataFrame\n",
    "        DataFrame a añadir los condados\n",
    "    model:\n",
    "        Modelo entrenado de machine learning\n",
    "    scaler:\n",
    "        Preprocesador de los datos\n",
    "    \n",
    "    Returns\n",
    "    -------\n",
    "    DataFrame con la columna de condados añadida\n",
    "    \"\"\"\n",
    "    cols = [\"longitude\", \"latitude\"]\n",
    "    print(df.columns)\n",
    "    coords = df.select(pl.col(cols))\n",
    "    coords_scl = scaler.transform(coords)\n",
    "    countys = model.predict(coords_scl)\n",
    "\n",
    "    return df.with_columns(pl.Series(\"county\", countys, dtype=pl.Int8)).drop(cols)"
   ]
  },
  {
   "cell_type": "code",
   "execution_count": null,
   "metadata": {},
   "outputs": [
    {
     "name": "stdout",
     "output_type": "stream",
     "text": [
      "['datetime', 'temperature', 'dewpoint', 'rain', 'snowfall', 'surface_pressure', 'cloudcover_total', 'cloudcover_low', 'cloudcover_mid', 'cloudcover_high', 'windspeed_10m', 'winddirection_10m', 'shortwave_radiation', 'direct_solar_radiation', 'diffuse_radiation', 'latitude', 'longitude', 'data_block_id']\n",
      "['latitude', 'longitude', 'origin_datetime', 'hours_ahead', 'temperature', 'dewpoint', 'cloudcover_high', 'cloudcover_low', 'cloudcover_mid', 'cloudcover_total', '10_metre_u_wind_component', '10_metre_v_wind_component', 'data_block_id', 'forecast_datetime', 'direct_solar_radiation', 'surface_solar_radiation_downwards', 'snowfall', 'total_precipitation']\n"
     ]
    }
   ],
   "source": [
    "# Se escalan los datos\n",
    "scaler = MinMaxScaler()\n",
    "X_scl = scaler.fit_transform(X)\n",
    "\n",
    "# Se entrena el modelo\n",
    "model = KNeighborsClassifier(n_neighbors=nn_optim)\n",
    "model.fit(X_scl, y)\n",
    "\n",
    "# Se añaden los resultados a los dataframes\n",
    "dfs[\"historical_weather\"] = add_county(\n",
    "    dfs[\"historical_weather\"],\n",
    "    model,\n",
    "    scaler\n",
    ")\n",
    "\n",
    "dfs[\"forecast_weather\"] = add_county(\n",
    "    dfs[\"forecast_weather\"],\n",
    "    model,\n",
    "    scaler\n",
    ")"
   ]
  },
  {
   "cell_type": "code",
   "execution_count": null,
   "metadata": {},
   "outputs": [
    {
     "data": {
      "text/plain": [
       "['origin_datetime',\n",
       " 'hours_ahead',\n",
       " 'temperature',\n",
       " 'dewpoint',\n",
       " 'cloudcover_high',\n",
       " 'cloudcover_low',\n",
       " 'cloudcover_mid',\n",
       " 'cloudcover_total',\n",
       " '10_metre_u_wind_component',\n",
       " '10_metre_v_wind_component',\n",
       " 'data_block_id',\n",
       " 'forecast_datetime',\n",
       " 'direct_solar_radiation',\n",
       " 'surface_solar_radiation_downwards',\n",
       " 'snowfall',\n",
       " 'total_precipitation',\n",
       " 'county']"
      ]
     },
     "execution_count": 30,
     "metadata": {},
     "output_type": "execute_result"
    }
   ],
   "source": [
    "dfs[\"forecast_weather\"].columns"
   ]
  },
  {
   "cell_type": "code",
   "execution_count": null,
   "metadata": {},
   "outputs": [],
   "source": [
    "# train - electricity_prices\n",
    "ep_df = dfs[\"electricity_prices\"].rename({\"forecast_date\": \"datetime\"}).drop([\"origin_date\"])\n",
    "final_data = dfs[\"train\"].drop([\"row_id\"]).join(\n",
    "    ep_df,\n",
    "    how=\"left\",\n",
    "    on=[\"data_block_id\", \"datetime\"]\n",
    ")\n",
    "\n",
    "# Final - historical_weather\n",
    "hw_df = dfs[\"historical_weather\"]\n",
    "final_data = final_data.join(\n",
    "    hw_df,\n",
    "    how=\"left\",\n",
    "    on=[\"datetime\", \"county\"]\n",
    ")"
   ]
  },
  {
   "cell_type": "code",
   "execution_count": null,
   "metadata": {},
   "outputs": [
    {
     "data": {
      "text/html": [
       "<div><style>\n",
       ".dataframe > thead > tr,\n",
       ".dataframe > tbody > tr {\n",
       "  text-align: right;\n",
       "  white-space: pre-wrap;\n",
       "}\n",
       "</style>\n",
       "<small>shape: (16_836_914, 24)</small><table border=\"1\" class=\"dataframe\"><thead><tr><th>county</th><th>is_business</th><th>product_type</th><th>target</th><th>is_consumption</th><th>datetime</th><th>data_block_id</th><th>prediction_unit_id</th><th>euros_per_mwh</th><th>temperature</th><th>dewpoint</th><th>rain</th><th>snowfall</th><th>surface_pressure</th><th>cloudcover_total</th><th>cloudcover_low</th><th>cloudcover_mid</th><th>cloudcover_high</th><th>windspeed_10m</th><th>winddirection_10m</th><th>shortwave_radiation</th><th>direct_solar_radiation</th><th>diffuse_radiation</th><th>data_block_id_right</th></tr><tr><td>i8</td><td>i8</td><td>i8</td><td>f32</td><td>i8</td><td>str</td><td>i16</td><td>i8</td><td>f32</td><td>f32</td><td>f32</td><td>f32</td><td>f32</td><td>f32</td><td>i8</td><td>i8</td><td>i8</td><td>i8</td><td>f32</td><td>i16</td><td>f32</td><td>f32</td><td>f32</td><td>f32</td></tr></thead><tbody><tr><td>0</td><td>0</td><td>1</td><td>0.713</td><td>0</td><td>&quot;2021-09-01 00:00:00&quot;</td><td>0</td><td>0</td><td>null</td><td>13.5</td><td>10.5</td><td>0.0</td><td>0.0</td><td>1009.5</td><td>46</td><td>49</td><td>0</td><td>7</td><td>4.416667</td><td>347</td><td>0.0</td><td>0.0</td><td>0.0</td><td>1.0</td></tr><tr><td>0</td><td>0</td><td>1</td><td>0.713</td><td>0</td><td>&quot;2021-09-01 00:00:00&quot;</td><td>0</td><td>0</td><td>null</td><td>13.2</td><td>10.8</td><td>0.0</td><td>0.0</td><td>1005.900024</td><td>78</td><td>87</td><td>0</td><td>0</td><td>3.388889</td><td>336</td><td>0.0</td><td>0.0</td><td>0.0</td><td>1.0</td></tr><tr><td>0</td><td>0</td><td>1</td><td>0.713</td><td>0</td><td>&quot;2021-09-01 00:00:00&quot;</td><td>0</td><td>0</td><td>null</td><td>12.6</td><td>10.5</td><td>0.0</td><td>0.0</td><td>1004.799988</td><td>90</td><td>98</td><td>3</td><td>0</td><td>2.861111</td><td>324</td><td>0.0</td><td>0.0</td><td>0.0</td><td>1.0</td></tr><tr><td>0</td><td>0</td><td>1</td><td>0.713</td><td>0</td><td>&quot;2021-09-01 00:00:00&quot;</td><td>0</td><td>0</td><td>null</td><td>11.6</td><td>9.7</td><td>0.0</td><td>0.0</td><td>1002.700012</td><td>94</td><td>99</td><td>9</td><td>0</td><td>2.305556</td><td>304</td><td>0.0</td><td>0.0</td><td>0.0</td><td>1.0</td></tr><tr><td>0</td><td>0</td><td>1</td><td>0.713</td><td>0</td><td>&quot;2021-09-01 00:00:00&quot;</td><td>0</td><td>0</td><td>null</td><td>14.0</td><td>10.7</td><td>0.0</td><td>0.0</td><td>1014.400024</td><td>20</td><td>17</td><td>1</td><td>14</td><td>6.75</td><td>352</td><td>0.0</td><td>0.0</td><td>0.0</td><td>1.0</td></tr><tr><td>&hellip;</td><td>&hellip;</td><td>&hellip;</td><td>&hellip;</td><td>&hellip;</td><td>&hellip;</td><td>&hellip;</td><td>&hellip;</td><td>&hellip;</td><td>&hellip;</td><td>&hellip;</td><td>&hellip;</td><td>&hellip;</td><td>&hellip;</td><td>&hellip;</td><td>&hellip;</td><td>&hellip;</td><td>&hellip;</td><td>&hellip;</td><td>&hellip;</td><td>&hellip;</td><td>&hellip;</td><td>&hellip;</td><td>&hellip;</td></tr><tr><td>15</td><td>1</td><td>0</td><td>197.233002</td><td>1</td><td>&quot;2023-05-31 23:00:00&quot;</td><td>637</td><td>64</td><td>null</td><td>null</td><td>null</td><td>null</td><td>null</td><td>null</td><td>null</td><td>null</td><td>null</td><td>null</td><td>null</td><td>null</td><td>null</td><td>null</td><td>null</td><td>null</td></tr><tr><td>15</td><td>1</td><td>1</td><td>0.0</td><td>0</td><td>&quot;2023-05-31 23:00:00&quot;</td><td>637</td><td>59</td><td>null</td><td>null</td><td>null</td><td>null</td><td>null</td><td>null</td><td>null</td><td>null</td><td>null</td><td>null</td><td>null</td><td>null</td><td>null</td><td>null</td><td>null</td><td>null</td></tr><tr><td>15</td><td>1</td><td>1</td><td>28.403999</td><td>1</td><td>&quot;2023-05-31 23:00:00&quot;</td><td>637</td><td>59</td><td>null</td><td>null</td><td>null</td><td>null</td><td>null</td><td>null</td><td>null</td><td>null</td><td>null</td><td>null</td><td>null</td><td>null</td><td>null</td><td>null</td><td>null</td><td>null</td></tr><tr><td>15</td><td>1</td><td>3</td><td>0.0</td><td>0</td><td>&quot;2023-05-31 23:00:00&quot;</td><td>637</td><td>60</td><td>null</td><td>null</td><td>null</td><td>null</td><td>null</td><td>null</td><td>null</td><td>null</td><td>null</td><td>null</td><td>null</td><td>null</td><td>null</td><td>null</td><td>null</td><td>null</td></tr><tr><td>15</td><td>1</td><td>3</td><td>196.240005</td><td>1</td><td>&quot;2023-05-31 23:00:00&quot;</td><td>637</td><td>60</td><td>null</td><td>null</td><td>null</td><td>null</td><td>null</td><td>null</td><td>null</td><td>null</td><td>null</td><td>null</td><td>null</td><td>null</td><td>null</td><td>null</td><td>null</td><td>null</td></tr></tbody></table></div>"
      ],
      "text/plain": [
       "shape: (16_836_914, 24)\n",
       "┌────────┬────────────┬────────────┬───────────┬───┬───────────┬───────────┬───────────┬───────────┐\n",
       "│ county ┆ is_busines ┆ product_ty ┆ target    ┆ … ┆ shortwave ┆ direct_so ┆ diffuse_r ┆ data_bloc │\n",
       "│ ---    ┆ s          ┆ pe         ┆ ---       ┆   ┆ _radiatio ┆ lar_radia ┆ adiation  ┆ k_id_righ │\n",
       "│ i8     ┆ ---        ┆ ---        ┆ f32       ┆   ┆ n         ┆ tion      ┆ ---       ┆ t         │\n",
       "│        ┆ i8         ┆ i8         ┆           ┆   ┆ ---       ┆ ---       ┆ f32       ┆ ---       │\n",
       "│        ┆            ┆            ┆           ┆   ┆ f32       ┆ f32       ┆           ┆ f32       │\n",
       "╞════════╪════════════╪════════════╪═══════════╪═══╪═══════════╪═══════════╪═══════════╪═══════════╡\n",
       "│ 0      ┆ 0          ┆ 1          ┆ 0.713     ┆ … ┆ 0.0       ┆ 0.0       ┆ 0.0       ┆ 1.0       │\n",
       "│ 0      ┆ 0          ┆ 1          ┆ 0.713     ┆ … ┆ 0.0       ┆ 0.0       ┆ 0.0       ┆ 1.0       │\n",
       "│ 0      ┆ 0          ┆ 1          ┆ 0.713     ┆ … ┆ 0.0       ┆ 0.0       ┆ 0.0       ┆ 1.0       │\n",
       "│ 0      ┆ 0          ┆ 1          ┆ 0.713     ┆ … ┆ 0.0       ┆ 0.0       ┆ 0.0       ┆ 1.0       │\n",
       "│ 0      ┆ 0          ┆ 1          ┆ 0.713     ┆ … ┆ 0.0       ┆ 0.0       ┆ 0.0       ┆ 1.0       │\n",
       "│ …      ┆ …          ┆ …          ┆ …         ┆ … ┆ …         ┆ …         ┆ …         ┆ …         │\n",
       "│ 15     ┆ 1          ┆ 0          ┆ 197.23300 ┆ … ┆ null      ┆ null      ┆ null      ┆ null      │\n",
       "│        ┆            ┆            ┆ 2         ┆   ┆           ┆           ┆           ┆           │\n",
       "│ 15     ┆ 1          ┆ 1          ┆ 0.0       ┆ … ┆ null      ┆ null      ┆ null      ┆ null      │\n",
       "│ 15     ┆ 1          ┆ 1          ┆ 28.403999 ┆ … ┆ null      ┆ null      ┆ null      ┆ null      │\n",
       "│ 15     ┆ 1          ┆ 3          ┆ 0.0       ┆ … ┆ null      ┆ null      ┆ null      ┆ null      │\n",
       "│ 15     ┆ 1          ┆ 3          ┆ 196.24000 ┆ … ┆ null      ┆ null      ┆ null      ┆ null      │\n",
       "│        ┆            ┆            ┆ 5         ┆   ┆           ┆           ┆           ┆           │\n",
       "└────────┴────────────┴────────────┴───────────┴───┴───────────┴───────────┴───────────┴───────────┘"
      ]
     },
     "execution_count": 32,
     "metadata": {},
     "output_type": "execute_result"
    }
   ],
   "source": [
    "final_data"
   ]
  },
  {
   "cell_type": "code",
   "execution_count": null,
   "metadata": {},
   "outputs": [
    {
     "data": {
      "text/html": [
       "<div><style>\n",
       ".dataframe > thead > tr,\n",
       ".dataframe > tbody > tr {\n",
       "  text-align: right;\n",
       "  white-space: pre-wrap;\n",
       "}\n",
       "</style>\n",
       "<small>shape: (5, 7)</small><table border=\"1\" class=\"dataframe\"><thead><tr><th>product_type</th><th>county</th><th>eic_count</th><th>installed_capacity</th><th>is_business</th><th>date</th><th>data_block_id</th></tr><tr><td>i8</td><td>i8</td><td>i16</td><td>f32</td><td>i8</td><td>str</td><td>i16</td></tr></thead><tbody><tr><td>1</td><td>0</td><td>108</td><td>952.890015</td><td>0</td><td>&quot;2021-09-01&quot;</td><td>2</td></tr><tr><td>2</td><td>0</td><td>17</td><td>166.399994</td><td>0</td><td>&quot;2021-09-01&quot;</td><td>2</td></tr><tr><td>3</td><td>0</td><td>688</td><td>7207.879883</td><td>0</td><td>&quot;2021-09-01&quot;</td><td>2</td></tr><tr><td>0</td><td>0</td><td>5</td><td>400.0</td><td>1</td><td>&quot;2021-09-01&quot;</td><td>2</td></tr><tr><td>1</td><td>0</td><td>43</td><td>1411.0</td><td>1</td><td>&quot;2021-09-01&quot;</td><td>2</td></tr></tbody></table></div>"
      ],
      "text/plain": [
       "shape: (5, 7)\n",
       "┌──────────────┬────────┬───────────┬───────────────────┬─────────────┬────────────┬───────────────┐\n",
       "│ product_type ┆ county ┆ eic_count ┆ installed_capacit ┆ is_business ┆ date       ┆ data_block_id │\n",
       "│ ---          ┆ ---    ┆ ---       ┆ y                 ┆ ---         ┆ ---        ┆ ---           │\n",
       "│ i8           ┆ i8     ┆ i16       ┆ ---               ┆ i8          ┆ str        ┆ i16           │\n",
       "│              ┆        ┆           ┆ f32               ┆             ┆            ┆               │\n",
       "╞══════════════╪════════╪═══════════╪═══════════════════╪═════════════╪════════════╪═══════════════╡\n",
       "│ 1            ┆ 0      ┆ 108       ┆ 952.890015        ┆ 0           ┆ 2021-09-01 ┆ 2             │\n",
       "│ 2            ┆ 0      ┆ 17        ┆ 166.399994        ┆ 0           ┆ 2021-09-01 ┆ 2             │\n",
       "│ 3            ┆ 0      ┆ 688       ┆ 7207.879883       ┆ 0           ┆ 2021-09-01 ┆ 2             │\n",
       "│ 0            ┆ 0      ┆ 5         ┆ 400.0             ┆ 1           ┆ 2021-09-01 ┆ 2             │\n",
       "│ 1            ┆ 0      ┆ 43        ┆ 1411.0            ┆ 1           ┆ 2021-09-01 ┆ 2             │\n",
       "└──────────────┴────────┴───────────┴───────────────────┴─────────────┴────────────┴───────────────┘"
      ]
     },
     "execution_count": 33,
     "metadata": {},
     "output_type": "execute_result"
    }
   ],
   "source": [
    "dfs[\"client\"].head()"
   ]
  },
  {
   "cell_type": "code",
   "execution_count": null,
   "metadata": {},
   "outputs": [],
   "source": [
    "# capacidad media de cada cliente por fecha"
   ]
  },
  {
   "cell_type": "code",
   "execution_count": null,
   "metadata": {},
   "outputs": [
    {
     "data": {
      "text/html": [
       "<div><style>\n",
       ".dataframe > thead > tr,\n",
       ".dataframe > tbody > tr {\n",
       "  text-align: right;\n",
       "  white-space: pre-wrap;\n",
       "}\n",
       "</style>\n",
       "<small>shape: (41_919, 5)</small><table border=\"1\" class=\"dataframe\"><thead><tr><th>date</th><th>county</th><th>product_type</th><th>is_business</th><th>installed_capacity</th></tr><tr><td>str</td><td>i8</td><td>i8</td><td>i8</td><td>f32</td></tr></thead><tbody><tr><td>&quot;2021-09-01&quot;</td><td>0</td><td>1</td><td>0</td><td>952.890015</td></tr><tr><td>&quot;2021-09-01&quot;</td><td>0</td><td>2</td><td>0</td><td>166.399994</td></tr><tr><td>&quot;2021-09-01&quot;</td><td>0</td><td>3</td><td>0</td><td>7207.879883</td></tr><tr><td>&quot;2021-09-01&quot;</td><td>0</td><td>0</td><td>1</td><td>400.0</td></tr><tr><td>&quot;2021-09-01&quot;</td><td>0</td><td>1</td><td>1</td><td>1411.0</td></tr><tr><td>&hellip;</td><td>&hellip;</td><td>&hellip;</td><td>&hellip;</td><td>&hellip;</td></tr><tr><td>&quot;2023-05-29&quot;</td><td>15</td><td>1</td><td>0</td><td>415.600006</td></tr><tr><td>&quot;2023-05-29&quot;</td><td>15</td><td>3</td><td>0</td><td>2035.75</td></tr><tr><td>&quot;2023-05-29&quot;</td><td>15</td><td>0</td><td>1</td><td>620.0</td></tr><tr><td>&quot;2023-05-29&quot;</td><td>15</td><td>1</td><td>1</td><td>624.5</td></tr><tr><td>&quot;2023-05-29&quot;</td><td>15</td><td>3</td><td>1</td><td>2188.199951</td></tr></tbody></table></div>"
      ],
      "text/plain": [
       "shape: (41_919, 5)\n",
       "┌────────────┬────────┬──────────────┬─────────────┬────────────────────┐\n",
       "│ date       ┆ county ┆ product_type ┆ is_business ┆ installed_capacity │\n",
       "│ ---        ┆ ---    ┆ ---          ┆ ---         ┆ ---                │\n",
       "│ str        ┆ i8     ┆ i8           ┆ i8          ┆ f32                │\n",
       "╞════════════╪════════╪══════════════╪═════════════╪════════════════════╡\n",
       "│ 2021-09-01 ┆ 0      ┆ 1            ┆ 0           ┆ 952.890015         │\n",
       "│ 2021-09-01 ┆ 0      ┆ 2            ┆ 0           ┆ 166.399994         │\n",
       "│ 2021-09-01 ┆ 0      ┆ 3            ┆ 0           ┆ 7207.879883        │\n",
       "│ 2021-09-01 ┆ 0      ┆ 0            ┆ 1           ┆ 400.0              │\n",
       "│ 2021-09-01 ┆ 0      ┆ 1            ┆ 1           ┆ 1411.0             │\n",
       "│ …          ┆ …      ┆ …            ┆ …           ┆ …                  │\n",
       "│ 2023-05-29 ┆ 15     ┆ 1            ┆ 0           ┆ 415.600006         │\n",
       "│ 2023-05-29 ┆ 15     ┆ 3            ┆ 0           ┆ 2035.75            │\n",
       "│ 2023-05-29 ┆ 15     ┆ 0            ┆ 1           ┆ 620.0              │\n",
       "│ 2023-05-29 ┆ 15     ┆ 1            ┆ 1           ┆ 624.5              │\n",
       "│ 2023-05-29 ┆ 15     ┆ 3            ┆ 1           ┆ 2188.199951        │\n",
       "└────────────┴────────┴──────────────┴─────────────┴────────────────────┘"
      ]
     },
     "execution_count": 35,
     "metadata": {},
     "output_type": "execute_result"
    }
   ],
   "source": [
    "dfs[\"client\"].group_by([\"date\", \"county\", \"product_type\", \"is_business\"],\n",
    "                       maintain_order = True).agg(pl.col(\"installed_capacity\").mean())"
   ]
  },
  {
   "cell_type": "code",
   "execution_count": null,
   "metadata": {},
   "outputs": [],
   "source": [
    "class DataProcessor:\n",
    "    def __init__(self):\n",
    "        self.gas_join = [\"data_block_id\"]\n",
    "        self.ep_join = [\"datetime\", \"data_block_id\"]\n",
    "        self.hw_join = [\"datetime\", \"county\", \"data_block_id\"]\n",
    "        self.client_join = [\"county\", \"is_business\", \"product_type\", \"data_block_id\"]\n",
    "\n",
    "        self.lat_lon = [\"latitude\", \"longitude\"]\n",
    "\n",
    "    def change_names(self, df, suffix, no_change):\n",
    "        renamed_df = df.rename(\n",
    "            lambda col: col + suffix if col not in no_change else col\n",
    "        )\n",
    "        return renamed_df\n",
    "\n",
    "    def get_gas_features(self, gas_df):\n",
    "        gas_df = gas_df.with_columns(\n",
    "            ((pl.col(\"lowest_price_per_mwh\") + \n",
    "              pl.col(\"highest_price_per_mwh\")) / 2).alias(\"mean_price_per_mwh\")\n",
    "        )\n",
    "\n",
    "        return self.change_names(gas_df, \"_gas\", self.gas_join)\n",
    "    \n",
    "    def get_client_features(self, client_df):\n",
    "        return self.change_names(client_df, \"_client\", self.client_join)\n",
    "    \n",
    "    def get_hist_weather_features(self, hw_df):\n",
    "        return self.change_names(hw_df, \"_hw\", self.hw_join)\n",
    "    \n",
    "    def get_forecast_weather_features(self, fw_df):\n",
    "        return None\n",
    "    \n",
    "    "
   ]
  },
  {
   "cell_type": "code",
   "execution_count": 42,
   "metadata": {},
   "outputs": [
    {
     "data": {
      "text/html": [
       "<div><style>\n",
       ".dataframe > thead > tr,\n",
       ".dataframe > tbody > tr {\n",
       "  text-align: right;\n",
       "  white-space: pre-wrap;\n",
       "}\n",
       "</style>\n",
       "<small>shape: (637, 5)</small><table border=\"1\" class=\"dataframe\"><thead><tr><th>forecast_date</th><th>lowest_price_per_mwh</th><th>highest_price_per_mwh</th><th>origin_date</th><th>data_block_id</th></tr><tr><td>str</td><td>f32</td><td>f32</td><td>str</td><td>i16</td></tr></thead><tbody><tr><td>&quot;2021-09-01&quot;</td><td>45.23</td><td>46.32</td><td>&quot;2021-08-31&quot;</td><td>1</td></tr><tr><td>&quot;2021-09-02&quot;</td><td>45.619999</td><td>46.290001</td><td>&quot;2021-09-01&quot;</td><td>2</td></tr><tr><td>&quot;2021-09-03&quot;</td><td>45.849998</td><td>46.400002</td><td>&quot;2021-09-02&quot;</td><td>3</td></tr><tr><td>&quot;2021-09-04&quot;</td><td>46.299999</td><td>46.799999</td><td>&quot;2021-09-03&quot;</td><td>4</td></tr><tr><td>&quot;2021-09-05&quot;</td><td>46.299999</td><td>46.580002</td><td>&quot;2021-09-04&quot;</td><td>5</td></tr><tr><td>&hellip;</td><td>&hellip;</td><td>&hellip;</td><td>&hellip;</td><td>&hellip;</td></tr><tr><td>&quot;2023-05-26&quot;</td><td>29.1</td><td>34.099998</td><td>&quot;2023-05-25&quot;</td><td>633</td></tr><tr><td>&quot;2023-05-27&quot;</td><td>28.299999</td><td>34.099998</td><td>&quot;2023-05-26&quot;</td><td>634</td></tr><tr><td>&quot;2023-05-28&quot;</td><td>28.1</td><td>34.099998</td><td>&quot;2023-05-27&quot;</td><td>635</td></tr><tr><td>&quot;2023-05-29&quot;</td><td>28.16</td><td>36.98</td><td>&quot;2023-05-28&quot;</td><td>636</td></tr><tr><td>&quot;2023-05-30&quot;</td><td>29.0</td><td>34.0</td><td>&quot;2023-05-29&quot;</td><td>637</td></tr></tbody></table></div>"
      ],
      "text/plain": [
       "shape: (637, 5)\n",
       "┌───────────────┬──────────────────────┬───────────────────────┬─────────────┬───────────────┐\n",
       "│ forecast_date ┆ lowest_price_per_mwh ┆ highest_price_per_mwh ┆ origin_date ┆ data_block_id │\n",
       "│ ---           ┆ ---                  ┆ ---                   ┆ ---         ┆ ---           │\n",
       "│ str           ┆ f32                  ┆ f32                   ┆ str         ┆ i16           │\n",
       "╞═══════════════╪══════════════════════╪═══════════════════════╪═════════════╪═══════════════╡\n",
       "│ 2021-09-01    ┆ 45.23                ┆ 46.32                 ┆ 2021-08-31  ┆ 1             │\n",
       "│ 2021-09-02    ┆ 45.619999            ┆ 46.290001             ┆ 2021-09-01  ┆ 2             │\n",
       "│ 2021-09-03    ┆ 45.849998            ┆ 46.400002             ┆ 2021-09-02  ┆ 3             │\n",
       "│ 2021-09-04    ┆ 46.299999            ┆ 46.799999             ┆ 2021-09-03  ┆ 4             │\n",
       "│ 2021-09-05    ┆ 46.299999            ┆ 46.580002             ┆ 2021-09-04  ┆ 5             │\n",
       "│ …             ┆ …                    ┆ …                     ┆ …           ┆ …             │\n",
       "│ 2023-05-26    ┆ 29.1                 ┆ 34.099998             ┆ 2023-05-25  ┆ 633           │\n",
       "│ 2023-05-27    ┆ 28.299999            ┆ 34.099998             ┆ 2023-05-26  ┆ 634           │\n",
       "│ 2023-05-28    ┆ 28.1                 ┆ 34.099998             ┆ 2023-05-27  ┆ 635           │\n",
       "│ 2023-05-29    ┆ 28.16                ┆ 36.98                 ┆ 2023-05-28  ┆ 636           │\n",
       "│ 2023-05-30    ┆ 29.0                 ┆ 34.0                  ┆ 2023-05-29  ┆ 637           │\n",
       "└───────────────┴──────────────────────┴───────────────────────┴─────────────┴───────────────┘"
      ]
     },
     "execution_count": 42,
     "metadata": {},
     "output_type": "execute_result"
    }
   ],
   "source": [
    "dfs[\"gas_prices\"]"
   ]
  },
  {
   "cell_type": "code",
   "execution_count": 44,
   "metadata": {},
   "outputs": [
    {
     "data": {
      "text/html": [
       "<div><style>\n",
       ".dataframe > thead > tr,\n",
       ".dataframe > tbody > tr {\n",
       "  text-align: right;\n",
       "  white-space: pre-wrap;\n",
       "}\n",
       "</style>\n",
       "<small>shape: (3, 5)</small><table border=\"1\" class=\"dataframe\"><thead><tr><th>forecast_date</th><th>lowest_price_per_mwh</th><th>highest_price_per_mwh</th><th>origin_date</th><th>data_block_id</th></tr><tr><td>str</td><td>f32</td><td>f32</td><td>str</td><td>i16</td></tr></thead><tbody><tr><td>&quot;2021-09-01&quot;</td><td>45.23</td><td>46.32</td><td>&quot;2021-08-31&quot;</td><td>1</td></tr><tr><td>&quot;2021-09-02&quot;</td><td>45.619999</td><td>46.290001</td><td>&quot;2021-09-01&quot;</td><td>2</td></tr><tr><td>&quot;2021-09-03&quot;</td><td>45.849998</td><td>46.400002</td><td>&quot;2021-09-02&quot;</td><td>3</td></tr></tbody></table></div>"
      ],
      "text/plain": [
       "shape: (3, 5)\n",
       "┌───────────────┬──────────────────────┬───────────────────────┬─────────────┬───────────────┐\n",
       "│ forecast_date ┆ lowest_price_per_mwh ┆ highest_price_per_mwh ┆ origin_date ┆ data_block_id │\n",
       "│ ---           ┆ ---                  ┆ ---                   ┆ ---         ┆ ---           │\n",
       "│ str           ┆ f32                  ┆ f32                   ┆ str         ┆ i16           │\n",
       "╞═══════════════╪══════════════════════╪═══════════════════════╪═════════════╪═══════════════╡\n",
       "│ 2021-09-01    ┆ 45.23                ┆ 46.32                 ┆ 2021-08-31  ┆ 1             │\n",
       "│ 2021-09-02    ┆ 45.619999            ┆ 46.290001             ┆ 2021-09-01  ┆ 2             │\n",
       "│ 2021-09-03    ┆ 45.849998            ┆ 46.400002             ┆ 2021-09-02  ┆ 3             │\n",
       "└───────────────┴──────────────────────┴───────────────────────┴─────────────┴───────────────┘"
      ]
     },
     "execution_count": 44,
     "metadata": {},
     "output_type": "execute_result"
    }
   ],
   "source": [
    "dfs[\"gas_prices\"].head(3)"
   ]
  },
  {
   "cell_type": "code",
   "execution_count": 45,
   "metadata": {},
   "outputs": [
    {
     "data": {
      "text/html": [
       "<div><style>\n",
       ".dataframe > thead > tr,\n",
       ".dataframe > tbody > tr {\n",
       "  text-align: right;\n",
       "  white-space: pre-wrap;\n",
       "}\n",
       "</style>\n",
       "<small>shape: (637, 6)</small><table border=\"1\" class=\"dataframe\"><thead><tr><th>forecast_date</th><th>lowest_price_per_mwh</th><th>highest_price_per_mwh</th><th>origin_date</th><th>data_block_id</th><th>mean_price_per_mwh</th></tr><tr><td>str</td><td>f32</td><td>f32</td><td>str</td><td>i16</td><td>f32</td></tr></thead><tbody><tr><td>&quot;2021-09-01&quot;</td><td>45.23</td><td>46.32</td><td>&quot;2021-08-31&quot;</td><td>1</td><td>45.775002</td></tr><tr><td>&quot;2021-09-02&quot;</td><td>45.619999</td><td>46.290001</td><td>&quot;2021-09-01&quot;</td><td>2</td><td>45.955002</td></tr><tr><td>&quot;2021-09-03&quot;</td><td>45.849998</td><td>46.400002</td><td>&quot;2021-09-02&quot;</td><td>3</td><td>46.125</td></tr><tr><td>&quot;2021-09-04&quot;</td><td>46.299999</td><td>46.799999</td><td>&quot;2021-09-03&quot;</td><td>4</td><td>46.549999</td></tr><tr><td>&quot;2021-09-05&quot;</td><td>46.299999</td><td>46.580002</td><td>&quot;2021-09-04&quot;</td><td>5</td><td>46.440002</td></tr><tr><td>&hellip;</td><td>&hellip;</td><td>&hellip;</td><td>&hellip;</td><td>&hellip;</td><td>&hellip;</td></tr><tr><td>&quot;2023-05-26&quot;</td><td>29.1</td><td>34.099998</td><td>&quot;2023-05-25&quot;</td><td>633</td><td>31.599998</td></tr><tr><td>&quot;2023-05-27&quot;</td><td>28.299999</td><td>34.099998</td><td>&quot;2023-05-26&quot;</td><td>634</td><td>31.199999</td></tr><tr><td>&quot;2023-05-28&quot;</td><td>28.1</td><td>34.099998</td><td>&quot;2023-05-27&quot;</td><td>635</td><td>31.099998</td></tr><tr><td>&quot;2023-05-29&quot;</td><td>28.16</td><td>36.98</td><td>&quot;2023-05-28&quot;</td><td>636</td><td>32.57</td></tr><tr><td>&quot;2023-05-30&quot;</td><td>29.0</td><td>34.0</td><td>&quot;2023-05-29&quot;</td><td>637</td><td>31.5</td></tr></tbody></table></div>"
      ],
      "text/plain": [
       "shape: (637, 6)\n",
       "┌───────────────┬─────────────────┬─────────────────┬─────────────┬───────────────┬────────────────┐\n",
       "│ forecast_date ┆ lowest_price_pe ┆ highest_price_p ┆ origin_date ┆ data_block_id ┆ mean_price_per │\n",
       "│ ---           ┆ r_mwh           ┆ er_mwh          ┆ ---         ┆ ---           ┆ _mwh           │\n",
       "│ str           ┆ ---             ┆ ---             ┆ str         ┆ i16           ┆ ---            │\n",
       "│               ┆ f32             ┆ f32             ┆             ┆               ┆ f32            │\n",
       "╞═══════════════╪═════════════════╪═════════════════╪═════════════╪═══════════════╪════════════════╡\n",
       "│ 2021-09-01    ┆ 45.23           ┆ 46.32           ┆ 2021-08-31  ┆ 1             ┆ 45.775002      │\n",
       "│ 2021-09-02    ┆ 45.619999       ┆ 46.290001       ┆ 2021-09-01  ┆ 2             ┆ 45.955002      │\n",
       "│ 2021-09-03    ┆ 45.849998       ┆ 46.400002       ┆ 2021-09-02  ┆ 3             ┆ 46.125         │\n",
       "│ 2021-09-04    ┆ 46.299999       ┆ 46.799999       ┆ 2021-09-03  ┆ 4             ┆ 46.549999      │\n",
       "│ 2021-09-05    ┆ 46.299999       ┆ 46.580002       ┆ 2021-09-04  ┆ 5             ┆ 46.440002      │\n",
       "│ …             ┆ …               ┆ …               ┆ …           ┆ …             ┆ …              │\n",
       "│ 2023-05-26    ┆ 29.1            ┆ 34.099998       ┆ 2023-05-25  ┆ 633           ┆ 31.599998      │\n",
       "│ 2023-05-27    ┆ 28.299999       ┆ 34.099998       ┆ 2023-05-26  ┆ 634           ┆ 31.199999      │\n",
       "│ 2023-05-28    ┆ 28.1            ┆ 34.099998       ┆ 2023-05-27  ┆ 635           ┆ 31.099998      │\n",
       "│ 2023-05-29    ┆ 28.16           ┆ 36.98           ┆ 2023-05-28  ┆ 636           ┆ 32.57          │\n",
       "│ 2023-05-30    ┆ 29.0            ┆ 34.0            ┆ 2023-05-29  ┆ 637           ┆ 31.5           │\n",
       "└───────────────┴─────────────────┴─────────────────┴─────────────┴───────────────┴────────────────┘"
      ]
     },
     "execution_count": 45,
     "metadata": {},
     "output_type": "execute_result"
    }
   ],
   "source": [
    "dfs[\"gas_prices\"].with_columns(\n",
    "    ((pl.col(\"lowest_price_per_mwh\") + \n",
    "    pl.col(\"highest_price_per_mwh\")) / 2).alias(\"mean_price_per_mwh\")\n",
    ")"
   ]
  }
 ],
 "metadata": {
  "kernelspec": {
   "display_name": ".venv",
   "language": "python",
   "name": "python3"
  },
  "language_info": {
   "codemirror_mode": {
    "name": "ipython",
    "version": 3
   },
   "file_extension": ".py",
   "mimetype": "text/x-python",
   "name": "python",
   "nbconvert_exporter": "python",
   "pygments_lexer": "ipython3",
   "version": "3.12.3"
  }
 },
 "nbformat": 4,
 "nbformat_minor": 2
}
