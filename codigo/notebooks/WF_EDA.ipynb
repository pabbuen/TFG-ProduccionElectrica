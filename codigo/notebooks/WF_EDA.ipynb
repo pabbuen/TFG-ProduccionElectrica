{
 "cells": [
  {
   "cell_type": "code",
   "execution_count": 1,
   "id": "56cf234d",
   "metadata": {},
   "outputs": [],
   "source": [
    "import pandas as pd\n",
    "from pathlib import Path\n",
    "from IPython.display import display, Markdown"
   ]
  },
  {
   "cell_type": "code",
   "execution_count": 2,
   "id": "4ccbcc17",
   "metadata": {},
   "outputs": [],
   "source": [
    "def transform_data(df: pd.DataFrame):\n",
    "    df_copy = df.copy()\n",
    "\n",
    "    df_copy['user'] = df_copy['user'].astype('string')\n",
    "\n",
    "    df_copy['start_date'] = pd.to_datetime(\n",
    "        df_copy['start_date'],\n",
    "        format=\"%Y-%m-%dT%H:%M:%SZ\"\n",
    "    )\n",
    "\n",
    "    df_copy['end_date'] = pd.to_datetime(\n",
    "        df_copy['end_date'],\n",
    "        format=\"%Y-%m-%dT%H:%M:%SZ\"\n",
    "    )\n",
    "    \n",
    "    df_copy['contract_start_date'] = pd.to_datetime(\n",
    "        df_copy['end_date']\n",
    "    )\n",
    "\n",
    "    df_copy['contract_end_date'] = pd.to_datetime(\n",
    "        df_copy['end_date']\n",
    "    )\n",
    "\n",
    "    df_copy['contracted_tariff'] = df_copy['contracted_tariff'].astype('category')\n",
    "    df_copy['municipality'] = df_copy['municipality'].astype('category')\n",
    "    df_copy['province'] = df_copy['province'].astype('category')\n",
    "\n",
    "    return df_copy"
   ]
  },
  {
   "cell_type": "code",
   "execution_count": 3,
   "id": "41fd16f5",
   "metadata": {},
   "outputs": [],
   "source": [
    "def describe_data(df: pd.DataFrame):\n",
    "    columns = df.columns\n",
    "    stats = df.describe()\n",
    "    display(stats)\n",
    "    \n",
    "    display(Markdown(\"### **Data description**\"))\n",
    "    for col in columns:\n",
    "        col_name = col\n",
    "        dtype = df[col].dtype\n",
    "        display(Markdown(f\"{col_name}:    {dtype}\"))\n",
    "\n",
    "    return None"
   ]
  },
  {
   "cell_type": "code",
   "execution_count": 4,
   "id": "8123a141",
   "metadata": {},
   "outputs": [],
   "source": [
    "metadata_path = Path(\"Data/smartmetersdata/7362094/metadata.csv\").resolve()"
   ]
  },
  {
   "cell_type": "code",
   "execution_count": 5,
   "id": "c3126bb3",
   "metadata": {},
   "outputs": [],
   "source": [
    "metadata = pd.read_csv(metadata_path, parse_dates=True)\n",
    "\n",
    "metadata = transform_data(metadata)\n",
    "\n",
    "\n",
    "metadata['user'] = metadata['user'].astype('string')"
   ]
  },
  {
   "cell_type": "code",
   "execution_count": 6,
   "id": "6cb3c810",
   "metadata": {},
   "outputs": [
    {
     "data": {
      "text/markdown": [
       "## **metadata.csv**"
      ],
      "text/plain": [
       "<IPython.core.display.Markdown object>"
      ]
     },
     "metadata": {},
     "output_type": "display_data"
    },
    {
     "data": {
      "text/html": [
       "<div>\n",
       "<style scoped>\n",
       "    .dataframe tbody tr th:only-of-type {\n",
       "        vertical-align: middle;\n",
       "    }\n",
       "\n",
       "    .dataframe tbody tr th {\n",
       "        vertical-align: top;\n",
       "    }\n",
       "\n",
       "    .dataframe thead th {\n",
       "        text-align: right;\n",
       "    }\n",
       "</style>\n",
       "<table border=\"1\" class=\"dataframe\">\n",
       "  <thead>\n",
       "    <tr style=\"text-align: right;\">\n",
       "      <th></th>\n",
       "      <th>user</th>\n",
       "      <th>start_date</th>\n",
       "      <th>end_date</th>\n",
       "      <th>length_days</th>\n",
       "      <th>length_years</th>\n",
       "      <th>potential_samples</th>\n",
       "      <th>actual_samples</th>\n",
       "      <th>missing_samples_abs</th>\n",
       "      <th>missing_samples_pct</th>\n",
       "      <th>contract_start_date</th>\n",
       "      <th>...</th>\n",
       "      <th>p1</th>\n",
       "      <th>p2</th>\n",
       "      <th>p3</th>\n",
       "      <th>p4</th>\n",
       "      <th>p5</th>\n",
       "      <th>p6</th>\n",
       "      <th>province</th>\n",
       "      <th>municipality</th>\n",
       "      <th>zip_code</th>\n",
       "      <th>cnae</th>\n",
       "    </tr>\n",
       "  </thead>\n",
       "  <tbody>\n",
       "    <tr>\n",
       "      <th>0</th>\n",
       "      <td>00000c5a448d9faa097b761cc98036d45a4e7d36032903...</td>\n",
       "      <td>2022-05-30 01:00:00</td>\n",
       "      <td>2022-06-05</td>\n",
       "      <td>6.0</td>\n",
       "      <td>0.016427</td>\n",
       "      <td>144</td>\n",
       "      <td>144</td>\n",
       "      <td>0</td>\n",
       "      <td>0.000000</td>\n",
       "      <td>2022-06-05</td>\n",
       "      <td>...</td>\n",
       "      <td>2.20</td>\n",
       "      <td>2.20</td>\n",
       "      <td>0.0</td>\n",
       "      <td>0.0</td>\n",
       "      <td>0.0</td>\n",
       "      <td>0.0</td>\n",
       "      <td>Gipuzkoa</td>\n",
       "      <td>NaN</td>\n",
       "      <td>NaN</td>\n",
       "      <td>9329.0</td>\n",
       "    </tr>\n",
       "    <tr>\n",
       "      <th>1</th>\n",
       "      <td>0001b3b2f18c01c62ed9b2a87de7b4e33e7836f786f790...</td>\n",
       "      <td>2017-05-31 01:00:00</td>\n",
       "      <td>2022-06-05</td>\n",
       "      <td>1831.0</td>\n",
       "      <td>5.013005</td>\n",
       "      <td>43944</td>\n",
       "      <td>43863</td>\n",
       "      <td>81</td>\n",
       "      <td>0.184326</td>\n",
       "      <td>2022-06-05</td>\n",
       "      <td>...</td>\n",
       "      <td>3.45</td>\n",
       "      <td>3.45</td>\n",
       "      <td>NaN</td>\n",
       "      <td>NaN</td>\n",
       "      <td>NaN</td>\n",
       "      <td>NaN</td>\n",
       "      <td>Bizkaia</td>\n",
       "      <td>NaN</td>\n",
       "      <td>NaN</td>\n",
       "      <td>9820.0</td>\n",
       "    </tr>\n",
       "    <tr>\n",
       "      <th>2</th>\n",
       "      <td>0003de2700e20a1681d69fe287441d9041407a7698d5c8...</td>\n",
       "      <td>2017-05-31 01:00:00</td>\n",
       "      <td>2019-11-14</td>\n",
       "      <td>897.0</td>\n",
       "      <td>2.455852</td>\n",
       "      <td>21528</td>\n",
       "      <td>21476</td>\n",
       "      <td>52</td>\n",
       "      <td>0.241546</td>\n",
       "      <td>2019-11-14</td>\n",
       "      <td>...</td>\n",
       "      <td>4.60</td>\n",
       "      <td>NaN</td>\n",
       "      <td>NaN</td>\n",
       "      <td>NaN</td>\n",
       "      <td>NaN</td>\n",
       "      <td>NaN</td>\n",
       "      <td>Gipuzkoa</td>\n",
       "      <td>Donostia/San Sebastian</td>\n",
       "      <td>20013.0</td>\n",
       "      <td>9820.0</td>\n",
       "    </tr>\n",
       "  </tbody>\n",
       "</table>\n",
       "<p>3 rows × 23 columns</p>\n",
       "</div>"
      ],
      "text/plain": [
       "                                                user          start_date  \\\n",
       "0  00000c5a448d9faa097b761cc98036d45a4e7d36032903... 2022-05-30 01:00:00   \n",
       "1  0001b3b2f18c01c62ed9b2a87de7b4e33e7836f786f790... 2017-05-31 01:00:00   \n",
       "2  0003de2700e20a1681d69fe287441d9041407a7698d5c8... 2017-05-31 01:00:00   \n",
       "\n",
       "    end_date  length_days  length_years  potential_samples  actual_samples  \\\n",
       "0 2022-06-05          6.0      0.016427                144             144   \n",
       "1 2022-06-05       1831.0      5.013005              43944           43863   \n",
       "2 2019-11-14        897.0      2.455852              21528           21476   \n",
       "\n",
       "   missing_samples_abs  missing_samples_pct contract_start_date  ...    p1  \\\n",
       "0                    0             0.000000          2022-06-05  ...  2.20   \n",
       "1                   81             0.184326          2022-06-05  ...  3.45   \n",
       "2                   52             0.241546          2019-11-14  ...  4.60   \n",
       "\n",
       "     p2   p3   p4   p5   p6  province            municipality  zip_code  \\\n",
       "0  2.20  0.0  0.0  0.0  0.0  Gipuzkoa                     NaN       NaN   \n",
       "1  3.45  NaN  NaN  NaN  NaN   Bizkaia                     NaN       NaN   \n",
       "2   NaN  NaN  NaN  NaN  NaN  Gipuzkoa  Donostia/San Sebastian   20013.0   \n",
       "\n",
       "     cnae  \n",
       "0  9329.0  \n",
       "1  9820.0  \n",
       "2  9820.0  \n",
       "\n",
       "[3 rows x 23 columns]"
      ]
     },
     "metadata": {},
     "output_type": "display_data"
    },
    {
     "data": {
      "text/markdown": [
       "shape: (25559, 23)"
      ],
      "text/plain": [
       "<IPython.core.display.Markdown object>"
      ]
     },
     "metadata": {},
     "output_type": "display_data"
    },
    {
     "data": {
      "text/html": [
       "<div>\n",
       "<style scoped>\n",
       "    .dataframe tbody tr th:only-of-type {\n",
       "        vertical-align: middle;\n",
       "    }\n",
       "\n",
       "    .dataframe tbody tr th {\n",
       "        vertical-align: top;\n",
       "    }\n",
       "\n",
       "    .dataframe thead th {\n",
       "        text-align: right;\n",
       "    }\n",
       "</style>\n",
       "<table border=\"1\" class=\"dataframe\">\n",
       "  <thead>\n",
       "    <tr style=\"text-align: right;\">\n",
       "      <th></th>\n",
       "      <th>user</th>\n",
       "      <th>start_date</th>\n",
       "      <th>end_date</th>\n",
       "      <th>length_days</th>\n",
       "      <th>length_years</th>\n",
       "      <th>potential_samples</th>\n",
       "      <th>actual_samples</th>\n",
       "      <th>missing_samples_abs</th>\n",
       "      <th>missing_samples_pct</th>\n",
       "      <th>contract_start_date</th>\n",
       "      <th>...</th>\n",
       "      <th>p1</th>\n",
       "      <th>p2</th>\n",
       "      <th>p3</th>\n",
       "      <th>p4</th>\n",
       "      <th>p5</th>\n",
       "      <th>p6</th>\n",
       "      <th>province</th>\n",
       "      <th>municipality</th>\n",
       "      <th>zip_code</th>\n",
       "      <th>cnae</th>\n",
       "    </tr>\n",
       "  </thead>\n",
       "  <tbody>\n",
       "    <tr>\n",
       "      <th>count</th>\n",
       "      <td>25559</td>\n",
       "      <td>25559</td>\n",
       "      <td>25559</td>\n",
       "      <td>25559.000000</td>\n",
       "      <td>25559.000000</td>\n",
       "      <td>25559.000000</td>\n",
       "      <td>25559.000000</td>\n",
       "      <td>25559.000000</td>\n",
       "      <td>25559.000000</td>\n",
       "      <td>25559</td>\n",
       "      <td>...</td>\n",
       "      <td>25371.000000</td>\n",
       "      <td>24078.000000</td>\n",
       "      <td>3596.000000</td>\n",
       "      <td>3284.000000</td>\n",
       "      <td>3286.000000</td>\n",
       "      <td>3286.000000</td>\n",
       "      <td>25371</td>\n",
       "      <td>9215</td>\n",
       "      <td>9215.000000</td>\n",
       "      <td>25340.000000</td>\n",
       "    </tr>\n",
       "    <tr>\n",
       "      <th>unique</th>\n",
       "      <td>25559</td>\n",
       "      <td>NaN</td>\n",
       "      <td>NaN</td>\n",
       "      <td>NaN</td>\n",
       "      <td>NaN</td>\n",
       "      <td>NaN</td>\n",
       "      <td>NaN</td>\n",
       "      <td>NaN</td>\n",
       "      <td>NaN</td>\n",
       "      <td>NaN</td>\n",
       "      <td>...</td>\n",
       "      <td>NaN</td>\n",
       "      <td>NaN</td>\n",
       "      <td>NaN</td>\n",
       "      <td>NaN</td>\n",
       "      <td>NaN</td>\n",
       "      <td>NaN</td>\n",
       "      <td>47</td>\n",
       "      <td>102</td>\n",
       "      <td>NaN</td>\n",
       "      <td>NaN</td>\n",
       "    </tr>\n",
       "    <tr>\n",
       "      <th>top</th>\n",
       "      <td>00489151865c9806ea977413603cc72b8bc27ff57350e8...</td>\n",
       "      <td>NaN</td>\n",
       "      <td>NaN</td>\n",
       "      <td>NaN</td>\n",
       "      <td>NaN</td>\n",
       "      <td>NaN</td>\n",
       "      <td>NaN</td>\n",
       "      <td>NaN</td>\n",
       "      <td>NaN</td>\n",
       "      <td>NaN</td>\n",
       "      <td>...</td>\n",
       "      <td>NaN</td>\n",
       "      <td>NaN</td>\n",
       "      <td>NaN</td>\n",
       "      <td>NaN</td>\n",
       "      <td>NaN</td>\n",
       "      <td>NaN</td>\n",
       "      <td>Gipuzkoa</td>\n",
       "      <td>Bilbao</td>\n",
       "      <td>NaN</td>\n",
       "      <td>NaN</td>\n",
       "    </tr>\n",
       "    <tr>\n",
       "      <th>freq</th>\n",
       "      <td>1</td>\n",
       "      <td>NaN</td>\n",
       "      <td>NaN</td>\n",
       "      <td>NaN</td>\n",
       "      <td>NaN</td>\n",
       "      <td>NaN</td>\n",
       "      <td>NaN</td>\n",
       "      <td>NaN</td>\n",
       "      <td>NaN</td>\n",
       "      <td>NaN</td>\n",
       "      <td>...</td>\n",
       "      <td>NaN</td>\n",
       "      <td>NaN</td>\n",
       "      <td>NaN</td>\n",
       "      <td>NaN</td>\n",
       "      <td>NaN</td>\n",
       "      <td>NaN</td>\n",
       "      <td>9291</td>\n",
       "      <td>2067</td>\n",
       "      <td>NaN</td>\n",
       "      <td>NaN</td>\n",
       "    </tr>\n",
       "    <tr>\n",
       "      <th>mean</th>\n",
       "      <td>NaN</td>\n",
       "      <td>2019-05-17 15:46:11.939433984</td>\n",
       "      <td>2022-03-22 01:22:22.024335616</td>\n",
       "      <td>1039.441764</td>\n",
       "      <td>2.845836</td>\n",
       "      <td>24946.602332</td>\n",
       "      <td>24736.542392</td>\n",
       "      <td>210.059940</td>\n",
       "      <td>0.673996</td>\n",
       "      <td>2022-03-22 01:22:22.024335616</td>\n",
       "      <td>...</td>\n",
       "      <td>4.850001</td>\n",
       "      <td>5.013765</td>\n",
       "      <td>8.039664</td>\n",
       "      <td>8.214998</td>\n",
       "      <td>8.209998</td>\n",
       "      <td>11.208181</td>\n",
       "      <td>NaN</td>\n",
       "      <td>NaN</td>\n",
       "      <td>26451.625285</td>\n",
       "      <td>9207.880979</td>\n",
       "    </tr>\n",
       "    <tr>\n",
       "      <th>min</th>\n",
       "      <td>NaN</td>\n",
       "      <td>2014-11-02 01:00:00</td>\n",
       "      <td>2015-11-02 00:00:00</td>\n",
       "      <td>1.000000</td>\n",
       "      <td>0.002738</td>\n",
       "      <td>24.000000</td>\n",
       "      <td>24.000000</td>\n",
       "      <td>0.000000</td>\n",
       "      <td>0.000000</td>\n",
       "      <td>2015-11-02 00:00:00</td>\n",
       "      <td>...</td>\n",
       "      <td>0.100000</td>\n",
       "      <td>0.000000</td>\n",
       "      <td>0.000000</td>\n",
       "      <td>0.000000</td>\n",
       "      <td>0.000000</td>\n",
       "      <td>0.000000</td>\n",
       "      <td>NaN</td>\n",
       "      <td>NaN</td>\n",
       "      <td>1001.000000</td>\n",
       "      <td>0.000000</td>\n",
       "    </tr>\n",
       "    <tr>\n",
       "      <th>25%</th>\n",
       "      <td>NaN</td>\n",
       "      <td>2017-07-06 01:00:00</td>\n",
       "      <td>2022-06-04 00:00:00</td>\n",
       "      <td>461.000000</td>\n",
       "      <td>1.262149</td>\n",
       "      <td>11064.000000</td>\n",
       "      <td>10989.000000</td>\n",
       "      <td>3.000000</td>\n",
       "      <td>0.021433</td>\n",
       "      <td>2022-06-04 00:00:00</td>\n",
       "      <td>...</td>\n",
       "      <td>3.300000</td>\n",
       "      <td>3.300000</td>\n",
       "      <td>0.000000</td>\n",
       "      <td>0.000000</td>\n",
       "      <td>0.000000</td>\n",
       "      <td>0.000000</td>\n",
       "      <td>NaN</td>\n",
       "      <td>NaN</td>\n",
       "      <td>20003.000000</td>\n",
       "      <td>9820.000000</td>\n",
       "    </tr>\n",
       "    <tr>\n",
       "      <th>50%</th>\n",
       "      <td>NaN</td>\n",
       "      <td>2019-03-12 01:00:00</td>\n",
       "      <td>2022-06-05 00:00:00</td>\n",
       "      <td>1017.000000</td>\n",
       "      <td>2.784394</td>\n",
       "      <td>24408.000000</td>\n",
       "      <td>24163.000000</td>\n",
       "      <td>6.000000</td>\n",
       "      <td>0.024539</td>\n",
       "      <td>2022-06-05 00:00:00</td>\n",
       "      <td>...</td>\n",
       "      <td>3.450000</td>\n",
       "      <td>3.450000</td>\n",
       "      <td>0.000000</td>\n",
       "      <td>0.000000</td>\n",
       "      <td>0.000000</td>\n",
       "      <td>0.000000</td>\n",
       "      <td>NaN</td>\n",
       "      <td>NaN</td>\n",
       "      <td>28010.000000</td>\n",
       "      <td>9820.000000</td>\n",
       "    </tr>\n",
       "    <tr>\n",
       "      <th>75%</th>\n",
       "      <td>NaN</td>\n",
       "      <td>2020-12-17 01:00:00</td>\n",
       "      <td>2022-06-05 00:00:00</td>\n",
       "      <td>1685.000000</td>\n",
       "      <td>4.613279</td>\n",
       "      <td>40440.000000</td>\n",
       "      <td>40217.000000</td>\n",
       "      <td>33.000000</td>\n",
       "      <td>0.122884</td>\n",
       "      <td>2022-06-05 00:00:00</td>\n",
       "      <td>...</td>\n",
       "      <td>4.600000</td>\n",
       "      <td>4.600000</td>\n",
       "      <td>11.000000</td>\n",
       "      <td>12.000000</td>\n",
       "      <td>12.000000</td>\n",
       "      <td>15.001000</td>\n",
       "      <td>NaN</td>\n",
       "      <td>NaN</td>\n",
       "      <td>48003.000000</td>\n",
       "      <td>9820.000000</td>\n",
       "    </tr>\n",
       "    <tr>\n",
       "      <th>max</th>\n",
       "      <td>NaN</td>\n",
       "      <td>2022-06-04 01:00:00</td>\n",
       "      <td>2022-06-08 00:00:00</td>\n",
       "      <td>2584.125000</td>\n",
       "      <td>7.074949</td>\n",
       "      <td>62019.000000</td>\n",
       "      <td>62012.000000</td>\n",
       "      <td>38431.000000</td>\n",
       "      <td>99.598326</td>\n",
       "      <td>2022-06-08 00:00:00</td>\n",
       "      <td>...</td>\n",
       "      <td>550.000000</td>\n",
       "      <td>550.000000</td>\n",
       "      <td>550.000000</td>\n",
       "      <td>550.000000</td>\n",
       "      <td>550.000000</td>\n",
       "      <td>800.000000</td>\n",
       "      <td>NaN</td>\n",
       "      <td>NaN</td>\n",
       "      <td>50617.000000</td>\n",
       "      <td>9949.000000</td>\n",
       "    </tr>\n",
       "    <tr>\n",
       "      <th>std</th>\n",
       "      <td>NaN</td>\n",
       "      <td>NaN</td>\n",
       "      <td>NaN</td>\n",
       "      <td>622.855142</td>\n",
       "      <td>1.705284</td>\n",
       "      <td>14948.523415</td>\n",
       "      <td>14890.494660</td>\n",
       "      <td>1871.215495</td>\n",
       "      <td>5.437353</td>\n",
       "      <td>NaN</td>\n",
       "      <td>...</td>\n",
       "      <td>8.058459</td>\n",
       "      <td>9.041275</td>\n",
       "      <td>23.144941</td>\n",
       "      <td>23.591731</td>\n",
       "      <td>23.585419</td>\n",
       "      <td>38.989945</td>\n",
       "      <td>NaN</td>\n",
       "      <td>NaN</td>\n",
       "      <td>16959.038260</td>\n",
       "      <td>1632.046788</td>\n",
       "    </tr>\n",
       "  </tbody>\n",
       "</table>\n",
       "<p>11 rows × 23 columns</p>\n",
       "</div>"
      ],
      "text/plain": [
       "                                                     user  \\\n",
       "count                                               25559   \n",
       "unique                                              25559   \n",
       "top     00489151865c9806ea977413603cc72b8bc27ff57350e8...   \n",
       "freq                                                    1   \n",
       "mean                                                  NaN   \n",
       "min                                                   NaN   \n",
       "25%                                                   NaN   \n",
       "50%                                                   NaN   \n",
       "75%                                                   NaN   \n",
       "max                                                   NaN   \n",
       "std                                                   NaN   \n",
       "\n",
       "                           start_date                       end_date  \\\n",
       "count                           25559                          25559   \n",
       "unique                            NaN                            NaN   \n",
       "top                               NaN                            NaN   \n",
       "freq                              NaN                            NaN   \n",
       "mean    2019-05-17 15:46:11.939433984  2022-03-22 01:22:22.024335616   \n",
       "min               2014-11-02 01:00:00            2015-11-02 00:00:00   \n",
       "25%               2017-07-06 01:00:00            2022-06-04 00:00:00   \n",
       "50%               2019-03-12 01:00:00            2022-06-05 00:00:00   \n",
       "75%               2020-12-17 01:00:00            2022-06-05 00:00:00   \n",
       "max               2022-06-04 01:00:00            2022-06-08 00:00:00   \n",
       "std                               NaN                            NaN   \n",
       "\n",
       "         length_days  length_years  potential_samples  actual_samples  \\\n",
       "count   25559.000000  25559.000000       25559.000000    25559.000000   \n",
       "unique           NaN           NaN                NaN             NaN   \n",
       "top              NaN           NaN                NaN             NaN   \n",
       "freq             NaN           NaN                NaN             NaN   \n",
       "mean     1039.441764      2.845836       24946.602332    24736.542392   \n",
       "min         1.000000      0.002738          24.000000       24.000000   \n",
       "25%       461.000000      1.262149       11064.000000    10989.000000   \n",
       "50%      1017.000000      2.784394       24408.000000    24163.000000   \n",
       "75%      1685.000000      4.613279       40440.000000    40217.000000   \n",
       "max      2584.125000      7.074949       62019.000000    62012.000000   \n",
       "std       622.855142      1.705284       14948.523415    14890.494660   \n",
       "\n",
       "        missing_samples_abs  missing_samples_pct  \\\n",
       "count          25559.000000         25559.000000   \n",
       "unique                  NaN                  NaN   \n",
       "top                     NaN                  NaN   \n",
       "freq                    NaN                  NaN   \n",
       "mean             210.059940             0.673996   \n",
       "min                0.000000             0.000000   \n",
       "25%                3.000000             0.021433   \n",
       "50%                6.000000             0.024539   \n",
       "75%               33.000000             0.122884   \n",
       "max            38431.000000            99.598326   \n",
       "std             1871.215495             5.437353   \n",
       "\n",
       "                  contract_start_date  ...            p1            p2  \\\n",
       "count                           25559  ...  25371.000000  24078.000000   \n",
       "unique                            NaN  ...           NaN           NaN   \n",
       "top                               NaN  ...           NaN           NaN   \n",
       "freq                              NaN  ...           NaN           NaN   \n",
       "mean    2022-03-22 01:22:22.024335616  ...      4.850001      5.013765   \n",
       "min               2015-11-02 00:00:00  ...      0.100000      0.000000   \n",
       "25%               2022-06-04 00:00:00  ...      3.300000      3.300000   \n",
       "50%               2022-06-05 00:00:00  ...      3.450000      3.450000   \n",
       "75%               2022-06-05 00:00:00  ...      4.600000      4.600000   \n",
       "max               2022-06-08 00:00:00  ...    550.000000    550.000000   \n",
       "std                               NaN  ...      8.058459      9.041275   \n",
       "\n",
       "                 p3           p4           p5           p6  province  \\\n",
       "count   3596.000000  3284.000000  3286.000000  3286.000000     25371   \n",
       "unique          NaN          NaN          NaN          NaN        47   \n",
       "top             NaN          NaN          NaN          NaN  Gipuzkoa   \n",
       "freq            NaN          NaN          NaN          NaN      9291   \n",
       "mean       8.039664     8.214998     8.209998    11.208181       NaN   \n",
       "min        0.000000     0.000000     0.000000     0.000000       NaN   \n",
       "25%        0.000000     0.000000     0.000000     0.000000       NaN   \n",
       "50%        0.000000     0.000000     0.000000     0.000000       NaN   \n",
       "75%       11.000000    12.000000    12.000000    15.001000       NaN   \n",
       "max      550.000000   550.000000   550.000000   800.000000       NaN   \n",
       "std       23.144941    23.591731    23.585419    38.989945       NaN   \n",
       "\n",
       "        municipality      zip_code          cnae  \n",
       "count           9215   9215.000000  25340.000000  \n",
       "unique           102           NaN           NaN  \n",
       "top           Bilbao           NaN           NaN  \n",
       "freq            2067           NaN           NaN  \n",
       "mean             NaN  26451.625285   9207.880979  \n",
       "min              NaN   1001.000000      0.000000  \n",
       "25%              NaN  20003.000000   9820.000000  \n",
       "50%              NaN  28010.000000   9820.000000  \n",
       "75%              NaN  48003.000000   9820.000000  \n",
       "max              NaN  50617.000000   9949.000000  \n",
       "std              NaN  16959.038260   1632.046788  \n",
       "\n",
       "[11 rows x 23 columns]"
      ]
     },
     "metadata": {},
     "output_type": "display_data"
    },
    {
     "data": {
      "text/html": [
       "<div>\n",
       "<style scoped>\n",
       "    .dataframe tbody tr th:only-of-type {\n",
       "        vertical-align: middle;\n",
       "    }\n",
       "\n",
       "    .dataframe tbody tr th {\n",
       "        vertical-align: top;\n",
       "    }\n",
       "\n",
       "    .dataframe thead th {\n",
       "        text-align: right;\n",
       "    }\n",
       "</style>\n",
       "<table border=\"1\" class=\"dataframe\">\n",
       "  <thead>\n",
       "    <tr style=\"text-align: right;\">\n",
       "      <th></th>\n",
       "      <th>start_date</th>\n",
       "      <th>end_date</th>\n",
       "      <th>length_days</th>\n",
       "      <th>length_years</th>\n",
       "      <th>potential_samples</th>\n",
       "      <th>actual_samples</th>\n",
       "      <th>missing_samples_abs</th>\n",
       "      <th>missing_samples_pct</th>\n",
       "      <th>contract_start_date</th>\n",
       "      <th>contract_end_date</th>\n",
       "      <th>p1</th>\n",
       "      <th>p2</th>\n",
       "      <th>p3</th>\n",
       "      <th>p4</th>\n",
       "      <th>p5</th>\n",
       "      <th>p6</th>\n",
       "      <th>zip_code</th>\n",
       "      <th>cnae</th>\n",
       "    </tr>\n",
       "  </thead>\n",
       "  <tbody>\n",
       "    <tr>\n",
       "      <th>count</th>\n",
       "      <td>25559</td>\n",
       "      <td>25559</td>\n",
       "      <td>25559.000000</td>\n",
       "      <td>25559.000000</td>\n",
       "      <td>25559.000000</td>\n",
       "      <td>25559.000000</td>\n",
       "      <td>25559.000000</td>\n",
       "      <td>25559.000000</td>\n",
       "      <td>25559</td>\n",
       "      <td>25559</td>\n",
       "      <td>25371.000000</td>\n",
       "      <td>24078.000000</td>\n",
       "      <td>3596.000000</td>\n",
       "      <td>3284.000000</td>\n",
       "      <td>3286.000000</td>\n",
       "      <td>3286.000000</td>\n",
       "      <td>9215.000000</td>\n",
       "      <td>25340.000000</td>\n",
       "    </tr>\n",
       "    <tr>\n",
       "      <th>mean</th>\n",
       "      <td>2019-05-17 15:46:11.939433984</td>\n",
       "      <td>2022-03-22 01:22:22.024335616</td>\n",
       "      <td>1039.441764</td>\n",
       "      <td>2.845836</td>\n",
       "      <td>24946.602332</td>\n",
       "      <td>24736.542392</td>\n",
       "      <td>210.059940</td>\n",
       "      <td>0.673996</td>\n",
       "      <td>2022-03-22 01:22:22.024335616</td>\n",
       "      <td>2022-03-22 01:22:22.024335616</td>\n",
       "      <td>4.850001</td>\n",
       "      <td>5.013765</td>\n",
       "      <td>8.039664</td>\n",
       "      <td>8.214998</td>\n",
       "      <td>8.209998</td>\n",
       "      <td>11.208181</td>\n",
       "      <td>26451.625285</td>\n",
       "      <td>9207.880979</td>\n",
       "    </tr>\n",
       "    <tr>\n",
       "      <th>min</th>\n",
       "      <td>2014-11-02 01:00:00</td>\n",
       "      <td>2015-11-02 00:00:00</td>\n",
       "      <td>1.000000</td>\n",
       "      <td>0.002738</td>\n",
       "      <td>24.000000</td>\n",
       "      <td>24.000000</td>\n",
       "      <td>0.000000</td>\n",
       "      <td>0.000000</td>\n",
       "      <td>2015-11-02 00:00:00</td>\n",
       "      <td>2015-11-02 00:00:00</td>\n",
       "      <td>0.100000</td>\n",
       "      <td>0.000000</td>\n",
       "      <td>0.000000</td>\n",
       "      <td>0.000000</td>\n",
       "      <td>0.000000</td>\n",
       "      <td>0.000000</td>\n",
       "      <td>1001.000000</td>\n",
       "      <td>0.000000</td>\n",
       "    </tr>\n",
       "    <tr>\n",
       "      <th>25%</th>\n",
       "      <td>2017-07-06 01:00:00</td>\n",
       "      <td>2022-06-04 00:00:00</td>\n",
       "      <td>461.000000</td>\n",
       "      <td>1.262149</td>\n",
       "      <td>11064.000000</td>\n",
       "      <td>10989.000000</td>\n",
       "      <td>3.000000</td>\n",
       "      <td>0.021433</td>\n",
       "      <td>2022-06-04 00:00:00</td>\n",
       "      <td>2022-06-04 00:00:00</td>\n",
       "      <td>3.300000</td>\n",
       "      <td>3.300000</td>\n",
       "      <td>0.000000</td>\n",
       "      <td>0.000000</td>\n",
       "      <td>0.000000</td>\n",
       "      <td>0.000000</td>\n",
       "      <td>20003.000000</td>\n",
       "      <td>9820.000000</td>\n",
       "    </tr>\n",
       "    <tr>\n",
       "      <th>50%</th>\n",
       "      <td>2019-03-12 01:00:00</td>\n",
       "      <td>2022-06-05 00:00:00</td>\n",
       "      <td>1017.000000</td>\n",
       "      <td>2.784394</td>\n",
       "      <td>24408.000000</td>\n",
       "      <td>24163.000000</td>\n",
       "      <td>6.000000</td>\n",
       "      <td>0.024539</td>\n",
       "      <td>2022-06-05 00:00:00</td>\n",
       "      <td>2022-06-05 00:00:00</td>\n",
       "      <td>3.450000</td>\n",
       "      <td>3.450000</td>\n",
       "      <td>0.000000</td>\n",
       "      <td>0.000000</td>\n",
       "      <td>0.000000</td>\n",
       "      <td>0.000000</td>\n",
       "      <td>28010.000000</td>\n",
       "      <td>9820.000000</td>\n",
       "    </tr>\n",
       "    <tr>\n",
       "      <th>75%</th>\n",
       "      <td>2020-12-17 01:00:00</td>\n",
       "      <td>2022-06-05 00:00:00</td>\n",
       "      <td>1685.000000</td>\n",
       "      <td>4.613279</td>\n",
       "      <td>40440.000000</td>\n",
       "      <td>40217.000000</td>\n",
       "      <td>33.000000</td>\n",
       "      <td>0.122884</td>\n",
       "      <td>2022-06-05 00:00:00</td>\n",
       "      <td>2022-06-05 00:00:00</td>\n",
       "      <td>4.600000</td>\n",
       "      <td>4.600000</td>\n",
       "      <td>11.000000</td>\n",
       "      <td>12.000000</td>\n",
       "      <td>12.000000</td>\n",
       "      <td>15.001000</td>\n",
       "      <td>48003.000000</td>\n",
       "      <td>9820.000000</td>\n",
       "    </tr>\n",
       "    <tr>\n",
       "      <th>max</th>\n",
       "      <td>2022-06-04 01:00:00</td>\n",
       "      <td>2022-06-08 00:00:00</td>\n",
       "      <td>2584.125000</td>\n",
       "      <td>7.074949</td>\n",
       "      <td>62019.000000</td>\n",
       "      <td>62012.000000</td>\n",
       "      <td>38431.000000</td>\n",
       "      <td>99.598326</td>\n",
       "      <td>2022-06-08 00:00:00</td>\n",
       "      <td>2022-06-08 00:00:00</td>\n",
       "      <td>550.000000</td>\n",
       "      <td>550.000000</td>\n",
       "      <td>550.000000</td>\n",
       "      <td>550.000000</td>\n",
       "      <td>550.000000</td>\n",
       "      <td>800.000000</td>\n",
       "      <td>50617.000000</td>\n",
       "      <td>9949.000000</td>\n",
       "    </tr>\n",
       "    <tr>\n",
       "      <th>std</th>\n",
       "      <td>NaN</td>\n",
       "      <td>NaN</td>\n",
       "      <td>622.855142</td>\n",
       "      <td>1.705284</td>\n",
       "      <td>14948.523415</td>\n",
       "      <td>14890.494660</td>\n",
       "      <td>1871.215495</td>\n",
       "      <td>5.437353</td>\n",
       "      <td>NaN</td>\n",
       "      <td>NaN</td>\n",
       "      <td>8.058459</td>\n",
       "      <td>9.041275</td>\n",
       "      <td>23.144941</td>\n",
       "      <td>23.591731</td>\n",
       "      <td>23.585419</td>\n",
       "      <td>38.989945</td>\n",
       "      <td>16959.038260</td>\n",
       "      <td>1632.046788</td>\n",
       "    </tr>\n",
       "  </tbody>\n",
       "</table>\n",
       "</div>"
      ],
      "text/plain": [
       "                          start_date                       end_date  \\\n",
       "count                          25559                          25559   \n",
       "mean   2019-05-17 15:46:11.939433984  2022-03-22 01:22:22.024335616   \n",
       "min              2014-11-02 01:00:00            2015-11-02 00:00:00   \n",
       "25%              2017-07-06 01:00:00            2022-06-04 00:00:00   \n",
       "50%              2019-03-12 01:00:00            2022-06-05 00:00:00   \n",
       "75%              2020-12-17 01:00:00            2022-06-05 00:00:00   \n",
       "max              2022-06-04 01:00:00            2022-06-08 00:00:00   \n",
       "std                              NaN                            NaN   \n",
       "\n",
       "        length_days  length_years  potential_samples  actual_samples  \\\n",
       "count  25559.000000  25559.000000       25559.000000    25559.000000   \n",
       "mean    1039.441764      2.845836       24946.602332    24736.542392   \n",
       "min        1.000000      0.002738          24.000000       24.000000   \n",
       "25%      461.000000      1.262149       11064.000000    10989.000000   \n",
       "50%     1017.000000      2.784394       24408.000000    24163.000000   \n",
       "75%     1685.000000      4.613279       40440.000000    40217.000000   \n",
       "max     2584.125000      7.074949       62019.000000    62012.000000   \n",
       "std      622.855142      1.705284       14948.523415    14890.494660   \n",
       "\n",
       "       missing_samples_abs  missing_samples_pct  \\\n",
       "count         25559.000000         25559.000000   \n",
       "mean            210.059940             0.673996   \n",
       "min               0.000000             0.000000   \n",
       "25%               3.000000             0.021433   \n",
       "50%               6.000000             0.024539   \n",
       "75%              33.000000             0.122884   \n",
       "max           38431.000000            99.598326   \n",
       "std            1871.215495             5.437353   \n",
       "\n",
       "                 contract_start_date              contract_end_date  \\\n",
       "count                          25559                          25559   \n",
       "mean   2022-03-22 01:22:22.024335616  2022-03-22 01:22:22.024335616   \n",
       "min              2015-11-02 00:00:00            2015-11-02 00:00:00   \n",
       "25%              2022-06-04 00:00:00            2022-06-04 00:00:00   \n",
       "50%              2022-06-05 00:00:00            2022-06-05 00:00:00   \n",
       "75%              2022-06-05 00:00:00            2022-06-05 00:00:00   \n",
       "max              2022-06-08 00:00:00            2022-06-08 00:00:00   \n",
       "std                              NaN                            NaN   \n",
       "\n",
       "                 p1            p2           p3           p4           p5  \\\n",
       "count  25371.000000  24078.000000  3596.000000  3284.000000  3286.000000   \n",
       "mean       4.850001      5.013765     8.039664     8.214998     8.209998   \n",
       "min        0.100000      0.000000     0.000000     0.000000     0.000000   \n",
       "25%        3.300000      3.300000     0.000000     0.000000     0.000000   \n",
       "50%        3.450000      3.450000     0.000000     0.000000     0.000000   \n",
       "75%        4.600000      4.600000    11.000000    12.000000    12.000000   \n",
       "max      550.000000    550.000000   550.000000   550.000000   550.000000   \n",
       "std        8.058459      9.041275    23.144941    23.591731    23.585419   \n",
       "\n",
       "                p6      zip_code          cnae  \n",
       "count  3286.000000   9215.000000  25340.000000  \n",
       "mean     11.208181  26451.625285   9207.880979  \n",
       "min       0.000000   1001.000000      0.000000  \n",
       "25%       0.000000  20003.000000   9820.000000  \n",
       "50%       0.000000  28010.000000   9820.000000  \n",
       "75%      15.001000  48003.000000   9820.000000  \n",
       "max     800.000000  50617.000000   9949.000000  \n",
       "std      38.989945  16959.038260   1632.046788  "
      ]
     },
     "metadata": {},
     "output_type": "display_data"
    },
    {
     "data": {
      "text/markdown": [
       "### **Data description**"
      ],
      "text/plain": [
       "<IPython.core.display.Markdown object>"
      ]
     },
     "metadata": {},
     "output_type": "display_data"
    },
    {
     "data": {
      "text/markdown": [
       "user:    string"
      ],
      "text/plain": [
       "<IPython.core.display.Markdown object>"
      ]
     },
     "metadata": {},
     "output_type": "display_data"
    },
    {
     "data": {
      "text/markdown": [
       "start_date:    datetime64[ns]"
      ],
      "text/plain": [
       "<IPython.core.display.Markdown object>"
      ]
     },
     "metadata": {},
     "output_type": "display_data"
    },
    {
     "data": {
      "text/markdown": [
       "end_date:    datetime64[ns]"
      ],
      "text/plain": [
       "<IPython.core.display.Markdown object>"
      ]
     },
     "metadata": {},
     "output_type": "display_data"
    },
    {
     "data": {
      "text/markdown": [
       "length_days:    float64"
      ],
      "text/plain": [
       "<IPython.core.display.Markdown object>"
      ]
     },
     "metadata": {},
     "output_type": "display_data"
    },
    {
     "data": {
      "text/markdown": [
       "length_years:    float64"
      ],
      "text/plain": [
       "<IPython.core.display.Markdown object>"
      ]
     },
     "metadata": {},
     "output_type": "display_data"
    },
    {
     "data": {
      "text/markdown": [
       "potential_samples:    int64"
      ],
      "text/plain": [
       "<IPython.core.display.Markdown object>"
      ]
     },
     "metadata": {},
     "output_type": "display_data"
    },
    {
     "data": {
      "text/markdown": [
       "actual_samples:    int64"
      ],
      "text/plain": [
       "<IPython.core.display.Markdown object>"
      ]
     },
     "metadata": {},
     "output_type": "display_data"
    },
    {
     "data": {
      "text/markdown": [
       "missing_samples_abs:    int64"
      ],
      "text/plain": [
       "<IPython.core.display.Markdown object>"
      ]
     },
     "metadata": {},
     "output_type": "display_data"
    },
    {
     "data": {
      "text/markdown": [
       "missing_samples_pct:    float64"
      ],
      "text/plain": [
       "<IPython.core.display.Markdown object>"
      ]
     },
     "metadata": {},
     "output_type": "display_data"
    },
    {
     "data": {
      "text/markdown": [
       "contract_start_date:    datetime64[ns]"
      ],
      "text/plain": [
       "<IPython.core.display.Markdown object>"
      ]
     },
     "metadata": {},
     "output_type": "display_data"
    },
    {
     "data": {
      "text/markdown": [
       "contract_end_date:    datetime64[ns]"
      ],
      "text/plain": [
       "<IPython.core.display.Markdown object>"
      ]
     },
     "metadata": {},
     "output_type": "display_data"
    },
    {
     "data": {
      "text/markdown": [
       "contracted_tariff:    category"
      ],
      "text/plain": [
       "<IPython.core.display.Markdown object>"
      ]
     },
     "metadata": {},
     "output_type": "display_data"
    },
    {
     "data": {
      "text/markdown": [
       "self_consumption_type:    object"
      ],
      "text/plain": [
       "<IPython.core.display.Markdown object>"
      ]
     },
     "metadata": {},
     "output_type": "display_data"
    },
    {
     "data": {
      "text/markdown": [
       "p1:    float64"
      ],
      "text/plain": [
       "<IPython.core.display.Markdown object>"
      ]
     },
     "metadata": {},
     "output_type": "display_data"
    },
    {
     "data": {
      "text/markdown": [
       "p2:    float64"
      ],
      "text/plain": [
       "<IPython.core.display.Markdown object>"
      ]
     },
     "metadata": {},
     "output_type": "display_data"
    },
    {
     "data": {
      "text/markdown": [
       "p3:    float64"
      ],
      "text/plain": [
       "<IPython.core.display.Markdown object>"
      ]
     },
     "metadata": {},
     "output_type": "display_data"
    },
    {
     "data": {
      "text/markdown": [
       "p4:    float64"
      ],
      "text/plain": [
       "<IPython.core.display.Markdown object>"
      ]
     },
     "metadata": {},
     "output_type": "display_data"
    },
    {
     "data": {
      "text/markdown": [
       "p5:    float64"
      ],
      "text/plain": [
       "<IPython.core.display.Markdown object>"
      ]
     },
     "metadata": {},
     "output_type": "display_data"
    },
    {
     "data": {
      "text/markdown": [
       "p6:    float64"
      ],
      "text/plain": [
       "<IPython.core.display.Markdown object>"
      ]
     },
     "metadata": {},
     "output_type": "display_data"
    },
    {
     "data": {
      "text/markdown": [
       "province:    category"
      ],
      "text/plain": [
       "<IPython.core.display.Markdown object>"
      ]
     },
     "metadata": {},
     "output_type": "display_data"
    },
    {
     "data": {
      "text/markdown": [
       "municipality:    category"
      ],
      "text/plain": [
       "<IPython.core.display.Markdown object>"
      ]
     },
     "metadata": {},
     "output_type": "display_data"
    },
    {
     "data": {
      "text/markdown": [
       "zip_code:    float64"
      ],
      "text/plain": [
       "<IPython.core.display.Markdown object>"
      ]
     },
     "metadata": {},
     "output_type": "display_data"
    },
    {
     "data": {
      "text/markdown": [
       "cnae:    float64"
      ],
      "text/plain": [
       "<IPython.core.display.Markdown object>"
      ]
     },
     "metadata": {},
     "output_type": "display_data"
    }
   ],
   "source": [
    "# Data visualization\n",
    "display(Markdown(f'## **{metadata_path.name}**'))\n",
    "display(metadata.head(3))\n",
    "display(Markdown(f\"shape: {metadata.shape}\"))\n",
    "\n",
    "display(metadata.describe(include='all'))\n",
    "\n",
    "# Data statistics\n",
    "describe_data(metadata)\n",
    "#display(metadata.describe().loc['count', 'p1'].item())"
   ]
  },
  {
   "cell_type": "code",
   "execution_count": null,
   "id": "4ffbf0e9",
   "metadata": {},
   "outputs": [],
   "source": []
  }
 ],
 "metadata": {
  "kernelspec": {
   "display_name": ".venv",
   "language": "python",
   "name": "python3"
  },
  "language_info": {
   "codemirror_mode": {
    "name": "ipython",
    "version": 3
   },
   "file_extension": ".py",
   "mimetype": "text/x-python",
   "name": "python",
   "nbconvert_exporter": "python",
   "pygments_lexer": "ipython3",
   "version": "3.12.3"
  }
 },
 "nbformat": 4,
 "nbformat_minor": 5
}
