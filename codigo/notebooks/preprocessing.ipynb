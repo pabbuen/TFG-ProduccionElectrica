{
 "cells": [
  {
   "cell_type": "markdown",
   "metadata": {},
   "source": [
    "## Carga de datos\n",
    "\n",
    "Antes de poder manipular los diferentes datos, primero es necesário\n",
    "cargarlos en el sistema"
   ]
  },
  {
   "cell_type": "code",
   "execution_count": 1,
   "metadata": {},
   "outputs": [],
   "source": [
    "import pandas as pd\n",
    "import polars as pl\n",
    "import numpy as np \n",
    "from pathlib import Path"
   ]
  },
  {
   "cell_type": "code",
   "execution_count": 2,
   "metadata": {},
   "outputs": [],
   "source": [
    "# Directório de archivos\n",
    "data_folder = Path(\"../data/predict-energy-behavior-of-prosumers\")\n",
    "\n",
    "# Diccionario de archivos\n",
    "files = {\n",
    "    \"train\": \"train.csv\",\n",
    "    \"gas_prices\": \"gas_prices.csv\",\n",
    "    \"client\": \"client.csv\",\n",
    "    \"electricity_prices\": \"electricity_prices.csv\",\n",
    "    \"forecast_weather\": \"forecast_weather.csv\",\n",
    "    \"historical_weather\": \"historical_weather.csv\",\n",
    "    \"county_lon_lats\": \"county_lon_lats.csv\",\n",
    "    \"weather_station\": \"weather_station_to_county_mapping.csv\"\n",
    "}"
   ]
  },
  {
   "cell_type": "code",
   "execution_count": 3,
   "metadata": {},
   "outputs": [
    {
     "name": "stdout",
     "output_type": "stream",
     "text": [
      "Archivo train cargado con exito.\n",
      "Archivo gas_prices cargado con exito.\n",
      "Archivo client cargado con exito.\n",
      "Archivo electricity_prices cargado con exito.\n",
      "Archivo forecast_weather cargado con exito.\n",
      "Archivo historical_weather cargado con exito.\n",
      "Archivo county_lon_lats cargado con exito.\n",
      "Archivo weather_station cargado con exito.\n"
     ]
    }
   ],
   "source": [
    "# Se crea un diccionario de DataFrames para acceder facilmente a todos\n",
    "# y poder iterar sobre ellos si es necesário\n",
    "dfs = {}\n",
    "\n",
    "for key, filename in files.items():\n",
    "    filepath = data_folder / filename\n",
    "    try:\n",
    "        df = pl.read_csv(filepath)\n",
    "        dfs[key] = df\n",
    "        print(f\"Archivo {key} cargado con exito.\")\n",
    "    except:\n",
    "        print(f\"No pudo cargarse el archivo {key}.\")\n",
    "    "
   ]
  },
  {
   "cell_type": "markdown",
   "metadata": {},
   "source": [
    "## Asignación de longitud/latitud a un condado especifico\n",
    "\n",
    "Con el fin de poder unir los csv de \"train.csv\" y \"forecast_weather.csv\"\n",
    "es necesario poder asignar a cada longitud y latitud, su condado\n",
    "correspondiente.\n",
    "\n",
    "Para ello se utilizará el archivo \"weather_station_to_county_mapping\" con datos que asignan latitudes y longitudes a su correspondiente condado."
   ]
  },
  {
   "cell_type": "markdown",
   "metadata": {},
   "source": [
    "### Visualización de los datos"
   ]
  },
  {
   "cell_type": "code",
   "execution_count": 4,
   "metadata": {},
   "outputs": [],
   "source": [
    "from geopy.geocoders import Nominatim"
   ]
  },
  {
   "cell_type": "code",
   "execution_count": 5,
   "metadata": {},
   "outputs": [
    {
     "data": {
      "text/html": [
       "<div><style>\n",
       ".dataframe > thead > tr,\n",
       ".dataframe > tbody > tr {\n",
       "  text-align: right;\n",
       "  white-space: pre-wrap;\n",
       "}\n",
       "</style>\n",
       "<small>shape: (5, 4)</small><table border=\"1\" class=\"dataframe\"><thead><tr><th>county_name</th><th>longitude</th><th>latitude</th><th>county</th></tr><tr><td>str</td><td>f64</td><td>f64</td><td>i64</td></tr></thead><tbody><tr><td>&quot;Saaremaa&quot;</td><td>22.2</td><td>58.2</td><td>10</td></tr><tr><td>&quot;Saaremaa&quot;</td><td>22.2</td><td>58.5</td><td>10</td></tr><tr><td>&quot;Saaremaa&quot;</td><td>22.7</td><td>58.5</td><td>10</td></tr><tr><td>&quot;Hiiumaa&quot;</td><td>22.7</td><td>58.8</td><td>1</td></tr><tr><td>&quot;Saaremaa&quot;</td><td>23.2</td><td>58.5</td><td>10</td></tr></tbody></table></div>"
      ],
      "text/plain": [
       "shape: (5, 4)\n",
       "┌─────────────┬───────────┬──────────┬────────┐\n",
       "│ county_name ┆ longitude ┆ latitude ┆ county │\n",
       "│ ---         ┆ ---       ┆ ---      ┆ ---    │\n",
       "│ str         ┆ f64       ┆ f64      ┆ i64    │\n",
       "╞═════════════╪═══════════╪══════════╪════════╡\n",
       "│ Saaremaa    ┆ 22.2      ┆ 58.2     ┆ 10     │\n",
       "│ Saaremaa    ┆ 22.2      ┆ 58.5     ┆ 10     │\n",
       "│ Saaremaa    ┆ 22.7      ┆ 58.5     ┆ 10     │\n",
       "│ Hiiumaa     ┆ 22.7      ┆ 58.8     ┆ 1      │\n",
       "│ Saaremaa    ┆ 23.2      ┆ 58.5     ┆ 10     │\n",
       "└─────────────┴───────────┴──────────┴────────┘"
      ]
     },
     "execution_count": 5,
     "metadata": {},
     "output_type": "execute_result"
    }
   ],
   "source": [
    "# Se eliminan las filas con instancias nulas\n",
    "weather_station = dfs[\"weather_station\"].drop_nulls()\n",
    "weather_station.head()"
   ]
  },
  {
   "cell_type": "code",
   "execution_count": 6,
   "metadata": {},
   "outputs": [],
   "source": [
    "# Se inicializa el localizador\n",
    "geolocator = Nominatim(user_agent=\"my-app\")"
   ]
  },
  {
   "cell_type": "code",
   "execution_count": 7,
   "metadata": {},
   "outputs": [],
   "source": [
    "import re\n",
    "\n",
    "class Regex_dict:\n",
    "    '''\n",
    "    Diccionario el cual almacena expresiones regulares como keys\n",
    "    con el fin de poder compilar la entrada a la hora de obtener un value\n",
    "    '''\n",
    "    def __init__(self):\n",
    "        self.keywords = []  # Expresiones regulares\n",
    "\n",
    "    def add(self, expr, value):\n",
    "        '''\n",
    "        Almacena la expresión regular junto a su valor.\n",
    "        '''\n",
    "        self.keywords.append(\n",
    "            (re.compile(expr), value)\n",
    "        )\n",
    "    \n",
    "    def get(self, string):\n",
    "        '''\n",
    "        Devuelve, si es posible, el valor de la key del string pasado\n",
    "        '''\n",
    "        for expr, value in self.keywords:\n",
    "            if expr.search(string):\n",
    "                return value\n",
    "        return None"
   ]
  },
  {
   "cell_type": "code",
   "execution_count": 8,
   "metadata": {},
   "outputs": [],
   "source": [
    "# Se inicializa el diccionario de er\n",
    "county_dict = Regex_dict()\n",
    "\n",
    "# se obtiene un array con el nombre de los condados y su número asignado\n",
    "c = (\"county_name\", \"county\")\n",
    "counties = weather_station[c].unique().to_numpy()"
   ]
  },
  {
   "cell_type": "code",
   "execution_count": 9,
   "metadata": {},
   "outputs": [],
   "source": [
    "# Se añaden los nombres y número de los condados al diccionario\n",
    "for county_name, county in counties:\n",
    "    county_dict.add(county_name, county)"
   ]
  },
  {
   "cell_type": "code",
   "execution_count": null,
   "metadata": {},
   "outputs": [],
   "source": [
    "class DataProcessor:\n",
    "    def __init__(self, lon_lat_dataframe):\n",
    "        self.gas_join = [\"data_block_id\"]\n",
    "        self.ep_join = [\"datetime\", \"data_block_id\"]\n",
    "        self.hw_join = [\"datetime\", \"county\", \"data_block_id\"]\n",
    "        self.client_join = [\"county\", \"is_business\", \"product_type\", \"data_block_id\"]\n",
    "        self.lat_lon = [\"latitude\", \"longitude\"]\n",
    "\n",
    "        self.county_dict = self.__create_dict(lon_lat_dataframe)\n",
    "\n",
    "    def __create_dict(self, lon_lat_dataframe: pl.DataFrame):\n",
    "        # Se inicializa el diccionario de re\n",
    "        re_dict = Regex_dict()\n",
    "\n",
    "        # Se eliminan los valores núlos del dataframe\n",
    "        lon_lat_dataframe = lon_lat_dataframe.drop_nulls()\n",
    "        cols = \"county_name\", \"county\"\n",
    "\n",
    "        if cols in lon_lat_dataframe.columns:\n",
    "            # Se obtiene un array con los nombres y números de cada condado\n",
    "            counties = lon_lat_dataframe[cols].unique().to_numpy()\n",
    "\n",
    "            # Se añade los nombres y números al diccionario\n",
    "            for county_name, county in counties:\n",
    "                re_dict.add(county_name, county)\n",
    "        \n",
    "        else:\n",
    "            raise RuntimeError(\n",
    "                \"No existen las columnas \\\"county_name\\\" y/o \\\"county\\\" en el dataframe\"\n",
    "            )\n",
    "\n",
    "        return re_dict\n",
    "\n",
    "    def add_counties(self, df: pl.DataFrame):\n",
    "        geolocator = Nominatim(user_agent=\"get-county\")\n",
    "        coords = df[\"latitude\", \"longitude\"].to_numpy()\n",
    "\n",
    "        county_list = np.array([])\n",
    "        for coord in coords:\n",
    "            location = geolocator.reverse((coord[0], coord[1]), exactly_one=True)\n",
    "            county_name = location.raw[\"address\"].get(\"municipality\")\n",
    "            county_list = np.append(\n",
    "                county_list,\n",
    "                self.county_dict.get(county_name)\n",
    "            )\n",
    "        \n",
    "        return df.with_columns(pl.Series(name=\"county\", values=county_list))\n",
    "\n",
    "\n",
    "\n",
    "    def change_names(self, df: pl.DataFrame, suffix, no_change):\n",
    "        renamed_df = df.rename(\n",
    "            lambda col: col + suffix if col not in no_change else col\n",
    "        )\n",
    "        return renamed_df\n",
    "    \n",
    "    def to_datetime(self, df: pl.DataFrame, col: str):\n",
    "        # Cast str to Datetime\n",
    "        result = df.with_columns(\n",
    "            pl.col(col).str.strptime(pl.Datetime, \"%Y-%m-%d %H:%M:%S\")\n",
    "        )\n",
    "        return result\n",
    "\n",
    "    def get_gas_features(self, gas_df: pl.DataFrame):\n",
    "        gas_df = gas_df.with_columns(\n",
    "            ((pl.col(\"lowest_price_per_mwh\") + \n",
    "              pl.col(\"highest_price_per_mwh\")) / 2).alias(\"mean_price_per_mwh\")\n",
    "        )\n",
    "\n",
    "        return self.change_names(gas_df, \"_gas\", self.gas_join)\n",
    "    \n",
    "    def get_client_features(self, client_df):\n",
    "        return self.change_names(client_df, \"_client\", self.client_join)\n",
    "    \n",
    "    def get_hist_weather_features(self, hw_df: pl.DataFrame):\n",
    "        hw_df = hw_df.with_columns(\n",
    "            pl.col(\"datetime\").str.strptime(pl.Datetime, \"%Y-%m-%d %H:%M:%S\")\n",
    "        )\n",
    "\n",
    "        hw_df = self.add_counties(hw_df)\n",
    "        hw_df = self.change_names(hw_df, \"_hw\", self.hw_join)\n",
    "\n",
    "        return hw_df\n",
    "    \n",
    "    def get_forecast_weather_features(self, fw_df):\n",
    "        return None\n",
    "    \n",
    "    def get_electricity_features(self, ep_df: pl.DataFrame):\n",
    "        # str to datetime\n",
    "        df = ep_df.with_columns(\n",
    "            pl.col(\"origin_date\").str.strptime(\n",
    "                pl.Datetime, \"%Y-%m-%d %H:%M:%S\"\n",
    "            )\n",
    "        )\n",
    "\n",
    "        # Change names\n",
    "        df = self.change_names(df, \"_ep\", self.ep_join)\n",
    "\n",
    "        return df\n",
    "    \n",
    "    def get_data_features(self, data: pl.DataFrame):\n",
    "        \n",
    "        date = \"datetime\"\n",
    "        # Cast to Datetime\n",
    "        df = self.to_datetime(data, \"datetime\")\n",
    "\n",
    "        df = df.with_columns([\n",
    "            # Date\n",
    "            pl.col(date).dt.truncate(\"1d\").cast(pl.Date).alias(\"date\"),\n",
    "\n",
    "            # Year\n",
    "            pl.col(date).dt.year().alias(\"year\"),\n",
    "\n",
    "            # Quarter\n",
    "            pl.col(date).dt.quarter().alias(\"quarter\"),\n",
    "\n",
    "            # Month\n",
    "            pl.col(date).dt.month().alias(\"month\"),\n",
    "\n",
    "            # Week\n",
    "            pl.col(date).dt.week().alias(\"week\"),\n",
    "\n",
    "            # Hour\n",
    "            pl.col(date).dt.hour().alias(\"hour\"),\n",
    "\n",
    "            # Day of year\n",
    "            pl.col(date).dt.ordinal_day().alias(\"day_of_year\"),\n",
    "\n",
    "            # Day of month\n",
    "            pl.col(date).dt.day().alias(\"day_of_month\"),\n",
    "\n",
    "            # Day of week\n",
    "            pl.col(date).dt.weekday().alias(\"day_of_week\")\n",
    "        ])\n",
    "\n",
    "        return df\n",
    "    \n",
    "    def start(self, df_dict: dict):\n",
    "        return None\n",
    "    "
   ]
  },
  {
   "cell_type": "code",
   "execution_count": 11,
   "metadata": {},
   "outputs": [],
   "source": [
    "# Adivinar que hace la variable hours ahead f mean\n",
    "# No añadir los Targets de horas anteriores"
   ]
  },
  {
   "cell_type": "code",
   "execution_count": 11,
   "metadata": {},
   "outputs": [
    {
     "name": "stdout",
     "output_type": "stream",
     "text": [
      "train:\n"
     ]
    },
    {
     "data": {
      "text/html": [
       "<div><style>\n",
       ".dataframe > thead > tr,\n",
       ".dataframe > tbody > tr {\n",
       "  text-align: right;\n",
       "  white-space: pre-wrap;\n",
       "}\n",
       "</style>\n",
       "<small>shape: (1, 9)</small><table border=\"1\" class=\"dataframe\"><thead><tr><th>county</th><th>is_business</th><th>product_type</th><th>target</th><th>is_consumption</th><th>datetime</th><th>data_block_id</th><th>row_id</th><th>prediction_unit_id</th></tr><tr><td>i64</td><td>i64</td><td>i64</td><td>f64</td><td>i64</td><td>str</td><td>i64</td><td>i64</td><td>i64</td></tr></thead><tbody><tr><td>0</td><td>0</td><td>1</td><td>0.713</td><td>0</td><td>&quot;2021-09-01 00:00:00&quot;</td><td>0</td><td>0</td><td>0</td></tr></tbody></table></div>"
      ],
      "text/plain": [
       "shape: (1, 9)\n",
       "┌────────┬─────────────┬─────────────┬────────┬───┬─────────────┬────────────┬────────┬────────────┐\n",
       "│ county ┆ is_business ┆ product_typ ┆ target ┆ … ┆ datetime    ┆ data_block ┆ row_id ┆ prediction │\n",
       "│ ---    ┆ ---         ┆ e           ┆ ---    ┆   ┆ ---         ┆ _id        ┆ ---    ┆ _unit_id   │\n",
       "│ i64    ┆ i64         ┆ ---         ┆ f64    ┆   ┆ str         ┆ ---        ┆ i64    ┆ ---        │\n",
       "│        ┆             ┆ i64         ┆        ┆   ┆             ┆ i64        ┆        ┆ i64        │\n",
       "╞════════╪═════════════╪═════════════╪════════╪═══╪═════════════╪════════════╪════════╪════════════╡\n",
       "│ 0      ┆ 0           ┆ 1           ┆ 0.713  ┆ … ┆ 2021-09-01  ┆ 0          ┆ 0      ┆ 0          │\n",
       "│        ┆             ┆             ┆        ┆   ┆ 00:00:00    ┆            ┆        ┆            │\n",
       "└────────┴─────────────┴─────────────┴────────┴───┴─────────────┴────────────┴────────┴────────────┘"
      ]
     },
     "metadata": {},
     "output_type": "display_data"
    },
    {
     "name": "stdout",
     "output_type": "stream",
     "text": [
      "gas_prices:\n"
     ]
    },
    {
     "data": {
      "text/html": [
       "<div><style>\n",
       ".dataframe > thead > tr,\n",
       ".dataframe > tbody > tr {\n",
       "  text-align: right;\n",
       "  white-space: pre-wrap;\n",
       "}\n",
       "</style>\n",
       "<small>shape: (1, 5)</small><table border=\"1\" class=\"dataframe\"><thead><tr><th>forecast_date</th><th>lowest_price_per_mwh</th><th>highest_price_per_mwh</th><th>origin_date</th><th>data_block_id</th></tr><tr><td>str</td><td>f64</td><td>f64</td><td>str</td><td>i64</td></tr></thead><tbody><tr><td>&quot;2021-09-01&quot;</td><td>45.23</td><td>46.32</td><td>&quot;2021-08-31&quot;</td><td>1</td></tr></tbody></table></div>"
      ],
      "text/plain": [
       "shape: (1, 5)\n",
       "┌───────────────┬──────────────────────┬───────────────────────┬─────────────┬───────────────┐\n",
       "│ forecast_date ┆ lowest_price_per_mwh ┆ highest_price_per_mwh ┆ origin_date ┆ data_block_id │\n",
       "│ ---           ┆ ---                  ┆ ---                   ┆ ---         ┆ ---           │\n",
       "│ str           ┆ f64                  ┆ f64                   ┆ str         ┆ i64           │\n",
       "╞═══════════════╪══════════════════════╪═══════════════════════╪═════════════╪═══════════════╡\n",
       "│ 2021-09-01    ┆ 45.23                ┆ 46.32                 ┆ 2021-08-31  ┆ 1             │\n",
       "└───────────────┴──────────────────────┴───────────────────────┴─────────────┴───────────────┘"
      ]
     },
     "metadata": {},
     "output_type": "display_data"
    },
    {
     "name": "stdout",
     "output_type": "stream",
     "text": [
      "client:\n"
     ]
    },
    {
     "data": {
      "text/html": [
       "<div><style>\n",
       ".dataframe > thead > tr,\n",
       ".dataframe > tbody > tr {\n",
       "  text-align: right;\n",
       "  white-space: pre-wrap;\n",
       "}\n",
       "</style>\n",
       "<small>shape: (1, 7)</small><table border=\"1\" class=\"dataframe\"><thead><tr><th>product_type</th><th>county</th><th>eic_count</th><th>installed_capacity</th><th>is_business</th><th>date</th><th>data_block_id</th></tr><tr><td>i64</td><td>i64</td><td>i64</td><td>f64</td><td>i64</td><td>str</td><td>i64</td></tr></thead><tbody><tr><td>1</td><td>0</td><td>108</td><td>952.89</td><td>0</td><td>&quot;2021-09-01&quot;</td><td>2</td></tr></tbody></table></div>"
      ],
      "text/plain": [
       "shape: (1, 7)\n",
       "┌──────────────┬────────┬───────────┬───────────────────┬─────────────┬────────────┬───────────────┐\n",
       "│ product_type ┆ county ┆ eic_count ┆ installed_capacit ┆ is_business ┆ date       ┆ data_block_id │\n",
       "│ ---          ┆ ---    ┆ ---       ┆ y                 ┆ ---         ┆ ---        ┆ ---           │\n",
       "│ i64          ┆ i64    ┆ i64       ┆ ---               ┆ i64         ┆ str        ┆ i64           │\n",
       "│              ┆        ┆           ┆ f64               ┆             ┆            ┆               │\n",
       "╞══════════════╪════════╪═══════════╪═══════════════════╪═════════════╪════════════╪═══════════════╡\n",
       "│ 1            ┆ 0      ┆ 108       ┆ 952.89            ┆ 0           ┆ 2021-09-01 ┆ 2             │\n",
       "└──────────────┴────────┴───────────┴───────────────────┴─────────────┴────────────┴───────────────┘"
      ]
     },
     "metadata": {},
     "output_type": "display_data"
    },
    {
     "name": "stdout",
     "output_type": "stream",
     "text": [
      "electricity_prices:\n"
     ]
    },
    {
     "data": {
      "text/html": [
       "<div><style>\n",
       ".dataframe > thead > tr,\n",
       ".dataframe > tbody > tr {\n",
       "  text-align: right;\n",
       "  white-space: pre-wrap;\n",
       "}\n",
       "</style>\n",
       "<small>shape: (1, 4)</small><table border=\"1\" class=\"dataframe\"><thead><tr><th>forecast_date</th><th>euros_per_mwh</th><th>origin_date</th><th>data_block_id</th></tr><tr><td>str</td><td>f64</td><td>str</td><td>i64</td></tr></thead><tbody><tr><td>&quot;2021-09-01 00:00:00&quot;</td><td>92.51</td><td>&quot;2021-08-31 00:00:00&quot;</td><td>1</td></tr></tbody></table></div>"
      ],
      "text/plain": [
       "shape: (1, 4)\n",
       "┌─────────────────────┬───────────────┬─────────────────────┬───────────────┐\n",
       "│ forecast_date       ┆ euros_per_mwh ┆ origin_date         ┆ data_block_id │\n",
       "│ ---                 ┆ ---           ┆ ---                 ┆ ---           │\n",
       "│ str                 ┆ f64           ┆ str                 ┆ i64           │\n",
       "╞═════════════════════╪═══════════════╪═════════════════════╪═══════════════╡\n",
       "│ 2021-09-01 00:00:00 ┆ 92.51         ┆ 2021-08-31 00:00:00 ┆ 1             │\n",
       "└─────────────────────┴───────────────┴─────────────────────┴───────────────┘"
      ]
     },
     "metadata": {},
     "output_type": "display_data"
    },
    {
     "name": "stdout",
     "output_type": "stream",
     "text": [
      "forecast_weather:\n"
     ]
    },
    {
     "data": {
      "text/html": [
       "<div><style>\n",
       ".dataframe > thead > tr,\n",
       ".dataframe > tbody > tr {\n",
       "  text-align: right;\n",
       "  white-space: pre-wrap;\n",
       "}\n",
       "</style>\n",
       "<small>shape: (1, 18)</small><table border=\"1\" class=\"dataframe\"><thead><tr><th>latitude</th><th>longitude</th><th>origin_datetime</th><th>hours_ahead</th><th>temperature</th><th>dewpoint</th><th>cloudcover_high</th><th>cloudcover_low</th><th>cloudcover_mid</th><th>cloudcover_total</th><th>10_metre_u_wind_component</th><th>10_metre_v_wind_component</th><th>data_block_id</th><th>forecast_datetime</th><th>direct_solar_radiation</th><th>surface_solar_radiation_downwards</th><th>snowfall</th><th>total_precipitation</th></tr><tr><td>f64</td><td>f64</td><td>str</td><td>i64</td><td>f64</td><td>f64</td><td>f64</td><td>f64</td><td>f64</td><td>f64</td><td>f64</td><td>f64</td><td>i64</td><td>str</td><td>f64</td><td>f64</td><td>f64</td><td>f64</td></tr></thead><tbody><tr><td>57.6</td><td>21.7</td><td>&quot;2021-09-01 02:00:00&quot;</td><td>1</td><td>15.655786</td><td>11.553613</td><td>0.904816</td><td>0.019714</td><td>0.0</td><td>0.905899</td><td>-0.411328</td><td>-9.106137</td><td>1</td><td>&quot;2021-09-01 03:00:00&quot;</td><td>0.0</td><td>0.0</td><td>0.0</td><td>0.0</td></tr></tbody></table></div>"
      ],
      "text/plain": [
       "shape: (1, 18)\n",
       "┌──────────┬───────────┬────────────┬───────────┬───┬───────────┬───────────┬──────────┬───────────┐\n",
       "│ latitude ┆ longitude ┆ origin_dat ┆ hours_ahe ┆ … ┆ direct_so ┆ surface_s ┆ snowfall ┆ total_pre │\n",
       "│ ---      ┆ ---       ┆ etime      ┆ ad        ┆   ┆ lar_radia ┆ olar_radi ┆ ---      ┆ cipitatio │\n",
       "│ f64      ┆ f64       ┆ ---        ┆ ---       ┆   ┆ tion      ┆ ation_dow ┆ f64      ┆ n         │\n",
       "│          ┆           ┆ str        ┆ i64       ┆   ┆ ---       ┆ nwa…      ┆          ┆ ---       │\n",
       "│          ┆           ┆            ┆           ┆   ┆ f64       ┆ ---       ┆          ┆ f64       │\n",
       "│          ┆           ┆            ┆           ┆   ┆           ┆ f64       ┆          ┆           │\n",
       "╞══════════╪═══════════╪════════════╪═══════════╪═══╪═══════════╪═══════════╪══════════╪═══════════╡\n",
       "│ 57.6     ┆ 21.7      ┆ 2021-09-01 ┆ 1         ┆ … ┆ 0.0       ┆ 0.0       ┆ 0.0      ┆ 0.0       │\n",
       "│          ┆           ┆ 02:00:00   ┆           ┆   ┆           ┆           ┆          ┆           │\n",
       "└──────────┴───────────┴────────────┴───────────┴───┴───────────┴───────────┴──────────┴───────────┘"
      ]
     },
     "metadata": {},
     "output_type": "display_data"
    },
    {
     "name": "stdout",
     "output_type": "stream",
     "text": [
      "historical_weather:\n"
     ]
    },
    {
     "data": {
      "text/html": [
       "<div><style>\n",
       ".dataframe > thead > tr,\n",
       ".dataframe > tbody > tr {\n",
       "  text-align: right;\n",
       "  white-space: pre-wrap;\n",
       "}\n",
       "</style>\n",
       "<small>shape: (1, 18)</small><table border=\"1\" class=\"dataframe\"><thead><tr><th>datetime</th><th>temperature</th><th>dewpoint</th><th>rain</th><th>snowfall</th><th>surface_pressure</th><th>cloudcover_total</th><th>cloudcover_low</th><th>cloudcover_mid</th><th>cloudcover_high</th><th>windspeed_10m</th><th>winddirection_10m</th><th>shortwave_radiation</th><th>direct_solar_radiation</th><th>diffuse_radiation</th><th>latitude</th><th>longitude</th><th>data_block_id</th></tr><tr><td>str</td><td>f64</td><td>f64</td><td>f64</td><td>f64</td><td>f64</td><td>i64</td><td>i64</td><td>i64</td><td>i64</td><td>f64</td><td>i64</td><td>f64</td><td>f64</td><td>f64</td><td>f64</td><td>f64</td><td>f64</td></tr></thead><tbody><tr><td>&quot;2021-09-01 00:00:00&quot;</td><td>14.2</td><td>11.6</td><td>0.0</td><td>0.0</td><td>1015.9</td><td>31</td><td>31</td><td>0</td><td>11</td><td>7.083333</td><td>8</td><td>0.0</td><td>0.0</td><td>0.0</td><td>57.6</td><td>21.7</td><td>1.0</td></tr></tbody></table></div>"
      ],
      "text/plain": [
       "shape: (1, 18)\n",
       "┌─────────────┬─────────────┬──────────┬──────┬───┬────────────┬──────────┬───────────┬────────────┐\n",
       "│ datetime    ┆ temperature ┆ dewpoint ┆ rain ┆ … ┆ diffuse_ra ┆ latitude ┆ longitude ┆ data_block │\n",
       "│ ---         ┆ ---         ┆ ---      ┆ ---  ┆   ┆ diation    ┆ ---      ┆ ---       ┆ _id        │\n",
       "│ str         ┆ f64         ┆ f64      ┆ f64  ┆   ┆ ---        ┆ f64      ┆ f64       ┆ ---        │\n",
       "│             ┆             ┆          ┆      ┆   ┆ f64        ┆          ┆           ┆ f64        │\n",
       "╞═════════════╪═════════════╪══════════╪══════╪═══╪════════════╪══════════╪═══════════╪════════════╡\n",
       "│ 2021-09-01  ┆ 14.2        ┆ 11.6     ┆ 0.0  ┆ … ┆ 0.0        ┆ 57.6     ┆ 21.7      ┆ 1.0        │\n",
       "│ 00:00:00    ┆             ┆          ┆      ┆   ┆            ┆          ┆           ┆            │\n",
       "└─────────────┴─────────────┴──────────┴──────┴───┴────────────┴──────────┴───────────┴────────────┘"
      ]
     },
     "metadata": {},
     "output_type": "display_data"
    },
    {
     "name": "stdout",
     "output_type": "stream",
     "text": [
      "county_lon_lats:\n"
     ]
    },
    {
     "data": {
      "text/html": [
       "<div><style>\n",
       ".dataframe > thead > tr,\n",
       ".dataframe > tbody > tr {\n",
       "  text-align: right;\n",
       "  white-space: pre-wrap;\n",
       "}\n",
       "</style>\n",
       "<small>shape: (1, 4)</small><table border=\"1\" class=\"dataframe\"><thead><tr><th></th><th>county</th><th>longitude</th><th>latitude</th></tr><tr><td>i64</td><td>i64</td><td>f64</td><td>f64</td></tr></thead><tbody><tr><td>0</td><td>0</td><td>24.2</td><td>59.1</td></tr></tbody></table></div>"
      ],
      "text/plain": [
       "shape: (1, 4)\n",
       "┌─────┬────────┬───────────┬──────────┐\n",
       "│     ┆ county ┆ longitude ┆ latitude │\n",
       "│ --- ┆ ---    ┆ ---       ┆ ---      │\n",
       "│ i64 ┆ i64    ┆ f64       ┆ f64      │\n",
       "╞═════╪════════╪═══════════╪══════════╡\n",
       "│ 0   ┆ 0      ┆ 24.2      ┆ 59.1     │\n",
       "└─────┴────────┴───────────┴──────────┘"
      ]
     },
     "metadata": {},
     "output_type": "display_data"
    },
    {
     "name": "stdout",
     "output_type": "stream",
     "text": [
      "weather_station:\n"
     ]
    },
    {
     "data": {
      "text/html": [
       "<div><style>\n",
       ".dataframe > thead > tr,\n",
       ".dataframe > tbody > tr {\n",
       "  text-align: right;\n",
       "  white-space: pre-wrap;\n",
       "}\n",
       "</style>\n",
       "<small>shape: (1, 4)</small><table border=\"1\" class=\"dataframe\"><thead><tr><th>county_name</th><th>longitude</th><th>latitude</th><th>county</th></tr><tr><td>str</td><td>f64</td><td>f64</td><td>i64</td></tr></thead><tbody><tr><td>null</td><td>21.7</td><td>57.6</td><td>null</td></tr></tbody></table></div>"
      ],
      "text/plain": [
       "shape: (1, 4)\n",
       "┌─────────────┬───────────┬──────────┬────────┐\n",
       "│ county_name ┆ longitude ┆ latitude ┆ county │\n",
       "│ ---         ┆ ---       ┆ ---      ┆ ---    │\n",
       "│ str         ┆ f64       ┆ f64      ┆ i64    │\n",
       "╞═════════════╪═══════════╪══════════╪════════╡\n",
       "│ null        ┆ 21.7      ┆ 57.6     ┆ null   │\n",
       "└─────────────┴───────────┴──────────┴────────┘"
      ]
     },
     "metadata": {},
     "output_type": "display_data"
    }
   ],
   "source": [
    "for key in dfs.keys():\n",
    "    print(f\"{key}:\")\n",
    "    display(dfs[key].head(1))\n",
    "    "
   ]
  },
  {
   "cell_type": "code",
   "execution_count": 28,
   "metadata": {},
   "outputs": [
    {
     "data": {
      "text/html": [
       "<div><style>\n",
       ".dataframe > thead > tr,\n",
       ".dataframe > tbody > tr {\n",
       "  text-align: right;\n",
       "  white-space: pre-wrap;\n",
       "}\n",
       "</style>\n",
       "<small>shape: (300, 9)</small><table border=\"1\" class=\"dataframe\"><thead><tr><th>county</th><th>is_business</th><th>product_type</th><th>target</th><th>is_consumption</th><th>datetime</th><th>data_block_id</th><th>row_id</th><th>prediction_unit_id</th></tr><tr><td>i64</td><td>i64</td><td>i64</td><td>f64</td><td>i64</td><td>str</td><td>i64</td><td>i64</td><td>i64</td></tr></thead><tbody><tr><td>0</td><td>0</td><td>1</td><td>0.713</td><td>0</td><td>&quot;2021-09-01 00:00:00&quot;</td><td>0</td><td>0</td><td>0</td></tr><tr><td>0</td><td>0</td><td>1</td><td>96.59</td><td>1</td><td>&quot;2021-09-01 00:00:00&quot;</td><td>0</td><td>1</td><td>0</td></tr><tr><td>0</td><td>0</td><td>2</td><td>0.0</td><td>0</td><td>&quot;2021-09-01 00:00:00&quot;</td><td>0</td><td>2</td><td>1</td></tr><tr><td>0</td><td>0</td><td>2</td><td>17.314</td><td>1</td><td>&quot;2021-09-01 00:00:00&quot;</td><td>0</td><td>3</td><td>1</td></tr><tr><td>0</td><td>0</td><td>3</td><td>2.904</td><td>0</td><td>&quot;2021-09-01 00:00:00&quot;</td><td>0</td><td>4</td><td>2</td></tr><tr><td>&hellip;</td><td>&hellip;</td><td>&hellip;</td><td>&hellip;</td><td>&hellip;</td><td>&hellip;</td><td>&hellip;</td><td>&hellip;</td><td>&hellip;</td></tr><tr><td>7</td><td>0</td><td>1</td><td>15.985</td><td>1</td><td>&quot;2021-09-01 02:00:00&quot;</td><td>0</td><td>295</td><td>25</td></tr><tr><td>7</td><td>0</td><td>2</td><td>0.0</td><td>0</td><td>&quot;2021-09-01 02:00:00&quot;</td><td>0</td><td>296</td><td>26</td></tr><tr><td>7</td><td>0</td><td>2</td><td>3.692</td><td>1</td><td>&quot;2021-09-01 02:00:00&quot;</td><td>0</td><td>297</td><td>26</td></tr><tr><td>7</td><td>0</td><td>3</td><td>0.022</td><td>0</td><td>&quot;2021-09-01 02:00:00&quot;</td><td>0</td><td>298</td><td>27</td></tr><tr><td>7</td><td>0</td><td>3</td><td>92.341</td><td>1</td><td>&quot;2021-09-01 02:00:00&quot;</td><td>0</td><td>299</td><td>27</td></tr></tbody></table></div>"
      ],
      "text/plain": [
       "shape: (300, 9)\n",
       "┌────────┬─────────────┬─────────────┬────────┬───┬─────────────┬────────────┬────────┬────────────┐\n",
       "│ county ┆ is_business ┆ product_typ ┆ target ┆ … ┆ datetime    ┆ data_block ┆ row_id ┆ prediction │\n",
       "│ ---    ┆ ---         ┆ e           ┆ ---    ┆   ┆ ---         ┆ _id        ┆ ---    ┆ _unit_id   │\n",
       "│ i64    ┆ i64         ┆ ---         ┆ f64    ┆   ┆ str         ┆ ---        ┆ i64    ┆ ---        │\n",
       "│        ┆             ┆ i64         ┆        ┆   ┆             ┆ i64        ┆        ┆ i64        │\n",
       "╞════════╪═════════════╪═════════════╪════════╪═══╪═════════════╪════════════╪════════╪════════════╡\n",
       "│ 0      ┆ 0           ┆ 1           ┆ 0.713  ┆ … ┆ 2021-09-01  ┆ 0          ┆ 0      ┆ 0          │\n",
       "│        ┆             ┆             ┆        ┆   ┆ 00:00:00    ┆            ┆        ┆            │\n",
       "│ 0      ┆ 0           ┆ 1           ┆ 96.59  ┆ … ┆ 2021-09-01  ┆ 0          ┆ 1      ┆ 0          │\n",
       "│        ┆             ┆             ┆        ┆   ┆ 00:00:00    ┆            ┆        ┆            │\n",
       "│ 0      ┆ 0           ┆ 2           ┆ 0.0    ┆ … ┆ 2021-09-01  ┆ 0          ┆ 2      ┆ 1          │\n",
       "│        ┆             ┆             ┆        ┆   ┆ 00:00:00    ┆            ┆        ┆            │\n",
       "│ 0      ┆ 0           ┆ 2           ┆ 17.314 ┆ … ┆ 2021-09-01  ┆ 0          ┆ 3      ┆ 1          │\n",
       "│        ┆             ┆             ┆        ┆   ┆ 00:00:00    ┆            ┆        ┆            │\n",
       "│ 0      ┆ 0           ┆ 3           ┆ 2.904  ┆ … ┆ 2021-09-01  ┆ 0          ┆ 4      ┆ 2          │\n",
       "│        ┆             ┆             ┆        ┆   ┆ 00:00:00    ┆            ┆        ┆            │\n",
       "│ …      ┆ …           ┆ …           ┆ …      ┆ … ┆ …           ┆ …          ┆ …      ┆ …          │\n",
       "│ 7      ┆ 0           ┆ 1           ┆ 15.985 ┆ … ┆ 2021-09-01  ┆ 0          ┆ 295    ┆ 25         │\n",
       "│        ┆             ┆             ┆        ┆   ┆ 02:00:00    ┆            ┆        ┆            │\n",
       "│ 7      ┆ 0           ┆ 2           ┆ 0.0    ┆ … ┆ 2021-09-01  ┆ 0          ┆ 296    ┆ 26         │\n",
       "│        ┆             ┆             ┆        ┆   ┆ 02:00:00    ┆            ┆        ┆            │\n",
       "│ 7      ┆ 0           ┆ 2           ┆ 3.692  ┆ … ┆ 2021-09-01  ┆ 0          ┆ 297    ┆ 26         │\n",
       "│        ┆             ┆             ┆        ┆   ┆ 02:00:00    ┆            ┆        ┆            │\n",
       "│ 7      ┆ 0           ┆ 3           ┆ 0.022  ┆ … ┆ 2021-09-01  ┆ 0          ┆ 298    ┆ 27         │\n",
       "│        ┆             ┆             ┆        ┆   ┆ 02:00:00    ┆            ┆        ┆            │\n",
       "│ 7      ┆ 0           ┆ 3           ┆ 92.341 ┆ … ┆ 2021-09-01  ┆ 0          ┆ 299    ┆ 27         │\n",
       "│        ┆             ┆             ┆        ┆   ┆ 02:00:00    ┆            ┆        ┆            │\n",
       "└────────┴─────────────┴─────────────┴────────┴───┴─────────────┴────────────┴────────┴────────────┘"
      ]
     },
     "metadata": {},
     "output_type": "display_data"
    }
   ],
   "source": [
    "display(dfs[\"train\"].head(300))"
   ]
  },
  {
   "cell_type": "code",
   "execution_count": 13,
   "metadata": {},
   "outputs": [
    {
     "data": {
      "text/html": [
       "<div><style>\n",
       ".dataframe > thead > tr,\n",
       ".dataframe > tbody > tr {\n",
       "  text-align: right;\n",
       "  white-space: pre-wrap;\n",
       "}\n",
       "</style>\n",
       "<small>shape: (1, 2)</small><table border=\"1\" class=\"dataframe\"><thead><tr><th>origin_datetime</th><th>hours_ahead</th></tr><tr><td>str</td><td>f64</td></tr></thead><tbody><tr><td>&quot;2021-09-01 02:00:00&quot;</td><td>24.5</td></tr></tbody></table></div>"
      ],
      "text/plain": [
       "shape: (1, 2)\n",
       "┌─────────────────────┬─────────────┐\n",
       "│ origin_datetime     ┆ hours_ahead │\n",
       "│ ---                 ┆ ---         │\n",
       "│ str                 ┆ f64         │\n",
       "╞═════════════════════╪═════════════╡\n",
       "│ 2021-09-01 02:00:00 ┆ 24.5        │\n",
       "└─────────────────────┴─────────────┘"
      ]
     },
     "execution_count": 13,
     "metadata": {},
     "output_type": "execute_result"
    }
   ],
   "source": [
    "dfs[\"forecast_weather\"].filter(\n",
    "    (pl.col(\"latitude\") == 57.6) &\n",
    "    (pl.col(\"longitude\") == 21.7) &\n",
    "    (pl.col(\"origin_datetime\") == \"2021-09-01 02:00:00\")\n",
    ").select(\n",
    "    [\"latitude\", \"longitude\", \"hours_ahead\", \"origin_datetime\"]\n",
    ").group_by(\"origin_datetime\").agg(pl.col(\"hours_ahead\").mean())"
   ]
  },
  {
   "cell_type": "code",
   "execution_count": 14,
   "metadata": {},
   "outputs": [
    {
     "data": {
      "text/html": [
       "<div><style>\n",
       ".dataframe > thead > tr,\n",
       ".dataframe > tbody > tr {\n",
       "  text-align: right;\n",
       "  white-space: pre-wrap;\n",
       "}\n",
       "</style>\n",
       "<small>shape: (30_572, 16)</small><table border=\"1\" class=\"dataframe\"><thead><tr><th>forecast_datetime</th><th>data_block_id</th><th>origin_datetime</th><th>hours_ahead</th><th>temperature</th><th>dewpoint</th><th>cloudcover_high</th><th>cloudcover_low</th><th>cloudcover_mid</th><th>cloudcover_total</th><th>10_metre_u_wind_component</th><th>10_metre_v_wind_component</th><th>direct_solar_radiation</th><th>surface_solar_radiation_downwards</th><th>snowfall</th><th>total_precipitation</th></tr><tr><td>str</td><td>i64</td><td>str</td><td>f64</td><td>f64</td><td>f64</td><td>f64</td><td>f64</td><td>f64</td><td>f64</td><td>f64</td><td>f64</td><td>f64</td><td>f64</td><td>f64</td><td>f64</td></tr></thead><tbody><tr><td>&quot;2021-11-05 02:00:00&quot;</td><td>65</td><td>null</td><td>25.0</td><td>7.517538</td><td>6.483776</td><td>0.374459</td><td>0.788241</td><td>0.930931</td><td>0.999334</td><td>-5.107638</td><td>2.407442</td><td>0.0</td><td>0.0</td><td>0.0</td><td>0.000828</td></tr><tr><td>&quot;2023-01-13 01:00:00&quot;</td><td>498</td><td>null</td><td>48.0</td><td>2.547195</td><td>1.822729</td><td>0.230212</td><td>0.996794</td><td>0.714138</td><td>0.99985</td><td>1.465805</td><td>6.375389</td><td>0.0</td><td>0.0</td><td>0.000116</td><td>0.000515</td></tr><tr><td>&quot;2022-11-07 06:00:00&quot;</td><td>432</td><td>null</td><td>29.0</td><td>7.805334</td><td>6.237741</td><td>0.9839</td><td>0.646853</td><td>0.686397</td><td>0.9998</td><td>3.204765</td><td>5.962434</td><td>0.0</td><td>0.0</td><td>0.0</td><td>0.000066</td></tr><tr><td>&quot;2021-11-26 22:00:00&quot;</td><td>86</td><td>null</td><td>45.0</td><td>0.462178</td><td>-1.622852</td><td>0.68024</td><td>0.548291</td><td>0.894366</td><td>0.961348</td><td>-3.388509</td><td>-1.414764</td><td>0.0</td><td>0.0</td><td>0.000109</td><td>0.000138</td></tr><tr><td>&quot;2023-04-06 15:00:00&quot;</td><td>583</td><td>null</td><td>13.0</td><td>7.781676</td><td>3.271873</td><td>0.371023</td><td>0.161743</td><td>0.121847</td><td>0.429985</td><td>-3.997157</td><td>-1.128954</td><td>631.914921</td><td>456.694643</td><td>0.0</td><td>6.4926e-7</td></tr><tr><td>&hellip;</td><td>&hellip;</td><td>&hellip;</td><td>&hellip;</td><td>&hellip;</td><td>&hellip;</td><td>&hellip;</td><td>&hellip;</td><td>&hellip;</td><td>&hellip;</td><td>&hellip;</td><td>&hellip;</td><td>&hellip;</td><td>&hellip;</td><td>&hellip;</td><td>&hellip;</td></tr><tr><td>&quot;2023-02-25 21:00:00&quot;</td><td>542</td><td>null</td><td>44.0</td><td>-3.086759</td><td>-5.321074</td><td>0.739758</td><td>0.942859</td><td>0.748293</td><td>0.955175</td><td>-3.73673</td><td>-7.943222</td><td>0.0</td><td>0.0</td><td>0.000057</td><td>0.000057</td></tr><tr><td>&quot;2023-02-27 15:00:00&quot;</td><td>544</td><td>null</td><td>38.0</td><td>-2.958223</td><td>-5.219591</td><td>0.231138</td><td>0.465095</td><td>0.008772</td><td>0.525808</td><td>3.614254</td><td>1.136308</td><td>414.168333</td><td>183.839881</td><td>1.5966e-7</td><td>7.8763e-8</td></tr><tr><td>&quot;2022-06-18 06:00:00&quot;</td><td>290</td><td>null</td><td>28.0</td><td>14.00735</td><td>12.099392</td><td>0.999698</td><td>0.017041</td><td>0.60023</td><td>0.999998</td><td>1.996138</td><td>3.770625</td><td>77.048254</td><td>108.461587</td><td>0.0</td><td>0.000002</td></tr><tr><td>&quot;2022-01-30 00:00:00&quot;</td><td>150</td><td>null</td><td>47.0</td><td>1.290996</td><td>-0.116119</td><td>0.253062</td><td>0.99653</td><td>0.933028</td><td>0.999971</td><td>1.889387</td><td>9.336265</td><td>0.0</td><td>0.0</td><td>0.000676</td><td>0.000913</td></tr><tr><td>&quot;2022-09-26 15:00:00&quot;</td><td>391</td><td>null</td><td>13.0</td><td>13.003089</td><td>6.883993</td><td>0.185904</td><td>0.257415</td><td>0.177435</td><td>0.451789</td><td>-1.710348</td><td>4.412304</td><td>534.608031</td><td>316.265992</td><td>0.0</td><td>0.000018</td></tr></tbody></table></div>"
      ],
      "text/plain": [
       "shape: (30_572, 16)\n",
       "┌───────────┬───────────┬───────────┬───────────┬───┬───────────┬───────────┬───────────┬──────────┐\n",
       "│ forecast_ ┆ data_bloc ┆ origin_da ┆ hours_ahe ┆ … ┆ direct_so ┆ surface_s ┆ snowfall  ┆ total_pr │\n",
       "│ datetime  ┆ k_id      ┆ tetime    ┆ ad        ┆   ┆ lar_radia ┆ olar_radi ┆ ---       ┆ ecipitat │\n",
       "│ ---       ┆ ---       ┆ ---       ┆ ---       ┆   ┆ tion      ┆ ation_dow ┆ f64       ┆ ion      │\n",
       "│ str       ┆ i64       ┆ str       ┆ f64       ┆   ┆ ---       ┆ nwa…      ┆           ┆ ---      │\n",
       "│           ┆           ┆           ┆           ┆   ┆ f64       ┆ ---       ┆           ┆ f64      │\n",
       "│           ┆           ┆           ┆           ┆   ┆           ┆ f64       ┆           ┆          │\n",
       "╞═══════════╪═══════════╪═══════════╪═══════════╪═══╪═══════════╪═══════════╪═══════════╪══════════╡\n",
       "│ 2021-11-0 ┆ 65        ┆ null      ┆ 25.0      ┆ … ┆ 0.0       ┆ 0.0       ┆ 0.0       ┆ 0.000828 │\n",
       "│ 5         ┆           ┆           ┆           ┆   ┆           ┆           ┆           ┆          │\n",
       "│ 02:00:00  ┆           ┆           ┆           ┆   ┆           ┆           ┆           ┆          │\n",
       "│ 2023-01-1 ┆ 498       ┆ null      ┆ 48.0      ┆ … ┆ 0.0       ┆ 0.0       ┆ 0.000116  ┆ 0.000515 │\n",
       "│ 3         ┆           ┆           ┆           ┆   ┆           ┆           ┆           ┆          │\n",
       "│ 01:00:00  ┆           ┆           ┆           ┆   ┆           ┆           ┆           ┆          │\n",
       "│ 2022-11-0 ┆ 432       ┆ null      ┆ 29.0      ┆ … ┆ 0.0       ┆ 0.0       ┆ 0.0       ┆ 0.000066 │\n",
       "│ 7         ┆           ┆           ┆           ┆   ┆           ┆           ┆           ┆          │\n",
       "│ 06:00:00  ┆           ┆           ┆           ┆   ┆           ┆           ┆           ┆          │\n",
       "│ 2021-11-2 ┆ 86        ┆ null      ┆ 45.0      ┆ … ┆ 0.0       ┆ 0.0       ┆ 0.000109  ┆ 0.000138 │\n",
       "│ 6         ┆           ┆           ┆           ┆   ┆           ┆           ┆           ┆          │\n",
       "│ 22:00:00  ┆           ┆           ┆           ┆   ┆           ┆           ┆           ┆          │\n",
       "│ 2023-04-0 ┆ 583       ┆ null      ┆ 13.0      ┆ … ┆ 631.91492 ┆ 456.69464 ┆ 0.0       ┆ 6.4926e- │\n",
       "│ 6         ┆           ┆           ┆           ┆   ┆ 1         ┆ 3         ┆           ┆ 7        │\n",
       "│ 15:00:00  ┆           ┆           ┆           ┆   ┆           ┆           ┆           ┆          │\n",
       "│ …         ┆ …         ┆ …         ┆ …         ┆ … ┆ …         ┆ …         ┆ …         ┆ …        │\n",
       "│ 2023-02-2 ┆ 542       ┆ null      ┆ 44.0      ┆ … ┆ 0.0       ┆ 0.0       ┆ 0.000057  ┆ 0.000057 │\n",
       "│ 5         ┆           ┆           ┆           ┆   ┆           ┆           ┆           ┆          │\n",
       "│ 21:00:00  ┆           ┆           ┆           ┆   ┆           ┆           ┆           ┆          │\n",
       "│ 2023-02-2 ┆ 544       ┆ null      ┆ 38.0      ┆ … ┆ 414.16833 ┆ 183.83988 ┆ 1.5966e-7 ┆ 7.8763e- │\n",
       "│ 7         ┆           ┆           ┆           ┆   ┆ 3         ┆ 1         ┆           ┆ 8        │\n",
       "│ 15:00:00  ┆           ┆           ┆           ┆   ┆           ┆           ┆           ┆          │\n",
       "│ 2022-06-1 ┆ 290       ┆ null      ┆ 28.0      ┆ … ┆ 77.048254 ┆ 108.46158 ┆ 0.0       ┆ 0.000002 │\n",
       "│ 8         ┆           ┆           ┆           ┆   ┆           ┆ 7         ┆           ┆          │\n",
       "│ 06:00:00  ┆           ┆           ┆           ┆   ┆           ┆           ┆           ┆          │\n",
       "│ 2022-01-3 ┆ 150       ┆ null      ┆ 47.0      ┆ … ┆ 0.0       ┆ 0.0       ┆ 0.000676  ┆ 0.000913 │\n",
       "│ 0         ┆           ┆           ┆           ┆   ┆           ┆           ┆           ┆          │\n",
       "│ 00:00:00  ┆           ┆           ┆           ┆   ┆           ┆           ┆           ┆          │\n",
       "│ 2022-09-2 ┆ 391       ┆ null      ┆ 13.0      ┆ … ┆ 534.60803 ┆ 316.26599 ┆ 0.0       ┆ 0.000018 │\n",
       "│ 6         ┆           ┆           ┆           ┆   ┆ 1         ┆ 2         ┆           ┆          │\n",
       "│ 15:00:00  ┆           ┆           ┆           ┆   ┆           ┆           ┆           ┆          │\n",
       "└───────────┴───────────┴───────────┴───────────┴───┴───────────┴───────────┴───────────┴──────────┘"
      ]
     },
     "execution_count": 14,
     "metadata": {},
     "output_type": "execute_result"
    }
   ],
   "source": [
    "agg_columns = [col for col in dfs[\"forecast_weather\"].columns \n",
    "               if col not in [\"latitude\", \"longitude\"] + \n",
    "               [\"forecast_datetime\", 'data_block_id']]\n",
    "agg_dict = {agg_col: [\"mean\"] for agg_col in agg_columns}\n",
    "\n",
    "dfs[\"forecast_weather\"].group_by([\"forecast_datetime\", 'data_block_id']).agg(\n",
    "    pl.mean(agg_columns)\n",
    ")"
   ]
  },
  {
   "cell_type": "code",
   "execution_count": 15,
   "metadata": {},
   "outputs": [
    {
     "data": {
      "text/html": [
       "<div><style>\n",
       ".dataframe > thead > tr,\n",
       ".dataframe > tbody > tr {\n",
       "  text-align: right;\n",
       "  white-space: pre-wrap;\n",
       "}\n",
       "</style>\n",
       "<small>shape: (5, 18)</small><table border=\"1\" class=\"dataframe\"><thead><tr><th>latitude</th><th>longitude</th><th>origin_datetime</th><th>hours_ahead</th><th>temperature</th><th>dewpoint</th><th>cloudcover_high</th><th>cloudcover_low</th><th>cloudcover_mid</th><th>cloudcover_total</th><th>10_metre_u_wind_component</th><th>10_metre_v_wind_component</th><th>data_block_id</th><th>forecast_datetime</th><th>direct_solar_radiation</th><th>surface_solar_radiation_downwards</th><th>snowfall</th><th>total_precipitation</th></tr><tr><td>f64</td><td>f64</td><td>str</td><td>i64</td><td>f64</td><td>f64</td><td>f64</td><td>f64</td><td>f64</td><td>f64</td><td>f64</td><td>f64</td><td>i64</td><td>str</td><td>f64</td><td>f64</td><td>f64</td><td>f64</td></tr></thead><tbody><tr><td>57.6</td><td>21.7</td><td>&quot;2021-09-01 02:00:00&quot;</td><td>1</td><td>15.655786</td><td>11.553613</td><td>0.904816</td><td>0.019714</td><td>0.0</td><td>0.905899</td><td>-0.411328</td><td>-9.106137</td><td>1</td><td>&quot;2021-09-01 03:00:00&quot;</td><td>0.0</td><td>0.0</td><td>0.0</td><td>0.0</td></tr><tr><td>57.6</td><td>22.2</td><td>&quot;2021-09-01 02:00:00&quot;</td><td>1</td><td>13.003931</td><td>10.689844</td><td>0.886322</td><td>0.004456</td><td>0.0</td><td>0.886658</td><td>0.206347</td><td>-5.355405</td><td>1</td><td>&quot;2021-09-01 03:00:00&quot;</td><td>0.0</td><td>0.0</td><td>0.0</td><td>0.0</td></tr><tr><td>57.6</td><td>22.7</td><td>&quot;2021-09-01 02:00:00&quot;</td><td>1</td><td>14.206567</td><td>11.671777</td><td>0.729034</td><td>0.005615</td><td>0.0</td><td>0.730499</td><td>1.451587</td><td>-7.417905</td><td>1</td><td>&quot;2021-09-01 03:00:00&quot;</td><td>0.0</td><td>0.0</td><td>0.0</td><td>0.0</td></tr><tr><td>57.6</td><td>23.2</td><td>&quot;2021-09-01 02:00:00&quot;</td><td>1</td><td>14.844507</td><td>12.264917</td><td>0.336304</td><td>0.074341</td><td>0.000626</td><td>0.385468</td><td>1.090869</td><td>-9.163999</td><td>1</td><td>&quot;2021-09-01 03:00:00&quot;</td><td>0.0</td><td>0.0</td><td>0.0</td><td>0.0</td></tr><tr><td>57.6</td><td>23.7</td><td>&quot;2021-09-01 02:00:00&quot;</td><td>1</td><td>15.293848</td><td>12.458887</td><td>0.102875</td><td>0.088074</td><td>0.000015</td><td>0.17659</td><td>1.268481</td><td>-8.975766</td><td>1</td><td>&quot;2021-09-01 03:00:00&quot;</td><td>0.0</td><td>0.0</td><td>0.0</td><td>0.0</td></tr></tbody></table></div>"
      ],
      "text/plain": [
       "shape: (5, 18)\n",
       "┌──────────┬───────────┬────────────┬───────────┬───┬───────────┬───────────┬──────────┬───────────┐\n",
       "│ latitude ┆ longitude ┆ origin_dat ┆ hours_ahe ┆ … ┆ direct_so ┆ surface_s ┆ snowfall ┆ total_pre │\n",
       "│ ---      ┆ ---       ┆ etime      ┆ ad        ┆   ┆ lar_radia ┆ olar_radi ┆ ---      ┆ cipitatio │\n",
       "│ f64      ┆ f64       ┆ ---        ┆ ---       ┆   ┆ tion      ┆ ation_dow ┆ f64      ┆ n         │\n",
       "│          ┆           ┆ str        ┆ i64       ┆   ┆ ---       ┆ nwa…      ┆          ┆ ---       │\n",
       "│          ┆           ┆            ┆           ┆   ┆ f64       ┆ ---       ┆          ┆ f64       │\n",
       "│          ┆           ┆            ┆           ┆   ┆           ┆ f64       ┆          ┆           │\n",
       "╞══════════╪═══════════╪════════════╪═══════════╪═══╪═══════════╪═══════════╪══════════╪═══════════╡\n",
       "│ 57.6     ┆ 21.7      ┆ 2021-09-01 ┆ 1         ┆ … ┆ 0.0       ┆ 0.0       ┆ 0.0      ┆ 0.0       │\n",
       "│          ┆           ┆ 02:00:00   ┆           ┆   ┆           ┆           ┆          ┆           │\n",
       "│ 57.6     ┆ 22.2      ┆ 2021-09-01 ┆ 1         ┆ … ┆ 0.0       ┆ 0.0       ┆ 0.0      ┆ 0.0       │\n",
       "│          ┆           ┆ 02:00:00   ┆           ┆   ┆           ┆           ┆          ┆           │\n",
       "│ 57.6     ┆ 22.7      ┆ 2021-09-01 ┆ 1         ┆ … ┆ 0.0       ┆ 0.0       ┆ 0.0      ┆ 0.0       │\n",
       "│          ┆           ┆ 02:00:00   ┆           ┆   ┆           ┆           ┆          ┆           │\n",
       "│ 57.6     ┆ 23.2      ┆ 2021-09-01 ┆ 1         ┆ … ┆ 0.0       ┆ 0.0       ┆ 0.0      ┆ 0.0       │\n",
       "│          ┆           ┆ 02:00:00   ┆           ┆   ┆           ┆           ┆          ┆           │\n",
       "│ 57.6     ┆ 23.7      ┆ 2021-09-01 ┆ 1         ┆ … ┆ 0.0       ┆ 0.0       ┆ 0.0      ┆ 0.0       │\n",
       "│          ┆           ┆ 02:00:00   ┆           ┆   ┆           ┆           ┆          ┆           │\n",
       "└──────────┴───────────┴────────────┴───────────┴───┴───────────┴───────────┴──────────┴───────────┘"
      ]
     },
     "execution_count": 15,
     "metadata": {},
     "output_type": "execute_result"
    }
   ],
   "source": [
    "dfs[\"forecast_weather\"].head()\n"
   ]
  },
  {
   "cell_type": "code",
   "execution_count": 32,
   "metadata": {},
   "outputs": [],
   "source": [
    "result = dfs[\"train\"].with_columns(\n",
    "    pl.col(\"datetime\").str.strptime(\n",
    "        pl.Datetime, \"%Y-%m-%d %H:%M:%S\"\n",
    "    )\n",
    ")"
   ]
  },
  {
   "cell_type": "code",
   "execution_count": 33,
   "metadata": {},
   "outputs": [
    {
     "data": {
      "text/html": [
       "<div><style>\n",
       ".dataframe > thead > tr,\n",
       ".dataframe > tbody > tr {\n",
       "  text-align: right;\n",
       "  white-space: pre-wrap;\n",
       "}\n",
       "</style>\n",
       "<small>shape: (2_018_352, 9)</small><table border=\"1\" class=\"dataframe\"><thead><tr><th>county</th><th>is_business</th><th>product_type</th><th>target</th><th>is_consumption</th><th>datetime</th><th>data_block_id</th><th>row_id</th><th>prediction_unit_id</th></tr><tr><td>i64</td><td>i64</td><td>i64</td><td>f64</td><td>i64</td><td>datetime[μs]</td><td>i64</td><td>i64</td><td>i64</td></tr></thead><tbody><tr><td>0</td><td>0</td><td>1</td><td>0.713</td><td>0</td><td>2021-09-01 00:00:00</td><td>0</td><td>0</td><td>0</td></tr><tr><td>0</td><td>0</td><td>1</td><td>96.59</td><td>1</td><td>2021-09-01 00:00:00</td><td>0</td><td>1</td><td>0</td></tr><tr><td>0</td><td>0</td><td>2</td><td>0.0</td><td>0</td><td>2021-09-01 00:00:00</td><td>0</td><td>2</td><td>1</td></tr><tr><td>0</td><td>0</td><td>2</td><td>17.314</td><td>1</td><td>2021-09-01 00:00:00</td><td>0</td><td>3</td><td>1</td></tr><tr><td>0</td><td>0</td><td>3</td><td>2.904</td><td>0</td><td>2021-09-01 00:00:00</td><td>0</td><td>4</td><td>2</td></tr><tr><td>&hellip;</td><td>&hellip;</td><td>&hellip;</td><td>&hellip;</td><td>&hellip;</td><td>&hellip;</td><td>&hellip;</td><td>&hellip;</td><td>&hellip;</td></tr><tr><td>15</td><td>1</td><td>0</td><td>197.233</td><td>1</td><td>2023-05-31 23:00:00</td><td>637</td><td>2018347</td><td>64</td></tr><tr><td>15</td><td>1</td><td>1</td><td>0.0</td><td>0</td><td>2023-05-31 23:00:00</td><td>637</td><td>2018348</td><td>59</td></tr><tr><td>15</td><td>1</td><td>1</td><td>28.404</td><td>1</td><td>2023-05-31 23:00:00</td><td>637</td><td>2018349</td><td>59</td></tr><tr><td>15</td><td>1</td><td>3</td><td>0.0</td><td>0</td><td>2023-05-31 23:00:00</td><td>637</td><td>2018350</td><td>60</td></tr><tr><td>15</td><td>1</td><td>3</td><td>196.24</td><td>1</td><td>2023-05-31 23:00:00</td><td>637</td><td>2018351</td><td>60</td></tr></tbody></table></div>"
      ],
      "text/plain": [
       "shape: (2_018_352, 9)\n",
       "┌────────┬─────────────┬────────────┬─────────┬───┬────────────┬────────────┬─────────┬────────────┐\n",
       "│ county ┆ is_business ┆ product_ty ┆ target  ┆ … ┆ datetime   ┆ data_block ┆ row_id  ┆ prediction │\n",
       "│ ---    ┆ ---         ┆ pe         ┆ ---     ┆   ┆ ---        ┆ _id        ┆ ---     ┆ _unit_id   │\n",
       "│ i64    ┆ i64         ┆ ---        ┆ f64     ┆   ┆ datetime[μ ┆ ---        ┆ i64     ┆ ---        │\n",
       "│        ┆             ┆ i64        ┆         ┆   ┆ s]         ┆ i64        ┆         ┆ i64        │\n",
       "╞════════╪═════════════╪════════════╪═════════╪═══╪════════════╪════════════╪═════════╪════════════╡\n",
       "│ 0      ┆ 0           ┆ 1          ┆ 0.713   ┆ … ┆ 2021-09-01 ┆ 0          ┆ 0       ┆ 0          │\n",
       "│        ┆             ┆            ┆         ┆   ┆ 00:00:00   ┆            ┆         ┆            │\n",
       "│ 0      ┆ 0           ┆ 1          ┆ 96.59   ┆ … ┆ 2021-09-01 ┆ 0          ┆ 1       ┆ 0          │\n",
       "│        ┆             ┆            ┆         ┆   ┆ 00:00:00   ┆            ┆         ┆            │\n",
       "│ 0      ┆ 0           ┆ 2          ┆ 0.0     ┆ … ┆ 2021-09-01 ┆ 0          ┆ 2       ┆ 1          │\n",
       "│        ┆             ┆            ┆         ┆   ┆ 00:00:00   ┆            ┆         ┆            │\n",
       "│ 0      ┆ 0           ┆ 2          ┆ 17.314  ┆ … ┆ 2021-09-01 ┆ 0          ┆ 3       ┆ 1          │\n",
       "│        ┆             ┆            ┆         ┆   ┆ 00:00:00   ┆            ┆         ┆            │\n",
       "│ 0      ┆ 0           ┆ 3          ┆ 2.904   ┆ … ┆ 2021-09-01 ┆ 0          ┆ 4       ┆ 2          │\n",
       "│        ┆             ┆            ┆         ┆   ┆ 00:00:00   ┆            ┆         ┆            │\n",
       "│ …      ┆ …           ┆ …          ┆ …       ┆ … ┆ …          ┆ …          ┆ …       ┆ …          │\n",
       "│ 15     ┆ 1           ┆ 0          ┆ 197.233 ┆ … ┆ 2023-05-31 ┆ 637        ┆ 2018347 ┆ 64         │\n",
       "│        ┆             ┆            ┆         ┆   ┆ 23:00:00   ┆            ┆         ┆            │\n",
       "│ 15     ┆ 1           ┆ 1          ┆ 0.0     ┆ … ┆ 2023-05-31 ┆ 637        ┆ 2018348 ┆ 59         │\n",
       "│        ┆             ┆            ┆         ┆   ┆ 23:00:00   ┆            ┆         ┆            │\n",
       "│ 15     ┆ 1           ┆ 1          ┆ 28.404  ┆ … ┆ 2023-05-31 ┆ 637        ┆ 2018349 ┆ 59         │\n",
       "│        ┆             ┆            ┆         ┆   ┆ 23:00:00   ┆            ┆         ┆            │\n",
       "│ 15     ┆ 1           ┆ 3          ┆ 0.0     ┆ … ┆ 2023-05-31 ┆ 637        ┆ 2018350 ┆ 60         │\n",
       "│        ┆             ┆            ┆         ┆   ┆ 23:00:00   ┆            ┆         ┆            │\n",
       "│ 15     ┆ 1           ┆ 3          ┆ 196.24  ┆ … ┆ 2023-05-31 ┆ 637        ┆ 2018351 ┆ 60         │\n",
       "│        ┆             ┆            ┆         ┆   ┆ 23:00:00   ┆            ┆         ┆            │\n",
       "└────────┴─────────────┴────────────┴─────────┴───┴────────────┴────────────┴─────────┴────────────┘"
      ]
     },
     "execution_count": 33,
     "metadata": {},
     "output_type": "execute_result"
    }
   ],
   "source": [
    "result"
   ]
  },
  {
   "cell_type": "code",
   "execution_count": 42,
   "metadata": {},
   "outputs": [],
   "source": [
    "result = result.with_columns([\n",
    "    pl.col(\"datetime\").dt.truncate(\"1d\").cast(pl.Date).alias(\"date\"),\n",
    "    pl.col(\"datetime\").dt.year().alias(\"year\")\n",
    "])"
   ]
  }
 ],
 "metadata": {
  "kernelspec": {
   "display_name": ".venv",
   "language": "python",
   "name": "python3"
  },
  "language_info": {
   "codemirror_mode": {
    "name": "ipython",
    "version": 3
   },
   "file_extension": ".py",
   "mimetype": "text/x-python",
   "name": "python",
   "nbconvert_exporter": "python",
   "pygments_lexer": "ipython3",
   "version": "3.10.16"
  }
 },
 "nbformat": 4,
 "nbformat_minor": 2
}
