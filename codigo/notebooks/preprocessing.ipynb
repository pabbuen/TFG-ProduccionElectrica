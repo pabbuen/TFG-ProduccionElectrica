{
 "cells": [
  {
   "cell_type": "markdown",
   "metadata": {},
   "source": [
    "## Carga de datos\n",
    "\n",
    "Antes de poder manipular los diferentes datos, primero es necesário\n",
    "cargarlos en el sistema"
   ]
  },
  {
   "cell_type": "code",
   "execution_count": 100,
   "metadata": {},
   "outputs": [],
   "source": [
    "import polars as pl\n",
    "import numpy as np \n",
    "from pathlib import Path\n",
    "from sklearn.metrics.pairwise import haversine_distances"
   ]
  },
  {
   "cell_type": "code",
   "execution_count": 101,
   "metadata": {},
   "outputs": [],
   "source": [
    "# Directório de archivos\n",
    "data_folder = Path(\"../data\")\n",
    "\n",
    "# Diccionario de archivos\n",
    "files = {\n",
    "    \"train\"              : \"train.csv\",\n",
    "    \"gas_prices\"         : \"gas_prices.csv\",\n",
    "    \"client\"             : \"client.csv\",\n",
    "    \"electricity_prices\" : \"electricity_prices.csv\",\n",
    "    \"forecast_weather\"   : \"forecast_weather.csv\",\n",
    "    \"historical_weather\" : \"historical_weather.csv\",\n",
    "    \"weather_station\"    : \"weather_station_to_county_mapping.csv\"\n",
    "}"
   ]
  },
  {
   "cell_type": "code",
   "execution_count": 102,
   "metadata": {},
   "outputs": [
    {
     "name": "stdout",
     "output_type": "stream",
     "text": [
      "Archivo train cargado con exito.\n",
      "Archivo gas_prices cargado con exito.\n",
      "Archivo client cargado con exito.\n",
      "Archivo electricity_prices cargado con exito.\n",
      "Archivo forecast_weather cargado con exito.\n",
      "Archivo historical_weather cargado con exito.\n",
      "Archivo weather_station cargado con exito.\n"
     ]
    }
   ],
   "source": [
    "# Se crea un diccionario de DataFrames para acceder facilmente a todos\n",
    "# y poder iterar sobre ellos si es necesário\n",
    "dfs: dict[str, pl.DataFrame] = {}\n",
    "\n",
    "for key, filename in files.items():\n",
    "    filepath = data_folder / filename\n",
    "    try:\n",
    "        df = pl.read_csv(filepath)\n",
    "        dfs[key] = df\n",
    "        print(f\"Archivo {key} cargado con exito.\")\n",
    "    except:\n",
    "        print(f\"No pudo cargarse el archivo {key}.\")\n",
    "    "
   ]
  },
  {
   "cell_type": "markdown",
   "metadata": {},
   "source": [
    "## Asignación de longitud/latitud a un condado especifico\n",
    "\n",
    "Con el fin de poder unir los csv de \"train.csv\" y \"forecast_weather.csv\"\n",
    "es necesario poder asignar a cada longitud y latitud, su condado\n",
    "correspondiente.\n",
    "\n",
    "Para ello se utilizará el archivo \"weather_station_to_county_mapping\" con datos que asignan latitudes y longitudes a su correspondiente condado."
   ]
  },
  {
   "cell_type": "markdown",
   "metadata": {},
   "source": [
    "### Visualización de los datos"
   ]
  },
  {
   "cell_type": "code",
   "execution_count": 103,
   "metadata": {},
   "outputs": [
    {
     "data": {
      "text/html": [
       "<div><style>\n",
       ".dataframe > thead > tr,\n",
       ".dataframe > tbody > tr {\n",
       "  text-align: right;\n",
       "  white-space: pre-wrap;\n",
       "}\n",
       "</style>\n",
       "<small>shape: (49, 4)</small><table border=\"1\" class=\"dataframe\"><thead><tr><th>county_name</th><th>longitude</th><th>latitude</th><th>county</th></tr><tr><td>str</td><td>f64</td><td>f64</td><td>i64</td></tr></thead><tbody><tr><td>&quot;Saaremaa&quot;</td><td>22.2</td><td>58.2</td><td>10</td></tr><tr><td>&quot;Saaremaa&quot;</td><td>22.2</td><td>58.5</td><td>10</td></tr><tr><td>&quot;Saaremaa&quot;</td><td>22.7</td><td>58.5</td><td>10</td></tr><tr><td>&quot;Hiiumaa&quot;</td><td>22.7</td><td>58.8</td><td>1</td></tr><tr><td>&quot;Saaremaa&quot;</td><td>23.2</td><td>58.5</td><td>10</td></tr><tr><td>&hellip;</td><td>&hellip;</td><td>&hellip;</td><td>&hellip;</td></tr><tr><td>&quot;Ida-Virumaa&quot;</td><td>27.2</td><td>59.1</td><td>2</td></tr><tr><td>&quot;Ida-Virumaa&quot;</td><td>27.2</td><td>59.4</td><td>2</td></tr><tr><td>&quot;Võrumaa&quot;</td><td>27.7</td><td>57.9</td><td>15</td></tr><tr><td>&quot;Ida-Virumaa&quot;</td><td>27.7</td><td>59.1</td><td>2</td></tr><tr><td>&quot;Ida-Virumaa&quot;</td><td>27.7</td><td>59.4</td><td>2</td></tr></tbody></table></div>"
      ],
      "text/plain": [
       "shape: (49, 4)\n",
       "┌─────────────┬───────────┬──────────┬────────┐\n",
       "│ county_name ┆ longitude ┆ latitude ┆ county │\n",
       "│ ---         ┆ ---       ┆ ---      ┆ ---    │\n",
       "│ str         ┆ f64       ┆ f64      ┆ i64    │\n",
       "╞═════════════╪═══════════╪══════════╪════════╡\n",
       "│ Saaremaa    ┆ 22.2      ┆ 58.2     ┆ 10     │\n",
       "│ Saaremaa    ┆ 22.2      ┆ 58.5     ┆ 10     │\n",
       "│ Saaremaa    ┆ 22.7      ┆ 58.5     ┆ 10     │\n",
       "│ Hiiumaa     ┆ 22.7      ┆ 58.8     ┆ 1      │\n",
       "│ Saaremaa    ┆ 23.2      ┆ 58.5     ┆ 10     │\n",
       "│ …           ┆ …         ┆ …        ┆ …      │\n",
       "│ Ida-Virumaa ┆ 27.2      ┆ 59.1     ┆ 2      │\n",
       "│ Ida-Virumaa ┆ 27.2      ┆ 59.4     ┆ 2      │\n",
       "│ Võrumaa     ┆ 27.7      ┆ 57.9     ┆ 15     │\n",
       "│ Ida-Virumaa ┆ 27.7      ┆ 59.1     ┆ 2      │\n",
       "│ Ida-Virumaa ┆ 27.7      ┆ 59.4     ┆ 2      │\n",
       "└─────────────┴───────────┴──────────┴────────┘"
      ]
     },
     "execution_count": 103,
     "metadata": {},
     "output_type": "execute_result"
    }
   ],
   "source": [
    "# Se eliminan las filas con instancias nulas\n",
    "weather_station = dfs[\"weather_station\"].drop_nulls()\n",
    "weather_station"
   ]
  },
  {
   "cell_type": "code",
   "execution_count": 104,
   "metadata": {},
   "outputs": [
    {
     "data": {
      "text/html": [
       "<div><style>\n",
       ".dataframe > thead > tr,\n",
       ".dataframe > tbody > tr {\n",
       "  text-align: right;\n",
       "  white-space: pre-wrap;\n",
       "}\n",
       "</style>\n",
       "<small>shape: (6, 4)</small><table border=\"1\" class=\"dataframe\"><thead><tr><th>latitude</th><th>longitude</th><th>lat_rad</th><th>lon_rad</th></tr><tr><td>f64</td><td>f64</td><td>f64</td><td>f64</td></tr></thead><tbody><tr><td>59.7</td><td>28.2</td><td>1.041962</td><td>0.492183</td></tr><tr><td>57.6</td><td>26.7</td><td>1.00531</td><td>0.466003</td></tr><tr><td>58.5</td><td>26.2</td><td>1.021018</td><td>0.457276</td></tr><tr><td>58.5</td><td>22.7</td><td>1.021018</td><td>0.39619</td></tr><tr><td>58.2</td><td>26.7</td><td>1.015782</td><td>0.466003</td></tr><tr><td>57.9</td><td>28.2</td><td>1.010546</td><td>0.492183</td></tr></tbody></table></div>"
      ],
      "text/plain": [
       "shape: (6, 4)\n",
       "┌──────────┬───────────┬──────────┬──────────┐\n",
       "│ latitude ┆ longitude ┆ lat_rad  ┆ lon_rad  │\n",
       "│ ---      ┆ ---       ┆ ---      ┆ ---      │\n",
       "│ f64      ┆ f64       ┆ f64      ┆ f64      │\n",
       "╞══════════╪═══════════╪══════════╪══════════╡\n",
       "│ 59.7     ┆ 28.2      ┆ 1.041962 ┆ 0.492183 │\n",
       "│ 57.6     ┆ 26.7      ┆ 1.00531  ┆ 0.466003 │\n",
       "│ 58.5     ┆ 26.2      ┆ 1.021018 ┆ 0.457276 │\n",
       "│ 58.5     ┆ 22.7      ┆ 1.021018 ┆ 0.39619  │\n",
       "│ 58.2     ┆ 26.7      ┆ 1.015782 ┆ 0.466003 │\n",
       "│ 57.9     ┆ 28.2      ┆ 1.010546 ┆ 0.492183 │\n",
       "└──────────┴───────────┴──────────┴──────────┘"
      ]
     },
     "metadata": {},
     "output_type": "display_data"
    },
    {
     "data": {
      "text/plain": [
       "array([[59.7       , 28.2       ,  1.04196156,  0.49218285],\n",
       "       [57.6       , 26.7       ,  1.00530965,  0.46600291],\n",
       "       [58.5       , 26.2       ,  1.02101761,  0.45727626],\n",
       "       [58.5       , 22.7       ,  1.02101761,  0.39618974],\n",
       "       [58.2       , 26.7       ,  1.01578162,  0.46600291],\n",
       "       [57.9       , 28.2       ,  1.01054564,  0.49218285]])"
      ]
     },
     "metadata": {},
     "output_type": "display_data"
    }
   ],
   "source": [
    "coords = dfs[\"historical_weather\"].select([\"latitude\", \"longitude\"]).unique()\n",
    "stations = dfs[\"weather_station\"][\"latitude\", \"longitude\", \"county\"].drop_nulls()\n",
    "\n",
    "coords = coords.with_columns(\n",
    "    pl.col(\"latitude\").radians().alias(\"lat_rad\"),\n",
    "    pl.col(\"longitude\").radians().alias(\"lon_rad\")\n",
    ")\n",
    "stations = stations.with_columns(\n",
    "    pl.exclude(\"county\").radians()\n",
    ")\n",
    "\n",
    "coords_array = coords.to_numpy()\n",
    "stations_array = stations.to_numpy()\n",
    "display(coords[:6])\n",
    "display(coords_array[:6])"
   ]
  },
  {
   "cell_type": "code",
   "execution_count": 105,
   "metadata": {},
   "outputs": [
    {
     "data": {
      "text/plain": [
       "array([ 2, 15,  4, 10, 11, 15,  5,  7, 11,  3,  2,  1, 15,  2, 10,  7,  1,\n",
       "        7, 10,  2,  0, 13, 15, 10, 10, 15, 15,  4, 13, 13, 11,  6,  9,  9,\n",
       "        0,  0,  1, 10,  9,  7, 10,  7, 10,  5,  0,  0, 14,  7,  0, 15,  0,\n",
       "        1,  2,  6, 15,  6,  1,  2,  7,  3, 10,  5,  0,  7,  1, 15,  5,  5,\n",
       "        1, 11, 15, 11,  6,  7,  7,  6,  2,  0,  7,  0, 14,  5, 10, 10,  6,\n",
       "        0,  7, 10,  2, 14,  4,  3, 10,  7,  2,  7,  6,  8, 10,  1,  4,  0,\n",
       "        2,  8, 11, 10, 10,  0,  1, 10,  7,  2])"
      ]
     },
     "execution_count": 105,
     "metadata": {},
     "output_type": "execute_result"
    }
   ],
   "source": [
    "counties = np.array([], np.int32)\n",
    "for coord in coords_array[:, 2:4]:\n",
    "    cnty = -1\n",
    "    min_dist = float(\"inf\")\n",
    "    county_zip = zip(stations_array[:, :2], stations_array[:, 2])\n",
    "    \n",
    "    for lat_lon, county in county_zip:\n",
    "        dist = haversine_distances([coord, lat_lon])[0, 1]\n",
    "        \n",
    "        if dist < min_dist:\n",
    "            min_dist = dist\n",
    "            cnty = county\n",
    "        \n",
    "    counties = np.append(\n",
    "        counties,\n",
    "        int(cnty)\n",
    "    )\n",
    "\n",
    "counties"
   ]
  },
  {
   "cell_type": "code",
   "execution_count": 106,
   "metadata": {},
   "outputs": [
    {
     "data": {
      "text/html": [
       "<div><style>\n",
       ".dataframe > thead > tr,\n",
       ".dataframe > tbody > tr {\n",
       "  text-align: right;\n",
       "  white-space: pre-wrap;\n",
       "}\n",
       "</style>\n",
       "<small>shape: (112, 5)</small><table border=\"1\" class=\"dataframe\"><thead><tr><th>latitude</th><th>longitude</th><th>lat_rad</th><th>lon_rad</th><th>county</th></tr><tr><td>f64</td><td>f64</td><td>f64</td><td>f64</td><td>i64</td></tr></thead><tbody><tr><td>59.7</td><td>28.2</td><td>1.041962</td><td>0.492183</td><td>2</td></tr><tr><td>57.6</td><td>26.7</td><td>1.00531</td><td>0.466003</td><td>15</td></tr><tr><td>58.5</td><td>26.2</td><td>1.021018</td><td>0.457276</td><td>4</td></tr><tr><td>58.5</td><td>22.7</td><td>1.021018</td><td>0.39619</td><td>10</td></tr><tr><td>58.2</td><td>26.7</td><td>1.015782</td><td>0.466003</td><td>11</td></tr><tr><td>&hellip;</td><td>&hellip;</td><td>&hellip;</td><td>&hellip;</td><td>&hellip;</td></tr><tr><td>59.1</td><td>24.2</td><td>1.03149</td><td>0.42237</td><td>0</td></tr><tr><td>59.4</td><td>22.2</td><td>1.036726</td><td>0.387463</td><td>1</td></tr><tr><td>57.9</td><td>23.2</td><td>1.010546</td><td>0.404916</td><td>10</td></tr><tr><td>57.9</td><td>25.2</td><td>1.010546</td><td>0.439823</td><td>7</td></tr><tr><td>59.4</td><td>27.7</td><td>1.036726</td><td>0.483456</td><td>2</td></tr></tbody></table></div>"
      ],
      "text/plain": [
       "shape: (112, 5)\n",
       "┌──────────┬───────────┬──────────┬──────────┬────────┐\n",
       "│ latitude ┆ longitude ┆ lat_rad  ┆ lon_rad  ┆ county │\n",
       "│ ---      ┆ ---       ┆ ---      ┆ ---      ┆ ---    │\n",
       "│ f64      ┆ f64       ┆ f64      ┆ f64      ┆ i64    │\n",
       "╞══════════╪═══════════╪══════════╪══════════╪════════╡\n",
       "│ 59.7     ┆ 28.2      ┆ 1.041962 ┆ 0.492183 ┆ 2      │\n",
       "│ 57.6     ┆ 26.7      ┆ 1.00531  ┆ 0.466003 ┆ 15     │\n",
       "│ 58.5     ┆ 26.2      ┆ 1.021018 ┆ 0.457276 ┆ 4      │\n",
       "│ 58.5     ┆ 22.7      ┆ 1.021018 ┆ 0.39619  ┆ 10     │\n",
       "│ 58.2     ┆ 26.7      ┆ 1.015782 ┆ 0.466003 ┆ 11     │\n",
       "│ …        ┆ …         ┆ …        ┆ …        ┆ …      │\n",
       "│ 59.1     ┆ 24.2      ┆ 1.03149  ┆ 0.42237  ┆ 0      │\n",
       "│ 59.4     ┆ 22.2      ┆ 1.036726 ┆ 0.387463 ┆ 1      │\n",
       "│ 57.9     ┆ 23.2      ┆ 1.010546 ┆ 0.404916 ┆ 10     │\n",
       "│ 57.9     ┆ 25.2      ┆ 1.010546 ┆ 0.439823 ┆ 7      │\n",
       "│ 59.4     ┆ 27.7      ┆ 1.036726 ┆ 0.483456 ┆ 2      │\n",
       "└──────────┴───────────┴──────────┴──────────┴────────┘"
      ]
     },
     "execution_count": 106,
     "metadata": {},
     "output_type": "execute_result"
    }
   ],
   "source": [
    "coords = coords.with_columns(\n",
    "    pl.lit(counties).alias(\"county\")\n",
    ")\n",
    "coords"
   ]
  },
  {
   "cell_type": "code",
   "execution_count": 107,
   "metadata": {},
   "outputs": [
    {
     "data": {
      "text/html": [
       "<div><style>\n",
       ".dataframe > thead > tr,\n",
       ".dataframe > tbody > tr {\n",
       "  text-align: right;\n",
       "  white-space: pre-wrap;\n",
       "}\n",
       "</style>\n",
       "<small>shape: (9, 20)</small><table border=\"1\" class=\"dataframe\"><thead><tr><th>statistic</th><th>datetime</th><th>temperature</th><th>dewpoint</th><th>rain</th><th>snowfall</th><th>surface_pressure</th><th>cloudcover_total</th><th>cloudcover_low</th><th>cloudcover_mid</th><th>cloudcover_high</th><th>windspeed_10m</th><th>winddirection_10m</th><th>shortwave_radiation</th><th>direct_solar_radiation</th><th>diffuse_radiation</th><th>latitude</th><th>longitude</th><th>data_block_id</th><th>county</th></tr><tr><td>str</td><td>str</td><td>f64</td><td>f64</td><td>f64</td><td>f64</td><td>f64</td><td>f64</td><td>f64</td><td>f64</td><td>f64</td><td>f64</td><td>f64</td><td>f64</td><td>f64</td><td>f64</td><td>f64</td><td>f64</td><td>f64</td><td>f64</td></tr></thead><tbody><tr><td>&quot;count&quot;</td><td>&quot;1710802&quot;</td><td>1.710802e6</td><td>1.710802e6</td><td>1.710802e6</td><td>1.710802e6</td><td>1.710802e6</td><td>1.710802e6</td><td>1.710802e6</td><td>1.710802e6</td><td>1.710802e6</td><td>1.710802e6</td><td>1.710802e6</td><td>1.710802e6</td><td>1.710802e6</td><td>1.710802e6</td><td>1.710802e6</td><td>1.710802e6</td><td>1.710802e6</td><td>1.710802e6</td></tr><tr><td>&quot;null_count&quot;</td><td>&quot;0&quot;</td><td>0.0</td><td>0.0</td><td>0.0</td><td>0.0</td><td>0.0</td><td>0.0</td><td>0.0</td><td>0.0</td><td>0.0</td><td>0.0</td><td>0.0</td><td>0.0</td><td>0.0</td><td>0.0</td><td>0.0</td><td>0.0</td><td>0.0</td><td>0.0</td></tr><tr><td>&quot;mean&quot;</td><td>null</td><td>5.740968</td><td>2.240312</td><td>0.04962</td><td>0.016049</td><td>1009.281515</td><td>60.912696</td><td>46.685927</td><td>34.40698</td><td>36.051408</td><td>4.849871</td><td>197.869419</td><td>106.490504</td><td>64.452917</td><td>42.037587</td><td>58.649999</td><td>24.949999</td><td>319.270778</td><td>6.633931</td></tr><tr><td>&quot;std&quot;</td><td>null</td><td>8.025647</td><td>7.224357</td><td>0.207911</td><td>0.074629</td><td>13.088915</td><td>37.769048</td><td>40.747598</td><td>38.327693</td><td>41.358521</td><td>2.47545</td><td>89.937978</td><td>179.944912</td><td>133.409951</td><td>61.952251</td><td>0.687387</td><td>2.015564</td><td>183.729798</td><td>4.718874</td></tr><tr><td>&quot;min&quot;</td><td>&quot;2021-09-01 00:00:00&quot;</td><td>-23.7</td><td>-25.9</td><td>0.0</td><td>0.0</td><td>942.9</td><td>0.0</td><td>0.0</td><td>0.0</td><td>0.0</td><td>0.0</td><td>0.0</td><td>0.0</td><td>0.0</td><td>0.0</td><td>57.6</td><td>21.7</td><td>1.0</td><td>0.0</td></tr><tr><td>&quot;25%&quot;</td><td>null</td><td>0.0</td><td>-2.6</td><td>0.0</td><td>0.0</td><td>1001.5</td><td>25.0</td><td>3.0</td><td>0.0</td><td>0.0</td><td>3.0</td><td>139.0</td><td>0.0</td><td>0.0</td><td>0.0</td><td>57.9</td><td>23.2</td><td>160.0</td><td>2.0</td></tr><tr><td>&quot;50%&quot;</td><td>null</td><td>5.1</td><td>1.7</td><td>0.0</td><td>0.0</td><td>1010.4</td><td>72.0</td><td>39.0</td><td>16.0</td><td>10.0</td><td>4.5</td><td>208.0</td><td>1.0</td><td>0.0</td><td>1.0</td><td>58.5</td><td>24.7</td><td>319.0</td><td>7.0</td></tr><tr><td>&quot;75%&quot;</td><td>null</td><td>11.2</td><td>7.2</td><td>0.0</td><td>0.0</td><td>1018.0</td><td>100.0</td><td>94.0</td><td>72.0</td><td>85.0</td><td>6.277778</td><td>263.0</td><td>140.0</td><td>47.0</td><td>74.0</td><td>59.1</td><td>26.7</td><td>478.0</td><td>10.0</td></tr><tr><td>&quot;max&quot;</td><td>&quot;2023-05-30 10:00:00&quot;</td><td>32.6</td><td>23.8</td><td>16.8</td><td>2.66</td><td>1049.3</td><td>100.0</td><td>100.0</td><td>100.0</td><td>100.0</td><td>21.75</td><td>360.0</td><td>849.0</td><td>754.0</td><td>388.0</td><td>59.7</td><td>28.2</td><td>637.0</td><td>15.0</td></tr></tbody></table></div>"
      ],
      "text/plain": [
       "shape: (9, 20)\n",
       "┌───────────┬───────────┬───────────┬───────────┬───┬───────────┬───────────┬───────────┬──────────┐\n",
       "│ statistic ┆ datetime  ┆ temperatu ┆ dewpoint  ┆ … ┆ latitude  ┆ longitude ┆ data_bloc ┆ county   │\n",
       "│ ---       ┆ ---       ┆ re        ┆ ---       ┆   ┆ ---       ┆ ---       ┆ k_id      ┆ ---      │\n",
       "│ str       ┆ str       ┆ ---       ┆ f64       ┆   ┆ f64       ┆ f64       ┆ ---       ┆ f64      │\n",
       "│           ┆           ┆ f64       ┆           ┆   ┆           ┆           ┆ f64       ┆          │\n",
       "╞═══════════╪═══════════╪═══════════╪═══════════╪═══╪═══════════╪═══════════╪═══════════╪══════════╡\n",
       "│ count     ┆ 1710802   ┆ 1.710802e ┆ 1.710802e ┆ … ┆ 1.710802e ┆ 1.710802e ┆ 1.710802e ┆ 1.710802 │\n",
       "│           ┆           ┆ 6         ┆ 6         ┆   ┆ 6         ┆ 6         ┆ 6         ┆ e6       │\n",
       "│ null_coun ┆ 0         ┆ 0.0       ┆ 0.0       ┆ … ┆ 0.0       ┆ 0.0       ┆ 0.0       ┆ 0.0      │\n",
       "│ t         ┆           ┆           ┆           ┆   ┆           ┆           ┆           ┆          │\n",
       "│ mean      ┆ null      ┆ 5.740968  ┆ 2.240312  ┆ … ┆ 58.649999 ┆ 24.949999 ┆ 319.27077 ┆ 6.633931 │\n",
       "│           ┆           ┆           ┆           ┆   ┆           ┆           ┆ 8         ┆          │\n",
       "│ std       ┆ null      ┆ 8.025647  ┆ 7.224357  ┆ … ┆ 0.687387  ┆ 2.015564  ┆ 183.72979 ┆ 4.718874 │\n",
       "│           ┆           ┆           ┆           ┆   ┆           ┆           ┆ 8         ┆          │\n",
       "│ min       ┆ 2021-09-0 ┆ -23.7     ┆ -25.9     ┆ … ┆ 57.6      ┆ 21.7      ┆ 1.0       ┆ 0.0      │\n",
       "│           ┆ 1         ┆           ┆           ┆   ┆           ┆           ┆           ┆          │\n",
       "│           ┆ 00:00:00  ┆           ┆           ┆   ┆           ┆           ┆           ┆          │\n",
       "│ 25%       ┆ null      ┆ 0.0       ┆ -2.6      ┆ … ┆ 57.9      ┆ 23.2      ┆ 160.0     ┆ 2.0      │\n",
       "│ 50%       ┆ null      ┆ 5.1       ┆ 1.7       ┆ … ┆ 58.5      ┆ 24.7      ┆ 319.0     ┆ 7.0      │\n",
       "│ 75%       ┆ null      ┆ 11.2      ┆ 7.2       ┆ … ┆ 59.1      ┆ 26.7      ┆ 478.0     ┆ 10.0     │\n",
       "│ max       ┆ 2023-05-3 ┆ 32.6      ┆ 23.8      ┆ … ┆ 59.7      ┆ 28.2      ┆ 637.0     ┆ 15.0     │\n",
       "│           ┆ 0         ┆           ┆           ┆   ┆           ┆           ┆           ┆          │\n",
       "│           ┆ 10:00:00  ┆           ┆           ┆   ┆           ┆           ┆           ┆          │\n",
       "└───────────┴───────────┴───────────┴───────────┴───┴───────────┴───────────┴───────────┴──────────┘"
      ]
     },
     "execution_count": 107,
     "metadata": {},
     "output_type": "execute_result"
    }
   ],
   "source": [
    "dfs[\"historical_weather\"].join(\n",
    "    coords.select([\"latitude\", \"longitude\", \"county\"]),\n",
    "    on=[\"latitude\", \"longitude\"],\n",
    "    how=\"left\"\n",
    ").describe()"
   ]
  },
  {
   "cell_type": "code",
   "execution_count": 108,
   "metadata": {},
   "outputs": [
    {
     "data": {
      "text/html": [
       "<div><style>\n",
       ".dataframe > thead > tr,\n",
       ".dataframe > tbody > tr {\n",
       "  text-align: right;\n",
       "  white-space: pre-wrap;\n",
       "}\n",
       "</style>\n",
       "<small>shape: (1, 5)</small><table border=\"1\" class=\"dataframe\"><thead><tr><th>latitude</th><th>longitude</th><th>lat_rad</th><th>lon_rad</th><th>county</th></tr><tr><td>f64</td><td>f64</td><td>f64</td><td>f64</td><td>i64</td></tr></thead><tbody><tr><td>57.6</td><td>25.7</td><td>1.00531</td><td>0.44855</td><td>13</td></tr></tbody></table></div>"
      ],
      "text/plain": [
       "shape: (1, 5)\n",
       "┌──────────┬───────────┬─────────┬─────────┬────────┐\n",
       "│ latitude ┆ longitude ┆ lat_rad ┆ lon_rad ┆ county │\n",
       "│ ---      ┆ ---       ┆ ---     ┆ ---     ┆ ---    │\n",
       "│ f64      ┆ f64       ┆ f64     ┆ f64     ┆ i64    │\n",
       "╞══════════╪═══════════╪═════════╪═════════╪════════╡\n",
       "│ 57.6     ┆ 25.7      ┆ 1.00531 ┆ 0.44855 ┆ 13     │\n",
       "└──────────┴───────────┴─────────┴─────────┴────────┘"
      ]
     },
     "execution_count": 108,
     "metadata": {},
     "output_type": "execute_result"
    }
   ],
   "source": [
    "coords.filter(\n",
    "    (pl.col(\"latitude\") == 57.6) &\n",
    "    (pl.col(\"longitude\") == 25.7)\n",
    ")"
   ]
  },
  {
   "cell_type": "code",
   "execution_count": 109,
   "metadata": {},
   "outputs": [
    {
     "data": {
      "text/html": [
       "<div><style>\n",
       ".dataframe > thead > tr,\n",
       ".dataframe > tbody > tr {\n",
       "  text-align: right;\n",
       "  white-space: pre-wrap;\n",
       "}\n",
       "</style>\n",
       "<small>shape: (49, 3)</small><table border=\"1\" class=\"dataframe\"><thead><tr><th>latitude</th><th>longitude</th><th>county</th></tr><tr><td>f64</td><td>f64</td><td>i64</td></tr></thead><tbody><tr><td>1.015782</td><td>0.387463</td><td>10</td></tr><tr><td>1.021018</td><td>0.387463</td><td>10</td></tr><tr><td>1.021018</td><td>0.39619</td><td>10</td></tr><tr><td>1.026254</td><td>0.39619</td><td>1</td></tr><tr><td>1.021018</td><td>0.404916</td><td>10</td></tr><tr><td>&hellip;</td><td>&hellip;</td><td>&hellip;</td></tr><tr><td>1.03149</td><td>0.47473</td><td>2</td></tr><tr><td>1.036726</td><td>0.47473</td><td>2</td></tr><tr><td>1.010546</td><td>0.483456</td><td>15</td></tr><tr><td>1.03149</td><td>0.483456</td><td>2</td></tr><tr><td>1.036726</td><td>0.483456</td><td>2</td></tr></tbody></table></div>"
      ],
      "text/plain": [
       "shape: (49, 3)\n",
       "┌──────────┬───────────┬────────┐\n",
       "│ latitude ┆ longitude ┆ county │\n",
       "│ ---      ┆ ---       ┆ ---    │\n",
       "│ f64      ┆ f64       ┆ i64    │\n",
       "╞══════════╪═══════════╪════════╡\n",
       "│ 1.015782 ┆ 0.387463  ┆ 10     │\n",
       "│ 1.021018 ┆ 0.387463  ┆ 10     │\n",
       "│ 1.021018 ┆ 0.39619   ┆ 10     │\n",
       "│ 1.026254 ┆ 0.39619   ┆ 1      │\n",
       "│ 1.021018 ┆ 0.404916  ┆ 10     │\n",
       "│ …        ┆ …         ┆ …      │\n",
       "│ 1.03149  ┆ 0.47473   ┆ 2      │\n",
       "│ 1.036726 ┆ 0.47473   ┆ 2      │\n",
       "│ 1.010546 ┆ 0.483456  ┆ 15     │\n",
       "│ 1.03149  ┆ 0.483456  ┆ 2      │\n",
       "│ 1.036726 ┆ 0.483456  ┆ 2      │\n",
       "└──────────┴───────────┴────────┘"
      ]
     },
     "execution_count": 109,
     "metadata": {},
     "output_type": "execute_result"
    }
   ],
   "source": [
    "dfs[\"weather_station\"][\"latitude\", \"longitude\", \"county\"].with_columns(\n",
    "    pl.col(\"latitude\", \"longitude\").radians()\n",
    ").drop_nulls()"
   ]
  },
  {
   "cell_type": "code",
   "execution_count": 110,
   "metadata": {},
   "outputs": [],
   "source": [
    "class DataProcessor:\n",
    "    def __init__(self):\n",
    "        self.gas_join = [\"datetime\"]\n",
    "        self.ep_join = [\"datetime\"]\n",
    "        self.hw_join = [ \"county\", \"datetime\"]\n",
    "        self.client_join = [\"product_type\", \"county\", \"is_business\", \"date\"]\n",
    "        self.lat_lon = [\"latitude\", \"longitude\"]\n",
    "\n",
    "    def add_counties(self, df: pl.DataFrame, stations: pl.DataFrame):\n",
    "        # Se seleccionan los datos requeridos\n",
    "\n",
    "        coords = df.select(\n",
    "            pl.col(\"latitude\", \"longitude\")\n",
    "        ).unique()\n",
    "\n",
    "        coords = coords.with_columns(\n",
    "            pl.col(\"latitude\").radians().alias(\"lat_rad\"),\n",
    "            pl.col(\"longitude\").radians().alias(\"lon_rad\")\n",
    "        )\n",
    "\n",
    "        wthr_stations = stations.drop_nulls()\n",
    "        wthr_stations = wthr_stations[\n",
    "            \"latitude\", \"longitude\", \"county\"\n",
    "        ].with_columns(\n",
    "                pl.col(\"latitude\", \"longitude\").radians()\n",
    "        ).to_numpy()\n",
    "\n",
    "        coords_arr = coords.to_numpy()\n",
    "\n",
    "        counties = np.array([], np.int32)\n",
    "        # Se itera para obtener la menor distancia entre puntos \n",
    "        # y asignar el condado\n",
    "        for coord in coords_arr[:, 2:4]:\n",
    "            # Cada coordenada tiene una dist minima \n",
    "            # y un condado asignado\n",
    "            min_dist = float(\"inf\")\n",
    "            cnty = -1\n",
    "\n",
    "            station_zip = zip(wthr_stations[:, :2], wthr_stations[:, 2])\n",
    "\n",
    "            for lat_lon, county in station_zip:\n",
    "                dist = haversine_distances([coord, lat_lon])[0, 1]\n",
    "\n",
    "                if dist < min_dist:\n",
    "                    cnty = county\n",
    "                    min_dist = dist\n",
    "\n",
    "            # Se añade el condado a la lista\n",
    "            counties = np.append(\n",
    "                counties,\n",
    "                int(cnty)\n",
    "            )\n",
    "        \n",
    "        # Se asigna los condados a cada coordenada y se devuelve el resultado\n",
    "        result = coords.with_columns(\n",
    "            pl.lit(counties).alias(\"county\")\n",
    "        )\n",
    "\n",
    "        result = df.join(\n",
    "            result.select([\"latitude\", \"longitude\", \"county\"]),\n",
    "            on=[\"latitude\", \"longitude\"],\n",
    "            how=\"left\"\n",
    "        )\n",
    "\n",
    "        return result\n",
    "\n",
    "    def change_names(self, df: pl.DataFrame, suffix, no_change):\n",
    "        renamed_df = df.rename(\n",
    "            lambda col: col + suffix if col not in no_change else col\n",
    "        )\n",
    "        return renamed_df\n",
    "    \n",
    "    def to_datetime(self, df: pl.DataFrame, col: str):\n",
    "        # Cast str to Datetime\n",
    "        result = df.with_columns(\n",
    "            pl.col(col).str.strptime(pl.Datetime)\n",
    "        )\n",
    "        return result\n",
    "\n",
    "    def get_gas_features(self, gas_df: pl.DataFrame):\n",
    "        df = gas_df.with_columns(\n",
    "            ((pl.col(\"lowest_price_per_mwh\") + \n",
    "              pl.col(\"highest_price_per_mwh\")) / 2).alias(\"mean_price_per_mwh_24h\")\n",
    "        )\n",
    "\n",
    "        df = self.to_datetime(df, \"origin_date\")\n",
    "        df = df.rename({\"origin_date\":\"datetime\"})\n",
    "\n",
    "        return self.change_names(df, \"_gas\", self.gas_join)\n",
    "    \n",
    "    def get_client_features(self, client_df: pl.DataFrame):\n",
    "        df = client_df.with_columns(\n",
    "            pl.col(\"date\").str.strptime(pl.Date)\n",
    "        )\n",
    "        return self.change_names(df, \"_client\", self.client_join)\n",
    "    \n",
    "    def get_hw_means(self, data: pl.DataFrame) -> pl.DataFrame:\n",
    "        data = data.group_by(\n",
    "        [\"datetime\", \"county\"], maintain_order=True\n",
    "        ).agg(pl.all().mean())\n",
    "        return data\n",
    "\n",
    "    def get_hist_weather_features(self, hw_df: pl.DataFrame, ws_df: pl.DataFrame):\n",
    "        df = self.to_datetime(hw_df, \"datetime\")\n",
    "\n",
    "        df = self.add_counties(df, ws_df)\n",
    "        df = self.get_hw_means(df)\n",
    "        df = self.change_names(df, \"_hw\", self.hw_join)\n",
    "\n",
    "        return df\n",
    "    \n",
    "    def get_electricity_features(self, ep_df: pl.DataFrame):\n",
    "        # str to datetime\n",
    "        df = self.to_datetime(ep_df, \"origin_date\")\n",
    "\n",
    "        df = df.rename({\"origin_date\":\"datetime\"})\n",
    "        df = df.rename({\"euros_per_mwh\":\"euros_per_mwh_24h\"})\n",
    "\n",
    "        # Change names\n",
    "        df = self.change_names(df, \"_ep\", self.ep_join)\n",
    "\n",
    "        return df\n",
    "    \n",
    "    def get_data_features(self, data: pl.DataFrame):\n",
    "        \n",
    "        date = \"datetime\"\n",
    "        # Cast to Datetime\n",
    "        df = self.to_datetime(data, \"datetime\")\n",
    "\n",
    "        df = df.with_columns([\n",
    "            # Date\n",
    "            pl.col(date).dt.truncate(\"1d\").cast(pl.Date).alias(\"date\"),\n",
    "\n",
    "            # Year\n",
    "            pl.col(date).dt.year().alias(\"year\"),\n",
    "\n",
    "            # Quarter\n",
    "            pl.col(date).dt.quarter().alias(\"quarter\"),\n",
    "\n",
    "            # Month\n",
    "            pl.col(date).dt.month().alias(\"month\"),\n",
    "\n",
    "            # Week\n",
    "            pl.col(date).dt.week().alias(\"week\"),\n",
    "\n",
    "            # Hour\n",
    "            pl.col(date).dt.hour().alias(\"hour\"),\n",
    "\n",
    "            # Day of year\n",
    "            pl.col(date).dt.ordinal_day().alias(\"day_of_year\"),\n",
    "\n",
    "            # Day of month\n",
    "            pl.col(date).dt.day().alias(\"day_of_month\"),\n",
    "\n",
    "            # Day of week\n",
    "            pl.col(date).dt.weekday().alias(\"day_of_week\")\n",
    "        ])\n",
    "\n",
    "        return df\n",
    "    \n",
    "    def __call__(self, df_dict: dict):\n",
    "\n",
    "        data = self.get_data_features(df_dict[\"train\"])\n",
    "        gas_p = self.get_gas_features(df_dict[\"gas_prices\"])\n",
    "        el_p = self.get_electricity_features(df_dict[\"electricity_prices\"])\n",
    "        client = self.get_client_features(df_dict[\"client\"])\n",
    "        hist_w = self.get_hist_weather_features(\n",
    "            df_dict[\"historical_weather\"],\n",
    "            df_dict[\"weather_station\"]\n",
    "        )\n",
    "\n",
    "        final_data = data.join(client, on=self.client_join, how=\"left\")\n",
    "        final_data = final_data.join(gas_p, on=self.gas_join, how=\"left\")\n",
    "        final_data = final_data.join(el_p, on=self.ep_join, how=\"left\")\n",
    "        final_data = final_data.join(hist_w, on=self.hw_join, how=\"left\")\n",
    "\n",
    "        return final_data"
   ]
  },
  {
   "cell_type": "code",
   "execution_count": 111,
   "metadata": {},
   "outputs": [],
   "source": [
    "dp = DataProcessor()\n",
    "res = dp(dfs)"
   ]
  },
  {
   "cell_type": "code",
   "execution_count": 114,
   "metadata": {},
   "outputs": [
    {
     "data": {
      "text/html": [
       "<div><style>\n",
       ".dataframe > thead > tr,\n",
       ".dataframe > tbody > tr {\n",
       "  text-align: right;\n",
       "  white-space: pre-wrap;\n",
       "}\n",
       "</style>\n",
       "<small>shape: (2_018_352, 46)</small><table border=\"1\" class=\"dataframe\"><thead><tr><th>county</th><th>is_business</th><th>product_type</th><th>target</th><th>is_consumption</th><th>datetime</th><th>data_block_id</th><th>row_id</th><th>prediction_unit_id</th><th>date</th><th>year</th><th>quarter</th><th>month</th><th>week</th><th>hour</th><th>day_of_year</th><th>day_of_month</th><th>day_of_week</th><th>eic_count_client</th><th>installed_capacity_client</th><th>data_block_id_client</th><th>forecast_date_gas</th><th>lowest_price_per_mwh_gas</th><th>highest_price_per_mwh_gas</th><th>data_block_id_gas</th><th>mean_price_per_mwh_24h_gas</th><th>forecast_date_ep</th><th>euros_per_mwh_24h_ep</th><th>data_block_id_ep</th><th>temperature_hw</th><th>dewpoint_hw</th><th>rain_hw</th><th>snowfall_hw</th><th>surface_pressure_hw</th><th>cloudcover_total_hw</th><th>cloudcover_low_hw</th><th>cloudcover_mid_hw</th><th>cloudcover_high_hw</th><th>windspeed_10m_hw</th><th>winddirection_10m_hw</th><th>shortwave_radiation_hw</th><th>direct_solar_radiation_hw</th><th>diffuse_radiation_hw</th><th>latitude_hw</th><th>longitude_hw</th><th>data_block_id_hw</th></tr><tr><td>i64</td><td>i64</td><td>i64</td><td>f64</td><td>i64</td><td>datetime[μs]</td><td>i64</td><td>i64</td><td>i64</td><td>date</td><td>i32</td><td>i8</td><td>i8</td><td>i8</td><td>i8</td><td>i16</td><td>i8</td><td>i8</td><td>i64</td><td>f64</td><td>i64</td><td>str</td><td>f64</td><td>f64</td><td>i64</td><td>f64</td><td>str</td><td>f64</td><td>i64</td><td>f64</td><td>f64</td><td>f64</td><td>f64</td><td>f64</td><td>f64</td><td>f64</td><td>f64</td><td>f64</td><td>f64</td><td>f64</td><td>f64</td><td>f64</td><td>f64</td><td>f64</td><td>f64</td><td>f64</td></tr></thead><tbody><tr><td>0</td><td>0</td><td>1</td><td>0.713</td><td>0</td><td>2021-09-01 00:00:00</td><td>0</td><td>0</td><td>0</td><td>2021-09-01</td><td>2021</td><td>3</td><td>9</td><td>35</td><td>0</td><td>244</td><td>1</td><td>3</td><td>108</td><td>952.89</td><td>2</td><td>&quot;2021-09-02&quot;</td><td>45.62</td><td>46.29</td><td>2</td><td>45.955</td><td>&quot;2021-09-02 00:00:00&quot;</td><td>96.99</td><td>2</td><td>13.815385</td><td>10.6</td><td>0.0</td><td>0.0</td><td>1011.569231</td><td>42.461538</td><td>44.153846</td><td>2.923077</td><td>3.384615</td><td>5.619658</td><td>341.384615</td><td>0.0</td><td>0.0</td><td>0.0</td><td>59.492308</td><td>24.584615</td><td>1.0</td></tr><tr><td>0</td><td>0</td><td>1</td><td>96.59</td><td>1</td><td>2021-09-01 00:00:00</td><td>0</td><td>1</td><td>0</td><td>2021-09-01</td><td>2021</td><td>3</td><td>9</td><td>35</td><td>0</td><td>244</td><td>1</td><td>3</td><td>108</td><td>952.89</td><td>2</td><td>&quot;2021-09-02&quot;</td><td>45.62</td><td>46.29</td><td>2</td><td>45.955</td><td>&quot;2021-09-02 00:00:00&quot;</td><td>96.99</td><td>2</td><td>13.815385</td><td>10.6</td><td>0.0</td><td>0.0</td><td>1011.569231</td><td>42.461538</td><td>44.153846</td><td>2.923077</td><td>3.384615</td><td>5.619658</td><td>341.384615</td><td>0.0</td><td>0.0</td><td>0.0</td><td>59.492308</td><td>24.584615</td><td>1.0</td></tr><tr><td>0</td><td>0</td><td>2</td><td>0.0</td><td>0</td><td>2021-09-01 00:00:00</td><td>0</td><td>2</td><td>1</td><td>2021-09-01</td><td>2021</td><td>3</td><td>9</td><td>35</td><td>0</td><td>244</td><td>1</td><td>3</td><td>17</td><td>166.4</td><td>2</td><td>&quot;2021-09-02&quot;</td><td>45.62</td><td>46.29</td><td>2</td><td>45.955</td><td>&quot;2021-09-02 00:00:00&quot;</td><td>96.99</td><td>2</td><td>13.815385</td><td>10.6</td><td>0.0</td><td>0.0</td><td>1011.569231</td><td>42.461538</td><td>44.153846</td><td>2.923077</td><td>3.384615</td><td>5.619658</td><td>341.384615</td><td>0.0</td><td>0.0</td><td>0.0</td><td>59.492308</td><td>24.584615</td><td>1.0</td></tr><tr><td>0</td><td>0</td><td>2</td><td>17.314</td><td>1</td><td>2021-09-01 00:00:00</td><td>0</td><td>3</td><td>1</td><td>2021-09-01</td><td>2021</td><td>3</td><td>9</td><td>35</td><td>0</td><td>244</td><td>1</td><td>3</td><td>17</td><td>166.4</td><td>2</td><td>&quot;2021-09-02&quot;</td><td>45.62</td><td>46.29</td><td>2</td><td>45.955</td><td>&quot;2021-09-02 00:00:00&quot;</td><td>96.99</td><td>2</td><td>13.815385</td><td>10.6</td><td>0.0</td><td>0.0</td><td>1011.569231</td><td>42.461538</td><td>44.153846</td><td>2.923077</td><td>3.384615</td><td>5.619658</td><td>341.384615</td><td>0.0</td><td>0.0</td><td>0.0</td><td>59.492308</td><td>24.584615</td><td>1.0</td></tr><tr><td>0</td><td>0</td><td>3</td><td>2.904</td><td>0</td><td>2021-09-01 00:00:00</td><td>0</td><td>4</td><td>2</td><td>2021-09-01</td><td>2021</td><td>3</td><td>9</td><td>35</td><td>0</td><td>244</td><td>1</td><td>3</td><td>688</td><td>7207.88</td><td>2</td><td>&quot;2021-09-02&quot;</td><td>45.62</td><td>46.29</td><td>2</td><td>45.955</td><td>&quot;2021-09-02 00:00:00&quot;</td><td>96.99</td><td>2</td><td>13.815385</td><td>10.6</td><td>0.0</td><td>0.0</td><td>1011.569231</td><td>42.461538</td><td>44.153846</td><td>2.923077</td><td>3.384615</td><td>5.619658</td><td>341.384615</td><td>0.0</td><td>0.0</td><td>0.0</td><td>59.492308</td><td>24.584615</td><td>1.0</td></tr><tr><td>&hellip;</td><td>&hellip;</td><td>&hellip;</td><td>&hellip;</td><td>&hellip;</td><td>&hellip;</td><td>&hellip;</td><td>&hellip;</td><td>&hellip;</td><td>&hellip;</td><td>&hellip;</td><td>&hellip;</td><td>&hellip;</td><td>&hellip;</td><td>&hellip;</td><td>&hellip;</td><td>&hellip;</td><td>&hellip;</td><td>&hellip;</td><td>&hellip;</td><td>&hellip;</td><td>&hellip;</td><td>&hellip;</td><td>&hellip;</td><td>&hellip;</td><td>&hellip;</td><td>&hellip;</td><td>&hellip;</td><td>&hellip;</td><td>&hellip;</td><td>&hellip;</td><td>&hellip;</td><td>&hellip;</td><td>&hellip;</td><td>&hellip;</td><td>&hellip;</td><td>&hellip;</td><td>&hellip;</td><td>&hellip;</td><td>&hellip;</td><td>&hellip;</td><td>&hellip;</td><td>&hellip;</td><td>&hellip;</td><td>&hellip;</td><td>&hellip;</td></tr><tr><td>15</td><td>1</td><td>0</td><td>197.233</td><td>1</td><td>2023-05-31 23:00:00</td><td>637</td><td>2018347</td><td>64</td><td>2023-05-31</td><td>2023</td><td>2</td><td>5</td><td>22</td><td>23</td><td>151</td><td>31</td><td>3</td><td>null</td><td>null</td><td>null</td><td>null</td><td>null</td><td>null</td><td>null</td><td>null</td><td>null</td><td>null</td><td>null</td><td>null</td><td>null</td><td>null</td><td>null</td><td>null</td><td>null</td><td>null</td><td>null</td><td>null</td><td>null</td><td>null</td><td>null</td><td>null</td><td>null</td><td>null</td><td>null</td><td>null</td></tr><tr><td>15</td><td>1</td><td>1</td><td>0.0</td><td>0</td><td>2023-05-31 23:00:00</td><td>637</td><td>2018348</td><td>59</td><td>2023-05-31</td><td>2023</td><td>2</td><td>5</td><td>22</td><td>23</td><td>151</td><td>31</td><td>3</td><td>null</td><td>null</td><td>null</td><td>null</td><td>null</td><td>null</td><td>null</td><td>null</td><td>null</td><td>null</td><td>null</td><td>null</td><td>null</td><td>null</td><td>null</td><td>null</td><td>null</td><td>null</td><td>null</td><td>null</td><td>null</td><td>null</td><td>null</td><td>null</td><td>null</td><td>null</td><td>null</td><td>null</td></tr><tr><td>15</td><td>1</td><td>1</td><td>28.404</td><td>1</td><td>2023-05-31 23:00:00</td><td>637</td><td>2018349</td><td>59</td><td>2023-05-31</td><td>2023</td><td>2</td><td>5</td><td>22</td><td>23</td><td>151</td><td>31</td><td>3</td><td>null</td><td>null</td><td>null</td><td>null</td><td>null</td><td>null</td><td>null</td><td>null</td><td>null</td><td>null</td><td>null</td><td>null</td><td>null</td><td>null</td><td>null</td><td>null</td><td>null</td><td>null</td><td>null</td><td>null</td><td>null</td><td>null</td><td>null</td><td>null</td><td>null</td><td>null</td><td>null</td><td>null</td></tr><tr><td>15</td><td>1</td><td>3</td><td>0.0</td><td>0</td><td>2023-05-31 23:00:00</td><td>637</td><td>2018350</td><td>60</td><td>2023-05-31</td><td>2023</td><td>2</td><td>5</td><td>22</td><td>23</td><td>151</td><td>31</td><td>3</td><td>null</td><td>null</td><td>null</td><td>null</td><td>null</td><td>null</td><td>null</td><td>null</td><td>null</td><td>null</td><td>null</td><td>null</td><td>null</td><td>null</td><td>null</td><td>null</td><td>null</td><td>null</td><td>null</td><td>null</td><td>null</td><td>null</td><td>null</td><td>null</td><td>null</td><td>null</td><td>null</td><td>null</td></tr><tr><td>15</td><td>1</td><td>3</td><td>196.24</td><td>1</td><td>2023-05-31 23:00:00</td><td>637</td><td>2018351</td><td>60</td><td>2023-05-31</td><td>2023</td><td>2</td><td>5</td><td>22</td><td>23</td><td>151</td><td>31</td><td>3</td><td>null</td><td>null</td><td>null</td><td>null</td><td>null</td><td>null</td><td>null</td><td>null</td><td>null</td><td>null</td><td>null</td><td>null</td><td>null</td><td>null</td><td>null</td><td>null</td><td>null</td><td>null</td><td>null</td><td>null</td><td>null</td><td>null</td><td>null</td><td>null</td><td>null</td><td>null</td><td>null</td><td>null</td></tr></tbody></table></div>"
      ],
      "text/plain": [
       "shape: (2_018_352, 46)\n",
       "┌────────┬────────────┬────────────┬─────────┬───┬────────────┬────────────┬───────────┬───────────┐\n",
       "│ county ┆ is_busines ┆ product_ty ┆ target  ┆ … ┆ diffuse_ra ┆ latitude_h ┆ longitude ┆ data_bloc │\n",
       "│ ---    ┆ s          ┆ pe         ┆ ---     ┆   ┆ diation_hw ┆ w          ┆ _hw       ┆ k_id_hw   │\n",
       "│ i64    ┆ ---        ┆ ---        ┆ f64     ┆   ┆ ---        ┆ ---        ┆ ---       ┆ ---       │\n",
       "│        ┆ i64        ┆ i64        ┆         ┆   ┆ f64        ┆ f64        ┆ f64       ┆ f64       │\n",
       "╞════════╪════════════╪════════════╪═════════╪═══╪════════════╪════════════╪═══════════╪═══════════╡\n",
       "│ 0      ┆ 0          ┆ 1          ┆ 0.713   ┆ … ┆ 0.0        ┆ 59.492308  ┆ 24.584615 ┆ 1.0       │\n",
       "│ 0      ┆ 0          ┆ 1          ┆ 96.59   ┆ … ┆ 0.0        ┆ 59.492308  ┆ 24.584615 ┆ 1.0       │\n",
       "│ 0      ┆ 0          ┆ 2          ┆ 0.0     ┆ … ┆ 0.0        ┆ 59.492308  ┆ 24.584615 ┆ 1.0       │\n",
       "│ 0      ┆ 0          ┆ 2          ┆ 17.314  ┆ … ┆ 0.0        ┆ 59.492308  ┆ 24.584615 ┆ 1.0       │\n",
       "│ 0      ┆ 0          ┆ 3          ┆ 2.904   ┆ … ┆ 0.0        ┆ 59.492308  ┆ 24.584615 ┆ 1.0       │\n",
       "│ …      ┆ …          ┆ …          ┆ …       ┆ … ┆ …          ┆ …          ┆ …         ┆ …         │\n",
       "│ 15     ┆ 1          ┆ 0          ┆ 197.233 ┆ … ┆ null       ┆ null       ┆ null      ┆ null      │\n",
       "│ 15     ┆ 1          ┆ 1          ┆ 0.0     ┆ … ┆ null       ┆ null       ┆ null      ┆ null      │\n",
       "│ 15     ┆ 1          ┆ 1          ┆ 28.404  ┆ … ┆ null       ┆ null       ┆ null      ┆ null      │\n",
       "│ 15     ┆ 1          ┆ 3          ┆ 0.0     ┆ … ┆ null       ┆ null       ┆ null      ┆ null      │\n",
       "│ 15     ┆ 1          ┆ 3          ┆ 196.24  ┆ … ┆ null       ┆ null       ┆ null      ┆ null      │\n",
       "└────────┴────────────┴────────────┴─────────┴───┴────────────┴────────────┴───────────┴───────────┘"
      ]
     },
     "execution_count": 114,
     "metadata": {},
     "output_type": "execute_result"
    }
   ],
   "source": [
    "res"
   ]
  },
  {
   "cell_type": "code",
   "execution_count": 113,
   "metadata": {},
   "outputs": [
    {
     "data": {
      "text/html": [
       "<div><style>\n",
       ".dataframe > thead > tr,\n",
       ".dataframe > tbody > tr {\n",
       "  text-align: right;\n",
       "  white-space: pre-wrap;\n",
       "}\n",
       "</style>\n",
       "<small>shape: (30_624, 46)</small><table border=\"1\" class=\"dataframe\"><thead><tr><th>county</th><th>is_business</th><th>product_type</th><th>target</th><th>is_consumption</th><th>datetime</th><th>data_block_id</th><th>row_id</th><th>prediction_unit_id</th><th>date</th><th>year</th><th>quarter</th><th>month</th><th>week</th><th>hour</th><th>day_of_year</th><th>day_of_month</th><th>day_of_week</th><th>eic_count_client</th><th>installed_capacity_client</th><th>data_block_id_client</th><th>forecast_date_gas</th><th>lowest_price_per_mwh_gas</th><th>highest_price_per_mwh_gas</th><th>data_block_id_gas</th><th>mean_price_per_mwh_24h_gas</th><th>forecast_date_ep</th><th>euros_per_mwh_24h_ep</th><th>data_block_id_ep</th><th>temperature_hw</th><th>dewpoint_hw</th><th>rain_hw</th><th>snowfall_hw</th><th>surface_pressure_hw</th><th>cloudcover_total_hw</th><th>cloudcover_low_hw</th><th>cloudcover_mid_hw</th><th>cloudcover_high_hw</th><th>windspeed_10m_hw</th><th>winddirection_10m_hw</th><th>shortwave_radiation_hw</th><th>direct_solar_radiation_hw</th><th>diffuse_radiation_hw</th><th>latitude_hw</th><th>longitude_hw</th><th>data_block_id_hw</th></tr><tr><td>i64</td><td>i64</td><td>i64</td><td>f64</td><td>i64</td><td>datetime[μs]</td><td>i64</td><td>i64</td><td>i64</td><td>date</td><td>i32</td><td>i8</td><td>i8</td><td>i8</td><td>i8</td><td>i16</td><td>i8</td><td>i8</td><td>i64</td><td>f64</td><td>i64</td><td>str</td><td>f64</td><td>f64</td><td>i64</td><td>f64</td><td>str</td><td>f64</td><td>i64</td><td>f64</td><td>f64</td><td>f64</td><td>f64</td><td>f64</td><td>f64</td><td>f64</td><td>f64</td><td>f64</td><td>f64</td><td>f64</td><td>f64</td><td>f64</td><td>f64</td><td>f64</td><td>f64</td><td>f64</td></tr></thead><tbody><tr><td>0</td><td>0</td><td>1</td><td>0.713</td><td>0</td><td>2021-09-01 00:00:00</td><td>0</td><td>0</td><td>0</td><td>2021-09-01</td><td>2021</td><td>3</td><td>9</td><td>35</td><td>0</td><td>244</td><td>1</td><td>3</td><td>108</td><td>952.89</td><td>2</td><td>&quot;2021-09-02&quot;</td><td>45.62</td><td>46.29</td><td>2</td><td>45.955</td><td>&quot;2021-09-02 00:00:00&quot;</td><td>96.99</td><td>2</td><td>13.815385</td><td>10.6</td><td>0.0</td><td>0.0</td><td>1011.569231</td><td>42.461538</td><td>44.153846</td><td>2.923077</td><td>3.384615</td><td>5.619658</td><td>341.384615</td><td>0.0</td><td>0.0</td><td>0.0</td><td>59.492308</td><td>24.584615</td><td>1.0</td></tr><tr><td>0</td><td>0</td><td>1</td><td>96.59</td><td>1</td><td>2021-09-01 00:00:00</td><td>0</td><td>1</td><td>0</td><td>2021-09-01</td><td>2021</td><td>3</td><td>9</td><td>35</td><td>0</td><td>244</td><td>1</td><td>3</td><td>108</td><td>952.89</td><td>2</td><td>&quot;2021-09-02&quot;</td><td>45.62</td><td>46.29</td><td>2</td><td>45.955</td><td>&quot;2021-09-02 00:00:00&quot;</td><td>96.99</td><td>2</td><td>13.815385</td><td>10.6</td><td>0.0</td><td>0.0</td><td>1011.569231</td><td>42.461538</td><td>44.153846</td><td>2.923077</td><td>3.384615</td><td>5.619658</td><td>341.384615</td><td>0.0</td><td>0.0</td><td>0.0</td><td>59.492308</td><td>24.584615</td><td>1.0</td></tr><tr><td>0</td><td>0</td><td>1</td><td>1.132</td><td>0</td><td>2021-09-01 01:00:00</td><td>0</td><td>122</td><td>0</td><td>2021-09-01</td><td>2021</td><td>3</td><td>9</td><td>35</td><td>1</td><td>244</td><td>1</td><td>3</td><td>108</td><td>952.89</td><td>2</td><td>null</td><td>null</td><td>null</td><td>null</td><td>null</td><td>&quot;2021-09-02 01:00:00&quot;</td><td>94.77</td><td>2</td><td>13.584615</td><td>10.307692</td><td>0.0</td><td>0.0</td><td>1011.453846</td><td>23.769231</td><td>21.461538</td><td>1.153846</td><td>12.153846</td><td>5.49359</td><td>342.692308</td><td>0.0</td><td>0.0</td><td>0.0</td><td>59.492308</td><td>24.584615</td><td>1.0</td></tr><tr><td>0</td><td>0</td><td>1</td><td>77.691</td><td>1</td><td>2021-09-01 01:00:00</td><td>0</td><td>123</td><td>0</td><td>2021-09-01</td><td>2021</td><td>3</td><td>9</td><td>35</td><td>1</td><td>244</td><td>1</td><td>3</td><td>108</td><td>952.89</td><td>2</td><td>null</td><td>null</td><td>null</td><td>null</td><td>null</td><td>&quot;2021-09-02 01:00:00&quot;</td><td>94.77</td><td>2</td><td>13.584615</td><td>10.307692</td><td>0.0</td><td>0.0</td><td>1011.453846</td><td>23.769231</td><td>21.461538</td><td>1.153846</td><td>12.153846</td><td>5.49359</td><td>342.692308</td><td>0.0</td><td>0.0</td><td>0.0</td><td>59.492308</td><td>24.584615</td><td>1.0</td></tr><tr><td>0</td><td>0</td><td>1</td><td>0.49</td><td>0</td><td>2021-09-01 02:00:00</td><td>0</td><td>244</td><td>0</td><td>2021-09-01</td><td>2021</td><td>3</td><td>9</td><td>35</td><td>2</td><td>244</td><td>1</td><td>3</td><td>108</td><td>952.89</td><td>2</td><td>null</td><td>null</td><td>null</td><td>null</td><td>null</td><td>&quot;2021-09-02 02:00:00&quot;</td><td>93.88</td><td>2</td><td>13.192308</td><td>10.138462</td><td>0.0</td><td>0.0</td><td>1011.115385</td><td>12.692308</td><td>13.076923</td><td>0.153846</td><td>2.692308</td><td>5.337607</td><td>337.692308</td><td>0.0</td><td>0.0</td><td>0.0</td><td>59.492308</td><td>24.584615</td><td>1.0</td></tr><tr><td>&hellip;</td><td>&hellip;</td><td>&hellip;</td><td>&hellip;</td><td>&hellip;</td><td>&hellip;</td><td>&hellip;</td><td>&hellip;</td><td>&hellip;</td><td>&hellip;</td><td>&hellip;</td><td>&hellip;</td><td>&hellip;</td><td>&hellip;</td><td>&hellip;</td><td>&hellip;</td><td>&hellip;</td><td>&hellip;</td><td>&hellip;</td><td>&hellip;</td><td>&hellip;</td><td>&hellip;</td><td>&hellip;</td><td>&hellip;</td><td>&hellip;</td><td>&hellip;</td><td>&hellip;</td><td>&hellip;</td><td>&hellip;</td><td>&hellip;</td><td>&hellip;</td><td>&hellip;</td><td>&hellip;</td><td>&hellip;</td><td>&hellip;</td><td>&hellip;</td><td>&hellip;</td><td>&hellip;</td><td>&hellip;</td><td>&hellip;</td><td>&hellip;</td><td>&hellip;</td><td>&hellip;</td><td>&hellip;</td><td>&hellip;</td><td>&hellip;</td></tr><tr><td>0</td><td>0</td><td>1</td><td>569.301</td><td>1</td><td>2023-05-31 21:00:00</td><td>637</td><td>2017963</td><td>0</td><td>2023-05-31</td><td>2023</td><td>2</td><td>5</td><td>22</td><td>21</td><td>151</td><td>31</td><td>3</td><td>null</td><td>null</td><td>null</td><td>null</td><td>null</td><td>null</td><td>null</td><td>null</td><td>null</td><td>null</td><td>null</td><td>null</td><td>null</td><td>null</td><td>null</td><td>null</td><td>null</td><td>null</td><td>null</td><td>null</td><td>null</td><td>null</td><td>null</td><td>null</td><td>null</td><td>null</td><td>null</td><td>null</td></tr><tr><td>0</td><td>0</td><td>1</td><td>5.086</td><td>0</td><td>2023-05-31 22:00:00</td><td>637</td><td>2018092</td><td>0</td><td>2023-05-31</td><td>2023</td><td>2</td><td>5</td><td>22</td><td>22</td><td>151</td><td>31</td><td>3</td><td>null</td><td>null</td><td>null</td><td>null</td><td>null</td><td>null</td><td>null</td><td>null</td><td>null</td><td>null</td><td>null</td><td>null</td><td>null</td><td>null</td><td>null</td><td>null</td><td>null</td><td>null</td><td>null</td><td>null</td><td>null</td><td>null</td><td>null</td><td>null</td><td>null</td><td>null</td><td>null</td><td>null</td></tr><tr><td>0</td><td>0</td><td>1</td><td>577.499</td><td>1</td><td>2023-05-31 22:00:00</td><td>637</td><td>2018093</td><td>0</td><td>2023-05-31</td><td>2023</td><td>2</td><td>5</td><td>22</td><td>22</td><td>151</td><td>31</td><td>3</td><td>null</td><td>null</td><td>null</td><td>null</td><td>null</td><td>null</td><td>null</td><td>null</td><td>null</td><td>null</td><td>null</td><td>null</td><td>null</td><td>null</td><td>null</td><td>null</td><td>null</td><td>null</td><td>null</td><td>null</td><td>null</td><td>null</td><td>null</td><td>null</td><td>null</td><td>null</td><td>null</td><td>null</td></tr><tr><td>0</td><td>0</td><td>1</td><td>2.921</td><td>0</td><td>2023-05-31 23:00:00</td><td>637</td><td>2018222</td><td>0</td><td>2023-05-31</td><td>2023</td><td>2</td><td>5</td><td>22</td><td>23</td><td>151</td><td>31</td><td>3</td><td>null</td><td>null</td><td>null</td><td>null</td><td>null</td><td>null</td><td>null</td><td>null</td><td>null</td><td>null</td><td>null</td><td>null</td><td>null</td><td>null</td><td>null</td><td>null</td><td>null</td><td>null</td><td>null</td><td>null</td><td>null</td><td>null</td><td>null</td><td>null</td><td>null</td><td>null</td><td>null</td><td>null</td></tr><tr><td>0</td><td>0</td><td>1</td><td>544.221</td><td>1</td><td>2023-05-31 23:00:00</td><td>637</td><td>2018223</td><td>0</td><td>2023-05-31</td><td>2023</td><td>2</td><td>5</td><td>22</td><td>23</td><td>151</td><td>31</td><td>3</td><td>null</td><td>null</td><td>null</td><td>null</td><td>null</td><td>null</td><td>null</td><td>null</td><td>null</td><td>null</td><td>null</td><td>null</td><td>null</td><td>null</td><td>null</td><td>null</td><td>null</td><td>null</td><td>null</td><td>null</td><td>null</td><td>null</td><td>null</td><td>null</td><td>null</td><td>null</td><td>null</td><td>null</td></tr></tbody></table></div>"
      ],
      "text/plain": [
       "shape: (30_624, 46)\n",
       "┌────────┬────────────┬────────────┬─────────┬───┬────────────┬────────────┬───────────┬───────────┐\n",
       "│ county ┆ is_busines ┆ product_ty ┆ target  ┆ … ┆ diffuse_ra ┆ latitude_h ┆ longitude ┆ data_bloc │\n",
       "│ ---    ┆ s          ┆ pe         ┆ ---     ┆   ┆ diation_hw ┆ w          ┆ _hw       ┆ k_id_hw   │\n",
       "│ i64    ┆ ---        ┆ ---        ┆ f64     ┆   ┆ ---        ┆ ---        ┆ ---       ┆ ---       │\n",
       "│        ┆ i64        ┆ i64        ┆         ┆   ┆ f64        ┆ f64        ┆ f64       ┆ f64       │\n",
       "╞════════╪════════════╪════════════╪═════════╪═══╪════════════╪════════════╪═══════════╪═══════════╡\n",
       "│ 0      ┆ 0          ┆ 1          ┆ 0.713   ┆ … ┆ 0.0        ┆ 59.492308  ┆ 24.584615 ┆ 1.0       │\n",
       "│ 0      ┆ 0          ┆ 1          ┆ 96.59   ┆ … ┆ 0.0        ┆ 59.492308  ┆ 24.584615 ┆ 1.0       │\n",
       "│ 0      ┆ 0          ┆ 1          ┆ 1.132   ┆ … ┆ 0.0        ┆ 59.492308  ┆ 24.584615 ┆ 1.0       │\n",
       "│ 0      ┆ 0          ┆ 1          ┆ 77.691  ┆ … ┆ 0.0        ┆ 59.492308  ┆ 24.584615 ┆ 1.0       │\n",
       "│ 0      ┆ 0          ┆ 1          ┆ 0.49    ┆ … ┆ 0.0        ┆ 59.492308  ┆ 24.584615 ┆ 1.0       │\n",
       "│ …      ┆ …          ┆ …          ┆ …       ┆ … ┆ …          ┆ …          ┆ …         ┆ …         │\n",
       "│ 0      ┆ 0          ┆ 1          ┆ 569.301 ┆ … ┆ null       ┆ null       ┆ null      ┆ null      │\n",
       "│ 0      ┆ 0          ┆ 1          ┆ 5.086   ┆ … ┆ null       ┆ null       ┆ null      ┆ null      │\n",
       "│ 0      ┆ 0          ┆ 1          ┆ 577.499 ┆ … ┆ null       ┆ null       ┆ null      ┆ null      │\n",
       "│ 0      ┆ 0          ┆ 1          ┆ 2.921   ┆ … ┆ null       ┆ null       ┆ null      ┆ null      │\n",
       "│ 0      ┆ 0          ┆ 1          ┆ 544.221 ┆ … ┆ null       ┆ null       ┆ null      ┆ null      │\n",
       "└────────┴────────────┴────────────┴─────────┴───┴────────────┴────────────┴───────────┴───────────┘"
      ]
     },
     "execution_count": 113,
     "metadata": {},
     "output_type": "execute_result"
    }
   ],
   "source": [
    "res.filter(\n",
    "    (pl.col(\"county\") == 0) &\n",
    "    (pl.col(\"product_type\") == 1) &\n",
    "    (pl.col(\"is_business\") == 0)\n",
    ")"
   ]
  },
  {
   "cell_type": "code",
   "execution_count": 14,
   "metadata": {},
   "outputs": [
    {
     "data": {
      "text/html": [
       "<div><style>\n",
       ".dataframe > thead > tr,\n",
       ".dataframe > tbody > tr {\n",
       "  text-align: right;\n",
       "  white-space: pre-wrap;\n",
       "}\n",
       "</style>\n",
       "<small>shape: (1_710_802, 19)</small><table border=\"1\" class=\"dataframe\"><thead><tr><th>datetime</th><th>temperature_hw</th><th>dewpoint_hw</th><th>rain_hw</th><th>snowfall_hw</th><th>surface_pressure_hw</th><th>cloudcover_total_hw</th><th>cloudcover_low_hw</th><th>cloudcover_mid_hw</th><th>cloudcover_high_hw</th><th>windspeed_10m_hw</th><th>winddirection_10m_hw</th><th>shortwave_radiation_hw</th><th>direct_solar_radiation_hw</th><th>diffuse_radiation_hw</th><th>latitude_hw</th><th>longitude_hw</th><th>data_block_id_hw</th><th>county</th></tr><tr><td>datetime[μs]</td><td>f64</td><td>f64</td><td>f64</td><td>f64</td><td>f64</td><td>i64</td><td>i64</td><td>i64</td><td>i64</td><td>f64</td><td>i64</td><td>f64</td><td>f64</td><td>f64</td><td>f64</td><td>f64</td><td>f64</td><td>i64</td></tr></thead><tbody><tr><td>2021-09-01 00:00:00</td><td>14.2</td><td>11.6</td><td>0.0</td><td>0.0</td><td>1015.9</td><td>31</td><td>31</td><td>0</td><td>11</td><td>7.083333</td><td>8</td><td>0.0</td><td>0.0</td><td>0.0</td><td>57.6</td><td>21.7</td><td>1.0</td><td>10</td></tr><tr><td>2021-09-01 00:00:00</td><td>13.9</td><td>11.5</td><td>0.0</td><td>0.0</td><td>1010.7</td><td>33</td><td>37</td><td>0</td><td>0</td><td>5.111111</td><td>359</td><td>0.0</td><td>0.0</td><td>0.0</td><td>57.6</td><td>22.2</td><td>1.0</td><td>10</td></tr><tr><td>2021-09-01 00:00:00</td><td>14.0</td><td>12.5</td><td>0.0</td><td>0.0</td><td>1015.0</td><td>31</td><td>34</td><td>0</td><td>0</td><td>6.333333</td><td>355</td><td>0.0</td><td>0.0</td><td>0.0</td><td>57.6</td><td>22.7</td><td>1.0</td><td>10</td></tr><tr><td>2021-09-01 00:00:00</td><td>14.6</td><td>11.5</td><td>0.0</td><td>0.0</td><td>1017.3</td><td>0</td><td>0</td><td>0</td><td>0</td><td>8.083333</td><td>297</td><td>358.0</td><td>277.0</td><td>81.0</td><td>57.6</td><td>23.2</td><td>1.0</td><td>10</td></tr><tr><td>2021-09-01 00:00:00</td><td>15.7</td><td>12.9</td><td>0.0</td><td>0.0</td><td>1014.0</td><td>22</td><td>25</td><td>0</td><td>0</td><td>8.416667</td><td>5</td><td>0.0</td><td>0.0</td><td>0.0</td><td>57.6</td><td>23.7</td><td>1.0</td><td>7</td></tr><tr><td>&hellip;</td><td>&hellip;</td><td>&hellip;</td><td>&hellip;</td><td>&hellip;</td><td>&hellip;</td><td>&hellip;</td><td>&hellip;</td><td>&hellip;</td><td>&hellip;</td><td>&hellip;</td><td>&hellip;</td><td>&hellip;</td><td>&hellip;</td><td>&hellip;</td><td>&hellip;</td><td>&hellip;</td><td>&hellip;</td><td>&hellip;</td></tr><tr><td>2023-05-30 10:00:00</td><td>11.7</td><td>4.6</td><td>0.0</td><td>0.0</td><td>1018.9</td><td>40</td><td>9</td><td>54</td><td>0</td><td>1.055556</td><td>253</td><td>567.0</td><td>392.0</td><td>175.0</td><td>59.7</td><td>26.2</td><td>637.0</td><td>5</td></tr><tr><td>2023-05-30 10:00:00</td><td>12.3</td><td>3.5</td><td>0.0</td><td>0.0</td><td>1019.0</td><td>46</td><td>4</td><td>70</td><td>0</td><td>0.805556</td><td>263</td><td>581.0</td><td>407.0</td><td>174.0</td><td>59.7</td><td>26.7</td><td>637.0</td><td>5</td></tr><tr><td>2023-05-30 10:00:00</td><td>9.8</td><td>3.0</td><td>0.0</td><td>0.0</td><td>1019.2</td><td>41</td><td>4</td><td>62</td><td>0</td><td>1.972222</td><td>285</td><td>609.0</td><td>432.0</td><td>177.0</td><td>59.7</td><td>27.2</td><td>637.0</td><td>2</td></tr><tr><td>2023-05-30 10:00:00</td><td>11.7</td><td>1.6</td><td>0.0</td><td>0.0</td><td>1019.0</td><td>44</td><td>0</td><td>73</td><td>0</td><td>3.5</td><td>307</td><td>658.0</td><td>521.0</td><td>137.0</td><td>59.7</td><td>27.7</td><td>637.0</td><td>2</td></tr><tr><td>2023-05-30 10:00:00</td><td>12.0</td><td>1.4</td><td>0.0</td><td>0.0</td><td>1016.1</td><td>38</td><td>0</td><td>63</td><td>0</td><td>3.25</td><td>304</td><td>672.0</td><td>550.0</td><td>122.0</td><td>59.7</td><td>28.2</td><td>637.0</td><td>2</td></tr></tbody></table></div>"
      ],
      "text/plain": [
       "shape: (1_710_802, 19)\n",
       "┌────────────┬────────────┬────────────┬─────────┬───┬────────────┬───────────┬───────────┬────────┐\n",
       "│ datetime   ┆ temperatur ┆ dewpoint_h ┆ rain_hw ┆ … ┆ latitude_h ┆ longitude ┆ data_bloc ┆ county │\n",
       "│ ---        ┆ e_hw       ┆ w          ┆ ---     ┆   ┆ w          ┆ _hw       ┆ k_id_hw   ┆ ---    │\n",
       "│ datetime[μ ┆ ---        ┆ ---        ┆ f64     ┆   ┆ ---        ┆ ---       ┆ ---       ┆ i64    │\n",
       "│ s]         ┆ f64        ┆ f64        ┆         ┆   ┆ f64        ┆ f64       ┆ f64       ┆        │\n",
       "╞════════════╪════════════╪════════════╪═════════╪═══╪════════════╪═══════════╪═══════════╪════════╡\n",
       "│ 2021-09-01 ┆ 14.2       ┆ 11.6       ┆ 0.0     ┆ … ┆ 57.6       ┆ 21.7      ┆ 1.0       ┆ 10     │\n",
       "│ 00:00:00   ┆            ┆            ┆         ┆   ┆            ┆           ┆           ┆        │\n",
       "│ 2021-09-01 ┆ 13.9       ┆ 11.5       ┆ 0.0     ┆ … ┆ 57.6       ┆ 22.2      ┆ 1.0       ┆ 10     │\n",
       "│ 00:00:00   ┆            ┆            ┆         ┆   ┆            ┆           ┆           ┆        │\n",
       "│ 2021-09-01 ┆ 14.0       ┆ 12.5       ┆ 0.0     ┆ … ┆ 57.6       ┆ 22.7      ┆ 1.0       ┆ 10     │\n",
       "│ 00:00:00   ┆            ┆            ┆         ┆   ┆            ┆           ┆           ┆        │\n",
       "│ 2021-09-01 ┆ 14.6       ┆ 11.5       ┆ 0.0     ┆ … ┆ 57.6       ┆ 23.2      ┆ 1.0       ┆ 10     │\n",
       "│ 00:00:00   ┆            ┆            ┆         ┆   ┆            ┆           ┆           ┆        │\n",
       "│ 2021-09-01 ┆ 15.7       ┆ 12.9       ┆ 0.0     ┆ … ┆ 57.6       ┆ 23.7      ┆ 1.0       ┆ 7      │\n",
       "│ 00:00:00   ┆            ┆            ┆         ┆   ┆            ┆           ┆           ┆        │\n",
       "│ …          ┆ …          ┆ …          ┆ …       ┆ … ┆ …          ┆ …         ┆ …         ┆ …      │\n",
       "│ 2023-05-30 ┆ 11.7       ┆ 4.6        ┆ 0.0     ┆ … ┆ 59.7       ┆ 26.2      ┆ 637.0     ┆ 5      │\n",
       "│ 10:00:00   ┆            ┆            ┆         ┆   ┆            ┆           ┆           ┆        │\n",
       "│ 2023-05-30 ┆ 12.3       ┆ 3.5        ┆ 0.0     ┆ … ┆ 59.7       ┆ 26.7      ┆ 637.0     ┆ 5      │\n",
       "│ 10:00:00   ┆            ┆            ┆         ┆   ┆            ┆           ┆           ┆        │\n",
       "│ 2023-05-30 ┆ 9.8        ┆ 3.0        ┆ 0.0     ┆ … ┆ 59.7       ┆ 27.2      ┆ 637.0     ┆ 2      │\n",
       "│ 10:00:00   ┆            ┆            ┆         ┆   ┆            ┆           ┆           ┆        │\n",
       "│ 2023-05-30 ┆ 11.7       ┆ 1.6        ┆ 0.0     ┆ … ┆ 59.7       ┆ 27.7      ┆ 637.0     ┆ 2      │\n",
       "│ 10:00:00   ┆            ┆            ┆         ┆   ┆            ┆           ┆           ┆        │\n",
       "│ 2023-05-30 ┆ 12.0       ┆ 1.4        ┆ 0.0     ┆ … ┆ 59.7       ┆ 28.2      ┆ 637.0     ┆ 2      │\n",
       "│ 10:00:00   ┆            ┆            ┆         ┆   ┆            ┆           ┆           ┆        │\n",
       "└────────────┴────────────┴────────────┴─────────┴───┴────────────┴───────────┴───────────┴────────┘"
      ]
     },
     "execution_count": 14,
     "metadata": {},
     "output_type": "execute_result"
    }
   ],
   "source": [
    "res"
   ]
  },
  {
   "cell_type": "markdown",
   "metadata": {},
   "source": []
  },
  {
   "cell_type": "code",
   "execution_count": 8,
   "metadata": {},
   "outputs": [
    {
     "ename": "NameError",
     "evalue": "name 'dfs' is not defined",
     "output_type": "error",
     "traceback": [
      "\u001b[1;31m---------------------------------------------------------------------------\u001b[0m",
      "\u001b[1;31mNameError\u001b[0m                                 Traceback (most recent call last)",
      "Cell \u001b[1;32mIn[8], line 1\u001b[0m\n\u001b[1;32m----> 1\u001b[0m \u001b[43mdfs\u001b[49m[\u001b[38;5;124m\"\u001b[39m\u001b[38;5;124mhistorical_weather\u001b[39m\u001b[38;5;124m\"\u001b[39m]\n",
      "\u001b[1;31mNameError\u001b[0m: name 'dfs' is not defined"
     ]
    }
   ],
   "source": [
    "dfs[\"historical_weather\"]"
   ]
  },
  {
   "cell_type": "code",
   "execution_count": 11,
   "metadata": {},
   "outputs": [],
   "source": [
    "# Adivinar que hace la variable hours ahead f mean\n",
    "# No añadir los Targets de horas anteriores"
   ]
  },
  {
   "cell_type": "code",
   "execution_count": 31,
   "metadata": {},
   "outputs": [
    {
     "data": {
      "text/html": [
       "<div><style>\n",
       ".dataframe > thead > tr,\n",
       ".dataframe > tbody > tr {\n",
       "  text-align: right;\n",
       "  white-space: pre-wrap;\n",
       "}\n",
       "</style>\n",
       "<small>shape: (5, 7)</small><table border=\"1\" class=\"dataframe\"><thead><tr><th>product_type</th><th>county</th><th>eic_count</th><th>installed_capacity</th><th>is_business</th><th>date</th><th>data_block_id</th></tr><tr><td>i64</td><td>i64</td><td>i64</td><td>f64</td><td>i64</td><td>str</td><td>i64</td></tr></thead><tbody><tr><td>1</td><td>15</td><td>51</td><td>415.6</td><td>0</td><td>&quot;2023-05-29&quot;</td><td>637</td></tr><tr><td>3</td><td>15</td><td>161</td><td>2035.75</td><td>0</td><td>&quot;2023-05-29&quot;</td><td>637</td></tr><tr><td>0</td><td>15</td><td>15</td><td>620.0</td><td>1</td><td>&quot;2023-05-29&quot;</td><td>637</td></tr><tr><td>1</td><td>15</td><td>20</td><td>624.5</td><td>1</td><td>&quot;2023-05-29&quot;</td><td>637</td></tr><tr><td>3</td><td>15</td><td>55</td><td>2188.2</td><td>1</td><td>&quot;2023-05-29&quot;</td><td>637</td></tr></tbody></table></div>"
      ],
      "text/plain": [
       "shape: (5, 7)\n",
       "┌──────────────┬────────┬───────────┬───────────────────┬─────────────┬────────────┬───────────────┐\n",
       "│ product_type ┆ county ┆ eic_count ┆ installed_capacit ┆ is_business ┆ date       ┆ data_block_id │\n",
       "│ ---          ┆ ---    ┆ ---       ┆ y                 ┆ ---         ┆ ---        ┆ ---           │\n",
       "│ i64          ┆ i64    ┆ i64       ┆ ---               ┆ i64         ┆ str        ┆ i64           │\n",
       "│              ┆        ┆           ┆ f64               ┆             ┆            ┆               │\n",
       "╞══════════════╪════════╪═══════════╪═══════════════════╪═════════════╪════════════╪═══════════════╡\n",
       "│ 1            ┆ 15     ┆ 51        ┆ 415.6             ┆ 0           ┆ 2023-05-29 ┆ 637           │\n",
       "│ 3            ┆ 15     ┆ 161       ┆ 2035.75           ┆ 0           ┆ 2023-05-29 ┆ 637           │\n",
       "│ 0            ┆ 15     ┆ 15        ┆ 620.0             ┆ 1           ┆ 2023-05-29 ┆ 637           │\n",
       "│ 1            ┆ 15     ┆ 20        ┆ 624.5             ┆ 1           ┆ 2023-05-29 ┆ 637           │\n",
       "│ 3            ┆ 15     ┆ 55        ┆ 2188.2            ┆ 1           ┆ 2023-05-29 ┆ 637           │\n",
       "└──────────────┴────────┴───────────┴───────────────────┴─────────────┴────────────┴───────────────┘"
      ]
     },
     "execution_count": 31,
     "metadata": {},
     "output_type": "execute_result"
    }
   ],
   "source": [
    "dfs[\"client\"].tail()"
   ]
  },
  {
   "cell_type": "code",
   "execution_count": 41,
   "metadata": {},
   "outputs": [
    {
     "data": {
      "text/html": [
       "<div><style>\n",
       ".dataframe > thead > tr,\n",
       ".dataframe > tbody > tr {\n",
       "  text-align: right;\n",
       "  white-space: pre-wrap;\n",
       "}\n",
       "</style>\n",
       "<small>shape: (2_018_352, 9)</small><table border=\"1\" class=\"dataframe\"><thead><tr><th>county</th><th>is_business</th><th>product_type</th><th>target</th><th>is_consumption</th><th>datetime</th><th>data_block_id</th><th>row_id</th><th>prediction_unit_id</th></tr><tr><td>i64</td><td>i64</td><td>i64</td><td>f64</td><td>i64</td><td>str</td><td>i64</td><td>i64</td><td>i64</td></tr></thead><tbody><tr><td>0</td><td>0</td><td>1</td><td>0.713</td><td>0</td><td>&quot;2021-09-01 00:00:00&quot;</td><td>0</td><td>0</td><td>0</td></tr><tr><td>0</td><td>0</td><td>1</td><td>96.59</td><td>1</td><td>&quot;2021-09-01 00:00:00&quot;</td><td>0</td><td>1</td><td>0</td></tr><tr><td>0</td><td>0</td><td>2</td><td>0.0</td><td>0</td><td>&quot;2021-09-01 00:00:00&quot;</td><td>0</td><td>2</td><td>1</td></tr><tr><td>0</td><td>0</td><td>2</td><td>17.314</td><td>1</td><td>&quot;2021-09-01 00:00:00&quot;</td><td>0</td><td>3</td><td>1</td></tr><tr><td>0</td><td>0</td><td>3</td><td>2.904</td><td>0</td><td>&quot;2021-09-01 00:00:00&quot;</td><td>0</td><td>4</td><td>2</td></tr><tr><td>&hellip;</td><td>&hellip;</td><td>&hellip;</td><td>&hellip;</td><td>&hellip;</td><td>&hellip;</td><td>&hellip;</td><td>&hellip;</td><td>&hellip;</td></tr><tr><td>15</td><td>1</td><td>0</td><td>197.233</td><td>1</td><td>&quot;2023-05-31 23:00:00&quot;</td><td>637</td><td>2018347</td><td>64</td></tr><tr><td>15</td><td>1</td><td>1</td><td>0.0</td><td>0</td><td>&quot;2023-05-31 23:00:00&quot;</td><td>637</td><td>2018348</td><td>59</td></tr><tr><td>15</td><td>1</td><td>1</td><td>28.404</td><td>1</td><td>&quot;2023-05-31 23:00:00&quot;</td><td>637</td><td>2018349</td><td>59</td></tr><tr><td>15</td><td>1</td><td>3</td><td>0.0</td><td>0</td><td>&quot;2023-05-31 23:00:00&quot;</td><td>637</td><td>2018350</td><td>60</td></tr><tr><td>15</td><td>1</td><td>3</td><td>196.24</td><td>1</td><td>&quot;2023-05-31 23:00:00&quot;</td><td>637</td><td>2018351</td><td>60</td></tr></tbody></table></div>"
      ],
      "text/plain": [
       "shape: (2_018_352, 9)\n",
       "┌────────┬─────────────┬────────────┬─────────┬───┬────────────┬────────────┬─────────┬────────────┐\n",
       "│ county ┆ is_business ┆ product_ty ┆ target  ┆ … ┆ datetime   ┆ data_block ┆ row_id  ┆ prediction │\n",
       "│ ---    ┆ ---         ┆ pe         ┆ ---     ┆   ┆ ---        ┆ _id        ┆ ---     ┆ _unit_id   │\n",
       "│ i64    ┆ i64         ┆ ---        ┆ f64     ┆   ┆ str        ┆ ---        ┆ i64     ┆ ---        │\n",
       "│        ┆             ┆ i64        ┆         ┆   ┆            ┆ i64        ┆         ┆ i64        │\n",
       "╞════════╪═════════════╪════════════╪═════════╪═══╪════════════╪════════════╪═════════╪════════════╡\n",
       "│ 0      ┆ 0           ┆ 1          ┆ 0.713   ┆ … ┆ 2021-09-01 ┆ 0          ┆ 0       ┆ 0          │\n",
       "│        ┆             ┆            ┆         ┆   ┆ 00:00:00   ┆            ┆         ┆            │\n",
       "│ 0      ┆ 0           ┆ 1          ┆ 96.59   ┆ … ┆ 2021-09-01 ┆ 0          ┆ 1       ┆ 0          │\n",
       "│        ┆             ┆            ┆         ┆   ┆ 00:00:00   ┆            ┆         ┆            │\n",
       "│ 0      ┆ 0           ┆ 2          ┆ 0.0     ┆ … ┆ 2021-09-01 ┆ 0          ┆ 2       ┆ 1          │\n",
       "│        ┆             ┆            ┆         ┆   ┆ 00:00:00   ┆            ┆         ┆            │\n",
       "│ 0      ┆ 0           ┆ 2          ┆ 17.314  ┆ … ┆ 2021-09-01 ┆ 0          ┆ 3       ┆ 1          │\n",
       "│        ┆             ┆            ┆         ┆   ┆ 00:00:00   ┆            ┆         ┆            │\n",
       "│ 0      ┆ 0           ┆ 3          ┆ 2.904   ┆ … ┆ 2021-09-01 ┆ 0          ┆ 4       ┆ 2          │\n",
       "│        ┆             ┆            ┆         ┆   ┆ 00:00:00   ┆            ┆         ┆            │\n",
       "│ …      ┆ …           ┆ …          ┆ …       ┆ … ┆ …          ┆ …          ┆ …       ┆ …          │\n",
       "│ 15     ┆ 1           ┆ 0          ┆ 197.233 ┆ … ┆ 2023-05-31 ┆ 637        ┆ 2018347 ┆ 64         │\n",
       "│        ┆             ┆            ┆         ┆   ┆ 23:00:00   ┆            ┆         ┆            │\n",
       "│ 15     ┆ 1           ┆ 1          ┆ 0.0     ┆ … ┆ 2023-05-31 ┆ 637        ┆ 2018348 ┆ 59         │\n",
       "│        ┆             ┆            ┆         ┆   ┆ 23:00:00   ┆            ┆         ┆            │\n",
       "│ 15     ┆ 1           ┆ 1          ┆ 28.404  ┆ … ┆ 2023-05-31 ┆ 637        ┆ 2018349 ┆ 59         │\n",
       "│        ┆             ┆            ┆         ┆   ┆ 23:00:00   ┆            ┆         ┆            │\n",
       "│ 15     ┆ 1           ┆ 3          ┆ 0.0     ┆ … ┆ 2023-05-31 ┆ 637        ┆ 2018350 ┆ 60         │\n",
       "│        ┆             ┆            ┆         ┆   ┆ 23:00:00   ┆            ┆         ┆            │\n",
       "│ 15     ┆ 1           ┆ 3          ┆ 196.24  ┆ … ┆ 2023-05-31 ┆ 637        ┆ 2018351 ┆ 60         │\n",
       "│        ┆             ┆            ┆         ┆   ┆ 23:00:00   ┆            ┆         ┆            │\n",
       "└────────┴─────────────┴────────────┴─────────┴───┴────────────┴────────────┴─────────┴────────────┘"
      ]
     },
     "metadata": {},
     "output_type": "display_data"
    },
    {
     "data": {
      "text/html": [
       "<div><style>\n",
       ".dataframe > thead > tr,\n",
       ".dataframe > tbody > tr {\n",
       "  text-align: right;\n",
       "  white-space: pre-wrap;\n",
       "}\n",
       "</style>\n",
       "<small>shape: (15_286, 4)</small><table border=\"1\" class=\"dataframe\"><thead><tr><th>forecast_date</th><th>euros_per_mwh</th><th>origin_date</th><th>data_block_id</th></tr><tr><td>str</td><td>f64</td><td>str</td><td>i64</td></tr></thead><tbody><tr><td>&quot;2021-09-01 00:00:00&quot;</td><td>92.51</td><td>&quot;2021-08-31 00:00:00&quot;</td><td>1</td></tr><tr><td>&quot;2021-09-01 01:00:00&quot;</td><td>88.9</td><td>&quot;2021-08-31 01:00:00&quot;</td><td>1</td></tr><tr><td>&quot;2021-09-01 02:00:00&quot;</td><td>87.35</td><td>&quot;2021-08-31 02:00:00&quot;</td><td>1</td></tr><tr><td>&quot;2021-09-01 03:00:00&quot;</td><td>86.88</td><td>&quot;2021-08-31 03:00:00&quot;</td><td>1</td></tr><tr><td>&quot;2021-09-01 04:00:00&quot;</td><td>88.43</td><td>&quot;2021-08-31 04:00:00&quot;</td><td>1</td></tr><tr><td>&hellip;</td><td>&hellip;</td><td>&hellip;</td><td>&hellip;</td></tr><tr><td>&quot;2023-05-30 19:00:00&quot;</td><td>82.1</td><td>&quot;2023-05-29 19:00:00&quot;</td><td>637</td></tr><tr><td>&quot;2023-05-30 20:00:00&quot;</td><td>150.85</td><td>&quot;2023-05-29 20:00:00&quot;</td><td>637</td></tr><tr><td>&quot;2023-05-30 21:00:00&quot;</td><td>82.1</td><td>&quot;2023-05-29 21:00:00&quot;</td><td>637</td></tr><tr><td>&quot;2023-05-30 22:00:00&quot;</td><td>82.09</td><td>&quot;2023-05-29 22:00:00&quot;</td><td>637</td></tr><tr><td>&quot;2023-05-30 23:00:00&quot;</td><td>-1.29</td><td>&quot;2023-05-29 23:00:00&quot;</td><td>637</td></tr></tbody></table></div>"
      ],
      "text/plain": [
       "shape: (15_286, 4)\n",
       "┌─────────────────────┬───────────────┬─────────────────────┬───────────────┐\n",
       "│ forecast_date       ┆ euros_per_mwh ┆ origin_date         ┆ data_block_id │\n",
       "│ ---                 ┆ ---           ┆ ---                 ┆ ---           │\n",
       "│ str                 ┆ f64           ┆ str                 ┆ i64           │\n",
       "╞═════════════════════╪═══════════════╪═════════════════════╪═══════════════╡\n",
       "│ 2021-09-01 00:00:00 ┆ 92.51         ┆ 2021-08-31 00:00:00 ┆ 1             │\n",
       "│ 2021-09-01 01:00:00 ┆ 88.9          ┆ 2021-08-31 01:00:00 ┆ 1             │\n",
       "│ 2021-09-01 02:00:00 ┆ 87.35         ┆ 2021-08-31 02:00:00 ┆ 1             │\n",
       "│ 2021-09-01 03:00:00 ┆ 86.88         ┆ 2021-08-31 03:00:00 ┆ 1             │\n",
       "│ 2021-09-01 04:00:00 ┆ 88.43         ┆ 2021-08-31 04:00:00 ┆ 1             │\n",
       "│ …                   ┆ …             ┆ …                   ┆ …             │\n",
       "│ 2023-05-30 19:00:00 ┆ 82.1          ┆ 2023-05-29 19:00:00 ┆ 637           │\n",
       "│ 2023-05-30 20:00:00 ┆ 150.85        ┆ 2023-05-29 20:00:00 ┆ 637           │\n",
       "│ 2023-05-30 21:00:00 ┆ 82.1          ┆ 2023-05-29 21:00:00 ┆ 637           │\n",
       "│ 2023-05-30 22:00:00 ┆ 82.09         ┆ 2023-05-29 22:00:00 ┆ 637           │\n",
       "│ 2023-05-30 23:00:00 ┆ -1.29         ┆ 2023-05-29 23:00:00 ┆ 637           │\n",
       "└─────────────────────┴───────────────┴─────────────────────┴───────────────┘"
      ]
     },
     "metadata": {},
     "output_type": "display_data"
    }
   ],
   "source": [
    "display(dfs[\"train\"])\n",
    "display(dfs[\"electricity_prices\"])"
   ]
  },
  {
   "cell_type": "code",
   "execution_count": null,
   "metadata": {},
   "outputs": [
    {
     "name": "stdout",
     "output_type": "stream",
     "text": [
      "train:\n"
     ]
    },
    {
     "data": {
      "text/html": [
       "<div><style>\n",
       ".dataframe > thead > tr,\n",
       ".dataframe > tbody > tr {\n",
       "  text-align: right;\n",
       "  white-space: pre-wrap;\n",
       "}\n",
       "</style>\n",
       "<small>shape: (1, 9)</small><table border=\"1\" class=\"dataframe\"><thead><tr><th>county</th><th>is_business</th><th>product_type</th><th>target</th><th>is_consumption</th><th>datetime</th><th>data_block_id</th><th>row_id</th><th>prediction_unit_id</th></tr><tr><td>i64</td><td>i64</td><td>i64</td><td>f64</td><td>i64</td><td>str</td><td>i64</td><td>i64</td><td>i64</td></tr></thead><tbody><tr><td>0</td><td>0</td><td>1</td><td>0.713</td><td>0</td><td>&quot;2021-09-01 00:00:00&quot;</td><td>0</td><td>0</td><td>0</td></tr></tbody></table></div>"
      ],
      "text/plain": [
       "shape: (1, 9)\n",
       "┌────────┬─────────────┬─────────────┬────────┬───┬─────────────┬────────────┬────────┬────────────┐\n",
       "│ county ┆ is_business ┆ product_typ ┆ target ┆ … ┆ datetime    ┆ data_block ┆ row_id ┆ prediction │\n",
       "│ ---    ┆ ---         ┆ e           ┆ ---    ┆   ┆ ---         ┆ _id        ┆ ---    ┆ _unit_id   │\n",
       "│ i64    ┆ i64         ┆ ---         ┆ f64    ┆   ┆ str         ┆ ---        ┆ i64    ┆ ---        │\n",
       "│        ┆             ┆ i64         ┆        ┆   ┆             ┆ i64        ┆        ┆ i64        │\n",
       "╞════════╪═════════════╪═════════════╪════════╪═══╪═════════════╪════════════╪════════╪════════════╡\n",
       "│ 0      ┆ 0           ┆ 1           ┆ 0.713  ┆ … ┆ 2021-09-01  ┆ 0          ┆ 0      ┆ 0          │\n",
       "│        ┆             ┆             ┆        ┆   ┆ 00:00:00    ┆            ┆        ┆            │\n",
       "└────────┴─────────────┴─────────────┴────────┴───┴─────────────┴────────────┴────────┴────────────┘"
      ]
     },
     "metadata": {},
     "output_type": "display_data"
    },
    {
     "name": "stdout",
     "output_type": "stream",
     "text": [
      "gas_prices:\n"
     ]
    },
    {
     "data": {
      "text/html": [
       "<div><style>\n",
       ".dataframe > thead > tr,\n",
       ".dataframe > tbody > tr {\n",
       "  text-align: right;\n",
       "  white-space: pre-wrap;\n",
       "}\n",
       "</style>\n",
       "<small>shape: (1, 5)</small><table border=\"1\" class=\"dataframe\"><thead><tr><th>forecast_date</th><th>lowest_price_per_mwh</th><th>highest_price_per_mwh</th><th>origin_date</th><th>data_block_id</th></tr><tr><td>str</td><td>f64</td><td>f64</td><td>str</td><td>i64</td></tr></thead><tbody><tr><td>&quot;2021-09-01&quot;</td><td>45.23</td><td>46.32</td><td>&quot;2021-08-31&quot;</td><td>1</td></tr></tbody></table></div>"
      ],
      "text/plain": [
       "shape: (1, 5)\n",
       "┌───────────────┬──────────────────────┬───────────────────────┬─────────────┬───────────────┐\n",
       "│ forecast_date ┆ lowest_price_per_mwh ┆ highest_price_per_mwh ┆ origin_date ┆ data_block_id │\n",
       "│ ---           ┆ ---                  ┆ ---                   ┆ ---         ┆ ---           │\n",
       "│ str           ┆ f64                  ┆ f64                   ┆ str         ┆ i64           │\n",
       "╞═══════════════╪══════════════════════╪═══════════════════════╪═════════════╪═══════════════╡\n",
       "│ 2021-09-01    ┆ 45.23                ┆ 46.32                 ┆ 2021-08-31  ┆ 1             │\n",
       "└───────────────┴──────────────────────┴───────────────────────┴─────────────┴───────────────┘"
      ]
     },
     "metadata": {},
     "output_type": "display_data"
    },
    {
     "name": "stdout",
     "output_type": "stream",
     "text": [
      "client:\n"
     ]
    },
    {
     "data": {
      "text/html": [
       "<div><style>\n",
       ".dataframe > thead > tr,\n",
       ".dataframe > tbody > tr {\n",
       "  text-align: right;\n",
       "  white-space: pre-wrap;\n",
       "}\n",
       "</style>\n",
       "<small>shape: (1, 7)</small><table border=\"1\" class=\"dataframe\"><thead><tr><th>product_type</th><th>county</th><th>eic_count</th><th>installed_capacity</th><th>is_business</th><th>date</th><th>data_block_id</th></tr><tr><td>i64</td><td>i64</td><td>i64</td><td>f64</td><td>i64</td><td>str</td><td>i64</td></tr></thead><tbody><tr><td>1</td><td>0</td><td>108</td><td>952.89</td><td>0</td><td>&quot;2021-09-01&quot;</td><td>2</td></tr></tbody></table></div>"
      ],
      "text/plain": [
       "shape: (1, 7)\n",
       "┌──────────────┬────────┬───────────┬───────────────────┬─────────────┬────────────┬───────────────┐\n",
       "│ product_type ┆ county ┆ eic_count ┆ installed_capacit ┆ is_business ┆ date       ┆ data_block_id │\n",
       "│ ---          ┆ ---    ┆ ---       ┆ y                 ┆ ---         ┆ ---        ┆ ---           │\n",
       "│ i64          ┆ i64    ┆ i64       ┆ ---               ┆ i64         ┆ str        ┆ i64           │\n",
       "│              ┆        ┆           ┆ f64               ┆             ┆            ┆               │\n",
       "╞══════════════╪════════╪═══════════╪═══════════════════╪═════════════╪════════════╪═══════════════╡\n",
       "│ 1            ┆ 0      ┆ 108       ┆ 952.89            ┆ 0           ┆ 2021-09-01 ┆ 2             │\n",
       "└──────────────┴────────┴───────────┴───────────────────┴─────────────┴────────────┴───────────────┘"
      ]
     },
     "metadata": {},
     "output_type": "display_data"
    },
    {
     "name": "stdout",
     "output_type": "stream",
     "text": [
      "electricity_prices:\n"
     ]
    },
    {
     "data": {
      "text/html": [
       "<div><style>\n",
       ".dataframe > thead > tr,\n",
       ".dataframe > tbody > tr {\n",
       "  text-align: right;\n",
       "  white-space: pre-wrap;\n",
       "}\n",
       "</style>\n",
       "<small>shape: (1, 4)</small><table border=\"1\" class=\"dataframe\"><thead><tr><th>forecast_date</th><th>euros_per_mwh</th><th>origin_date</th><th>data_block_id</th></tr><tr><td>str</td><td>f64</td><td>str</td><td>i64</td></tr></thead><tbody><tr><td>&quot;2021-09-01 00:00:00&quot;</td><td>92.51</td><td>&quot;2021-08-31 00:00:00&quot;</td><td>1</td></tr></tbody></table></div>"
      ],
      "text/plain": [
       "shape: (1, 4)\n",
       "┌─────────────────────┬───────────────┬─────────────────────┬───────────────┐\n",
       "│ forecast_date       ┆ euros_per_mwh ┆ origin_date         ┆ data_block_id │\n",
       "│ ---                 ┆ ---           ┆ ---                 ┆ ---           │\n",
       "│ str                 ┆ f64           ┆ str                 ┆ i64           │\n",
       "╞═════════════════════╪═══════════════╪═════════════════════╪═══════════════╡\n",
       "│ 2021-09-01 00:00:00 ┆ 92.51         ┆ 2021-08-31 00:00:00 ┆ 1             │\n",
       "└─────────────────────┴───────────────┴─────────────────────┴───────────────┘"
      ]
     },
     "metadata": {},
     "output_type": "display_data"
    },
    {
     "name": "stdout",
     "output_type": "stream",
     "text": [
      "forecast_weather:\n"
     ]
    },
    {
     "data": {
      "text/html": [
       "<div><style>\n",
       ".dataframe > thead > tr,\n",
       ".dataframe > tbody > tr {\n",
       "  text-align: right;\n",
       "  white-space: pre-wrap;\n",
       "}\n",
       "</style>\n",
       "<small>shape: (1, 18)</small><table border=\"1\" class=\"dataframe\"><thead><tr><th>latitude</th><th>longitude</th><th>origin_datetime</th><th>hours_ahead</th><th>temperature</th><th>dewpoint</th><th>cloudcover_high</th><th>cloudcover_low</th><th>cloudcover_mid</th><th>cloudcover_total</th><th>10_metre_u_wind_component</th><th>10_metre_v_wind_component</th><th>data_block_id</th><th>forecast_datetime</th><th>direct_solar_radiation</th><th>surface_solar_radiation_downwards</th><th>snowfall</th><th>total_precipitation</th></tr><tr><td>f64</td><td>f64</td><td>str</td><td>i64</td><td>f64</td><td>f64</td><td>f64</td><td>f64</td><td>f64</td><td>f64</td><td>f64</td><td>f64</td><td>i64</td><td>str</td><td>f64</td><td>f64</td><td>f64</td><td>f64</td></tr></thead><tbody><tr><td>57.6</td><td>21.7</td><td>&quot;2021-09-01 02:00:00&quot;</td><td>1</td><td>15.655786</td><td>11.553613</td><td>0.904816</td><td>0.019714</td><td>0.0</td><td>0.905899</td><td>-0.411328</td><td>-9.106137</td><td>1</td><td>&quot;2021-09-01 03:00:00&quot;</td><td>0.0</td><td>0.0</td><td>0.0</td><td>0.0</td></tr></tbody></table></div>"
      ],
      "text/plain": [
       "shape: (1, 18)\n",
       "┌──────────┬───────────┬────────────┬───────────┬───┬───────────┬───────────┬──────────┬───────────┐\n",
       "│ latitude ┆ longitude ┆ origin_dat ┆ hours_ahe ┆ … ┆ direct_so ┆ surface_s ┆ snowfall ┆ total_pre │\n",
       "│ ---      ┆ ---       ┆ etime      ┆ ad        ┆   ┆ lar_radia ┆ olar_radi ┆ ---      ┆ cipitatio │\n",
       "│ f64      ┆ f64       ┆ ---        ┆ ---       ┆   ┆ tion      ┆ ation_dow ┆ f64      ┆ n         │\n",
       "│          ┆           ┆ str        ┆ i64       ┆   ┆ ---       ┆ nwa…      ┆          ┆ ---       │\n",
       "│          ┆           ┆            ┆           ┆   ┆ f64       ┆ ---       ┆          ┆ f64       │\n",
       "│          ┆           ┆            ┆           ┆   ┆           ┆ f64       ┆          ┆           │\n",
       "╞══════════╪═══════════╪════════════╪═══════════╪═══╪═══════════╪═══════════╪══════════╪═══════════╡\n",
       "│ 57.6     ┆ 21.7      ┆ 2021-09-01 ┆ 1         ┆ … ┆ 0.0       ┆ 0.0       ┆ 0.0      ┆ 0.0       │\n",
       "│          ┆           ┆ 02:00:00   ┆           ┆   ┆           ┆           ┆          ┆           │\n",
       "└──────────┴───────────┴────────────┴───────────┴───┴───────────┴───────────┴──────────┴───────────┘"
      ]
     },
     "metadata": {},
     "output_type": "display_data"
    },
    {
     "name": "stdout",
     "output_type": "stream",
     "text": [
      "historical_weather:\n"
     ]
    },
    {
     "data": {
      "text/html": [
       "<div><style>\n",
       ".dataframe > thead > tr,\n",
       ".dataframe > tbody > tr {\n",
       "  text-align: right;\n",
       "  white-space: pre-wrap;\n",
       "}\n",
       "</style>\n",
       "<small>shape: (1, 18)</small><table border=\"1\" class=\"dataframe\"><thead><tr><th>datetime</th><th>temperature</th><th>dewpoint</th><th>rain</th><th>snowfall</th><th>surface_pressure</th><th>cloudcover_total</th><th>cloudcover_low</th><th>cloudcover_mid</th><th>cloudcover_high</th><th>windspeed_10m</th><th>winddirection_10m</th><th>shortwave_radiation</th><th>direct_solar_radiation</th><th>diffuse_radiation</th><th>latitude</th><th>longitude</th><th>data_block_id</th></tr><tr><td>str</td><td>f64</td><td>f64</td><td>f64</td><td>f64</td><td>f64</td><td>i64</td><td>i64</td><td>i64</td><td>i64</td><td>f64</td><td>i64</td><td>f64</td><td>f64</td><td>f64</td><td>f64</td><td>f64</td><td>f64</td></tr></thead><tbody><tr><td>&quot;2021-09-01 00:00:00&quot;</td><td>14.2</td><td>11.6</td><td>0.0</td><td>0.0</td><td>1015.9</td><td>31</td><td>31</td><td>0</td><td>11</td><td>7.083333</td><td>8</td><td>0.0</td><td>0.0</td><td>0.0</td><td>57.6</td><td>21.7</td><td>1.0</td></tr></tbody></table></div>"
      ],
      "text/plain": [
       "shape: (1, 18)\n",
       "┌─────────────┬─────────────┬──────────┬──────┬───┬────────────┬──────────┬───────────┬────────────┐\n",
       "│ datetime    ┆ temperature ┆ dewpoint ┆ rain ┆ … ┆ diffuse_ra ┆ latitude ┆ longitude ┆ data_block │\n",
       "│ ---         ┆ ---         ┆ ---      ┆ ---  ┆   ┆ diation    ┆ ---      ┆ ---       ┆ _id        │\n",
       "│ str         ┆ f64         ┆ f64      ┆ f64  ┆   ┆ ---        ┆ f64      ┆ f64       ┆ ---        │\n",
       "│             ┆             ┆          ┆      ┆   ┆ f64        ┆          ┆           ┆ f64        │\n",
       "╞═════════════╪═════════════╪══════════╪══════╪═══╪════════════╪══════════╪═══════════╪════════════╡\n",
       "│ 2021-09-01  ┆ 14.2        ┆ 11.6     ┆ 0.0  ┆ … ┆ 0.0        ┆ 57.6     ┆ 21.7      ┆ 1.0        │\n",
       "│ 00:00:00    ┆             ┆          ┆      ┆   ┆            ┆          ┆           ┆            │\n",
       "└─────────────┴─────────────┴──────────┴──────┴───┴────────────┴──────────┴───────────┴────────────┘"
      ]
     },
     "metadata": {},
     "output_type": "display_data"
    },
    {
     "name": "stdout",
     "output_type": "stream",
     "text": [
      "county_lon_lats:\n"
     ]
    },
    {
     "data": {
      "text/html": [
       "<div><style>\n",
       ".dataframe > thead > tr,\n",
       ".dataframe > tbody > tr {\n",
       "  text-align: right;\n",
       "  white-space: pre-wrap;\n",
       "}\n",
       "</style>\n",
       "<small>shape: (1, 4)</small><table border=\"1\" class=\"dataframe\"><thead><tr><th></th><th>county</th><th>longitude</th><th>latitude</th></tr><tr><td>i64</td><td>i64</td><td>f64</td><td>f64</td></tr></thead><tbody><tr><td>0</td><td>0</td><td>24.2</td><td>59.1</td></tr></tbody></table></div>"
      ],
      "text/plain": [
       "shape: (1, 4)\n",
       "┌─────┬────────┬───────────┬──────────┐\n",
       "│     ┆ county ┆ longitude ┆ latitude │\n",
       "│ --- ┆ ---    ┆ ---       ┆ ---      │\n",
       "│ i64 ┆ i64    ┆ f64       ┆ f64      │\n",
       "╞═════╪════════╪═══════════╪══════════╡\n",
       "│ 0   ┆ 0      ┆ 24.2      ┆ 59.1     │\n",
       "└─────┴────────┴───────────┴──────────┘"
      ]
     },
     "metadata": {},
     "output_type": "display_data"
    },
    {
     "name": "stdout",
     "output_type": "stream",
     "text": [
      "weather_station:\n"
     ]
    },
    {
     "data": {
      "text/html": [
       "<div><style>\n",
       ".dataframe > thead > tr,\n",
       ".dataframe > tbody > tr {\n",
       "  text-align: right;\n",
       "  white-space: pre-wrap;\n",
       "}\n",
       "</style>\n",
       "<small>shape: (1, 4)</small><table border=\"1\" class=\"dataframe\"><thead><tr><th>county_name</th><th>longitude</th><th>latitude</th><th>county</th></tr><tr><td>str</td><td>f64</td><td>f64</td><td>i64</td></tr></thead><tbody><tr><td>null</td><td>21.7</td><td>57.6</td><td>null</td></tr></tbody></table></div>"
      ],
      "text/plain": [
       "shape: (1, 4)\n",
       "┌─────────────┬───────────┬──────────┬────────┐\n",
       "│ county_name ┆ longitude ┆ latitude ┆ county │\n",
       "│ ---         ┆ ---       ┆ ---      ┆ ---    │\n",
       "│ str         ┆ f64       ┆ f64      ┆ i64    │\n",
       "╞═════════════╪═══════════╪══════════╪════════╡\n",
       "│ null        ┆ 21.7      ┆ 57.6     ┆ null   │\n",
       "└─────────────┴───────────┴──────────┴────────┘"
      ]
     },
     "metadata": {},
     "output_type": "display_data"
    }
   ],
   "source": [
    "for key in dfs.keys():\n",
    "    print(f\"{key}:\")\n",
    "    display(dfs[key].head(1))"
   ]
  },
  {
   "cell_type": "code",
   "execution_count": null,
   "metadata": {},
   "outputs": [
    {
     "data": {
      "text/html": [
       "<div><style>\n",
       ".dataframe > thead > tr,\n",
       ".dataframe > tbody > tr {\n",
       "  text-align: right;\n",
       "  white-space: pre-wrap;\n",
       "}\n",
       "</style>\n",
       "<small>shape: (41_919, 7)</small><table border=\"1\" class=\"dataframe\"><thead><tr><th>product_type</th><th>county</th><th>eic_count</th><th>installed_capacity</th><th>is_business</th><th>date</th><th>data_block_id</th></tr><tr><td>i64</td><td>i64</td><td>i64</td><td>f64</td><td>i64</td><td>date</td><td>i64</td></tr></thead><tbody><tr><td>1</td><td>0</td><td>108</td><td>952.89</td><td>0</td><td>2021-09-01</td><td>2</td></tr><tr><td>2</td><td>0</td><td>17</td><td>166.4</td><td>0</td><td>2021-09-01</td><td>2</td></tr><tr><td>3</td><td>0</td><td>688</td><td>7207.88</td><td>0</td><td>2021-09-01</td><td>2</td></tr><tr><td>0</td><td>0</td><td>5</td><td>400.0</td><td>1</td><td>2021-09-01</td><td>2</td></tr><tr><td>1</td><td>0</td><td>43</td><td>1411.0</td><td>1</td><td>2021-09-01</td><td>2</td></tr><tr><td>&hellip;</td><td>&hellip;</td><td>&hellip;</td><td>&hellip;</td><td>&hellip;</td><td>&hellip;</td><td>&hellip;</td></tr><tr><td>1</td><td>15</td><td>51</td><td>415.6</td><td>0</td><td>2023-05-29</td><td>637</td></tr><tr><td>3</td><td>15</td><td>161</td><td>2035.75</td><td>0</td><td>2023-05-29</td><td>637</td></tr><tr><td>0</td><td>15</td><td>15</td><td>620.0</td><td>1</td><td>2023-05-29</td><td>637</td></tr><tr><td>1</td><td>15</td><td>20</td><td>624.5</td><td>1</td><td>2023-05-29</td><td>637</td></tr><tr><td>3</td><td>15</td><td>55</td><td>2188.2</td><td>1</td><td>2023-05-29</td><td>637</td></tr></tbody></table></div>"
      ],
      "text/plain": [
       "shape: (41_919, 7)\n",
       "┌──────────────┬────────┬───────────┬───────────────────┬─────────────┬────────────┬───────────────┐\n",
       "│ product_type ┆ county ┆ eic_count ┆ installed_capacit ┆ is_business ┆ date       ┆ data_block_id │\n",
       "│ ---          ┆ ---    ┆ ---       ┆ y                 ┆ ---         ┆ ---        ┆ ---           │\n",
       "│ i64          ┆ i64    ┆ i64       ┆ ---               ┆ i64         ┆ date       ┆ i64           │\n",
       "│              ┆        ┆           ┆ f64               ┆             ┆            ┆               │\n",
       "╞══════════════╪════════╪═══════════╪═══════════════════╪═════════════╪════════════╪═══════════════╡\n",
       "│ 1            ┆ 0      ┆ 108       ┆ 952.89            ┆ 0           ┆ 2021-09-01 ┆ 2             │\n",
       "│ 2            ┆ 0      ┆ 17        ┆ 166.4             ┆ 0           ┆ 2021-09-01 ┆ 2             │\n",
       "│ 3            ┆ 0      ┆ 688       ┆ 7207.88           ┆ 0           ┆ 2021-09-01 ┆ 2             │\n",
       "│ 0            ┆ 0      ┆ 5         ┆ 400.0             ┆ 1           ┆ 2021-09-01 ┆ 2             │\n",
       "│ 1            ┆ 0      ┆ 43        ┆ 1411.0            ┆ 1           ┆ 2021-09-01 ┆ 2             │\n",
       "│ …            ┆ …      ┆ …         ┆ …                 ┆ …           ┆ …          ┆ …             │\n",
       "│ 1            ┆ 15     ┆ 51        ┆ 415.6             ┆ 0           ┆ 2023-05-29 ┆ 637           │\n",
       "│ 3            ┆ 15     ┆ 161       ┆ 2035.75           ┆ 0           ┆ 2023-05-29 ┆ 637           │\n",
       "│ 0            ┆ 15     ┆ 15        ┆ 620.0             ┆ 1           ┆ 2023-05-29 ┆ 637           │\n",
       "│ 1            ┆ 15     ┆ 20        ┆ 624.5             ┆ 1           ┆ 2023-05-29 ┆ 637           │\n",
       "│ 3            ┆ 15     ┆ 55        ┆ 2188.2            ┆ 1           ┆ 2023-05-29 ┆ 637           │\n",
       "└──────────────┴────────┴───────────┴───────────────────┴─────────────┴────────────┴───────────────┘"
      ]
     },
     "execution_count": 20,
     "metadata": {},
     "output_type": "execute_result"
    }
   ],
   "source": [
    "dfs[\"client\"].with_columns(\n",
    "    pl.col(\"date\").str.strptime(pl.Date)\n",
    ")\n",
    ".0"
   ]
  },
  {
   "cell_type": "code",
   "execution_count": 17,
   "metadata": {},
   "outputs": [
    {
     "data": {
      "text/html": [
       "<div><style>\n",
       ".dataframe > thead > tr,\n",
       ".dataframe > tbody > tr {\n",
       "  text-align: right;\n",
       "  white-space: pre-wrap;\n",
       "}\n",
       "</style>\n",
       "<small>shape: (636, 7)</small><table border=\"1\" class=\"dataframe\"><thead><tr><th>product_type</th><th>county</th><th>eic_count</th><th>installed_capacity</th><th>is_business</th><th>date</th><th>data_block_id</th></tr><tr><td>i64</td><td>i64</td><td>i64</td><td>f64</td><td>i64</td><td>str</td><td>i64</td></tr></thead><tbody><tr><td>1</td><td>0</td><td>108</td><td>952.89</td><td>0</td><td>&quot;2021-09-01&quot;</td><td>2</td></tr><tr><td>1</td><td>0</td><td>108</td><td>952.89</td><td>0</td><td>&quot;2021-09-02&quot;</td><td>3</td></tr><tr><td>1</td><td>0</td><td>108</td><td>952.89</td><td>0</td><td>&quot;2021-09-03&quot;</td><td>4</td></tr><tr><td>1</td><td>0</td><td>108</td><td>952.89</td><td>0</td><td>&quot;2021-09-04&quot;</td><td>5</td></tr><tr><td>1</td><td>0</td><td>108</td><td>952.89</td><td>0</td><td>&quot;2021-09-05&quot;</td><td>6</td></tr><tr><td>&hellip;</td><td>&hellip;</td><td>&hellip;</td><td>&hellip;</td><td>&hellip;</td><td>&hellip;</td><td>&hellip;</td></tr><tr><td>1</td><td>0</td><td>508</td><td>4968.215</td><td>0</td><td>&quot;2023-05-25&quot;</td><td>633</td></tr><tr><td>1</td><td>0</td><td>507</td><td>4960.215</td><td>0</td><td>&quot;2023-05-26&quot;</td><td>634</td></tr><tr><td>1</td><td>0</td><td>507</td><td>4960.215</td><td>0</td><td>&quot;2023-05-27&quot;</td><td>635</td></tr><tr><td>1</td><td>0</td><td>508</td><td>4964.215</td><td>0</td><td>&quot;2023-05-28&quot;</td><td>636</td></tr><tr><td>1</td><td>0</td><td>508</td><td>4964.215</td><td>0</td><td>&quot;2023-05-29&quot;</td><td>637</td></tr></tbody></table></div>"
      ],
      "text/plain": [
       "shape: (636, 7)\n",
       "┌──────────────┬────────┬───────────┬───────────────────┬─────────────┬────────────┬───────────────┐\n",
       "│ product_type ┆ county ┆ eic_count ┆ installed_capacit ┆ is_business ┆ date       ┆ data_block_id │\n",
       "│ ---          ┆ ---    ┆ ---       ┆ y                 ┆ ---         ┆ ---        ┆ ---           │\n",
       "│ i64          ┆ i64    ┆ i64       ┆ ---               ┆ i64         ┆ str        ┆ i64           │\n",
       "│              ┆        ┆           ┆ f64               ┆             ┆            ┆               │\n",
       "╞══════════════╪════════╪═══════════╪═══════════════════╪═════════════╪════════════╪═══════════════╡\n",
       "│ 1            ┆ 0      ┆ 108       ┆ 952.89            ┆ 0           ┆ 2021-09-01 ┆ 2             │\n",
       "│ 1            ┆ 0      ┆ 108       ┆ 952.89            ┆ 0           ┆ 2021-09-02 ┆ 3             │\n",
       "│ 1            ┆ 0      ┆ 108       ┆ 952.89            ┆ 0           ┆ 2021-09-03 ┆ 4             │\n",
       "│ 1            ┆ 0      ┆ 108       ┆ 952.89            ┆ 0           ┆ 2021-09-04 ┆ 5             │\n",
       "│ 1            ┆ 0      ┆ 108       ┆ 952.89            ┆ 0           ┆ 2021-09-05 ┆ 6             │\n",
       "│ …            ┆ …      ┆ …         ┆ …                 ┆ …           ┆ …          ┆ …             │\n",
       "│ 1            ┆ 0      ┆ 508       ┆ 4968.215          ┆ 0           ┆ 2023-05-25 ┆ 633           │\n",
       "│ 1            ┆ 0      ┆ 507       ┆ 4960.215          ┆ 0           ┆ 2023-05-26 ┆ 634           │\n",
       "│ 1            ┆ 0      ┆ 507       ┆ 4960.215          ┆ 0           ┆ 2023-05-27 ┆ 635           │\n",
       "│ 1            ┆ 0      ┆ 508       ┆ 4964.215          ┆ 0           ┆ 2023-05-28 ┆ 636           │\n",
       "│ 1            ┆ 0      ┆ 508       ┆ 4964.215          ┆ 0           ┆ 2023-05-29 ┆ 637           │\n",
       "└──────────────┴────────┴───────────┴───────────────────┴─────────────┴────────────┴───────────────┘"
      ]
     },
     "metadata": {},
     "output_type": "display_data"
    }
   ],
   "source": [
    "display(dfs[\"client\"].filter(\n",
    "    (pl.col(\"product_type\") == 1) & \n",
    "    (pl.col(\"county\") == 0) & \n",
    "    (pl.col(\"is_business\") == 0)\n",
    "))"
   ]
  },
  {
   "cell_type": "code",
   "execution_count": 34,
   "metadata": {},
   "outputs": [
    {
     "data": {
      "text/html": [
       "<div><style>\n",
       ".dataframe > thead > tr,\n",
       ".dataframe > tbody > tr {\n",
       "  text-align: right;\n",
       "  white-space: pre-wrap;\n",
       "}\n",
       "</style>\n",
       "<small>shape: (2_928, 9)</small><table border=\"1\" class=\"dataframe\"><thead><tr><th>county</th><th>is_business</th><th>product_type</th><th>target</th><th>is_consumption</th><th>datetime</th><th>data_block_id</th><th>row_id</th><th>prediction_unit_id</th></tr><tr><td>i64</td><td>i64</td><td>i64</td><td>f64</td><td>i64</td><td>str</td><td>i64</td><td>i64</td><td>i64</td></tr></thead><tbody><tr><td>0</td><td>0</td><td>1</td><td>1.687</td><td>0</td><td>&quot;2021-09-02 00:00:00&quot;</td><td>1</td><td>2928</td><td>0</td></tr><tr><td>0</td><td>0</td><td>1</td><td>109.366</td><td>1</td><td>&quot;2021-09-02 00:00:00&quot;</td><td>1</td><td>2929</td><td>0</td></tr><tr><td>0</td><td>0</td><td>2</td><td>0.0</td><td>0</td><td>&quot;2021-09-02 00:00:00&quot;</td><td>1</td><td>2930</td><td>1</td></tr><tr><td>0</td><td>0</td><td>2</td><td>21.008</td><td>1</td><td>&quot;2021-09-02 00:00:00&quot;</td><td>1</td><td>2931</td><td>1</td></tr><tr><td>0</td><td>0</td><td>3</td><td>1.003</td><td>0</td><td>&quot;2021-09-02 00:00:00&quot;</td><td>1</td><td>2932</td><td>2</td></tr><tr><td>&hellip;</td><td>&hellip;</td><td>&hellip;</td><td>&hellip;</td><td>&hellip;</td><td>&hellip;</td><td>&hellip;</td><td>&hellip;</td><td>&hellip;</td></tr><tr><td>15</td><td>0</td><td>3</td><td>59.302</td><td>1</td><td>&quot;2021-09-02 23:00:00&quot;</td><td>1</td><td>5851</td><td>58</td></tr><tr><td>15</td><td>1</td><td>1</td><td>0.0</td><td>0</td><td>&quot;2021-09-02 23:00:00&quot;</td><td>1</td><td>5852</td><td>59</td></tr><tr><td>15</td><td>1</td><td>1</td><td>21.756</td><td>1</td><td>&quot;2021-09-02 23:00:00&quot;</td><td>1</td><td>5853</td><td>59</td></tr><tr><td>15</td><td>1</td><td>3</td><td>0.0</td><td>0</td><td>&quot;2021-09-02 23:00:00&quot;</td><td>1</td><td>5854</td><td>60</td></tr><tr><td>15</td><td>1</td><td>3</td><td>295.494</td><td>1</td><td>&quot;2021-09-02 23:00:00&quot;</td><td>1</td><td>5855</td><td>60</td></tr></tbody></table></div>"
      ],
      "text/plain": [
       "shape: (2_928, 9)\n",
       "┌────────┬─────────────┬─────────────┬─────────┬───┬────────────┬────────────┬────────┬────────────┐\n",
       "│ county ┆ is_business ┆ product_typ ┆ target  ┆ … ┆ datetime   ┆ data_block ┆ row_id ┆ prediction │\n",
       "│ ---    ┆ ---         ┆ e           ┆ ---     ┆   ┆ ---        ┆ _id        ┆ ---    ┆ _unit_id   │\n",
       "│ i64    ┆ i64         ┆ ---         ┆ f64     ┆   ┆ str        ┆ ---        ┆ i64    ┆ ---        │\n",
       "│        ┆             ┆ i64         ┆         ┆   ┆            ┆ i64        ┆        ┆ i64        │\n",
       "╞════════╪═════════════╪═════════════╪═════════╪═══╪════════════╪════════════╪════════╪════════════╡\n",
       "│ 0      ┆ 0           ┆ 1           ┆ 1.687   ┆ … ┆ 2021-09-02 ┆ 1          ┆ 2928   ┆ 0          │\n",
       "│        ┆             ┆             ┆         ┆   ┆ 00:00:00   ┆            ┆        ┆            │\n",
       "│ 0      ┆ 0           ┆ 1           ┆ 109.366 ┆ … ┆ 2021-09-02 ┆ 1          ┆ 2929   ┆ 0          │\n",
       "│        ┆             ┆             ┆         ┆   ┆ 00:00:00   ┆            ┆        ┆            │\n",
       "│ 0      ┆ 0           ┆ 2           ┆ 0.0     ┆ … ┆ 2021-09-02 ┆ 1          ┆ 2930   ┆ 1          │\n",
       "│        ┆             ┆             ┆         ┆   ┆ 00:00:00   ┆            ┆        ┆            │\n",
       "│ 0      ┆ 0           ┆ 2           ┆ 21.008  ┆ … ┆ 2021-09-02 ┆ 1          ┆ 2931   ┆ 1          │\n",
       "│        ┆             ┆             ┆         ┆   ┆ 00:00:00   ┆            ┆        ┆            │\n",
       "│ 0      ┆ 0           ┆ 3           ┆ 1.003   ┆ … ┆ 2021-09-02 ┆ 1          ┆ 2932   ┆ 2          │\n",
       "│        ┆             ┆             ┆         ┆   ┆ 00:00:00   ┆            ┆        ┆            │\n",
       "│ …      ┆ …           ┆ …           ┆ …       ┆ … ┆ …          ┆ …          ┆ …      ┆ …          │\n",
       "│ 15     ┆ 0           ┆ 3           ┆ 59.302  ┆ … ┆ 2021-09-02 ┆ 1          ┆ 5851   ┆ 58         │\n",
       "│        ┆             ┆             ┆         ┆   ┆ 23:00:00   ┆            ┆        ┆            │\n",
       "│ 15     ┆ 1           ┆ 1           ┆ 0.0     ┆ … ┆ 2021-09-02 ┆ 1          ┆ 5852   ┆ 59         │\n",
       "│        ┆             ┆             ┆         ┆   ┆ 23:00:00   ┆            ┆        ┆            │\n",
       "│ 15     ┆ 1           ┆ 1           ┆ 21.756  ┆ … ┆ 2021-09-02 ┆ 1          ┆ 5853   ┆ 59         │\n",
       "│        ┆             ┆             ┆         ┆   ┆ 23:00:00   ┆            ┆        ┆            │\n",
       "│ 15     ┆ 1           ┆ 3           ┆ 0.0     ┆ … ┆ 2021-09-02 ┆ 1          ┆ 5854   ┆ 60         │\n",
       "│        ┆             ┆             ┆         ┆   ┆ 23:00:00   ┆            ┆        ┆            │\n",
       "│ 15     ┆ 1           ┆ 3           ┆ 295.494 ┆ … ┆ 2021-09-02 ┆ 1          ┆ 5855   ┆ 60         │\n",
       "│        ┆             ┆             ┆         ┆   ┆ 23:00:00   ┆            ┆        ┆            │\n",
       "└────────┴─────────────┴─────────────┴─────────┴───┴────────────┴────────────┴────────┴────────────┘"
      ]
     },
     "execution_count": 34,
     "metadata": {},
     "output_type": "execute_result"
    }
   ],
   "source": [
    "dfs[\"train\"].filter(\n",
    "    pl.col(\"data_block_id\") == 1\n",
    ")"
   ]
  },
  {
   "cell_type": "code",
   "execution_count": 13,
   "metadata": {},
   "outputs": [
    {
     "data": {
      "text/html": [
       "<div><style>\n",
       ".dataframe > thead > tr,\n",
       ".dataframe > tbody > tr {\n",
       "  text-align: right;\n",
       "  white-space: pre-wrap;\n",
       "}\n",
       "</style>\n",
       "<small>shape: (1, 2)</small><table border=\"1\" class=\"dataframe\"><thead><tr><th>origin_datetime</th><th>hours_ahead</th></tr><tr><td>str</td><td>f64</td></tr></thead><tbody><tr><td>&quot;2021-09-01 02:00:00&quot;</td><td>24.5</td></tr></tbody></table></div>"
      ],
      "text/plain": [
       "shape: (1, 2)\n",
       "┌─────────────────────┬─────────────┐\n",
       "│ origin_datetime     ┆ hours_ahead │\n",
       "│ ---                 ┆ ---         │\n",
       "│ str                 ┆ f64         │\n",
       "╞═════════════════════╪═════════════╡\n",
       "│ 2021-09-01 02:00:00 ┆ 24.5        │\n",
       "└─────────────────────┴─────────────┘"
      ]
     },
     "execution_count": 13,
     "metadata": {},
     "output_type": "execute_result"
    }
   ],
   "source": [
    "dfs[\"forecast_weather\"].filter(\n",
    "    (pl.col(\"latitude\") == 57.6) &\n",
    "    (pl.col(\"longitude\") == 21.7) &\n",
    "    (pl.col(\"origin_datetime\") == \"2021-09-01 02:00:00\")\n",
    ").select(\n",
    "    [\"latitude\", \"longitude\", \"hours_ahead\", \"origin_datetime\"]\n",
    ").group_by(\"origin_datetime\").agg(pl.col(\"hours_ahead\").mean())"
   ]
  },
  {
   "cell_type": "code",
   "execution_count": 14,
   "metadata": {},
   "outputs": [
    {
     "data": {
      "text/html": [
       "<div><style>\n",
       ".dataframe > thead > tr,\n",
       ".dataframe > tbody > tr {\n",
       "  text-align: right;\n",
       "  white-space: pre-wrap;\n",
       "}\n",
       "</style>\n",
       "<small>shape: (30_572, 16)</small><table border=\"1\" class=\"dataframe\"><thead><tr><th>forecast_datetime</th><th>data_block_id</th><th>origin_datetime</th><th>hours_ahead</th><th>temperature</th><th>dewpoint</th><th>cloudcover_high</th><th>cloudcover_low</th><th>cloudcover_mid</th><th>cloudcover_total</th><th>10_metre_u_wind_component</th><th>10_metre_v_wind_component</th><th>direct_solar_radiation</th><th>surface_solar_radiation_downwards</th><th>snowfall</th><th>total_precipitation</th></tr><tr><td>str</td><td>i64</td><td>str</td><td>f64</td><td>f64</td><td>f64</td><td>f64</td><td>f64</td><td>f64</td><td>f64</td><td>f64</td><td>f64</td><td>f64</td><td>f64</td><td>f64</td><td>f64</td></tr></thead><tbody><tr><td>&quot;2021-11-05 02:00:00&quot;</td><td>65</td><td>null</td><td>25.0</td><td>7.517538</td><td>6.483776</td><td>0.374459</td><td>0.788241</td><td>0.930931</td><td>0.999334</td><td>-5.107638</td><td>2.407442</td><td>0.0</td><td>0.0</td><td>0.0</td><td>0.000828</td></tr><tr><td>&quot;2023-01-13 01:00:00&quot;</td><td>498</td><td>null</td><td>48.0</td><td>2.547195</td><td>1.822729</td><td>0.230212</td><td>0.996794</td><td>0.714138</td><td>0.99985</td><td>1.465805</td><td>6.375389</td><td>0.0</td><td>0.0</td><td>0.000116</td><td>0.000515</td></tr><tr><td>&quot;2022-11-07 06:00:00&quot;</td><td>432</td><td>null</td><td>29.0</td><td>7.805334</td><td>6.237741</td><td>0.9839</td><td>0.646853</td><td>0.686397</td><td>0.9998</td><td>3.204765</td><td>5.962434</td><td>0.0</td><td>0.0</td><td>0.0</td><td>0.000066</td></tr><tr><td>&quot;2021-11-26 22:00:00&quot;</td><td>86</td><td>null</td><td>45.0</td><td>0.462178</td><td>-1.622852</td><td>0.68024</td><td>0.548291</td><td>0.894366</td><td>0.961348</td><td>-3.388509</td><td>-1.414764</td><td>0.0</td><td>0.0</td><td>0.000109</td><td>0.000138</td></tr><tr><td>&quot;2023-04-06 15:00:00&quot;</td><td>583</td><td>null</td><td>13.0</td><td>7.781676</td><td>3.271873</td><td>0.371023</td><td>0.161743</td><td>0.121847</td><td>0.429985</td><td>-3.997157</td><td>-1.128954</td><td>631.914921</td><td>456.694643</td><td>0.0</td><td>6.4926e-7</td></tr><tr><td>&hellip;</td><td>&hellip;</td><td>&hellip;</td><td>&hellip;</td><td>&hellip;</td><td>&hellip;</td><td>&hellip;</td><td>&hellip;</td><td>&hellip;</td><td>&hellip;</td><td>&hellip;</td><td>&hellip;</td><td>&hellip;</td><td>&hellip;</td><td>&hellip;</td><td>&hellip;</td></tr><tr><td>&quot;2023-02-25 21:00:00&quot;</td><td>542</td><td>null</td><td>44.0</td><td>-3.086759</td><td>-5.321074</td><td>0.739758</td><td>0.942859</td><td>0.748293</td><td>0.955175</td><td>-3.73673</td><td>-7.943222</td><td>0.0</td><td>0.0</td><td>0.000057</td><td>0.000057</td></tr><tr><td>&quot;2023-02-27 15:00:00&quot;</td><td>544</td><td>null</td><td>38.0</td><td>-2.958223</td><td>-5.219591</td><td>0.231138</td><td>0.465095</td><td>0.008772</td><td>0.525808</td><td>3.614254</td><td>1.136308</td><td>414.168333</td><td>183.839881</td><td>1.5966e-7</td><td>7.8763e-8</td></tr><tr><td>&quot;2022-06-18 06:00:00&quot;</td><td>290</td><td>null</td><td>28.0</td><td>14.00735</td><td>12.099392</td><td>0.999698</td><td>0.017041</td><td>0.60023</td><td>0.999998</td><td>1.996138</td><td>3.770625</td><td>77.048254</td><td>108.461587</td><td>0.0</td><td>0.000002</td></tr><tr><td>&quot;2022-01-30 00:00:00&quot;</td><td>150</td><td>null</td><td>47.0</td><td>1.290996</td><td>-0.116119</td><td>0.253062</td><td>0.99653</td><td>0.933028</td><td>0.999971</td><td>1.889387</td><td>9.336265</td><td>0.0</td><td>0.0</td><td>0.000676</td><td>0.000913</td></tr><tr><td>&quot;2022-09-26 15:00:00&quot;</td><td>391</td><td>null</td><td>13.0</td><td>13.003089</td><td>6.883993</td><td>0.185904</td><td>0.257415</td><td>0.177435</td><td>0.451789</td><td>-1.710348</td><td>4.412304</td><td>534.608031</td><td>316.265992</td><td>0.0</td><td>0.000018</td></tr></tbody></table></div>"
      ],
      "text/plain": [
       "shape: (30_572, 16)\n",
       "┌───────────┬───────────┬───────────┬───────────┬───┬───────────┬───────────┬───────────┬──────────┐\n",
       "│ forecast_ ┆ data_bloc ┆ origin_da ┆ hours_ahe ┆ … ┆ direct_so ┆ surface_s ┆ snowfall  ┆ total_pr │\n",
       "│ datetime  ┆ k_id      ┆ tetime    ┆ ad        ┆   ┆ lar_radia ┆ olar_radi ┆ ---       ┆ ecipitat │\n",
       "│ ---       ┆ ---       ┆ ---       ┆ ---       ┆   ┆ tion      ┆ ation_dow ┆ f64       ┆ ion      │\n",
       "│ str       ┆ i64       ┆ str       ┆ f64       ┆   ┆ ---       ┆ nwa…      ┆           ┆ ---      │\n",
       "│           ┆           ┆           ┆           ┆   ┆ f64       ┆ ---       ┆           ┆ f64      │\n",
       "│           ┆           ┆           ┆           ┆   ┆           ┆ f64       ┆           ┆          │\n",
       "╞═══════════╪═══════════╪═══════════╪═══════════╪═══╪═══════════╪═══════════╪═══════════╪══════════╡\n",
       "│ 2021-11-0 ┆ 65        ┆ null      ┆ 25.0      ┆ … ┆ 0.0       ┆ 0.0       ┆ 0.0       ┆ 0.000828 │\n",
       "│ 5         ┆           ┆           ┆           ┆   ┆           ┆           ┆           ┆          │\n",
       "│ 02:00:00  ┆           ┆           ┆           ┆   ┆           ┆           ┆           ┆          │\n",
       "│ 2023-01-1 ┆ 498       ┆ null      ┆ 48.0      ┆ … ┆ 0.0       ┆ 0.0       ┆ 0.000116  ┆ 0.000515 │\n",
       "│ 3         ┆           ┆           ┆           ┆   ┆           ┆           ┆           ┆          │\n",
       "│ 01:00:00  ┆           ┆           ┆           ┆   ┆           ┆           ┆           ┆          │\n",
       "│ 2022-11-0 ┆ 432       ┆ null      ┆ 29.0      ┆ … ┆ 0.0       ┆ 0.0       ┆ 0.0       ┆ 0.000066 │\n",
       "│ 7         ┆           ┆           ┆           ┆   ┆           ┆           ┆           ┆          │\n",
       "│ 06:00:00  ┆           ┆           ┆           ┆   ┆           ┆           ┆           ┆          │\n",
       "│ 2021-11-2 ┆ 86        ┆ null      ┆ 45.0      ┆ … ┆ 0.0       ┆ 0.0       ┆ 0.000109  ┆ 0.000138 │\n",
       "│ 6         ┆           ┆           ┆           ┆   ┆           ┆           ┆           ┆          │\n",
       "│ 22:00:00  ┆           ┆           ┆           ┆   ┆           ┆           ┆           ┆          │\n",
       "│ 2023-04-0 ┆ 583       ┆ null      ┆ 13.0      ┆ … ┆ 631.91492 ┆ 456.69464 ┆ 0.0       ┆ 6.4926e- │\n",
       "│ 6         ┆           ┆           ┆           ┆   ┆ 1         ┆ 3         ┆           ┆ 7        │\n",
       "│ 15:00:00  ┆           ┆           ┆           ┆   ┆           ┆           ┆           ┆          │\n",
       "│ …         ┆ …         ┆ …         ┆ …         ┆ … ┆ …         ┆ …         ┆ …         ┆ …        │\n",
       "│ 2023-02-2 ┆ 542       ┆ null      ┆ 44.0      ┆ … ┆ 0.0       ┆ 0.0       ┆ 0.000057  ┆ 0.000057 │\n",
       "│ 5         ┆           ┆           ┆           ┆   ┆           ┆           ┆           ┆          │\n",
       "│ 21:00:00  ┆           ┆           ┆           ┆   ┆           ┆           ┆           ┆          │\n",
       "│ 2023-02-2 ┆ 544       ┆ null      ┆ 38.0      ┆ … ┆ 414.16833 ┆ 183.83988 ┆ 1.5966e-7 ┆ 7.8763e- │\n",
       "│ 7         ┆           ┆           ┆           ┆   ┆ 3         ┆ 1         ┆           ┆ 8        │\n",
       "│ 15:00:00  ┆           ┆           ┆           ┆   ┆           ┆           ┆           ┆          │\n",
       "│ 2022-06-1 ┆ 290       ┆ null      ┆ 28.0      ┆ … ┆ 77.048254 ┆ 108.46158 ┆ 0.0       ┆ 0.000002 │\n",
       "│ 8         ┆           ┆           ┆           ┆   ┆           ┆ 7         ┆           ┆          │\n",
       "│ 06:00:00  ┆           ┆           ┆           ┆   ┆           ┆           ┆           ┆          │\n",
       "│ 2022-01-3 ┆ 150       ┆ null      ┆ 47.0      ┆ … ┆ 0.0       ┆ 0.0       ┆ 0.000676  ┆ 0.000913 │\n",
       "│ 0         ┆           ┆           ┆           ┆   ┆           ┆           ┆           ┆          │\n",
       "│ 00:00:00  ┆           ┆           ┆           ┆   ┆           ┆           ┆           ┆          │\n",
       "│ 2022-09-2 ┆ 391       ┆ null      ┆ 13.0      ┆ … ┆ 534.60803 ┆ 316.26599 ┆ 0.0       ┆ 0.000018 │\n",
       "│ 6         ┆           ┆           ┆           ┆   ┆ 1         ┆ 2         ┆           ┆          │\n",
       "│ 15:00:00  ┆           ┆           ┆           ┆   ┆           ┆           ┆           ┆          │\n",
       "└───────────┴───────────┴───────────┴───────────┴───┴───────────┴───────────┴───────────┴──────────┘"
      ]
     },
     "execution_count": 14,
     "metadata": {},
     "output_type": "execute_result"
    }
   ],
   "source": [
    "agg_columns = [col for col in dfs[\"forecast_weather\"].columns \n",
    "               if col not in [\"latitude\", \"longitude\"] + \n",
    "               [\"forecast_datetime\", 'data_block_id']]\n",
    "agg_dict = {agg_col: [\"mean\"] for agg_col in agg_columns}\n",
    "\n",
    "dfs[\"forecast_weather\"].group_by([\"forecast_datetime\", 'data_block_id']).agg(\n",
    "    pl.mean(agg_columns)\n",
    ")"
   ]
  },
  {
   "cell_type": "code",
   "execution_count": 15,
   "metadata": {},
   "outputs": [
    {
     "data": {
      "text/html": [
       "<div><style>\n",
       ".dataframe > thead > tr,\n",
       ".dataframe > tbody > tr {\n",
       "  text-align: right;\n",
       "  white-space: pre-wrap;\n",
       "}\n",
       "</style>\n",
       "<small>shape: (5, 18)</small><table border=\"1\" class=\"dataframe\"><thead><tr><th>latitude</th><th>longitude</th><th>origin_datetime</th><th>hours_ahead</th><th>temperature</th><th>dewpoint</th><th>cloudcover_high</th><th>cloudcover_low</th><th>cloudcover_mid</th><th>cloudcover_total</th><th>10_metre_u_wind_component</th><th>10_metre_v_wind_component</th><th>data_block_id</th><th>forecast_datetime</th><th>direct_solar_radiation</th><th>surface_solar_radiation_downwards</th><th>snowfall</th><th>total_precipitation</th></tr><tr><td>f64</td><td>f64</td><td>str</td><td>i64</td><td>f64</td><td>f64</td><td>f64</td><td>f64</td><td>f64</td><td>f64</td><td>f64</td><td>f64</td><td>i64</td><td>str</td><td>f64</td><td>f64</td><td>f64</td><td>f64</td></tr></thead><tbody><tr><td>57.6</td><td>21.7</td><td>&quot;2021-09-01 02:00:00&quot;</td><td>1</td><td>15.655786</td><td>11.553613</td><td>0.904816</td><td>0.019714</td><td>0.0</td><td>0.905899</td><td>-0.411328</td><td>-9.106137</td><td>1</td><td>&quot;2021-09-01 03:00:00&quot;</td><td>0.0</td><td>0.0</td><td>0.0</td><td>0.0</td></tr><tr><td>57.6</td><td>22.2</td><td>&quot;2021-09-01 02:00:00&quot;</td><td>1</td><td>13.003931</td><td>10.689844</td><td>0.886322</td><td>0.004456</td><td>0.0</td><td>0.886658</td><td>0.206347</td><td>-5.355405</td><td>1</td><td>&quot;2021-09-01 03:00:00&quot;</td><td>0.0</td><td>0.0</td><td>0.0</td><td>0.0</td></tr><tr><td>57.6</td><td>22.7</td><td>&quot;2021-09-01 02:00:00&quot;</td><td>1</td><td>14.206567</td><td>11.671777</td><td>0.729034</td><td>0.005615</td><td>0.0</td><td>0.730499</td><td>1.451587</td><td>-7.417905</td><td>1</td><td>&quot;2021-09-01 03:00:00&quot;</td><td>0.0</td><td>0.0</td><td>0.0</td><td>0.0</td></tr><tr><td>57.6</td><td>23.2</td><td>&quot;2021-09-01 02:00:00&quot;</td><td>1</td><td>14.844507</td><td>12.264917</td><td>0.336304</td><td>0.074341</td><td>0.000626</td><td>0.385468</td><td>1.090869</td><td>-9.163999</td><td>1</td><td>&quot;2021-09-01 03:00:00&quot;</td><td>0.0</td><td>0.0</td><td>0.0</td><td>0.0</td></tr><tr><td>57.6</td><td>23.7</td><td>&quot;2021-09-01 02:00:00&quot;</td><td>1</td><td>15.293848</td><td>12.458887</td><td>0.102875</td><td>0.088074</td><td>0.000015</td><td>0.17659</td><td>1.268481</td><td>-8.975766</td><td>1</td><td>&quot;2021-09-01 03:00:00&quot;</td><td>0.0</td><td>0.0</td><td>0.0</td><td>0.0</td></tr></tbody></table></div>"
      ],
      "text/plain": [
       "shape: (5, 18)\n",
       "┌──────────┬───────────┬────────────┬───────────┬───┬───────────┬───────────┬──────────┬───────────┐\n",
       "│ latitude ┆ longitude ┆ origin_dat ┆ hours_ahe ┆ … ┆ direct_so ┆ surface_s ┆ snowfall ┆ total_pre │\n",
       "│ ---      ┆ ---       ┆ etime      ┆ ad        ┆   ┆ lar_radia ┆ olar_radi ┆ ---      ┆ cipitatio │\n",
       "│ f64      ┆ f64       ┆ ---        ┆ ---       ┆   ┆ tion      ┆ ation_dow ┆ f64      ┆ n         │\n",
       "│          ┆           ┆ str        ┆ i64       ┆   ┆ ---       ┆ nwa…      ┆          ┆ ---       │\n",
       "│          ┆           ┆            ┆           ┆   ┆ f64       ┆ ---       ┆          ┆ f64       │\n",
       "│          ┆           ┆            ┆           ┆   ┆           ┆ f64       ┆          ┆           │\n",
       "╞══════════╪═══════════╪════════════╪═══════════╪═══╪═══════════╪═══════════╪══════════╪═══════════╡\n",
       "│ 57.6     ┆ 21.7      ┆ 2021-09-01 ┆ 1         ┆ … ┆ 0.0       ┆ 0.0       ┆ 0.0      ┆ 0.0       │\n",
       "│          ┆           ┆ 02:00:00   ┆           ┆   ┆           ┆           ┆          ┆           │\n",
       "│ 57.6     ┆ 22.2      ┆ 2021-09-01 ┆ 1         ┆ … ┆ 0.0       ┆ 0.0       ┆ 0.0      ┆ 0.0       │\n",
       "│          ┆           ┆ 02:00:00   ┆           ┆   ┆           ┆           ┆          ┆           │\n",
       "│ 57.6     ┆ 22.7      ┆ 2021-09-01 ┆ 1         ┆ … ┆ 0.0       ┆ 0.0       ┆ 0.0      ┆ 0.0       │\n",
       "│          ┆           ┆ 02:00:00   ┆           ┆   ┆           ┆           ┆          ┆           │\n",
       "│ 57.6     ┆ 23.2      ┆ 2021-09-01 ┆ 1         ┆ … ┆ 0.0       ┆ 0.0       ┆ 0.0      ┆ 0.0       │\n",
       "│          ┆           ┆ 02:00:00   ┆           ┆   ┆           ┆           ┆          ┆           │\n",
       "│ 57.6     ┆ 23.7      ┆ 2021-09-01 ┆ 1         ┆ … ┆ 0.0       ┆ 0.0       ┆ 0.0      ┆ 0.0       │\n",
       "│          ┆           ┆ 02:00:00   ┆           ┆   ┆           ┆           ┆          ┆           │\n",
       "└──────────┴───────────┴────────────┴───────────┴───┴───────────┴───────────┴──────────┴───────────┘"
      ]
     },
     "execution_count": 15,
     "metadata": {},
     "output_type": "execute_result"
    }
   ],
   "source": [
    "dfs[\"forecast_weather\"].head()\n"
   ]
  },
  {
   "cell_type": "code",
   "execution_count": 32,
   "metadata": {},
   "outputs": [],
   "source": [
    "result = dfs[\"train\"].with_columns(\n",
    "    pl.col(\"datetime\").str.strptime(\n",
    "        pl.Datetime, \"%Y-%m-%d %H:%M:%S\"\n",
    "    )\n",
    ")"
   ]
  },
  {
   "cell_type": "code",
   "execution_count": 33,
   "metadata": {},
   "outputs": [
    {
     "data": {
      "text/html": [
       "<div><style>\n",
       ".dataframe > thead > tr,\n",
       ".dataframe > tbody > tr {\n",
       "  text-align: right;\n",
       "  white-space: pre-wrap;\n",
       "}\n",
       "</style>\n",
       "<small>shape: (2_018_352, 9)</small><table border=\"1\" class=\"dataframe\"><thead><tr><th>county</th><th>is_business</th><th>product_type</th><th>target</th><th>is_consumption</th><th>datetime</th><th>data_block_id</th><th>row_id</th><th>prediction_unit_id</th></tr><tr><td>i64</td><td>i64</td><td>i64</td><td>f64</td><td>i64</td><td>datetime[μs]</td><td>i64</td><td>i64</td><td>i64</td></tr></thead><tbody><tr><td>0</td><td>0</td><td>1</td><td>0.713</td><td>0</td><td>2021-09-01 00:00:00</td><td>0</td><td>0</td><td>0</td></tr><tr><td>0</td><td>0</td><td>1</td><td>96.59</td><td>1</td><td>2021-09-01 00:00:00</td><td>0</td><td>1</td><td>0</td></tr><tr><td>0</td><td>0</td><td>2</td><td>0.0</td><td>0</td><td>2021-09-01 00:00:00</td><td>0</td><td>2</td><td>1</td></tr><tr><td>0</td><td>0</td><td>2</td><td>17.314</td><td>1</td><td>2021-09-01 00:00:00</td><td>0</td><td>3</td><td>1</td></tr><tr><td>0</td><td>0</td><td>3</td><td>2.904</td><td>0</td><td>2021-09-01 00:00:00</td><td>0</td><td>4</td><td>2</td></tr><tr><td>&hellip;</td><td>&hellip;</td><td>&hellip;</td><td>&hellip;</td><td>&hellip;</td><td>&hellip;</td><td>&hellip;</td><td>&hellip;</td><td>&hellip;</td></tr><tr><td>15</td><td>1</td><td>0</td><td>197.233</td><td>1</td><td>2023-05-31 23:00:00</td><td>637</td><td>2018347</td><td>64</td></tr><tr><td>15</td><td>1</td><td>1</td><td>0.0</td><td>0</td><td>2023-05-31 23:00:00</td><td>637</td><td>2018348</td><td>59</td></tr><tr><td>15</td><td>1</td><td>1</td><td>28.404</td><td>1</td><td>2023-05-31 23:00:00</td><td>637</td><td>2018349</td><td>59</td></tr><tr><td>15</td><td>1</td><td>3</td><td>0.0</td><td>0</td><td>2023-05-31 23:00:00</td><td>637</td><td>2018350</td><td>60</td></tr><tr><td>15</td><td>1</td><td>3</td><td>196.24</td><td>1</td><td>2023-05-31 23:00:00</td><td>637</td><td>2018351</td><td>60</td></tr></tbody></table></div>"
      ],
      "text/plain": [
       "shape: (2_018_352, 9)\n",
       "┌────────┬─────────────┬────────────┬─────────┬───┬────────────┬────────────┬─────────┬────────────┐\n",
       "│ county ┆ is_business ┆ product_ty ┆ target  ┆ … ┆ datetime   ┆ data_block ┆ row_id  ┆ prediction │\n",
       "│ ---    ┆ ---         ┆ pe         ┆ ---     ┆   ┆ ---        ┆ _id        ┆ ---     ┆ _unit_id   │\n",
       "│ i64    ┆ i64         ┆ ---        ┆ f64     ┆   ┆ datetime[μ ┆ ---        ┆ i64     ┆ ---        │\n",
       "│        ┆             ┆ i64        ┆         ┆   ┆ s]         ┆ i64        ┆         ┆ i64        │\n",
       "╞════════╪═════════════╪════════════╪═════════╪═══╪════════════╪════════════╪═════════╪════════════╡\n",
       "│ 0      ┆ 0           ┆ 1          ┆ 0.713   ┆ … ┆ 2021-09-01 ┆ 0          ┆ 0       ┆ 0          │\n",
       "│        ┆             ┆            ┆         ┆   ┆ 00:00:00   ┆            ┆         ┆            │\n",
       "│ 0      ┆ 0           ┆ 1          ┆ 96.59   ┆ … ┆ 2021-09-01 ┆ 0          ┆ 1       ┆ 0          │\n",
       "│        ┆             ┆            ┆         ┆   ┆ 00:00:00   ┆            ┆         ┆            │\n",
       "│ 0      ┆ 0           ┆ 2          ┆ 0.0     ┆ … ┆ 2021-09-01 ┆ 0          ┆ 2       ┆ 1          │\n",
       "│        ┆             ┆            ┆         ┆   ┆ 00:00:00   ┆            ┆         ┆            │\n",
       "│ 0      ┆ 0           ┆ 2          ┆ 17.314  ┆ … ┆ 2021-09-01 ┆ 0          ┆ 3       ┆ 1          │\n",
       "│        ┆             ┆            ┆         ┆   ┆ 00:00:00   ┆            ┆         ┆            │\n",
       "│ 0      ┆ 0           ┆ 3          ┆ 2.904   ┆ … ┆ 2021-09-01 ┆ 0          ┆ 4       ┆ 2          │\n",
       "│        ┆             ┆            ┆         ┆   ┆ 00:00:00   ┆            ┆         ┆            │\n",
       "│ …      ┆ …           ┆ …          ┆ …       ┆ … ┆ …          ┆ …          ┆ …       ┆ …          │\n",
       "│ 15     ┆ 1           ┆ 0          ┆ 197.233 ┆ … ┆ 2023-05-31 ┆ 637        ┆ 2018347 ┆ 64         │\n",
       "│        ┆             ┆            ┆         ┆   ┆ 23:00:00   ┆            ┆         ┆            │\n",
       "│ 15     ┆ 1           ┆ 1          ┆ 0.0     ┆ … ┆ 2023-05-31 ┆ 637        ┆ 2018348 ┆ 59         │\n",
       "│        ┆             ┆            ┆         ┆   ┆ 23:00:00   ┆            ┆         ┆            │\n",
       "│ 15     ┆ 1           ┆ 1          ┆ 28.404  ┆ … ┆ 2023-05-31 ┆ 637        ┆ 2018349 ┆ 59         │\n",
       "│        ┆             ┆            ┆         ┆   ┆ 23:00:00   ┆            ┆         ┆            │\n",
       "│ 15     ┆ 1           ┆ 3          ┆ 0.0     ┆ … ┆ 2023-05-31 ┆ 637        ┆ 2018350 ┆ 60         │\n",
       "│        ┆             ┆            ┆         ┆   ┆ 23:00:00   ┆            ┆         ┆            │\n",
       "│ 15     ┆ 1           ┆ 3          ┆ 196.24  ┆ … ┆ 2023-05-31 ┆ 637        ┆ 2018351 ┆ 60         │\n",
       "│        ┆             ┆            ┆         ┆   ┆ 23:00:00   ┆            ┆         ┆            │\n",
       "└────────┴─────────────┴────────────┴─────────┴───┴────────────┴────────────┴─────────┴────────────┘"
      ]
     },
     "execution_count": 33,
     "metadata": {},
     "output_type": "execute_result"
    }
   ],
   "source": [
    "result"
   ]
  },
  {
   "cell_type": "code",
   "execution_count": 42,
   "metadata": {},
   "outputs": [],
   "source": [
    "result = result.with_columns([\n",
    "    pl.col(\"datetime\").dt.truncate(\"1d\").cast(pl.Date).alias(\"date\"),\n",
    "    pl.col(\"datetime\").dt.year().alias(\"year\")\n",
    "])"
   ]
  },
  {
   "cell_type": "code",
   "execution_count": 24,
   "metadata": {},
   "outputs": [
    {
     "data": {
      "text/html": [
       "<div><style>\n",
       ".dataframe > thead > tr,\n",
       ".dataframe > tbody > tr {\n",
       "  text-align: right;\n",
       "  white-space: pre-wrap;\n",
       "}\n",
       "</style>\n",
       "<small>shape: (5, 2)</small><table border=\"1\" class=\"dataframe\"><thead><tr><th>A</th><th>B</th></tr><tr><td>i64</td><td>str</td></tr></thead><tbody><tr><td>1</td><td>&quot;uno&quot;</td></tr><tr><td>3</td><td>&quot;tres&quot;</td></tr><tr><td>4</td><td>&quot;cuatro&quot;</td></tr><tr><td>3</td><td>&quot;tres&quot;</td></tr><tr><td>2</td><td>&quot;dos&quot;</td></tr></tbody></table></div>"
      ],
      "text/plain": [
       "shape: (5, 2)\n",
       "┌─────┬────────┐\n",
       "│ A   ┆ B      │\n",
       "│ --- ┆ ---    │\n",
       "│ i64 ┆ str    │\n",
       "╞═════╪════════╡\n",
       "│ 1   ┆ uno    │\n",
       "│ 3   ┆ tres   │\n",
       "│ 4   ┆ cuatro │\n",
       "│ 3   ┆ tres   │\n",
       "│ 2   ┆ dos    │\n",
       "└─────┴────────┘"
      ]
     },
     "execution_count": 24,
     "metadata": {},
     "output_type": "execute_result"
    }
   ],
   "source": [
    "dfa = pl.DataFrame({\n",
    "    \"A\":[1, 3, 4, 3, 2],\n",
    "    \"B\":[\"uno\", \"tres\", \"cuatro\", \"tres\", \"dos\"]\n",
    "})\n",
    "dfa"
   ]
  },
  {
   "cell_type": "code",
   "execution_count": 25,
   "metadata": {},
   "outputs": [
    {
     "data": {
      "text/html": [
       "<div><style>\n",
       ".dataframe > thead > tr,\n",
       ".dataframe > tbody > tr {\n",
       "  text-align: right;\n",
       "  white-space: pre-wrap;\n",
       "}\n",
       "</style>\n",
       "<small>shape: (4, 2)</small><table border=\"1\" class=\"dataframe\"><thead><tr><th>A</th><th>C</th></tr><tr><td>i64</td><td>str</td></tr></thead><tbody><tr><td>1</td><td>&quot;one&quot;</td></tr><tr><td>2</td><td>&quot;two&quot;</td></tr><tr><td>3</td><td>&quot;three&quot;</td></tr><tr><td>4</td><td>&quot;four&quot;</td></tr></tbody></table></div>"
      ],
      "text/plain": [
       "shape: (4, 2)\n",
       "┌─────┬───────┐\n",
       "│ A   ┆ C     │\n",
       "│ --- ┆ ---   │\n",
       "│ i64 ┆ str   │\n",
       "╞═════╪═══════╡\n",
       "│ 1   ┆ one   │\n",
       "│ 2   ┆ two   │\n",
       "│ 3   ┆ three │\n",
       "│ 4   ┆ four  │\n",
       "└─────┴───────┘"
      ]
     },
     "execution_count": 25,
     "metadata": {},
     "output_type": "execute_result"
    }
   ],
   "source": [
    "dfb = pl.DataFrame({\n",
    "    \"A\":[1, 2, 3, 4],\n",
    "    \"C\":[\"one\", \"two\", \"three\", \"four\"]\n",
    "})\n",
    "dfb"
   ]
  },
  {
   "cell_type": "code",
   "execution_count": 26,
   "metadata": {},
   "outputs": [
    {
     "data": {
      "text/html": [
       "<div><style>\n",
       ".dataframe > thead > tr,\n",
       ".dataframe > tbody > tr {\n",
       "  text-align: right;\n",
       "  white-space: pre-wrap;\n",
       "}\n",
       "</style>\n",
       "<small>shape: (5, 3)</small><table border=\"1\" class=\"dataframe\"><thead><tr><th>A</th><th>B</th><th>C</th></tr><tr><td>i64</td><td>str</td><td>str</td></tr></thead><tbody><tr><td>1</td><td>&quot;uno&quot;</td><td>&quot;one&quot;</td></tr><tr><td>3</td><td>&quot;tres&quot;</td><td>&quot;three&quot;</td></tr><tr><td>4</td><td>&quot;cuatro&quot;</td><td>&quot;four&quot;</td></tr><tr><td>3</td><td>&quot;tres&quot;</td><td>&quot;three&quot;</td></tr><tr><td>2</td><td>&quot;dos&quot;</td><td>&quot;two&quot;</td></tr></tbody></table></div>"
      ],
      "text/plain": [
       "shape: (5, 3)\n",
       "┌─────┬────────┬───────┐\n",
       "│ A   ┆ B      ┆ C     │\n",
       "│ --- ┆ ---    ┆ ---   │\n",
       "│ i64 ┆ str    ┆ str   │\n",
       "╞═════╪════════╪═══════╡\n",
       "│ 1   ┆ uno    ┆ one   │\n",
       "│ 3   ┆ tres   ┆ three │\n",
       "│ 4   ┆ cuatro ┆ four  │\n",
       "│ 3   ┆ tres   ┆ three │\n",
       "│ 2   ┆ dos    ┆ two   │\n",
       "└─────┴────────┴───────┘"
      ]
     },
     "execution_count": 26,
     "metadata": {},
     "output_type": "execute_result"
    }
   ],
   "source": [
    "dfa.join(dfb, how=\"left\", on=\"A\")"
   ]
  },
  {
   "cell_type": "code",
   "execution_count": null,
   "metadata": {},
   "outputs": [],
   "source": [
    "# PASAR A RADIANES\n",
    "# HIVERSINE DISTANCE\n",
    "# JOIN CON LOS COUNTIES MAS CERCANOS"
   ]
  }
 ],
 "metadata": {
  "kernelspec": {
   "display_name": ".VENV",
   "language": "python",
   "name": "python3"
  },
  "language_info": {
   "codemirror_mode": {
    "name": "ipython",
    "version": 3
   },
   "file_extension": ".py",
   "mimetype": "text/x-python",
   "name": "python",
   "nbconvert_exporter": "python",
   "pygments_lexer": "ipython3",
   "version": "3.11.1"
  }
 },
 "nbformat": 4,
 "nbformat_minor": 2
}
