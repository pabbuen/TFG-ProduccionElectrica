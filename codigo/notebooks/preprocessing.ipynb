{
 "cells": [
  {
   "cell_type": "markdown",
   "metadata": {},
   "source": [
    "## Carga de datos\n",
    "\n",
    "Antes de poder manipular los diferentes datos, primero es necesário\n",
    "cargarlos en el sistema"
   ]
  },
  {
   "cell_type": "code",
   "execution_count": 1,
   "metadata": {},
   "outputs": [],
   "source": [
    "import pandas as pd\n",
    "import polars as pl\n",
    "import numpy as np \n",
    "from pathlib import Path"
   ]
  },
  {
   "cell_type": "code",
   "execution_count": 2,
   "metadata": {},
   "outputs": [],
   "source": [
    "# Directório de archivos\n",
    "data_folder = Path(\"../data/predict-energy-behavior-of-prosumers\")\n",
    "\n",
    "# Diccionario de archivos\n",
    "files = {\n",
    "    \"train\": \"train.csv\",\n",
    "    \"gas_prices\": \"gas_prices.csv\",\n",
    "    \"client\": \"client.csv\",\n",
    "    \"electricity_prices\": \"electricity_prices.csv\",\n",
    "    \"forecast_weather\": \"forecast_weather.csv\",\n",
    "    \"historical_weather\": \"historical_weather.csv\",\n",
    "    \"county_lon_lats\": \"county_lon_lats.csv\",\n",
    "    \"weather_station\": \"weather_station_to_county_mapping.csv\"\n",
    "}"
   ]
  },
  {
   "cell_type": "code",
   "execution_count": 3,
   "metadata": {},
   "outputs": [
    {
     "name": "stdout",
     "output_type": "stream",
     "text": [
      "Archivo train cargado con exito.\n",
      "Archivo gas_prices cargado con exito.\n",
      "Archivo client cargado con exito.\n",
      "Archivo electricity_prices cargado con exito.\n",
      "Archivo forecast_weather cargado con exito.\n",
      "Archivo historical_weather cargado con exito.\n",
      "Archivo county_lon_lats cargado con exito.\n",
      "Archivo weather_station cargado con exito.\n"
     ]
    }
   ],
   "source": [
    "# Se crea un diccionario de DataFrames para acceder facilmente a todos\n",
    "# y poder iterar sobre ellos si es necesário\n",
    "dfs = {}\n",
    "\n",
    "for key, filename in files.items():\n",
    "    filepath = data_folder / filename\n",
    "    try:\n",
    "        df = pl.read_csv(filepath)\n",
    "        dfs[key] = df\n",
    "        print(f\"Archivo {key} cargado con exito.\")\n",
    "    except:\n",
    "        print(f\"No pudo cargarse el archivo {key}.\")\n",
    "    "
   ]
  },
  {
   "cell_type": "markdown",
   "metadata": {},
   "source": [
    "## Asignación de longitud/latitud a un condado especifico\n",
    "\n",
    "Con el fin de poder unir los csv de \"train.csv\" y \"forecast_weather.csv\"\n",
    "es necesario poder asignar a cada longitud y latitud, su condado\n",
    "correspondiente.\n",
    "\n",
    "Para ello se utilizará el archivo \"weather_station_to_county_mapping\" con datos que asignan latitudes y longitudes a su correspondiente condado."
   ]
  },
  {
   "cell_type": "markdown",
   "metadata": {},
   "source": [
    "### Visualización de los datos"
   ]
  },
  {
   "cell_type": "code",
   "execution_count": 4,
   "metadata": {},
   "outputs": [],
   "source": [
    "from geopy.geocoders import Nominatim"
   ]
  },
  {
   "cell_type": "code",
   "execution_count": 5,
   "metadata": {},
   "outputs": [
    {
     "data": {
      "text/html": [
       "<div><style>\n",
       ".dataframe > thead > tr,\n",
       ".dataframe > tbody > tr {\n",
       "  text-align: right;\n",
       "  white-space: pre-wrap;\n",
       "}\n",
       "</style>\n",
       "<small>shape: (5, 4)</small><table border=\"1\" class=\"dataframe\"><thead><tr><th>county_name</th><th>longitude</th><th>latitude</th><th>county</th></tr><tr><td>str</td><td>f64</td><td>f64</td><td>i64</td></tr></thead><tbody><tr><td>&quot;Saaremaa&quot;</td><td>22.2</td><td>58.2</td><td>10</td></tr><tr><td>&quot;Saaremaa&quot;</td><td>22.2</td><td>58.5</td><td>10</td></tr><tr><td>&quot;Saaremaa&quot;</td><td>22.7</td><td>58.5</td><td>10</td></tr><tr><td>&quot;Hiiumaa&quot;</td><td>22.7</td><td>58.8</td><td>1</td></tr><tr><td>&quot;Saaremaa&quot;</td><td>23.2</td><td>58.5</td><td>10</td></tr></tbody></table></div>"
      ],
      "text/plain": [
       "shape: (5, 4)\n",
       "┌─────────────┬───────────┬──────────┬────────┐\n",
       "│ county_name ┆ longitude ┆ latitude ┆ county │\n",
       "│ ---         ┆ ---       ┆ ---      ┆ ---    │\n",
       "│ str         ┆ f64       ┆ f64      ┆ i64    │\n",
       "╞═════════════╪═══════════╪══════════╪════════╡\n",
       "│ Saaremaa    ┆ 22.2      ┆ 58.2     ┆ 10     │\n",
       "│ Saaremaa    ┆ 22.2      ┆ 58.5     ┆ 10     │\n",
       "│ Saaremaa    ┆ 22.7      ┆ 58.5     ┆ 10     │\n",
       "│ Hiiumaa     ┆ 22.7      ┆ 58.8     ┆ 1      │\n",
       "│ Saaremaa    ┆ 23.2      ┆ 58.5     ┆ 10     │\n",
       "└─────────────┴───────────┴──────────┴────────┘"
      ]
     },
     "execution_count": 5,
     "metadata": {},
     "output_type": "execute_result"
    }
   ],
   "source": [
    "# Se eliminan las filas con instancias nulas\n",
    "weather_station = dfs[\"weather_station\"].drop_nulls()\n",
    "weather_station.head()"
   ]
  },
  {
   "cell_type": "code",
   "execution_count": 6,
   "metadata": {},
   "outputs": [],
   "source": [
    "# Se inicializa el localizador\n",
    "geolocator = Nominatim(user_agent=\"my-app\")"
   ]
  },
  {
   "cell_type": "code",
   "execution_count": 7,
   "metadata": {},
   "outputs": [],
   "source": [
    "import re\n",
    "\n",
    "class Regex_dict:\n",
    "    '''\n",
    "    Diccionario el cual almacena expresiones regulares como keys\n",
    "    con el fin de poder compilar la entrada a la hora de obtener un value\n",
    "    '''\n",
    "    def __init__(self):\n",
    "        self.keywords = []  # Expresiones regulares\n",
    "\n",
    "    def add(self, expr, value):\n",
    "        '''\n",
    "        Almacena la expresión regular junto a su valor.\n",
    "        '''\n",
    "        self.keywords.append(\n",
    "            (re.compile(expr), value)\n",
    "        )\n",
    "    \n",
    "    def get(self, string):\n",
    "        '''\n",
    "        Devuelve, si es posible, el valor de la key del string pasado\n",
    "        '''\n",
    "        for expr, value in self.keywords:\n",
    "            if expr.search(string):\n",
    "                return value\n",
    "        return None"
   ]
  },
  {
   "cell_type": "code",
   "execution_count": 8,
   "metadata": {},
   "outputs": [],
   "source": [
    "# Se inicializa el diccionario de er\n",
    "county_dict = Regex_dict()\n",
    "\n",
    "# se obtiene un array con el nombre de los condados y su número asignado\n",
    "c = (\"county_name\", \"county\")\n",
    "counties = weather_station[c].unique().to_numpy()"
   ]
  },
  {
   "cell_type": "code",
   "execution_count": 9,
   "metadata": {},
   "outputs": [],
   "source": [
    "# Se añaden los nombres y número de los condados al diccionario\n",
    "for county_name, county in counties:\n",
    "    county_dict.add(county_name, county)"
   ]
  },
  {
   "cell_type": "code",
   "execution_count": 10,
   "metadata": {},
   "outputs": [],
   "source": [
    "class DataProcessor:\n",
    "    def __init__(self, lon_lat_dataframe):\n",
    "        self.gas_join = [\"data_block_id\"]\n",
    "        self.ep_join = [\"datetime\", \"data_block_id\"]\n",
    "        self.hw_join = [\"datetime\", \"county\", \"data_block_id\"]\n",
    "        self.client_join = [\"county\", \"is_business\", \"product_type\", \"data_block_id\"]\n",
    "        self.lat_lon = [\"latitude\", \"longitude\"]\n",
    "\n",
    "        self.county_dict = self.__create_dict(lon_lat_dataframe)\n",
    "\n",
    "    def __create_dict(self, lon_lat_dataframe: pl.DataFrame):\n",
    "        # Se inicializa el diccionario de re\n",
    "        re_dict = Regex_dict()\n",
    "\n",
    "        # Se eliminan los valores núlos del dataframe\n",
    "        lon_lat_dataframe = lon_lat_dataframe.drop_nulls()\n",
    "        cols = \"county_name\", \"county\"\n",
    "\n",
    "        if cols in lon_lat_dataframe.columns:\n",
    "            # Se obtiene un array con los nombres y números de cada condado\n",
    "            counties = lon_lat_dataframe[cols].unique().to_numpy()\n",
    "\n",
    "            # Se añade los nombres y números al diccionario\n",
    "            for county_name, county in counties:\n",
    "                re_dict.add(county_name, county)\n",
    "        \n",
    "        else:\n",
    "            raise RuntimeError(\n",
    "                \"No existen las columnas \\\"county_name\\\" y/o \\\"county\\\" en el dataframe\"\n",
    "            )\n",
    "\n",
    "        return re_dict\n",
    "\n",
    "    def add_counties(self, df: pl.DataFrame):\n",
    "        geolocator = Nominatim(user_agent=\"get-county\")\n",
    "        coords = df[\"latitude\", \"longitude\"].to_numpy()\n",
    "\n",
    "        county_list = np.array([])\n",
    "        for coord in coords:\n",
    "            location = geolocator.reverse((coord[0], coord[1]), exactly_one=True)\n",
    "            county_name = location.raw[\"address\"].get(\"municipality\")\n",
    "            county_list = np.append(\n",
    "                county_list,\n",
    "                self.county_dict.get(county_name)\n",
    "            )\n",
    "        \n",
    "        return df.with_columns(pl.Series(name=\"county\", values=county_list))\n",
    "\n",
    "\n",
    "\n",
    "    def change_names(self, df, suffix, no_change):\n",
    "        renamed_df = df.rename(\n",
    "            lambda col: col + suffix if col not in no_change else col\n",
    "        )\n",
    "        return renamed_df\n",
    "\n",
    "    def get_gas_features(self, gas_df):\n",
    "        gas_df = gas_df.with_columns(\n",
    "            ((pl.col(\"lowest_price_per_mwh\") + \n",
    "              pl.col(\"highest_price_per_mwh\")) / 2).alias(\"mean_price_per_mwh\")\n",
    "        )\n",
    "\n",
    "        return self.change_names(gas_df, \"_gas\", self.gas_join)\n",
    "    \n",
    "    def get_client_features(self, client_df):\n",
    "        return self.change_names(client_df, \"_client\", self.client_join)\n",
    "    \n",
    "    def get_hist_weather_features(self, hw_df: pl.DataFrame):\n",
    "        hw_df = hw_df.with_columns(\n",
    "            pl.col(\"datetime\").str.strptime(pl.Datetime, \"%Y-%m-%d %H:%M:%S\")\n",
    "        )\n",
    "\n",
    "        hw_df = self.add_counties(hw_df)\n",
    "        hw_df = self.change_names(hw_df, \"_hw\", self.hw_join)\n",
    "\n",
    "        return hw_df\n",
    "    \n",
    "    def get_forecast_weather_features(self, fw_df):\n",
    "        return None\n",
    "    \n",
    "    "
   ]
  },
  {
   "cell_type": "code",
   "execution_count": null,
   "metadata": {},
   "outputs": [],
   "source": [
    "# Adivinar que hace la variable hours ahead f mean\n",
    "# No añadir los Targets de horas anteriores"
   ]
  },
  {
   "cell_type": "code",
   "execution_count": 16,
   "metadata": {},
   "outputs": [
    {
     "name": "stdout",
     "output_type": "stream",
     "text": [
      "train:\n"
     ]
    },
    {
     "data": {
      "text/html": [
       "<div><style>\n",
       ".dataframe > thead > tr,\n",
       ".dataframe > tbody > tr {\n",
       "  text-align: right;\n",
       "  white-space: pre-wrap;\n",
       "}\n",
       "</style>\n",
       "<small>shape: (1, 9)</small><table border=\"1\" class=\"dataframe\"><thead><tr><th>county</th><th>is_business</th><th>product_type</th><th>target</th><th>is_consumption</th><th>datetime</th><th>data_block_id</th><th>row_id</th><th>prediction_unit_id</th></tr><tr><td>i64</td><td>i64</td><td>i64</td><td>f64</td><td>i64</td><td>str</td><td>i64</td><td>i64</td><td>i64</td></tr></thead><tbody><tr><td>0</td><td>0</td><td>1</td><td>0.713</td><td>0</td><td>&quot;2021-09-01 00:00:00&quot;</td><td>0</td><td>0</td><td>0</td></tr></tbody></table></div>"
      ],
      "text/plain": [
       "shape: (1, 9)\n",
       "┌────────┬─────────────┬─────────────┬────────┬───┬─────────────┬────────────┬────────┬────────────┐\n",
       "│ county ┆ is_business ┆ product_typ ┆ target ┆ … ┆ datetime    ┆ data_block ┆ row_id ┆ prediction │\n",
       "│ ---    ┆ ---         ┆ e           ┆ ---    ┆   ┆ ---         ┆ _id        ┆ ---    ┆ _unit_id   │\n",
       "│ i64    ┆ i64         ┆ ---         ┆ f64    ┆   ┆ str         ┆ ---        ┆ i64    ┆ ---        │\n",
       "│        ┆             ┆ i64         ┆        ┆   ┆             ┆ i64        ┆        ┆ i64        │\n",
       "╞════════╪═════════════╪═════════════╪════════╪═══╪═════════════╪════════════╪════════╪════════════╡\n",
       "│ 0      ┆ 0           ┆ 1           ┆ 0.713  ┆ … ┆ 2021-09-01  ┆ 0          ┆ 0      ┆ 0          │\n",
       "│        ┆             ┆             ┆        ┆   ┆ 00:00:00    ┆            ┆        ┆            │\n",
       "└────────┴─────────────┴─────────────┴────────┴───┴─────────────┴────────────┴────────┴────────────┘"
      ]
     },
     "metadata": {},
     "output_type": "display_data"
    },
    {
     "name": "stdout",
     "output_type": "stream",
     "text": [
      "gas_prices:\n"
     ]
    },
    {
     "data": {
      "text/html": [
       "<div><style>\n",
       ".dataframe > thead > tr,\n",
       ".dataframe > tbody > tr {\n",
       "  text-align: right;\n",
       "  white-space: pre-wrap;\n",
       "}\n",
       "</style>\n",
       "<small>shape: (1, 5)</small><table border=\"1\" class=\"dataframe\"><thead><tr><th>forecast_date</th><th>lowest_price_per_mwh</th><th>highest_price_per_mwh</th><th>origin_date</th><th>data_block_id</th></tr><tr><td>str</td><td>f64</td><td>f64</td><td>str</td><td>i64</td></tr></thead><tbody><tr><td>&quot;2021-09-01&quot;</td><td>45.23</td><td>46.32</td><td>&quot;2021-08-31&quot;</td><td>1</td></tr></tbody></table></div>"
      ],
      "text/plain": [
       "shape: (1, 5)\n",
       "┌───────────────┬──────────────────────┬───────────────────────┬─────────────┬───────────────┐\n",
       "│ forecast_date ┆ lowest_price_per_mwh ┆ highest_price_per_mwh ┆ origin_date ┆ data_block_id │\n",
       "│ ---           ┆ ---                  ┆ ---                   ┆ ---         ┆ ---           │\n",
       "│ str           ┆ f64                  ┆ f64                   ┆ str         ┆ i64           │\n",
       "╞═══════════════╪══════════════════════╪═══════════════════════╪═════════════╪═══════════════╡\n",
       "│ 2021-09-01    ┆ 45.23                ┆ 46.32                 ┆ 2021-08-31  ┆ 1             │\n",
       "└───────────────┴──────────────────────┴───────────────────────┴─────────────┴───────────────┘"
      ]
     },
     "metadata": {},
     "output_type": "display_data"
    },
    {
     "name": "stdout",
     "output_type": "stream",
     "text": [
      "client:\n"
     ]
    },
    {
     "data": {
      "text/html": [
       "<div><style>\n",
       ".dataframe > thead > tr,\n",
       ".dataframe > tbody > tr {\n",
       "  text-align: right;\n",
       "  white-space: pre-wrap;\n",
       "}\n",
       "</style>\n",
       "<small>shape: (1, 7)</small><table border=\"1\" class=\"dataframe\"><thead><tr><th>product_type</th><th>county</th><th>eic_count</th><th>installed_capacity</th><th>is_business</th><th>date</th><th>data_block_id</th></tr><tr><td>i64</td><td>i64</td><td>i64</td><td>f64</td><td>i64</td><td>str</td><td>i64</td></tr></thead><tbody><tr><td>1</td><td>0</td><td>108</td><td>952.89</td><td>0</td><td>&quot;2021-09-01&quot;</td><td>2</td></tr></tbody></table></div>"
      ],
      "text/plain": [
       "shape: (1, 7)\n",
       "┌──────────────┬────────┬───────────┬───────────────────┬─────────────┬────────────┬───────────────┐\n",
       "│ product_type ┆ county ┆ eic_count ┆ installed_capacit ┆ is_business ┆ date       ┆ data_block_id │\n",
       "│ ---          ┆ ---    ┆ ---       ┆ y                 ┆ ---         ┆ ---        ┆ ---           │\n",
       "│ i64          ┆ i64    ┆ i64       ┆ ---               ┆ i64         ┆ str        ┆ i64           │\n",
       "│              ┆        ┆           ┆ f64               ┆             ┆            ┆               │\n",
       "╞══════════════╪════════╪═══════════╪═══════════════════╪═════════════╪════════════╪═══════════════╡\n",
       "│ 1            ┆ 0      ┆ 108       ┆ 952.89            ┆ 0           ┆ 2021-09-01 ┆ 2             │\n",
       "└──────────────┴────────┴───────────┴───────────────────┴─────────────┴────────────┴───────────────┘"
      ]
     },
     "metadata": {},
     "output_type": "display_data"
    },
    {
     "name": "stdout",
     "output_type": "stream",
     "text": [
      "electricity_prices:\n"
     ]
    },
    {
     "data": {
      "text/html": [
       "<div><style>\n",
       ".dataframe > thead > tr,\n",
       ".dataframe > tbody > tr {\n",
       "  text-align: right;\n",
       "  white-space: pre-wrap;\n",
       "}\n",
       "</style>\n",
       "<small>shape: (1, 4)</small><table border=\"1\" class=\"dataframe\"><thead><tr><th>forecast_date</th><th>euros_per_mwh</th><th>origin_date</th><th>data_block_id</th></tr><tr><td>str</td><td>f64</td><td>str</td><td>i64</td></tr></thead><tbody><tr><td>&quot;2021-09-01 00:00:00&quot;</td><td>92.51</td><td>&quot;2021-08-31 00:00:00&quot;</td><td>1</td></tr></tbody></table></div>"
      ],
      "text/plain": [
       "shape: (1, 4)\n",
       "┌─────────────────────┬───────────────┬─────────────────────┬───────────────┐\n",
       "│ forecast_date       ┆ euros_per_mwh ┆ origin_date         ┆ data_block_id │\n",
       "│ ---                 ┆ ---           ┆ ---                 ┆ ---           │\n",
       "│ str                 ┆ f64           ┆ str                 ┆ i64           │\n",
       "╞═════════════════════╪═══════════════╪═════════════════════╪═══════════════╡\n",
       "│ 2021-09-01 00:00:00 ┆ 92.51         ┆ 2021-08-31 00:00:00 ┆ 1             │\n",
       "└─────────────────────┴───────────────┴─────────────────────┴───────────────┘"
      ]
     },
     "metadata": {},
     "output_type": "display_data"
    },
    {
     "name": "stdout",
     "output_type": "stream",
     "text": [
      "forecast_weather:\n"
     ]
    },
    {
     "data": {
      "text/html": [
       "<div><style>\n",
       ".dataframe > thead > tr,\n",
       ".dataframe > tbody > tr {\n",
       "  text-align: right;\n",
       "  white-space: pre-wrap;\n",
       "}\n",
       "</style>\n",
       "<small>shape: (1, 18)</small><table border=\"1\" class=\"dataframe\"><thead><tr><th>latitude</th><th>longitude</th><th>origin_datetime</th><th>hours_ahead</th><th>temperature</th><th>dewpoint</th><th>cloudcover_high</th><th>cloudcover_low</th><th>cloudcover_mid</th><th>cloudcover_total</th><th>10_metre_u_wind_component</th><th>10_metre_v_wind_component</th><th>data_block_id</th><th>forecast_datetime</th><th>direct_solar_radiation</th><th>surface_solar_radiation_downwards</th><th>snowfall</th><th>total_precipitation</th></tr><tr><td>f64</td><td>f64</td><td>str</td><td>i64</td><td>f64</td><td>f64</td><td>f64</td><td>f64</td><td>f64</td><td>f64</td><td>f64</td><td>f64</td><td>i64</td><td>str</td><td>f64</td><td>f64</td><td>f64</td><td>f64</td></tr></thead><tbody><tr><td>57.6</td><td>21.7</td><td>&quot;2021-09-01 02:00:00&quot;</td><td>1</td><td>15.655786</td><td>11.553613</td><td>0.904816</td><td>0.019714</td><td>0.0</td><td>0.905899</td><td>-0.411328</td><td>-9.106137</td><td>1</td><td>&quot;2021-09-01 03:00:00&quot;</td><td>0.0</td><td>0.0</td><td>0.0</td><td>0.0</td></tr></tbody></table></div>"
      ],
      "text/plain": [
       "shape: (1, 18)\n",
       "┌──────────┬───────────┬────────────┬───────────┬───┬───────────┬───────────┬──────────┬───────────┐\n",
       "│ latitude ┆ longitude ┆ origin_dat ┆ hours_ahe ┆ … ┆ direct_so ┆ surface_s ┆ snowfall ┆ total_pre │\n",
       "│ ---      ┆ ---       ┆ etime      ┆ ad        ┆   ┆ lar_radia ┆ olar_radi ┆ ---      ┆ cipitatio │\n",
       "│ f64      ┆ f64       ┆ ---        ┆ ---       ┆   ┆ tion      ┆ ation_dow ┆ f64      ┆ n         │\n",
       "│          ┆           ┆ str        ┆ i64       ┆   ┆ ---       ┆ nwa…      ┆          ┆ ---       │\n",
       "│          ┆           ┆            ┆           ┆   ┆ f64       ┆ ---       ┆          ┆ f64       │\n",
       "│          ┆           ┆            ┆           ┆   ┆           ┆ f64       ┆          ┆           │\n",
       "╞══════════╪═══════════╪════════════╪═══════════╪═══╪═══════════╪═══════════╪══════════╪═══════════╡\n",
       "│ 57.6     ┆ 21.7      ┆ 2021-09-01 ┆ 1         ┆ … ┆ 0.0       ┆ 0.0       ┆ 0.0      ┆ 0.0       │\n",
       "│          ┆           ┆ 02:00:00   ┆           ┆   ┆           ┆           ┆          ┆           │\n",
       "└──────────┴───────────┴────────────┴───────────┴───┴───────────┴───────────┴──────────┴───────────┘"
      ]
     },
     "metadata": {},
     "output_type": "display_data"
    },
    {
     "name": "stdout",
     "output_type": "stream",
     "text": [
      "historical_weather:\n"
     ]
    },
    {
     "data": {
      "text/html": [
       "<div><style>\n",
       ".dataframe > thead > tr,\n",
       ".dataframe > tbody > tr {\n",
       "  text-align: right;\n",
       "  white-space: pre-wrap;\n",
       "}\n",
       "</style>\n",
       "<small>shape: (1, 18)</small><table border=\"1\" class=\"dataframe\"><thead><tr><th>datetime</th><th>temperature</th><th>dewpoint</th><th>rain</th><th>snowfall</th><th>surface_pressure</th><th>cloudcover_total</th><th>cloudcover_low</th><th>cloudcover_mid</th><th>cloudcover_high</th><th>windspeed_10m</th><th>winddirection_10m</th><th>shortwave_radiation</th><th>direct_solar_radiation</th><th>diffuse_radiation</th><th>latitude</th><th>longitude</th><th>data_block_id</th></tr><tr><td>str</td><td>f64</td><td>f64</td><td>f64</td><td>f64</td><td>f64</td><td>i64</td><td>i64</td><td>i64</td><td>i64</td><td>f64</td><td>i64</td><td>f64</td><td>f64</td><td>f64</td><td>f64</td><td>f64</td><td>f64</td></tr></thead><tbody><tr><td>&quot;2021-09-01 00:00:00&quot;</td><td>14.2</td><td>11.6</td><td>0.0</td><td>0.0</td><td>1015.9</td><td>31</td><td>31</td><td>0</td><td>11</td><td>7.083333</td><td>8</td><td>0.0</td><td>0.0</td><td>0.0</td><td>57.6</td><td>21.7</td><td>1.0</td></tr></tbody></table></div>"
      ],
      "text/plain": [
       "shape: (1, 18)\n",
       "┌─────────────┬─────────────┬──────────┬──────┬───┬────────────┬──────────┬───────────┬────────────┐\n",
       "│ datetime    ┆ temperature ┆ dewpoint ┆ rain ┆ … ┆ diffuse_ra ┆ latitude ┆ longitude ┆ data_block │\n",
       "│ ---         ┆ ---         ┆ ---      ┆ ---  ┆   ┆ diation    ┆ ---      ┆ ---       ┆ _id        │\n",
       "│ str         ┆ f64         ┆ f64      ┆ f64  ┆   ┆ ---        ┆ f64      ┆ f64       ┆ ---        │\n",
       "│             ┆             ┆          ┆      ┆   ┆ f64        ┆          ┆           ┆ f64        │\n",
       "╞═════════════╪═════════════╪══════════╪══════╪═══╪════════════╪══════════╪═══════════╪════════════╡\n",
       "│ 2021-09-01  ┆ 14.2        ┆ 11.6     ┆ 0.0  ┆ … ┆ 0.0        ┆ 57.6     ┆ 21.7      ┆ 1.0        │\n",
       "│ 00:00:00    ┆             ┆          ┆      ┆   ┆            ┆          ┆           ┆            │\n",
       "└─────────────┴─────────────┴──────────┴──────┴───┴────────────┴──────────┴───────────┴────────────┘"
      ]
     },
     "metadata": {},
     "output_type": "display_data"
    },
    {
     "name": "stdout",
     "output_type": "stream",
     "text": [
      "county_lon_lats:\n"
     ]
    },
    {
     "data": {
      "text/html": [
       "<div><style>\n",
       ".dataframe > thead > tr,\n",
       ".dataframe > tbody > tr {\n",
       "  text-align: right;\n",
       "  white-space: pre-wrap;\n",
       "}\n",
       "</style>\n",
       "<small>shape: (1, 4)</small><table border=\"1\" class=\"dataframe\"><thead><tr><th></th><th>county</th><th>longitude</th><th>latitude</th></tr><tr><td>i64</td><td>i64</td><td>f64</td><td>f64</td></tr></thead><tbody><tr><td>0</td><td>0</td><td>24.2</td><td>59.1</td></tr></tbody></table></div>"
      ],
      "text/plain": [
       "shape: (1, 4)\n",
       "┌─────┬────────┬───────────┬──────────┐\n",
       "│     ┆ county ┆ longitude ┆ latitude │\n",
       "│ --- ┆ ---    ┆ ---       ┆ ---      │\n",
       "│ i64 ┆ i64    ┆ f64       ┆ f64      │\n",
       "╞═════╪════════╪═══════════╪══════════╡\n",
       "│ 0   ┆ 0      ┆ 24.2      ┆ 59.1     │\n",
       "└─────┴────────┴───────────┴──────────┘"
      ]
     },
     "metadata": {},
     "output_type": "display_data"
    },
    {
     "name": "stdout",
     "output_type": "stream",
     "text": [
      "weather_station:\n"
     ]
    },
    {
     "data": {
      "text/html": [
       "<div><style>\n",
       ".dataframe > thead > tr,\n",
       ".dataframe > tbody > tr {\n",
       "  text-align: right;\n",
       "  white-space: pre-wrap;\n",
       "}\n",
       "</style>\n",
       "<small>shape: (1, 4)</small><table border=\"1\" class=\"dataframe\"><thead><tr><th>county_name</th><th>longitude</th><th>latitude</th><th>county</th></tr><tr><td>str</td><td>f64</td><td>f64</td><td>i64</td></tr></thead><tbody><tr><td>null</td><td>21.7</td><td>57.6</td><td>null</td></tr></tbody></table></div>"
      ],
      "text/plain": [
       "shape: (1, 4)\n",
       "┌─────────────┬───────────┬──────────┬────────┐\n",
       "│ county_name ┆ longitude ┆ latitude ┆ county │\n",
       "│ ---         ┆ ---       ┆ ---      ┆ ---    │\n",
       "│ str         ┆ f64       ┆ f64      ┆ i64    │\n",
       "╞═════════════╪═══════════╪══════════╪════════╡\n",
       "│ null        ┆ 21.7      ┆ 57.6     ┆ null   │\n",
       "└─────────────┴───────────┴──────────┴────────┘"
      ]
     },
     "metadata": {},
     "output_type": "display_data"
    }
   ],
   "source": [
    "for key in dfs.keys():\n",
    "    print(f\"{key}:\")\n",
    "    display(dfs[key].head(1))\n",
    "    "
   ]
  }
 ],
 "metadata": {
  "kernelspec": {
   "display_name": ".venv",
   "language": "python",
   "name": "python3"
  },
  "language_info": {
   "codemirror_mode": {
    "name": "ipython",
    "version": 3
   },
   "file_extension": ".py",
   "mimetype": "text/x-python",
   "name": "python",
   "nbconvert_exporter": "python",
   "pygments_lexer": "ipython3",
   "version": "3.12.3"
  }
 },
 "nbformat": 4,
 "nbformat_minor": 2
}
