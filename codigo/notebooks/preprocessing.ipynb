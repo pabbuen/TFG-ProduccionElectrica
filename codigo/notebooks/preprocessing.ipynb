{
 "cells": [
  {
   "cell_type": "markdown",
   "metadata": {},
   "source": [
    "## Carga de datos\n",
    "\n",
    "Antes de poder manipular los diferentes datos, primero es necesário\n",
    "cargarlos en el sistema"
   ]
  },
  {
   "cell_type": "code",
   "execution_count": 31,
   "metadata": {},
   "outputs": [],
   "source": [
    "import polars as pl\n",
    "import numpy as np \n",
    "from pathlib import Path\n",
    "from sklearn.metrics.pairwise import haversine_distances"
   ]
  },
  {
   "cell_type": "code",
   "execution_count": 32,
   "metadata": {},
   "outputs": [],
   "source": [
    "# Directório de archivos\n",
    "data_folder = Path(\"../data\")\n",
    "\n",
    "# Diccionario de archivos\n",
    "files = {\n",
    "    \"train\"              : \"train.csv\",\n",
    "    \"gas_prices\"         : \"gas_prices.csv\",\n",
    "    \"client\"             : \"client.csv\",\n",
    "    \"electricity_prices\" : \"electricity_prices.csv\",\n",
    "    \"forecast_weather\"   : \"forecast_weather.csv\",\n",
    "    \"historical_weather\" : \"historical_weather.csv\",\n",
    "    \"weather_station\"    : \"weather_station_to_county_mapping.csv\"\n",
    "}"
   ]
  },
  {
   "cell_type": "code",
   "execution_count": 33,
   "metadata": {},
   "outputs": [
    {
     "name": "stdout",
     "output_type": "stream",
     "text": [
      "Archivo train cargado con exito.\n",
      "Archivo gas_prices cargado con exito.\n",
      "Archivo client cargado con exito.\n",
      "Archivo electricity_prices cargado con exito.\n",
      "Archivo forecast_weather cargado con exito.\n",
      "Archivo historical_weather cargado con exito.\n",
      "Archivo weather_station cargado con exito.\n"
     ]
    }
   ],
   "source": [
    "# Se crea un diccionario de DataFrames para acceder facilmente a todos\n",
    "# y poder iterar sobre ellos si es necesário\n",
    "dfs: dict[str, pl.DataFrame] = {}\n",
    "\n",
    "for key, filename in files.items():\n",
    "    filepath = data_folder / filename\n",
    "    try:\n",
    "        df = pl.read_csv(filepath)\n",
    "        dfs[key] = df\n",
    "        print(f\"Archivo {key} cargado con exito.\")\n",
    "    except:\n",
    "        print(f\"No pudo cargarse el archivo {key}.\")\n",
    "    "
   ]
  },
  {
   "cell_type": "markdown",
   "metadata": {},
   "source": [
    "## Asignación de longitud/latitud a un condado especifico\n",
    "\n",
    "Con el fin de poder unir los csv de \"train.csv\" y \"forecast_weather.csv\"\n",
    "es necesario poder asignar a cada longitud y latitud, su condado\n",
    "correspondiente.\n",
    "\n",
    "Para ello se utilizará el archivo \"weather_station_to_county_mapping\" con datos que asignan latitudes y longitudes a su correspondiente condado."
   ]
  },
  {
   "cell_type": "markdown",
   "metadata": {},
   "source": [
    "### Visualización de los datos"
   ]
  },
  {
   "cell_type": "code",
   "execution_count": 212,
   "metadata": {},
   "outputs": [],
   "source": [
    "class DataProcessor:\n",
    "    def __init__(self):\n",
    "        self.gas_join = [\"date\"]\n",
    "        self.ep_join = [\"datetime\"]\n",
    "        self.hw_join = [ \"county\", \"datetime\"]\n",
    "        self.client_join = [\"product_type\", \"county\", \"is_business\", \"date\"]\n",
    "        self.lat_lon = [\"latitude\", \"longitude\"]\n",
    "\n",
    "    def add_counties(self, df: pl.DataFrame, stations: pl.DataFrame):\n",
    "        # Se seleccionan los datos requeridos\n",
    "\n",
    "        coords = df.select(\n",
    "            pl.col(\"latitude\", \"longitude\")\n",
    "        ).unique()\n",
    "\n",
    "        coords = coords.with_columns(\n",
    "            pl.col(\"latitude\").radians().alias(\"lat_rad\"),\n",
    "            pl.col(\"longitude\").radians().alias(\"lon_rad\")\n",
    "        )\n",
    "\n",
    "        wthr_stations = stations.drop_nulls()\n",
    "        wthr_stations = wthr_stations[\n",
    "            \"latitude\", \"longitude\", \"county\"\n",
    "        ].with_columns(\n",
    "                pl.col(\"latitude\", \"longitude\").radians()\n",
    "        ).to_numpy()\n",
    "\n",
    "        coords_arr = coords.to_numpy()\n",
    "\n",
    "        counties = np.array([], np.int32)\n",
    "        # Se itera para obtener la menor distancia entre puntos \n",
    "        # y asignar el condado\n",
    "        for coord in coords_arr[:, 2:4]:\n",
    "            # Cada coordenada tiene una dist minima \n",
    "            # y un condado asignado\n",
    "            min_dist = float(\"inf\")\n",
    "            cnty = -1\n",
    "\n",
    "            station_zip = zip(wthr_stations[:, :2], wthr_stations[:, 2])\n",
    "\n",
    "            for lat_lon, county in station_zip:\n",
    "                dist = haversine_distances([coord, lat_lon])[0, 1]\n",
    "\n",
    "                if dist < min_dist:\n",
    "                    cnty = county\n",
    "                    min_dist = dist\n",
    "\n",
    "            # Se añade el condado a la lista\n",
    "            counties = np.append(\n",
    "                counties,\n",
    "                int(cnty)\n",
    "            )\n",
    "        \n",
    "        # Se asigna los condados a cada coordenada y se devuelve el resultado\n",
    "        result = coords.with_columns(\n",
    "            pl.lit(counties).alias(\"county\")\n",
    "        )\n",
    "\n",
    "        result = df.join(\n",
    "            result.select([\"latitude\", \"longitude\", \"county\"]),\n",
    "            on=[\"latitude\", \"longitude\"],\n",
    "            how=\"left\"\n",
    "        )\n",
    "\n",
    "        return result\n",
    "    \n",
    "    def remove_counties(self, df: pl.DataFrame, counties: set[int]):\n",
    "        return df.filter(~pl.col(\"county\").is_in(counties))\n",
    "\n",
    "    def change_names(self, df: pl.DataFrame, suffix, no_change):\n",
    "        renamed_df = df.rename(\n",
    "            lambda col: col + suffix if col not in no_change else col\n",
    "        )\n",
    "        return renamed_df\n",
    "    \n",
    "    def to_datetime(self, df: pl.DataFrame, col: str):\n",
    "        # Cast str to Datetime\n",
    "        result = df.with_columns(\n",
    "            pl.col(col).str.strptime(pl.Datetime)\n",
    "        )\n",
    "        return result\n",
    "\n",
    "    def get_gas_features(self, gas_df: pl.DataFrame):\n",
    "        df = gas_df.with_columns(\n",
    "            ((pl.col(\"lowest_price_per_mwh\") + \n",
    "              pl.col(\"highest_price_per_mwh\")) / 2).alias(\"mean_price_per_mwh_24h\")\n",
    "        )\n",
    "\n",
    "        df = df.with_columns(pl.col(\"origin_date\").str.strptime(pl.Date))\n",
    "        df = df.rename({\"origin_date\":\"date\"})\n",
    "\n",
    "        return self.change_names(df, \"_gas\", self.gas_join)\n",
    "    \n",
    "    def get_client_features(self, client_df: pl.DataFrame):\n",
    "        df = client_df.with_columns(\n",
    "            pl.col(\"date\").str.strptime(pl.Date)\n",
    "        )\n",
    "\n",
    "        df = self.remove_counties(df, [12])\n",
    "\n",
    "        return self.change_names(df, \"_client\", self.client_join)\n",
    "    \n",
    "    def get_hw_means(self, data: pl.DataFrame) -> pl.DataFrame:\n",
    "        data = data.group_by(\n",
    "        [\"datetime\", \"county\"], maintain_order=True\n",
    "        ).agg(pl.all().mean())\n",
    "        return data\n",
    "\n",
    "    def get_hist_weather_features(self, hw_df: pl.DataFrame, ws_df: pl.DataFrame):\n",
    "        df = self.to_datetime(hw_df, \"datetime\")\n",
    "\n",
    "        df = self.add_counties(df, ws_df)\n",
    "        df = self.get_hw_means(df)\n",
    "        df = self.change_names(df, \"_hw\", self.hw_join)\n",
    "\n",
    "        return df\n",
    "    \n",
    "    def predict_epmwh(self, df: pl.DataFrame, date: pl.Datetime):\n",
    "        from sklearn.linear_model import LinearRegression\n",
    "\n",
    "        train_df = df.filter(\n",
    "            pl.col(\"origin_date\").dt.hour() == 2\n",
    "        )\n",
    "\n",
    "        X = train_df[\"data_block_id\"].to_numpy().reshape(-1, 1)\n",
    "        y = train_df[\"euros_per_mwh\"].to_numpy()\n",
    "\n",
    "        X_pred = train_df.filter(\n",
    "            pl.col(\"origin_date\") == date - pl.duration(days=1)\n",
    "        )[\"data_block_id\"].item() + 1\n",
    "        X_pred = np.array(X_pred).reshape(-1, 1)\n",
    "\n",
    "        lr = LinearRegression().fit(X, y)\n",
    "        y_pred = lr.predict(X_pred)\n",
    "\n",
    "        new_df = pl.DataFrame({\n",
    "            \"forecast_date\" : [date + pl.duration(days=1)],\n",
    "            \"euros_per_mwh\" : y_pred,\n",
    "            \"origin_date\" : [date],\n",
    "            \"data_block_id\" : [X_pred.item()]\n",
    "        })\n",
    "\n",
    "        result = pl.concat([df, new_df])\n",
    "\n",
    "        return result\n",
    "\n",
    "    def get_electricity_features(self, ep_df: pl.DataFrame):\n",
    "        # str to datetime\n",
    "        df = self.to_datetime(ep_df, \"origin_date\")\n",
    "        df = self.to_datetime(df, \"forecast_date\")\n",
    "\n",
    "        df = df.rename({\"origin_date\"   : \"datetime\"})\n",
    "        df = df.rename({\"euros_per_mwh\" : \"euros_per_mwh_24h\"})\n",
    "\n",
    "        # Change names\n",
    "        df = self.change_names(df, \"_ep\", self.ep_join)\n",
    "\n",
    "        return df\n",
    "    \n",
    "    def get_data_features(self, data: pl.DataFrame):\n",
    "        \n",
    "        date = \"datetime\"\n",
    "        # Cast to Datetime\n",
    "        df = self.to_datetime(data, \"datetime\")\n",
    "\n",
    "        df = df.with_columns([\n",
    "            # Date\n",
    "            pl.col(date).dt.truncate(\"1d\").cast(pl.Date).alias(\"date\"),\n",
    "\n",
    "            # Year\n",
    "            pl.col(date).dt.year().alias(\"year\"),\n",
    "\n",
    "            # Quarter\n",
    "            pl.col(date).dt.quarter().alias(\"quarter\"),\n",
    "\n",
    "            # Month\n",
    "            pl.col(date).dt.month().alias(\"month\"),\n",
    "\n",
    "            # Week\n",
    "            pl.col(date).dt.week().alias(\"week\"),\n",
    "\n",
    "            # Hour\n",
    "            pl.col(date).dt.hour().alias(\"hour\"),\n",
    "\n",
    "            # Day of year\n",
    "            pl.col(date).dt.ordinal_day().alias(\"day_of_year\"),\n",
    "\n",
    "            # Day of month\n",
    "            pl.col(date).dt.day().alias(\"day_of_month\"),\n",
    "\n",
    "            # Day of week\n",
    "            pl.col(date).dt.weekday().alias(\"day_of_week\")\n",
    "        ])\n",
    "\n",
    "        df = self.remove_counties(df, [12])\n",
    "\n",
    "        return df\n",
    "    \n",
    "    def __call__(self, df_dict: dict):\n",
    "\n",
    "        # Features\n",
    "        data = self.get_data_features(df_dict[\"train\"])\n",
    "        gas_p = self.get_gas_features(df_dict[\"gas_prices\"])\n",
    "        el_p = self.get_electricity_features(df_dict[\"electricity_prices\"])\n",
    "        client = self.get_client_features(df_dict[\"client\"])\n",
    "        hist_w = self.get_hist_weather_features(\n",
    "            df_dict[\"historical_weather\"],\n",
    "            df_dict[\"weather_station\"]\n",
    "        )\n",
    "\n",
    "        # Joins\n",
    "        final_data = data.join(client, on=self.client_join, how=\"left\")\n",
    "        final_data = final_data.join(gas_p, on=self.gas_join, how=\"left\")\n",
    "        final_data = final_data.join(el_p, on=self.ep_join, how=\"left\")\n",
    "        final_data = final_data.join(hist_w, on=self.hw_join, how=\"left\")\n",
    "\n",
    "        limit_date = pl.lit(\"2023-05-29 23:00:00\").str.strptime(pl.Datetime)\n",
    "\n",
    "        final_data = final_data.filter(pl.col(\"datetime\") <= limit_date)\n",
    "\n",
    "        return final_data"
   ]
  },
  {
   "cell_type": "code",
   "execution_count": null,
   "metadata": {},
   "outputs": [],
   "source": [
    "dp = DataProcessor()\n",
    "res = dp(dfs)"
   ]
  },
  {
   "cell_type": "code",
   "execution_count": 36,
   "metadata": {},
   "outputs": [
    {
     "data": {
      "text/html": [
       "<div><style>\n",
       ".dataframe > thead > tr,\n",
       ".dataframe > tbody > tr {\n",
       "  text-align: right;\n",
       "  white-space: pre-wrap;\n",
       "}\n",
       "</style>\n",
       "<small>shape: (1_981_584, 46)</small><table border=\"1\" class=\"dataframe\"><thead><tr><th>county</th><th>is_business</th><th>product_type</th><th>target</th><th>is_consumption</th><th>datetime</th><th>data_block_id</th><th>row_id</th><th>prediction_unit_id</th><th>date</th><th>year</th><th>quarter</th><th>month</th><th>week</th><th>hour</th><th>day_of_year</th><th>day_of_month</th><th>day_of_week</th><th>eic_count_client</th><th>installed_capacity_client</th><th>data_block_id_client</th><th>forecast_date_gas</th><th>lowest_price_per_mwh_gas</th><th>highest_price_per_mwh_gas</th><th>data_block_id_gas</th><th>mean_price_per_mwh_24h_gas</th><th>forecast_date_ep</th><th>euros_per_mwh_24h_ep</th><th>data_block_id_ep</th><th>temperature_hw</th><th>dewpoint_hw</th><th>rain_hw</th><th>snowfall_hw</th><th>surface_pressure_hw</th><th>cloudcover_total_hw</th><th>cloudcover_low_hw</th><th>cloudcover_mid_hw</th><th>cloudcover_high_hw</th><th>windspeed_10m_hw</th><th>winddirection_10m_hw</th><th>shortwave_radiation_hw</th><th>direct_solar_radiation_hw</th><th>diffuse_radiation_hw</th><th>latitude_hw</th><th>longitude_hw</th><th>data_block_id_hw</th></tr><tr><td>i64</td><td>i64</td><td>i64</td><td>f64</td><td>i64</td><td>datetime[μs]</td><td>i64</td><td>i64</td><td>i64</td><td>date</td><td>i32</td><td>i8</td><td>i8</td><td>i8</td><td>i8</td><td>i16</td><td>i8</td><td>i8</td><td>i64</td><td>f64</td><td>i64</td><td>str</td><td>f64</td><td>f64</td><td>i64</td><td>f64</td><td>str</td><td>f64</td><td>i64</td><td>f64</td><td>f64</td><td>f64</td><td>f64</td><td>f64</td><td>f64</td><td>f64</td><td>f64</td><td>f64</td><td>f64</td><td>f64</td><td>f64</td><td>f64</td><td>f64</td><td>f64</td><td>f64</td><td>f64</td></tr></thead><tbody><tr><td>0</td><td>0</td><td>1</td><td>0.713</td><td>0</td><td>2021-09-01 00:00:00</td><td>0</td><td>0</td><td>0</td><td>2021-09-01</td><td>2021</td><td>3</td><td>9</td><td>35</td><td>0</td><td>244</td><td>1</td><td>3</td><td>108</td><td>952.89</td><td>2</td><td>&quot;2021-09-02&quot;</td><td>45.62</td><td>46.29</td><td>2</td><td>45.955</td><td>&quot;2021-09-02 00:00:00&quot;</td><td>96.99</td><td>2</td><td>13.815385</td><td>10.6</td><td>0.0</td><td>0.0</td><td>1011.569231</td><td>42.461538</td><td>44.153846</td><td>2.923077</td><td>3.384615</td><td>5.619658</td><td>341.384615</td><td>0.0</td><td>0.0</td><td>0.0</td><td>59.492308</td><td>24.584615</td><td>1.0</td></tr><tr><td>0</td><td>0</td><td>1</td><td>96.59</td><td>1</td><td>2021-09-01 00:00:00</td><td>0</td><td>1</td><td>0</td><td>2021-09-01</td><td>2021</td><td>3</td><td>9</td><td>35</td><td>0</td><td>244</td><td>1</td><td>3</td><td>108</td><td>952.89</td><td>2</td><td>&quot;2021-09-02&quot;</td><td>45.62</td><td>46.29</td><td>2</td><td>45.955</td><td>&quot;2021-09-02 00:00:00&quot;</td><td>96.99</td><td>2</td><td>13.815385</td><td>10.6</td><td>0.0</td><td>0.0</td><td>1011.569231</td><td>42.461538</td><td>44.153846</td><td>2.923077</td><td>3.384615</td><td>5.619658</td><td>341.384615</td><td>0.0</td><td>0.0</td><td>0.0</td><td>59.492308</td><td>24.584615</td><td>1.0</td></tr><tr><td>0</td><td>0</td><td>2</td><td>0.0</td><td>0</td><td>2021-09-01 00:00:00</td><td>0</td><td>2</td><td>1</td><td>2021-09-01</td><td>2021</td><td>3</td><td>9</td><td>35</td><td>0</td><td>244</td><td>1</td><td>3</td><td>17</td><td>166.4</td><td>2</td><td>&quot;2021-09-02&quot;</td><td>45.62</td><td>46.29</td><td>2</td><td>45.955</td><td>&quot;2021-09-02 00:00:00&quot;</td><td>96.99</td><td>2</td><td>13.815385</td><td>10.6</td><td>0.0</td><td>0.0</td><td>1011.569231</td><td>42.461538</td><td>44.153846</td><td>2.923077</td><td>3.384615</td><td>5.619658</td><td>341.384615</td><td>0.0</td><td>0.0</td><td>0.0</td><td>59.492308</td><td>24.584615</td><td>1.0</td></tr><tr><td>0</td><td>0</td><td>2</td><td>17.314</td><td>1</td><td>2021-09-01 00:00:00</td><td>0</td><td>3</td><td>1</td><td>2021-09-01</td><td>2021</td><td>3</td><td>9</td><td>35</td><td>0</td><td>244</td><td>1</td><td>3</td><td>17</td><td>166.4</td><td>2</td><td>&quot;2021-09-02&quot;</td><td>45.62</td><td>46.29</td><td>2</td><td>45.955</td><td>&quot;2021-09-02 00:00:00&quot;</td><td>96.99</td><td>2</td><td>13.815385</td><td>10.6</td><td>0.0</td><td>0.0</td><td>1011.569231</td><td>42.461538</td><td>44.153846</td><td>2.923077</td><td>3.384615</td><td>5.619658</td><td>341.384615</td><td>0.0</td><td>0.0</td><td>0.0</td><td>59.492308</td><td>24.584615</td><td>1.0</td></tr><tr><td>0</td><td>0</td><td>3</td><td>2.904</td><td>0</td><td>2021-09-01 00:00:00</td><td>0</td><td>4</td><td>2</td><td>2021-09-01</td><td>2021</td><td>3</td><td>9</td><td>35</td><td>0</td><td>244</td><td>1</td><td>3</td><td>688</td><td>7207.88</td><td>2</td><td>&quot;2021-09-02&quot;</td><td>45.62</td><td>46.29</td><td>2</td><td>45.955</td><td>&quot;2021-09-02 00:00:00&quot;</td><td>96.99</td><td>2</td><td>13.815385</td><td>10.6</td><td>0.0</td><td>0.0</td><td>1011.569231</td><td>42.461538</td><td>44.153846</td><td>2.923077</td><td>3.384615</td><td>5.619658</td><td>341.384615</td><td>0.0</td><td>0.0</td><td>0.0</td><td>59.492308</td><td>24.584615</td><td>1.0</td></tr><tr><td>&hellip;</td><td>&hellip;</td><td>&hellip;</td><td>&hellip;</td><td>&hellip;</td><td>&hellip;</td><td>&hellip;</td><td>&hellip;</td><td>&hellip;</td><td>&hellip;</td><td>&hellip;</td><td>&hellip;</td><td>&hellip;</td><td>&hellip;</td><td>&hellip;</td><td>&hellip;</td><td>&hellip;</td><td>&hellip;</td><td>&hellip;</td><td>&hellip;</td><td>&hellip;</td><td>&hellip;</td><td>&hellip;</td><td>&hellip;</td><td>&hellip;</td><td>&hellip;</td><td>&hellip;</td><td>&hellip;</td><td>&hellip;</td><td>&hellip;</td><td>&hellip;</td><td>&hellip;</td><td>&hellip;</td><td>&hellip;</td><td>&hellip;</td><td>&hellip;</td><td>&hellip;</td><td>&hellip;</td><td>&hellip;</td><td>&hellip;</td><td>&hellip;</td><td>&hellip;</td><td>&hellip;</td><td>&hellip;</td><td>&hellip;</td><td>&hellip;</td></tr><tr><td>15</td><td>1</td><td>0</td><td>188.167</td><td>1</td><td>2023-05-29 23:00:00</td><td>635</td><td>2012107</td><td>64</td><td>2023-05-29</td><td>2023</td><td>2</td><td>5</td><td>22</td><td>23</td><td>149</td><td>29</td><td>1</td><td>15</td><td>620.0</td><td>637</td><td>&quot;2023-05-30&quot;</td><td>29.0</td><td>34.0</td><td>637</td><td>31.5</td><td>&quot;2023-05-30 23:00:00&quot;</td><td>-1.29</td><td>637</td><td>11.72</td><td>7.02</td><td>0.0</td><td>0.0</td><td>1006.16</td><td>19.8</td><td>2.1</td><td>15.5</td><td>28.8</td><td>1.802778</td><td>173.1</td><td>0.0</td><td>0.0</td><td>0.0</td><td>57.78</td><td>27.4</td><td>637.0</td></tr><tr><td>15</td><td>1</td><td>1</td><td>0.0</td><td>0</td><td>2023-05-29 23:00:00</td><td>635</td><td>2012108</td><td>59</td><td>2023-05-29</td><td>2023</td><td>2</td><td>5</td><td>22</td><td>23</td><td>149</td><td>29</td><td>1</td><td>20</td><td>624.5</td><td>637</td><td>&quot;2023-05-30&quot;</td><td>29.0</td><td>34.0</td><td>637</td><td>31.5</td><td>&quot;2023-05-30 23:00:00&quot;</td><td>-1.29</td><td>637</td><td>11.72</td><td>7.02</td><td>0.0</td><td>0.0</td><td>1006.16</td><td>19.8</td><td>2.1</td><td>15.5</td><td>28.8</td><td>1.802778</td><td>173.1</td><td>0.0</td><td>0.0</td><td>0.0</td><td>57.78</td><td>27.4</td><td>637.0</td></tr><tr><td>15</td><td>1</td><td>1</td><td>31.484</td><td>1</td><td>2023-05-29 23:00:00</td><td>635</td><td>2012109</td><td>59</td><td>2023-05-29</td><td>2023</td><td>2</td><td>5</td><td>22</td><td>23</td><td>149</td><td>29</td><td>1</td><td>20</td><td>624.5</td><td>637</td><td>&quot;2023-05-30&quot;</td><td>29.0</td><td>34.0</td><td>637</td><td>31.5</td><td>&quot;2023-05-30 23:00:00&quot;</td><td>-1.29</td><td>637</td><td>11.72</td><td>7.02</td><td>0.0</td><td>0.0</td><td>1006.16</td><td>19.8</td><td>2.1</td><td>15.5</td><td>28.8</td><td>1.802778</td><td>173.1</td><td>0.0</td><td>0.0</td><td>0.0</td><td>57.78</td><td>27.4</td><td>637.0</td></tr><tr><td>15</td><td>1</td><td>3</td><td>0.0</td><td>0</td><td>2023-05-29 23:00:00</td><td>635</td><td>2012110</td><td>60</td><td>2023-05-29</td><td>2023</td><td>2</td><td>5</td><td>22</td><td>23</td><td>149</td><td>29</td><td>1</td><td>55</td><td>2188.2</td><td>637</td><td>&quot;2023-05-30&quot;</td><td>29.0</td><td>34.0</td><td>637</td><td>31.5</td><td>&quot;2023-05-30 23:00:00&quot;</td><td>-1.29</td><td>637</td><td>11.72</td><td>7.02</td><td>0.0</td><td>0.0</td><td>1006.16</td><td>19.8</td><td>2.1</td><td>15.5</td><td>28.8</td><td>1.802778</td><td>173.1</td><td>0.0</td><td>0.0</td><td>0.0</td><td>57.78</td><td>27.4</td><td>637.0</td></tr><tr><td>15</td><td>1</td><td>3</td><td>177.056</td><td>1</td><td>2023-05-29 23:00:00</td><td>635</td><td>2012111</td><td>60</td><td>2023-05-29</td><td>2023</td><td>2</td><td>5</td><td>22</td><td>23</td><td>149</td><td>29</td><td>1</td><td>55</td><td>2188.2</td><td>637</td><td>&quot;2023-05-30&quot;</td><td>29.0</td><td>34.0</td><td>637</td><td>31.5</td><td>&quot;2023-05-30 23:00:00&quot;</td><td>-1.29</td><td>637</td><td>11.72</td><td>7.02</td><td>0.0</td><td>0.0</td><td>1006.16</td><td>19.8</td><td>2.1</td><td>15.5</td><td>28.8</td><td>1.802778</td><td>173.1</td><td>0.0</td><td>0.0</td><td>0.0</td><td>57.78</td><td>27.4</td><td>637.0</td></tr></tbody></table></div>"
      ],
      "text/plain": [
       "shape: (1_981_584, 46)\n",
       "┌────────┬────────────┬────────────┬─────────┬───┬────────────┬────────────┬───────────┬───────────┐\n",
       "│ county ┆ is_busines ┆ product_ty ┆ target  ┆ … ┆ diffuse_ra ┆ latitude_h ┆ longitude ┆ data_bloc │\n",
       "│ ---    ┆ s          ┆ pe         ┆ ---     ┆   ┆ diation_hw ┆ w          ┆ _hw       ┆ k_id_hw   │\n",
       "│ i64    ┆ ---        ┆ ---        ┆ f64     ┆   ┆ ---        ┆ ---        ┆ ---       ┆ ---       │\n",
       "│        ┆ i64        ┆ i64        ┆         ┆   ┆ f64        ┆ f64        ┆ f64       ┆ f64       │\n",
       "╞════════╪════════════╪════════════╪═════════╪═══╪════════════╪════════════╪═══════════╪═══════════╡\n",
       "│ 0      ┆ 0          ┆ 1          ┆ 0.713   ┆ … ┆ 0.0        ┆ 59.492308  ┆ 24.584615 ┆ 1.0       │\n",
       "│ 0      ┆ 0          ┆ 1          ┆ 96.59   ┆ … ┆ 0.0        ┆ 59.492308  ┆ 24.584615 ┆ 1.0       │\n",
       "│ 0      ┆ 0          ┆ 2          ┆ 0.0     ┆ … ┆ 0.0        ┆ 59.492308  ┆ 24.584615 ┆ 1.0       │\n",
       "│ 0      ┆ 0          ┆ 2          ┆ 17.314  ┆ … ┆ 0.0        ┆ 59.492308  ┆ 24.584615 ┆ 1.0       │\n",
       "│ 0      ┆ 0          ┆ 3          ┆ 2.904   ┆ … ┆ 0.0        ┆ 59.492308  ┆ 24.584615 ┆ 1.0       │\n",
       "│ …      ┆ …          ┆ …          ┆ …       ┆ … ┆ …          ┆ …          ┆ …         ┆ …         │\n",
       "│ 15     ┆ 1          ┆ 0          ┆ 188.167 ┆ … ┆ 0.0        ┆ 57.78      ┆ 27.4      ┆ 637.0     │\n",
       "│ 15     ┆ 1          ┆ 1          ┆ 0.0     ┆ … ┆ 0.0        ┆ 57.78      ┆ 27.4      ┆ 637.0     │\n",
       "│ 15     ┆ 1          ┆ 1          ┆ 31.484  ┆ … ┆ 0.0        ┆ 57.78      ┆ 27.4      ┆ 637.0     │\n",
       "│ 15     ┆ 1          ┆ 3          ┆ 0.0     ┆ … ┆ 0.0        ┆ 57.78      ┆ 27.4      ┆ 637.0     │\n",
       "│ 15     ┆ 1          ┆ 3          ┆ 177.056 ┆ … ┆ 0.0        ┆ 57.78      ┆ 27.4      ┆ 637.0     │\n",
       "└────────┴────────────┴────────────┴─────────┴───┴────────────┴────────────┴───────────┴───────────┘"
      ]
     },
     "execution_count": 36,
     "metadata": {},
     "output_type": "execute_result"
    }
   ],
   "source": [
    "res"
   ]
  },
  {
   "cell_type": "code",
   "execution_count": 47,
   "metadata": {},
   "outputs": [
    {
     "data": {
      "text/html": [
       "<div><style>\n",
       ".dataframe > thead > tr,\n",
       ".dataframe > tbody > tr {\n",
       "  text-align: right;\n",
       "  white-space: pre-wrap;\n",
       "}\n",
       "</style>\n",
       "<small>shape: (9, 47)</small><table border=\"1\" class=\"dataframe\"><thead><tr><th>statistic</th><th>county</th><th>is_business</th><th>product_type</th><th>target</th><th>is_consumption</th><th>datetime</th><th>data_block_id</th><th>row_id</th><th>prediction_unit_id</th><th>date</th><th>year</th><th>quarter</th><th>month</th><th>week</th><th>hour</th><th>day_of_year</th><th>day_of_month</th><th>day_of_week</th><th>eic_count_client</th><th>installed_capacity_client</th><th>data_block_id_client</th><th>forecast_date_gas</th><th>lowest_price_per_mwh_gas</th><th>highest_price_per_mwh_gas</th><th>data_block_id_gas</th><th>mean_price_per_mwh_24h_gas</th><th>forecast_date_ep</th><th>euros_per_mwh_24h_ep</th><th>data_block_id_ep</th><th>temperature_hw</th><th>dewpoint_hw</th><th>rain_hw</th><th>snowfall_hw</th><th>surface_pressure_hw</th><th>cloudcover_total_hw</th><th>cloudcover_low_hw</th><th>cloudcover_mid_hw</th><th>cloudcover_high_hw</th><th>windspeed_10m_hw</th><th>winddirection_10m_hw</th><th>shortwave_radiation_hw</th><th>direct_solar_radiation_hw</th><th>diffuse_radiation_hw</th><th>latitude_hw</th><th>longitude_hw</th><th>data_block_id_hw</th></tr><tr><td>str</td><td>f64</td><td>f64</td><td>f64</td><td>f64</td><td>f64</td><td>str</td><td>f64</td><td>f64</td><td>f64</td><td>str</td><td>f64</td><td>f64</td><td>f64</td><td>f64</td><td>f64</td><td>f64</td><td>f64</td><td>f64</td><td>f64</td><td>f64</td><td>f64</td><td>str</td><td>f64</td><td>f64</td><td>f64</td><td>f64</td><td>str</td><td>f64</td><td>f64</td><td>f64</td><td>f64</td><td>f64</td><td>f64</td><td>f64</td><td>f64</td><td>f64</td><td>f64</td><td>f64</td><td>f64</td><td>f64</td><td>f64</td><td>f64</td><td>f64</td><td>f64</td><td>f64</td><td>f64</td></tr></thead><tbody><tr><td>&quot;count&quot;</td><td>1.981584e6</td><td>1.981584e6</td><td>1.981584e6</td><td>1.981064e6</td><td>1.981584e6</td><td>&quot;1981584&quot;</td><td>1.981584e6</td><td>1.981584e6</td><td>1.981584e6</td><td>&quot;1981584&quot;</td><td>1.981584e6</td><td>1.981584e6</td><td>1.981584e6</td><td>1.981584e6</td><td>1.981584e6</td><td>1.981584e6</td><td>1.981584e6</td><td>1.981584e6</td><td>1.981584e6</td><td>1.981584e6</td><td>1.981584e6</td><td>&quot;1981584&quot;</td><td>1.981584e6</td><td>1.981584e6</td><td>1.981584e6</td><td>1.981584e6</td><td>&quot;1981322&quot;</td><td>1.981322e6</td><td>1.981322e6</td><td>1.981584e6</td><td>1.981584e6</td><td>1.981584e6</td><td>1.981584e6</td><td>1.981584e6</td><td>1.981584e6</td><td>1.981584e6</td><td>1.981584e6</td><td>1.981584e6</td><td>1.981584e6</td><td>1.981584e6</td><td>1.981584e6</td><td>1.981584e6</td><td>1.981584e6</td><td>1.981584e6</td><td>1.981584e6</td><td>1.981584e6</td></tr><tr><td>&quot;null_count&quot;</td><td>0.0</td><td>0.0</td><td>0.0</td><td>520.0</td><td>0.0</td><td>&quot;0&quot;</td><td>0.0</td><td>0.0</td><td>0.0</td><td>&quot;0&quot;</td><td>0.0</td><td>0.0</td><td>0.0</td><td>0.0</td><td>0.0</td><td>0.0</td><td>0.0</td><td>0.0</td><td>0.0</td><td>0.0</td><td>0.0</td><td>&quot;0&quot;</td><td>0.0</td><td>0.0</td><td>0.0</td><td>0.0</td><td>&quot;262&quot;</td><td>262.0</td><td>262.0</td><td>0.0</td><td>0.0</td><td>0.0</td><td>0.0</td><td>0.0</td><td>0.0</td><td>0.0</td><td>0.0</td><td>0.0</td><td>0.0</td><td>0.0</td><td>0.0</td><td>0.0</td><td>0.0</td><td>0.0</td><td>0.0</td><td>0.0</td></tr><tr><td>&quot;mean&quot;</td><td>7.224645</td><td>0.529637</td><td>1.882034</td><td>274.42834</td><td>0.5</td><td>&quot;2022-07-19 10:19:47.050359&quot;</td><td>320.951239</td><td>1.0062e6</td><td>32.797641</td><td>&quot;2022-07-18 22:49:47.050000&quot;</td><td>2022.05409</td><td>2.479786</td><td>6.434658</td><td>26.138604</td><td>11.5</td><td>180.208367</td><td>15.655645</td><td>4.002761</td><td>74.317177</td><td>1467.247208</td><td>322.951239</td><td>null</td><td>95.53234</td><td>108.393963</td><td>322.951239</td><td>101.963152</td><td>null</td><td>157.514057</td><td>322.942557</td><td>5.443399</td><td>1.917484</td><td>0.048351</td><td>0.016764</td><td>1007.948216</td><td>62.03052</td><td>47.952422</td><td>35.104989</td><td>36.121579</td><td>4.468892</td><td>198.376072</td><td>105.425972</td><td>62.9162</td><td>42.509772</td><td>58.63522</td><td>25.54854</td><td>322.492906</td></tr><tr><td>&quot;std&quot;</td><td>4.781334</td><td>0.499121</td><td>1.081267</td><td>915.138469</td><td>0.5</td><td>null</td><td>182.049529</td><td>580772.194083</td><td>19.637244</td><td>null</td><td>0.643975</td><td>1.180241</td><td>3.669624</td><td>15.95755</td><td>6.922188</td><td>112.110155</td><td>8.760926</td><td>2.000108</td><td>144.953325</td><td>2436.993209</td><td>182.049529</td><td>null</td><td>47.570707</td><td>54.742788</td><td>182.049529</td><td>50.915722</td><td>null</td><td>121.419656</td><td>182.047971</td><td>8.170889</td><td>7.240976</td><td>0.175282</td><td>0.069765</td><td>12.505641</td><td>35.944698</td><td>38.982885</td><td>36.439033</td><td>39.267133</td><td>2.045021</td><td>82.535344</td><td>175.151736</td><td>127.935893</td><td>61.510183</td><td>0.588587</td><td>1.631624</td><td>182.050211</td></tr><tr><td>&quot;min&quot;</td><td>0.0</td><td>0.0</td><td>0.0</td><td>0.0</td><td>0.0</td><td>&quot;2021-09-01 00:00:00&quot;</td><td>0.0</td><td>0.0</td><td>0.0</td><td>&quot;2021-09-01&quot;</td><td>2021.0</td><td>1.0</td><td>1.0</td><td>1.0</td><td>0.0</td><td>1.0</td><td>1.0</td><td>1.0</td><td>5.0</td><td>5.5</td><td>2.0</td><td>&quot;2021-09-02&quot;</td><td>28.1</td><td>34.0</td><td>2.0</td><td>31.1</td><td>&quot;2021-09-02 00:00:00&quot;</td><td>-10.06</td><td>2.0</td><td>-20.533333</td><td>-23.366667</td><td>0.0</td><td>0.0</td><td>952.9</td><td>0.0</td><td>0.0</td><td>0.0</td><td>0.0</td><td>0.166667</td><td>1.0</td><td>0.0</td><td>0.0</td><td>0.0</td><td>57.78</td><td>22.144444</td><td>1.0</td></tr><tr><td>&quot;25%&quot;</td><td>3.0</td><td>0.0</td><td>1.0</td><td>0.356</td><td>0.0</td><td>&quot;2022-02-13 19:00:00&quot;</td><td>165.0</td><td>503354.0</td><td>16.0</td><td>&quot;2022-02-13&quot;</td><td>2022.0</td><td>1.0</td><td>3.0</td><td>12.0</td><td>6.0</td><td>80.0</td><td>8.0</td><td>2.0</td><td>14.0</td><td>324.0</td><td>167.0</td><td>null</td><td>60.0</td><td>67.67</td><td>167.0</td><td>65.0</td><td>null</td><td>85.29</td><td>167.0</td><td>-0.475</td><td>-3.02</td><td>0.0</td><td>0.0</td><td>1000.738462</td><td>28.153846</td><td>6.333333</td><td>0.75</td><td>0.0</td><td>2.909722</td><td>144.0</td><td>0.0</td><td>0.0</td><td>0.0</td><td>58.094118</td><td>24.533333</td><td>167.0</td></tr><tr><td>&quot;50%&quot;</td><td>7.0</td><td>1.0</td><td>2.0</td><td>30.963</td><td>1.0</td><td>&quot;2022-07-20 12:00:00&quot;</td><td>322.0</td><td>1.006272e6</td><td>32.0</td><td>&quot;2022-07-20&quot;</td><td>2022.0</td><td>2.0</td><td>6.0</td><td>24.0</td><td>12.0</td><td>167.0</td><td>16.0</td><td>4.0</td><td>32.0</td><td>657.0</td><td>324.0</td><td>null</td><td>86.0</td><td>94.0</td><td>324.0</td><td>88.895</td><td>null</td><td>128.79</td><td>324.0</td><td>4.966667</td><td>1.433333</td><td>0.0</td><td>0.0</td><td>1009.015385</td><td>73.2</td><td>44.8</td><td>21.0</td><td>16.0</td><td>4.242424</td><td>206.777778</td><td>6.133333</td><td>0.0</td><td>4.4</td><td>58.725</td><td>25.533333</td><td>324.0</td></tr><tr><td>&quot;75%&quot;</td><td>11.0</td><td>1.0</td><td>3.0</td><td>174.627</td><td>1.0</td><td>&quot;2022-12-23 03:00:00&quot;</td><td>478.0</td><td>1.509137e6</td><td>50.0</td><td>&quot;2022-12-23&quot;</td><td>2022.0</td><td>4.0</td><td>10.0</td><td>41.0</td><td>17.0</td><td>285.0</td><td>23.0</td><td>6.0</td><td>71.0</td><td>1574.9</td><td>480.0</td><td>null</td><td>109.74</td><td>133.0</td><td>480.0</td><td>120.91</td><td>null</td><td>199.99</td><td>480.0</td><td>10.966667</td><td>6.8</td><td>0.007692</td><td>0.0</td><td>1016.222222</td><td>97.666667</td><td>90.333333</td><td>68.454545</td><td>78.9</td><td>5.735043</td><td>257.333333</td><td>138.75</td><td>47.733333</td><td>74.666667</td><td>59.233333</td><td>27.116667</td><td>479.0</td></tr><tr><td>&quot;max&quot;</td><td>15.0</td><td>1.0</td><td>3.0</td><td>15480.274</td><td>1.0</td><td>&quot;2023-05-29 23:00:00&quot;</td><td>635.0</td><td>2.012111e6</td><td>68.0</td><td>&quot;2023-05-29&quot;</td><td>2023.0</td><td>4.0</td><td>12.0</td><td>52.0</td><td>23.0</td><td>365.0</td><td>31.0</td><td>7.0</td><td>1517.0</td><td>19314.31</td><td>637.0</td><td>&quot;2023-05-30&quot;</td><td>250.0</td><td>305.0</td><td>637.0</td><td>272.5</td><td>&quot;2023-05-30 23:00:00&quot;</td><td>4000.0</td><td>637.0</td><td>30.266667</td><td>21.45</td><td>4.8</td><td>1.58</td><td>1048.866667</td><td>100.0</td><td>100.0</td><td>100.0</td><td>100.0</td><td>17.290123</td><td>360.0</td><td>821.6</td><td>701.1</td><td>367.0</td><td>59.492308</td><td>27.745455</td><td>637.0</td></tr></tbody></table></div>"
      ],
      "text/plain": [
       "shape: (9, 47)\n",
       "┌───────────┬───────────┬───────────┬───────────┬───┬───────────┬───────────┬───────────┬──────────┐\n",
       "│ statistic ┆ county    ┆ is_busine ┆ product_t ┆ … ┆ diffuse_r ┆ latitude_ ┆ longitude ┆ data_blo │\n",
       "│ ---       ┆ ---       ┆ ss        ┆ ype       ┆   ┆ adiation_ ┆ hw        ┆ _hw       ┆ ck_id_hw │\n",
       "│ str       ┆ f64       ┆ ---       ┆ ---       ┆   ┆ hw        ┆ ---       ┆ ---       ┆ ---      │\n",
       "│           ┆           ┆ f64       ┆ f64       ┆   ┆ ---       ┆ f64       ┆ f64       ┆ f64      │\n",
       "│           ┆           ┆           ┆           ┆   ┆ f64       ┆           ┆           ┆          │\n",
       "╞═══════════╪═══════════╪═══════════╪═══════════╪═══╪═══════════╪═══════════╪═══════════╪══════════╡\n",
       "│ count     ┆ 1.981584e ┆ 1.981584e ┆ 1.981584e ┆ … ┆ 1.981584e ┆ 1.981584e ┆ 1.981584e ┆ 1.981584 │\n",
       "│           ┆ 6         ┆ 6         ┆ 6         ┆   ┆ 6         ┆ 6         ┆ 6         ┆ e6       │\n",
       "│ null_coun ┆ 0.0       ┆ 0.0       ┆ 0.0       ┆ … ┆ 0.0       ┆ 0.0       ┆ 0.0       ┆ 0.0      │\n",
       "│ t         ┆           ┆           ┆           ┆   ┆           ┆           ┆           ┆          │\n",
       "│ mean      ┆ 7.224645  ┆ 0.529637  ┆ 1.882034  ┆ … ┆ 42.509772 ┆ 58.63522  ┆ 25.54854  ┆ 322.4929 │\n",
       "│           ┆           ┆           ┆           ┆   ┆           ┆           ┆           ┆ 06       │\n",
       "│ std       ┆ 4.781334  ┆ 0.499121  ┆ 1.081267  ┆ … ┆ 61.510183 ┆ 0.588587  ┆ 1.631624  ┆ 182.0502 │\n",
       "│           ┆           ┆           ┆           ┆   ┆           ┆           ┆           ┆ 11       │\n",
       "│ min       ┆ 0.0       ┆ 0.0       ┆ 0.0       ┆ … ┆ 0.0       ┆ 57.78     ┆ 22.144444 ┆ 1.0      │\n",
       "│ 25%       ┆ 3.0       ┆ 0.0       ┆ 1.0       ┆ … ┆ 0.0       ┆ 58.094118 ┆ 24.533333 ┆ 167.0    │\n",
       "│ 50%       ┆ 7.0       ┆ 1.0       ┆ 2.0       ┆ … ┆ 4.4       ┆ 58.725    ┆ 25.533333 ┆ 324.0    │\n",
       "│ 75%       ┆ 11.0      ┆ 1.0       ┆ 3.0       ┆ … ┆ 74.666667 ┆ 59.233333 ┆ 27.116667 ┆ 479.0    │\n",
       "│ max       ┆ 15.0      ┆ 1.0       ┆ 3.0       ┆ … ┆ 367.0     ┆ 59.492308 ┆ 27.745455 ┆ 637.0    │\n",
       "└───────────┴───────────┴───────────┴───────────┴───┴───────────┴───────────┴───────────┴──────────┘"
      ]
     },
     "execution_count": 47,
     "metadata": {},
     "output_type": "execute_result"
    }
   ],
   "source": [
    "res.describe()"
   ]
  },
  {
   "cell_type": "code",
   "execution_count": 213,
   "metadata": {},
   "outputs": [
    {
     "ename": "SchemaError",
     "evalue": "type Object(\"object\", Some(object-registry)) is incompatible with expected type Datetime(Microseconds, None)",
     "output_type": "error",
     "traceback": [
      "\u001b[1;31m---------------------------------------------------------------------------\u001b[0m",
      "\u001b[1;31mSchemaError\u001b[0m                               Traceback (most recent call last)",
      "Cell \u001b[1;32mIn[213], line 10\u001b[0m\n\u001b[0;32m      3\u001b[0m ep \u001b[38;5;241m=\u001b[39m dfs[\u001b[38;5;124m\"\u001b[39m\u001b[38;5;124melectricity_prices\u001b[39m\u001b[38;5;124m\"\u001b[39m]\u001b[38;5;241m.\u001b[39mwith_columns(\n\u001b[0;32m      4\u001b[0m     pl\u001b[38;5;241m.\u001b[39mcol(\u001b[38;5;124m\"\u001b[39m\u001b[38;5;124morigin_date\u001b[39m\u001b[38;5;124m\"\u001b[39m)\u001b[38;5;241m.\u001b[39mstr\u001b[38;5;241m.\u001b[39mstrptime(pl\u001b[38;5;241m.\u001b[39mDatetime),\n\u001b[0;32m      5\u001b[0m     pl\u001b[38;5;241m.\u001b[39mcol(\u001b[38;5;124m\"\u001b[39m\u001b[38;5;124mforecast_date\u001b[39m\u001b[38;5;124m\"\u001b[39m)\u001b[38;5;241m.\u001b[39mstr\u001b[38;5;241m.\u001b[39mstrptime(pl\u001b[38;5;241m.\u001b[39mDatetime)\n\u001b[0;32m      6\u001b[0m )\n\u001b[0;32m      8\u001b[0m day \u001b[38;5;241m=\u001b[39m pl\u001b[38;5;241m.\u001b[39mlit(\u001b[38;5;124m\"\u001b[39m\u001b[38;5;124m2022-03-26 02:00:00\u001b[39m\u001b[38;5;124m\"\u001b[39m)\u001b[38;5;241m.\u001b[39mstr\u001b[38;5;241m.\u001b[39mstrptime(pl\u001b[38;5;241m.\u001b[39mDatetime)\n\u001b[1;32m---> 10\u001b[0m result \u001b[38;5;241m=\u001b[39m \u001b[43mdp2\u001b[49m\u001b[38;5;241;43m.\u001b[39;49m\u001b[43mpredict_epmwh\u001b[49m\u001b[43m(\u001b[49m\u001b[43mep\u001b[49m\u001b[43m,\u001b[49m\u001b[43m \u001b[49m\u001b[43mday\u001b[49m\u001b[43m)\u001b[49m\n\u001b[0;32m     11\u001b[0m result\n",
      "Cell \u001b[1;32mIn[212], line 143\u001b[0m, in \u001b[0;36mDataProcessor.predict_epmwh\u001b[1;34m(self, df, date)\u001b[0m\n\u001b[0;32m    134\u001b[0m y_pred \u001b[38;5;241m=\u001b[39m lr\u001b[38;5;241m.\u001b[39mpredict(X_pred)\n\u001b[0;32m    136\u001b[0m new_df \u001b[38;5;241m=\u001b[39m pl\u001b[38;5;241m.\u001b[39mDataFrame({\n\u001b[0;32m    137\u001b[0m     \u001b[38;5;124m\"\u001b[39m\u001b[38;5;124mforecast_date\u001b[39m\u001b[38;5;124m\"\u001b[39m : [date \u001b[38;5;241m+\u001b[39m pl\u001b[38;5;241m.\u001b[39mduration(days\u001b[38;5;241m=\u001b[39m\u001b[38;5;241m1\u001b[39m)],\n\u001b[0;32m    138\u001b[0m     \u001b[38;5;124m\"\u001b[39m\u001b[38;5;124meuros_per_mwh\u001b[39m\u001b[38;5;124m\"\u001b[39m : y_pred,\n\u001b[0;32m    139\u001b[0m     \u001b[38;5;124m\"\u001b[39m\u001b[38;5;124morigin_date\u001b[39m\u001b[38;5;124m\"\u001b[39m : [date],\n\u001b[0;32m    140\u001b[0m     \u001b[38;5;124m\"\u001b[39m\u001b[38;5;124mdata_block_id\u001b[39m\u001b[38;5;124m\"\u001b[39m : [X_pred\u001b[38;5;241m.\u001b[39mitem()]\n\u001b[0;32m    141\u001b[0m })\n\u001b[1;32m--> 143\u001b[0m result \u001b[38;5;241m=\u001b[39m \u001b[43mpl\u001b[49m\u001b[38;5;241;43m.\u001b[39;49m\u001b[43mconcat\u001b[49m\u001b[43m(\u001b[49m\u001b[43m[\u001b[49m\u001b[43mdf\u001b[49m\u001b[43m,\u001b[49m\u001b[43m \u001b[49m\u001b[43mnew_df\u001b[49m\u001b[43m]\u001b[49m\u001b[43m)\u001b[49m\n\u001b[0;32m    145\u001b[0m \u001b[38;5;28;01mreturn\u001b[39;00m result\n",
      "File \u001b[1;32md:\\CLASES\\4O CURSO\\2O CUATRIMESTRE\\TFG\\TFG-PRODUCCIONELECTRICA\\.VENV\\Lib\\site-packages\\polars\\functions\\eager.py:191\u001b[0m, in \u001b[0;36mconcat\u001b[1;34m(items, how, rechunk, parallel)\u001b[0m\n\u001b[0;32m    189\u001b[0m \u001b[38;5;28;01mif\u001b[39;00m \u001b[38;5;28misinstance\u001b[39m(first, pl\u001b[38;5;241m.\u001b[39mDataFrame):\n\u001b[0;32m    190\u001b[0m     \u001b[38;5;28;01mif\u001b[39;00m how \u001b[38;5;241m==\u001b[39m \u001b[38;5;124m\"\u001b[39m\u001b[38;5;124mvertical\u001b[39m\u001b[38;5;124m\"\u001b[39m:\n\u001b[1;32m--> 191\u001b[0m         out \u001b[38;5;241m=\u001b[39m wrap_df(\u001b[43mplr\u001b[49m\u001b[38;5;241;43m.\u001b[39;49m\u001b[43mconcat_df\u001b[49m\u001b[43m(\u001b[49m\u001b[43melems\u001b[49m\u001b[43m)\u001b[49m)\n\u001b[0;32m    192\u001b[0m     \u001b[38;5;28;01melif\u001b[39;00m how \u001b[38;5;241m==\u001b[39m \u001b[38;5;124m\"\u001b[39m\u001b[38;5;124mvertical_relaxed\u001b[39m\u001b[38;5;124m\"\u001b[39m:\n\u001b[0;32m    193\u001b[0m         out \u001b[38;5;241m=\u001b[39m wrap_ldf(\n\u001b[0;32m    194\u001b[0m             plr\u001b[38;5;241m.\u001b[39mconcat_lf(\n\u001b[0;32m    195\u001b[0m                 [df\u001b[38;5;241m.\u001b[39mlazy() \u001b[38;5;28;01mfor\u001b[39;00m df \u001b[38;5;129;01min\u001b[39;00m elems],\n\u001b[1;32m   (...)\u001b[0m\n\u001b[0;32m    199\u001b[0m             )\n\u001b[0;32m    200\u001b[0m         )\u001b[38;5;241m.\u001b[39mcollect(no_optimization\u001b[38;5;241m=\u001b[39m\u001b[38;5;28;01mTrue\u001b[39;00m)\n",
      "\u001b[1;31mSchemaError\u001b[0m: type Object(\"object\", Some(object-registry)) is incompatible with expected type Datetime(Microseconds, None)"
     ]
    }
   ],
   "source": [
    "dp2 = DataProcessor()\n",
    "\n",
    "ep = dfs[\"electricity_prices\"].with_columns(\n",
    "    pl.col(\"origin_date\").str.strptime(pl.Datetime),\n",
    "    pl.col(\"forecast_date\").str.strptime(pl.Datetime)\n",
    ")\n",
    "\n",
    "day = pl.lit(\"2022-03-26 02:00:00\").str.strptime(pl.Datetime)\n",
    "\n",
    "result = dp2.predict_epmwh(ep, day)\n",
    "result"
   ]
  },
  {
   "cell_type": "code",
   "execution_count": 179,
   "metadata": {},
   "outputs": [
    {
     "data": {
      "text/html": [
       "<div><style>\n",
       ".dataframe > thead > tr,\n",
       ".dataframe > tbody > tr {\n",
       "  text-align: right;\n",
       "  white-space: pre-wrap;\n",
       "}\n",
       "</style>\n",
       "<small>shape: (2, 2)</small><table border=\"1\" class=\"dataframe\"><thead><tr><th>datetime</th><th>count</th></tr><tr><td>datetime[μs]</td><td>u32</td></tr></thead><tbody><tr><td>2022-03-26 02:00:00</td><td>132</td></tr><tr><td>2023-03-25 02:00:00</td><td>130</td></tr></tbody></table></div>"
      ],
      "text/plain": [
       "shape: (2, 2)\n",
       "┌─────────────────────┬───────┐\n",
       "│ datetime            ┆ count │\n",
       "│ ---                 ┆ ---   │\n",
       "│ datetime[μs]        ┆ u32   │\n",
       "╞═════════════════════╪═══════╡\n",
       "│ 2022-03-26 02:00:00 ┆ 132   │\n",
       "│ 2023-03-25 02:00:00 ┆ 130   │\n",
       "└─────────────────────┴───────┘"
      ]
     },
     "execution_count": 179,
     "metadata": {},
     "output_type": "execute_result"
    }
   ],
   "source": [
    "res.filter(pl.col(\"euros_per_mwh_24h_ep\").is_null())[\"datetime\"].value_counts()"
   ]
  },
  {
   "cell_type": "code",
   "execution_count": 201,
   "metadata": {},
   "outputs": [],
   "source": [
    "guess_2am = dfs[\"electricity_prices\"].with_columns(\n",
    "    pl.col(\"origin_date\").str.strptime(pl.Datetime),\n",
    "    pl.col(\"origin_date\").str.strptime(pl.Datetime).dt.date().alias(\"date\"),\n",
    "    pl.col(\"origin_date\").str.strptime(pl.Datetime).dt.hour().alias(\"hour\")\n",
    ")"
   ]
  },
  {
   "cell_type": "code",
   "execution_count": 202,
   "metadata": {},
   "outputs": [
    {
     "data": {
      "text/html": [
       "<div><style>\n",
       ".dataframe > thead > tr,\n",
       ".dataframe > tbody > tr {\n",
       "  text-align: right;\n",
       "  white-space: pre-wrap;\n",
       "}\n",
       "</style>\n",
       "<small>shape: (5, 6)</small><table border=\"1\" class=\"dataframe\"><thead><tr><th>forecast_date</th><th>euros_per_mwh</th><th>origin_date</th><th>data_block_id</th><th>date</th><th>hour</th></tr><tr><td>str</td><td>f64</td><td>datetime[μs]</td><td>i64</td><td>date</td><td>i8</td></tr></thead><tbody><tr><td>&quot;2021-09-01 00:00:00&quot;</td><td>92.51</td><td>2021-08-31 00:00:00</td><td>1</td><td>2021-08-31</td><td>0</td></tr><tr><td>&quot;2021-09-01 01:00:00&quot;</td><td>88.9</td><td>2021-08-31 01:00:00</td><td>1</td><td>2021-08-31</td><td>1</td></tr><tr><td>&quot;2021-09-01 02:00:00&quot;</td><td>87.35</td><td>2021-08-31 02:00:00</td><td>1</td><td>2021-08-31</td><td>2</td></tr><tr><td>&quot;2021-09-01 03:00:00&quot;</td><td>86.88</td><td>2021-08-31 03:00:00</td><td>1</td><td>2021-08-31</td><td>3</td></tr><tr><td>&quot;2021-09-01 04:00:00&quot;</td><td>88.43</td><td>2021-08-31 04:00:00</td><td>1</td><td>2021-08-31</td><td>4</td></tr></tbody></table></div>"
      ],
      "text/plain": [
       "shape: (5, 6)\n",
       "┌─────────────────────┬───────────────┬─────────────────────┬───────────────┬────────────┬──────┐\n",
       "│ forecast_date       ┆ euros_per_mwh ┆ origin_date         ┆ data_block_id ┆ date       ┆ hour │\n",
       "│ ---                 ┆ ---           ┆ ---                 ┆ ---           ┆ ---        ┆ ---  │\n",
       "│ str                 ┆ f64           ┆ datetime[μs]        ┆ i64           ┆ date       ┆ i8   │\n",
       "╞═════════════════════╪═══════════════╪═════════════════════╪═══════════════╪════════════╪══════╡\n",
       "│ 2021-09-01 00:00:00 ┆ 92.51         ┆ 2021-08-31 00:00:00 ┆ 1             ┆ 2021-08-31 ┆ 0    │\n",
       "│ 2021-09-01 01:00:00 ┆ 88.9          ┆ 2021-08-31 01:00:00 ┆ 1             ┆ 2021-08-31 ┆ 1    │\n",
       "│ 2021-09-01 02:00:00 ┆ 87.35         ┆ 2021-08-31 02:00:00 ┆ 1             ┆ 2021-08-31 ┆ 2    │\n",
       "│ 2021-09-01 03:00:00 ┆ 86.88         ┆ 2021-08-31 03:00:00 ┆ 1             ┆ 2021-08-31 ┆ 3    │\n",
       "│ 2021-09-01 04:00:00 ┆ 88.43         ┆ 2021-08-31 04:00:00 ┆ 1             ┆ 2021-08-31 ┆ 4    │\n",
       "└─────────────────────┴───────────────┴─────────────────────┴───────────────┴────────────┴──────┘"
      ]
     },
     "execution_count": 202,
     "metadata": {},
     "output_type": "execute_result"
    }
   ],
   "source": [
    "guess_2am.head()"
   ]
  },
  {
   "cell_type": "code",
   "execution_count": 208,
   "metadata": {},
   "outputs": [
    {
     "data": {
      "text/plain": [
       "2"
      ]
     },
     "execution_count": 208,
     "metadata": {},
     "output_type": "execute_result"
    }
   ],
   "source": [
    "dt_gs = pl.lit(\"2021-08-31 02:00:00\").str.strptime(pl.Datetime)\n",
    "guess_2am.filter(\n",
    "    pl.col(\"origin_date\") == dt_gs + pl.duration(days=1)\n",
    ")[\"data_block_id\"].item()"
   ]
  },
  {
   "cell_type": "code",
   "execution_count": 196,
   "metadata": {},
   "outputs": [
    {
     "data": {
      "text/plain": [
       "(array([5]), array([4]))"
      ]
     },
     "execution_count": 196,
     "metadata": {},
     "output_type": "execute_result"
    }
   ],
   "source": [
    "a = np.array([1, 2, 3, 4]).reshape(-1, 1)\n",
    "a[-1] + 1, a[-1]"
   ]
  },
  {
   "cell_type": "code",
   "execution_count": 174,
   "metadata": {},
   "outputs": [
    {
     "ename": "ColumnNotFoundError",
     "evalue": "unable to find column \"hour\"; valid columns: [\"forecast_date\", \"euros_per_mwh\", \"origin_date\", \"data_block_id\"]\n\nResolved plan until failure:\n\n\t---> FAILED HERE RESOLVING 'filter' <---\nDF [\"forecast_date\", \"euros_per_mwh\", \"origin_date\", \"data_block_id\"]; PROJECT */4 COLUMNS",
     "output_type": "error",
     "traceback": [
      "\u001b[1;31m---------------------------------------------------------------------------\u001b[0m",
      "\u001b[1;31mColumnNotFoundError\u001b[0m                       Traceback (most recent call last)",
      "Cell \u001b[1;32mIn[174], line 1\u001b[0m\n\u001b[1;32m----> 1\u001b[0m \u001b[43mguess_2am\u001b[49m\u001b[38;5;241;43m.\u001b[39;49m\u001b[43mfilter\u001b[49m\u001b[43m(\u001b[49m\n\u001b[0;32m      2\u001b[0m \u001b[43m    \u001b[49m\u001b[43mpl\u001b[49m\u001b[38;5;241;43m.\u001b[39;49m\u001b[43mcol\u001b[49m\u001b[43m(\u001b[49m\u001b[38;5;124;43m\"\u001b[39;49m\u001b[38;5;124;43mhour\u001b[39;49m\u001b[38;5;124;43m\"\u001b[39;49m\u001b[43m)\u001b[49m\u001b[43m \u001b[49m\u001b[38;5;241;43m==\u001b[39;49m\u001b[43m \u001b[49m\u001b[38;5;241;43m2\u001b[39;49m\u001b[43m,\u001b[49m\n\u001b[0;32m      3\u001b[0m \u001b[43m    \u001b[49m\u001b[43mpl\u001b[49m\u001b[38;5;241;43m.\u001b[39;49m\u001b[43mcol\u001b[49m\u001b[43m(\u001b[49m\u001b[38;5;124;43m\"\u001b[39;49m\u001b[38;5;124;43mdate\u001b[39;49m\u001b[38;5;124;43m\"\u001b[39;49m\u001b[43m)\u001b[49m\u001b[43m \u001b[49m\u001b[38;5;241;43m==\u001b[39;49m\u001b[43m \u001b[49m\u001b[43mpl\u001b[49m\u001b[38;5;241;43m.\u001b[39;49m\u001b[43mlit\u001b[49m\u001b[43m(\u001b[49m\u001b[38;5;124;43m\"\u001b[39;49m\u001b[38;5;124;43m2023-03-25\u001b[39;49m\u001b[38;5;124;43m\"\u001b[39;49m\u001b[43m)\u001b[49m\u001b[38;5;241;43m.\u001b[39;49m\u001b[43mstr\u001b[49m\u001b[38;5;241;43m.\u001b[39;49m\u001b[43mstrptime\u001b[49m\u001b[43m(\u001b[49m\u001b[43mpl\u001b[49m\u001b[38;5;241;43m.\u001b[39;49m\u001b[43mDate\u001b[49m\u001b[43m)\u001b[49m\n\u001b[0;32m      4\u001b[0m \u001b[43m)\u001b[49m\n",
      "File \u001b[1;32md:\\CLASES\\4O CURSO\\2O CUATRIMESTRE\\TFG\\TFG-PRODUCCIONELECTRICA\\.VENV\\Lib\\site-packages\\polars\\dataframe\\frame.py:4971\u001b[0m, in \u001b[0;36mDataFrame.filter\u001b[1;34m(self, *predicates, **constraints)\u001b[0m\n\u001b[0;32m   4817\u001b[0m \u001b[38;5;28;01mdef\u001b[39;00m\u001b[38;5;250m \u001b[39m\u001b[38;5;21mfilter\u001b[39m(\n\u001b[0;32m   4818\u001b[0m     \u001b[38;5;28mself\u001b[39m,\n\u001b[0;32m   4819\u001b[0m     \u001b[38;5;241m*\u001b[39mpredicates: (\n\u001b[1;32m   (...)\u001b[0m\n\u001b[0;32m   4826\u001b[0m     \u001b[38;5;241m*\u001b[39m\u001b[38;5;241m*\u001b[39mconstraints: Any,\n\u001b[0;32m   4827\u001b[0m ) \u001b[38;5;241m-\u001b[39m\u001b[38;5;241m>\u001b[39m DataFrame:\n\u001b[0;32m   4828\u001b[0m \u001b[38;5;250m    \u001b[39m\u001b[38;5;124;03m\"\"\"\u001b[39;00m\n\u001b[0;32m   4829\u001b[0m \u001b[38;5;124;03m    Filter the rows in the DataFrame based on one or more predicate expressions.\u001b[39;00m\n\u001b[0;32m   4830\u001b[0m \n\u001b[1;32m   (...)\u001b[0m\n\u001b[0;32m   4969\u001b[0m \n\u001b[0;32m   4970\u001b[0m \u001b[38;5;124;03m    \"\"\"\u001b[39;00m\n\u001b[1;32m-> 4971\u001b[0m     \u001b[38;5;28;01mreturn\u001b[39;00m \u001b[38;5;28;43mself\u001b[39;49m\u001b[38;5;241;43m.\u001b[39;49m\u001b[43mlazy\u001b[49m\u001b[43m(\u001b[49m\u001b[43m)\u001b[49m\u001b[38;5;241;43m.\u001b[39;49m\u001b[43mfilter\u001b[49m\u001b[43m(\u001b[49m\u001b[38;5;241;43m*\u001b[39;49m\u001b[43mpredicates\u001b[49m\u001b[43m,\u001b[49m\u001b[43m \u001b[49m\u001b[38;5;241;43m*\u001b[39;49m\u001b[38;5;241;43m*\u001b[39;49m\u001b[43mconstraints\u001b[49m\u001b[43m)\u001b[49m\u001b[38;5;241;43m.\u001b[39;49m\u001b[43mcollect\u001b[49m\u001b[43m(\u001b[49m\u001b[43m_eager\u001b[49m\u001b[38;5;241;43m=\u001b[39;49m\u001b[38;5;28;43;01mTrue\u001b[39;49;00m\u001b[43m)\u001b[49m\n",
      "File \u001b[1;32md:\\CLASES\\4O CURSO\\2O CUATRIMESTRE\\TFG\\TFG-PRODUCCIONELECTRICA\\.VENV\\Lib\\site-packages\\polars\\lazyframe\\frame.py:2056\u001b[0m, in \u001b[0;36mLazyFrame.collect\u001b[1;34m(self, type_coercion, _type_check, predicate_pushdown, projection_pushdown, simplify_expression, slice_pushdown, comm_subplan_elim, comm_subexpr_elim, cluster_with_columns, collapse_joins, no_optimization, streaming, engine, background, _check_order, _eager, **_kwargs)\u001b[0m\n\u001b[0;32m   2054\u001b[0m \u001b[38;5;66;03m# Only for testing purposes\u001b[39;00m\n\u001b[0;32m   2055\u001b[0m callback \u001b[38;5;241m=\u001b[39m _kwargs\u001b[38;5;241m.\u001b[39mget(\u001b[38;5;124m\"\u001b[39m\u001b[38;5;124mpost_opt_callback\u001b[39m\u001b[38;5;124m\"\u001b[39m, callback)\n\u001b[1;32m-> 2056\u001b[0m \u001b[38;5;28;01mreturn\u001b[39;00m wrap_df(\u001b[43mldf\u001b[49m\u001b[38;5;241;43m.\u001b[39;49m\u001b[43mcollect\u001b[49m\u001b[43m(\u001b[49m\u001b[43mcallback\u001b[49m\u001b[43m)\u001b[49m)\n",
      "\u001b[1;31mColumnNotFoundError\u001b[0m: unable to find column \"hour\"; valid columns: [\"forecast_date\", \"euros_per_mwh\", \"origin_date\", \"data_block_id\"]\n\nResolved plan until failure:\n\n\t---> FAILED HERE RESOLVING 'filter' <---\nDF [\"forecast_date\", \"euros_per_mwh\", \"origin_date\", \"data_block_id\"]; PROJECT */4 COLUMNS"
     ]
    }
   ],
   "source": [
    "guess_2am.filter(\n",
    "    pl.col(\"hour\") == 2,\n",
    "    pl.col(\"date\") == pl.lit(\"2023-03-25\").str.strptime(pl.Date)\n",
    ")"
   ]
  },
  {
   "cell_type": "code",
   "execution_count": 48,
   "metadata": {},
   "outputs": [
    {
     "data": {
      "text/plain": [
       "'for key in dfs.keys():\\n    print(key)\\n    display(dfs[key].describe())\\n'"
      ]
     },
     "execution_count": 48,
     "metadata": {},
     "output_type": "execute_result"
    }
   ],
   "source": [
    "'''for key in dfs.keys():\n",
    "    print(key)\n",
    "    display(dfs[key].describe())\n",
    "'''"
   ]
  },
  {
   "cell_type": "code",
   "execution_count": 49,
   "metadata": {},
   "outputs": [
    {
     "data": {
      "text/plain": [
       "'for key in dfs.keys():\\n    print(f\"{key}:\")\\n    display(dfs[key].head(1))\\n'"
      ]
     },
     "execution_count": 49,
     "metadata": {},
     "output_type": "execute_result"
    }
   ],
   "source": [
    "\n",
    "'''for key in dfs.keys():\n",
    "    print(f\"{key}:\")\n",
    "    display(dfs[key].head(1))\n",
    "'''"
   ]
  }
 ],
 "metadata": {
  "kernelspec": {
   "display_name": ".VENV",
   "language": "python",
   "name": "python3"
  },
  "language_info": {
   "codemirror_mode": {
    "name": "ipython",
    "version": 3
   },
   "file_extension": ".py",
   "mimetype": "text/x-python",
   "name": "python",
   "nbconvert_exporter": "python",
   "pygments_lexer": "ipython3",
   "version": "3.11.1"
  }
 },
 "nbformat": 4,
 "nbformat_minor": 2
}
