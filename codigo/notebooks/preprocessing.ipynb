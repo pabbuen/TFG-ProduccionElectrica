{
 "cells": [
  {
   "cell_type": "markdown",
   "metadata": {},
   "source": [
    "## Carga de datos\n",
    "\n",
    "Antes de poder manipular los diferentes datos, primero es necesário\n",
    "cargarlos en el sistema"
   ]
  },
  {
   "cell_type": "code",
   "execution_count": 11,
   "metadata": {},
   "outputs": [],
   "source": [
    "import polars as pl\n",
    "import numpy as np \n",
    "from pathlib import Path\n",
    "from sklearn.metrics.pairwise import haversine_distances"
   ]
  },
  {
   "cell_type": "code",
   "execution_count": 12,
   "metadata": {},
   "outputs": [],
   "source": [
    "# Directório de archivos\n",
    "data_folder = Path(\"../data\")\n",
    "\n",
    "# Diccionario de archivos\n",
    "files = {\n",
    "    \"train\"              : \"train.csv\",\n",
    "    \"gas_prices\"         : \"gas_prices.csv\",\n",
    "    \"client\"             : \"client.csv\",\n",
    "    \"electricity_prices\" : \"electricity_prices.csv\",\n",
    "    \"forecast_weather\"   : \"forecast_weather.csv\",\n",
    "    \"historical_weather\" : \"historical_weather.csv\",\n",
    "    \"weather_station\"    : \"weather_station_to_county_mapping.csv\"\n",
    "}"
   ]
  },
  {
   "cell_type": "code",
   "execution_count": 13,
   "metadata": {},
   "outputs": [
    {
     "name": "stdout",
     "output_type": "stream",
     "text": [
      "Archivo train cargado con exito.\n",
      "Archivo gas_prices cargado con exito.\n",
      "Archivo client cargado con exito.\n",
      "Archivo electricity_prices cargado con exito.\n",
      "Archivo forecast_weather cargado con exito.\n",
      "Archivo historical_weather cargado con exito.\n",
      "Archivo weather_station cargado con exito.\n"
     ]
    }
   ],
   "source": [
    "# Se crea un diccionario de DataFrames para acceder facilmente a todos\n",
    "# y poder iterar sobre ellos si es necesário\n",
    "dfs: dict[str, pl.DataFrame] = {}\n",
    "\n",
    "for key, filename in files.items():\n",
    "    filepath = data_folder / filename\n",
    "    try:\n",
    "        df = pl.read_csv(filepath)\n",
    "        dfs[key] = df\n",
    "        print(f\"Archivo {key} cargado con exito.\")\n",
    "    except:\n",
    "        print(f\"No pudo cargarse el archivo {key}.\")\n",
    "    "
   ]
  },
  {
   "cell_type": "markdown",
   "metadata": {},
   "source": [
    "## Asignación de longitud/latitud a un condado especifico\n",
    "\n",
    "Con el fin de poder unir los csv de \"train.csv\" y \"forecast_weather.csv\"\n",
    "es necesario poder asignar a cada longitud y latitud, su condado\n",
    "correspondiente.\n",
    "\n",
    "Para ello se utilizará el archivo \"weather_station_to_county_mapping\" con datos que asignan latitudes y longitudes a su correspondiente condado."
   ]
  },
  {
   "cell_type": "markdown",
   "metadata": {},
   "source": [
    "### Visualización de los datos"
   ]
  },
  {
   "cell_type": "code",
   "execution_count": 14,
   "metadata": {},
   "outputs": [],
   "source": [
    "class DataProcessor:\n",
    "    def __init__(self):\n",
    "        self.gas_join = [\"date\"]\n",
    "        self.ep_join = [\"datetime\"]\n",
    "        self.hw_join = [ \"county\", \"datetime\"]\n",
    "        self.client_join = [\"product_type\", \"county\", \"is_business\", \"date\"]\n",
    "        self.lat_lon = [\"latitude\", \"longitude\"]\n",
    "\n",
    "    def add_counties(self, df: pl.DataFrame, stations: pl.DataFrame):\n",
    "        # Se seleccionan los datos requeridos\n",
    "\n",
    "        coords = df.select(\n",
    "            pl.col(\"latitude\", \"longitude\")\n",
    "        ).unique()\n",
    "\n",
    "        coords = coords.with_columns(\n",
    "            pl.col(\"latitude\").radians().alias(\"lat_rad\"),\n",
    "            pl.col(\"longitude\").radians().alias(\"lon_rad\")\n",
    "        )\n",
    "\n",
    "        wthr_stations = stations.drop_nulls()\n",
    "        wthr_stations = wthr_stations[\n",
    "            \"latitude\", \"longitude\", \"county\"\n",
    "        ].with_columns(\n",
    "                pl.col(\"latitude\", \"longitude\").radians()\n",
    "        ).to_numpy()\n",
    "\n",
    "        coords_arr = coords.to_numpy()\n",
    "\n",
    "        counties = np.array([], np.int32)\n",
    "        # Se itera para obtener la menor distancia entre puntos \n",
    "        # y asignar el condado\n",
    "        for coord in coords_arr[:, 2:4]:\n",
    "            # Cada coordenada tiene una dist minima \n",
    "            # y un condado asignado\n",
    "            min_dist = float(\"inf\")\n",
    "            cnty = -1\n",
    "\n",
    "            station_zip = zip(wthr_stations[:, :2], wthr_stations[:, 2])\n",
    "\n",
    "            for lat_lon, county in station_zip:\n",
    "                dist = haversine_distances([coord, lat_lon])[0, 1]\n",
    "\n",
    "                if dist < min_dist:\n",
    "                    cnty = county\n",
    "                    min_dist = dist\n",
    "\n",
    "            # Se añade el condado a la lista\n",
    "            counties = np.append(\n",
    "                counties,\n",
    "                int(cnty)\n",
    "            )\n",
    "        \n",
    "        # Se asigna los condados a cada coordenada y se devuelve el resultado\n",
    "        result = coords.with_columns(\n",
    "            pl.lit(counties).alias(\"county\")\n",
    "        )\n",
    "\n",
    "        result = df.join(\n",
    "            result.select([\"latitude\", \"longitude\", \"county\"]),\n",
    "            on=[\"latitude\", \"longitude\"],\n",
    "            how=\"left\"\n",
    "        )\n",
    "\n",
    "        return result\n",
    "\n",
    "    def change_names(self, df: pl.DataFrame, suffix, no_change):\n",
    "        renamed_df = df.rename(\n",
    "            lambda col: col + suffix if col not in no_change else col\n",
    "        )\n",
    "        return renamed_df\n",
    "    \n",
    "    def to_datetime(self, df: pl.DataFrame, col: str):\n",
    "        # Cast str to Datetime\n",
    "        result = df.with_columns(\n",
    "            pl.col(col).str.strptime(pl.Datetime)\n",
    "        )\n",
    "        return result\n",
    "\n",
    "    def get_gas_features(self, gas_df: pl.DataFrame):\n",
    "        df = gas_df.with_columns(\n",
    "            ((pl.col(\"lowest_price_per_mwh\") + \n",
    "              pl.col(\"highest_price_per_mwh\")) / 2).alias(\"mean_price_per_mwh_24h\")\n",
    "        )\n",
    "\n",
    "        df = df.with_columns(pl.col(\"origin_date\").str.strptime(pl.Date))\n",
    "        df = df.rename({\"origin_date\":\"date\"})\n",
    "\n",
    "        return self.change_names(df, \"_gas\", self.gas_join)\n",
    "    \n",
    "    def get_client_features(self, client_df: pl.DataFrame):\n",
    "        df = client_df.with_columns(\n",
    "            pl.col(\"date\").str.strptime(pl.Date)\n",
    "        )\n",
    "        return self.change_names(df, \"_client\", self.client_join)\n",
    "    \n",
    "    def get_hw_means(self, data: pl.DataFrame) -> pl.DataFrame:\n",
    "        data = data.group_by(\n",
    "        [\"datetime\", \"county\"], maintain_order=True\n",
    "        ).agg(pl.all().mean())\n",
    "        return data\n",
    "\n",
    "    def get_hist_weather_features(self, hw_df: pl.DataFrame, ws_df: pl.DataFrame):\n",
    "        df = self.to_datetime(hw_df, \"datetime\")\n",
    "\n",
    "        df = self.add_counties(df, ws_df)\n",
    "        df = self.get_hw_means(df)\n",
    "        df = self.change_names(df, \"_hw\", self.hw_join)\n",
    "\n",
    "        return df\n",
    "    \n",
    "    def get_electricity_features(self, ep_df: pl.DataFrame):\n",
    "        # str to datetime\n",
    "        df = self.to_datetime(ep_df, \"origin_date\")\n",
    "\n",
    "        df = df.rename({\"origin_date\":\"datetime\"})\n",
    "        df = df.rename({\"euros_per_mwh\":\"euros_per_mwh_24h\"})\n",
    "\n",
    "        # Change names\n",
    "        df = self.change_names(df, \"_ep\", self.ep_join)\n",
    "\n",
    "        return df\n",
    "    \n",
    "    def get_data_features(self, data: pl.DataFrame):\n",
    "        \n",
    "        date = \"datetime\"\n",
    "        # Cast to Datetime\n",
    "        df = self.to_datetime(data, \"datetime\")\n",
    "\n",
    "        df = df.with_columns([\n",
    "            # Date\n",
    "            pl.col(date).dt.truncate(\"1d\").cast(pl.Date).alias(\"date\"),\n",
    "\n",
    "            # Year\n",
    "            pl.col(date).dt.year().alias(\"year\"),\n",
    "\n",
    "            # Quarter\n",
    "            pl.col(date).dt.quarter().alias(\"quarter\"),\n",
    "\n",
    "            # Month\n",
    "            pl.col(date).dt.month().alias(\"month\"),\n",
    "\n",
    "            # Week\n",
    "            pl.col(date).dt.week().alias(\"week\"),\n",
    "\n",
    "            # Hour\n",
    "            pl.col(date).dt.hour().alias(\"hour\"),\n",
    "\n",
    "            # Day of year\n",
    "            pl.col(date).dt.ordinal_day().alias(\"day_of_year\"),\n",
    "\n",
    "            # Day of month\n",
    "            pl.col(date).dt.day().alias(\"day_of_month\"),\n",
    "\n",
    "            # Day of week\n",
    "            pl.col(date).dt.weekday().alias(\"day_of_week\")\n",
    "        ])\n",
    "\n",
    "        return df\n",
    "    \n",
    "    def __call__(self, df_dict: dict):\n",
    "\n",
    "        # Features\n",
    "        data = self.get_data_features(df_dict[\"train\"])\n",
    "        gas_p = self.get_gas_features(df_dict[\"gas_prices\"])\n",
    "        el_p = self.get_electricity_features(df_dict[\"electricity_prices\"])\n",
    "        client = self.get_client_features(df_dict[\"client\"])\n",
    "        hist_w = self.get_hist_weather_features(\n",
    "            df_dict[\"historical_weather\"],\n",
    "            df_dict[\"weather_station\"]\n",
    "        )\n",
    "\n",
    "        # Joins\n",
    "        final_data = data.join(client, on=self.client_join, how=\"left\")\n",
    "        final_data = final_data.join(gas_p, on=self.gas_join, how=\"left\")\n",
    "        final_data = final_data.join(el_p, on=self.ep_join, how=\"left\")\n",
    "        final_data = final_data.join(hist_w, on=self.hw_join, how=\"left\")\n",
    "\n",
    "        return final_data"
   ]
  },
  {
   "cell_type": "code",
   "execution_count": 15,
   "metadata": {},
   "outputs": [],
   "source": [
    "dp = DataProcessor()\n",
    "res = dp(dfs)"
   ]
  },
  {
   "cell_type": "code",
   "execution_count": 16,
   "metadata": {},
   "outputs": [
    {
     "data": {
      "text/html": [
       "<div><style>\n",
       ".dataframe > thead > tr,\n",
       ".dataframe > tbody > tr {\n",
       "  text-align: right;\n",
       "  white-space: pre-wrap;\n",
       "}\n",
       "</style>\n",
       "<small>shape: (2_018_352, 46)</small><table border=\"1\" class=\"dataframe\"><thead><tr><th>county</th><th>is_business</th><th>product_type</th><th>target</th><th>is_consumption</th><th>datetime</th><th>data_block_id</th><th>row_id</th><th>prediction_unit_id</th><th>date</th><th>year</th><th>quarter</th><th>month</th><th>week</th><th>hour</th><th>day_of_year</th><th>day_of_month</th><th>day_of_week</th><th>eic_count_client</th><th>installed_capacity_client</th><th>data_block_id_client</th><th>forecast_date_gas</th><th>lowest_price_per_mwh_gas</th><th>highest_price_per_mwh_gas</th><th>data_block_id_gas</th><th>mean_price_per_mwh_24h_gas</th><th>forecast_date_ep</th><th>euros_per_mwh_24h_ep</th><th>data_block_id_ep</th><th>temperature_hw</th><th>dewpoint_hw</th><th>rain_hw</th><th>snowfall_hw</th><th>surface_pressure_hw</th><th>cloudcover_total_hw</th><th>cloudcover_low_hw</th><th>cloudcover_mid_hw</th><th>cloudcover_high_hw</th><th>windspeed_10m_hw</th><th>winddirection_10m_hw</th><th>shortwave_radiation_hw</th><th>direct_solar_radiation_hw</th><th>diffuse_radiation_hw</th><th>latitude_hw</th><th>longitude_hw</th><th>data_block_id_hw</th></tr><tr><td>i64</td><td>i64</td><td>i64</td><td>f64</td><td>i64</td><td>datetime[μs]</td><td>i64</td><td>i64</td><td>i64</td><td>date</td><td>i32</td><td>i8</td><td>i8</td><td>i8</td><td>i8</td><td>i16</td><td>i8</td><td>i8</td><td>i64</td><td>f64</td><td>i64</td><td>str</td><td>f64</td><td>f64</td><td>i64</td><td>f64</td><td>str</td><td>f64</td><td>i64</td><td>f64</td><td>f64</td><td>f64</td><td>f64</td><td>f64</td><td>f64</td><td>f64</td><td>f64</td><td>f64</td><td>f64</td><td>f64</td><td>f64</td><td>f64</td><td>f64</td><td>f64</td><td>f64</td><td>f64</td></tr></thead><tbody><tr><td>0</td><td>0</td><td>1</td><td>0.713</td><td>0</td><td>2021-09-01 00:00:00</td><td>0</td><td>0</td><td>0</td><td>2021-09-01</td><td>2021</td><td>3</td><td>9</td><td>35</td><td>0</td><td>244</td><td>1</td><td>3</td><td>108</td><td>952.89</td><td>2</td><td>&quot;2021-09-02&quot;</td><td>45.62</td><td>46.29</td><td>2</td><td>45.955</td><td>&quot;2021-09-02 00:00:00&quot;</td><td>96.99</td><td>2</td><td>13.815385</td><td>10.6</td><td>0.0</td><td>0.0</td><td>1011.569231</td><td>42.461538</td><td>44.153846</td><td>2.923077</td><td>3.384615</td><td>5.619658</td><td>341.384615</td><td>0.0</td><td>0.0</td><td>0.0</td><td>59.492308</td><td>24.584615</td><td>1.0</td></tr><tr><td>0</td><td>0</td><td>1</td><td>96.59</td><td>1</td><td>2021-09-01 00:00:00</td><td>0</td><td>1</td><td>0</td><td>2021-09-01</td><td>2021</td><td>3</td><td>9</td><td>35</td><td>0</td><td>244</td><td>1</td><td>3</td><td>108</td><td>952.89</td><td>2</td><td>&quot;2021-09-02&quot;</td><td>45.62</td><td>46.29</td><td>2</td><td>45.955</td><td>&quot;2021-09-02 00:00:00&quot;</td><td>96.99</td><td>2</td><td>13.815385</td><td>10.6</td><td>0.0</td><td>0.0</td><td>1011.569231</td><td>42.461538</td><td>44.153846</td><td>2.923077</td><td>3.384615</td><td>5.619658</td><td>341.384615</td><td>0.0</td><td>0.0</td><td>0.0</td><td>59.492308</td><td>24.584615</td><td>1.0</td></tr><tr><td>0</td><td>0</td><td>2</td><td>0.0</td><td>0</td><td>2021-09-01 00:00:00</td><td>0</td><td>2</td><td>1</td><td>2021-09-01</td><td>2021</td><td>3</td><td>9</td><td>35</td><td>0</td><td>244</td><td>1</td><td>3</td><td>17</td><td>166.4</td><td>2</td><td>&quot;2021-09-02&quot;</td><td>45.62</td><td>46.29</td><td>2</td><td>45.955</td><td>&quot;2021-09-02 00:00:00&quot;</td><td>96.99</td><td>2</td><td>13.815385</td><td>10.6</td><td>0.0</td><td>0.0</td><td>1011.569231</td><td>42.461538</td><td>44.153846</td><td>2.923077</td><td>3.384615</td><td>5.619658</td><td>341.384615</td><td>0.0</td><td>0.0</td><td>0.0</td><td>59.492308</td><td>24.584615</td><td>1.0</td></tr><tr><td>0</td><td>0</td><td>2</td><td>17.314</td><td>1</td><td>2021-09-01 00:00:00</td><td>0</td><td>3</td><td>1</td><td>2021-09-01</td><td>2021</td><td>3</td><td>9</td><td>35</td><td>0</td><td>244</td><td>1</td><td>3</td><td>17</td><td>166.4</td><td>2</td><td>&quot;2021-09-02&quot;</td><td>45.62</td><td>46.29</td><td>2</td><td>45.955</td><td>&quot;2021-09-02 00:00:00&quot;</td><td>96.99</td><td>2</td><td>13.815385</td><td>10.6</td><td>0.0</td><td>0.0</td><td>1011.569231</td><td>42.461538</td><td>44.153846</td><td>2.923077</td><td>3.384615</td><td>5.619658</td><td>341.384615</td><td>0.0</td><td>0.0</td><td>0.0</td><td>59.492308</td><td>24.584615</td><td>1.0</td></tr><tr><td>0</td><td>0</td><td>3</td><td>2.904</td><td>0</td><td>2021-09-01 00:00:00</td><td>0</td><td>4</td><td>2</td><td>2021-09-01</td><td>2021</td><td>3</td><td>9</td><td>35</td><td>0</td><td>244</td><td>1</td><td>3</td><td>688</td><td>7207.88</td><td>2</td><td>&quot;2021-09-02&quot;</td><td>45.62</td><td>46.29</td><td>2</td><td>45.955</td><td>&quot;2021-09-02 00:00:00&quot;</td><td>96.99</td><td>2</td><td>13.815385</td><td>10.6</td><td>0.0</td><td>0.0</td><td>1011.569231</td><td>42.461538</td><td>44.153846</td><td>2.923077</td><td>3.384615</td><td>5.619658</td><td>341.384615</td><td>0.0</td><td>0.0</td><td>0.0</td><td>59.492308</td><td>24.584615</td><td>1.0</td></tr><tr><td>&hellip;</td><td>&hellip;</td><td>&hellip;</td><td>&hellip;</td><td>&hellip;</td><td>&hellip;</td><td>&hellip;</td><td>&hellip;</td><td>&hellip;</td><td>&hellip;</td><td>&hellip;</td><td>&hellip;</td><td>&hellip;</td><td>&hellip;</td><td>&hellip;</td><td>&hellip;</td><td>&hellip;</td><td>&hellip;</td><td>&hellip;</td><td>&hellip;</td><td>&hellip;</td><td>&hellip;</td><td>&hellip;</td><td>&hellip;</td><td>&hellip;</td><td>&hellip;</td><td>&hellip;</td><td>&hellip;</td><td>&hellip;</td><td>&hellip;</td><td>&hellip;</td><td>&hellip;</td><td>&hellip;</td><td>&hellip;</td><td>&hellip;</td><td>&hellip;</td><td>&hellip;</td><td>&hellip;</td><td>&hellip;</td><td>&hellip;</td><td>&hellip;</td><td>&hellip;</td><td>&hellip;</td><td>&hellip;</td><td>&hellip;</td><td>&hellip;</td></tr><tr><td>15</td><td>1</td><td>0</td><td>197.233</td><td>1</td><td>2023-05-31 23:00:00</td><td>637</td><td>2018347</td><td>64</td><td>2023-05-31</td><td>2023</td><td>2</td><td>5</td><td>22</td><td>23</td><td>151</td><td>31</td><td>3</td><td>null</td><td>null</td><td>null</td><td>null</td><td>null</td><td>null</td><td>null</td><td>null</td><td>null</td><td>null</td><td>null</td><td>null</td><td>null</td><td>null</td><td>null</td><td>null</td><td>null</td><td>null</td><td>null</td><td>null</td><td>null</td><td>null</td><td>null</td><td>null</td><td>null</td><td>null</td><td>null</td><td>null</td></tr><tr><td>15</td><td>1</td><td>1</td><td>0.0</td><td>0</td><td>2023-05-31 23:00:00</td><td>637</td><td>2018348</td><td>59</td><td>2023-05-31</td><td>2023</td><td>2</td><td>5</td><td>22</td><td>23</td><td>151</td><td>31</td><td>3</td><td>null</td><td>null</td><td>null</td><td>null</td><td>null</td><td>null</td><td>null</td><td>null</td><td>null</td><td>null</td><td>null</td><td>null</td><td>null</td><td>null</td><td>null</td><td>null</td><td>null</td><td>null</td><td>null</td><td>null</td><td>null</td><td>null</td><td>null</td><td>null</td><td>null</td><td>null</td><td>null</td><td>null</td></tr><tr><td>15</td><td>1</td><td>1</td><td>28.404</td><td>1</td><td>2023-05-31 23:00:00</td><td>637</td><td>2018349</td><td>59</td><td>2023-05-31</td><td>2023</td><td>2</td><td>5</td><td>22</td><td>23</td><td>151</td><td>31</td><td>3</td><td>null</td><td>null</td><td>null</td><td>null</td><td>null</td><td>null</td><td>null</td><td>null</td><td>null</td><td>null</td><td>null</td><td>null</td><td>null</td><td>null</td><td>null</td><td>null</td><td>null</td><td>null</td><td>null</td><td>null</td><td>null</td><td>null</td><td>null</td><td>null</td><td>null</td><td>null</td><td>null</td><td>null</td></tr><tr><td>15</td><td>1</td><td>3</td><td>0.0</td><td>0</td><td>2023-05-31 23:00:00</td><td>637</td><td>2018350</td><td>60</td><td>2023-05-31</td><td>2023</td><td>2</td><td>5</td><td>22</td><td>23</td><td>151</td><td>31</td><td>3</td><td>null</td><td>null</td><td>null</td><td>null</td><td>null</td><td>null</td><td>null</td><td>null</td><td>null</td><td>null</td><td>null</td><td>null</td><td>null</td><td>null</td><td>null</td><td>null</td><td>null</td><td>null</td><td>null</td><td>null</td><td>null</td><td>null</td><td>null</td><td>null</td><td>null</td><td>null</td><td>null</td><td>null</td></tr><tr><td>15</td><td>1</td><td>3</td><td>196.24</td><td>1</td><td>2023-05-31 23:00:00</td><td>637</td><td>2018351</td><td>60</td><td>2023-05-31</td><td>2023</td><td>2</td><td>5</td><td>22</td><td>23</td><td>151</td><td>31</td><td>3</td><td>null</td><td>null</td><td>null</td><td>null</td><td>null</td><td>null</td><td>null</td><td>null</td><td>null</td><td>null</td><td>null</td><td>null</td><td>null</td><td>null</td><td>null</td><td>null</td><td>null</td><td>null</td><td>null</td><td>null</td><td>null</td><td>null</td><td>null</td><td>null</td><td>null</td><td>null</td><td>null</td><td>null</td></tr></tbody></table></div>"
      ],
      "text/plain": [
       "shape: (2_018_352, 46)\n",
       "┌────────┬────────────┬────────────┬─────────┬───┬────────────┬────────────┬───────────┬───────────┐\n",
       "│ county ┆ is_busines ┆ product_ty ┆ target  ┆ … ┆ diffuse_ra ┆ latitude_h ┆ longitude ┆ data_bloc │\n",
       "│ ---    ┆ s          ┆ pe         ┆ ---     ┆   ┆ diation_hw ┆ w          ┆ _hw       ┆ k_id_hw   │\n",
       "│ i64    ┆ ---        ┆ ---        ┆ f64     ┆   ┆ ---        ┆ ---        ┆ ---       ┆ ---       │\n",
       "│        ┆ i64        ┆ i64        ┆         ┆   ┆ f64        ┆ f64        ┆ f64       ┆ f64       │\n",
       "╞════════╪════════════╪════════════╪═════════╪═══╪════════════╪════════════╪═══════════╪═══════════╡\n",
       "│ 0      ┆ 0          ┆ 1          ┆ 0.713   ┆ … ┆ 0.0        ┆ 59.492308  ┆ 24.584615 ┆ 1.0       │\n",
       "│ 0      ┆ 0          ┆ 1          ┆ 96.59   ┆ … ┆ 0.0        ┆ 59.492308  ┆ 24.584615 ┆ 1.0       │\n",
       "│ 0      ┆ 0          ┆ 2          ┆ 0.0     ┆ … ┆ 0.0        ┆ 59.492308  ┆ 24.584615 ┆ 1.0       │\n",
       "│ 0      ┆ 0          ┆ 2          ┆ 17.314  ┆ … ┆ 0.0        ┆ 59.492308  ┆ 24.584615 ┆ 1.0       │\n",
       "│ 0      ┆ 0          ┆ 3          ┆ 2.904   ┆ … ┆ 0.0        ┆ 59.492308  ┆ 24.584615 ┆ 1.0       │\n",
       "│ …      ┆ …          ┆ …          ┆ …       ┆ … ┆ …          ┆ …          ┆ …         ┆ …         │\n",
       "│ 15     ┆ 1          ┆ 0          ┆ 197.233 ┆ … ┆ null       ┆ null       ┆ null      ┆ null      │\n",
       "│ 15     ┆ 1          ┆ 1          ┆ 0.0     ┆ … ┆ null       ┆ null       ┆ null      ┆ null      │\n",
       "│ 15     ┆ 1          ┆ 1          ┆ 28.404  ┆ … ┆ null       ┆ null       ┆ null      ┆ null      │\n",
       "│ 15     ┆ 1          ┆ 3          ┆ 0.0     ┆ … ┆ null       ┆ null       ┆ null      ┆ null      │\n",
       "│ 15     ┆ 1          ┆ 3          ┆ 196.24  ┆ … ┆ null       ┆ null       ┆ null      ┆ null      │\n",
       "└────────┴────────────┴────────────┴─────────┴───┴────────────┴────────────┴───────────┴───────────┘"
      ]
     },
     "execution_count": 16,
     "metadata": {},
     "output_type": "execute_result"
    }
   ],
   "source": [
    "res"
   ]
  },
  {
   "cell_type": "code",
   "execution_count": 17,
   "metadata": {},
   "outputs": [
    {
     "data": {
      "text/html": [
       "<div><style>\n",
       ".dataframe > thead > tr,\n",
       ".dataframe > tbody > tr {\n",
       "  text-align: right;\n",
       "  white-space: pre-wrap;\n",
       "}\n",
       "</style>\n",
       "<small>shape: (9, 47)</small><table border=\"1\" class=\"dataframe\"><thead><tr><th>statistic</th><th>county</th><th>is_business</th><th>product_type</th><th>target</th><th>is_consumption</th><th>datetime</th><th>data_block_id</th><th>row_id</th><th>prediction_unit_id</th><th>date</th><th>year</th><th>quarter</th><th>month</th><th>week</th><th>hour</th><th>day_of_year</th><th>day_of_month</th><th>day_of_week</th><th>eic_count_client</th><th>installed_capacity_client</th><th>data_block_id_client</th><th>forecast_date_gas</th><th>lowest_price_per_mwh_gas</th><th>highest_price_per_mwh_gas</th><th>data_block_id_gas</th><th>mean_price_per_mwh_24h_gas</th><th>forecast_date_ep</th><th>euros_per_mwh_24h_ep</th><th>data_block_id_ep</th><th>temperature_hw</th><th>dewpoint_hw</th><th>rain_hw</th><th>snowfall_hw</th><th>surface_pressure_hw</th><th>cloudcover_total_hw</th><th>cloudcover_low_hw</th><th>cloudcover_mid_hw</th><th>cloudcover_high_hw</th><th>windspeed_10m_hw</th><th>winddirection_10m_hw</th><th>shortwave_radiation_hw</th><th>direct_solar_radiation_hw</th><th>diffuse_radiation_hw</th><th>latitude_hw</th><th>longitude_hw</th><th>data_block_id_hw</th></tr><tr><td>str</td><td>f64</td><td>f64</td><td>f64</td><td>f64</td><td>f64</td><td>str</td><td>f64</td><td>f64</td><td>f64</td><td>str</td><td>f64</td><td>f64</td><td>f64</td><td>f64</td><td>f64</td><td>f64</td><td>f64</td><td>f64</td><td>f64</td><td>f64</td><td>f64</td><td>str</td><td>f64</td><td>f64</td><td>f64</td><td>f64</td><td>str</td><td>f64</td><td>f64</td><td>f64</td><td>f64</td><td>f64</td><td>f64</td><td>f64</td><td>f64</td><td>f64</td><td>f64</td><td>f64</td><td>f64</td><td>f64</td><td>f64</td><td>f64</td><td>f64</td><td>f64</td><td>f64</td><td>f64</td></tr></thead><tbody><tr><td>&quot;count&quot;</td><td>2.018352e6</td><td>2.018352e6</td><td>2.018352e6</td><td>2.017824e6</td><td>2.018352e6</td><td>&quot;2018352&quot;</td><td>2.018352e6</td><td>2.018352e6</td><td>2.018352e6</td><td>&quot;2018352&quot;</td><td>2.018352e6</td><td>2.018352e6</td><td>2.018352e6</td><td>2.018352e6</td><td>2.018352e6</td><td>2.018352e6</td><td>2.018352e6</td><td>2.018352e6</td><td>2.012112e6</td><td>2.012112e6</td><td>2.012112e6</td><td>&quot;2012112&quot;</td><td>2.012112e6</td><td>2.012112e6</td><td>2.012112e6</td><td>2.012112e6</td><td>&quot;2011846&quot;</td><td>2.011846e6</td><td>2.011846e6</td><td>1.982992e6</td><td>1.982992e6</td><td>1.982992e6</td><td>1.982992e6</td><td>1.982992e6</td><td>1.982992e6</td><td>1.982992e6</td><td>1.982992e6</td><td>1.982992e6</td><td>1.982992e6</td><td>1.982992e6</td><td>1.982992e6</td><td>1.982992e6</td><td>1.982992e6</td><td>1.982992e6</td><td>1.982992e6</td><td>1.982992e6</td></tr><tr><td>&quot;null_count&quot;</td><td>0.0</td><td>0.0</td><td>0.0</td><td>528.0</td><td>0.0</td><td>&quot;0&quot;</td><td>0.0</td><td>0.0</td><td>0.0</td><td>&quot;0&quot;</td><td>0.0</td><td>0.0</td><td>0.0</td><td>0.0</td><td>0.0</td><td>0.0</td><td>0.0</td><td>0.0</td><td>6240.0</td><td>6240.0</td><td>6240.0</td><td>&quot;6240&quot;</td><td>6240.0</td><td>6240.0</td><td>6240.0</td><td>6240.0</td><td>&quot;6506&quot;</td><td>6506.0</td><td>6506.0</td><td>35360.0</td><td>35360.0</td><td>35360.0</td><td>35360.0</td><td>35360.0</td><td>35360.0</td><td>35360.0</td><td>35360.0</td><td>35360.0</td><td>35360.0</td><td>35360.0</td><td>35360.0</td><td>35360.0</td><td>35360.0</td><td>35360.0</td><td>35360.0</td><td>35360.0</td></tr><tr><td>&quot;mean&quot;</td><td>7.297034</td><td>0.536826</td><td>1.898927</td><td>274.85556</td><td>0.5</td><td>&quot;2022-07-20 08:29:25.326167&quot;</td><td>321.874599</td><td>1009175.5</td><td>33.045376</td><td>&quot;2022-07-19 20:59:25.326000&quot;</td><td>2022.056838</td><td>2.478418</td><td>6.430617</td><td>26.127518</td><td>11.5</td><td>180.128564</td><td>15.701562</td><td>3.998121</td><td>73.345118</td><td>1450.771451</td><td>322.898876</td><td>null</td><td>95.526009</td><td>108.385728</td><td>322.898876</td><td>101.955869</td><td>null</td><td>157.508343</td><td>322.890185</td><td>5.446717</td><td>1.918643</td><td>0.048332</td><td>0.016752</td><td>1007.951681</td><td>62.020768</td><td>47.921299</td><td>35.125868</td><td>36.109873</td><td>4.467575</td><td>198.422204</td><td>105.456573</td><td>62.931326</td><td>42.525247</td><td>58.635229</td><td>25.548547</td><td>322.716218</td></tr><tr><td>&quot;std&quot;</td><td>4.78099</td><td>0.498642</td><td>1.081766</td><td>909.502378</td><td>0.5</td><td>null</td><td>182.634314</td><td>582648.179597</td><td>19.590594</td><td>null</td><td>0.645235</td><td>1.178726</td><td>3.664891</td><td>15.934816</td><td>6.922188</td><td>111.951252</td><td>8.78617</td><td>1.998947</td><td>144.062707</td><td>2422.20483</td><td>182.073597</td><td>null</td><td>47.569832</td><td>54.742018</td><td>182.073597</td><td>50.914938</td><td>null</td><td>121.416689</td><td>182.072039</td><td>8.169059</td><td>7.238676</td><td>0.17523</td><td>0.069741</td><td>12.502175</td><td>35.938704</td><td>38.986774</td><td>36.442652</td><td>39.263737</td><td>2.045175</td><td>82.540755</td><td>175.167455</td><td>127.936947</td><td>61.521575</td><td>0.58859</td><td>1.63161</td><td>182.178293</td></tr><tr><td>&quot;min&quot;</td><td>0.0</td><td>0.0</td><td>0.0</td><td>0.0</td><td>0.0</td><td>&quot;2021-09-01 00:00:00&quot;</td><td>0.0</td><td>0.0</td><td>0.0</td><td>&quot;2021-09-01&quot;</td><td>2021.0</td><td>1.0</td><td>1.0</td><td>1.0</td><td>0.0</td><td>1.0</td><td>1.0</td><td>1.0</td><td>5.0</td><td>5.5</td><td>2.0</td><td>&quot;2021-09-02&quot;</td><td>28.1</td><td>34.0</td><td>2.0</td><td>31.1</td><td>&quot;2021-09-02 00:00:00&quot;</td><td>-10.06</td><td>2.0</td><td>-20.533333</td><td>-23.366667</td><td>0.0</td><td>0.0</td><td>952.9</td><td>0.0</td><td>0.0</td><td>0.0</td><td>0.0</td><td>0.166667</td><td>1.0</td><td>0.0</td><td>0.0</td><td>0.0</td><td>57.78</td><td>22.144444</td><td>1.0</td></tr><tr><td>&quot;25%&quot;</td><td>3.0</td><td>0.0</td><td>1.0</td><td>0.378</td><td>0.0</td><td>&quot;2022-02-14 04:00:00&quot;</td><td>166.0</td><td>504588.0</td><td>16.0</td><td>&quot;2022-02-14&quot;</td><td>2022.0</td><td>1.0</td><td>3.0</td><td>12.0</td><td>6.0</td><td>80.0</td><td>8.0</td><td>2.0</td><td>13.0</td><td>321.9</td><td>167.0</td><td>null</td><td>60.0</td><td>67.67</td><td>167.0</td><td>65.0</td><td>null</td><td>85.29</td><td>167.0</td><td>-0.47</td><td>-3.016667</td><td>0.0</td><td>0.0</td><td>1000.75</td><td>28.153846</td><td>6.333333</td><td>0.75</td><td>0.0</td><td>2.907407</td><td>144.0</td><td>0.0</td><td>0.0</td><td>0.0</td><td>58.094118</td><td>24.533333</td><td>167.0</td></tr><tr><td>&quot;50%&quot;</td><td>7.0</td><td>1.0</td><td>2.0</td><td>31.133</td><td>1.0</td><td>&quot;2022-07-21 10:00:00&quot;</td><td>323.0</td><td>1.009176e6</td><td>33.0</td><td>&quot;2022-07-21&quot;</td><td>2022.0</td><td>2.0</td><td>6.0</td><td>24.0</td><td>12.0</td><td>166.0</td><td>16.0</td><td>4.0</td><td>32.0</td><td>645.2</td><td>324.0</td><td>null</td><td>86.0</td><td>94.0</td><td>324.0</td><td>88.895</td><td>null</td><td>128.79</td><td>324.0</td><td>4.975</td><td>1.44</td><td>0.0</td><td>0.0</td><td>1009.023077</td><td>73.166667</td><td>44.692308</td><td>21.0</td><td>15.909091</td><td>4.240741</td><td>206.833333</td><td>6.153846</td><td>0.0</td><td>4.4</td><td>58.725</td><td>25.533333</td><td>324.0</td></tr><tr><td>&quot;75%&quot;</td><td>11.0</td><td>1.0</td><td>3.0</td><td>180.206</td><td>1.0</td><td>&quot;2022-12-24 14:00:00&quot;</td><td>479.0</td><td>1.513763e6</td><td>50.0</td><td>&quot;2022-12-24&quot;</td><td>2022.0</td><td>4.0</td><td>10.0</td><td>41.0</td><td>17.0</td><td>285.0</td><td>23.0</td><td>6.0</td><td>70.0</td><td>1567.15</td><td>480.0</td><td>null</td><td>109.74</td><td>133.0</td><td>480.0</td><td>120.91</td><td>null</td><td>199.99</td><td>480.0</td><td>10.966667</td><td>6.8</td><td>0.007692</td><td>0.0</td><td>1016.217647</td><td>97.666667</td><td>90.333333</td><td>68.5</td><td>78.833333</td><td>5.733333</td><td>257.363636</td><td>139.0</td><td>47.833333</td><td>74.733333</td><td>59.233333</td><td>27.116667</td><td>480.0</td></tr><tr><td>&quot;max&quot;</td><td>15.0</td><td>1.0</td><td>3.0</td><td>15480.274</td><td>1.0</td><td>&quot;2023-05-31 23:00:00&quot;</td><td>637.0</td><td>2.018351e6</td><td>68.0</td><td>&quot;2023-05-31&quot;</td><td>2023.0</td><td>4.0</td><td>12.0</td><td>52.0</td><td>23.0</td><td>365.0</td><td>31.0</td><td>7.0</td><td>1517.0</td><td>19314.31</td><td>637.0</td><td>&quot;2023-05-30&quot;</td><td>250.0</td><td>305.0</td><td>637.0</td><td>272.5</td><td>&quot;2023-05-30 23:00:00&quot;</td><td>4000.0</td><td>637.0</td><td>30.266667</td><td>21.45</td><td>4.8</td><td>1.58</td><td>1048.866667</td><td>100.0</td><td>100.0</td><td>100.0</td><td>100.0</td><td>17.290123</td><td>360.0</td><td>821.6</td><td>701.1</td><td>367.0</td><td>59.492308</td><td>27.745455</td><td>637.0</td></tr></tbody></table></div>"
      ],
      "text/plain": [
       "shape: (9, 47)\n",
       "┌───────────┬───────────┬───────────┬───────────┬───┬───────────┬───────────┬───────────┬──────────┐\n",
       "│ statistic ┆ county    ┆ is_busine ┆ product_t ┆ … ┆ diffuse_r ┆ latitude_ ┆ longitude ┆ data_blo │\n",
       "│ ---       ┆ ---       ┆ ss        ┆ ype       ┆   ┆ adiation_ ┆ hw        ┆ _hw       ┆ ck_id_hw │\n",
       "│ str       ┆ f64       ┆ ---       ┆ ---       ┆   ┆ hw        ┆ ---       ┆ ---       ┆ ---      │\n",
       "│           ┆           ┆ f64       ┆ f64       ┆   ┆ ---       ┆ f64       ┆ f64       ┆ f64      │\n",
       "│           ┆           ┆           ┆           ┆   ┆ f64       ┆           ┆           ┆          │\n",
       "╞═══════════╪═══════════╪═══════════╪═══════════╪═══╪═══════════╪═══════════╪═══════════╪══════════╡\n",
       "│ count     ┆ 2.018352e ┆ 2.018352e ┆ 2.018352e ┆ … ┆ 1.982992e ┆ 1.982992e ┆ 1.982992e ┆ 1.982992 │\n",
       "│           ┆ 6         ┆ 6         ┆ 6         ┆   ┆ 6         ┆ 6         ┆ 6         ┆ e6       │\n",
       "│ null_coun ┆ 0.0       ┆ 0.0       ┆ 0.0       ┆ … ┆ 35360.0   ┆ 35360.0   ┆ 35360.0   ┆ 35360.0  │\n",
       "│ t         ┆           ┆           ┆           ┆   ┆           ┆           ┆           ┆          │\n",
       "│ mean      ┆ 7.297034  ┆ 0.536826  ┆ 1.898927  ┆ … ┆ 42.525247 ┆ 58.635229 ┆ 25.548547 ┆ 322.7162 │\n",
       "│           ┆           ┆           ┆           ┆   ┆           ┆           ┆           ┆ 18       │\n",
       "│ std       ┆ 4.78099   ┆ 0.498642  ┆ 1.081766  ┆ … ┆ 61.521575 ┆ 0.58859   ┆ 1.63161   ┆ 182.1782 │\n",
       "│           ┆           ┆           ┆           ┆   ┆           ┆           ┆           ┆ 93       │\n",
       "│ min       ┆ 0.0       ┆ 0.0       ┆ 0.0       ┆ … ┆ 0.0       ┆ 57.78     ┆ 22.144444 ┆ 1.0      │\n",
       "│ 25%       ┆ 3.0       ┆ 0.0       ┆ 1.0       ┆ … ┆ 0.0       ┆ 58.094118 ┆ 24.533333 ┆ 167.0    │\n",
       "│ 50%       ┆ 7.0       ┆ 1.0       ┆ 2.0       ┆ … ┆ 4.4       ┆ 58.725    ┆ 25.533333 ┆ 324.0    │\n",
       "│ 75%       ┆ 11.0      ┆ 1.0       ┆ 3.0       ┆ … ┆ 74.733333 ┆ 59.233333 ┆ 27.116667 ┆ 480.0    │\n",
       "│ max       ┆ 15.0      ┆ 1.0       ┆ 3.0       ┆ … ┆ 367.0     ┆ 59.492308 ┆ 27.745455 ┆ 637.0    │\n",
       "└───────────┴───────────┴───────────┴───────────┴───┴───────────┴───────────┴───────────┴──────────┘"
      ]
     },
     "execution_count": 17,
     "metadata": {},
     "output_type": "execute_result"
    }
   ],
   "source": [
    "res.describe()"
   ]
  },
  {
   "cell_type": "code",
   "execution_count": 29,
   "metadata": {},
   "outputs": [
    {
     "name": "stdout",
     "output_type": "stream",
     "text": [
      "train\n"
     ]
    },
    {
     "data": {
      "text/html": [
       "<div><style>\n",
       ".dataframe > thead > tr,\n",
       ".dataframe > tbody > tr {\n",
       "  text-align: right;\n",
       "  white-space: pre-wrap;\n",
       "}\n",
       "</style>\n",
       "<small>shape: (9, 10)</small><table border=\"1\" class=\"dataframe\"><thead><tr><th>statistic</th><th>county</th><th>is_business</th><th>product_type</th><th>target</th><th>is_consumption</th><th>datetime</th><th>data_block_id</th><th>row_id</th><th>prediction_unit_id</th></tr><tr><td>str</td><td>f64</td><td>f64</td><td>f64</td><td>f64</td><td>f64</td><td>str</td><td>f64</td><td>f64</td><td>f64</td></tr></thead><tbody><tr><td>&quot;count&quot;</td><td>2.018352e6</td><td>2.018352e6</td><td>2.018352e6</td><td>2.017824e6</td><td>2.018352e6</td><td>&quot;2018352&quot;</td><td>2.018352e6</td><td>2.018352e6</td><td>2.018352e6</td></tr><tr><td>&quot;null_count&quot;</td><td>0.0</td><td>0.0</td><td>0.0</td><td>528.0</td><td>0.0</td><td>&quot;0&quot;</td><td>0.0</td><td>0.0</td><td>0.0</td></tr><tr><td>&quot;mean&quot;</td><td>7.297034</td><td>0.536826</td><td>1.898927</td><td>274.85556</td><td>0.5</td><td>null</td><td>321.874599</td><td>1009175.5</td><td>33.045376</td></tr><tr><td>&quot;std&quot;</td><td>4.78099</td><td>0.498642</td><td>1.081766</td><td>909.502378</td><td>0.5</td><td>null</td><td>182.634314</td><td>582648.179597</td><td>19.590594</td></tr><tr><td>&quot;min&quot;</td><td>0.0</td><td>0.0</td><td>0.0</td><td>0.0</td><td>0.0</td><td>&quot;2021-09-01 00:00:00&quot;</td><td>0.0</td><td>0.0</td><td>0.0</td></tr><tr><td>&quot;25%&quot;</td><td>3.0</td><td>0.0</td><td>1.0</td><td>0.378</td><td>0.0</td><td>null</td><td>166.0</td><td>504588.0</td><td>16.0</td></tr><tr><td>&quot;50%&quot;</td><td>7.0</td><td>1.0</td><td>2.0</td><td>31.133</td><td>1.0</td><td>null</td><td>323.0</td><td>1.009176e6</td><td>33.0</td></tr><tr><td>&quot;75%&quot;</td><td>11.0</td><td>1.0</td><td>3.0</td><td>180.206</td><td>1.0</td><td>null</td><td>479.0</td><td>1.513763e6</td><td>50.0</td></tr><tr><td>&quot;max&quot;</td><td>15.0</td><td>1.0</td><td>3.0</td><td>15480.274</td><td>1.0</td><td>&quot;2023-05-31 23:00:00&quot;</td><td>637.0</td><td>2.018351e6</td><td>68.0</td></tr></tbody></table></div>"
      ],
      "text/plain": [
       "shape: (9, 10)\n",
       "┌───────────┬───────────┬───────────┬───────────┬───┬───────────┬───────────┬───────────┬──────────┐\n",
       "│ statistic ┆ county    ┆ is_busine ┆ product_t ┆ … ┆ datetime  ┆ data_bloc ┆ row_id    ┆ predicti │\n",
       "│ ---       ┆ ---       ┆ ss        ┆ ype       ┆   ┆ ---       ┆ k_id      ┆ ---       ┆ on_unit_ │\n",
       "│ str       ┆ f64       ┆ ---       ┆ ---       ┆   ┆ str       ┆ ---       ┆ f64       ┆ id       │\n",
       "│           ┆           ┆ f64       ┆ f64       ┆   ┆           ┆ f64       ┆           ┆ ---      │\n",
       "│           ┆           ┆           ┆           ┆   ┆           ┆           ┆           ┆ f64      │\n",
       "╞═══════════╪═══════════╪═══════════╪═══════════╪═══╪═══════════╪═══════════╪═══════════╪══════════╡\n",
       "│ count     ┆ 2.018352e ┆ 2.018352e ┆ 2.018352e ┆ … ┆ 2018352   ┆ 2.018352e ┆ 2.018352e ┆ 2.018352 │\n",
       "│           ┆ 6         ┆ 6         ┆ 6         ┆   ┆           ┆ 6         ┆ 6         ┆ e6       │\n",
       "│ null_coun ┆ 0.0       ┆ 0.0       ┆ 0.0       ┆ … ┆ 0         ┆ 0.0       ┆ 0.0       ┆ 0.0      │\n",
       "│ t         ┆           ┆           ┆           ┆   ┆           ┆           ┆           ┆          │\n",
       "│ mean      ┆ 7.297034  ┆ 0.536826  ┆ 1.898927  ┆ … ┆ null      ┆ 321.87459 ┆ 1009175.5 ┆ 33.04537 │\n",
       "│           ┆           ┆           ┆           ┆   ┆           ┆ 9         ┆           ┆ 6        │\n",
       "│ std       ┆ 4.78099   ┆ 0.498642  ┆ 1.081766  ┆ … ┆ null      ┆ 182.63431 ┆ 582648.17 ┆ 19.59059 │\n",
       "│           ┆           ┆           ┆           ┆   ┆           ┆ 4         ┆ 9597      ┆ 4        │\n",
       "│ min       ┆ 0.0       ┆ 0.0       ┆ 0.0       ┆ … ┆ 2021-09-0 ┆ 0.0       ┆ 0.0       ┆ 0.0      │\n",
       "│           ┆           ┆           ┆           ┆   ┆ 1         ┆           ┆           ┆          │\n",
       "│           ┆           ┆           ┆           ┆   ┆ 00:00:00  ┆           ┆           ┆          │\n",
       "│ 25%       ┆ 3.0       ┆ 0.0       ┆ 1.0       ┆ … ┆ null      ┆ 166.0     ┆ 504588.0  ┆ 16.0     │\n",
       "│ 50%       ┆ 7.0       ┆ 1.0       ┆ 2.0       ┆ … ┆ null      ┆ 323.0     ┆ 1.009176e ┆ 33.0     │\n",
       "│           ┆           ┆           ┆           ┆   ┆           ┆           ┆ 6         ┆          │\n",
       "│ 75%       ┆ 11.0      ┆ 1.0       ┆ 3.0       ┆ … ┆ null      ┆ 479.0     ┆ 1.513763e ┆ 50.0     │\n",
       "│           ┆           ┆           ┆           ┆   ┆           ┆           ┆ 6         ┆          │\n",
       "│ max       ┆ 15.0      ┆ 1.0       ┆ 3.0       ┆ … ┆ 2023-05-3 ┆ 637.0     ┆ 2.018351e ┆ 68.0     │\n",
       "│           ┆           ┆           ┆           ┆   ┆ 1         ┆           ┆ 6         ┆          │\n",
       "│           ┆           ┆           ┆           ┆   ┆ 23:00:00  ┆           ┆           ┆          │\n",
       "└───────────┴───────────┴───────────┴───────────┴───┴───────────┴───────────┴───────────┴──────────┘"
      ]
     },
     "metadata": {},
     "output_type": "display_data"
    },
    {
     "name": "stdout",
     "output_type": "stream",
     "text": [
      "gas_prices\n"
     ]
    },
    {
     "data": {
      "text/html": [
       "<div><style>\n",
       ".dataframe > thead > tr,\n",
       ".dataframe > tbody > tr {\n",
       "  text-align: right;\n",
       "  white-space: pre-wrap;\n",
       "}\n",
       "</style>\n",
       "<small>shape: (9, 6)</small><table border=\"1\" class=\"dataframe\"><thead><tr><th>statistic</th><th>forecast_date</th><th>lowest_price_per_mwh</th><th>highest_price_per_mwh</th><th>origin_date</th><th>data_block_id</th></tr><tr><td>str</td><td>str</td><td>f64</td><td>f64</td><td>str</td><td>f64</td></tr></thead><tbody><tr><td>&quot;count&quot;</td><td>&quot;637&quot;</td><td>637.0</td><td>637.0</td><td>&quot;637&quot;</td><td>637.0</td></tr><tr><td>&quot;null_count&quot;</td><td>&quot;0&quot;</td><td>0.0</td><td>0.0</td><td>&quot;0&quot;</td><td>0.0</td></tr><tr><td>&quot;mean&quot;</td><td>null</td><td>95.03675</td><td>107.754631</td><td>null</td><td>319.0</td></tr><tr><td>&quot;std&quot;</td><td>null</td><td>47.552295</td><td>54.743666</td><td>null</td><td>184.030342</td></tr><tr><td>&quot;min&quot;</td><td>&quot;2021-09-01&quot;</td><td>28.1</td><td>34.0</td><td>&quot;2021-08-31&quot;</td><td>1.0</td></tr><tr><td>&quot;25%&quot;</td><td>null</td><td>60.0</td><td>67.53</td><td>null</td><td>160.0</td></tr><tr><td>&quot;50%&quot;</td><td>null</td><td>85.21</td><td>93.47</td><td>null</td><td>319.0</td></tr><tr><td>&quot;75%&quot;</td><td>null</td><td>109.0</td><td>130.74</td><td>null</td><td>478.0</td></tr><tr><td>&quot;max&quot;</td><td>&quot;2023-05-30&quot;</td><td>250.0</td><td>305.0</td><td>&quot;2023-05-29&quot;</td><td>637.0</td></tr></tbody></table></div>"
      ],
      "text/plain": [
       "shape: (9, 6)\n",
       "┌────────────┬───────────────┬───────────────────┬───────────────────┬─────────────┬───────────────┐\n",
       "│ statistic  ┆ forecast_date ┆ lowest_price_per_ ┆ highest_price_per ┆ origin_date ┆ data_block_id │\n",
       "│ ---        ┆ ---           ┆ mwh               ┆ _mwh              ┆ ---         ┆ ---           │\n",
       "│ str        ┆ str           ┆ ---               ┆ ---               ┆ str         ┆ f64           │\n",
       "│            ┆               ┆ f64               ┆ f64               ┆             ┆               │\n",
       "╞════════════╪═══════════════╪═══════════════════╪═══════════════════╪═════════════╪═══════════════╡\n",
       "│ count      ┆ 637           ┆ 637.0             ┆ 637.0             ┆ 637         ┆ 637.0         │\n",
       "│ null_count ┆ 0             ┆ 0.0               ┆ 0.0               ┆ 0           ┆ 0.0           │\n",
       "│ mean       ┆ null          ┆ 95.03675          ┆ 107.754631        ┆ null        ┆ 319.0         │\n",
       "│ std        ┆ null          ┆ 47.552295         ┆ 54.743666         ┆ null        ┆ 184.030342    │\n",
       "│ min        ┆ 2021-09-01    ┆ 28.1              ┆ 34.0              ┆ 2021-08-31  ┆ 1.0           │\n",
       "│ 25%        ┆ null          ┆ 60.0              ┆ 67.53             ┆ null        ┆ 160.0         │\n",
       "│ 50%        ┆ null          ┆ 85.21             ┆ 93.47             ┆ null        ┆ 319.0         │\n",
       "│ 75%        ┆ null          ┆ 109.0             ┆ 130.74            ┆ null        ┆ 478.0         │\n",
       "│ max        ┆ 2023-05-30    ┆ 250.0             ┆ 305.0             ┆ 2023-05-29  ┆ 637.0         │\n",
       "└────────────┴───────────────┴───────────────────┴───────────────────┴─────────────┴───────────────┘"
      ]
     },
     "metadata": {},
     "output_type": "display_data"
    },
    {
     "name": "stdout",
     "output_type": "stream",
     "text": [
      "client\n"
     ]
    },
    {
     "data": {
      "text/html": [
       "<div><style>\n",
       ".dataframe > thead > tr,\n",
       ".dataframe > tbody > tr {\n",
       "  text-align: right;\n",
       "  white-space: pre-wrap;\n",
       "}\n",
       "</style>\n",
       "<small>shape: (9, 8)</small><table border=\"1\" class=\"dataframe\"><thead><tr><th>statistic</th><th>product_type</th><th>county</th><th>eic_count</th><th>installed_capacity</th><th>is_business</th><th>date</th><th>data_block_id</th></tr><tr><td>str</td><td>f64</td><td>f64</td><td>f64</td><td>f64</td><td>f64</td><td>str</td><td>f64</td></tr></thead><tbody><tr><td>&quot;count&quot;</td><td>41919.0</td><td>41919.0</td><td>41919.0</td><td>41919.0</td><td>41919.0</td><td>&quot;41919&quot;</td><td>41919.0</td></tr><tr><td>&quot;null_count&quot;</td><td>0.0</td><td>0.0</td><td>0.0</td><td>0.0</td><td>0.0</td><td>&quot;0&quot;</td><td>0.0</td></tr><tr><td>&quot;mean&quot;</td><td>1.898996</td><td>7.297097</td><td>73.345118</td><td>1450.771451</td><td>0.536773</td><td>null</td><td>322.898876</td></tr><tr><td>&quot;std&quot;</td><td>1.081713</td><td>4.78075</td><td>144.064389</td><td>2422.23312</td><td>0.498652</td><td>null</td><td>182.075724</td></tr><tr><td>&quot;min&quot;</td><td>0.0</td><td>0.0</td><td>5.0</td><td>5.5</td><td>0.0</td><td>&quot;2021-09-01&quot;</td><td>2.0</td></tr><tr><td>&quot;25%&quot;</td><td>1.0</td><td>3.0</td><td>13.0</td><td>321.9</td><td>0.0</td><td>null</td><td>167.0</td></tr><tr><td>&quot;50%&quot;</td><td>2.0</td><td>7.0</td><td>32.0</td><td>645.2</td><td>1.0</td><td>null</td><td>324.0</td></tr><tr><td>&quot;75%&quot;</td><td>3.0</td><td>11.0</td><td>70.0</td><td>1567.15</td><td>1.0</td><td>null</td><td>480.0</td></tr><tr><td>&quot;max&quot;</td><td>3.0</td><td>15.0</td><td>1517.0</td><td>19314.31</td><td>1.0</td><td>&quot;2023-05-29&quot;</td><td>637.0</td></tr></tbody></table></div>"
      ],
      "text/plain": [
       "shape: (9, 8)\n",
       "┌────────────┬────────────┬──────────┬────────────┬────────────┬───────────┬───────────┬───────────┐\n",
       "│ statistic  ┆ product_ty ┆ county   ┆ eic_count  ┆ installed_ ┆ is_busine ┆ date      ┆ data_bloc │\n",
       "│ ---        ┆ pe         ┆ ---      ┆ ---        ┆ capacity   ┆ ss        ┆ ---       ┆ k_id      │\n",
       "│ str        ┆ ---        ┆ f64      ┆ f64        ┆ ---        ┆ ---       ┆ str       ┆ ---       │\n",
       "│            ┆ f64        ┆          ┆            ┆ f64        ┆ f64       ┆           ┆ f64       │\n",
       "╞════════════╪════════════╪══════════╪════════════╪════════════╪═══════════╪═══════════╪═══════════╡\n",
       "│ count      ┆ 41919.0    ┆ 41919.0  ┆ 41919.0    ┆ 41919.0    ┆ 41919.0   ┆ 41919     ┆ 41919.0   │\n",
       "│ null_count ┆ 0.0        ┆ 0.0      ┆ 0.0        ┆ 0.0        ┆ 0.0       ┆ 0         ┆ 0.0       │\n",
       "│ mean       ┆ 1.898996   ┆ 7.297097 ┆ 73.345118  ┆ 1450.77145 ┆ 0.536773  ┆ null      ┆ 322.89887 │\n",
       "│            ┆            ┆          ┆            ┆ 1          ┆           ┆           ┆ 6         │\n",
       "│ std        ┆ 1.081713   ┆ 4.78075  ┆ 144.064389 ┆ 2422.23312 ┆ 0.498652  ┆ null      ┆ 182.07572 │\n",
       "│            ┆            ┆          ┆            ┆            ┆           ┆           ┆ 4         │\n",
       "│ min        ┆ 0.0        ┆ 0.0      ┆ 5.0        ┆ 5.5        ┆ 0.0       ┆ 2021-09-0 ┆ 2.0       │\n",
       "│            ┆            ┆          ┆            ┆            ┆           ┆ 1         ┆           │\n",
       "│ 25%        ┆ 1.0        ┆ 3.0      ┆ 13.0       ┆ 321.9      ┆ 0.0       ┆ null      ┆ 167.0     │\n",
       "│ 50%        ┆ 2.0        ┆ 7.0      ┆ 32.0       ┆ 645.2      ┆ 1.0       ┆ null      ┆ 324.0     │\n",
       "│ 75%        ┆ 3.0        ┆ 11.0     ┆ 70.0       ┆ 1567.15    ┆ 1.0       ┆ null      ┆ 480.0     │\n",
       "│ max        ┆ 3.0        ┆ 15.0     ┆ 1517.0     ┆ 19314.31   ┆ 1.0       ┆ 2023-05-2 ┆ 637.0     │\n",
       "│            ┆            ┆          ┆            ┆            ┆           ┆ 9         ┆           │\n",
       "└────────────┴────────────┴──────────┴────────────┴────────────┴───────────┴───────────┴───────────┘"
      ]
     },
     "metadata": {},
     "output_type": "display_data"
    },
    {
     "name": "stdout",
     "output_type": "stream",
     "text": [
      "electricity_prices\n"
     ]
    },
    {
     "data": {
      "text/html": [
       "<div><style>\n",
       ".dataframe > thead > tr,\n",
       ".dataframe > tbody > tr {\n",
       "  text-align: right;\n",
       "  white-space: pre-wrap;\n",
       "}\n",
       "</style>\n",
       "<small>shape: (9, 5)</small><table border=\"1\" class=\"dataframe\"><thead><tr><th>statistic</th><th>forecast_date</th><th>euros_per_mwh</th><th>origin_date</th><th>data_block_id</th></tr><tr><td>str</td><td>str</td><td>f64</td><td>str</td><td>f64</td></tr></thead><tbody><tr><td>&quot;count&quot;</td><td>&quot;15286&quot;</td><td>15286.0</td><td>&quot;15286&quot;</td><td>15286.0</td></tr><tr><td>&quot;null_count&quot;</td><td>&quot;0&quot;</td><td>0.0</td><td>&quot;0&quot;</td><td>0.0</td></tr><tr><td>&quot;mean&quot;</td><td>null</td><td>157.064176</td><td>null</td><td>318.99071</td></tr><tr><td>&quot;std&quot;</td><td>null</td><td>121.148625</td><td>null</td><td>183.890301</td></tr><tr><td>&quot;min&quot;</td><td>&quot;2021-09-01 00:00:00&quot;</td><td>-10.06</td><td>&quot;2021-08-31 00:00:00&quot;</td><td>1.0</td></tr><tr><td>&quot;25%&quot;</td><td>null</td><td>85.29</td><td>null</td><td>160.0</td></tr><tr><td>&quot;50%&quot;</td><td>null</td><td>128.28</td><td>null</td><td>319.0</td></tr><tr><td>&quot;75%&quot;</td><td>null</td><td>199.8</td><td>null</td><td>478.0</td></tr><tr><td>&quot;max&quot;</td><td>&quot;2023-05-30 23:00:00&quot;</td><td>4000.0</td><td>&quot;2023-05-29 23:00:00&quot;</td><td>637.0</td></tr></tbody></table></div>"
      ],
      "text/plain": [
       "shape: (9, 5)\n",
       "┌────────────┬─────────────────────┬───────────────┬─────────────────────┬───────────────┐\n",
       "│ statistic  ┆ forecast_date       ┆ euros_per_mwh ┆ origin_date         ┆ data_block_id │\n",
       "│ ---        ┆ ---                 ┆ ---           ┆ ---                 ┆ ---           │\n",
       "│ str        ┆ str                 ┆ f64           ┆ str                 ┆ f64           │\n",
       "╞════════════╪═════════════════════╪═══════════════╪═════════════════════╪═══════════════╡\n",
       "│ count      ┆ 15286               ┆ 15286.0       ┆ 15286               ┆ 15286.0       │\n",
       "│ null_count ┆ 0                   ┆ 0.0           ┆ 0                   ┆ 0.0           │\n",
       "│ mean       ┆ null                ┆ 157.064176    ┆ null                ┆ 318.99071     │\n",
       "│ std        ┆ null                ┆ 121.148625    ┆ null                ┆ 183.890301    │\n",
       "│ min        ┆ 2021-09-01 00:00:00 ┆ -10.06        ┆ 2021-08-31 00:00:00 ┆ 1.0           │\n",
       "│ 25%        ┆ null                ┆ 85.29         ┆ null                ┆ 160.0         │\n",
       "│ 50%        ┆ null                ┆ 128.28        ┆ null                ┆ 319.0         │\n",
       "│ 75%        ┆ null                ┆ 199.8         ┆ null                ┆ 478.0         │\n",
       "│ max        ┆ 2023-05-30 23:00:00 ┆ 4000.0        ┆ 2023-05-29 23:00:00 ┆ 637.0         │\n",
       "└────────────┴─────────────────────┴───────────────┴─────────────────────┴───────────────┘"
      ]
     },
     "metadata": {},
     "output_type": "display_data"
    },
    {
     "name": "stdout",
     "output_type": "stream",
     "text": [
      "forecast_weather\n"
     ]
    },
    {
     "data": {
      "text/html": [
       "<div><style>\n",
       ".dataframe > thead > tr,\n",
       ".dataframe > tbody > tr {\n",
       "  text-align: right;\n",
       "  white-space: pre-wrap;\n",
       "}\n",
       "</style>\n",
       "<small>shape: (9, 19)</small><table border=\"1\" class=\"dataframe\"><thead><tr><th>statistic</th><th>latitude</th><th>longitude</th><th>origin_datetime</th><th>hours_ahead</th><th>temperature</th><th>dewpoint</th><th>cloudcover_high</th><th>cloudcover_low</th><th>cloudcover_mid</th><th>cloudcover_total</th><th>10_metre_u_wind_component</th><th>10_metre_v_wind_component</th><th>data_block_id</th><th>forecast_datetime</th><th>direct_solar_radiation</th><th>surface_solar_radiation_downwards</th><th>snowfall</th><th>total_precipitation</th></tr><tr><td>str</td><td>f64</td><td>f64</td><td>str</td><td>f64</td><td>f64</td><td>f64</td><td>f64</td><td>f64</td><td>f64</td><td>f64</td><td>f64</td><td>f64</td><td>f64</td><td>str</td><td>f64</td><td>f64</td><td>f64</td><td>f64</td></tr></thead><tbody><tr><td>&quot;count&quot;</td><td>3.424512e6</td><td>3.424512e6</td><td>&quot;3424512&quot;</td><td>3.424512e6</td><td>3.424512e6</td><td>3.424512e6</td><td>3.424512e6</td><td>3.424512e6</td><td>3.424512e6</td><td>3.424512e6</td><td>3.424512e6</td><td>3.424512e6</td><td>3.424512e6</td><td>&quot;3424512&quot;</td><td>3.424512e6</td><td>3.42451e6</td><td>3.424512e6</td><td>3.424512e6</td></tr><tr><td>&quot;null_count&quot;</td><td>0.0</td><td>0.0</td><td>&quot;0&quot;</td><td>0.0</td><td>0.0</td><td>0.0</td><td>0.0</td><td>0.0</td><td>0.0</td><td>0.0</td><td>0.0</td><td>0.0</td><td>0.0</td><td>&quot;0&quot;</td><td>0.0</td><td>2.0</td><td>0.0</td><td>0.0</td></tr><tr><td>&quot;mean&quot;</td><td>58.65</td><td>24.95</td><td>null</td><td>24.5</td><td>5.743913</td><td>2.411946</td><td>0.394665</td><td>0.434645</td><td>0.359069</td><td>0.681993</td><td>1.255446</td><td>0.725011</td><td>319.0</td><td>null</td><td>151.188212</td><td>110.764207</td><td>0.000025</td><td>0.000079</td></tr><tr><td>&quot;std&quot;</td><td>0.687386</td><td>2.015565</td><td>null</td><td>13.853401</td><td>7.844206</td><td>7.121432</td><td>0.444043</td><td>0.438635</td><td>0.420156</td><td>0.400963</td><td>3.9953</td><td>4.223752</td><td>183.885861</td><td>null</td><td>256.506903</td><td>187.444373</td><td>0.000122</td><td>0.000278</td></tr><tr><td>&quot;min&quot;</td><td>57.6</td><td>21.7</td><td>&quot;2021-09-01 02:00:00&quot;</td><td>1.0</td><td>-27.499396</td><td>-29.683569</td><td>0.0</td><td>0.0</td><td>0.0</td><td>0.0</td><td>-17.577179</td><td>-22.116119</td><td>1.0</td><td>&quot;2021-09-01 03:00:00&quot;</td><td>-0.773333</td><td>-0.325833</td><td>-0.000004</td><td>-0.000015</td></tr><tr><td>&quot;25%&quot;</td><td>58.2</td><td>23.2</td><td>null</td><td>13.0</td><td>0.260645</td><td>-2.364355</td><td>0.0</td><td>0.000336</td><td>0.0</td><td>0.264893</td><td>-1.46669</td><td>-1.978104</td><td>160.0</td><td>null</td><td>0.0</td><td>0.0</td><td>0.0</td><td>0.0</td></tr><tr><td>&quot;50%&quot;</td><td>58.8</td><td>25.2</td><td>null</td><td>25.0</td><td>4.872705</td><td>1.835596</td><td>0.088669</td><td>0.230546</td><td>0.101196</td><td>0.977267</td><td>1.468682</td><td>0.943322</td><td>319.0</td><td>null</td><td>0.0</td><td>0.604444</td><td>0.0</td><td>0.0</td></tr><tr><td>&quot;75%&quot;</td><td>59.1</td><td>26.7</td><td>null</td><td>36.0</td><td>11.146387</td><td>7.302026</td><td>0.978485</td><td>0.999459</td><td>0.900085</td><td>1.0</td><td>3.813531</td><td>3.507628</td><td>478.0</td><td>null</td><td>212.844444</td><td>144.172326</td><td>0.0</td><td>0.000028</td></tr><tr><td>&quot;max&quot;</td><td>59.7</td><td>28.2</td><td>&quot;2023-05-30 02:00:00&quot;</td><td>48.0</td><td>31.810693</td><td>23.680566</td><td>1.000008</td><td>1.000008</td><td>1.000008</td><td>1.000008</td><td>22.573198</td><td>19.314369</td><td>637.0</td><td>&quot;2023-06-01 02:00:00&quot;</td><td>954.422222</td><td>848.714444</td><td>0.004833</td><td>0.016516</td></tr></tbody></table></div>"
      ],
      "text/plain": [
       "shape: (9, 19)\n",
       "┌───────────┬───────────┬───────────┬───────────┬───┬───────────┬───────────┬───────────┬──────────┐\n",
       "│ statistic ┆ latitude  ┆ longitude ┆ origin_da ┆ … ┆ direct_so ┆ surface_s ┆ snowfall  ┆ total_pr │\n",
       "│ ---       ┆ ---       ┆ ---       ┆ tetime    ┆   ┆ lar_radia ┆ olar_radi ┆ ---       ┆ ecipitat │\n",
       "│ str       ┆ f64       ┆ f64       ┆ ---       ┆   ┆ tion      ┆ ation_dow ┆ f64       ┆ ion      │\n",
       "│           ┆           ┆           ┆ str       ┆   ┆ ---       ┆ nwa…      ┆           ┆ ---      │\n",
       "│           ┆           ┆           ┆           ┆   ┆ f64       ┆ ---       ┆           ┆ f64      │\n",
       "│           ┆           ┆           ┆           ┆   ┆           ┆ f64       ┆           ┆          │\n",
       "╞═══════════╪═══════════╪═══════════╪═══════════╪═══╪═══════════╪═══════════╪═══════════╪══════════╡\n",
       "│ count     ┆ 3.424512e ┆ 3.424512e ┆ 3424512   ┆ … ┆ 3.424512e ┆ 3.42451e6 ┆ 3.424512e ┆ 3.424512 │\n",
       "│           ┆ 6         ┆ 6         ┆           ┆   ┆ 6         ┆           ┆ 6         ┆ e6       │\n",
       "│ null_coun ┆ 0.0       ┆ 0.0       ┆ 0         ┆ … ┆ 0.0       ┆ 2.0       ┆ 0.0       ┆ 0.0      │\n",
       "│ t         ┆           ┆           ┆           ┆   ┆           ┆           ┆           ┆          │\n",
       "│ mean      ┆ 58.65     ┆ 24.95     ┆ null      ┆ … ┆ 151.18821 ┆ 110.76420 ┆ 0.000025  ┆ 0.000079 │\n",
       "│           ┆           ┆           ┆           ┆   ┆ 2         ┆ 7         ┆           ┆          │\n",
       "│ std       ┆ 0.687386  ┆ 2.015565  ┆ null      ┆ … ┆ 256.50690 ┆ 187.44437 ┆ 0.000122  ┆ 0.000278 │\n",
       "│           ┆           ┆           ┆           ┆   ┆ 3         ┆ 3         ┆           ┆          │\n",
       "│ min       ┆ 57.6      ┆ 21.7      ┆ 2021-09-0 ┆ … ┆ -0.773333 ┆ -0.325833 ┆ -0.000004 ┆ -0.00001 │\n",
       "│           ┆           ┆           ┆ 1         ┆   ┆           ┆           ┆           ┆ 5        │\n",
       "│           ┆           ┆           ┆ 02:00:00  ┆   ┆           ┆           ┆           ┆          │\n",
       "│ 25%       ┆ 58.2      ┆ 23.2      ┆ null      ┆ … ┆ 0.0       ┆ 0.0       ┆ 0.0       ┆ 0.0      │\n",
       "│ 50%       ┆ 58.8      ┆ 25.2      ┆ null      ┆ … ┆ 0.0       ┆ 0.604444  ┆ 0.0       ┆ 0.0      │\n",
       "│ 75%       ┆ 59.1      ┆ 26.7      ┆ null      ┆ … ┆ 212.84444 ┆ 144.17232 ┆ 0.0       ┆ 0.000028 │\n",
       "│           ┆           ┆           ┆           ┆   ┆ 4         ┆ 6         ┆           ┆          │\n",
       "│ max       ┆ 59.7      ┆ 28.2      ┆ 2023-05-3 ┆ … ┆ 954.42222 ┆ 848.71444 ┆ 0.004833  ┆ 0.016516 │\n",
       "│           ┆           ┆           ┆ 0         ┆   ┆ 2         ┆ 4         ┆           ┆          │\n",
       "│           ┆           ┆           ┆ 02:00:00  ┆   ┆           ┆           ┆           ┆          │\n",
       "└───────────┴───────────┴───────────┴───────────┴───┴───────────┴───────────┴───────────┴──────────┘"
      ]
     },
     "metadata": {},
     "output_type": "display_data"
    },
    {
     "name": "stdout",
     "output_type": "stream",
     "text": [
      "historical_weather\n"
     ]
    },
    {
     "data": {
      "text/html": [
       "<div><style>\n",
       ".dataframe > thead > tr,\n",
       ".dataframe > tbody > tr {\n",
       "  text-align: right;\n",
       "  white-space: pre-wrap;\n",
       "}\n",
       "</style>\n",
       "<small>shape: (9, 19)</small><table border=\"1\" class=\"dataframe\"><thead><tr><th>statistic</th><th>datetime</th><th>temperature</th><th>dewpoint</th><th>rain</th><th>snowfall</th><th>surface_pressure</th><th>cloudcover_total</th><th>cloudcover_low</th><th>cloudcover_mid</th><th>cloudcover_high</th><th>windspeed_10m</th><th>winddirection_10m</th><th>shortwave_radiation</th><th>direct_solar_radiation</th><th>diffuse_radiation</th><th>latitude</th><th>longitude</th><th>data_block_id</th></tr><tr><td>str</td><td>str</td><td>f64</td><td>f64</td><td>f64</td><td>f64</td><td>f64</td><td>f64</td><td>f64</td><td>f64</td><td>f64</td><td>f64</td><td>f64</td><td>f64</td><td>f64</td><td>f64</td><td>f64</td><td>f64</td><td>f64</td></tr></thead><tbody><tr><td>&quot;count&quot;</td><td>&quot;1710802&quot;</td><td>1.710802e6</td><td>1.710802e6</td><td>1.710802e6</td><td>1.710802e6</td><td>1.710802e6</td><td>1.710802e6</td><td>1.710802e6</td><td>1.710802e6</td><td>1.710802e6</td><td>1.710802e6</td><td>1.710802e6</td><td>1.710802e6</td><td>1.710802e6</td><td>1.710802e6</td><td>1.710802e6</td><td>1.710802e6</td><td>1.710802e6</td></tr><tr><td>&quot;null_count&quot;</td><td>&quot;0&quot;</td><td>0.0</td><td>0.0</td><td>0.0</td><td>0.0</td><td>0.0</td><td>0.0</td><td>0.0</td><td>0.0</td><td>0.0</td><td>0.0</td><td>0.0</td><td>0.0</td><td>0.0</td><td>0.0</td><td>0.0</td><td>0.0</td><td>0.0</td></tr><tr><td>&quot;mean&quot;</td><td>null</td><td>5.740968</td><td>2.240312</td><td>0.04962</td><td>0.016049</td><td>1009.281515</td><td>60.912696</td><td>46.685927</td><td>34.40698</td><td>36.051408</td><td>4.849871</td><td>197.869419</td><td>106.490504</td><td>64.452917</td><td>42.037587</td><td>58.649999</td><td>24.949999</td><td>319.270778</td></tr><tr><td>&quot;std&quot;</td><td>null</td><td>8.025647</td><td>7.224357</td><td>0.207911</td><td>0.074629</td><td>13.088915</td><td>37.769048</td><td>40.747598</td><td>38.327693</td><td>41.358521</td><td>2.47545</td><td>89.937978</td><td>179.944912</td><td>133.409951</td><td>61.952251</td><td>0.687387</td><td>2.015564</td><td>183.729798</td></tr><tr><td>&quot;min&quot;</td><td>&quot;2021-09-01 00:00:00&quot;</td><td>-23.7</td><td>-25.9</td><td>0.0</td><td>0.0</td><td>942.9</td><td>0.0</td><td>0.0</td><td>0.0</td><td>0.0</td><td>0.0</td><td>0.0</td><td>0.0</td><td>0.0</td><td>0.0</td><td>57.6</td><td>21.7</td><td>1.0</td></tr><tr><td>&quot;25%&quot;</td><td>null</td><td>0.0</td><td>-2.6</td><td>0.0</td><td>0.0</td><td>1001.5</td><td>25.0</td><td>3.0</td><td>0.0</td><td>0.0</td><td>3.0</td><td>139.0</td><td>0.0</td><td>0.0</td><td>0.0</td><td>57.9</td><td>23.2</td><td>160.0</td></tr><tr><td>&quot;50%&quot;</td><td>null</td><td>5.1</td><td>1.7</td><td>0.0</td><td>0.0</td><td>1010.4</td><td>72.0</td><td>39.0</td><td>16.0</td><td>10.0</td><td>4.5</td><td>208.0</td><td>1.0</td><td>0.0</td><td>1.0</td><td>58.5</td><td>24.7</td><td>319.0</td></tr><tr><td>&quot;75%&quot;</td><td>null</td><td>11.2</td><td>7.2</td><td>0.0</td><td>0.0</td><td>1018.0</td><td>100.0</td><td>94.0</td><td>72.0</td><td>85.0</td><td>6.277778</td><td>263.0</td><td>140.0</td><td>47.0</td><td>74.0</td><td>59.1</td><td>26.7</td><td>478.0</td></tr><tr><td>&quot;max&quot;</td><td>&quot;2023-05-30 10:00:00&quot;</td><td>32.6</td><td>23.8</td><td>16.8</td><td>2.66</td><td>1049.3</td><td>100.0</td><td>100.0</td><td>100.0</td><td>100.0</td><td>21.75</td><td>360.0</td><td>849.0</td><td>754.0</td><td>388.0</td><td>59.7</td><td>28.2</td><td>637.0</td></tr></tbody></table></div>"
      ],
      "text/plain": [
       "shape: (9, 19)\n",
       "┌───────────┬───────────┬───────────┬───────────┬───┬───────────┬───────────┬───────────┬──────────┐\n",
       "│ statistic ┆ datetime  ┆ temperatu ┆ dewpoint  ┆ … ┆ diffuse_r ┆ latitude  ┆ longitude ┆ data_blo │\n",
       "│ ---       ┆ ---       ┆ re        ┆ ---       ┆   ┆ adiation  ┆ ---       ┆ ---       ┆ ck_id    │\n",
       "│ str       ┆ str       ┆ ---       ┆ f64       ┆   ┆ ---       ┆ f64       ┆ f64       ┆ ---      │\n",
       "│           ┆           ┆ f64       ┆           ┆   ┆ f64       ┆           ┆           ┆ f64      │\n",
       "╞═══════════╪═══════════╪═══════════╪═══════════╪═══╪═══════════╪═══════════╪═══════════╪══════════╡\n",
       "│ count     ┆ 1710802   ┆ 1.710802e ┆ 1.710802e ┆ … ┆ 1.710802e ┆ 1.710802e ┆ 1.710802e ┆ 1.710802 │\n",
       "│           ┆           ┆ 6         ┆ 6         ┆   ┆ 6         ┆ 6         ┆ 6         ┆ e6       │\n",
       "│ null_coun ┆ 0         ┆ 0.0       ┆ 0.0       ┆ … ┆ 0.0       ┆ 0.0       ┆ 0.0       ┆ 0.0      │\n",
       "│ t         ┆           ┆           ┆           ┆   ┆           ┆           ┆           ┆          │\n",
       "│ mean      ┆ null      ┆ 5.740968  ┆ 2.240312  ┆ … ┆ 42.037587 ┆ 58.649999 ┆ 24.949999 ┆ 319.2707 │\n",
       "│           ┆           ┆           ┆           ┆   ┆           ┆           ┆           ┆ 78       │\n",
       "│ std       ┆ null      ┆ 8.025647  ┆ 7.224357  ┆ … ┆ 61.952251 ┆ 0.687387  ┆ 2.015564  ┆ 183.7297 │\n",
       "│           ┆           ┆           ┆           ┆   ┆           ┆           ┆           ┆ 98       │\n",
       "│ min       ┆ 2021-09-0 ┆ -23.7     ┆ -25.9     ┆ … ┆ 0.0       ┆ 57.6      ┆ 21.7      ┆ 1.0      │\n",
       "│           ┆ 1         ┆           ┆           ┆   ┆           ┆           ┆           ┆          │\n",
       "│           ┆ 00:00:00  ┆           ┆           ┆   ┆           ┆           ┆           ┆          │\n",
       "│ 25%       ┆ null      ┆ 0.0       ┆ -2.6      ┆ … ┆ 0.0       ┆ 57.9      ┆ 23.2      ┆ 160.0    │\n",
       "│ 50%       ┆ null      ┆ 5.1       ┆ 1.7       ┆ … ┆ 1.0       ┆ 58.5      ┆ 24.7      ┆ 319.0    │\n",
       "│ 75%       ┆ null      ┆ 11.2      ┆ 7.2       ┆ … ┆ 74.0      ┆ 59.1      ┆ 26.7      ┆ 478.0    │\n",
       "│ max       ┆ 2023-05-3 ┆ 32.6      ┆ 23.8      ┆ … ┆ 388.0     ┆ 59.7      ┆ 28.2      ┆ 637.0    │\n",
       "│           ┆ 0         ┆           ┆           ┆   ┆           ┆           ┆           ┆          │\n",
       "│           ┆ 10:00:00  ┆           ┆           ┆   ┆           ┆           ┆           ┆          │\n",
       "└───────────┴───────────┴───────────┴───────────┴───┴───────────┴───────────┴───────────┴──────────┘"
      ]
     },
     "metadata": {},
     "output_type": "display_data"
    },
    {
     "name": "stdout",
     "output_type": "stream",
     "text": [
      "weather_station\n"
     ]
    },
    {
     "data": {
      "text/html": [
       "<div><style>\n",
       ".dataframe > thead > tr,\n",
       ".dataframe > tbody > tr {\n",
       "  text-align: right;\n",
       "  white-space: pre-wrap;\n",
       "}\n",
       "</style>\n",
       "<small>shape: (9, 5)</small><table border=\"1\" class=\"dataframe\"><thead><tr><th>statistic</th><th>county_name</th><th>longitude</th><th>latitude</th><th>county</th></tr><tr><td>str</td><td>str</td><td>f64</td><td>f64</td><td>f64</td></tr></thead><tbody><tr><td>&quot;count&quot;</td><td>&quot;49&quot;</td><td>112.0</td><td>112.0</td><td>49.0</td></tr><tr><td>&quot;null_count&quot;</td><td>&quot;63&quot;</td><td>0.0</td><td>0.0</td><td>63.0</td></tr><tr><td>&quot;mean&quot;</td><td>null</td><td>24.95</td><td>58.65</td><td>7.061224</td></tr><tr><td>&quot;std&quot;</td><td>null</td><td>2.024623</td><td>0.690476</td><td>4.870866</td></tr><tr><td>&quot;min&quot;</td><td>&quot;Harjumaa&quot;</td><td>21.7</td><td>57.6</td><td>0.0</td></tr><tr><td>&quot;25%&quot;</td><td>null</td><td>23.2</td><td>58.2</td><td>3.0</td></tr><tr><td>&quot;50%&quot;</td><td>null</td><td>25.2</td><td>58.8</td><td>7.0</td></tr><tr><td>&quot;75%&quot;</td><td>null</td><td>26.7</td><td>59.1</td><td>11.0</td></tr><tr><td>&quot;max&quot;</td><td>&quot;Võrumaa&quot;</td><td>28.2</td><td>59.7</td><td>15.0</td></tr></tbody></table></div>"
      ],
      "text/plain": [
       "shape: (9, 5)\n",
       "┌────────────┬─────────────┬───────────┬──────────┬──────────┐\n",
       "│ statistic  ┆ county_name ┆ longitude ┆ latitude ┆ county   │\n",
       "│ ---        ┆ ---         ┆ ---       ┆ ---      ┆ ---      │\n",
       "│ str        ┆ str         ┆ f64       ┆ f64      ┆ f64      │\n",
       "╞════════════╪═════════════╪═══════════╪══════════╪══════════╡\n",
       "│ count      ┆ 49          ┆ 112.0     ┆ 112.0    ┆ 49.0     │\n",
       "│ null_count ┆ 63          ┆ 0.0       ┆ 0.0      ┆ 63.0     │\n",
       "│ mean       ┆ null        ┆ 24.95     ┆ 58.65    ┆ 7.061224 │\n",
       "│ std        ┆ null        ┆ 2.024623  ┆ 0.690476 ┆ 4.870866 │\n",
       "│ min        ┆ Harjumaa    ┆ 21.7      ┆ 57.6     ┆ 0.0      │\n",
       "│ 25%        ┆ null        ┆ 23.2      ┆ 58.2     ┆ 3.0      │\n",
       "│ 50%        ┆ null        ┆ 25.2      ┆ 58.8     ┆ 7.0      │\n",
       "│ 75%        ┆ null        ┆ 26.7      ┆ 59.1     ┆ 11.0     │\n",
       "│ max        ┆ Võrumaa     ┆ 28.2      ┆ 59.7     ┆ 15.0     │\n",
       "└────────────┴─────────────┴───────────┴──────────┴──────────┘"
      ]
     },
     "metadata": {},
     "output_type": "display_data"
    }
   ],
   "source": [
    "for key in dfs.keys():\n",
    "    print(key)\n",
    "    display(dfs[key].describe())"
   ]
  },
  {
   "cell_type": "markdown",
   "metadata": {},
   "source": []
  },
  {
   "cell_type": "code",
   "execution_count": 18,
   "metadata": {},
   "outputs": [
    {
     "data": {
      "text/html": [
       "<div><style>\n",
       ".dataframe > thead > tr,\n",
       ".dataframe > tbody > tr {\n",
       "  text-align: right;\n",
       "  white-space: pre-wrap;\n",
       "}\n",
       "</style>\n",
       "<small>shape: (5, 7)</small><table border=\"1\" class=\"dataframe\"><thead><tr><th>product_type</th><th>county</th><th>eic_count</th><th>installed_capacity</th><th>is_business</th><th>date</th><th>data_block_id</th></tr><tr><td>i64</td><td>i64</td><td>i64</td><td>f64</td><td>i64</td><td>str</td><td>i64</td></tr></thead><tbody><tr><td>1</td><td>0</td><td>108</td><td>952.89</td><td>0</td><td>&quot;2021-09-01&quot;</td><td>2</td></tr><tr><td>2</td><td>0</td><td>17</td><td>166.4</td><td>0</td><td>&quot;2021-09-01&quot;</td><td>2</td></tr><tr><td>3</td><td>0</td><td>688</td><td>7207.88</td><td>0</td><td>&quot;2021-09-01&quot;</td><td>2</td></tr><tr><td>0</td><td>0</td><td>5</td><td>400.0</td><td>1</td><td>&quot;2021-09-01&quot;</td><td>2</td></tr><tr><td>1</td><td>0</td><td>43</td><td>1411.0</td><td>1</td><td>&quot;2021-09-01&quot;</td><td>2</td></tr></tbody></table></div>"
      ],
      "text/plain": [
       "shape: (5, 7)\n",
       "┌──────────────┬────────┬───────────┬───────────────────┬─────────────┬────────────┬───────────────┐\n",
       "│ product_type ┆ county ┆ eic_count ┆ installed_capacit ┆ is_business ┆ date       ┆ data_block_id │\n",
       "│ ---          ┆ ---    ┆ ---       ┆ y                 ┆ ---         ┆ ---        ┆ ---           │\n",
       "│ i64          ┆ i64    ┆ i64       ┆ ---               ┆ i64         ┆ str        ┆ i64           │\n",
       "│              ┆        ┆           ┆ f64               ┆             ┆            ┆               │\n",
       "╞══════════════╪════════╪═══════════╪═══════════════════╪═════════════╪════════════╪═══════════════╡\n",
       "│ 1            ┆ 0      ┆ 108       ┆ 952.89            ┆ 0           ┆ 2021-09-01 ┆ 2             │\n",
       "│ 2            ┆ 0      ┆ 17        ┆ 166.4             ┆ 0           ┆ 2021-09-01 ┆ 2             │\n",
       "│ 3            ┆ 0      ┆ 688       ┆ 7207.88           ┆ 0           ┆ 2021-09-01 ┆ 2             │\n",
       "│ 0            ┆ 0      ┆ 5         ┆ 400.0             ┆ 1           ┆ 2021-09-01 ┆ 2             │\n",
       "│ 1            ┆ 0      ┆ 43        ┆ 1411.0            ┆ 1           ┆ 2021-09-01 ┆ 2             │\n",
       "└──────────────┴────────┴───────────┴───────────────────┴─────────────┴────────────┴───────────────┘"
      ]
     },
     "execution_count": 18,
     "metadata": {},
     "output_type": "execute_result"
    }
   ],
   "source": [
    "dfs[\"client\"].head()"
   ]
  },
  {
   "cell_type": "code",
   "execution_count": 11,
   "metadata": {},
   "outputs": [],
   "source": [
    "# Adivinar que hace la variable hours ahead f mean\n",
    "# No añadir los Targets de horas anteriores"
   ]
  },
  {
   "cell_type": "code",
   "execution_count": 31,
   "metadata": {},
   "outputs": [
    {
     "data": {
      "text/html": [
       "<div><style>\n",
       ".dataframe > thead > tr,\n",
       ".dataframe > tbody > tr {\n",
       "  text-align: right;\n",
       "  white-space: pre-wrap;\n",
       "}\n",
       "</style>\n",
       "<small>shape: (5, 7)</small><table border=\"1\" class=\"dataframe\"><thead><tr><th>product_type</th><th>county</th><th>eic_count</th><th>installed_capacity</th><th>is_business</th><th>date</th><th>data_block_id</th></tr><tr><td>i64</td><td>i64</td><td>i64</td><td>f64</td><td>i64</td><td>str</td><td>i64</td></tr></thead><tbody><tr><td>1</td><td>15</td><td>51</td><td>415.6</td><td>0</td><td>&quot;2023-05-29&quot;</td><td>637</td></tr><tr><td>3</td><td>15</td><td>161</td><td>2035.75</td><td>0</td><td>&quot;2023-05-29&quot;</td><td>637</td></tr><tr><td>0</td><td>15</td><td>15</td><td>620.0</td><td>1</td><td>&quot;2023-05-29&quot;</td><td>637</td></tr><tr><td>1</td><td>15</td><td>20</td><td>624.5</td><td>1</td><td>&quot;2023-05-29&quot;</td><td>637</td></tr><tr><td>3</td><td>15</td><td>55</td><td>2188.2</td><td>1</td><td>&quot;2023-05-29&quot;</td><td>637</td></tr></tbody></table></div>"
      ],
      "text/plain": [
       "shape: (5, 7)\n",
       "┌──────────────┬────────┬───────────┬───────────────────┬─────────────┬────────────┬───────────────┐\n",
       "│ product_type ┆ county ┆ eic_count ┆ installed_capacit ┆ is_business ┆ date       ┆ data_block_id │\n",
       "│ ---          ┆ ---    ┆ ---       ┆ y                 ┆ ---         ┆ ---        ┆ ---           │\n",
       "│ i64          ┆ i64    ┆ i64       ┆ ---               ┆ i64         ┆ str        ┆ i64           │\n",
       "│              ┆        ┆           ┆ f64               ┆             ┆            ┆               │\n",
       "╞══════════════╪════════╪═══════════╪═══════════════════╪═════════════╪════════════╪═══════════════╡\n",
       "│ 1            ┆ 15     ┆ 51        ┆ 415.6             ┆ 0           ┆ 2023-05-29 ┆ 637           │\n",
       "│ 3            ┆ 15     ┆ 161       ┆ 2035.75           ┆ 0           ┆ 2023-05-29 ┆ 637           │\n",
       "│ 0            ┆ 15     ┆ 15        ┆ 620.0             ┆ 1           ┆ 2023-05-29 ┆ 637           │\n",
       "│ 1            ┆ 15     ┆ 20        ┆ 624.5             ┆ 1           ┆ 2023-05-29 ┆ 637           │\n",
       "│ 3            ┆ 15     ┆ 55        ┆ 2188.2            ┆ 1           ┆ 2023-05-29 ┆ 637           │\n",
       "└──────────────┴────────┴───────────┴───────────────────┴─────────────┴────────────┴───────────────┘"
      ]
     },
     "execution_count": 31,
     "metadata": {},
     "output_type": "execute_result"
    }
   ],
   "source": [
    "dfs[\"client\"].tail()"
   ]
  },
  {
   "cell_type": "code",
   "execution_count": 41,
   "metadata": {},
   "outputs": [
    {
     "data": {
      "text/html": [
       "<div><style>\n",
       ".dataframe > thead > tr,\n",
       ".dataframe > tbody > tr {\n",
       "  text-align: right;\n",
       "  white-space: pre-wrap;\n",
       "}\n",
       "</style>\n",
       "<small>shape: (2_018_352, 9)</small><table border=\"1\" class=\"dataframe\"><thead><tr><th>county</th><th>is_business</th><th>product_type</th><th>target</th><th>is_consumption</th><th>datetime</th><th>data_block_id</th><th>row_id</th><th>prediction_unit_id</th></tr><tr><td>i64</td><td>i64</td><td>i64</td><td>f64</td><td>i64</td><td>str</td><td>i64</td><td>i64</td><td>i64</td></tr></thead><tbody><tr><td>0</td><td>0</td><td>1</td><td>0.713</td><td>0</td><td>&quot;2021-09-01 00:00:00&quot;</td><td>0</td><td>0</td><td>0</td></tr><tr><td>0</td><td>0</td><td>1</td><td>96.59</td><td>1</td><td>&quot;2021-09-01 00:00:00&quot;</td><td>0</td><td>1</td><td>0</td></tr><tr><td>0</td><td>0</td><td>2</td><td>0.0</td><td>0</td><td>&quot;2021-09-01 00:00:00&quot;</td><td>0</td><td>2</td><td>1</td></tr><tr><td>0</td><td>0</td><td>2</td><td>17.314</td><td>1</td><td>&quot;2021-09-01 00:00:00&quot;</td><td>0</td><td>3</td><td>1</td></tr><tr><td>0</td><td>0</td><td>3</td><td>2.904</td><td>0</td><td>&quot;2021-09-01 00:00:00&quot;</td><td>0</td><td>4</td><td>2</td></tr><tr><td>&hellip;</td><td>&hellip;</td><td>&hellip;</td><td>&hellip;</td><td>&hellip;</td><td>&hellip;</td><td>&hellip;</td><td>&hellip;</td><td>&hellip;</td></tr><tr><td>15</td><td>1</td><td>0</td><td>197.233</td><td>1</td><td>&quot;2023-05-31 23:00:00&quot;</td><td>637</td><td>2018347</td><td>64</td></tr><tr><td>15</td><td>1</td><td>1</td><td>0.0</td><td>0</td><td>&quot;2023-05-31 23:00:00&quot;</td><td>637</td><td>2018348</td><td>59</td></tr><tr><td>15</td><td>1</td><td>1</td><td>28.404</td><td>1</td><td>&quot;2023-05-31 23:00:00&quot;</td><td>637</td><td>2018349</td><td>59</td></tr><tr><td>15</td><td>1</td><td>3</td><td>0.0</td><td>0</td><td>&quot;2023-05-31 23:00:00&quot;</td><td>637</td><td>2018350</td><td>60</td></tr><tr><td>15</td><td>1</td><td>3</td><td>196.24</td><td>1</td><td>&quot;2023-05-31 23:00:00&quot;</td><td>637</td><td>2018351</td><td>60</td></tr></tbody></table></div>"
      ],
      "text/plain": [
       "shape: (2_018_352, 9)\n",
       "┌────────┬─────────────┬────────────┬─────────┬───┬────────────┬────────────┬─────────┬────────────┐\n",
       "│ county ┆ is_business ┆ product_ty ┆ target  ┆ … ┆ datetime   ┆ data_block ┆ row_id  ┆ prediction │\n",
       "│ ---    ┆ ---         ┆ pe         ┆ ---     ┆   ┆ ---        ┆ _id        ┆ ---     ┆ _unit_id   │\n",
       "│ i64    ┆ i64         ┆ ---        ┆ f64     ┆   ┆ str        ┆ ---        ┆ i64     ┆ ---        │\n",
       "│        ┆             ┆ i64        ┆         ┆   ┆            ┆ i64        ┆         ┆ i64        │\n",
       "╞════════╪═════════════╪════════════╪═════════╪═══╪════════════╪════════════╪═════════╪════════════╡\n",
       "│ 0      ┆ 0           ┆ 1          ┆ 0.713   ┆ … ┆ 2021-09-01 ┆ 0          ┆ 0       ┆ 0          │\n",
       "│        ┆             ┆            ┆         ┆   ┆ 00:00:00   ┆            ┆         ┆            │\n",
       "│ 0      ┆ 0           ┆ 1          ┆ 96.59   ┆ … ┆ 2021-09-01 ┆ 0          ┆ 1       ┆ 0          │\n",
       "│        ┆             ┆            ┆         ┆   ┆ 00:00:00   ┆            ┆         ┆            │\n",
       "│ 0      ┆ 0           ┆ 2          ┆ 0.0     ┆ … ┆ 2021-09-01 ┆ 0          ┆ 2       ┆ 1          │\n",
       "│        ┆             ┆            ┆         ┆   ┆ 00:00:00   ┆            ┆         ┆            │\n",
       "│ 0      ┆ 0           ┆ 2          ┆ 17.314  ┆ … ┆ 2021-09-01 ┆ 0          ┆ 3       ┆ 1          │\n",
       "│        ┆             ┆            ┆         ┆   ┆ 00:00:00   ┆            ┆         ┆            │\n",
       "│ 0      ┆ 0           ┆ 3          ┆ 2.904   ┆ … ┆ 2021-09-01 ┆ 0          ┆ 4       ┆ 2          │\n",
       "│        ┆             ┆            ┆         ┆   ┆ 00:00:00   ┆            ┆         ┆            │\n",
       "│ …      ┆ …           ┆ …          ┆ …       ┆ … ┆ …          ┆ …          ┆ …       ┆ …          │\n",
       "│ 15     ┆ 1           ┆ 0          ┆ 197.233 ┆ … ┆ 2023-05-31 ┆ 637        ┆ 2018347 ┆ 64         │\n",
       "│        ┆             ┆            ┆         ┆   ┆ 23:00:00   ┆            ┆         ┆            │\n",
       "│ 15     ┆ 1           ┆ 1          ┆ 0.0     ┆ … ┆ 2023-05-31 ┆ 637        ┆ 2018348 ┆ 59         │\n",
       "│        ┆             ┆            ┆         ┆   ┆ 23:00:00   ┆            ┆         ┆            │\n",
       "│ 15     ┆ 1           ┆ 1          ┆ 28.404  ┆ … ┆ 2023-05-31 ┆ 637        ┆ 2018349 ┆ 59         │\n",
       "│        ┆             ┆            ┆         ┆   ┆ 23:00:00   ┆            ┆         ┆            │\n",
       "│ 15     ┆ 1           ┆ 3          ┆ 0.0     ┆ … ┆ 2023-05-31 ┆ 637        ┆ 2018350 ┆ 60         │\n",
       "│        ┆             ┆            ┆         ┆   ┆ 23:00:00   ┆            ┆         ┆            │\n",
       "│ 15     ┆ 1           ┆ 3          ┆ 196.24  ┆ … ┆ 2023-05-31 ┆ 637        ┆ 2018351 ┆ 60         │\n",
       "│        ┆             ┆            ┆         ┆   ┆ 23:00:00   ┆            ┆         ┆            │\n",
       "└────────┴─────────────┴────────────┴─────────┴───┴────────────┴────────────┴─────────┴────────────┘"
      ]
     },
     "metadata": {},
     "output_type": "display_data"
    },
    {
     "data": {
      "text/html": [
       "<div><style>\n",
       ".dataframe > thead > tr,\n",
       ".dataframe > tbody > tr {\n",
       "  text-align: right;\n",
       "  white-space: pre-wrap;\n",
       "}\n",
       "</style>\n",
       "<small>shape: (15_286, 4)</small><table border=\"1\" class=\"dataframe\"><thead><tr><th>forecast_date</th><th>euros_per_mwh</th><th>origin_date</th><th>data_block_id</th></tr><tr><td>str</td><td>f64</td><td>str</td><td>i64</td></tr></thead><tbody><tr><td>&quot;2021-09-01 00:00:00&quot;</td><td>92.51</td><td>&quot;2021-08-31 00:00:00&quot;</td><td>1</td></tr><tr><td>&quot;2021-09-01 01:00:00&quot;</td><td>88.9</td><td>&quot;2021-08-31 01:00:00&quot;</td><td>1</td></tr><tr><td>&quot;2021-09-01 02:00:00&quot;</td><td>87.35</td><td>&quot;2021-08-31 02:00:00&quot;</td><td>1</td></tr><tr><td>&quot;2021-09-01 03:00:00&quot;</td><td>86.88</td><td>&quot;2021-08-31 03:00:00&quot;</td><td>1</td></tr><tr><td>&quot;2021-09-01 04:00:00&quot;</td><td>88.43</td><td>&quot;2021-08-31 04:00:00&quot;</td><td>1</td></tr><tr><td>&hellip;</td><td>&hellip;</td><td>&hellip;</td><td>&hellip;</td></tr><tr><td>&quot;2023-05-30 19:00:00&quot;</td><td>82.1</td><td>&quot;2023-05-29 19:00:00&quot;</td><td>637</td></tr><tr><td>&quot;2023-05-30 20:00:00&quot;</td><td>150.85</td><td>&quot;2023-05-29 20:00:00&quot;</td><td>637</td></tr><tr><td>&quot;2023-05-30 21:00:00&quot;</td><td>82.1</td><td>&quot;2023-05-29 21:00:00&quot;</td><td>637</td></tr><tr><td>&quot;2023-05-30 22:00:00&quot;</td><td>82.09</td><td>&quot;2023-05-29 22:00:00&quot;</td><td>637</td></tr><tr><td>&quot;2023-05-30 23:00:00&quot;</td><td>-1.29</td><td>&quot;2023-05-29 23:00:00&quot;</td><td>637</td></tr></tbody></table></div>"
      ],
      "text/plain": [
       "shape: (15_286, 4)\n",
       "┌─────────────────────┬───────────────┬─────────────────────┬───────────────┐\n",
       "│ forecast_date       ┆ euros_per_mwh ┆ origin_date         ┆ data_block_id │\n",
       "│ ---                 ┆ ---           ┆ ---                 ┆ ---           │\n",
       "│ str                 ┆ f64           ┆ str                 ┆ i64           │\n",
       "╞═════════════════════╪═══════════════╪═════════════════════╪═══════════════╡\n",
       "│ 2021-09-01 00:00:00 ┆ 92.51         ┆ 2021-08-31 00:00:00 ┆ 1             │\n",
       "│ 2021-09-01 01:00:00 ┆ 88.9          ┆ 2021-08-31 01:00:00 ┆ 1             │\n",
       "│ 2021-09-01 02:00:00 ┆ 87.35         ┆ 2021-08-31 02:00:00 ┆ 1             │\n",
       "│ 2021-09-01 03:00:00 ┆ 86.88         ┆ 2021-08-31 03:00:00 ┆ 1             │\n",
       "│ 2021-09-01 04:00:00 ┆ 88.43         ┆ 2021-08-31 04:00:00 ┆ 1             │\n",
       "│ …                   ┆ …             ┆ …                   ┆ …             │\n",
       "│ 2023-05-30 19:00:00 ┆ 82.1          ┆ 2023-05-29 19:00:00 ┆ 637           │\n",
       "│ 2023-05-30 20:00:00 ┆ 150.85        ┆ 2023-05-29 20:00:00 ┆ 637           │\n",
       "│ 2023-05-30 21:00:00 ┆ 82.1          ┆ 2023-05-29 21:00:00 ┆ 637           │\n",
       "│ 2023-05-30 22:00:00 ┆ 82.09         ┆ 2023-05-29 22:00:00 ┆ 637           │\n",
       "│ 2023-05-30 23:00:00 ┆ -1.29         ┆ 2023-05-29 23:00:00 ┆ 637           │\n",
       "└─────────────────────┴───────────────┴─────────────────────┴───────────────┘"
      ]
     },
     "metadata": {},
     "output_type": "display_data"
    }
   ],
   "source": [
    "display(dfs[\"train\"])\n",
    "display(dfs[\"electricity_prices\"])"
   ]
  },
  {
   "cell_type": "code",
   "execution_count": null,
   "metadata": {},
   "outputs": [
    {
     "name": "stdout",
     "output_type": "stream",
     "text": [
      "train:\n"
     ]
    },
    {
     "data": {
      "text/html": [
       "<div><style>\n",
       ".dataframe > thead > tr,\n",
       ".dataframe > tbody > tr {\n",
       "  text-align: right;\n",
       "  white-space: pre-wrap;\n",
       "}\n",
       "</style>\n",
       "<small>shape: (1, 9)</small><table border=\"1\" class=\"dataframe\"><thead><tr><th>county</th><th>is_business</th><th>product_type</th><th>target</th><th>is_consumption</th><th>datetime</th><th>data_block_id</th><th>row_id</th><th>prediction_unit_id</th></tr><tr><td>i64</td><td>i64</td><td>i64</td><td>f64</td><td>i64</td><td>str</td><td>i64</td><td>i64</td><td>i64</td></tr></thead><tbody><tr><td>0</td><td>0</td><td>1</td><td>0.713</td><td>0</td><td>&quot;2021-09-01 00:00:00&quot;</td><td>0</td><td>0</td><td>0</td></tr></tbody></table></div>"
      ],
      "text/plain": [
       "shape: (1, 9)\n",
       "┌────────┬─────────────┬─────────────┬────────┬───┬─────────────┬────────────┬────────┬────────────┐\n",
       "│ county ┆ is_business ┆ product_typ ┆ target ┆ … ┆ datetime    ┆ data_block ┆ row_id ┆ prediction │\n",
       "│ ---    ┆ ---         ┆ e           ┆ ---    ┆   ┆ ---         ┆ _id        ┆ ---    ┆ _unit_id   │\n",
       "│ i64    ┆ i64         ┆ ---         ┆ f64    ┆   ┆ str         ┆ ---        ┆ i64    ┆ ---        │\n",
       "│        ┆             ┆ i64         ┆        ┆   ┆             ┆ i64        ┆        ┆ i64        │\n",
       "╞════════╪═════════════╪═════════════╪════════╪═══╪═════════════╪════════════╪════════╪════════════╡\n",
       "│ 0      ┆ 0           ┆ 1           ┆ 0.713  ┆ … ┆ 2021-09-01  ┆ 0          ┆ 0      ┆ 0          │\n",
       "│        ┆             ┆             ┆        ┆   ┆ 00:00:00    ┆            ┆        ┆            │\n",
       "└────────┴─────────────┴─────────────┴────────┴───┴─────────────┴────────────┴────────┴────────────┘"
      ]
     },
     "metadata": {},
     "output_type": "display_data"
    },
    {
     "name": "stdout",
     "output_type": "stream",
     "text": [
      "gas_prices:\n"
     ]
    },
    {
     "data": {
      "text/html": [
       "<div><style>\n",
       ".dataframe > thead > tr,\n",
       ".dataframe > tbody > tr {\n",
       "  text-align: right;\n",
       "  white-space: pre-wrap;\n",
       "}\n",
       "</style>\n",
       "<small>shape: (1, 5)</small><table border=\"1\" class=\"dataframe\"><thead><tr><th>forecast_date</th><th>lowest_price_per_mwh</th><th>highest_price_per_mwh</th><th>origin_date</th><th>data_block_id</th></tr><tr><td>str</td><td>f64</td><td>f64</td><td>str</td><td>i64</td></tr></thead><tbody><tr><td>&quot;2021-09-01&quot;</td><td>45.23</td><td>46.32</td><td>&quot;2021-08-31&quot;</td><td>1</td></tr></tbody></table></div>"
      ],
      "text/plain": [
       "shape: (1, 5)\n",
       "┌───────────────┬──────────────────────┬───────────────────────┬─────────────┬───────────────┐\n",
       "│ forecast_date ┆ lowest_price_per_mwh ┆ highest_price_per_mwh ┆ origin_date ┆ data_block_id │\n",
       "│ ---           ┆ ---                  ┆ ---                   ┆ ---         ┆ ---           │\n",
       "│ str           ┆ f64                  ┆ f64                   ┆ str         ┆ i64           │\n",
       "╞═══════════════╪══════════════════════╪═══════════════════════╪═════════════╪═══════════════╡\n",
       "│ 2021-09-01    ┆ 45.23                ┆ 46.32                 ┆ 2021-08-31  ┆ 1             │\n",
       "└───────────────┴──────────────────────┴───────────────────────┴─────────────┴───────────────┘"
      ]
     },
     "metadata": {},
     "output_type": "display_data"
    },
    {
     "name": "stdout",
     "output_type": "stream",
     "text": [
      "client:\n"
     ]
    },
    {
     "data": {
      "text/html": [
       "<div><style>\n",
       ".dataframe > thead > tr,\n",
       ".dataframe > tbody > tr {\n",
       "  text-align: right;\n",
       "  white-space: pre-wrap;\n",
       "}\n",
       "</style>\n",
       "<small>shape: (1, 7)</small><table border=\"1\" class=\"dataframe\"><thead><tr><th>product_type</th><th>county</th><th>eic_count</th><th>installed_capacity</th><th>is_business</th><th>date</th><th>data_block_id</th></tr><tr><td>i64</td><td>i64</td><td>i64</td><td>f64</td><td>i64</td><td>str</td><td>i64</td></tr></thead><tbody><tr><td>1</td><td>0</td><td>108</td><td>952.89</td><td>0</td><td>&quot;2021-09-01&quot;</td><td>2</td></tr></tbody></table></div>"
      ],
      "text/plain": [
       "shape: (1, 7)\n",
       "┌──────────────┬────────┬───────────┬───────────────────┬─────────────┬────────────┬───────────────┐\n",
       "│ product_type ┆ county ┆ eic_count ┆ installed_capacit ┆ is_business ┆ date       ┆ data_block_id │\n",
       "│ ---          ┆ ---    ┆ ---       ┆ y                 ┆ ---         ┆ ---        ┆ ---           │\n",
       "│ i64          ┆ i64    ┆ i64       ┆ ---               ┆ i64         ┆ str        ┆ i64           │\n",
       "│              ┆        ┆           ┆ f64               ┆             ┆            ┆               │\n",
       "╞══════════════╪════════╪═══════════╪═══════════════════╪═════════════╪════════════╪═══════════════╡\n",
       "│ 1            ┆ 0      ┆ 108       ┆ 952.89            ┆ 0           ┆ 2021-09-01 ┆ 2             │\n",
       "└──────────────┴────────┴───────────┴───────────────────┴─────────────┴────────────┴───────────────┘"
      ]
     },
     "metadata": {},
     "output_type": "display_data"
    },
    {
     "name": "stdout",
     "output_type": "stream",
     "text": [
      "electricity_prices:\n"
     ]
    },
    {
     "data": {
      "text/html": [
       "<div><style>\n",
       ".dataframe > thead > tr,\n",
       ".dataframe > tbody > tr {\n",
       "  text-align: right;\n",
       "  white-space: pre-wrap;\n",
       "}\n",
       "</style>\n",
       "<small>shape: (1, 4)</small><table border=\"1\" class=\"dataframe\"><thead><tr><th>forecast_date</th><th>euros_per_mwh</th><th>origin_date</th><th>data_block_id</th></tr><tr><td>str</td><td>f64</td><td>str</td><td>i64</td></tr></thead><tbody><tr><td>&quot;2021-09-01 00:00:00&quot;</td><td>92.51</td><td>&quot;2021-08-31 00:00:00&quot;</td><td>1</td></tr></tbody></table></div>"
      ],
      "text/plain": [
       "shape: (1, 4)\n",
       "┌─────────────────────┬───────────────┬─────────────────────┬───────────────┐\n",
       "│ forecast_date       ┆ euros_per_mwh ┆ origin_date         ┆ data_block_id │\n",
       "│ ---                 ┆ ---           ┆ ---                 ┆ ---           │\n",
       "│ str                 ┆ f64           ┆ str                 ┆ i64           │\n",
       "╞═════════════════════╪═══════════════╪═════════════════════╪═══════════════╡\n",
       "│ 2021-09-01 00:00:00 ┆ 92.51         ┆ 2021-08-31 00:00:00 ┆ 1             │\n",
       "└─────────────────────┴───────────────┴─────────────────────┴───────────────┘"
      ]
     },
     "metadata": {},
     "output_type": "display_data"
    },
    {
     "name": "stdout",
     "output_type": "stream",
     "text": [
      "forecast_weather:\n"
     ]
    },
    {
     "data": {
      "text/html": [
       "<div><style>\n",
       ".dataframe > thead > tr,\n",
       ".dataframe > tbody > tr {\n",
       "  text-align: right;\n",
       "  white-space: pre-wrap;\n",
       "}\n",
       "</style>\n",
       "<small>shape: (1, 18)</small><table border=\"1\" class=\"dataframe\"><thead><tr><th>latitude</th><th>longitude</th><th>origin_datetime</th><th>hours_ahead</th><th>temperature</th><th>dewpoint</th><th>cloudcover_high</th><th>cloudcover_low</th><th>cloudcover_mid</th><th>cloudcover_total</th><th>10_metre_u_wind_component</th><th>10_metre_v_wind_component</th><th>data_block_id</th><th>forecast_datetime</th><th>direct_solar_radiation</th><th>surface_solar_radiation_downwards</th><th>snowfall</th><th>total_precipitation</th></tr><tr><td>f64</td><td>f64</td><td>str</td><td>i64</td><td>f64</td><td>f64</td><td>f64</td><td>f64</td><td>f64</td><td>f64</td><td>f64</td><td>f64</td><td>i64</td><td>str</td><td>f64</td><td>f64</td><td>f64</td><td>f64</td></tr></thead><tbody><tr><td>57.6</td><td>21.7</td><td>&quot;2021-09-01 02:00:00&quot;</td><td>1</td><td>15.655786</td><td>11.553613</td><td>0.904816</td><td>0.019714</td><td>0.0</td><td>0.905899</td><td>-0.411328</td><td>-9.106137</td><td>1</td><td>&quot;2021-09-01 03:00:00&quot;</td><td>0.0</td><td>0.0</td><td>0.0</td><td>0.0</td></tr></tbody></table></div>"
      ],
      "text/plain": [
       "shape: (1, 18)\n",
       "┌──────────┬───────────┬────────────┬───────────┬───┬───────────┬───────────┬──────────┬───────────┐\n",
       "│ latitude ┆ longitude ┆ origin_dat ┆ hours_ahe ┆ … ┆ direct_so ┆ surface_s ┆ snowfall ┆ total_pre │\n",
       "│ ---      ┆ ---       ┆ etime      ┆ ad        ┆   ┆ lar_radia ┆ olar_radi ┆ ---      ┆ cipitatio │\n",
       "│ f64      ┆ f64       ┆ ---        ┆ ---       ┆   ┆ tion      ┆ ation_dow ┆ f64      ┆ n         │\n",
       "│          ┆           ┆ str        ┆ i64       ┆   ┆ ---       ┆ nwa…      ┆          ┆ ---       │\n",
       "│          ┆           ┆            ┆           ┆   ┆ f64       ┆ ---       ┆          ┆ f64       │\n",
       "│          ┆           ┆            ┆           ┆   ┆           ┆ f64       ┆          ┆           │\n",
       "╞══════════╪═══════════╪════════════╪═══════════╪═══╪═══════════╪═══════════╪══════════╪═══════════╡\n",
       "│ 57.6     ┆ 21.7      ┆ 2021-09-01 ┆ 1         ┆ … ┆ 0.0       ┆ 0.0       ┆ 0.0      ┆ 0.0       │\n",
       "│          ┆           ┆ 02:00:00   ┆           ┆   ┆           ┆           ┆          ┆           │\n",
       "└──────────┴───────────┴────────────┴───────────┴───┴───────────┴───────────┴──────────┴───────────┘"
      ]
     },
     "metadata": {},
     "output_type": "display_data"
    },
    {
     "name": "stdout",
     "output_type": "stream",
     "text": [
      "historical_weather:\n"
     ]
    },
    {
     "data": {
      "text/html": [
       "<div><style>\n",
       ".dataframe > thead > tr,\n",
       ".dataframe > tbody > tr {\n",
       "  text-align: right;\n",
       "  white-space: pre-wrap;\n",
       "}\n",
       "</style>\n",
       "<small>shape: (1, 18)</small><table border=\"1\" class=\"dataframe\"><thead><tr><th>datetime</th><th>temperature</th><th>dewpoint</th><th>rain</th><th>snowfall</th><th>surface_pressure</th><th>cloudcover_total</th><th>cloudcover_low</th><th>cloudcover_mid</th><th>cloudcover_high</th><th>windspeed_10m</th><th>winddirection_10m</th><th>shortwave_radiation</th><th>direct_solar_radiation</th><th>diffuse_radiation</th><th>latitude</th><th>longitude</th><th>data_block_id</th></tr><tr><td>str</td><td>f64</td><td>f64</td><td>f64</td><td>f64</td><td>f64</td><td>i64</td><td>i64</td><td>i64</td><td>i64</td><td>f64</td><td>i64</td><td>f64</td><td>f64</td><td>f64</td><td>f64</td><td>f64</td><td>f64</td></tr></thead><tbody><tr><td>&quot;2021-09-01 00:00:00&quot;</td><td>14.2</td><td>11.6</td><td>0.0</td><td>0.0</td><td>1015.9</td><td>31</td><td>31</td><td>0</td><td>11</td><td>7.083333</td><td>8</td><td>0.0</td><td>0.0</td><td>0.0</td><td>57.6</td><td>21.7</td><td>1.0</td></tr></tbody></table></div>"
      ],
      "text/plain": [
       "shape: (1, 18)\n",
       "┌─────────────┬─────────────┬──────────┬──────┬───┬────────────┬──────────┬───────────┬────────────┐\n",
       "│ datetime    ┆ temperature ┆ dewpoint ┆ rain ┆ … ┆ diffuse_ra ┆ latitude ┆ longitude ┆ data_block │\n",
       "│ ---         ┆ ---         ┆ ---      ┆ ---  ┆   ┆ diation    ┆ ---      ┆ ---       ┆ _id        │\n",
       "│ str         ┆ f64         ┆ f64      ┆ f64  ┆   ┆ ---        ┆ f64      ┆ f64       ┆ ---        │\n",
       "│             ┆             ┆          ┆      ┆   ┆ f64        ┆          ┆           ┆ f64        │\n",
       "╞═════════════╪═════════════╪══════════╪══════╪═══╪════════════╪══════════╪═══════════╪════════════╡\n",
       "│ 2021-09-01  ┆ 14.2        ┆ 11.6     ┆ 0.0  ┆ … ┆ 0.0        ┆ 57.6     ┆ 21.7      ┆ 1.0        │\n",
       "│ 00:00:00    ┆             ┆          ┆      ┆   ┆            ┆          ┆           ┆            │\n",
       "└─────────────┴─────────────┴──────────┴──────┴───┴────────────┴──────────┴───────────┴────────────┘"
      ]
     },
     "metadata": {},
     "output_type": "display_data"
    },
    {
     "name": "stdout",
     "output_type": "stream",
     "text": [
      "county_lon_lats:\n"
     ]
    },
    {
     "data": {
      "text/html": [
       "<div><style>\n",
       ".dataframe > thead > tr,\n",
       ".dataframe > tbody > tr {\n",
       "  text-align: right;\n",
       "  white-space: pre-wrap;\n",
       "}\n",
       "</style>\n",
       "<small>shape: (1, 4)</small><table border=\"1\" class=\"dataframe\"><thead><tr><th></th><th>county</th><th>longitude</th><th>latitude</th></tr><tr><td>i64</td><td>i64</td><td>f64</td><td>f64</td></tr></thead><tbody><tr><td>0</td><td>0</td><td>24.2</td><td>59.1</td></tr></tbody></table></div>"
      ],
      "text/plain": [
       "shape: (1, 4)\n",
       "┌─────┬────────┬───────────┬──────────┐\n",
       "│     ┆ county ┆ longitude ┆ latitude │\n",
       "│ --- ┆ ---    ┆ ---       ┆ ---      │\n",
       "│ i64 ┆ i64    ┆ f64       ┆ f64      │\n",
       "╞═════╪════════╪═══════════╪══════════╡\n",
       "│ 0   ┆ 0      ┆ 24.2      ┆ 59.1     │\n",
       "└─────┴────────┴───────────┴──────────┘"
      ]
     },
     "metadata": {},
     "output_type": "display_data"
    },
    {
     "name": "stdout",
     "output_type": "stream",
     "text": [
      "weather_station:\n"
     ]
    },
    {
     "data": {
      "text/html": [
       "<div><style>\n",
       ".dataframe > thead > tr,\n",
       ".dataframe > tbody > tr {\n",
       "  text-align: right;\n",
       "  white-space: pre-wrap;\n",
       "}\n",
       "</style>\n",
       "<small>shape: (1, 4)</small><table border=\"1\" class=\"dataframe\"><thead><tr><th>county_name</th><th>longitude</th><th>latitude</th><th>county</th></tr><tr><td>str</td><td>f64</td><td>f64</td><td>i64</td></tr></thead><tbody><tr><td>null</td><td>21.7</td><td>57.6</td><td>null</td></tr></tbody></table></div>"
      ],
      "text/plain": [
       "shape: (1, 4)\n",
       "┌─────────────┬───────────┬──────────┬────────┐\n",
       "│ county_name ┆ longitude ┆ latitude ┆ county │\n",
       "│ ---         ┆ ---       ┆ ---      ┆ ---    │\n",
       "│ str         ┆ f64       ┆ f64      ┆ i64    │\n",
       "╞═════════════╪═══════════╪══════════╪════════╡\n",
       "│ null        ┆ 21.7      ┆ 57.6     ┆ null   │\n",
       "└─────────────┴───────────┴──────────┴────────┘"
      ]
     },
     "metadata": {},
     "output_type": "display_data"
    }
   ],
   "source": [
    "for key in dfs.keys():\n",
    "    print(f\"{key}:\")\n",
    "    display(dfs[key].head(1))"
   ]
  },
  {
   "cell_type": "code",
   "execution_count": null,
   "metadata": {},
   "outputs": [
    {
     "data": {
      "text/html": [
       "<div><style>\n",
       ".dataframe > thead > tr,\n",
       ".dataframe > tbody > tr {\n",
       "  text-align: right;\n",
       "  white-space: pre-wrap;\n",
       "}\n",
       "</style>\n",
       "<small>shape: (41_919, 7)</small><table border=\"1\" class=\"dataframe\"><thead><tr><th>product_type</th><th>county</th><th>eic_count</th><th>installed_capacity</th><th>is_business</th><th>date</th><th>data_block_id</th></tr><tr><td>i64</td><td>i64</td><td>i64</td><td>f64</td><td>i64</td><td>date</td><td>i64</td></tr></thead><tbody><tr><td>1</td><td>0</td><td>108</td><td>952.89</td><td>0</td><td>2021-09-01</td><td>2</td></tr><tr><td>2</td><td>0</td><td>17</td><td>166.4</td><td>0</td><td>2021-09-01</td><td>2</td></tr><tr><td>3</td><td>0</td><td>688</td><td>7207.88</td><td>0</td><td>2021-09-01</td><td>2</td></tr><tr><td>0</td><td>0</td><td>5</td><td>400.0</td><td>1</td><td>2021-09-01</td><td>2</td></tr><tr><td>1</td><td>0</td><td>43</td><td>1411.0</td><td>1</td><td>2021-09-01</td><td>2</td></tr><tr><td>&hellip;</td><td>&hellip;</td><td>&hellip;</td><td>&hellip;</td><td>&hellip;</td><td>&hellip;</td><td>&hellip;</td></tr><tr><td>1</td><td>15</td><td>51</td><td>415.6</td><td>0</td><td>2023-05-29</td><td>637</td></tr><tr><td>3</td><td>15</td><td>161</td><td>2035.75</td><td>0</td><td>2023-05-29</td><td>637</td></tr><tr><td>0</td><td>15</td><td>15</td><td>620.0</td><td>1</td><td>2023-05-29</td><td>637</td></tr><tr><td>1</td><td>15</td><td>20</td><td>624.5</td><td>1</td><td>2023-05-29</td><td>637</td></tr><tr><td>3</td><td>15</td><td>55</td><td>2188.2</td><td>1</td><td>2023-05-29</td><td>637</td></tr></tbody></table></div>"
      ],
      "text/plain": [
       "shape: (41_919, 7)\n",
       "┌──────────────┬────────┬───────────┬───────────────────┬─────────────┬────────────┬───────────────┐\n",
       "│ product_type ┆ county ┆ eic_count ┆ installed_capacit ┆ is_business ┆ date       ┆ data_block_id │\n",
       "│ ---          ┆ ---    ┆ ---       ┆ y                 ┆ ---         ┆ ---        ┆ ---           │\n",
       "│ i64          ┆ i64    ┆ i64       ┆ ---               ┆ i64         ┆ date       ┆ i64           │\n",
       "│              ┆        ┆           ┆ f64               ┆             ┆            ┆               │\n",
       "╞══════════════╪════════╪═══════════╪═══════════════════╪═════════════╪════════════╪═══════════════╡\n",
       "│ 1            ┆ 0      ┆ 108       ┆ 952.89            ┆ 0           ┆ 2021-09-01 ┆ 2             │\n",
       "│ 2            ┆ 0      ┆ 17        ┆ 166.4             ┆ 0           ┆ 2021-09-01 ┆ 2             │\n",
       "│ 3            ┆ 0      ┆ 688       ┆ 7207.88           ┆ 0           ┆ 2021-09-01 ┆ 2             │\n",
       "│ 0            ┆ 0      ┆ 5         ┆ 400.0             ┆ 1           ┆ 2021-09-01 ┆ 2             │\n",
       "│ 1            ┆ 0      ┆ 43        ┆ 1411.0            ┆ 1           ┆ 2021-09-01 ┆ 2             │\n",
       "│ …            ┆ …      ┆ …         ┆ …                 ┆ …           ┆ …          ┆ …             │\n",
       "│ 1            ┆ 15     ┆ 51        ┆ 415.6             ┆ 0           ┆ 2023-05-29 ┆ 637           │\n",
       "│ 3            ┆ 15     ┆ 161       ┆ 2035.75           ┆ 0           ┆ 2023-05-29 ┆ 637           │\n",
       "│ 0            ┆ 15     ┆ 15        ┆ 620.0             ┆ 1           ┆ 2023-05-29 ┆ 637           │\n",
       "│ 1            ┆ 15     ┆ 20        ┆ 624.5             ┆ 1           ┆ 2023-05-29 ┆ 637           │\n",
       "│ 3            ┆ 15     ┆ 55        ┆ 2188.2            ┆ 1           ┆ 2023-05-29 ┆ 637           │\n",
       "└──────────────┴────────┴───────────┴───────────────────┴─────────────┴────────────┴───────────────┘"
      ]
     },
     "execution_count": 20,
     "metadata": {},
     "output_type": "execute_result"
    }
   ],
   "source": [
    "dfs[\"client\"].with_columns(\n",
    "    pl.col(\"date\").str.strptime(pl.Date)\n",
    ")\n",
    ".0"
   ]
  },
  {
   "cell_type": "code",
   "execution_count": 17,
   "metadata": {},
   "outputs": [
    {
     "data": {
      "text/html": [
       "<div><style>\n",
       ".dataframe > thead > tr,\n",
       ".dataframe > tbody > tr {\n",
       "  text-align: right;\n",
       "  white-space: pre-wrap;\n",
       "}\n",
       "</style>\n",
       "<small>shape: (636, 7)</small><table border=\"1\" class=\"dataframe\"><thead><tr><th>product_type</th><th>county</th><th>eic_count</th><th>installed_capacity</th><th>is_business</th><th>date</th><th>data_block_id</th></tr><tr><td>i64</td><td>i64</td><td>i64</td><td>f64</td><td>i64</td><td>str</td><td>i64</td></tr></thead><tbody><tr><td>1</td><td>0</td><td>108</td><td>952.89</td><td>0</td><td>&quot;2021-09-01&quot;</td><td>2</td></tr><tr><td>1</td><td>0</td><td>108</td><td>952.89</td><td>0</td><td>&quot;2021-09-02&quot;</td><td>3</td></tr><tr><td>1</td><td>0</td><td>108</td><td>952.89</td><td>0</td><td>&quot;2021-09-03&quot;</td><td>4</td></tr><tr><td>1</td><td>0</td><td>108</td><td>952.89</td><td>0</td><td>&quot;2021-09-04&quot;</td><td>5</td></tr><tr><td>1</td><td>0</td><td>108</td><td>952.89</td><td>0</td><td>&quot;2021-09-05&quot;</td><td>6</td></tr><tr><td>&hellip;</td><td>&hellip;</td><td>&hellip;</td><td>&hellip;</td><td>&hellip;</td><td>&hellip;</td><td>&hellip;</td></tr><tr><td>1</td><td>0</td><td>508</td><td>4968.215</td><td>0</td><td>&quot;2023-05-25&quot;</td><td>633</td></tr><tr><td>1</td><td>0</td><td>507</td><td>4960.215</td><td>0</td><td>&quot;2023-05-26&quot;</td><td>634</td></tr><tr><td>1</td><td>0</td><td>507</td><td>4960.215</td><td>0</td><td>&quot;2023-05-27&quot;</td><td>635</td></tr><tr><td>1</td><td>0</td><td>508</td><td>4964.215</td><td>0</td><td>&quot;2023-05-28&quot;</td><td>636</td></tr><tr><td>1</td><td>0</td><td>508</td><td>4964.215</td><td>0</td><td>&quot;2023-05-29&quot;</td><td>637</td></tr></tbody></table></div>"
      ],
      "text/plain": [
       "shape: (636, 7)\n",
       "┌──────────────┬────────┬───────────┬───────────────────┬─────────────┬────────────┬───────────────┐\n",
       "│ product_type ┆ county ┆ eic_count ┆ installed_capacit ┆ is_business ┆ date       ┆ data_block_id │\n",
       "│ ---          ┆ ---    ┆ ---       ┆ y                 ┆ ---         ┆ ---        ┆ ---           │\n",
       "│ i64          ┆ i64    ┆ i64       ┆ ---               ┆ i64         ┆ str        ┆ i64           │\n",
       "│              ┆        ┆           ┆ f64               ┆             ┆            ┆               │\n",
       "╞══════════════╪════════╪═══════════╪═══════════════════╪═════════════╪════════════╪═══════════════╡\n",
       "│ 1            ┆ 0      ┆ 108       ┆ 952.89            ┆ 0           ┆ 2021-09-01 ┆ 2             │\n",
       "│ 1            ┆ 0      ┆ 108       ┆ 952.89            ┆ 0           ┆ 2021-09-02 ┆ 3             │\n",
       "│ 1            ┆ 0      ┆ 108       ┆ 952.89            ┆ 0           ┆ 2021-09-03 ┆ 4             │\n",
       "│ 1            ┆ 0      ┆ 108       ┆ 952.89            ┆ 0           ┆ 2021-09-04 ┆ 5             │\n",
       "│ 1            ┆ 0      ┆ 108       ┆ 952.89            ┆ 0           ┆ 2021-09-05 ┆ 6             │\n",
       "│ …            ┆ …      ┆ …         ┆ …                 ┆ …           ┆ …          ┆ …             │\n",
       "│ 1            ┆ 0      ┆ 508       ┆ 4968.215          ┆ 0           ┆ 2023-05-25 ┆ 633           │\n",
       "│ 1            ┆ 0      ┆ 507       ┆ 4960.215          ┆ 0           ┆ 2023-05-26 ┆ 634           │\n",
       "│ 1            ┆ 0      ┆ 507       ┆ 4960.215          ┆ 0           ┆ 2023-05-27 ┆ 635           │\n",
       "│ 1            ┆ 0      ┆ 508       ┆ 4964.215          ┆ 0           ┆ 2023-05-28 ┆ 636           │\n",
       "│ 1            ┆ 0      ┆ 508       ┆ 4964.215          ┆ 0           ┆ 2023-05-29 ┆ 637           │\n",
       "└──────────────┴────────┴───────────┴───────────────────┴─────────────┴────────────┴───────────────┘"
      ]
     },
     "metadata": {},
     "output_type": "display_data"
    }
   ],
   "source": [
    "display(dfs[\"client\"].filter(\n",
    "    (pl.col(\"product_type\") == 1) & \n",
    "    (pl.col(\"county\") == 0) & \n",
    "    (pl.col(\"is_business\") == 0)\n",
    "))"
   ]
  },
  {
   "cell_type": "code",
   "execution_count": 34,
   "metadata": {},
   "outputs": [
    {
     "data": {
      "text/html": [
       "<div><style>\n",
       ".dataframe > thead > tr,\n",
       ".dataframe > tbody > tr {\n",
       "  text-align: right;\n",
       "  white-space: pre-wrap;\n",
       "}\n",
       "</style>\n",
       "<small>shape: (2_928, 9)</small><table border=\"1\" class=\"dataframe\"><thead><tr><th>county</th><th>is_business</th><th>product_type</th><th>target</th><th>is_consumption</th><th>datetime</th><th>data_block_id</th><th>row_id</th><th>prediction_unit_id</th></tr><tr><td>i64</td><td>i64</td><td>i64</td><td>f64</td><td>i64</td><td>str</td><td>i64</td><td>i64</td><td>i64</td></tr></thead><tbody><tr><td>0</td><td>0</td><td>1</td><td>1.687</td><td>0</td><td>&quot;2021-09-02 00:00:00&quot;</td><td>1</td><td>2928</td><td>0</td></tr><tr><td>0</td><td>0</td><td>1</td><td>109.366</td><td>1</td><td>&quot;2021-09-02 00:00:00&quot;</td><td>1</td><td>2929</td><td>0</td></tr><tr><td>0</td><td>0</td><td>2</td><td>0.0</td><td>0</td><td>&quot;2021-09-02 00:00:00&quot;</td><td>1</td><td>2930</td><td>1</td></tr><tr><td>0</td><td>0</td><td>2</td><td>21.008</td><td>1</td><td>&quot;2021-09-02 00:00:00&quot;</td><td>1</td><td>2931</td><td>1</td></tr><tr><td>0</td><td>0</td><td>3</td><td>1.003</td><td>0</td><td>&quot;2021-09-02 00:00:00&quot;</td><td>1</td><td>2932</td><td>2</td></tr><tr><td>&hellip;</td><td>&hellip;</td><td>&hellip;</td><td>&hellip;</td><td>&hellip;</td><td>&hellip;</td><td>&hellip;</td><td>&hellip;</td><td>&hellip;</td></tr><tr><td>15</td><td>0</td><td>3</td><td>59.302</td><td>1</td><td>&quot;2021-09-02 23:00:00&quot;</td><td>1</td><td>5851</td><td>58</td></tr><tr><td>15</td><td>1</td><td>1</td><td>0.0</td><td>0</td><td>&quot;2021-09-02 23:00:00&quot;</td><td>1</td><td>5852</td><td>59</td></tr><tr><td>15</td><td>1</td><td>1</td><td>21.756</td><td>1</td><td>&quot;2021-09-02 23:00:00&quot;</td><td>1</td><td>5853</td><td>59</td></tr><tr><td>15</td><td>1</td><td>3</td><td>0.0</td><td>0</td><td>&quot;2021-09-02 23:00:00&quot;</td><td>1</td><td>5854</td><td>60</td></tr><tr><td>15</td><td>1</td><td>3</td><td>295.494</td><td>1</td><td>&quot;2021-09-02 23:00:00&quot;</td><td>1</td><td>5855</td><td>60</td></tr></tbody></table></div>"
      ],
      "text/plain": [
       "shape: (2_928, 9)\n",
       "┌────────┬─────────────┬─────────────┬─────────┬───┬────────────┬────────────┬────────┬────────────┐\n",
       "│ county ┆ is_business ┆ product_typ ┆ target  ┆ … ┆ datetime   ┆ data_block ┆ row_id ┆ prediction │\n",
       "│ ---    ┆ ---         ┆ e           ┆ ---     ┆   ┆ ---        ┆ _id        ┆ ---    ┆ _unit_id   │\n",
       "│ i64    ┆ i64         ┆ ---         ┆ f64     ┆   ┆ str        ┆ ---        ┆ i64    ┆ ---        │\n",
       "│        ┆             ┆ i64         ┆         ┆   ┆            ┆ i64        ┆        ┆ i64        │\n",
       "╞════════╪═════════════╪═════════════╪═════════╪═══╪════════════╪════════════╪════════╪════════════╡\n",
       "│ 0      ┆ 0           ┆ 1           ┆ 1.687   ┆ … ┆ 2021-09-02 ┆ 1          ┆ 2928   ┆ 0          │\n",
       "│        ┆             ┆             ┆         ┆   ┆ 00:00:00   ┆            ┆        ┆            │\n",
       "│ 0      ┆ 0           ┆ 1           ┆ 109.366 ┆ … ┆ 2021-09-02 ┆ 1          ┆ 2929   ┆ 0          │\n",
       "│        ┆             ┆             ┆         ┆   ┆ 00:00:00   ┆            ┆        ┆            │\n",
       "│ 0      ┆ 0           ┆ 2           ┆ 0.0     ┆ … ┆ 2021-09-02 ┆ 1          ┆ 2930   ┆ 1          │\n",
       "│        ┆             ┆             ┆         ┆   ┆ 00:00:00   ┆            ┆        ┆            │\n",
       "│ 0      ┆ 0           ┆ 2           ┆ 21.008  ┆ … ┆ 2021-09-02 ┆ 1          ┆ 2931   ┆ 1          │\n",
       "│        ┆             ┆             ┆         ┆   ┆ 00:00:00   ┆            ┆        ┆            │\n",
       "│ 0      ┆ 0           ┆ 3           ┆ 1.003   ┆ … ┆ 2021-09-02 ┆ 1          ┆ 2932   ┆ 2          │\n",
       "│        ┆             ┆             ┆         ┆   ┆ 00:00:00   ┆            ┆        ┆            │\n",
       "│ …      ┆ …           ┆ …           ┆ …       ┆ … ┆ …          ┆ …          ┆ …      ┆ …          │\n",
       "│ 15     ┆ 0           ┆ 3           ┆ 59.302  ┆ … ┆ 2021-09-02 ┆ 1          ┆ 5851   ┆ 58         │\n",
       "│        ┆             ┆             ┆         ┆   ┆ 23:00:00   ┆            ┆        ┆            │\n",
       "│ 15     ┆ 1           ┆ 1           ┆ 0.0     ┆ … ┆ 2021-09-02 ┆ 1          ┆ 5852   ┆ 59         │\n",
       "│        ┆             ┆             ┆         ┆   ┆ 23:00:00   ┆            ┆        ┆            │\n",
       "│ 15     ┆ 1           ┆ 1           ┆ 21.756  ┆ … ┆ 2021-09-02 ┆ 1          ┆ 5853   ┆ 59         │\n",
       "│        ┆             ┆             ┆         ┆   ┆ 23:00:00   ┆            ┆        ┆            │\n",
       "│ 15     ┆ 1           ┆ 3           ┆ 0.0     ┆ … ┆ 2021-09-02 ┆ 1          ┆ 5854   ┆ 60         │\n",
       "│        ┆             ┆             ┆         ┆   ┆ 23:00:00   ┆            ┆        ┆            │\n",
       "│ 15     ┆ 1           ┆ 3           ┆ 295.494 ┆ … ┆ 2021-09-02 ┆ 1          ┆ 5855   ┆ 60         │\n",
       "│        ┆             ┆             ┆         ┆   ┆ 23:00:00   ┆            ┆        ┆            │\n",
       "└────────┴─────────────┴─────────────┴─────────┴───┴────────────┴────────────┴────────┴────────────┘"
      ]
     },
     "execution_count": 34,
     "metadata": {},
     "output_type": "execute_result"
    }
   ],
   "source": [
    "dfs[\"train\"].filter(\n",
    "    pl.col(\"data_block_id\") == 1\n",
    ")"
   ]
  },
  {
   "cell_type": "code",
   "execution_count": 13,
   "metadata": {},
   "outputs": [
    {
     "data": {
      "text/html": [
       "<div><style>\n",
       ".dataframe > thead > tr,\n",
       ".dataframe > tbody > tr {\n",
       "  text-align: right;\n",
       "  white-space: pre-wrap;\n",
       "}\n",
       "</style>\n",
       "<small>shape: (1, 2)</small><table border=\"1\" class=\"dataframe\"><thead><tr><th>origin_datetime</th><th>hours_ahead</th></tr><tr><td>str</td><td>f64</td></tr></thead><tbody><tr><td>&quot;2021-09-01 02:00:00&quot;</td><td>24.5</td></tr></tbody></table></div>"
      ],
      "text/plain": [
       "shape: (1, 2)\n",
       "┌─────────────────────┬─────────────┐\n",
       "│ origin_datetime     ┆ hours_ahead │\n",
       "│ ---                 ┆ ---         │\n",
       "│ str                 ┆ f64         │\n",
       "╞═════════════════════╪═════════════╡\n",
       "│ 2021-09-01 02:00:00 ┆ 24.5        │\n",
       "└─────────────────────┴─────────────┘"
      ]
     },
     "execution_count": 13,
     "metadata": {},
     "output_type": "execute_result"
    }
   ],
   "source": [
    "dfs[\"forecast_weather\"].filter(\n",
    "    (pl.col(\"latitude\") == 57.6) &\n",
    "    (pl.col(\"longitude\") == 21.7) &\n",
    "    (pl.col(\"origin_datetime\") == \"2021-09-01 02:00:00\")\n",
    ").select(\n",
    "    [\"latitude\", \"longitude\", \"hours_ahead\", \"origin_datetime\"]\n",
    ").group_by(\"origin_datetime\").agg(pl.col(\"hours_ahead\").mean())"
   ]
  },
  {
   "cell_type": "code",
   "execution_count": 14,
   "metadata": {},
   "outputs": [
    {
     "data": {
      "text/html": [
       "<div><style>\n",
       ".dataframe > thead > tr,\n",
       ".dataframe > tbody > tr {\n",
       "  text-align: right;\n",
       "  white-space: pre-wrap;\n",
       "}\n",
       "</style>\n",
       "<small>shape: (30_572, 16)</small><table border=\"1\" class=\"dataframe\"><thead><tr><th>forecast_datetime</th><th>data_block_id</th><th>origin_datetime</th><th>hours_ahead</th><th>temperature</th><th>dewpoint</th><th>cloudcover_high</th><th>cloudcover_low</th><th>cloudcover_mid</th><th>cloudcover_total</th><th>10_metre_u_wind_component</th><th>10_metre_v_wind_component</th><th>direct_solar_radiation</th><th>surface_solar_radiation_downwards</th><th>snowfall</th><th>total_precipitation</th></tr><tr><td>str</td><td>i64</td><td>str</td><td>f64</td><td>f64</td><td>f64</td><td>f64</td><td>f64</td><td>f64</td><td>f64</td><td>f64</td><td>f64</td><td>f64</td><td>f64</td><td>f64</td><td>f64</td></tr></thead><tbody><tr><td>&quot;2021-11-05 02:00:00&quot;</td><td>65</td><td>null</td><td>25.0</td><td>7.517538</td><td>6.483776</td><td>0.374459</td><td>0.788241</td><td>0.930931</td><td>0.999334</td><td>-5.107638</td><td>2.407442</td><td>0.0</td><td>0.0</td><td>0.0</td><td>0.000828</td></tr><tr><td>&quot;2023-01-13 01:00:00&quot;</td><td>498</td><td>null</td><td>48.0</td><td>2.547195</td><td>1.822729</td><td>0.230212</td><td>0.996794</td><td>0.714138</td><td>0.99985</td><td>1.465805</td><td>6.375389</td><td>0.0</td><td>0.0</td><td>0.000116</td><td>0.000515</td></tr><tr><td>&quot;2022-11-07 06:00:00&quot;</td><td>432</td><td>null</td><td>29.0</td><td>7.805334</td><td>6.237741</td><td>0.9839</td><td>0.646853</td><td>0.686397</td><td>0.9998</td><td>3.204765</td><td>5.962434</td><td>0.0</td><td>0.0</td><td>0.0</td><td>0.000066</td></tr><tr><td>&quot;2021-11-26 22:00:00&quot;</td><td>86</td><td>null</td><td>45.0</td><td>0.462178</td><td>-1.622852</td><td>0.68024</td><td>0.548291</td><td>0.894366</td><td>0.961348</td><td>-3.388509</td><td>-1.414764</td><td>0.0</td><td>0.0</td><td>0.000109</td><td>0.000138</td></tr><tr><td>&quot;2023-04-06 15:00:00&quot;</td><td>583</td><td>null</td><td>13.0</td><td>7.781676</td><td>3.271873</td><td>0.371023</td><td>0.161743</td><td>0.121847</td><td>0.429985</td><td>-3.997157</td><td>-1.128954</td><td>631.914921</td><td>456.694643</td><td>0.0</td><td>6.4926e-7</td></tr><tr><td>&hellip;</td><td>&hellip;</td><td>&hellip;</td><td>&hellip;</td><td>&hellip;</td><td>&hellip;</td><td>&hellip;</td><td>&hellip;</td><td>&hellip;</td><td>&hellip;</td><td>&hellip;</td><td>&hellip;</td><td>&hellip;</td><td>&hellip;</td><td>&hellip;</td><td>&hellip;</td></tr><tr><td>&quot;2023-02-25 21:00:00&quot;</td><td>542</td><td>null</td><td>44.0</td><td>-3.086759</td><td>-5.321074</td><td>0.739758</td><td>0.942859</td><td>0.748293</td><td>0.955175</td><td>-3.73673</td><td>-7.943222</td><td>0.0</td><td>0.0</td><td>0.000057</td><td>0.000057</td></tr><tr><td>&quot;2023-02-27 15:00:00&quot;</td><td>544</td><td>null</td><td>38.0</td><td>-2.958223</td><td>-5.219591</td><td>0.231138</td><td>0.465095</td><td>0.008772</td><td>0.525808</td><td>3.614254</td><td>1.136308</td><td>414.168333</td><td>183.839881</td><td>1.5966e-7</td><td>7.8763e-8</td></tr><tr><td>&quot;2022-06-18 06:00:00&quot;</td><td>290</td><td>null</td><td>28.0</td><td>14.00735</td><td>12.099392</td><td>0.999698</td><td>0.017041</td><td>0.60023</td><td>0.999998</td><td>1.996138</td><td>3.770625</td><td>77.048254</td><td>108.461587</td><td>0.0</td><td>0.000002</td></tr><tr><td>&quot;2022-01-30 00:00:00&quot;</td><td>150</td><td>null</td><td>47.0</td><td>1.290996</td><td>-0.116119</td><td>0.253062</td><td>0.99653</td><td>0.933028</td><td>0.999971</td><td>1.889387</td><td>9.336265</td><td>0.0</td><td>0.0</td><td>0.000676</td><td>0.000913</td></tr><tr><td>&quot;2022-09-26 15:00:00&quot;</td><td>391</td><td>null</td><td>13.0</td><td>13.003089</td><td>6.883993</td><td>0.185904</td><td>0.257415</td><td>0.177435</td><td>0.451789</td><td>-1.710348</td><td>4.412304</td><td>534.608031</td><td>316.265992</td><td>0.0</td><td>0.000018</td></tr></tbody></table></div>"
      ],
      "text/plain": [
       "shape: (30_572, 16)\n",
       "┌───────────┬───────────┬───────────┬───────────┬───┬───────────┬───────────┬───────────┬──────────┐\n",
       "│ forecast_ ┆ data_bloc ┆ origin_da ┆ hours_ahe ┆ … ┆ direct_so ┆ surface_s ┆ snowfall  ┆ total_pr │\n",
       "│ datetime  ┆ k_id      ┆ tetime    ┆ ad        ┆   ┆ lar_radia ┆ olar_radi ┆ ---       ┆ ecipitat │\n",
       "│ ---       ┆ ---       ┆ ---       ┆ ---       ┆   ┆ tion      ┆ ation_dow ┆ f64       ┆ ion      │\n",
       "│ str       ┆ i64       ┆ str       ┆ f64       ┆   ┆ ---       ┆ nwa…      ┆           ┆ ---      │\n",
       "│           ┆           ┆           ┆           ┆   ┆ f64       ┆ ---       ┆           ┆ f64      │\n",
       "│           ┆           ┆           ┆           ┆   ┆           ┆ f64       ┆           ┆          │\n",
       "╞═══════════╪═══════════╪═══════════╪═══════════╪═══╪═══════════╪═══════════╪═══════════╪══════════╡\n",
       "│ 2021-11-0 ┆ 65        ┆ null      ┆ 25.0      ┆ … ┆ 0.0       ┆ 0.0       ┆ 0.0       ┆ 0.000828 │\n",
       "│ 5         ┆           ┆           ┆           ┆   ┆           ┆           ┆           ┆          │\n",
       "│ 02:00:00  ┆           ┆           ┆           ┆   ┆           ┆           ┆           ┆          │\n",
       "│ 2023-01-1 ┆ 498       ┆ null      ┆ 48.0      ┆ … ┆ 0.0       ┆ 0.0       ┆ 0.000116  ┆ 0.000515 │\n",
       "│ 3         ┆           ┆           ┆           ┆   ┆           ┆           ┆           ┆          │\n",
       "│ 01:00:00  ┆           ┆           ┆           ┆   ┆           ┆           ┆           ┆          │\n",
       "│ 2022-11-0 ┆ 432       ┆ null      ┆ 29.0      ┆ … ┆ 0.0       ┆ 0.0       ┆ 0.0       ┆ 0.000066 │\n",
       "│ 7         ┆           ┆           ┆           ┆   ┆           ┆           ┆           ┆          │\n",
       "│ 06:00:00  ┆           ┆           ┆           ┆   ┆           ┆           ┆           ┆          │\n",
       "│ 2021-11-2 ┆ 86        ┆ null      ┆ 45.0      ┆ … ┆ 0.0       ┆ 0.0       ┆ 0.000109  ┆ 0.000138 │\n",
       "│ 6         ┆           ┆           ┆           ┆   ┆           ┆           ┆           ┆          │\n",
       "│ 22:00:00  ┆           ┆           ┆           ┆   ┆           ┆           ┆           ┆          │\n",
       "│ 2023-04-0 ┆ 583       ┆ null      ┆ 13.0      ┆ … ┆ 631.91492 ┆ 456.69464 ┆ 0.0       ┆ 6.4926e- │\n",
       "│ 6         ┆           ┆           ┆           ┆   ┆ 1         ┆ 3         ┆           ┆ 7        │\n",
       "│ 15:00:00  ┆           ┆           ┆           ┆   ┆           ┆           ┆           ┆          │\n",
       "│ …         ┆ …         ┆ …         ┆ …         ┆ … ┆ …         ┆ …         ┆ …         ┆ …        │\n",
       "│ 2023-02-2 ┆ 542       ┆ null      ┆ 44.0      ┆ … ┆ 0.0       ┆ 0.0       ┆ 0.000057  ┆ 0.000057 │\n",
       "│ 5         ┆           ┆           ┆           ┆   ┆           ┆           ┆           ┆          │\n",
       "│ 21:00:00  ┆           ┆           ┆           ┆   ┆           ┆           ┆           ┆          │\n",
       "│ 2023-02-2 ┆ 544       ┆ null      ┆ 38.0      ┆ … ┆ 414.16833 ┆ 183.83988 ┆ 1.5966e-7 ┆ 7.8763e- │\n",
       "│ 7         ┆           ┆           ┆           ┆   ┆ 3         ┆ 1         ┆           ┆ 8        │\n",
       "│ 15:00:00  ┆           ┆           ┆           ┆   ┆           ┆           ┆           ┆          │\n",
       "│ 2022-06-1 ┆ 290       ┆ null      ┆ 28.0      ┆ … ┆ 77.048254 ┆ 108.46158 ┆ 0.0       ┆ 0.000002 │\n",
       "│ 8         ┆           ┆           ┆           ┆   ┆           ┆ 7         ┆           ┆          │\n",
       "│ 06:00:00  ┆           ┆           ┆           ┆   ┆           ┆           ┆           ┆          │\n",
       "│ 2022-01-3 ┆ 150       ┆ null      ┆ 47.0      ┆ … ┆ 0.0       ┆ 0.0       ┆ 0.000676  ┆ 0.000913 │\n",
       "│ 0         ┆           ┆           ┆           ┆   ┆           ┆           ┆           ┆          │\n",
       "│ 00:00:00  ┆           ┆           ┆           ┆   ┆           ┆           ┆           ┆          │\n",
       "│ 2022-09-2 ┆ 391       ┆ null      ┆ 13.0      ┆ … ┆ 534.60803 ┆ 316.26599 ┆ 0.0       ┆ 0.000018 │\n",
       "│ 6         ┆           ┆           ┆           ┆   ┆ 1         ┆ 2         ┆           ┆          │\n",
       "│ 15:00:00  ┆           ┆           ┆           ┆   ┆           ┆           ┆           ┆          │\n",
       "└───────────┴───────────┴───────────┴───────────┴───┴───────────┴───────────┴───────────┴──────────┘"
      ]
     },
     "execution_count": 14,
     "metadata": {},
     "output_type": "execute_result"
    }
   ],
   "source": [
    "agg_columns = [col for col in dfs[\"forecast_weather\"].columns \n",
    "               if col not in [\"latitude\", \"longitude\"] + \n",
    "               [\"forecast_datetime\", 'data_block_id']]\n",
    "agg_dict = {agg_col: [\"mean\"] for agg_col in agg_columns}\n",
    "\n",
    "dfs[\"forecast_weather\"].group_by([\"forecast_datetime\", 'data_block_id']).agg(\n",
    "    pl.mean(agg_columns)\n",
    ")"
   ]
  },
  {
   "cell_type": "code",
   "execution_count": 15,
   "metadata": {},
   "outputs": [
    {
     "data": {
      "text/html": [
       "<div><style>\n",
       ".dataframe > thead > tr,\n",
       ".dataframe > tbody > tr {\n",
       "  text-align: right;\n",
       "  white-space: pre-wrap;\n",
       "}\n",
       "</style>\n",
       "<small>shape: (5, 18)</small><table border=\"1\" class=\"dataframe\"><thead><tr><th>latitude</th><th>longitude</th><th>origin_datetime</th><th>hours_ahead</th><th>temperature</th><th>dewpoint</th><th>cloudcover_high</th><th>cloudcover_low</th><th>cloudcover_mid</th><th>cloudcover_total</th><th>10_metre_u_wind_component</th><th>10_metre_v_wind_component</th><th>data_block_id</th><th>forecast_datetime</th><th>direct_solar_radiation</th><th>surface_solar_radiation_downwards</th><th>snowfall</th><th>total_precipitation</th></tr><tr><td>f64</td><td>f64</td><td>str</td><td>i64</td><td>f64</td><td>f64</td><td>f64</td><td>f64</td><td>f64</td><td>f64</td><td>f64</td><td>f64</td><td>i64</td><td>str</td><td>f64</td><td>f64</td><td>f64</td><td>f64</td></tr></thead><tbody><tr><td>57.6</td><td>21.7</td><td>&quot;2021-09-01 02:00:00&quot;</td><td>1</td><td>15.655786</td><td>11.553613</td><td>0.904816</td><td>0.019714</td><td>0.0</td><td>0.905899</td><td>-0.411328</td><td>-9.106137</td><td>1</td><td>&quot;2021-09-01 03:00:00&quot;</td><td>0.0</td><td>0.0</td><td>0.0</td><td>0.0</td></tr><tr><td>57.6</td><td>22.2</td><td>&quot;2021-09-01 02:00:00&quot;</td><td>1</td><td>13.003931</td><td>10.689844</td><td>0.886322</td><td>0.004456</td><td>0.0</td><td>0.886658</td><td>0.206347</td><td>-5.355405</td><td>1</td><td>&quot;2021-09-01 03:00:00&quot;</td><td>0.0</td><td>0.0</td><td>0.0</td><td>0.0</td></tr><tr><td>57.6</td><td>22.7</td><td>&quot;2021-09-01 02:00:00&quot;</td><td>1</td><td>14.206567</td><td>11.671777</td><td>0.729034</td><td>0.005615</td><td>0.0</td><td>0.730499</td><td>1.451587</td><td>-7.417905</td><td>1</td><td>&quot;2021-09-01 03:00:00&quot;</td><td>0.0</td><td>0.0</td><td>0.0</td><td>0.0</td></tr><tr><td>57.6</td><td>23.2</td><td>&quot;2021-09-01 02:00:00&quot;</td><td>1</td><td>14.844507</td><td>12.264917</td><td>0.336304</td><td>0.074341</td><td>0.000626</td><td>0.385468</td><td>1.090869</td><td>-9.163999</td><td>1</td><td>&quot;2021-09-01 03:00:00&quot;</td><td>0.0</td><td>0.0</td><td>0.0</td><td>0.0</td></tr><tr><td>57.6</td><td>23.7</td><td>&quot;2021-09-01 02:00:00&quot;</td><td>1</td><td>15.293848</td><td>12.458887</td><td>0.102875</td><td>0.088074</td><td>0.000015</td><td>0.17659</td><td>1.268481</td><td>-8.975766</td><td>1</td><td>&quot;2021-09-01 03:00:00&quot;</td><td>0.0</td><td>0.0</td><td>0.0</td><td>0.0</td></tr></tbody></table></div>"
      ],
      "text/plain": [
       "shape: (5, 18)\n",
       "┌──────────┬───────────┬────────────┬───────────┬───┬───────────┬───────────┬──────────┬───────────┐\n",
       "│ latitude ┆ longitude ┆ origin_dat ┆ hours_ahe ┆ … ┆ direct_so ┆ surface_s ┆ snowfall ┆ total_pre │\n",
       "│ ---      ┆ ---       ┆ etime      ┆ ad        ┆   ┆ lar_radia ┆ olar_radi ┆ ---      ┆ cipitatio │\n",
       "│ f64      ┆ f64       ┆ ---        ┆ ---       ┆   ┆ tion      ┆ ation_dow ┆ f64      ┆ n         │\n",
       "│          ┆           ┆ str        ┆ i64       ┆   ┆ ---       ┆ nwa…      ┆          ┆ ---       │\n",
       "│          ┆           ┆            ┆           ┆   ┆ f64       ┆ ---       ┆          ┆ f64       │\n",
       "│          ┆           ┆            ┆           ┆   ┆           ┆ f64       ┆          ┆           │\n",
       "╞══════════╪═══════════╪════════════╪═══════════╪═══╪═══════════╪═══════════╪══════════╪═══════════╡\n",
       "│ 57.6     ┆ 21.7      ┆ 2021-09-01 ┆ 1         ┆ … ┆ 0.0       ┆ 0.0       ┆ 0.0      ┆ 0.0       │\n",
       "│          ┆           ┆ 02:00:00   ┆           ┆   ┆           ┆           ┆          ┆           │\n",
       "│ 57.6     ┆ 22.2      ┆ 2021-09-01 ┆ 1         ┆ … ┆ 0.0       ┆ 0.0       ┆ 0.0      ┆ 0.0       │\n",
       "│          ┆           ┆ 02:00:00   ┆           ┆   ┆           ┆           ┆          ┆           │\n",
       "│ 57.6     ┆ 22.7      ┆ 2021-09-01 ┆ 1         ┆ … ┆ 0.0       ┆ 0.0       ┆ 0.0      ┆ 0.0       │\n",
       "│          ┆           ┆ 02:00:00   ┆           ┆   ┆           ┆           ┆          ┆           │\n",
       "│ 57.6     ┆ 23.2      ┆ 2021-09-01 ┆ 1         ┆ … ┆ 0.0       ┆ 0.0       ┆ 0.0      ┆ 0.0       │\n",
       "│          ┆           ┆ 02:00:00   ┆           ┆   ┆           ┆           ┆          ┆           │\n",
       "│ 57.6     ┆ 23.7      ┆ 2021-09-01 ┆ 1         ┆ … ┆ 0.0       ┆ 0.0       ┆ 0.0      ┆ 0.0       │\n",
       "│          ┆           ┆ 02:00:00   ┆           ┆   ┆           ┆           ┆          ┆           │\n",
       "└──────────┴───────────┴────────────┴───────────┴───┴───────────┴───────────┴──────────┴───────────┘"
      ]
     },
     "execution_count": 15,
     "metadata": {},
     "output_type": "execute_result"
    }
   ],
   "source": [
    "dfs[\"forecast_weather\"].head()\n"
   ]
  },
  {
   "cell_type": "code",
   "execution_count": 32,
   "metadata": {},
   "outputs": [],
   "source": [
    "result = dfs[\"train\"].with_columns(\n",
    "    pl.col(\"datetime\").str.strptime(\n",
    "        pl.Datetime, \"%Y-%m-%d %H:%M:%S\"\n",
    "    )\n",
    ")"
   ]
  },
  {
   "cell_type": "code",
   "execution_count": 33,
   "metadata": {},
   "outputs": [
    {
     "data": {
      "text/html": [
       "<div><style>\n",
       ".dataframe > thead > tr,\n",
       ".dataframe > tbody > tr {\n",
       "  text-align: right;\n",
       "  white-space: pre-wrap;\n",
       "}\n",
       "</style>\n",
       "<small>shape: (2_018_352, 9)</small><table border=\"1\" class=\"dataframe\"><thead><tr><th>county</th><th>is_business</th><th>product_type</th><th>target</th><th>is_consumption</th><th>datetime</th><th>data_block_id</th><th>row_id</th><th>prediction_unit_id</th></tr><tr><td>i64</td><td>i64</td><td>i64</td><td>f64</td><td>i64</td><td>datetime[μs]</td><td>i64</td><td>i64</td><td>i64</td></tr></thead><tbody><tr><td>0</td><td>0</td><td>1</td><td>0.713</td><td>0</td><td>2021-09-01 00:00:00</td><td>0</td><td>0</td><td>0</td></tr><tr><td>0</td><td>0</td><td>1</td><td>96.59</td><td>1</td><td>2021-09-01 00:00:00</td><td>0</td><td>1</td><td>0</td></tr><tr><td>0</td><td>0</td><td>2</td><td>0.0</td><td>0</td><td>2021-09-01 00:00:00</td><td>0</td><td>2</td><td>1</td></tr><tr><td>0</td><td>0</td><td>2</td><td>17.314</td><td>1</td><td>2021-09-01 00:00:00</td><td>0</td><td>3</td><td>1</td></tr><tr><td>0</td><td>0</td><td>3</td><td>2.904</td><td>0</td><td>2021-09-01 00:00:00</td><td>0</td><td>4</td><td>2</td></tr><tr><td>&hellip;</td><td>&hellip;</td><td>&hellip;</td><td>&hellip;</td><td>&hellip;</td><td>&hellip;</td><td>&hellip;</td><td>&hellip;</td><td>&hellip;</td></tr><tr><td>15</td><td>1</td><td>0</td><td>197.233</td><td>1</td><td>2023-05-31 23:00:00</td><td>637</td><td>2018347</td><td>64</td></tr><tr><td>15</td><td>1</td><td>1</td><td>0.0</td><td>0</td><td>2023-05-31 23:00:00</td><td>637</td><td>2018348</td><td>59</td></tr><tr><td>15</td><td>1</td><td>1</td><td>28.404</td><td>1</td><td>2023-05-31 23:00:00</td><td>637</td><td>2018349</td><td>59</td></tr><tr><td>15</td><td>1</td><td>3</td><td>0.0</td><td>0</td><td>2023-05-31 23:00:00</td><td>637</td><td>2018350</td><td>60</td></tr><tr><td>15</td><td>1</td><td>3</td><td>196.24</td><td>1</td><td>2023-05-31 23:00:00</td><td>637</td><td>2018351</td><td>60</td></tr></tbody></table></div>"
      ],
      "text/plain": [
       "shape: (2_018_352, 9)\n",
       "┌────────┬─────────────┬────────────┬─────────┬───┬────────────┬────────────┬─────────┬────────────┐\n",
       "│ county ┆ is_business ┆ product_ty ┆ target  ┆ … ┆ datetime   ┆ data_block ┆ row_id  ┆ prediction │\n",
       "│ ---    ┆ ---         ┆ pe         ┆ ---     ┆   ┆ ---        ┆ _id        ┆ ---     ┆ _unit_id   │\n",
       "│ i64    ┆ i64         ┆ ---        ┆ f64     ┆   ┆ datetime[μ ┆ ---        ┆ i64     ┆ ---        │\n",
       "│        ┆             ┆ i64        ┆         ┆   ┆ s]         ┆ i64        ┆         ┆ i64        │\n",
       "╞════════╪═════════════╪════════════╪═════════╪═══╪════════════╪════════════╪═════════╪════════════╡\n",
       "│ 0      ┆ 0           ┆ 1          ┆ 0.713   ┆ … ┆ 2021-09-01 ┆ 0          ┆ 0       ┆ 0          │\n",
       "│        ┆             ┆            ┆         ┆   ┆ 00:00:00   ┆            ┆         ┆            │\n",
       "│ 0      ┆ 0           ┆ 1          ┆ 96.59   ┆ … ┆ 2021-09-01 ┆ 0          ┆ 1       ┆ 0          │\n",
       "│        ┆             ┆            ┆         ┆   ┆ 00:00:00   ┆            ┆         ┆            │\n",
       "│ 0      ┆ 0           ┆ 2          ┆ 0.0     ┆ … ┆ 2021-09-01 ┆ 0          ┆ 2       ┆ 1          │\n",
       "│        ┆             ┆            ┆         ┆   ┆ 00:00:00   ┆            ┆         ┆            │\n",
       "│ 0      ┆ 0           ┆ 2          ┆ 17.314  ┆ … ┆ 2021-09-01 ┆ 0          ┆ 3       ┆ 1          │\n",
       "│        ┆             ┆            ┆         ┆   ┆ 00:00:00   ┆            ┆         ┆            │\n",
       "│ 0      ┆ 0           ┆ 3          ┆ 2.904   ┆ … ┆ 2021-09-01 ┆ 0          ┆ 4       ┆ 2          │\n",
       "│        ┆             ┆            ┆         ┆   ┆ 00:00:00   ┆            ┆         ┆            │\n",
       "│ …      ┆ …           ┆ …          ┆ …       ┆ … ┆ …          ┆ …          ┆ …       ┆ …          │\n",
       "│ 15     ┆ 1           ┆ 0          ┆ 197.233 ┆ … ┆ 2023-05-31 ┆ 637        ┆ 2018347 ┆ 64         │\n",
       "│        ┆             ┆            ┆         ┆   ┆ 23:00:00   ┆            ┆         ┆            │\n",
       "│ 15     ┆ 1           ┆ 1          ┆ 0.0     ┆ … ┆ 2023-05-31 ┆ 637        ┆ 2018348 ┆ 59         │\n",
       "│        ┆             ┆            ┆         ┆   ┆ 23:00:00   ┆            ┆         ┆            │\n",
       "│ 15     ┆ 1           ┆ 1          ┆ 28.404  ┆ … ┆ 2023-05-31 ┆ 637        ┆ 2018349 ┆ 59         │\n",
       "│        ┆             ┆            ┆         ┆   ┆ 23:00:00   ┆            ┆         ┆            │\n",
       "│ 15     ┆ 1           ┆ 3          ┆ 0.0     ┆ … ┆ 2023-05-31 ┆ 637        ┆ 2018350 ┆ 60         │\n",
       "│        ┆             ┆            ┆         ┆   ┆ 23:00:00   ┆            ┆         ┆            │\n",
       "│ 15     ┆ 1           ┆ 3          ┆ 196.24  ┆ … ┆ 2023-05-31 ┆ 637        ┆ 2018351 ┆ 60         │\n",
       "│        ┆             ┆            ┆         ┆   ┆ 23:00:00   ┆            ┆         ┆            │\n",
       "└────────┴─────────────┴────────────┴─────────┴───┴────────────┴────────────┴─────────┴────────────┘"
      ]
     },
     "execution_count": 33,
     "metadata": {},
     "output_type": "execute_result"
    }
   ],
   "source": [
    "result"
   ]
  },
  {
   "cell_type": "code",
   "execution_count": 42,
   "metadata": {},
   "outputs": [],
   "source": [
    "result = result.with_columns([\n",
    "    pl.col(\"datetime\").dt.truncate(\"1d\").cast(pl.Date).alias(\"date\"),\n",
    "    pl.col(\"datetime\").dt.year().alias(\"year\")\n",
    "])"
   ]
  },
  {
   "cell_type": "code",
   "execution_count": 24,
   "metadata": {},
   "outputs": [
    {
     "data": {
      "text/html": [
       "<div><style>\n",
       ".dataframe > thead > tr,\n",
       ".dataframe > tbody > tr {\n",
       "  text-align: right;\n",
       "  white-space: pre-wrap;\n",
       "}\n",
       "</style>\n",
       "<small>shape: (5, 2)</small><table border=\"1\" class=\"dataframe\"><thead><tr><th>A</th><th>B</th></tr><tr><td>i64</td><td>str</td></tr></thead><tbody><tr><td>1</td><td>&quot;uno&quot;</td></tr><tr><td>3</td><td>&quot;tres&quot;</td></tr><tr><td>4</td><td>&quot;cuatro&quot;</td></tr><tr><td>3</td><td>&quot;tres&quot;</td></tr><tr><td>2</td><td>&quot;dos&quot;</td></tr></tbody></table></div>"
      ],
      "text/plain": [
       "shape: (5, 2)\n",
       "┌─────┬────────┐\n",
       "│ A   ┆ B      │\n",
       "│ --- ┆ ---    │\n",
       "│ i64 ┆ str    │\n",
       "╞═════╪════════╡\n",
       "│ 1   ┆ uno    │\n",
       "│ 3   ┆ tres   │\n",
       "│ 4   ┆ cuatro │\n",
       "│ 3   ┆ tres   │\n",
       "│ 2   ┆ dos    │\n",
       "└─────┴────────┘"
      ]
     },
     "execution_count": 24,
     "metadata": {},
     "output_type": "execute_result"
    }
   ],
   "source": [
    "dfa = pl.DataFrame({\n",
    "    \"A\":[1, 3, 4, 3, 2],\n",
    "    \"B\":[\"uno\", \"tres\", \"cuatro\", \"tres\", \"dos\"]\n",
    "})\n",
    "dfa"
   ]
  },
  {
   "cell_type": "code",
   "execution_count": 25,
   "metadata": {},
   "outputs": [
    {
     "data": {
      "text/html": [
       "<div><style>\n",
       ".dataframe > thead > tr,\n",
       ".dataframe > tbody > tr {\n",
       "  text-align: right;\n",
       "  white-space: pre-wrap;\n",
       "}\n",
       "</style>\n",
       "<small>shape: (4, 2)</small><table border=\"1\" class=\"dataframe\"><thead><tr><th>A</th><th>C</th></tr><tr><td>i64</td><td>str</td></tr></thead><tbody><tr><td>1</td><td>&quot;one&quot;</td></tr><tr><td>2</td><td>&quot;two&quot;</td></tr><tr><td>3</td><td>&quot;three&quot;</td></tr><tr><td>4</td><td>&quot;four&quot;</td></tr></tbody></table></div>"
      ],
      "text/plain": [
       "shape: (4, 2)\n",
       "┌─────┬───────┐\n",
       "│ A   ┆ C     │\n",
       "│ --- ┆ ---   │\n",
       "│ i64 ┆ str   │\n",
       "╞═════╪═══════╡\n",
       "│ 1   ┆ one   │\n",
       "│ 2   ┆ two   │\n",
       "│ 3   ┆ three │\n",
       "│ 4   ┆ four  │\n",
       "└─────┴───────┘"
      ]
     },
     "execution_count": 25,
     "metadata": {},
     "output_type": "execute_result"
    }
   ],
   "source": [
    "dfb = pl.DataFrame({\n",
    "    \"A\":[1, 2, 3, 4],\n",
    "    \"C\":[\"one\", \"two\", \"three\", \"four\"]\n",
    "})\n",
    "dfb"
   ]
  },
  {
   "cell_type": "code",
   "execution_count": 26,
   "metadata": {},
   "outputs": [
    {
     "data": {
      "text/html": [
       "<div><style>\n",
       ".dataframe > thead > tr,\n",
       ".dataframe > tbody > tr {\n",
       "  text-align: right;\n",
       "  white-space: pre-wrap;\n",
       "}\n",
       "</style>\n",
       "<small>shape: (5, 3)</small><table border=\"1\" class=\"dataframe\"><thead><tr><th>A</th><th>B</th><th>C</th></tr><tr><td>i64</td><td>str</td><td>str</td></tr></thead><tbody><tr><td>1</td><td>&quot;uno&quot;</td><td>&quot;one&quot;</td></tr><tr><td>3</td><td>&quot;tres&quot;</td><td>&quot;three&quot;</td></tr><tr><td>4</td><td>&quot;cuatro&quot;</td><td>&quot;four&quot;</td></tr><tr><td>3</td><td>&quot;tres&quot;</td><td>&quot;three&quot;</td></tr><tr><td>2</td><td>&quot;dos&quot;</td><td>&quot;two&quot;</td></tr></tbody></table></div>"
      ],
      "text/plain": [
       "shape: (5, 3)\n",
       "┌─────┬────────┬───────┐\n",
       "│ A   ┆ B      ┆ C     │\n",
       "│ --- ┆ ---    ┆ ---   │\n",
       "│ i64 ┆ str    ┆ str   │\n",
       "╞═════╪════════╪═══════╡\n",
       "│ 1   ┆ uno    ┆ one   │\n",
       "│ 3   ┆ tres   ┆ three │\n",
       "│ 4   ┆ cuatro ┆ four  │\n",
       "│ 3   ┆ tres   ┆ three │\n",
       "│ 2   ┆ dos    ┆ two   │\n",
       "└─────┴────────┴───────┘"
      ]
     },
     "execution_count": 26,
     "metadata": {},
     "output_type": "execute_result"
    }
   ],
   "source": [
    "dfa.join(dfb, how=\"left\", on=\"A\")"
   ]
  },
  {
   "cell_type": "code",
   "execution_count": null,
   "metadata": {},
   "outputs": [],
   "source": [
    "# PASAR A RADIANES\n",
    "# HIVERSINE DISTANCE\n",
    "# JOIN CON LOS COUNTIES MAS CERCANOS"
   ]
  }
 ],
 "metadata": {
  "kernelspec": {
   "display_name": ".VENV",
   "language": "python",
   "name": "python3"
  },
  "language_info": {
   "codemirror_mode": {
    "name": "ipython",
    "version": 3
   },
   "file_extension": ".py",
   "mimetype": "text/x-python",
   "name": "python",
   "nbconvert_exporter": "python",
   "pygments_lexer": "ipython3",
   "version": "3.11.1"
  }
 },
 "nbformat": 4,
 "nbformat_minor": 2
}
