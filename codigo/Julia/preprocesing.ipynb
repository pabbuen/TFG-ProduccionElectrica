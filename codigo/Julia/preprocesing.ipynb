{
 "cells": [
  {
   "cell_type": "code",
   "execution_count": 1,
   "metadata": {},
   "outputs": [
    {
     "name": "stderr",
     "output_type": "stream",
     "text": [
      "\u001b[32m\u001b[1m  Activating\u001b[22m\u001b[39m project at `d:\\Proyectos\\TFG-ProduccionElectrica\\codigo\\julia`\n"
     ]
    }
   ],
   "source": [
    "using Pkg\n",
    "Pkg.activate(\".\"); Pkg.instantiate();\n",
    "Pkg.precompile()\n",
    "\n",
    "using CSV\n",
    "using DataFrames"
   ]
  },
  {
   "cell_type": "code",
   "execution_count": 6,
   "metadata": {},
   "outputs": [
    {
     "data": {
      "text/plain": [
       "8-element Vector{String}:\n",
       " \"client\"\n",
       " \"county_lon_lats\"\n",
       " \"electricity_prices\"\n",
       " \"forecast_weather\"\n",
       " \"gas_prices\"\n",
       " \"historical_weather\"\n",
       " \"train\"\n",
       " \"weather_station_to_county_mapping\""
      ]
     },
     "metadata": {},
     "output_type": "display_data"
    }
   ],
   "source": [
    "files_path = \"../data\"\n",
    "\n",
    "files = readdir(files_path)\n",
    "names = replace.(files, \".csv\" => \"\")"
   ]
  },
  {
   "cell_type": "code",
   "execution_count": 11,
   "metadata": {},
   "outputs": [],
   "source": [
    "dfs = Dict{String, DataFrame}()\n",
    "\n",
    "for (name, file) in zip(names, files)\n",
    "    dfs[name] = DataFrame(CSV.File(joinpath(files_path, file)))\n",
    "end"
   ]
  },
  {
   "cell_type": "code",
   "execution_count": 14,
   "metadata": {},
   "outputs": [
    {
     "data": {
      "text/html": [
       "<div><div style = \"float: left;\"><span>2018352×9 DataFrame</span></div><div style = \"float: right;\"><span style = \"font-style: italic;\">2018327 rows omitted</span></div><div style = \"clear: both;\"></div></div><div class = \"data-frame\" style = \"overflow-x: scroll;\"><table class = \"data-frame\" style = \"margin-bottom: 6px;\"><thead><tr class = \"header\"><th class = \"rowNumber\" style = \"font-weight: bold; text-align: right;\">Row</th><th style = \"text-align: left;\">county</th><th style = \"text-align: left;\">is_business</th><th style = \"text-align: left;\">product_type</th><th style = \"text-align: left;\">target</th><th style = \"text-align: left;\">is_consumption</th><th style = \"text-align: left;\">datetime</th><th style = \"text-align: left;\">data_block_id</th><th style = \"text-align: left;\">row_id</th><th style = \"text-align: left;\">prediction_unit_id</th></tr><tr class = \"subheader headerLastRow\"><th class = \"rowNumber\" style = \"font-weight: bold; text-align: right;\"></th><th title = \"Int64\" style = \"text-align: left;\">Int64</th><th title = \"Int64\" style = \"text-align: left;\">Int64</th><th title = \"Int64\" style = \"text-align: left;\">Int64</th><th title = \"Union{Missing, Float64}\" style = \"text-align: left;\">Float64?</th><th title = \"Int64\" style = \"text-align: left;\">Int64</th><th title = \"String31\" style = \"text-align: left;\">String31</th><th title = \"Int64\" style = \"text-align: left;\">Int64</th><th title = \"Int64\" style = \"text-align: left;\">Int64</th><th title = \"Int64\" style = \"text-align: left;\">Int64</th></tr></thead><tbody><tr><td class = \"rowNumber\" style = \"font-weight: bold; text-align: right;\">1</td><td style = \"text-align: right;\">0</td><td style = \"text-align: right;\">0</td><td style = \"text-align: right;\">1</td><td style = \"text-align: right;\">0.713</td><td style = \"text-align: right;\">0</td><td style = \"text-align: left;\">2021-09-01 00:00:00</td><td style = \"text-align: right;\">0</td><td style = \"text-align: right;\">0</td><td style = \"text-align: right;\">0</td></tr><tr><td class = \"rowNumber\" style = \"font-weight: bold; text-align: right;\">2</td><td style = \"text-align: right;\">0</td><td style = \"text-align: right;\">0</td><td style = \"text-align: right;\">1</td><td style = \"text-align: right;\">96.59</td><td style = \"text-align: right;\">1</td><td style = \"text-align: left;\">2021-09-01 00:00:00</td><td style = \"text-align: right;\">0</td><td style = \"text-align: right;\">1</td><td style = \"text-align: right;\">0</td></tr><tr><td class = \"rowNumber\" style = \"font-weight: bold; text-align: right;\">3</td><td style = \"text-align: right;\">0</td><td style = \"text-align: right;\">0</td><td style = \"text-align: right;\">2</td><td style = \"text-align: right;\">0.0</td><td style = \"text-align: right;\">0</td><td style = \"text-align: left;\">2021-09-01 00:00:00</td><td style = \"text-align: right;\">0</td><td style = \"text-align: right;\">2</td><td style = \"text-align: right;\">1</td></tr><tr><td class = \"rowNumber\" style = \"font-weight: bold; text-align: right;\">4</td><td style = \"text-align: right;\">0</td><td style = \"text-align: right;\">0</td><td style = \"text-align: right;\">2</td><td style = \"text-align: right;\">17.314</td><td style = \"text-align: right;\">1</td><td style = \"text-align: left;\">2021-09-01 00:00:00</td><td style = \"text-align: right;\">0</td><td style = \"text-align: right;\">3</td><td style = \"text-align: right;\">1</td></tr><tr><td class = \"rowNumber\" style = \"font-weight: bold; text-align: right;\">5</td><td style = \"text-align: right;\">0</td><td style = \"text-align: right;\">0</td><td style = \"text-align: right;\">3</td><td style = \"text-align: right;\">2.904</td><td style = \"text-align: right;\">0</td><td style = \"text-align: left;\">2021-09-01 00:00:00</td><td style = \"text-align: right;\">0</td><td style = \"text-align: right;\">4</td><td style = \"text-align: right;\">2</td></tr><tr><td class = \"rowNumber\" style = \"font-weight: bold; text-align: right;\">6</td><td style = \"text-align: right;\">0</td><td style = \"text-align: right;\">0</td><td style = \"text-align: right;\">3</td><td style = \"text-align: right;\">656.859</td><td style = \"text-align: right;\">1</td><td style = \"text-align: left;\">2021-09-01 00:00:00</td><td style = \"text-align: right;\">0</td><td style = \"text-align: right;\">5</td><td style = \"text-align: right;\">2</td></tr><tr><td class = \"rowNumber\" style = \"font-weight: bold; text-align: right;\">7</td><td style = \"text-align: right;\">0</td><td style = \"text-align: right;\">1</td><td style = \"text-align: right;\">0</td><td style = \"text-align: right;\">0.0</td><td style = \"text-align: right;\">0</td><td style = \"text-align: left;\">2021-09-01 00:00:00</td><td style = \"text-align: right;\">0</td><td style = \"text-align: right;\">6</td><td style = \"text-align: right;\">3</td></tr><tr><td class = \"rowNumber\" style = \"font-weight: bold; text-align: right;\">8</td><td style = \"text-align: right;\">0</td><td style = \"text-align: right;\">1</td><td style = \"text-align: right;\">0</td><td style = \"text-align: right;\">59.0</td><td style = \"text-align: right;\">1</td><td style = \"text-align: left;\">2021-09-01 00:00:00</td><td style = \"text-align: right;\">0</td><td style = \"text-align: right;\">7</td><td style = \"text-align: right;\">3</td></tr><tr><td class = \"rowNumber\" style = \"font-weight: bold; text-align: right;\">9</td><td style = \"text-align: right;\">0</td><td style = \"text-align: right;\">1</td><td style = \"text-align: right;\">1</td><td style = \"text-align: right;\">0.0</td><td style = \"text-align: right;\">0</td><td style = \"text-align: left;\">2021-09-01 00:00:00</td><td style = \"text-align: right;\">0</td><td style = \"text-align: right;\">8</td><td style = \"text-align: right;\">4</td></tr><tr><td class = \"rowNumber\" style = \"font-weight: bold; text-align: right;\">10</td><td style = \"text-align: right;\">0</td><td style = \"text-align: right;\">1</td><td style = \"text-align: right;\">1</td><td style = \"text-align: right;\">501.76</td><td style = \"text-align: right;\">1</td><td style = \"text-align: left;\">2021-09-01 00:00:00</td><td style = \"text-align: right;\">0</td><td style = \"text-align: right;\">9</td><td style = \"text-align: right;\">4</td></tr><tr><td class = \"rowNumber\" style = \"font-weight: bold; text-align: right;\">11</td><td style = \"text-align: right;\">0</td><td style = \"text-align: right;\">1</td><td style = \"text-align: right;\">3</td><td style = \"text-align: right;\">0.315</td><td style = \"text-align: right;\">0</td><td style = \"text-align: left;\">2021-09-01 00:00:00</td><td style = \"text-align: right;\">0</td><td style = \"text-align: right;\">10</td><td style = \"text-align: right;\">5</td></tr><tr><td class = \"rowNumber\" style = \"font-weight: bold; text-align: right;\">12</td><td style = \"text-align: right;\">0</td><td style = \"text-align: right;\">1</td><td style = \"text-align: right;\">3</td><td style = \"text-align: right;\">5155.06</td><td style = \"text-align: right;\">1</td><td style = \"text-align: left;\">2021-09-01 00:00:00</td><td style = \"text-align: right;\">0</td><td style = \"text-align: right;\">11</td><td style = \"text-align: right;\">5</td></tr><tr><td class = \"rowNumber\" style = \"font-weight: bold; text-align: right;\">13</td><td style = \"text-align: right;\">1</td><td style = \"text-align: right;\">0</td><td style = \"text-align: right;\">1</td><td style = \"text-align: right;\">0.0</td><td style = \"text-align: right;\">0</td><td style = \"text-align: left;\">2021-09-01 00:00:00</td><td style = \"text-align: right;\">0</td><td style = \"text-align: right;\">12</td><td style = \"text-align: right;\">6</td></tr><tr><td style = \"text-align: right;\">&vellip;</td><td style = \"text-align: right;\">&vellip;</td><td style = \"text-align: right;\">&vellip;</td><td style = \"text-align: right;\">&vellip;</td><td style = \"text-align: right;\">&vellip;</td><td style = \"text-align: right;\">&vellip;</td><td style = \"text-align: right;\">&vellip;</td><td style = \"text-align: right;\">&vellip;</td><td style = \"text-align: right;\">&vellip;</td><td style = \"text-align: right;\">&vellip;</td></tr><tr><td class = \"rowNumber\" style = \"font-weight: bold; text-align: right;\">2018341</td><td style = \"text-align: right;\">14</td><td style = \"text-align: right;\">1</td><td style = \"text-align: right;\">3</td><td style = \"text-align: right;\">1.159</td><td style = \"text-align: right;\">0</td><td style = \"text-align: left;\">2023-05-31 23:00:00</td><td style = \"text-align: right;\">637</td><td style = \"text-align: right;\">2018340</td><td style = \"text-align: right;\">56</td></tr><tr><td class = \"rowNumber\" style = \"font-weight: bold; text-align: right;\">2018342</td><td style = \"text-align: right;\">14</td><td style = \"text-align: right;\">1</td><td style = \"text-align: right;\">3</td><td style = \"text-align: right;\">1242.6</td><td style = \"text-align: right;\">1</td><td style = \"text-align: left;\">2023-05-31 23:00:00</td><td style = \"text-align: right;\">637</td><td style = \"text-align: right;\">2018341</td><td style = \"text-align: right;\">56</td></tr><tr><td class = \"rowNumber\" style = \"font-weight: bold; text-align: right;\">2018343</td><td style = \"text-align: right;\">15</td><td style = \"text-align: right;\">0</td><td style = \"text-align: right;\">1</td><td style = \"text-align: right;\">0.004</td><td style = \"text-align: right;\">0</td><td style = \"text-align: left;\">2023-05-31 23:00:00</td><td style = \"text-align: right;\">637</td><td style = \"text-align: right;\">2018342</td><td style = \"text-align: right;\">57</td></tr><tr><td class = \"rowNumber\" style = \"font-weight: bold; text-align: right;\">2018344</td><td style = \"text-align: right;\">15</td><td style = \"text-align: right;\">0</td><td style = \"text-align: right;\">1</td><td style = \"text-align: right;\">42.401</td><td style = \"text-align: right;\">1</td><td style = \"text-align: left;\">2023-05-31 23:00:00</td><td style = \"text-align: right;\">637</td><td style = \"text-align: right;\">2018343</td><td style = \"text-align: right;\">57</td></tr><tr><td class = \"rowNumber\" style = \"font-weight: bold; text-align: right;\">2018345</td><td style = \"text-align: right;\">15</td><td style = \"text-align: right;\">0</td><td style = \"text-align: right;\">3</td><td style = \"text-align: right;\">2.287</td><td style = \"text-align: right;\">0</td><td style = \"text-align: left;\">2023-05-31 23:00:00</td><td style = \"text-align: right;\">637</td><td style = \"text-align: right;\">2018344</td><td style = \"text-align: right;\">58</td></tr><tr><td class = \"rowNumber\" style = \"font-weight: bold; text-align: right;\">2018346</td><td style = \"text-align: right;\">15</td><td style = \"text-align: right;\">0</td><td style = \"text-align: right;\">3</td><td style = \"text-align: right;\">117.332</td><td style = \"text-align: right;\">1</td><td style = \"text-align: left;\">2023-05-31 23:00:00</td><td style = \"text-align: right;\">637</td><td style = \"text-align: right;\">2018345</td><td style = \"text-align: right;\">58</td></tr><tr><td class = \"rowNumber\" style = \"font-weight: bold; text-align: right;\">2018347</td><td style = \"text-align: right;\">15</td><td style = \"text-align: right;\">1</td><td style = \"text-align: right;\">0</td><td style = \"text-align: right;\">0.0</td><td style = \"text-align: right;\">0</td><td style = \"text-align: left;\">2023-05-31 23:00:00</td><td style = \"text-align: right;\">637</td><td style = \"text-align: right;\">2018346</td><td style = \"text-align: right;\">64</td></tr><tr><td class = \"rowNumber\" style = \"font-weight: bold; text-align: right;\">2018348</td><td style = \"text-align: right;\">15</td><td style = \"text-align: right;\">1</td><td style = \"text-align: right;\">0</td><td style = \"text-align: right;\">197.233</td><td style = \"text-align: right;\">1</td><td style = \"text-align: left;\">2023-05-31 23:00:00</td><td style = \"text-align: right;\">637</td><td style = \"text-align: right;\">2018347</td><td style = \"text-align: right;\">64</td></tr><tr><td class = \"rowNumber\" style = \"font-weight: bold; text-align: right;\">2018349</td><td style = \"text-align: right;\">15</td><td style = \"text-align: right;\">1</td><td style = \"text-align: right;\">1</td><td style = \"text-align: right;\">0.0</td><td style = \"text-align: right;\">0</td><td style = \"text-align: left;\">2023-05-31 23:00:00</td><td style = \"text-align: right;\">637</td><td style = \"text-align: right;\">2018348</td><td style = \"text-align: right;\">59</td></tr><tr><td class = \"rowNumber\" style = \"font-weight: bold; text-align: right;\">2018350</td><td style = \"text-align: right;\">15</td><td style = \"text-align: right;\">1</td><td style = \"text-align: right;\">1</td><td style = \"text-align: right;\">28.404</td><td style = \"text-align: right;\">1</td><td style = \"text-align: left;\">2023-05-31 23:00:00</td><td style = \"text-align: right;\">637</td><td style = \"text-align: right;\">2018349</td><td style = \"text-align: right;\">59</td></tr><tr><td class = \"rowNumber\" style = \"font-weight: bold; text-align: right;\">2018351</td><td style = \"text-align: right;\">15</td><td style = \"text-align: right;\">1</td><td style = \"text-align: right;\">3</td><td style = \"text-align: right;\">0.0</td><td style = \"text-align: right;\">0</td><td style = \"text-align: left;\">2023-05-31 23:00:00</td><td style = \"text-align: right;\">637</td><td style = \"text-align: right;\">2018350</td><td style = \"text-align: right;\">60</td></tr><tr><td class = \"rowNumber\" style = \"font-weight: bold; text-align: right;\">2018352</td><td style = \"text-align: right;\">15</td><td style = \"text-align: right;\">1</td><td style = \"text-align: right;\">3</td><td style = \"text-align: right;\">196.24</td><td style = \"text-align: right;\">1</td><td style = \"text-align: left;\">2023-05-31 23:00:00</td><td style = \"text-align: right;\">637</td><td style = \"text-align: right;\">2018351</td><td style = \"text-align: right;\">60</td></tr></tbody></table></div>"
      ],
      "text/latex": [
       "\\begin{tabular}{r|ccccccc}\n",
       "\t& county & is\\_business & product\\_type & target & is\\_consumption & datetime & \\\\\n",
       "\t\\hline\n",
       "\t& Int64 & Int64 & Int64 & Float64? & Int64 & String31 & \\\\\n",
       "\t\\hline\n",
       "\t1 & 0 & 0 & 1 & 0.713 & 0 & 2021-09-01 00:00:00 & $\\dots$ \\\\\n",
       "\t2 & 0 & 0 & 1 & 96.59 & 1 & 2021-09-01 00:00:00 & $\\dots$ \\\\\n",
       "\t3 & 0 & 0 & 2 & 0.0 & 0 & 2021-09-01 00:00:00 & $\\dots$ \\\\\n",
       "\t4 & 0 & 0 & 2 & 17.314 & 1 & 2021-09-01 00:00:00 & $\\dots$ \\\\\n",
       "\t5 & 0 & 0 & 3 & 2.904 & 0 & 2021-09-01 00:00:00 & $\\dots$ \\\\\n",
       "\t6 & 0 & 0 & 3 & 656.859 & 1 & 2021-09-01 00:00:00 & $\\dots$ \\\\\n",
       "\t7 & 0 & 1 & 0 & 0.0 & 0 & 2021-09-01 00:00:00 & $\\dots$ \\\\\n",
       "\t8 & 0 & 1 & 0 & 59.0 & 1 & 2021-09-01 00:00:00 & $\\dots$ \\\\\n",
       "\t9 & 0 & 1 & 1 & 0.0 & 0 & 2021-09-01 00:00:00 & $\\dots$ \\\\\n",
       "\t10 & 0 & 1 & 1 & 501.76 & 1 & 2021-09-01 00:00:00 & $\\dots$ \\\\\n",
       "\t11 & 0 & 1 & 3 & 0.315 & 0 & 2021-09-01 00:00:00 & $\\dots$ \\\\\n",
       "\t12 & 0 & 1 & 3 & 5155.06 & 1 & 2021-09-01 00:00:00 & $\\dots$ \\\\\n",
       "\t13 & 1 & 0 & 1 & 0.0 & 0 & 2021-09-01 00:00:00 & $\\dots$ \\\\\n",
       "\t14 & 1 & 0 & 1 & 2.756 & 1 & 2021-09-01 00:00:00 & $\\dots$ \\\\\n",
       "\t15 & 1 & 0 & 3 & 0.087 & 0 & 2021-09-01 00:00:00 & $\\dots$ \\\\\n",
       "\t16 & 1 & 0 & 3 & 22.841 & 1 & 2021-09-01 00:00:00 & $\\dots$ \\\\\n",
       "\t17 & 1 & 1 & 3 & 0.0 & 0 & 2021-09-01 00:00:00 & $\\dots$ \\\\\n",
       "\t18 & 1 & 1 & 3 & 30.778 & 1 & 2021-09-01 00:00:00 & $\\dots$ \\\\\n",
       "\t19 & 2 & 0 & 3 & 0.0 & 0 & 2021-09-01 00:00:00 & $\\dots$ \\\\\n",
       "\t20 & 2 & 0 & 3 & 23.444 & 1 & 2021-09-01 00:00:00 & $\\dots$ \\\\\n",
       "\t21 & 2 & 1 & 3 & 0.0 & 0 & 2021-09-01 00:00:00 & $\\dots$ \\\\\n",
       "\t22 & 2 & 1 & 3 & 266.637 & 1 & 2021-09-01 00:00:00 & $\\dots$ \\\\\n",
       "\t23 & 3 & 0 & 1 & 0.0 & 0 & 2021-09-01 00:00:00 & $\\dots$ \\\\\n",
       "\t24 & 3 & 0 & 1 & 14.964 & 1 & 2021-09-01 00:00:00 & $\\dots$ \\\\\n",
       "\t$\\dots$ & $\\dots$ & $\\dots$ & $\\dots$ & $\\dots$ & $\\dots$ & $\\dots$ &  \\\\\n",
       "\\end{tabular}\n"
      ],
      "text/plain": [
       "\u001b[1m2018352×9 DataFrame\u001b[0m\n",
       "\u001b[1m     Row \u001b[0m│\u001b[1m county \u001b[0m\u001b[1m is_business \u001b[0m\u001b[1m product_type \u001b[0m\u001b[1m target   \u001b[0m\u001b[1m is_consumption \u001b[0m\u001b[1m dateti\u001b[0m ⋯\n",
       "         │\u001b[90m Int64  \u001b[0m\u001b[90m Int64       \u001b[0m\u001b[90m Int64        \u001b[0m\u001b[90m Float64? \u001b[0m\u001b[90m Int64          \u001b[0m\u001b[90m String\u001b[0m ⋯\n",
       "─────────┼──────────────────────────────────────────────────────────────────────\n",
       "       1 │      0            0             1     0.713               0  2021-0 ⋯\n",
       "       2 │      0            0             1    96.59                1  2021-0\n",
       "       3 │      0            0             2     0.0                 0  2021-0\n",
       "       4 │      0            0             2    17.314               1  2021-0\n",
       "       5 │      0            0             3     2.904               0  2021-0 ⋯\n",
       "       6 │      0            0             3   656.859               1  2021-0\n",
       "       7 │      0            1             0     0.0                 0  2021-0\n",
       "       8 │      0            1             0    59.0                 1  2021-0\n",
       "    ⋮    │   ⋮          ⋮            ⋮           ⋮            ⋮                ⋱\n",
       " 2018346 │     15            0             3   117.332               1  2023-0 ⋯\n",
       " 2018347 │     15            1             0     0.0                 0  2023-0\n",
       " 2018348 │     15            1             0   197.233               1  2023-0\n",
       " 2018349 │     15            1             1     0.0                 0  2023-0\n",
       " 2018350 │     15            1             1    28.404               1  2023-0 ⋯\n",
       " 2018351 │     15            1             3     0.0                 0  2023-0\n",
       " 2018352 │     15            1             3   196.24                1  2023-0\n",
       "\u001b[36m                                              4 columns and 2018337 rows omitted\u001b[0m"
      ]
     },
     "metadata": {},
     "output_type": "display_data"
    }
   ],
   "source": [
    "dfs[\"train\"]"
   ]
  },
  {
   "cell_type": "code",
   "execution_count": null,
   "metadata": {},
   "outputs": [],
   "source": []
  }
 ],
 "metadata": {
  "kernelspec": {
   "display_name": "Julia 1.11.1",
   "language": "julia",
   "name": "julia-1.11"
  },
  "language_info": {
   "file_extension": ".jl",
   "mimetype": "application/julia",
   "name": "julia",
   "version": "1.11.1"
  }
 },
 "nbformat": 4,
 "nbformat_minor": 2
}
