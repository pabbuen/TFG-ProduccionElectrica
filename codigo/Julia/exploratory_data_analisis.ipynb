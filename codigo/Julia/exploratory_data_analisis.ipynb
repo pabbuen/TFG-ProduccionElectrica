{
 "cells": [
  {
   "cell_type": "code",
   "execution_count": 1,
   "id": "ac64099e",
   "metadata": {},
   "outputs": [
    {
     "name": "stderr",
     "output_type": "stream",
     "text": [
      "\u001b[32m\u001b[1m  Activating\u001b[22m\u001b[39m project at `d:\\Clases\\4o Curso\\2o Cuatrimestre\\TFG\\TFG-ProduccionElectrica\\codigo\\Julia`\n"
     ]
    }
   ],
   "source": [
    "using Pkg\n",
    "Pkg.activate(\".\")\n",
    "\n",
    "using DataFrames, Statistics, CSV, Markdown, CategoricalArrays"
   ]
  },
  {
   "cell_type": "code",
   "execution_count": 2,
   "id": "829eec59",
   "metadata": {},
   "outputs": [
    {
     "data": {
      "text/plain": [
       "md (generic function with 1 method)"
      ]
     },
     "metadata": {},
     "output_type": "display_data"
    }
   ],
   "source": [
    "md(s) = display(\"text/markdown\", s)"
   ]
  },
  {
   "cell_type": "code",
   "execution_count": 3,
   "id": "b3f4273b",
   "metadata": {},
   "outputs": [
    {
     "data": {
      "text/plain": [
       "6-element Vector{String}:\n",
       " \"client.csv\"\n",
       " \"electricity_prices.csv\"\n",
       " \"gas_prices.csv\"\n",
       " \"historical_weather.csv\"\n",
       " \"train.csv\"\n",
       " \"weather_station_to_county_mapping.csv\""
      ]
     },
     "metadata": {},
     "output_type": "display_data"
    }
   ],
   "source": [
    "data_path = \"../data\"\n",
    "\n",
    "filter(f -> endswith(f, \".csv\"), readdir(data_path))"
   ]
  },
  {
   "cell_type": "markdown",
   "id": "526202b6",
   "metadata": {},
   "source": [
    "# Carga de los datos"
   ]
  },
  {
   "cell_type": "code",
   "execution_count": 4,
   "id": "fcedabf3",
   "metadata": {},
   "outputs": [
    {
     "data": {
      "text/plain": [
       "load_dict (generic function with 1 method)"
      ]
     },
     "metadata": {},
     "output_type": "display_data"
    }
   ],
   "source": [
    "function load_dict(path::AbstractString)::Dict{String, DataFrame}\n",
    "    Dict(\n",
    "        (occursin(\"weather_station\", name) ? \"weather_station\" : name) =>\n",
    "        CSV.read(joinpath(path, file), DataFrame)\n",
    "        for file in readdir(path)\n",
    "        if endswith(file, \".csv\") && begin\n",
    "            global name = splitext(file)[1]\n",
    "            true\n",
    "        end\n",
    "    ) \n",
    "end"
   ]
  },
  {
   "cell_type": "markdown",
   "id": "07f7ae28",
   "metadata": {},
   "source": [
    "function load_data(path::String)::Dict{String, DataFrame}\n",
    "    files = filter(f -> endswith(f, \".csv\"), readdir(path))\n",
    "    data = Dict{String, DataFrame}()\n",
    "\n",
    "    for file in files\n",
    "        file_name, _ = splitext(file)\n",
    "        file_path = joinpath(path, file)\n",
    "\n",
    "        file_name = occursin(\"weather_station\", file_name) ? \"weather_station\" : file_name\n",
    "\n",
    "        data[file_name] = CSV.read(file_path, DataFrame)\n",
    "    end\n",
    "\n",
    "    return data\n",
    "end"
   ]
  },
  {
   "cell_type": "code",
   "execution_count": 5,
   "id": "1bb84101",
   "metadata": {},
   "outputs": [
    {
     "data": {
      "text/plain": [
       "Dict{String, DataFrame} with 6 entries:\n",
       "  \"historical_weather\" => \u001b[1m1710802×18 DataFrame\u001b[0m\u001b[0m…\n",
       "  \"electricity_prices\" => \u001b[1m15286×4 DataFrame\u001b[0m\u001b[0m…\n",
       "  \"weather_station\"    => \u001b[1m112×4 DataFrame\u001b[0m\u001b[0m…\n",
       "  \"client\"             => \u001b[1m41919×7 DataFrame\u001b[0m\u001b[0m…\n",
       "  \"train\"              => \u001b[1m2018352×9 DataFrame\u001b[0m\u001b[0m…\n",
       "  \"gas_prices\"         => \u001b[1m637×5 DataFrame\u001b[0m\u001b[0m…"
      ]
     },
     "metadata": {},
     "output_type": "display_data"
    }
   ],
   "source": [
    "data_dict = load_dict(data_path)"
   ]
  },
  {
   "cell_type": "markdown",
   "id": "b2eba838",
   "metadata": {},
   "source": [
    "# Descripción de los datos"
   ]
  },
  {
   "cell_type": "code",
   "execution_count": 6,
   "id": "5c5f8951",
   "metadata": {},
   "outputs": [
    {
     "data": {
      "text/plain": [
       "to_categorical! (generic function with 1 method)"
      ]
     },
     "metadata": {},
     "output_type": "display_data"
    }
   ],
   "source": [
    "function to_categorical!(df::DataFrame, cols::Vector{String})\n",
    "    for col in cols\n",
    "        if col in names(df)\n",
    "            df[!, col] = CategoricalArray(df[!, col])\n",
    "        end\n",
    "    end\n",
    "end"
   ]
  },
  {
   "cell_type": "code",
   "execution_count": 7,
   "id": "1a2d9726",
   "metadata": {},
   "outputs": [
    {
     "data": {
      "text/plain": [
       "5-element Vector{String}:\n",
       " \"county\"\n",
       " \"product_type\"\n",
       " \"is_business\"\n",
       " \"county_name\"\n",
       " \"is_consumption\""
      ]
     },
     "metadata": {},
     "output_type": "display_data"
    }
   ],
   "source": [
    "categorical_columns = [\n",
    "    \"county\",\n",
    "    \"product_type\",\n",
    "    \"is_business\",\n",
    "    \"county_name\",\n",
    "    \"is_consumption\"\n",
    "] "
   ]
  },
  {
   "cell_type": "code",
   "execution_count": 8,
   "id": "5cadd693",
   "metadata": {},
   "outputs": [],
   "source": [
    "for key in keys(data_dict)\n",
    "    to_categorical!(data_dict[key], categorical_columns)\n",
    "end"
   ]
  },
  {
   "cell_type": "code",
   "execution_count": 43,
   "id": "8d9ef66d",
   "metadata": {},
   "outputs": [
    {
     "data": {
      "text/plain": [
       "print_stats (generic function with 1 method)"
      ]
     },
     "metadata": {},
     "output_type": "display_data"
    }
   ],
   "source": [
    "function print_stats(df::DataFrame)\n",
    "    stats = describe(df)\n",
    "    for row in eachrow(stats)\n",
    "        md(\"**$(row.variable)**\")\n",
    "        for stat in names(row)[2:end]\n",
    "            md(\"\\t$stat: $(row[stat])\")\n",
    "        end\n",
    "    end\n",
    "end"
   ]
  },
  {
   "cell_type": "code",
   "execution_count": 46,
   "id": "87195d37",
   "metadata": {},
   "outputs": [
    {
     "data": {
      "text/plain": [
       "display_stats (generic function with 1 method)"
      ]
     },
     "metadata": {},
     "output_type": "display_data"
    }
   ],
   "source": [
    "function display_stats(df::DataFrame, name::String)\n",
    "    # Data visuallization\n",
    "    md(\"### **$name**\")\n",
    "    display(first(df, 5))\n",
    "    md(\"shape: $(size(df))\")\n",
    "\n",
    "    display(describe(df))\n",
    "    \n",
    "end"
   ]
  },
  {
   "cell_type": "code",
   "execution_count": 47,
   "id": "71094b53",
   "metadata": {},
   "outputs": [
    {
     "data": {
      "text/markdown": [
       "### **historical_weather**"
      ]
     },
     "metadata": {},
     "output_type": "display_data"
    },
    {
     "data": {
      "text/html": [
       "<div><div style = \"float: left;\"><span>5×18 DataFrame</span></div><div style = \"clear: both;\"></div></div><div class = \"data-frame\" style = \"overflow-x: scroll;\"><table class = \"data-frame\" style = \"margin-bottom: 6px;\"><thead><tr class = \"header\"><th class = \"rowNumber\" style = \"font-weight: bold; text-align: right;\">Row</th><th style = \"text-align: left;\">datetime</th><th style = \"text-align: left;\">temperature</th><th style = \"text-align: left;\">dewpoint</th><th style = \"text-align: left;\">rain</th><th style = \"text-align: left;\">snowfall</th><th style = \"text-align: left;\">surface_pressure</th><th style = \"text-align: left;\">cloudcover_total</th><th style = \"text-align: left;\">cloudcover_low</th><th style = \"text-align: left;\">cloudcover_mid</th><th style = \"text-align: left;\">cloudcover_high</th><th style = \"text-align: left;\">windspeed_10m</th><th style = \"text-align: left;\">winddirection_10m</th><th style = \"text-align: left;\">shortwave_radiation</th><th style = \"text-align: left;\">direct_solar_radiation</th><th style = \"text-align: left;\">diffuse_radiation</th><th style = \"text-align: left;\">latitude</th><th style = \"text-align: left;\">longitude</th><th style = \"text-align: left;\">data_block_id</th></tr><tr class = \"subheader headerLastRow\"><th class = \"rowNumber\" style = \"font-weight: bold; text-align: right;\"></th><th title = \"String31\" style = \"text-align: left;\">String31</th><th title = \"Float64\" style = \"text-align: left;\">Float64</th><th title = \"Float64\" style = \"text-align: left;\">Float64</th><th title = \"Float64\" style = \"text-align: left;\">Float64</th><th title = \"Float64\" style = \"text-align: left;\">Float64</th><th title = \"Float64\" style = \"text-align: left;\">Float64</th><th title = \"Int64\" style = \"text-align: left;\">Int64</th><th title = \"Int64\" style = \"text-align: left;\">Int64</th><th title = \"Int64\" style = \"text-align: left;\">Int64</th><th title = \"Int64\" style = \"text-align: left;\">Int64</th><th title = \"Float64\" style = \"text-align: left;\">Float64</th><th title = \"Int64\" style = \"text-align: left;\">Int64</th><th title = \"Float64\" style = \"text-align: left;\">Float64</th><th title = \"Float64\" style = \"text-align: left;\">Float64</th><th title = \"Float64\" style = \"text-align: left;\">Float64</th><th title = \"Float64\" style = \"text-align: left;\">Float64</th><th title = \"Float64\" style = \"text-align: left;\">Float64</th><th title = \"Float64\" style = \"text-align: left;\">Float64</th></tr></thead><tbody><tr><td class = \"rowNumber\" style = \"font-weight: bold; text-align: right;\">1</td><td style = \"text-align: left;\">2021-09-01 00:00:00</td><td style = \"text-align: right;\">14.2</td><td style = \"text-align: right;\">11.6</td><td style = \"text-align: right;\">0.0</td><td style = \"text-align: right;\">0.0</td><td style = \"text-align: right;\">1015.9</td><td style = \"text-align: right;\">31</td><td style = \"text-align: right;\">31</td><td style = \"text-align: right;\">0</td><td style = \"text-align: right;\">11</td><td style = \"text-align: right;\">7.08333</td><td style = \"text-align: right;\">8</td><td style = \"text-align: right;\">0.0</td><td style = \"text-align: right;\">0.0</td><td style = \"text-align: right;\">0.0</td><td style = \"text-align: right;\">57.6</td><td style = \"text-align: right;\">21.7</td><td style = \"text-align: right;\">1.0</td></tr><tr><td class = \"rowNumber\" style = \"font-weight: bold; text-align: right;\">2</td><td style = \"text-align: left;\">2021-09-01 00:00:00</td><td style = \"text-align: right;\">13.9</td><td style = \"text-align: right;\">11.5</td><td style = \"text-align: right;\">0.0</td><td style = \"text-align: right;\">0.0</td><td style = \"text-align: right;\">1010.7</td><td style = \"text-align: right;\">33</td><td style = \"text-align: right;\">37</td><td style = \"text-align: right;\">0</td><td style = \"text-align: right;\">0</td><td style = \"text-align: right;\">5.11111</td><td style = \"text-align: right;\">359</td><td style = \"text-align: right;\">0.0</td><td style = \"text-align: right;\">0.0</td><td style = \"text-align: right;\">0.0</td><td style = \"text-align: right;\">57.6</td><td style = \"text-align: right;\">22.2</td><td style = \"text-align: right;\">1.0</td></tr><tr><td class = \"rowNumber\" style = \"font-weight: bold; text-align: right;\">3</td><td style = \"text-align: left;\">2021-09-01 00:00:00</td><td style = \"text-align: right;\">14.0</td><td style = \"text-align: right;\">12.5</td><td style = \"text-align: right;\">0.0</td><td style = \"text-align: right;\">0.0</td><td style = \"text-align: right;\">1015.0</td><td style = \"text-align: right;\">31</td><td style = \"text-align: right;\">34</td><td style = \"text-align: right;\">0</td><td style = \"text-align: right;\">0</td><td style = \"text-align: right;\">6.33333</td><td style = \"text-align: right;\">355</td><td style = \"text-align: right;\">0.0</td><td style = \"text-align: right;\">0.0</td><td style = \"text-align: right;\">0.0</td><td style = \"text-align: right;\">57.6</td><td style = \"text-align: right;\">22.7</td><td style = \"text-align: right;\">1.0</td></tr><tr><td class = \"rowNumber\" style = \"font-weight: bold; text-align: right;\">4</td><td style = \"text-align: left;\">2021-09-01 00:00:00</td><td style = \"text-align: right;\">14.6</td><td style = \"text-align: right;\">11.5</td><td style = \"text-align: right;\">0.0</td><td style = \"text-align: right;\">0.0</td><td style = \"text-align: right;\">1017.3</td><td style = \"text-align: right;\">0</td><td style = \"text-align: right;\">0</td><td style = \"text-align: right;\">0</td><td style = \"text-align: right;\">0</td><td style = \"text-align: right;\">8.08333</td><td style = \"text-align: right;\">297</td><td style = \"text-align: right;\">358.0</td><td style = \"text-align: right;\">277.0</td><td style = \"text-align: right;\">81.0</td><td style = \"text-align: right;\">57.6</td><td style = \"text-align: right;\">23.2</td><td style = \"text-align: right;\">1.0</td></tr><tr><td class = \"rowNumber\" style = \"font-weight: bold; text-align: right;\">5</td><td style = \"text-align: left;\">2021-09-01 00:00:00</td><td style = \"text-align: right;\">15.7</td><td style = \"text-align: right;\">12.9</td><td style = \"text-align: right;\">0.0</td><td style = \"text-align: right;\">0.0</td><td style = \"text-align: right;\">1014.0</td><td style = \"text-align: right;\">22</td><td style = \"text-align: right;\">25</td><td style = \"text-align: right;\">0</td><td style = \"text-align: right;\">0</td><td style = \"text-align: right;\">8.41667</td><td style = \"text-align: right;\">5</td><td style = \"text-align: right;\">0.0</td><td style = \"text-align: right;\">0.0</td><td style = \"text-align: right;\">0.0</td><td style = \"text-align: right;\">57.6</td><td style = \"text-align: right;\">23.7</td><td style = \"text-align: right;\">1.0</td></tr></tbody></table></div>"
      ],
      "text/latex": [
       "\\begin{tabular}{r|ccccccc}\n",
       "\t& datetime & temperature & dewpoint & rain & snowfall & surface\\_pressure & \\\\\n",
       "\t\\hline\n",
       "\t& String31 & Float64 & Float64 & Float64 & Float64 & Float64 & \\\\\n",
       "\t\\hline\n",
       "\t1 & 2021-09-01 00:00:00 & 14.2 & 11.6 & 0.0 & 0.0 & 1015.9 & $\\dots$ \\\\\n",
       "\t2 & 2021-09-01 00:00:00 & 13.9 & 11.5 & 0.0 & 0.0 & 1010.7 & $\\dots$ \\\\\n",
       "\t3 & 2021-09-01 00:00:00 & 14.0 & 12.5 & 0.0 & 0.0 & 1015.0 & $\\dots$ \\\\\n",
       "\t4 & 2021-09-01 00:00:00 & 14.6 & 11.5 & 0.0 & 0.0 & 1017.3 & $\\dots$ \\\\\n",
       "\t5 & 2021-09-01 00:00:00 & 15.7 & 12.9 & 0.0 & 0.0 & 1014.0 & $\\dots$ \\\\\n",
       "\\end{tabular}\n"
      ],
      "text/plain": [
       "\u001b[1m5×18 DataFrame\u001b[0m\n",
       "\u001b[1m Row \u001b[0m│\u001b[1m datetime            \u001b[0m\u001b[1m temperature \u001b[0m\u001b[1m dewpoint \u001b[0m\u001b[1m rain    \u001b[0m\u001b[1m snowfall \u001b[0m\u001b[1m surface_\u001b[0m ⋯\n",
       "     │\u001b[90m String31            \u001b[0m\u001b[90m Float64     \u001b[0m\u001b[90m Float64  \u001b[0m\u001b[90m Float64 \u001b[0m\u001b[90m Float64  \u001b[0m\u001b[90m Float64 \u001b[0m ⋯\n",
       "─────┼──────────────────────────────────────────────────────────────────────────\n",
       "   1 │ 2021-09-01 00:00:00         14.2      11.6      0.0       0.0           ⋯\n",
       "   2 │ 2021-09-01 00:00:00         13.9      11.5      0.0       0.0\n",
       "   3 │ 2021-09-01 00:00:00         14.0      12.5      0.0       0.0\n",
       "   4 │ 2021-09-01 00:00:00         14.6      11.5      0.0       0.0\n",
       "   5 │ 2021-09-01 00:00:00         15.7      12.9      0.0       0.0           ⋯\n",
       "\u001b[36m                                                              13 columns omitted\u001b[0m"
      ]
     },
     "metadata": {},
     "output_type": "display_data"
    },
    {
     "data": {
      "text/markdown": [
       "shape: (1710802, 18)"
      ]
     },
     "metadata": {},
     "output_type": "display_data"
    },
    {
     "data": {
      "text/html": [
       "<div><div style = \"float: left;\"><span>18×7 DataFrame</span></div><div style = \"clear: both;\"></div></div><div class = \"data-frame\" style = \"overflow-x: scroll;\"><table class = \"data-frame\" style = \"margin-bottom: 6px;\"><thead><tr class = \"header\"><th class = \"rowNumber\" style = \"font-weight: bold; text-align: right;\">Row</th><th style = \"text-align: left;\">variable</th><th style = \"text-align: left;\">mean</th><th style = \"text-align: left;\">min</th><th style = \"text-align: left;\">median</th><th style = \"text-align: left;\">max</th><th style = \"text-align: left;\">nmissing</th><th style = \"text-align: left;\">eltype</th></tr><tr class = \"subheader headerLastRow\"><th class = \"rowNumber\" style = \"font-weight: bold; text-align: right;\"></th><th title = \"Symbol\" style = \"text-align: left;\">Symbol</th><th title = \"Union{Nothing, Float64}\" style = \"text-align: left;\">Union…</th><th title = \"Any\" style = \"text-align: left;\">Any</th><th title = \"Union{Nothing, Float64}\" style = \"text-align: left;\">Union…</th><th title = \"Any\" style = \"text-align: left;\">Any</th><th title = \"Int64\" style = \"text-align: left;\">Int64</th><th title = \"DataType\" style = \"text-align: left;\">DataType</th></tr></thead><tbody><tr><td class = \"rowNumber\" style = \"font-weight: bold; text-align: right;\">1</td><td style = \"text-align: left;\">datetime</td><td style = \"font-style: italic; text-align: left;\"></td><td style = \"text-align: left;\">2021-09-01 00:00:00</td><td style = \"font-style: italic; text-align: left;\"></td><td style = \"text-align: left;\">2023-05-30 10:00:00</td><td style = \"text-align: right;\">0</td><td style = \"text-align: left;\">String31</td></tr><tr><td class = \"rowNumber\" style = \"font-weight: bold; text-align: right;\">2</td><td style = \"text-align: left;\">temperature</td><td style = \"text-align: left;\">5.74097</td><td style = \"text-align: left;\">-23.7</td><td style = \"text-align: left;\">5.1</td><td style = \"text-align: left;\">32.6</td><td style = \"text-align: right;\">0</td><td style = \"text-align: left;\">Float64</td></tr><tr><td class = \"rowNumber\" style = \"font-weight: bold; text-align: right;\">3</td><td style = \"text-align: left;\">dewpoint</td><td style = \"text-align: left;\">2.24031</td><td style = \"text-align: left;\">-25.9</td><td style = \"text-align: left;\">1.7</td><td style = \"text-align: left;\">23.8</td><td style = \"text-align: right;\">0</td><td style = \"text-align: left;\">Float64</td></tr><tr><td class = \"rowNumber\" style = \"font-weight: bold; text-align: right;\">4</td><td style = \"text-align: left;\">rain</td><td style = \"text-align: left;\">0.0496201</td><td style = \"text-align: left;\">0.0</td><td style = \"text-align: left;\">0.0</td><td style = \"text-align: left;\">16.8</td><td style = \"text-align: right;\">0</td><td style = \"text-align: left;\">Float64</td></tr><tr><td class = \"rowNumber\" style = \"font-weight: bold; text-align: right;\">5</td><td style = \"text-align: left;\">snowfall</td><td style = \"text-align: left;\">0.016049</td><td style = \"text-align: left;\">0.0</td><td style = \"text-align: left;\">0.0</td><td style = \"text-align: left;\">2.66</td><td style = \"text-align: right;\">0</td><td style = \"text-align: left;\">Float64</td></tr><tr><td class = \"rowNumber\" style = \"font-weight: bold; text-align: right;\">6</td><td style = \"text-align: left;\">surface_pressure</td><td style = \"text-align: left;\">1009.28</td><td style = \"text-align: left;\">942.9</td><td style = \"text-align: left;\">1010.4</td><td style = \"text-align: left;\">1049.3</td><td style = \"text-align: right;\">0</td><td style = \"text-align: left;\">Float64</td></tr><tr><td class = \"rowNumber\" style = \"font-weight: bold; text-align: right;\">7</td><td style = \"text-align: left;\">cloudcover_total</td><td style = \"text-align: left;\">60.9127</td><td style = \"text-align: left;\">0</td><td style = \"text-align: left;\">72.0</td><td style = \"text-align: left;\">100</td><td style = \"text-align: right;\">0</td><td style = \"text-align: left;\">Int64</td></tr><tr><td class = \"rowNumber\" style = \"font-weight: bold; text-align: right;\">8</td><td style = \"text-align: left;\">cloudcover_low</td><td style = \"text-align: left;\">46.6859</td><td style = \"text-align: left;\">0</td><td style = \"text-align: left;\">39.0</td><td style = \"text-align: left;\">100</td><td style = \"text-align: right;\">0</td><td style = \"text-align: left;\">Int64</td></tr><tr><td class = \"rowNumber\" style = \"font-weight: bold; text-align: right;\">9</td><td style = \"text-align: left;\">cloudcover_mid</td><td style = \"text-align: left;\">34.407</td><td style = \"text-align: left;\">0</td><td style = \"text-align: left;\">16.0</td><td style = \"text-align: left;\">100</td><td style = \"text-align: right;\">0</td><td style = \"text-align: left;\">Int64</td></tr><tr><td class = \"rowNumber\" style = \"font-weight: bold; text-align: right;\">10</td><td style = \"text-align: left;\">cloudcover_high</td><td style = \"text-align: left;\">36.0514</td><td style = \"text-align: left;\">0</td><td style = \"text-align: left;\">10.0</td><td style = \"text-align: left;\">100</td><td style = \"text-align: right;\">0</td><td style = \"text-align: left;\">Int64</td></tr><tr><td class = \"rowNumber\" style = \"font-weight: bold; text-align: right;\">11</td><td style = \"text-align: left;\">windspeed_10m</td><td style = \"text-align: left;\">4.84987</td><td style = \"text-align: left;\">0.0</td><td style = \"text-align: left;\">4.5</td><td style = \"text-align: left;\">21.75</td><td style = \"text-align: right;\">0</td><td style = \"text-align: left;\">Float64</td></tr><tr><td class = \"rowNumber\" style = \"font-weight: bold; text-align: right;\">12</td><td style = \"text-align: left;\">winddirection_10m</td><td style = \"text-align: left;\">197.869</td><td style = \"text-align: left;\">0</td><td style = \"text-align: left;\">208.0</td><td style = \"text-align: left;\">360</td><td style = \"text-align: right;\">0</td><td style = \"text-align: left;\">Int64</td></tr><tr><td class = \"rowNumber\" style = \"font-weight: bold; text-align: right;\">13</td><td style = \"text-align: left;\">shortwave_radiation</td><td style = \"text-align: left;\">106.491</td><td style = \"text-align: left;\">0.0</td><td style = \"text-align: left;\">1.0</td><td style = \"text-align: left;\">849.0</td><td style = \"text-align: right;\">0</td><td style = \"text-align: left;\">Float64</td></tr><tr><td class = \"rowNumber\" style = \"font-weight: bold; text-align: right;\">14</td><td style = \"text-align: left;\">direct_solar_radiation</td><td style = \"text-align: left;\">64.4529</td><td style = \"text-align: left;\">0.0</td><td style = \"text-align: left;\">0.0</td><td style = \"text-align: left;\">754.0</td><td style = \"text-align: right;\">0</td><td style = \"text-align: left;\">Float64</td></tr><tr><td class = \"rowNumber\" style = \"font-weight: bold; text-align: right;\">15</td><td style = \"text-align: left;\">diffuse_radiation</td><td style = \"text-align: left;\">42.0376</td><td style = \"text-align: left;\">0.0</td><td style = \"text-align: left;\">1.0</td><td style = \"text-align: left;\">388.0</td><td style = \"text-align: right;\">0</td><td style = \"text-align: left;\">Float64</td></tr><tr><td class = \"rowNumber\" style = \"font-weight: bold; text-align: right;\">16</td><td style = \"text-align: left;\">latitude</td><td style = \"text-align: left;\">58.65</td><td style = \"text-align: left;\">57.6</td><td style = \"text-align: left;\">58.5</td><td style = \"text-align: left;\">59.7</td><td style = \"text-align: right;\">0</td><td style = \"text-align: left;\">Float64</td></tr><tr><td class = \"rowNumber\" style = \"font-weight: bold; text-align: right;\">17</td><td style = \"text-align: left;\">longitude</td><td style = \"text-align: left;\">24.95</td><td style = \"text-align: left;\">21.7</td><td style = \"text-align: left;\">24.7</td><td style = \"text-align: left;\">28.2</td><td style = \"text-align: right;\">0</td><td style = \"text-align: left;\">Float64</td></tr><tr><td class = \"rowNumber\" style = \"font-weight: bold; text-align: right;\">18</td><td style = \"text-align: left;\">data_block_id</td><td style = \"text-align: left;\">319.271</td><td style = \"text-align: left;\">1.0</td><td style = \"text-align: left;\">319.0</td><td style = \"text-align: left;\">637.0</td><td style = \"text-align: right;\">0</td><td style = \"text-align: left;\">Float64</td></tr></tbody></table></div>"
      ],
      "text/latex": [
       "\\begin{tabular}{r|cccccc}\n",
       "\t& variable & mean & min & median & max & \\\\\n",
       "\t\\hline\n",
       "\t& Symbol & Union… & Any & Union… & Any & \\\\\n",
       "\t\\hline\n",
       "\t1 & datetime &  & 2021-09-01 00:00:00 &  & 2023-05-30 10:00:00 & $\\dots$ \\\\\n",
       "\t2 & temperature & 5.74097 & -23.7 & 5.1 & 32.6 & $\\dots$ \\\\\n",
       "\t3 & dewpoint & 2.24031 & -25.9 & 1.7 & 23.8 & $\\dots$ \\\\\n",
       "\t4 & rain & 0.0496201 & 0.0 & 0.0 & 16.8 & $\\dots$ \\\\\n",
       "\t5 & snowfall & 0.016049 & 0.0 & 0.0 & 2.66 & $\\dots$ \\\\\n",
       "\t6 & surface\\_pressure & 1009.28 & 942.9 & 1010.4 & 1049.3 & $\\dots$ \\\\\n",
       "\t7 & cloudcover\\_total & 60.9127 & 0 & 72.0 & 100 & $\\dots$ \\\\\n",
       "\t8 & cloudcover\\_low & 46.6859 & 0 & 39.0 & 100 & $\\dots$ \\\\\n",
       "\t9 & cloudcover\\_mid & 34.407 & 0 & 16.0 & 100 & $\\dots$ \\\\\n",
       "\t10 & cloudcover\\_high & 36.0514 & 0 & 10.0 & 100 & $\\dots$ \\\\\n",
       "\t11 & windspeed\\_10m & 4.84987 & 0.0 & 4.5 & 21.75 & $\\dots$ \\\\\n",
       "\t12 & winddirection\\_10m & 197.869 & 0 & 208.0 & 360 & $\\dots$ \\\\\n",
       "\t13 & shortwave\\_radiation & 106.491 & 0.0 & 1.0 & 849.0 & $\\dots$ \\\\\n",
       "\t14 & direct\\_solar\\_radiation & 64.4529 & 0.0 & 0.0 & 754.0 & $\\dots$ \\\\\n",
       "\t15 & diffuse\\_radiation & 42.0376 & 0.0 & 1.0 & 388.0 & $\\dots$ \\\\\n",
       "\t16 & latitude & 58.65 & 57.6 & 58.5 & 59.7 & $\\dots$ \\\\\n",
       "\t17 & longitude & 24.95 & 21.7 & 24.7 & 28.2 & $\\dots$ \\\\\n",
       "\t18 & data\\_block\\_id & 319.271 & 1.0 & 319.0 & 637.0 & $\\dots$ \\\\\n",
       "\\end{tabular}\n"
      ],
      "text/plain": [
       "\u001b[1m18×7 DataFrame\u001b[0m\n",
       "\u001b[1m Row \u001b[0m│\u001b[1m variable               \u001b[0m\u001b[1m mean      \u001b[0m\u001b[1m min                 \u001b[0m\u001b[1m median \u001b[0m\u001b[1m max    \u001b[0m ⋯\n",
       "     │\u001b[90m Symbol                 \u001b[0m\u001b[90m Union…    \u001b[0m\u001b[90m Any                 \u001b[0m\u001b[90m Union… \u001b[0m\u001b[90m Any    \u001b[0m ⋯\n",
       "─────┼──────────────────────────────────────────────────────────────────────────\n",
       "   1 │ datetime               \u001b[90m           \u001b[0m 2021-09-01 00:00:00 \u001b[90m        \u001b[0m 2023-05 ⋯\n",
       "   2 │ temperature             5.74097    -23.7                5.1     32.6\n",
       "   3 │ dewpoint                2.24031    -25.9                1.7     23.8\n",
       "   4 │ rain                    0.0496201  0.0                  0.0     16.8\n",
       "   5 │ snowfall                0.016049   0.0                  0.0     2.66    ⋯\n",
       "   6 │ surface_pressure        1009.28    942.9                1010.4  1049.3\n",
       "   7 │ cloudcover_total        60.9127    0                    72.0    100\n",
       "   8 │ cloudcover_low          46.6859    0                    39.0    100\n",
       "  ⋮  │           ⋮                 ⋮               ⋮             ⋮             ⋱\n",
       "  12 │ winddirection_10m       197.869    0                    208.0   360     ⋯\n",
       "  13 │ shortwave_radiation     106.491    0.0                  1.0     849.0\n",
       "  14 │ direct_solar_radiation  64.4529    0.0                  0.0     754.0\n",
       "  15 │ diffuse_radiation       42.0376    0.0                  1.0     388.0\n",
       "  16 │ latitude                58.65      57.6                 58.5    59.7    ⋯\n",
       "  17 │ longitude               24.95      21.7                 24.7    28.2\n",
       "  18 │ data_block_id           319.271    1.0                  319.0   637.0\n",
       "\u001b[36m                                                    3 columns and 3 rows omitted\u001b[0m"
      ]
     },
     "metadata": {},
     "output_type": "display_data"
    },
    {
     "data": {
      "text/markdown": [
       "### **electricity_prices**"
      ]
     },
     "metadata": {},
     "output_type": "display_data"
    },
    {
     "data": {
      "text/html": [
       "<div><div style = \"float: left;\"><span>5×4 DataFrame</span></div><div style = \"clear: both;\"></div></div><div class = \"data-frame\" style = \"overflow-x: scroll;\"><table class = \"data-frame\" style = \"margin-bottom: 6px;\"><thead><tr class = \"header\"><th class = \"rowNumber\" style = \"font-weight: bold; text-align: right;\">Row</th><th style = \"text-align: left;\">forecast_date</th><th style = \"text-align: left;\">euros_per_mwh</th><th style = \"text-align: left;\">origin_date</th><th style = \"text-align: left;\">data_block_id</th></tr><tr class = \"subheader headerLastRow\"><th class = \"rowNumber\" style = \"font-weight: bold; text-align: right;\"></th><th title = \"String31\" style = \"text-align: left;\">String31</th><th title = \"Float64\" style = \"text-align: left;\">Float64</th><th title = \"String31\" style = \"text-align: left;\">String31</th><th title = \"Int64\" style = \"text-align: left;\">Int64</th></tr></thead><tbody><tr><td class = \"rowNumber\" style = \"font-weight: bold; text-align: right;\">1</td><td style = \"text-align: left;\">2021-09-01 00:00:00</td><td style = \"text-align: right;\">92.51</td><td style = \"text-align: left;\">2021-08-31 00:00:00</td><td style = \"text-align: right;\">1</td></tr><tr><td class = \"rowNumber\" style = \"font-weight: bold; text-align: right;\">2</td><td style = \"text-align: left;\">2021-09-01 01:00:00</td><td style = \"text-align: right;\">88.9</td><td style = \"text-align: left;\">2021-08-31 01:00:00</td><td style = \"text-align: right;\">1</td></tr><tr><td class = \"rowNumber\" style = \"font-weight: bold; text-align: right;\">3</td><td style = \"text-align: left;\">2021-09-01 02:00:00</td><td style = \"text-align: right;\">87.35</td><td style = \"text-align: left;\">2021-08-31 02:00:00</td><td style = \"text-align: right;\">1</td></tr><tr><td class = \"rowNumber\" style = \"font-weight: bold; text-align: right;\">4</td><td style = \"text-align: left;\">2021-09-01 03:00:00</td><td style = \"text-align: right;\">86.88</td><td style = \"text-align: left;\">2021-08-31 03:00:00</td><td style = \"text-align: right;\">1</td></tr><tr><td class = \"rowNumber\" style = \"font-weight: bold; text-align: right;\">5</td><td style = \"text-align: left;\">2021-09-01 04:00:00</td><td style = \"text-align: right;\">88.43</td><td style = \"text-align: left;\">2021-08-31 04:00:00</td><td style = \"text-align: right;\">1</td></tr></tbody></table></div>"
      ],
      "text/latex": [
       "\\begin{tabular}{r|cccc}\n",
       "\t& forecast\\_date & euros\\_per\\_mwh & origin\\_date & data\\_block\\_id\\\\\n",
       "\t\\hline\n",
       "\t& String31 & Float64 & String31 & Int64\\\\\n",
       "\t\\hline\n",
       "\t1 & 2021-09-01 00:00:00 & 92.51 & 2021-08-31 00:00:00 & 1 \\\\\n",
       "\t2 & 2021-09-01 01:00:00 & 88.9 & 2021-08-31 01:00:00 & 1 \\\\\n",
       "\t3 & 2021-09-01 02:00:00 & 87.35 & 2021-08-31 02:00:00 & 1 \\\\\n",
       "\t4 & 2021-09-01 03:00:00 & 86.88 & 2021-08-31 03:00:00 & 1 \\\\\n",
       "\t5 & 2021-09-01 04:00:00 & 88.43 & 2021-08-31 04:00:00 & 1 \\\\\n",
       "\\end{tabular}\n"
      ],
      "text/plain": [
       "\u001b[1m5×4 DataFrame\u001b[0m\n",
       "\u001b[1m Row \u001b[0m│\u001b[1m forecast_date       \u001b[0m\u001b[1m euros_per_mwh \u001b[0m\u001b[1m origin_date         \u001b[0m\u001b[1m data_block_id \u001b[0m\n",
       "     │\u001b[90m String31            \u001b[0m\u001b[90m Float64       \u001b[0m\u001b[90m String31            \u001b[0m\u001b[90m Int64         \u001b[0m\n",
       "─────┼────────────────────────────────────────────────────────────────────────\n",
       "   1 │ 2021-09-01 00:00:00          92.51  2021-08-31 00:00:00              1\n",
       "   2 │ 2021-09-01 01:00:00          88.9   2021-08-31 01:00:00              1\n",
       "   3 │ 2021-09-01 02:00:00          87.35  2021-08-31 02:00:00              1\n",
       "   4 │ 2021-09-01 03:00:00          86.88  2021-08-31 03:00:00              1\n",
       "   5 │ 2021-09-01 04:00:00          88.43  2021-08-31 04:00:00              1"
      ]
     },
     "metadata": {},
     "output_type": "display_data"
    },
    {
     "data": {
      "text/markdown": [
       "shape: (15286, 4)"
      ]
     },
     "metadata": {},
     "output_type": "display_data"
    },
    {
     "data": {
      "text/html": [
       "<div><div style = \"float: left;\"><span>4×7 DataFrame</span></div><div style = \"clear: both;\"></div></div><div class = \"data-frame\" style = \"overflow-x: scroll;\"><table class = \"data-frame\" style = \"margin-bottom: 6px;\"><thead><tr class = \"header\"><th class = \"rowNumber\" style = \"font-weight: bold; text-align: right;\">Row</th><th style = \"text-align: left;\">variable</th><th style = \"text-align: left;\">mean</th><th style = \"text-align: left;\">min</th><th style = \"text-align: left;\">median</th><th style = \"text-align: left;\">max</th><th style = \"text-align: left;\">nmissing</th><th style = \"text-align: left;\">eltype</th></tr><tr class = \"subheader headerLastRow\"><th class = \"rowNumber\" style = \"font-weight: bold; text-align: right;\"></th><th title = \"Symbol\" style = \"text-align: left;\">Symbol</th><th title = \"Union{Nothing, Float64}\" style = \"text-align: left;\">Union…</th><th title = \"Any\" style = \"text-align: left;\">Any</th><th title = \"Union{Nothing, Float64}\" style = \"text-align: left;\">Union…</th><th title = \"Any\" style = \"text-align: left;\">Any</th><th title = \"Int64\" style = \"text-align: left;\">Int64</th><th title = \"DataType\" style = \"text-align: left;\">DataType</th></tr></thead><tbody><tr><td class = \"rowNumber\" style = \"font-weight: bold; text-align: right;\">1</td><td style = \"text-align: left;\">forecast_date</td><td style = \"font-style: italic; text-align: left;\"></td><td style = \"text-align: left;\">2021-09-01 00:00:00</td><td style = \"font-style: italic; text-align: left;\"></td><td style = \"text-align: left;\">2023-05-30 23:00:00</td><td style = \"text-align: right;\">0</td><td style = \"text-align: left;\">String31</td></tr><tr><td class = \"rowNumber\" style = \"font-weight: bold; text-align: right;\">2</td><td style = \"text-align: left;\">euros_per_mwh</td><td style = \"text-align: left;\">157.064</td><td style = \"text-align: left;\">-10.06</td><td style = \"text-align: left;\">128.28</td><td style = \"text-align: left;\">4000.0</td><td style = \"text-align: right;\">0</td><td style = \"text-align: left;\">Float64</td></tr><tr><td class = \"rowNumber\" style = \"font-weight: bold; text-align: right;\">3</td><td style = \"text-align: left;\">origin_date</td><td style = \"font-style: italic; text-align: left;\"></td><td style = \"text-align: left;\">2021-08-31 00:00:00</td><td style = \"font-style: italic; text-align: left;\"></td><td style = \"text-align: left;\">2023-05-29 23:00:00</td><td style = \"text-align: right;\">0</td><td style = \"text-align: left;\">String31</td></tr><tr><td class = \"rowNumber\" style = \"font-weight: bold; text-align: right;\">4</td><td style = \"text-align: left;\">data_block_id</td><td style = \"text-align: left;\">318.991</td><td style = \"text-align: left;\">1</td><td style = \"text-align: left;\">319.0</td><td style = \"text-align: left;\">637</td><td style = \"text-align: right;\">0</td><td style = \"text-align: left;\">Int64</td></tr></tbody></table></div>"
      ],
      "text/latex": [
       "\\begin{tabular}{r|ccccccc}\n",
       "\t& variable & mean & min & median & max & nmissing & \\\\\n",
       "\t\\hline\n",
       "\t& Symbol & Union… & Any & Union… & Any & Int64 & \\\\\n",
       "\t\\hline\n",
       "\t1 & forecast\\_date &  & 2021-09-01 00:00:00 &  & 2023-05-30 23:00:00 & 0 & $\\dots$ \\\\\n",
       "\t2 & euros\\_per\\_mwh & 157.064 & -10.06 & 128.28 & 4000.0 & 0 & $\\dots$ \\\\\n",
       "\t3 & origin\\_date &  & 2021-08-31 00:00:00 &  & 2023-05-29 23:00:00 & 0 & $\\dots$ \\\\\n",
       "\t4 & data\\_block\\_id & 318.991 & 1 & 319.0 & 637 & 0 & $\\dots$ \\\\\n",
       "\\end{tabular}\n"
      ],
      "text/plain": [
       "\u001b[1m4×7 DataFrame\u001b[0m\n",
       "\u001b[1m Row \u001b[0m│\u001b[1m variable      \u001b[0m\u001b[1m mean    \u001b[0m\u001b[1m min                 \u001b[0m\u001b[1m median \u001b[0m\u001b[1m max               \u001b[0m ⋯\n",
       "     │\u001b[90m Symbol        \u001b[0m\u001b[90m Union…  \u001b[0m\u001b[90m Any                 \u001b[0m\u001b[90m Union… \u001b[0m\u001b[90m Any               \u001b[0m ⋯\n",
       "─────┼──────────────────────────────────────────────────────────────────────────\n",
       "   1 │ forecast_date \u001b[90m         \u001b[0m 2021-09-01 00:00:00 \u001b[90m        \u001b[0m 2023-05-30 23:00:0 ⋯\n",
       "   2 │ euros_per_mwh  157.064  -10.06               128.28  4000.0\n",
       "   3 │ origin_date   \u001b[90m         \u001b[0m 2021-08-31 00:00:00 \u001b[90m        \u001b[0m 2023-05-29 23:00:0\n",
       "   4 │ data_block_id  318.991  1                    319.0   637\n",
       "\u001b[36m                                                               3 columns omitted\u001b[0m"
      ]
     },
     "metadata": {},
     "output_type": "display_data"
    },
    {
     "data": {
      "text/markdown": [
       "### **weather_station**"
      ]
     },
     "metadata": {},
     "output_type": "display_data"
    },
    {
     "data": {
      "text/html": [
       "<div><div style = \"float: left;\"><span>5×4 DataFrame</span></div><div style = \"clear: both;\"></div></div><div class = \"data-frame\" style = \"overflow-x: scroll;\"><table class = \"data-frame\" style = \"margin-bottom: 6px;\"><thead><tr class = \"header\"><th class = \"rowNumber\" style = \"font-weight: bold; text-align: right;\">Row</th><th style = \"text-align: left;\">county_name</th><th style = \"text-align: left;\">longitude</th><th style = \"text-align: left;\">latitude</th><th style = \"text-align: left;\">county</th></tr><tr class = \"subheader headerLastRow\"><th class = \"rowNumber\" style = \"font-weight: bold; text-align: right;\"></th><th title = \"Union{Missing, CategoricalValue{String15, UInt32}}\" style = \"text-align: left;\">Cat…?</th><th title = \"Float64\" style = \"text-align: left;\">Float64</th><th title = \"Float64\" style = \"text-align: left;\">Float64</th><th title = \"Union{Missing, CategoricalValue{Int64, UInt32}}\" style = \"text-align: left;\">Cat…?</th></tr></thead><tbody><tr><td class = \"rowNumber\" style = \"font-weight: bold; text-align: right;\">1</td><td style = \"font-style: italic; text-align: left;\">missing</td><td style = \"text-align: right;\">21.7</td><td style = \"text-align: right;\">57.6</td><td style = \"font-style: italic; text-align: left;\">missing</td></tr><tr><td class = \"rowNumber\" style = \"font-weight: bold; text-align: right;\">2</td><td style = \"font-style: italic; text-align: left;\">missing</td><td style = \"text-align: right;\">21.7</td><td style = \"text-align: right;\">57.9</td><td style = \"font-style: italic; text-align: left;\">missing</td></tr><tr><td class = \"rowNumber\" style = \"font-weight: bold; text-align: right;\">3</td><td style = \"font-style: italic; text-align: left;\">missing</td><td style = \"text-align: right;\">21.7</td><td style = \"text-align: right;\">58.2</td><td style = \"font-style: italic; text-align: left;\">missing</td></tr><tr><td class = \"rowNumber\" style = \"font-weight: bold; text-align: right;\">4</td><td style = \"font-style: italic; text-align: left;\">missing</td><td style = \"text-align: right;\">21.7</td><td style = \"text-align: right;\">58.5</td><td style = \"font-style: italic; text-align: left;\">missing</td></tr><tr><td class = \"rowNumber\" style = \"font-weight: bold; text-align: right;\">5</td><td style = \"font-style: italic; text-align: left;\">missing</td><td style = \"text-align: right;\">21.7</td><td style = \"text-align: right;\">58.8</td><td style = \"font-style: italic; text-align: left;\">missing</td></tr></tbody></table></div>"
      ],
      "text/latex": [
       "\\begin{tabular}{r|cccc}\n",
       "\t& county\\_name & longitude & latitude & county\\\\\n",
       "\t\\hline\n",
       "\t& Cat…? & Float64 & Float64 & Cat…?\\\\\n",
       "\t\\hline\n",
       "\t1 & \\emph{missing} & 21.7 & 57.6 & \\emph{missing} \\\\\n",
       "\t2 & \\emph{missing} & 21.7 & 57.9 & \\emph{missing} \\\\\n",
       "\t3 & \\emph{missing} & 21.7 & 58.2 & \\emph{missing} \\\\\n",
       "\t4 & \\emph{missing} & 21.7 & 58.5 & \\emph{missing} \\\\\n",
       "\t5 & \\emph{missing} & 21.7 & 58.8 & \\emph{missing} \\\\\n",
       "\\end{tabular}\n"
      ],
      "text/plain": [
       "\u001b[1m5×4 DataFrame\u001b[0m\n",
       "\u001b[1m Row \u001b[0m│\u001b[1m county_name \u001b[0m\u001b[1m longitude \u001b[0m\u001b[1m latitude \u001b[0m\u001b[1m county  \u001b[0m\n",
       "     │\u001b[90m Cat…?       \u001b[0m\u001b[90m Float64   \u001b[0m\u001b[90m Float64  \u001b[0m\u001b[90m Cat…?   \u001b[0m\n",
       "─────┼───────────────────────────────────────────\n",
       "   1 │\u001b[90m missing     \u001b[0m      21.7      57.6 \u001b[90m missing \u001b[0m\n",
       "   2 │\u001b[90m missing     \u001b[0m      21.7      57.9 \u001b[90m missing \u001b[0m\n",
       "   3 │\u001b[90m missing     \u001b[0m      21.7      58.2 \u001b[90m missing \u001b[0m\n",
       "   4 │\u001b[90m missing     \u001b[0m      21.7      58.5 \u001b[90m missing \u001b[0m\n",
       "   5 │\u001b[90m missing     \u001b[0m      21.7      58.8 \u001b[90m missing \u001b[0m"
      ]
     },
     "metadata": {},
     "output_type": "display_data"
    },
    {
     "data": {
      "text/markdown": [
       "shape: (112, 4)"
      ]
     },
     "metadata": {},
     "output_type": "display_data"
    },
    {
     "data": {
      "text/html": [
       "<div><div style = \"float: left;\"><span>4×7 DataFrame</span></div><div style = \"clear: both;\"></div></div><div class = \"data-frame\" style = \"overflow-x: scroll;\"><table class = \"data-frame\" style = \"margin-bottom: 6px;\"><thead><tr class = \"header\"><th class = \"rowNumber\" style = \"font-weight: bold; text-align: right;\">Row</th><th style = \"text-align: left;\">variable</th><th style = \"text-align: left;\">mean</th><th style = \"text-align: left;\">min</th><th style = \"text-align: left;\">median</th><th style = \"text-align: left;\">max</th><th style = \"text-align: left;\">nmissing</th><th style = \"text-align: left;\">eltype</th></tr><tr class = \"subheader headerLastRow\"><th class = \"rowNumber\" style = \"font-weight: bold; text-align: right;\"></th><th title = \"Symbol\" style = \"text-align: left;\">Symbol</th><th title = \"Union{Nothing, Float64}\" style = \"text-align: left;\">Union…</th><th title = \"Any\" style = \"text-align: left;\">Any</th><th title = \"Union{Nothing, Float64}\" style = \"text-align: left;\">Union…</th><th title = \"Any\" style = \"text-align: left;\">Any</th><th title = \"Int64\" style = \"text-align: left;\">Int64</th><th title = \"Type\" style = \"text-align: left;\">Type</th></tr></thead><tbody><tr><td class = \"rowNumber\" style = \"font-weight: bold; text-align: right;\">1</td><td style = \"text-align: left;\">county_name</td><td style = \"font-style: italic; text-align: left;\"></td><td style = \"text-align: left;\">Harjumaa</td><td style = \"font-style: italic; text-align: left;\"></td><td style = \"text-align: left;\">Võrumaa</td><td style = \"text-align: right;\">63</td><td style = \"text-align: left;\">Union{Missing, CategoricalValue{String15, UInt32}}</td></tr><tr><td class = \"rowNumber\" style = \"font-weight: bold; text-align: right;\">2</td><td style = \"text-align: left;\">longitude</td><td style = \"text-align: left;\">24.95</td><td style = \"text-align: left;\">21.7</td><td style = \"text-align: left;\">24.95</td><td style = \"text-align: left;\">28.2</td><td style = \"text-align: right;\">0</td><td style = \"text-align: left;\">Float64</td></tr><tr><td class = \"rowNumber\" style = \"font-weight: bold; text-align: right;\">3</td><td style = \"text-align: left;\">latitude</td><td style = \"text-align: left;\">58.65</td><td style = \"text-align: left;\">57.6</td><td style = \"text-align: left;\">58.65</td><td style = \"text-align: left;\">59.7</td><td style = \"text-align: right;\">0</td><td style = \"text-align: left;\">Float64</td></tr><tr><td class = \"rowNumber\" style = \"font-weight: bold; text-align: right;\">4</td><td style = \"text-align: left;\">county</td><td style = \"font-style: italic; text-align: left;\"></td><td style = \"text-align: left;\">0</td><td style = \"font-style: italic; text-align: left;\"></td><td style = \"text-align: left;\">15</td><td style = \"text-align: right;\">63</td><td style = \"text-align: left;\">Union{Missing, CategoricalValue{Int64, UInt32}}</td></tr></tbody></table></div>"
      ],
      "text/latex": [
       "\\begin{tabular}{r|ccccccc}\n",
       "\t& variable & mean & min & median & max & nmissing & eltype\\\\\n",
       "\t\\hline\n",
       "\t& Symbol & Union… & Any & Union… & Any & Int64 & Type\\\\\n",
       "\t\\hline\n",
       "\t1 & county\\_name &  & Harjumaa &  & Võrumaa & 63 & Union\\{Missing, CategoricalValue\\{String15, UInt32\\}\\} \\\\\n",
       "\t2 & longitude & 24.95 & 21.7 & 24.95 & 28.2 & 0 & Float64 \\\\\n",
       "\t3 & latitude & 58.65 & 57.6 & 58.65 & 59.7 & 0 & Float64 \\\\\n",
       "\t4 & county &  & 0 &  & 15 & 63 & Union\\{Missing, CategoricalValue\\{Int64, UInt32\\}\\} \\\\\n",
       "\\end{tabular}\n"
      ],
      "text/plain": [
       "\u001b[1m4×7 DataFrame\u001b[0m\n",
       "\u001b[1m Row \u001b[0m│\u001b[1m variable    \u001b[0m\u001b[1m mean   \u001b[0m\u001b[1m min      \u001b[0m\u001b[1m median \u001b[0m\u001b[1m max     \u001b[0m\u001b[1m nmissing \u001b[0m\u001b[1m eltype       \u001b[0m ⋯\n",
       "     │\u001b[90m Symbol      \u001b[0m\u001b[90m Union… \u001b[0m\u001b[90m Any      \u001b[0m\u001b[90m Union… \u001b[0m\u001b[90m Any     \u001b[0m\u001b[90m Int64    \u001b[0m\u001b[90m Type         \u001b[0m ⋯\n",
       "─────┼──────────────────────────────────────────────────────────────────────────\n",
       "   1 │ county_name \u001b[90m        \u001b[0m Harjumaa \u001b[90m        \u001b[0m Võrumaa        63  Union{Missing ⋯\n",
       "   2 │ longitude    24.95   21.7      24.95   28.2            0  Float64\n",
       "   3 │ latitude     58.65   57.6      58.65   59.7            0  Float64\n",
       "   4 │ county      \u001b[90m        \u001b[0m 0        \u001b[90m        \u001b[0m 15             63  Union{Missing\n",
       "\u001b[36m                                                                1 column omitted\u001b[0m"
      ]
     },
     "metadata": {},
     "output_type": "display_data"
    },
    {
     "data": {
      "text/markdown": [
       "### **client**"
      ]
     },
     "metadata": {},
     "output_type": "display_data"
    },
    {
     "data": {
      "text/html": [
       "<div><div style = \"float: left;\"><span>5×7 DataFrame</span></div><div style = \"clear: both;\"></div></div><div class = \"data-frame\" style = \"overflow-x: scroll;\"><table class = \"data-frame\" style = \"margin-bottom: 6px;\"><thead><tr class = \"header\"><th class = \"rowNumber\" style = \"font-weight: bold; text-align: right;\">Row</th><th style = \"text-align: left;\">product_type</th><th style = \"text-align: left;\">county</th><th style = \"text-align: left;\">eic_count</th><th style = \"text-align: left;\">installed_capacity</th><th style = \"text-align: left;\">is_business</th><th style = \"text-align: left;\">date</th><th style = \"text-align: left;\">data_block_id</th></tr><tr class = \"subheader headerLastRow\"><th class = \"rowNumber\" style = \"font-weight: bold; text-align: right;\"></th><th title = \"CategoricalValue{Int64, UInt32}\" style = \"text-align: left;\">Cat…</th><th title = \"CategoricalValue{Int64, UInt32}\" style = \"text-align: left;\">Cat…</th><th title = \"Int64\" style = \"text-align: left;\">Int64</th><th title = \"Float64\" style = \"text-align: left;\">Float64</th><th title = \"CategoricalValue{Int64, UInt32}\" style = \"text-align: left;\">Cat…</th><th title = \"Dates.Date\" style = \"text-align: left;\">Date</th><th title = \"Int64\" style = \"text-align: left;\">Int64</th></tr></thead><tbody><tr><td class = \"rowNumber\" style = \"font-weight: bold; text-align: right;\">1</td><td style = \"text-align: left;\">1</td><td style = \"text-align: left;\">0</td><td style = \"text-align: right;\">108</td><td style = \"text-align: right;\">952.89</td><td style = \"text-align: left;\">0</td><td style = \"text-align: left;\">2021-09-01</td><td style = \"text-align: right;\">2</td></tr><tr><td class = \"rowNumber\" style = \"font-weight: bold; text-align: right;\">2</td><td style = \"text-align: left;\">2</td><td style = \"text-align: left;\">0</td><td style = \"text-align: right;\">17</td><td style = \"text-align: right;\">166.4</td><td style = \"text-align: left;\">0</td><td style = \"text-align: left;\">2021-09-01</td><td style = \"text-align: right;\">2</td></tr><tr><td class = \"rowNumber\" style = \"font-weight: bold; text-align: right;\">3</td><td style = \"text-align: left;\">3</td><td style = \"text-align: left;\">0</td><td style = \"text-align: right;\">688</td><td style = \"text-align: right;\">7207.88</td><td style = \"text-align: left;\">0</td><td style = \"text-align: left;\">2021-09-01</td><td style = \"text-align: right;\">2</td></tr><tr><td class = \"rowNumber\" style = \"font-weight: bold; text-align: right;\">4</td><td style = \"text-align: left;\">0</td><td style = \"text-align: left;\">0</td><td style = \"text-align: right;\">5</td><td style = \"text-align: right;\">400.0</td><td style = \"text-align: left;\">1</td><td style = \"text-align: left;\">2021-09-01</td><td style = \"text-align: right;\">2</td></tr><tr><td class = \"rowNumber\" style = \"font-weight: bold; text-align: right;\">5</td><td style = \"text-align: left;\">1</td><td style = \"text-align: left;\">0</td><td style = \"text-align: right;\">43</td><td style = \"text-align: right;\">1411.0</td><td style = \"text-align: left;\">1</td><td style = \"text-align: left;\">2021-09-01</td><td style = \"text-align: right;\">2</td></tr></tbody></table></div>"
      ],
      "text/latex": [
       "\\begin{tabular}{r|ccccccc}\n",
       "\t& product\\_type & county & eic\\_count & installed\\_capacity & is\\_business & date & data\\_block\\_id\\\\\n",
       "\t\\hline\n",
       "\t& Cat… & Cat… & Int64 & Float64 & Cat… & Date & Int64\\\\\n",
       "\t\\hline\n",
       "\t1 & 1 & 0 & 108 & 952.89 & 0 & 2021-09-01 & 2 \\\\\n",
       "\t2 & 2 & 0 & 17 & 166.4 & 0 & 2021-09-01 & 2 \\\\\n",
       "\t3 & 3 & 0 & 688 & 7207.88 & 0 & 2021-09-01 & 2 \\\\\n",
       "\t4 & 0 & 0 & 5 & 400.0 & 1 & 2021-09-01 & 2 \\\\\n",
       "\t5 & 1 & 0 & 43 & 1411.0 & 1 & 2021-09-01 & 2 \\\\\n",
       "\\end{tabular}\n"
      ],
      "text/plain": [
       "\u001b[1m5×7 DataFrame\u001b[0m\n",
       "\u001b[1m Row \u001b[0m│\u001b[1m product_type \u001b[0m\u001b[1m county       \u001b[0m\u001b[1m eic_count \u001b[0m\u001b[1m installed_capacity \u001b[0m\u001b[1m is_business \u001b[0m ⋯\n",
       "     │\u001b[90m Categorical… \u001b[0m\u001b[90m Categorical… \u001b[0m\u001b[90m Int64     \u001b[0m\u001b[90m Float64            \u001b[0m\u001b[90m Categorical…\u001b[0m ⋯\n",
       "─────┼──────────────────────────────────────────────────────────────────────────\n",
       "   1 │ 1             0                   108              952.89  0            ⋯\n",
       "   2 │ 2             0                    17              166.4   0\n",
       "   3 │ 3             0                   688             7207.88  0\n",
       "   4 │ 0             0                     5              400.0   1\n",
       "   5 │ 1             0                    43             1411.0   1            ⋯\n",
       "\u001b[36m                                                               2 columns omitted\u001b[0m"
      ]
     },
     "metadata": {},
     "output_type": "display_data"
    },
    {
     "data": {
      "text/markdown": [
       "shape: (41919, 7)"
      ]
     },
     "metadata": {},
     "output_type": "display_data"
    },
    {
     "data": {
      "text/html": [
       "<div><div style = \"float: left;\"><span>7×7 DataFrame</span></div><div style = \"clear: both;\"></div></div><div class = \"data-frame\" style = \"overflow-x: scroll;\"><table class = \"data-frame\" style = \"margin-bottom: 6px;\"><thead><tr class = \"header\"><th class = \"rowNumber\" style = \"font-weight: bold; text-align: right;\">Row</th><th style = \"text-align: left;\">variable</th><th style = \"text-align: left;\">mean</th><th style = \"text-align: left;\">min</th><th style = \"text-align: left;\">median</th><th style = \"text-align: left;\">max</th><th style = \"text-align: left;\">nmissing</th><th style = \"text-align: left;\">eltype</th></tr><tr class = \"subheader headerLastRow\"><th class = \"rowNumber\" style = \"font-weight: bold; text-align: right;\"></th><th title = \"Symbol\" style = \"text-align: left;\">Symbol</th><th title = \"Union{Nothing, Float64}\" style = \"text-align: left;\">Union…</th><th title = \"Any\" style = \"text-align: left;\">Any</th><th title = \"Any\" style = \"text-align: left;\">Any</th><th title = \"Any\" style = \"text-align: left;\">Any</th><th title = \"Int64\" style = \"text-align: left;\">Int64</th><th title = \"DataType\" style = \"text-align: left;\">DataType</th></tr></thead><tbody><tr><td class = \"rowNumber\" style = \"font-weight: bold; text-align: right;\">1</td><td style = \"text-align: left;\">product_type</td><td style = \"font-style: italic; text-align: left;\"></td><td style = \"text-align: left;\">0</td><td style = \"font-style: italic; text-align: left;\"></td><td style = \"text-align: left;\">3</td><td style = \"text-align: right;\">0</td><td style = \"text-align: left;\">CategoricalValue{Int64, UInt32}</td></tr><tr><td class = \"rowNumber\" style = \"font-weight: bold; text-align: right;\">2</td><td style = \"text-align: left;\">county</td><td style = \"font-style: italic; text-align: left;\"></td><td style = \"text-align: left;\">0</td><td style = \"font-style: italic; text-align: left;\"></td><td style = \"text-align: left;\">15</td><td style = \"text-align: right;\">0</td><td style = \"text-align: left;\">CategoricalValue{Int64, UInt32}</td></tr><tr><td class = \"rowNumber\" style = \"font-weight: bold; text-align: right;\">3</td><td style = \"text-align: left;\">eic_count</td><td style = \"text-align: left;\">73.3451</td><td style = \"text-align: left;\">5</td><td style = \"text-align: left;\">32.0</td><td style = \"text-align: left;\">1517</td><td style = \"text-align: right;\">0</td><td style = \"text-align: left;\">Int64</td></tr><tr><td class = \"rowNumber\" style = \"font-weight: bold; text-align: right;\">4</td><td style = \"text-align: left;\">installed_capacity</td><td style = \"text-align: left;\">1450.77</td><td style = \"text-align: left;\">5.5</td><td style = \"text-align: left;\">645.2</td><td style = \"text-align: left;\">19314.3</td><td style = \"text-align: right;\">0</td><td style = \"text-align: left;\">Float64</td></tr><tr><td class = \"rowNumber\" style = \"font-weight: bold; text-align: right;\">5</td><td style = \"text-align: left;\">is_business</td><td style = \"font-style: italic; text-align: left;\"></td><td style = \"text-align: left;\">0</td><td style = \"font-style: italic; text-align: left;\"></td><td style = \"text-align: left;\">1</td><td style = \"text-align: right;\">0</td><td style = \"text-align: left;\">CategoricalValue{Int64, UInt32}</td></tr><tr><td class = \"rowNumber\" style = \"font-weight: bold; text-align: right;\">6</td><td style = \"text-align: left;\">date</td><td style = \"font-style: italic; text-align: left;\"></td><td style = \"text-align: left;\">2021-09-01</td><td style = \"text-align: left;\">2022-07-20</td><td style = \"text-align: left;\">2023-05-29</td><td style = \"text-align: right;\">0</td><td style = \"text-align: left;\">Date</td></tr><tr><td class = \"rowNumber\" style = \"font-weight: bold; text-align: right;\">7</td><td style = \"text-align: left;\">data_block_id</td><td style = \"text-align: left;\">322.899</td><td style = \"text-align: left;\">2</td><td style = \"text-align: left;\">324.0</td><td style = \"text-align: left;\">637</td><td style = \"text-align: right;\">0</td><td style = \"text-align: left;\">Int64</td></tr></tbody></table></div>"
      ],
      "text/latex": [
       "\\begin{tabular}{r|ccccccc}\n",
       "\t& variable & mean & min & median & max & nmissing & eltype\\\\\n",
       "\t\\hline\n",
       "\t& Symbol & Union… & Any & Any & Any & Int64 & DataType\\\\\n",
       "\t\\hline\n",
       "\t1 & product\\_type &  & 0 &  & 3 & 0 & CategoricalValue\\{Int64, UInt32\\} \\\\\n",
       "\t2 & county &  & 0 &  & 15 & 0 & CategoricalValue\\{Int64, UInt32\\} \\\\\n",
       "\t3 & eic\\_count & 73.3451 & 5 & 32.0 & 1517 & 0 & Int64 \\\\\n",
       "\t4 & installed\\_capacity & 1450.77 & 5.5 & 645.2 & 19314.3 & 0 & Float64 \\\\\n",
       "\t5 & is\\_business &  & 0 &  & 1 & 0 & CategoricalValue\\{Int64, UInt32\\} \\\\\n",
       "\t6 & date &  & 2021-09-01 & 2022-07-20 & 2023-05-29 & 0 & Date \\\\\n",
       "\t7 & data\\_block\\_id & 322.899 & 2 & 324.0 & 637 & 0 & Int64 \\\\\n",
       "\\end{tabular}\n"
      ],
      "text/plain": [
       "\u001b[1m7×7 DataFrame\u001b[0m\n",
       "\u001b[1m Row \u001b[0m│\u001b[1m variable           \u001b[0m\u001b[1m mean    \u001b[0m\u001b[1m min        \u001b[0m\u001b[1m median     \u001b[0m\u001b[1m max        \u001b[0m\u001b[1m nmissi\u001b[0m ⋯\n",
       "     │\u001b[90m Symbol             \u001b[0m\u001b[90m Union…  \u001b[0m\u001b[90m Any        \u001b[0m\u001b[90m Any        \u001b[0m\u001b[90m Any        \u001b[0m\u001b[90m Int64 \u001b[0m ⋯\n",
       "─────┼──────────────────────────────────────────────────────────────────────────\n",
       "   1 │ product_type       \u001b[90m         \u001b[0m 0          \u001b[90m            \u001b[0m 3                  ⋯\n",
       "   2 │ county             \u001b[90m         \u001b[0m 0          \u001b[90m            \u001b[0m 15\n",
       "   3 │ eic_count           73.3451  5           32.0        1517\n",
       "   4 │ installed_capacity  1450.77  5.5         645.2       19314.3\n",
       "   5 │ is_business        \u001b[90m         \u001b[0m 0          \u001b[90m            \u001b[0m 1                  ⋯\n",
       "   6 │ date               \u001b[90m         \u001b[0m 2021-09-01  2022-07-20  2023-05-29\n",
       "   7 │ data_block_id       322.899  2           324.0       637\n",
       "\u001b[36m                                                               2 columns omitted\u001b[0m"
      ]
     },
     "metadata": {},
     "output_type": "display_data"
    },
    {
     "data": {
      "text/markdown": [
       "### **train**"
      ]
     },
     "metadata": {},
     "output_type": "display_data"
    },
    {
     "data": {
      "text/html": [
       "<div><div style = \"float: left;\"><span>5×9 DataFrame</span></div><div style = \"clear: both;\"></div></div><div class = \"data-frame\" style = \"overflow-x: scroll;\"><table class = \"data-frame\" style = \"margin-bottom: 6px;\"><thead><tr class = \"header\"><th class = \"rowNumber\" style = \"font-weight: bold; text-align: right;\">Row</th><th style = \"text-align: left;\">county</th><th style = \"text-align: left;\">is_business</th><th style = \"text-align: left;\">product_type</th><th style = \"text-align: left;\">target</th><th style = \"text-align: left;\">is_consumption</th><th style = \"text-align: left;\">datetime</th><th style = \"text-align: left;\">data_block_id</th><th style = \"text-align: left;\">row_id</th><th style = \"text-align: left;\">prediction_unit_id</th></tr><tr class = \"subheader headerLastRow\"><th class = \"rowNumber\" style = \"font-weight: bold; text-align: right;\"></th><th title = \"CategoricalValue{Int64, UInt32}\" style = \"text-align: left;\">Cat…</th><th title = \"CategoricalValue{Int64, UInt32}\" style = \"text-align: left;\">Cat…</th><th title = \"CategoricalValue{Int64, UInt32}\" style = \"text-align: left;\">Cat…</th><th title = \"Union{Missing, Float64}\" style = \"text-align: left;\">Float64?</th><th title = \"CategoricalValue{Int64, UInt32}\" style = \"text-align: left;\">Cat…</th><th title = \"String31\" style = \"text-align: left;\">String31</th><th title = \"Int64\" style = \"text-align: left;\">Int64</th><th title = \"Int64\" style = \"text-align: left;\">Int64</th><th title = \"Int64\" style = \"text-align: left;\">Int64</th></tr></thead><tbody><tr><td class = \"rowNumber\" style = \"font-weight: bold; text-align: right;\">1</td><td style = \"text-align: left;\">0</td><td style = \"text-align: left;\">0</td><td style = \"text-align: left;\">1</td><td style = \"text-align: right;\">0.713</td><td style = \"text-align: left;\">0</td><td style = \"text-align: left;\">2021-09-01 00:00:00</td><td style = \"text-align: right;\">0</td><td style = \"text-align: right;\">0</td><td style = \"text-align: right;\">0</td></tr><tr><td class = \"rowNumber\" style = \"font-weight: bold; text-align: right;\">2</td><td style = \"text-align: left;\">0</td><td style = \"text-align: left;\">0</td><td style = \"text-align: left;\">1</td><td style = \"text-align: right;\">96.59</td><td style = \"text-align: left;\">1</td><td style = \"text-align: left;\">2021-09-01 00:00:00</td><td style = \"text-align: right;\">0</td><td style = \"text-align: right;\">1</td><td style = \"text-align: right;\">0</td></tr><tr><td class = \"rowNumber\" style = \"font-weight: bold; text-align: right;\">3</td><td style = \"text-align: left;\">0</td><td style = \"text-align: left;\">0</td><td style = \"text-align: left;\">2</td><td style = \"text-align: right;\">0.0</td><td style = \"text-align: left;\">0</td><td style = \"text-align: left;\">2021-09-01 00:00:00</td><td style = \"text-align: right;\">0</td><td style = \"text-align: right;\">2</td><td style = \"text-align: right;\">1</td></tr><tr><td class = \"rowNumber\" style = \"font-weight: bold; text-align: right;\">4</td><td style = \"text-align: left;\">0</td><td style = \"text-align: left;\">0</td><td style = \"text-align: left;\">2</td><td style = \"text-align: right;\">17.314</td><td style = \"text-align: left;\">1</td><td style = \"text-align: left;\">2021-09-01 00:00:00</td><td style = \"text-align: right;\">0</td><td style = \"text-align: right;\">3</td><td style = \"text-align: right;\">1</td></tr><tr><td class = \"rowNumber\" style = \"font-weight: bold; text-align: right;\">5</td><td style = \"text-align: left;\">0</td><td style = \"text-align: left;\">0</td><td style = \"text-align: left;\">3</td><td style = \"text-align: right;\">2.904</td><td style = \"text-align: left;\">0</td><td style = \"text-align: left;\">2021-09-01 00:00:00</td><td style = \"text-align: right;\">0</td><td style = \"text-align: right;\">4</td><td style = \"text-align: right;\">2</td></tr></tbody></table></div>"
      ],
      "text/latex": [
       "\\begin{tabular}{r|ccccccc}\n",
       "\t& county & is\\_business & product\\_type & target & is\\_consumption & datetime & \\\\\n",
       "\t\\hline\n",
       "\t& Cat… & Cat… & Cat… & Float64? & Cat… & String31 & \\\\\n",
       "\t\\hline\n",
       "\t1 & 0 & 0 & 1 & 0.713 & 0 & 2021-09-01 00:00:00 & $\\dots$ \\\\\n",
       "\t2 & 0 & 0 & 1 & 96.59 & 1 & 2021-09-01 00:00:00 & $\\dots$ \\\\\n",
       "\t3 & 0 & 0 & 2 & 0.0 & 0 & 2021-09-01 00:00:00 & $\\dots$ \\\\\n",
       "\t4 & 0 & 0 & 2 & 17.314 & 1 & 2021-09-01 00:00:00 & $\\dots$ \\\\\n",
       "\t5 & 0 & 0 & 3 & 2.904 & 0 & 2021-09-01 00:00:00 & $\\dots$ \\\\\n",
       "\\end{tabular}\n"
      ],
      "text/plain": [
       "\u001b[1m5×9 DataFrame\u001b[0m\n",
       "\u001b[1m Row \u001b[0m│\u001b[1m county \u001b[0m\u001b[1m is_business \u001b[0m\u001b[1m product_type \u001b[0m\u001b[1m target   \u001b[0m\u001b[1m is_consumption \u001b[0m\u001b[1m datetime  \u001b[0m ⋯\n",
       "     │\u001b[90m Cat…   \u001b[0m\u001b[90m Cat…        \u001b[0m\u001b[90m Cat…         \u001b[0m\u001b[90m Float64? \u001b[0m\u001b[90m Cat…           \u001b[0m\u001b[90m String31  \u001b[0m ⋯\n",
       "─────┼──────────────────────────────────────────────────────────────────────────\n",
       "   1 │ 0       0            1                0.713  0               2021-09-01 ⋯\n",
       "   2 │ 0       0            1               96.59   1               2021-09-01\n",
       "   3 │ 0       0            2                0.0    0               2021-09-01\n",
       "   4 │ 0       0            2               17.314  1               2021-09-01\n",
       "   5 │ 0       0            3                2.904  0               2021-09-01 ⋯\n",
       "\u001b[36m                                                               4 columns omitted\u001b[0m"
      ]
     },
     "metadata": {},
     "output_type": "display_data"
    },
    {
     "data": {
      "text/markdown": [
       "shape: (2018352, 9)"
      ]
     },
     "metadata": {},
     "output_type": "display_data"
    },
    {
     "data": {
      "text/html": [
       "<div><div style = \"float: left;\"><span>9×7 DataFrame</span></div><div style = \"clear: both;\"></div></div><div class = \"data-frame\" style = \"overflow-x: scroll;\"><table class = \"data-frame\" style = \"margin-bottom: 6px;\"><thead><tr class = \"header\"><th class = \"rowNumber\" style = \"font-weight: bold; text-align: right;\">Row</th><th style = \"text-align: left;\">variable</th><th style = \"text-align: left;\">mean</th><th style = \"text-align: left;\">min</th><th style = \"text-align: left;\">median</th><th style = \"text-align: left;\">max</th><th style = \"text-align: left;\">nmissing</th><th style = \"text-align: left;\">eltype</th></tr><tr class = \"subheader headerLastRow\"><th class = \"rowNumber\" style = \"font-weight: bold; text-align: right;\"></th><th title = \"Symbol\" style = \"text-align: left;\">Symbol</th><th title = \"Union{Nothing, Float64}\" style = \"text-align: left;\">Union…</th><th title = \"Any\" style = \"text-align: left;\">Any</th><th title = \"Union{Nothing, Float64}\" style = \"text-align: left;\">Union…</th><th title = \"Any\" style = \"text-align: left;\">Any</th><th title = \"Int64\" style = \"text-align: left;\">Int64</th><th title = \"Type\" style = \"text-align: left;\">Type</th></tr></thead><tbody><tr><td class = \"rowNumber\" style = \"font-weight: bold; text-align: right;\">1</td><td style = \"text-align: left;\">county</td><td style = \"font-style: italic; text-align: left;\"></td><td style = \"text-align: left;\">0</td><td style = \"font-style: italic; text-align: left;\"></td><td style = \"text-align: left;\">15</td><td style = \"text-align: right;\">0</td><td style = \"text-align: left;\">CategoricalValue{Int64, UInt32}</td></tr><tr><td class = \"rowNumber\" style = \"font-weight: bold; text-align: right;\">2</td><td style = \"text-align: left;\">is_business</td><td style = \"font-style: italic; text-align: left;\"></td><td style = \"text-align: left;\">0</td><td style = \"font-style: italic; text-align: left;\"></td><td style = \"text-align: left;\">1</td><td style = \"text-align: right;\">0</td><td style = \"text-align: left;\">CategoricalValue{Int64, UInt32}</td></tr><tr><td class = \"rowNumber\" style = \"font-weight: bold; text-align: right;\">3</td><td style = \"text-align: left;\">product_type</td><td style = \"font-style: italic; text-align: left;\"></td><td style = \"text-align: left;\">0</td><td style = \"font-style: italic; text-align: left;\"></td><td style = \"text-align: left;\">3</td><td style = \"text-align: right;\">0</td><td style = \"text-align: left;\">CategoricalValue{Int64, UInt32}</td></tr><tr><td class = \"rowNumber\" style = \"font-weight: bold; text-align: right;\">4</td><td style = \"text-align: left;\">target</td><td style = \"text-align: left;\">274.856</td><td style = \"text-align: left;\">0.0</td><td style = \"text-align: left;\">31.133</td><td style = \"text-align: left;\">15480.3</td><td style = \"text-align: right;\">528</td><td style = \"text-align: left;\">Union{Missing, Float64}</td></tr><tr><td class = \"rowNumber\" style = \"font-weight: bold; text-align: right;\">5</td><td style = \"text-align: left;\">is_consumption</td><td style = \"font-style: italic; text-align: left;\"></td><td style = \"text-align: left;\">0</td><td style = \"font-style: italic; text-align: left;\"></td><td style = \"text-align: left;\">1</td><td style = \"text-align: right;\">0</td><td style = \"text-align: left;\">CategoricalValue{Int64, UInt32}</td></tr><tr><td class = \"rowNumber\" style = \"font-weight: bold; text-align: right;\">6</td><td style = \"text-align: left;\">datetime</td><td style = \"font-style: italic; text-align: left;\"></td><td style = \"text-align: left;\">2021-09-01 00:00:00</td><td style = \"font-style: italic; text-align: left;\"></td><td style = \"text-align: left;\">2023-05-31 23:00:00</td><td style = \"text-align: right;\">0</td><td style = \"text-align: left;\">String31</td></tr><tr><td class = \"rowNumber\" style = \"font-weight: bold; text-align: right;\">7</td><td style = \"text-align: left;\">data_block_id</td><td style = \"text-align: left;\">321.875</td><td style = \"text-align: left;\">0</td><td style = \"text-align: left;\">323.0</td><td style = \"text-align: left;\">637</td><td style = \"text-align: right;\">0</td><td style = \"text-align: left;\">Int64</td></tr><tr><td class = \"rowNumber\" style = \"font-weight: bold; text-align: right;\">8</td><td style = \"text-align: left;\">row_id</td><td style = \"text-align: left;\">1.00918e6</td><td style = \"text-align: left;\">0</td><td style = \"text-align: left;\">1.00918e6</td><td style = \"text-align: left;\">2018351</td><td style = \"text-align: right;\">0</td><td style = \"text-align: left;\">Int64</td></tr><tr><td class = \"rowNumber\" style = \"font-weight: bold; text-align: right;\">9</td><td style = \"text-align: left;\">prediction_unit_id</td><td style = \"text-align: left;\">33.0454</td><td style = \"text-align: left;\">0</td><td style = \"text-align: left;\">33.0</td><td style = \"text-align: left;\">68</td><td style = \"text-align: right;\">0</td><td style = \"text-align: left;\">Int64</td></tr></tbody></table></div>"
      ],
      "text/latex": [
       "\\begin{tabular}{r|cccccc}\n",
       "\t& variable & mean & min & median & max & \\\\\n",
       "\t\\hline\n",
       "\t& Symbol & Union… & Any & Union… & Any & \\\\\n",
       "\t\\hline\n",
       "\t1 & county &  & 0 &  & 15 & $\\dots$ \\\\\n",
       "\t2 & is\\_business &  & 0 &  & 1 & $\\dots$ \\\\\n",
       "\t3 & product\\_type &  & 0 &  & 3 & $\\dots$ \\\\\n",
       "\t4 & target & 274.856 & 0.0 & 31.133 & 15480.3 & $\\dots$ \\\\\n",
       "\t5 & is\\_consumption &  & 0 &  & 1 & $\\dots$ \\\\\n",
       "\t6 & datetime &  & 2021-09-01 00:00:00 &  & 2023-05-31 23:00:00 & $\\dots$ \\\\\n",
       "\t7 & data\\_block\\_id & 321.875 & 0 & 323.0 & 637 & $\\dots$ \\\\\n",
       "\t8 & row\\_id & 1.00918e6 & 0 & 1.00918e6 & 2018351 & $\\dots$ \\\\\n",
       "\t9 & prediction\\_unit\\_id & 33.0454 & 0 & 33.0 & 68 & $\\dots$ \\\\\n",
       "\\end{tabular}\n"
      ],
      "text/plain": [
       "\u001b[1m9×7 DataFrame\u001b[0m\n",
       "\u001b[1m Row \u001b[0m│\u001b[1m variable           \u001b[0m\u001b[1m mean      \u001b[0m\u001b[1m min                 \u001b[0m\u001b[1m median    \u001b[0m\u001b[1m max     \u001b[0m ⋯\n",
       "     │\u001b[90m Symbol             \u001b[0m\u001b[90m Union…    \u001b[0m\u001b[90m Any                 \u001b[0m\u001b[90m Union…    \u001b[0m\u001b[90m Any     \u001b[0m ⋯\n",
       "─────┼──────────────────────────────────────────────────────────────────────────\n",
       "   1 │ county             \u001b[90m           \u001b[0m 0                   \u001b[90m           \u001b[0m 15       ⋯\n",
       "   2 │ is_business        \u001b[90m           \u001b[0m 0                   \u001b[90m           \u001b[0m 1\n",
       "   3 │ product_type       \u001b[90m           \u001b[0m 0                   \u001b[90m           \u001b[0m 3\n",
       "   4 │ target              274.856    0.0                  31.133     15480.3\n",
       "   5 │ is_consumption     \u001b[90m           \u001b[0m 0                   \u001b[90m           \u001b[0m 1        ⋯\n",
       "   6 │ datetime           \u001b[90m           \u001b[0m 2021-09-01 00:00:00 \u001b[90m           \u001b[0m 2023-05-\n",
       "   7 │ data_block_id       321.875    0                    323.0      637\n",
       "   8 │ row_id              1.00918e6  0                    1.00918e6  2018351\n",
       "   9 │ prediction_unit_id  33.0454    0                    33.0       68       ⋯\n",
       "\u001b[36m                                                               3 columns omitted\u001b[0m"
      ]
     },
     "metadata": {},
     "output_type": "display_data"
    },
    {
     "data": {
      "text/markdown": [
       "### **gas_prices**"
      ]
     },
     "metadata": {},
     "output_type": "display_data"
    },
    {
     "data": {
      "text/html": [
       "<div><div style = \"float: left;\"><span>5×5 DataFrame</span></div><div style = \"clear: both;\"></div></div><div class = \"data-frame\" style = \"overflow-x: scroll;\"><table class = \"data-frame\" style = \"margin-bottom: 6px;\"><thead><tr class = \"header\"><th class = \"rowNumber\" style = \"font-weight: bold; text-align: right;\">Row</th><th style = \"text-align: left;\">forecast_date</th><th style = \"text-align: left;\">lowest_price_per_mwh</th><th style = \"text-align: left;\">highest_price_per_mwh</th><th style = \"text-align: left;\">origin_date</th><th style = \"text-align: left;\">data_block_id</th></tr><tr class = \"subheader headerLastRow\"><th class = \"rowNumber\" style = \"font-weight: bold; text-align: right;\"></th><th title = \"Dates.Date\" style = \"text-align: left;\">Date</th><th title = \"Float64\" style = \"text-align: left;\">Float64</th><th title = \"Float64\" style = \"text-align: left;\">Float64</th><th title = \"Dates.Date\" style = \"text-align: left;\">Date</th><th title = \"Int64\" style = \"text-align: left;\">Int64</th></tr></thead><tbody><tr><td class = \"rowNumber\" style = \"font-weight: bold; text-align: right;\">1</td><td style = \"text-align: left;\">2021-09-01</td><td style = \"text-align: right;\">45.23</td><td style = \"text-align: right;\">46.32</td><td style = \"text-align: left;\">2021-08-31</td><td style = \"text-align: right;\">1</td></tr><tr><td class = \"rowNumber\" style = \"font-weight: bold; text-align: right;\">2</td><td style = \"text-align: left;\">2021-09-02</td><td style = \"text-align: right;\">45.62</td><td style = \"text-align: right;\">46.29</td><td style = \"text-align: left;\">2021-09-01</td><td style = \"text-align: right;\">2</td></tr><tr><td class = \"rowNumber\" style = \"font-weight: bold; text-align: right;\">3</td><td style = \"text-align: left;\">2021-09-03</td><td style = \"text-align: right;\">45.85</td><td style = \"text-align: right;\">46.4</td><td style = \"text-align: left;\">2021-09-02</td><td style = \"text-align: right;\">3</td></tr><tr><td class = \"rowNumber\" style = \"font-weight: bold; text-align: right;\">4</td><td style = \"text-align: left;\">2021-09-04</td><td style = \"text-align: right;\">46.3</td><td style = \"text-align: right;\">46.8</td><td style = \"text-align: left;\">2021-09-03</td><td style = \"text-align: right;\">4</td></tr><tr><td class = \"rowNumber\" style = \"font-weight: bold; text-align: right;\">5</td><td style = \"text-align: left;\">2021-09-05</td><td style = \"text-align: right;\">46.3</td><td style = \"text-align: right;\">46.58</td><td style = \"text-align: left;\">2021-09-04</td><td style = \"text-align: right;\">5</td></tr></tbody></table></div>"
      ],
      "text/latex": [
       "\\begin{tabular}{r|ccccc}\n",
       "\t& forecast\\_date & lowest\\_price\\_per\\_mwh & highest\\_price\\_per\\_mwh & origin\\_date & data\\_block\\_id\\\\\n",
       "\t\\hline\n",
       "\t& Date & Float64 & Float64 & Date & Int64\\\\\n",
       "\t\\hline\n",
       "\t1 & 2021-09-01 & 45.23 & 46.32 & 2021-08-31 & 1 \\\\\n",
       "\t2 & 2021-09-02 & 45.62 & 46.29 & 2021-09-01 & 2 \\\\\n",
       "\t3 & 2021-09-03 & 45.85 & 46.4 & 2021-09-02 & 3 \\\\\n",
       "\t4 & 2021-09-04 & 46.3 & 46.8 & 2021-09-03 & 4 \\\\\n",
       "\t5 & 2021-09-05 & 46.3 & 46.58 & 2021-09-04 & 5 \\\\\n",
       "\\end{tabular}\n"
      ],
      "text/plain": [
       "\u001b[1m5×5 DataFrame\u001b[0m\n",
       "\u001b[1m Row \u001b[0m│\u001b[1m forecast_date \u001b[0m\u001b[1m lowest_price_per_mwh \u001b[0m\u001b[1m highest_price_per_mwh \u001b[0m\u001b[1m origin_date\u001b[0m ⋯\n",
       "     │\u001b[90m Dates.Date    \u001b[0m\u001b[90m Float64              \u001b[0m\u001b[90m Float64               \u001b[0m\u001b[90m Dates.Date \u001b[0m ⋯\n",
       "─────┼──────────────────────────────────────────────────────────────────────────\n",
       "   1 │ 2021-09-01                    45.23                  46.32  2021-08-31  ⋯\n",
       "   2 │ 2021-09-02                    45.62                  46.29  2021-09-01\n",
       "   3 │ 2021-09-03                    45.85                  46.4   2021-09-02\n",
       "   4 │ 2021-09-04                    46.3                   46.8   2021-09-03\n",
       "   5 │ 2021-09-05                    46.3                   46.58  2021-09-04  ⋯\n",
       "\u001b[36m                                                                1 column omitted\u001b[0m"
      ]
     },
     "metadata": {},
     "output_type": "display_data"
    },
    {
     "data": {
      "text/markdown": [
       "shape: (637, 5)"
      ]
     },
     "metadata": {},
     "output_type": "display_data"
    },
    {
     "data": {
      "text/html": [
       "<div><div style = \"float: left;\"><span>5×7 DataFrame</span></div><div style = \"clear: both;\"></div></div><div class = \"data-frame\" style = \"overflow-x: scroll;\"><table class = \"data-frame\" style = \"margin-bottom: 6px;\"><thead><tr class = \"header\"><th class = \"rowNumber\" style = \"font-weight: bold; text-align: right;\">Row</th><th style = \"text-align: left;\">variable</th><th style = \"text-align: left;\">mean</th><th style = \"text-align: left;\">min</th><th style = \"text-align: left;\">median</th><th style = \"text-align: left;\">max</th><th style = \"text-align: left;\">nmissing</th><th style = \"text-align: left;\">eltype</th></tr><tr class = \"subheader headerLastRow\"><th class = \"rowNumber\" style = \"font-weight: bold; text-align: right;\"></th><th title = \"Symbol\" style = \"text-align: left;\">Symbol</th><th title = \"Union{Nothing, Float64}\" style = \"text-align: left;\">Union…</th><th title = \"Any\" style = \"text-align: left;\">Any</th><th title = \"Any\" style = \"text-align: left;\">Any</th><th title = \"Any\" style = \"text-align: left;\">Any</th><th title = \"Int64\" style = \"text-align: left;\">Int64</th><th title = \"DataType\" style = \"text-align: left;\">DataType</th></tr></thead><tbody><tr><td class = \"rowNumber\" style = \"font-weight: bold; text-align: right;\">1</td><td style = \"text-align: left;\">forecast_date</td><td style = \"font-style: italic; text-align: left;\"></td><td style = \"text-align: left;\">2021-09-01</td><td style = \"text-align: left;\">2022-07-16</td><td style = \"text-align: left;\">2023-05-30</td><td style = \"text-align: right;\">0</td><td style = \"text-align: left;\">Date</td></tr><tr><td class = \"rowNumber\" style = \"font-weight: bold; text-align: right;\">2</td><td style = \"text-align: left;\">lowest_price_per_mwh</td><td style = \"text-align: left;\">95.0368</td><td style = \"text-align: left;\">28.1</td><td style = \"text-align: left;\">85.21</td><td style = \"text-align: left;\">250.0</td><td style = \"text-align: right;\">0</td><td style = \"text-align: left;\">Float64</td></tr><tr><td class = \"rowNumber\" style = \"font-weight: bold; text-align: right;\">3</td><td style = \"text-align: left;\">highest_price_per_mwh</td><td style = \"text-align: left;\">107.755</td><td style = \"text-align: left;\">34.0</td><td style = \"text-align: left;\">93.47</td><td style = \"text-align: left;\">305.0</td><td style = \"text-align: right;\">0</td><td style = \"text-align: left;\">Float64</td></tr><tr><td class = \"rowNumber\" style = \"font-weight: bold; text-align: right;\">4</td><td style = \"text-align: left;\">origin_date</td><td style = \"font-style: italic; text-align: left;\"></td><td style = \"text-align: left;\">2021-08-31</td><td style = \"text-align: left;\">2022-07-15</td><td style = \"text-align: left;\">2023-05-29</td><td style = \"text-align: right;\">0</td><td style = \"text-align: left;\">Date</td></tr><tr><td class = \"rowNumber\" style = \"font-weight: bold; text-align: right;\">5</td><td style = \"text-align: left;\">data_block_id</td><td style = \"text-align: left;\">319.0</td><td style = \"text-align: left;\">1</td><td style = \"text-align: left;\">319.0</td><td style = \"text-align: left;\">637</td><td style = \"text-align: right;\">0</td><td style = \"text-align: left;\">Int64</td></tr></tbody></table></div>"
      ],
      "text/latex": [
       "\\begin{tabular}{r|ccccccc}\n",
       "\t& variable & mean & min & median & max & nmissing & eltype\\\\\n",
       "\t\\hline\n",
       "\t& Symbol & Union… & Any & Any & Any & Int64 & DataType\\\\\n",
       "\t\\hline\n",
       "\t1 & forecast\\_date &  & 2021-09-01 & 2022-07-16 & 2023-05-30 & 0 & Date \\\\\n",
       "\t2 & lowest\\_price\\_per\\_mwh & 95.0368 & 28.1 & 85.21 & 250.0 & 0 & Float64 \\\\\n",
       "\t3 & highest\\_price\\_per\\_mwh & 107.755 & 34.0 & 93.47 & 305.0 & 0 & Float64 \\\\\n",
       "\t4 & origin\\_date &  & 2021-08-31 & 2022-07-15 & 2023-05-29 & 0 & Date \\\\\n",
       "\t5 & data\\_block\\_id & 319.0 & 1 & 319.0 & 637 & 0 & Int64 \\\\\n",
       "\\end{tabular}\n"
      ],
      "text/plain": [
       "\u001b[1m5×7 DataFrame\u001b[0m\n",
       "\u001b[1m Row \u001b[0m│\u001b[1m variable              \u001b[0m\u001b[1m mean    \u001b[0m\u001b[1m min        \u001b[0m\u001b[1m median     \u001b[0m\u001b[1m max        \u001b[0m\u001b[1m nmi\u001b[0m ⋯\n",
       "     │\u001b[90m Symbol                \u001b[0m\u001b[90m Union…  \u001b[0m\u001b[90m Any        \u001b[0m\u001b[90m Any        \u001b[0m\u001b[90m Any        \u001b[0m\u001b[90m Int\u001b[0m ⋯\n",
       "─────┼──────────────────────────────────────────────────────────────────────────\n",
       "   1 │ forecast_date         \u001b[90m         \u001b[0m 2021-09-01  2022-07-16  2023-05-30      ⋯\n",
       "   2 │ lowest_price_per_mwh   95.0368  28.1        85.21       250.0\n",
       "   3 │ highest_price_per_mwh  107.755  34.0        93.47       305.0\n",
       "   4 │ origin_date           \u001b[90m         \u001b[0m 2021-08-31  2022-07-15  2023-05-29\n",
       "   5 │ data_block_id          319.0    1           319.0       637             ⋯\n",
       "\u001b[36m                                                               2 columns omitted\u001b[0m"
      ]
     },
     "metadata": {},
     "output_type": "display_data"
    }
   ],
   "source": [
    "for key in keys(data_dict)\n",
    "    display_stats(data_dict[key], key)\n",
    "end"
   ]
  },
  {
   "cell_type": "code",
   "execution_count": 27,
   "id": "ce395d62",
   "metadata": {},
   "outputs": [
    {
     "data": {
      "text/html": [
       "<div><div style = \"float: left;\"><span>7×7 DataFrame</span></div><div style = \"clear: both;\"></div></div><div class = \"data-frame\" style = \"overflow-x: scroll;\"><table class = \"data-frame\" style = \"margin-bottom: 6px;\"><thead><tr class = \"header\"><th class = \"rowNumber\" style = \"font-weight: bold; text-align: right;\">Row</th><th style = \"text-align: left;\">variable</th><th style = \"text-align: left;\">mean</th><th style = \"text-align: left;\">min</th><th style = \"text-align: left;\">median</th><th style = \"text-align: left;\">max</th><th style = \"text-align: left;\">nmissing</th><th style = \"text-align: left;\">eltype</th></tr><tr class = \"subheader headerLastRow\"><th class = \"rowNumber\" style = \"font-weight: bold; text-align: right;\"></th><th title = \"Symbol\" style = \"text-align: left;\">Symbol</th><th title = \"Union{Nothing, Float64}\" style = \"text-align: left;\">Union…</th><th title = \"Any\" style = \"text-align: left;\">Any</th><th title = \"Any\" style = \"text-align: left;\">Any</th><th title = \"Any\" style = \"text-align: left;\">Any</th><th title = \"Int64\" style = \"text-align: left;\">Int64</th><th title = \"DataType\" style = \"text-align: left;\">DataType</th></tr></thead><tbody><tr><td class = \"rowNumber\" style = \"font-weight: bold; text-align: right;\">1</td><td style = \"text-align: left;\">product_type</td><td style = \"font-style: italic; text-align: left;\"></td><td style = \"text-align: left;\">0</td><td style = \"font-style: italic; text-align: left;\"></td><td style = \"text-align: left;\">3</td><td style = \"text-align: right;\">0</td><td style = \"text-align: left;\">CategoricalValue{Int64, UInt32}</td></tr><tr><td class = \"rowNumber\" style = \"font-weight: bold; text-align: right;\">2</td><td style = \"text-align: left;\">county</td><td style = \"font-style: italic; text-align: left;\"></td><td style = \"text-align: left;\">0</td><td style = \"font-style: italic; text-align: left;\"></td><td style = \"text-align: left;\">15</td><td style = \"text-align: right;\">0</td><td style = \"text-align: left;\">CategoricalValue{Int64, UInt32}</td></tr><tr><td class = \"rowNumber\" style = \"font-weight: bold; text-align: right;\">3</td><td style = \"text-align: left;\">eic_count</td><td style = \"text-align: left;\">73.3451</td><td style = \"text-align: left;\">5</td><td style = \"text-align: left;\">32.0</td><td style = \"text-align: left;\">1517</td><td style = \"text-align: right;\">0</td><td style = \"text-align: left;\">Int64</td></tr><tr><td class = \"rowNumber\" style = \"font-weight: bold; text-align: right;\">4</td><td style = \"text-align: left;\">installed_capacity</td><td style = \"text-align: left;\">1450.77</td><td style = \"text-align: left;\">5.5</td><td style = \"text-align: left;\">645.2</td><td style = \"text-align: left;\">19314.3</td><td style = \"text-align: right;\">0</td><td style = \"text-align: left;\">Float64</td></tr><tr><td class = \"rowNumber\" style = \"font-weight: bold; text-align: right;\">5</td><td style = \"text-align: left;\">is_business</td><td style = \"font-style: italic; text-align: left;\"></td><td style = \"text-align: left;\">0</td><td style = \"font-style: italic; text-align: left;\"></td><td style = \"text-align: left;\">1</td><td style = \"text-align: right;\">0</td><td style = \"text-align: left;\">CategoricalValue{Int64, UInt32}</td></tr><tr><td class = \"rowNumber\" style = \"font-weight: bold; text-align: right;\">6</td><td style = \"text-align: left;\">date</td><td style = \"font-style: italic; text-align: left;\"></td><td style = \"text-align: left;\">2021-09-01</td><td style = \"text-align: left;\">2022-07-20</td><td style = \"text-align: left;\">2023-05-29</td><td style = \"text-align: right;\">0</td><td style = \"text-align: left;\">Date</td></tr><tr><td class = \"rowNumber\" style = \"font-weight: bold; text-align: right;\">7</td><td style = \"text-align: left;\">data_block_id</td><td style = \"text-align: left;\">322.899</td><td style = \"text-align: left;\">2</td><td style = \"text-align: left;\">324.0</td><td style = \"text-align: left;\">637</td><td style = \"text-align: right;\">0</td><td style = \"text-align: left;\">Int64</td></tr></tbody></table></div>"
      ],
      "text/latex": [
       "\\begin{tabular}{r|ccccccc}\n",
       "\t& variable & mean & min & median & max & nmissing & eltype\\\\\n",
       "\t\\hline\n",
       "\t& Symbol & Union… & Any & Any & Any & Int64 & DataType\\\\\n",
       "\t\\hline\n",
       "\t1 & product\\_type &  & 0 &  & 3 & 0 & CategoricalValue\\{Int64, UInt32\\} \\\\\n",
       "\t2 & county &  & 0 &  & 15 & 0 & CategoricalValue\\{Int64, UInt32\\} \\\\\n",
       "\t3 & eic\\_count & 73.3451 & 5 & 32.0 & 1517 & 0 & Int64 \\\\\n",
       "\t4 & installed\\_capacity & 1450.77 & 5.5 & 645.2 & 19314.3 & 0 & Float64 \\\\\n",
       "\t5 & is\\_business &  & 0 &  & 1 & 0 & CategoricalValue\\{Int64, UInt32\\} \\\\\n",
       "\t6 & date &  & 2021-09-01 & 2022-07-20 & 2023-05-29 & 0 & Date \\\\\n",
       "\t7 & data\\_block\\_id & 322.899 & 2 & 324.0 & 637 & 0 & Int64 \\\\\n",
       "\\end{tabular}\n"
      ],
      "text/plain": [
       "\u001b[1m7×7 DataFrame\u001b[0m\n",
       "\u001b[1m Row \u001b[0m│\u001b[1m variable           \u001b[0m\u001b[1m mean    \u001b[0m\u001b[1m min        \u001b[0m\u001b[1m median     \u001b[0m\u001b[1m max        \u001b[0m\u001b[1m nmissi\u001b[0m ⋯\n",
       "     │\u001b[90m Symbol             \u001b[0m\u001b[90m Union…  \u001b[0m\u001b[90m Any        \u001b[0m\u001b[90m Any        \u001b[0m\u001b[90m Any        \u001b[0m\u001b[90m Int64 \u001b[0m ⋯\n",
       "─────┼──────────────────────────────────────────────────────────────────────────\n",
       "   1 │ product_type       \u001b[90m         \u001b[0m 0          \u001b[90m            \u001b[0m 3                  ⋯\n",
       "   2 │ county             \u001b[90m         \u001b[0m 0          \u001b[90m            \u001b[0m 15\n",
       "   3 │ eic_count           73.3451  5           32.0        1517\n",
       "   4 │ installed_capacity  1450.77  5.5         645.2       19314.3\n",
       "   5 │ is_business        \u001b[90m         \u001b[0m 0          \u001b[90m            \u001b[0m 1                  ⋯\n",
       "   6 │ date               \u001b[90m         \u001b[0m 2021-09-01  2022-07-20  2023-05-29\n",
       "   7 │ data_block_id       322.899  2           324.0       637\n",
       "\u001b[36m                                                               2 columns omitted\u001b[0m"
      ]
     },
     "metadata": {},
     "output_type": "display_data"
    }
   ],
   "source": [
    "describe(data_dict[\"client\"])"
   ]
  }
 ],
 "metadata": {
  "kernelspec": {
   "display_name": "Julia 1.11.4",
   "language": "julia",
   "name": "julia-1.11"
  },
  "language_info": {
   "file_extension": ".jl",
   "mimetype": "application/julia",
   "name": "julia",
   "version": "1.11.4"
  }
 },
 "nbformat": 4,
 "nbformat_minor": 5
}
