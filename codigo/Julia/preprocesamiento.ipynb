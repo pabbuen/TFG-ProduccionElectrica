{
 "cells": [
  {
   "cell_type": "code",
   "execution_count": 1,
   "metadata": {},
   "outputs": [
    {
     "name": "stderr",
     "output_type": "stream",
     "text": [
      "\u001b[32m\u001b[1m  Activating\u001b[22m\u001b[39m project at `~/proyectos/TFG-ProduccionElectrica/codigo/Julia`\n"
     ]
    }
   ],
   "source": [
    "using Pkg\n",
    "Pkg.activate(\".\"); Pkg.instantiate()\n",
    "Pkg.precompile()\n",
    "\n",
    "using CSV\n",
    "using DataFrames\n",
    "using Plots\n",
    "using Glob\n",
    "using Dates"
   ]
  },
  {
   "cell_type": "code",
   "execution_count": 2,
   "metadata": {},
   "outputs": [
    {
     "data": {
      "text/plain": [
       "8-element Vector{String}:\n",
       " \"../data/predict-energy-behavior-of-prosumers/client.csv\"\n",
       " \"../data/predict-energy-behavior-of-prosumers/county_lon_lats.csv\"\n",
       " \"../data/predict-energy-behavior-of-prosumers/electricity_prices.csv\"\n",
       " \"../data/predict-energy-behavior-of-prosumers/forecast_weather.csv\"\n",
       " \"../data/predict-energy-behavior-of-prosumers/gas_prices.csv\"\n",
       " \"../data/predict-energy-behavior-of-prosumers/historical_weather.csv\"\n",
       " \"../data/predict-energy-behavior-of-prosumers/train.csv\"\n",
       " \"../data/predict-energy-behavior\"\u001b[93m\u001b[1m ⋯ 20 bytes ⋯ \u001b[22m\u001b[39m\"r_station_to_county_mapping.csv\""
      ]
     },
     "metadata": {},
     "output_type": "display_data"
    }
   ],
   "source": [
    "filepath = \"../data/predict-energy-behavior-of-prosumers\"\n",
    "files = glob(\"*.csv\", filepath)"
   ]
  },
  {
   "cell_type": "code",
   "execution_count": 3,
   "metadata": {},
   "outputs": [
    {
     "data": {
      "text/plain": [
       "Dict{String, DataFrame} with 8 entries:\n",
       "  \"historical_weather\" => \u001b[1m1710802×18 DataFrame\u001b[0m\u001b[0m…\n",
       "  \"electricity_prices\" => \u001b[1m15286×4 DataFrame\u001b[0m\u001b[0m…\n",
       "  \"weather_station\"    => \u001b[1m112×4 DataFrame\u001b[0m\u001b[0m…\n",
       "  \"client\"             => \u001b[1m41919×7 DataFrame\u001b[0m\u001b[0m…\n",
       "  \"train\"              => \u001b[1m2018352×9 DataFrame\u001b[0m\u001b[0m…\n",
       "  \"forecast_weather\"   => \u001b[1m3424512×18 DataFrame\u001b[0m\u001b[0m…\n",
       "  \"county_lon_lats\"    => \u001b[1m75×4 DataFrame\u001b[0m\u001b[0m…\n",
       "  \"gas_prices\"         => \u001b[1m637×5 DataFrame\u001b[0m\u001b[0m…"
      ]
     },
     "metadata": {},
     "output_type": "display_data"
    }
   ],
   "source": [
    "dfs = Dict(\n",
    "    splitext(basename(archivo))[1] => CSV.read(archivo, DataFrame)\n",
    "    for archivo in files\n",
    ")\n",
    "dfs[\"weather_station\"] = dfs[\"weather_station_to_county_mapping\"]\n",
    "delete!(dfs, \"weather_station_to_county_mapping\")"
   ]
  },
  {
   "cell_type": "code",
   "execution_count": 51,
   "metadata": {},
   "outputs": [
    {
     "data": {
      "text/html": [
       "<div><div style = \"float: left;\"><span>15286×11 DataFrame</span></div><div style = \"float: right;\"><span style = \"font-style: italic;\">15261 rows omitted</span></div><div style = \"clear: both;\"></div></div><div class = \"data-frame\" style = \"overflow-x: scroll;\"><table class = \"data-frame\" style = \"margin-bottom: 6px;\"><thead><tr class = \"header\"><th class = \"rowNumber\" style = \"font-weight: bold; text-align: right;\">Row</th><th style = \"text-align: left;\">datetime</th><th style = \"text-align: left;\">euros_per_mwh</th><th style = \"text-align: left;\">origin_date</th><th style = \"text-align: left;\">data_block_id</th><th style = \"text-align: left;\">date</th><th style = \"text-align: left;\">year</th><th style = \"text-align: left;\">quarter</th><th style = \"text-align: left;\">month</th><th style = \"text-align: left;\">day_of_year</th><th style = \"text-align: left;\">day_of_month</th><th style = \"text-align: left;\">day_of_week</th></tr><tr class = \"subheader headerLastRow\"><th class = \"rowNumber\" style = \"font-weight: bold; text-align: right;\"></th><th title = \"DateTime\" style = \"text-align: left;\">DateTime</th><th title = \"Float64\" style = \"text-align: left;\">Float64</th><th title = \"String31\" style = \"text-align: left;\">String31</th><th title = \"Int64\" style = \"text-align: left;\">Int64</th><th title = \"Date\" style = \"text-align: left;\">Date</th><th title = \"Int64\" style = \"text-align: left;\">Int64</th><th title = \"Int64\" style = \"text-align: left;\">Int64</th><th title = \"Int64\" style = \"text-align: left;\">Int64</th><th title = \"Int64\" style = \"text-align: left;\">Int64</th><th title = \"Int64\" style = \"text-align: left;\">Int64</th><th title = \"Int64\" style = \"text-align: left;\">Int64</th></tr></thead><tbody><tr><td class = \"rowNumber\" style = \"font-weight: bold; text-align: right;\">1</td><td style = \"text-align: left;\">2021-09-01T00:00:00</td><td style = \"text-align: right;\">92.51</td><td style = \"text-align: left;\">2021-08-31 00:00:00</td><td style = \"text-align: right;\">1</td><td style = \"text-align: left;\">2021-09-01</td><td style = \"text-align: right;\">2021</td><td style = \"text-align: right;\">3</td><td style = \"text-align: right;\">9</td><td style = \"text-align: right;\">244</td><td style = \"text-align: right;\">1</td><td style = \"text-align: right;\">3</td></tr><tr><td class = \"rowNumber\" style = \"font-weight: bold; text-align: right;\">2</td><td style = \"text-align: left;\">2021-09-01T01:00:00</td><td style = \"text-align: right;\">88.9</td><td style = \"text-align: left;\">2021-08-31 01:00:00</td><td style = \"text-align: right;\">1</td><td style = \"text-align: left;\">2021-09-01</td><td style = \"text-align: right;\">2021</td><td style = \"text-align: right;\">3</td><td style = \"text-align: right;\">9</td><td style = \"text-align: right;\">244</td><td style = \"text-align: right;\">1</td><td style = \"text-align: right;\">3</td></tr><tr><td class = \"rowNumber\" style = \"font-weight: bold; text-align: right;\">3</td><td style = \"text-align: left;\">2021-09-01T02:00:00</td><td style = \"text-align: right;\">87.35</td><td style = \"text-align: left;\">2021-08-31 02:00:00</td><td style = \"text-align: right;\">1</td><td style = \"text-align: left;\">2021-09-01</td><td style = \"text-align: right;\">2021</td><td style = \"text-align: right;\">3</td><td style = \"text-align: right;\">9</td><td style = \"text-align: right;\">244</td><td style = \"text-align: right;\">1</td><td style = \"text-align: right;\">3</td></tr><tr><td class = \"rowNumber\" style = \"font-weight: bold; text-align: right;\">4</td><td style = \"text-align: left;\">2021-09-01T03:00:00</td><td style = \"text-align: right;\">86.88</td><td style = \"text-align: left;\">2021-08-31 03:00:00</td><td style = \"text-align: right;\">1</td><td style = \"text-align: left;\">2021-09-01</td><td style = \"text-align: right;\">2021</td><td style = \"text-align: right;\">3</td><td style = \"text-align: right;\">9</td><td style = \"text-align: right;\">244</td><td style = \"text-align: right;\">1</td><td style = \"text-align: right;\">3</td></tr><tr><td class = \"rowNumber\" style = \"font-weight: bold; text-align: right;\">5</td><td style = \"text-align: left;\">2021-09-01T04:00:00</td><td style = \"text-align: right;\">88.43</td><td style = \"text-align: left;\">2021-08-31 04:00:00</td><td style = \"text-align: right;\">1</td><td style = \"text-align: left;\">2021-09-01</td><td style = \"text-align: right;\">2021</td><td style = \"text-align: right;\">3</td><td style = \"text-align: right;\">9</td><td style = \"text-align: right;\">244</td><td style = \"text-align: right;\">1</td><td style = \"text-align: right;\">3</td></tr><tr><td class = \"rowNumber\" style = \"font-weight: bold; text-align: right;\">6</td><td style = \"text-align: left;\">2021-09-01T05:00:00</td><td style = \"text-align: right;\">93.58</td><td style = \"text-align: left;\">2021-08-31 05:00:00</td><td style = \"text-align: right;\">1</td><td style = \"text-align: left;\">2021-09-01</td><td style = \"text-align: right;\">2021</td><td style = \"text-align: right;\">3</td><td style = \"text-align: right;\">9</td><td style = \"text-align: right;\">244</td><td style = \"text-align: right;\">1</td><td style = \"text-align: right;\">3</td></tr><tr><td class = \"rowNumber\" style = \"font-weight: bold; text-align: right;\">7</td><td style = \"text-align: left;\">2021-09-01T06:00:00</td><td style = \"text-align: right;\">118.7</td><td style = \"text-align: left;\">2021-08-31 06:00:00</td><td style = \"text-align: right;\">1</td><td style = \"text-align: left;\">2021-09-01</td><td style = \"text-align: right;\">2021</td><td style = \"text-align: right;\">3</td><td style = \"text-align: right;\">9</td><td style = \"text-align: right;\">244</td><td style = \"text-align: right;\">1</td><td style = \"text-align: right;\">3</td></tr><tr><td class = \"rowNumber\" style = \"font-weight: bold; text-align: right;\">8</td><td style = \"text-align: left;\">2021-09-01T07:00:00</td><td style = \"text-align: right;\">135.44</td><td style = \"text-align: left;\">2021-08-31 07:00:00</td><td style = \"text-align: right;\">1</td><td style = \"text-align: left;\">2021-09-01</td><td style = \"text-align: right;\">2021</td><td style = \"text-align: right;\">3</td><td style = \"text-align: right;\">9</td><td style = \"text-align: right;\">244</td><td style = \"text-align: right;\">1</td><td style = \"text-align: right;\">3</td></tr><tr><td class = \"rowNumber\" style = \"font-weight: bold; text-align: right;\">9</td><td style = \"text-align: left;\">2021-09-01T08:00:00</td><td style = \"text-align: right;\">140.72</td><td style = \"text-align: left;\">2021-08-31 08:00:00</td><td style = \"text-align: right;\">1</td><td style = \"text-align: left;\">2021-09-01</td><td style = \"text-align: right;\">2021</td><td style = \"text-align: right;\">3</td><td style = \"text-align: right;\">9</td><td style = \"text-align: right;\">244</td><td style = \"text-align: right;\">1</td><td style = \"text-align: right;\">3</td></tr><tr><td class = \"rowNumber\" style = \"font-weight: bold; text-align: right;\">10</td><td style = \"text-align: left;\">2021-09-01T09:00:00</td><td style = \"text-align: right;\">130.0</td><td style = \"text-align: left;\">2021-08-31 09:00:00</td><td style = \"text-align: right;\">1</td><td style = \"text-align: left;\">2021-09-01</td><td style = \"text-align: right;\">2021</td><td style = \"text-align: right;\">3</td><td style = \"text-align: right;\">9</td><td style = \"text-align: right;\">244</td><td style = \"text-align: right;\">1</td><td style = \"text-align: right;\">3</td></tr><tr><td class = \"rowNumber\" style = \"font-weight: bold; text-align: right;\">11</td><td style = \"text-align: left;\">2021-09-01T10:00:00</td><td style = \"text-align: right;\">116.99</td><td style = \"text-align: left;\">2021-08-31 10:00:00</td><td style = \"text-align: right;\">1</td><td style = \"text-align: left;\">2021-09-01</td><td style = \"text-align: right;\">2021</td><td style = \"text-align: right;\">3</td><td style = \"text-align: right;\">9</td><td style = \"text-align: right;\">244</td><td style = \"text-align: right;\">1</td><td style = \"text-align: right;\">3</td></tr><tr><td class = \"rowNumber\" style = \"font-weight: bold; text-align: right;\">12</td><td style = \"text-align: left;\">2021-09-01T11:00:00</td><td style = \"text-align: right;\">109.75</td><td style = \"text-align: left;\">2021-08-31 11:00:00</td><td style = \"text-align: right;\">1</td><td style = \"text-align: left;\">2021-09-01</td><td style = \"text-align: right;\">2021</td><td style = \"text-align: right;\">3</td><td style = \"text-align: right;\">9</td><td style = \"text-align: right;\">244</td><td style = \"text-align: right;\">1</td><td style = \"text-align: right;\">3</td></tr><tr><td class = \"rowNumber\" style = \"font-weight: bold; text-align: right;\">13</td><td style = \"text-align: left;\">2021-09-01T12:00:00</td><td style = \"text-align: right;\">103.88</td><td style = \"text-align: left;\">2021-08-31 12:00:00</td><td style = \"text-align: right;\">1</td><td style = \"text-align: left;\">2021-09-01</td><td style = \"text-align: right;\">2021</td><td style = \"text-align: right;\">3</td><td style = \"text-align: right;\">9</td><td style = \"text-align: right;\">244</td><td style = \"text-align: right;\">1</td><td style = \"text-align: right;\">3</td></tr><tr><td style = \"text-align: right;\">&vellip;</td><td style = \"text-align: right;\">&vellip;</td><td style = \"text-align: right;\">&vellip;</td><td style = \"text-align: right;\">&vellip;</td><td style = \"text-align: right;\">&vellip;</td><td style = \"text-align: right;\">&vellip;</td><td style = \"text-align: right;\">&vellip;</td><td style = \"text-align: right;\">&vellip;</td><td style = \"text-align: right;\">&vellip;</td><td style = \"text-align: right;\">&vellip;</td><td style = \"text-align: right;\">&vellip;</td><td style = \"text-align: right;\">&vellip;</td></tr><tr><td class = \"rowNumber\" style = \"font-weight: bold; text-align: right;\">15275</td><td style = \"text-align: left;\">2023-05-30T12:00:00</td><td style = \"text-align: right;\">64.49</td><td style = \"text-align: left;\">2023-05-29 12:00:00</td><td style = \"text-align: right;\">637</td><td style = \"text-align: left;\">2023-05-30</td><td style = \"text-align: right;\">2023</td><td style = \"text-align: right;\">2</td><td style = \"text-align: right;\">5</td><td style = \"text-align: right;\">150</td><td style = \"text-align: right;\">30</td><td style = \"text-align: right;\">2</td></tr><tr><td class = \"rowNumber\" style = \"font-weight: bold; text-align: right;\">15276</td><td style = \"text-align: left;\">2023-05-30T13:00:00</td><td style = \"text-align: right;\">57.36</td><td style = \"text-align: left;\">2023-05-29 13:00:00</td><td style = \"text-align: right;\">637</td><td style = \"text-align: left;\">2023-05-30</td><td style = \"text-align: right;\">2023</td><td style = \"text-align: right;\">2</td><td style = \"text-align: right;\">5</td><td style = \"text-align: right;\">150</td><td style = \"text-align: right;\">30</td><td style = \"text-align: right;\">2</td></tr><tr><td class = \"rowNumber\" style = \"font-weight: bold; text-align: right;\">15277</td><td style = \"text-align: left;\">2023-05-30T14:00:00</td><td style = \"text-align: right;\">19.63</td><td style = \"text-align: left;\">2023-05-29 14:00:00</td><td style = \"text-align: right;\">637</td><td style = \"text-align: left;\">2023-05-30</td><td style = \"text-align: right;\">2023</td><td style = \"text-align: right;\">2</td><td style = \"text-align: right;\">5</td><td style = \"text-align: right;\">150</td><td style = \"text-align: right;\">30</td><td style = \"text-align: right;\">2</td></tr><tr><td class = \"rowNumber\" style = \"font-weight: bold; text-align: right;\">15278</td><td style = \"text-align: left;\">2023-05-30T15:00:00</td><td style = \"text-align: right;\">13.1</td><td style = \"text-align: left;\">2023-05-29 15:00:00</td><td style = \"text-align: right;\">637</td><td style = \"text-align: left;\">2023-05-30</td><td style = \"text-align: right;\">2023</td><td style = \"text-align: right;\">2</td><td style = \"text-align: right;\">5</td><td style = \"text-align: right;\">150</td><td style = \"text-align: right;\">30</td><td style = \"text-align: right;\">2</td></tr><tr><td class = \"rowNumber\" style = \"font-weight: bold; text-align: right;\">15279</td><td style = \"text-align: left;\">2023-05-30T16:00:00</td><td style = \"text-align: right;\">11.92</td><td style = \"text-align: left;\">2023-05-29 16:00:00</td><td style = \"text-align: right;\">637</td><td style = \"text-align: left;\">2023-05-30</td><td style = \"text-align: right;\">2023</td><td style = \"text-align: right;\">2</td><td style = \"text-align: right;\">5</td><td style = \"text-align: right;\">150</td><td style = \"text-align: right;\">30</td><td style = \"text-align: right;\">2</td></tr><tr><td class = \"rowNumber\" style = \"font-weight: bold; text-align: right;\">15280</td><td style = \"text-align: left;\">2023-05-30T17:00:00</td><td style = \"text-align: right;\">9.55</td><td style = \"text-align: left;\">2023-05-29 17:00:00</td><td style = \"text-align: right;\">637</td><td style = \"text-align: left;\">2023-05-30</td><td style = \"text-align: right;\">2023</td><td style = \"text-align: right;\">2</td><td style = \"text-align: right;\">5</td><td style = \"text-align: right;\">150</td><td style = \"text-align: right;\">30</td><td style = \"text-align: right;\">2</td></tr><tr><td class = \"rowNumber\" style = \"font-weight: bold; text-align: right;\">15281</td><td style = \"text-align: left;\">2023-05-30T18:00:00</td><td style = \"text-align: right;\">82.1</td><td style = \"text-align: left;\">2023-05-29 18:00:00</td><td style = \"text-align: right;\">637</td><td style = \"text-align: left;\">2023-05-30</td><td style = \"text-align: right;\">2023</td><td style = \"text-align: right;\">2</td><td style = \"text-align: right;\">5</td><td style = \"text-align: right;\">150</td><td style = \"text-align: right;\">30</td><td style = \"text-align: right;\">2</td></tr><tr><td class = \"rowNumber\" style = \"font-weight: bold; text-align: right;\">15282</td><td style = \"text-align: left;\">2023-05-30T19:00:00</td><td style = \"text-align: right;\">82.1</td><td style = \"text-align: left;\">2023-05-29 19:00:00</td><td style = \"text-align: right;\">637</td><td style = \"text-align: left;\">2023-05-30</td><td style = \"text-align: right;\">2023</td><td style = \"text-align: right;\">2</td><td style = \"text-align: right;\">5</td><td style = \"text-align: right;\">150</td><td style = \"text-align: right;\">30</td><td style = \"text-align: right;\">2</td></tr><tr><td class = \"rowNumber\" style = \"font-weight: bold; text-align: right;\">15283</td><td style = \"text-align: left;\">2023-05-30T20:00:00</td><td style = \"text-align: right;\">150.85</td><td style = \"text-align: left;\">2023-05-29 20:00:00</td><td style = \"text-align: right;\">637</td><td style = \"text-align: left;\">2023-05-30</td><td style = \"text-align: right;\">2023</td><td style = \"text-align: right;\">2</td><td style = \"text-align: right;\">5</td><td style = \"text-align: right;\">150</td><td style = \"text-align: right;\">30</td><td style = \"text-align: right;\">2</td></tr><tr><td class = \"rowNumber\" style = \"font-weight: bold; text-align: right;\">15284</td><td style = \"text-align: left;\">2023-05-30T21:00:00</td><td style = \"text-align: right;\">82.1</td><td style = \"text-align: left;\">2023-05-29 21:00:00</td><td style = \"text-align: right;\">637</td><td style = \"text-align: left;\">2023-05-30</td><td style = \"text-align: right;\">2023</td><td style = \"text-align: right;\">2</td><td style = \"text-align: right;\">5</td><td style = \"text-align: right;\">150</td><td style = \"text-align: right;\">30</td><td style = \"text-align: right;\">2</td></tr><tr><td class = \"rowNumber\" style = \"font-weight: bold; text-align: right;\">15285</td><td style = \"text-align: left;\">2023-05-30T22:00:00</td><td style = \"text-align: right;\">82.09</td><td style = \"text-align: left;\">2023-05-29 22:00:00</td><td style = \"text-align: right;\">637</td><td style = \"text-align: left;\">2023-05-30</td><td style = \"text-align: right;\">2023</td><td style = \"text-align: right;\">2</td><td style = \"text-align: right;\">5</td><td style = \"text-align: right;\">150</td><td style = \"text-align: right;\">30</td><td style = \"text-align: right;\">2</td></tr><tr><td class = \"rowNumber\" style = \"font-weight: bold; text-align: right;\">15286</td><td style = \"text-align: left;\">2023-05-30T23:00:00</td><td style = \"text-align: right;\">-1.29</td><td style = \"text-align: left;\">2023-05-29 23:00:00</td><td style = \"text-align: right;\">637</td><td style = \"text-align: left;\">2023-05-30</td><td style = \"text-align: right;\">2023</td><td style = \"text-align: right;\">2</td><td style = \"text-align: right;\">5</td><td style = \"text-align: right;\">150</td><td style = \"text-align: right;\">30</td><td style = \"text-align: right;\">2</td></tr></tbody></table></div>"
      ],
      "text/latex": [
       "\\begin{tabular}{r|cccccc}\n",
       "\t& datetime & euros\\_per\\_mwh & origin\\_date & data\\_block\\_id & date & \\\\\n",
       "\t\\hline\n",
       "\t& DateTime & Float64 & String31 & Int64 & Date & \\\\\n",
       "\t\\hline\n",
       "\t1 & 2021-09-01T00:00:00 & 92.51 & 2021-08-31 00:00:00 & 1 & 2021-09-01 & $\\dots$ \\\\\n",
       "\t2 & 2021-09-01T01:00:00 & 88.9 & 2021-08-31 01:00:00 & 1 & 2021-09-01 & $\\dots$ \\\\\n",
       "\t3 & 2021-09-01T02:00:00 & 87.35 & 2021-08-31 02:00:00 & 1 & 2021-09-01 & $\\dots$ \\\\\n",
       "\t4 & 2021-09-01T03:00:00 & 86.88 & 2021-08-31 03:00:00 & 1 & 2021-09-01 & $\\dots$ \\\\\n",
       "\t5 & 2021-09-01T04:00:00 & 88.43 & 2021-08-31 04:00:00 & 1 & 2021-09-01 & $\\dots$ \\\\\n",
       "\t6 & 2021-09-01T05:00:00 & 93.58 & 2021-08-31 05:00:00 & 1 & 2021-09-01 & $\\dots$ \\\\\n",
       "\t7 & 2021-09-01T06:00:00 & 118.7 & 2021-08-31 06:00:00 & 1 & 2021-09-01 & $\\dots$ \\\\\n",
       "\t8 & 2021-09-01T07:00:00 & 135.44 & 2021-08-31 07:00:00 & 1 & 2021-09-01 & $\\dots$ \\\\\n",
       "\t9 & 2021-09-01T08:00:00 & 140.72 & 2021-08-31 08:00:00 & 1 & 2021-09-01 & $\\dots$ \\\\\n",
       "\t10 & 2021-09-01T09:00:00 & 130.0 & 2021-08-31 09:00:00 & 1 & 2021-09-01 & $\\dots$ \\\\\n",
       "\t11 & 2021-09-01T10:00:00 & 116.99 & 2021-08-31 10:00:00 & 1 & 2021-09-01 & $\\dots$ \\\\\n",
       "\t12 & 2021-09-01T11:00:00 & 109.75 & 2021-08-31 11:00:00 & 1 & 2021-09-01 & $\\dots$ \\\\\n",
       "\t13 & 2021-09-01T12:00:00 & 103.88 & 2021-08-31 12:00:00 & 1 & 2021-09-01 & $\\dots$ \\\\\n",
       "\t14 & 2021-09-01T13:00:00 & 98.0 & 2021-08-31 13:00:00 & 1 & 2021-09-01 & $\\dots$ \\\\\n",
       "\t15 & 2021-09-01T14:00:00 & 94.98 & 2021-08-31 14:00:00 & 1 & 2021-09-01 & $\\dots$ \\\\\n",
       "\t16 & 2021-09-01T15:00:00 & 95.06 & 2021-08-31 15:00:00 & 1 & 2021-09-01 & $\\dots$ \\\\\n",
       "\t17 & 2021-09-01T16:00:00 & 97.61 & 2021-08-31 16:00:00 & 1 & 2021-09-01 & $\\dots$ \\\\\n",
       "\t18 & 2021-09-01T17:00:00 & 116.12 & 2021-08-31 17:00:00 & 1 & 2021-09-01 & $\\dots$ \\\\\n",
       "\t19 & 2021-09-01T18:00:00 & 131.0 & 2021-08-31 18:00:00 & 1 & 2021-09-01 & $\\dots$ \\\\\n",
       "\t20 & 2021-09-01T19:00:00 & 145.91 & 2021-08-31 19:00:00 & 1 & 2021-09-01 & $\\dots$ \\\\\n",
       "\t21 & 2021-09-01T20:00:00 & 144.93 & 2021-08-31 20:00:00 & 1 & 2021-09-01 & $\\dots$ \\\\\n",
       "\t22 & 2021-09-01T21:00:00 & 125.76 & 2021-08-31 21:00:00 & 1 & 2021-09-01 & $\\dots$ \\\\\n",
       "\t23 & 2021-09-01T22:00:00 & 114.39 & 2021-08-31 22:00:00 & 1 & 2021-09-01 & $\\dots$ \\\\\n",
       "\t24 & 2021-09-01T23:00:00 & 94.32 & 2021-08-31 23:00:00 & 1 & 2021-09-01 & $\\dots$ \\\\\n",
       "\t$\\dots$ & $\\dots$ & $\\dots$ & $\\dots$ & $\\dots$ & $\\dots$ &  \\\\\n",
       "\\end{tabular}\n"
      ],
      "text/plain": [
       "\u001b[1m15286×11 DataFrame\u001b[0m\n",
       "\u001b[1m   Row \u001b[0m│\u001b[1m datetime            \u001b[0m\u001b[1m euros_per_mwh \u001b[0m\u001b[1m origin_date         \u001b[0m\u001b[1m data_block_i\u001b[0m ⋯\n",
       "       │\u001b[90m DateTime            \u001b[0m\u001b[90m Float64       \u001b[0m\u001b[90m String31            \u001b[0m\u001b[90m Int64       \u001b[0m ⋯\n",
       "───────┼────────────────────────────────────────────────────────────────────────\n",
       "     1 │ 2021-09-01T00:00:00          92.51  2021-08-31 00:00:00               ⋯\n",
       "     2 │ 2021-09-01T01:00:00          88.9   2021-08-31 01:00:00\n",
       "     3 │ 2021-09-01T02:00:00          87.35  2021-08-31 02:00:00\n",
       "     4 │ 2021-09-01T03:00:00          86.88  2021-08-31 03:00:00\n",
       "     5 │ 2021-09-01T04:00:00          88.43  2021-08-31 04:00:00               ⋯\n",
       "     6 │ 2021-09-01T05:00:00          93.58  2021-08-31 05:00:00\n",
       "     7 │ 2021-09-01T06:00:00         118.7   2021-08-31 06:00:00\n",
       "     8 │ 2021-09-01T07:00:00         135.44  2021-08-31 07:00:00\n",
       "   ⋮   │          ⋮                 ⋮                 ⋮                 ⋮      ⋱\n",
       " 15280 │ 2023-05-30T17:00:00           9.55  2023-05-29 17:00:00            63 ⋯\n",
       " 15281 │ 2023-05-30T18:00:00          82.1   2023-05-29 18:00:00            63\n",
       " 15282 │ 2023-05-30T19:00:00          82.1   2023-05-29 19:00:00            63\n",
       " 15283 │ 2023-05-30T20:00:00         150.85  2023-05-29 20:00:00            63\n",
       " 15284 │ 2023-05-30T21:00:00          82.1   2023-05-29 21:00:00            63 ⋯\n",
       " 15285 │ 2023-05-30T22:00:00          82.09  2023-05-29 22:00:00            63\n",
       " 15286 │ 2023-05-30T23:00:00          -1.29  2023-05-29 23:00:00            63\n",
       "\u001b[36m                                                8 columns and 15271 rows omitted\u001b[0m"
      ]
     },
     "metadata": {},
     "output_type": "display_data"
    }
   ],
   "source": [
    "as = rename(\n",
    "    dfs[\"electricity_prices\"],\n",
    "    :forecast_date => :datetime\n",
    ");\n",
    "\n",
    "formato = DateFormat(\"yyyy-mm-dd HH:MM:SS\");\n",
    "\n",
    "as.datetime = DateTime.(as.datetime, formato);\n",
    "as.date = Date.(as.datetime)\n",
    "as.year = Dates.year.(as.datetime)\n",
    "as.quarter = Dates.quarter.(as.datetime)\n",
    "as.month = Dates.month.(as.datetime)\n",
    "as.day_of_year = Dates.dayofyear.(as.datetime)\n",
    "as.day_of_month = Dates.dayofmonth.(as.datetime)\n",
    "as.day_of_week = Dates.dayofweek.(as.datetime)\n",
    "\n",
    "as"
   ]
  },
  {
   "cell_type": "markdown",
   "metadata": {},
   "source": []
  },
  {
   "cell_type": "code",
   "execution_count": 17,
   "metadata": {},
   "outputs": [
    {
     "data": {
      "text/plain": [
       "637-element Vector{DateTime}:\n",
       " 2021-09-01T00:00:00\n",
       " 2021-09-02T00:00:00\n",
       " 2021-09-03T00:00:00\n",
       " 2021-09-04T00:00:00\n",
       " 2021-09-05T00:00:00\n",
       " 2021-09-06T00:00:00\n",
       " 2021-09-07T00:00:00\n",
       " 2021-09-08T00:00:00\n",
       " 2021-09-09T00:00:00\n",
       " 2021-09-10T00:00:00\n",
       " ⋮\n",
       " 2023-05-22T00:00:00\n",
       " 2023-05-23T00:00:00\n",
       " 2023-05-24T00:00:00\n",
       " 2023-05-25T00:00:00\n",
       " 2023-05-26T00:00:00\n",
       " 2023-05-27T00:00:00\n",
       " 2023-05-28T00:00:00\n",
       " 2023-05-29T00:00:00\n",
       " 2023-05-30T00:00:00"
      ]
     },
     "metadata": {},
     "output_type": "display_data"
    }
   ],
   "source": [
    "DateTime.(dfs[\"gas_prices\"].forecast_date)"
   ]
  },
  {
   "cell_type": "code",
   "execution_count": 6,
   "metadata": {},
   "outputs": [
    {
     "ename": "ArgumentError",
     "evalue": "ArgumentError: syntax df[column] is not supported use df[!, column] instead",
     "output_type": "error",
     "traceback": [
      "ArgumentError: syntax df[column] is not supported use df[!, column] instead\n",
      "\n",
      "Stacktrace:\n",
      " [1] getindex(::DataFrame, ::String)\n",
      "   @ DataFrames ~/.julia/packages/DataFrames/kcA9R/src/abstractdataframe/abstractdataframe.jl:2235\n",
      " [2] top-level scope\n",
      "   @ ~/proyectos/TFG-ProduccionElectrica/codigo/Julia/jl_notebook_cell_df34fa98e69747e1a8f8a730347b8e2f_W5sZmlsZQ==.jl:1"
     ]
    }
   ],
   "source": [
    "dfs[\"gas_prices\"][\"forecast_date\"]"
   ]
  }
 ],
 "metadata": {
  "kernelspec": {
   "display_name": "Julia 1.11.2",
   "language": "julia",
   "name": "julia-1.11"
  },
  "language_info": {
   "file_extension": ".jl",
   "mimetype": "application/julia",
   "name": "julia",
   "version": "1.11.2"
  }
 },
 "nbformat": 4,
 "nbformat_minor": 2
}
