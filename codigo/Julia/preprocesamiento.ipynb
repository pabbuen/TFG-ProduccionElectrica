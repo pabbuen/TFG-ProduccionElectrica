{
 "cells": [
  {
   "cell_type": "code",
   "execution_count": 1,
   "metadata": {},
   "outputs": [
    {
     "name": "stderr",
     "output_type": "stream",
     "text": [
      "\u001b[32m\u001b[1m  Activating\u001b[22m\u001b[39m project at `~/proyectos/TFG-ProduccionElectrica/codigo/Julia`\n"
     ]
    }
   ],
   "source": [
    "using Pkg\n",
    "Pkg.activate(\".\"); Pkg.instantiate()\n",
    "Pkg.precompile()                                                                \n",
    "\n",
    "using CSV                                                                                                                                                                                                                                                                                                                                                                                                                                                                                                                                               \n",
    "using DataFrames\n",
    "using Plots\n",
    "using Glob\n",
    "using Dates\n",
    "using Distances: haversine"
   ]
  },
  {
   "cell_type": "code",
   "execution_count": 2,
   "metadata": {},
   "outputs": [
    {
     "data": {
      "text/plain": [
       "8-element Vector{String}:\n",
       " \"../data/predict-energy-behavior-of-prosumers/client.csv\"\n",
       " \"../data/predict-energy-behavior-of-prosumers/county_lon_lats.csv\"\n",
       " \"../data/predict-energy-behavior-of-prosumers/electricity_prices.csv\"\n",
       " \"../data/predict-energy-behavior-of-prosumers/forecast_weather.csv\"\n",
       " \"../data/predict-energy-behavior-of-prosumers/gas_prices.csv\"\n",
       " \"../data/predict-energy-behavior-of-prosumers/historical_weather.csv\"\n",
       " \"../data/predict-energy-behavior-of-prosumers/train.csv\"\n",
       " \"../data/predict-energy-behavior\"\u001b[93m\u001b[1m ⋯ 20 bytes ⋯ \u001b[22m\u001b[39m\"r_station_to_county_mapping.csv\""
      ]
     },
     "metadata": {},
     "output_type": "display_data"
    }
   ],
   "source": [
    "filepath = \"../data/predict-energy-behavior-of-prosumers\"\n",
    "files = glob(\"*.csv\", filepath)"
   ]
  },
  {
   "cell_type": "code",
   "execution_count": 3,
   "metadata": {},
   "outputs": [
    {
     "data": {
      "text/plain": [
       "Dict{String, DataFrame} with 8 entries:\n",
       "  \"historical_weather\" => \u001b[1m1710802×18 DataFrame\u001b[0m\u001b[0m…\n",
       "  \"electricity_prices\" => \u001b[1m15286×4 DataFrame\u001b[0m\u001b[0m…\n",
       "  \"weather_station\"    => \u001b[1m112×4 DataFrame\u001b[0m\u001b[0m…\n",
       "  \"client\"             => \u001b[1m41919×7 DataFrame\u001b[0m\u001b[0m…\n",
       "  \"train\"              => \u001b[1m2018352×9 DataFrame\u001b[0m\u001b[0m…\n",
       "  \"forecast_weather\"   => \u001b[1m3424512×18 DataFrame\u001b[0m\u001b[0m…\n",
       "  \"county_lon_lats\"    => \u001b[1m75×4 DataFrame\u001b[0m\u001b[0m…\n",
       "  \"gas_prices\"         => \u001b[1m637×5 DataFrame\u001b[0m\u001b[0m…"
      ]
     },
     "metadata": {},
     "output_type": "display_data"
    }
   ],
   "source": [
    "dfs = Dict(\n",
    "    splitext(basename(archivo))[1] => CSV.read(archivo, DataFrame)\n",
    "    for archivo in files\n",
    ")\n",
    "dfs[\"weather_station\"] = dfs[\"weather_station_to_county_mapping\"]\n",
    "delete!(dfs, \"weather_station_to_county_mapping\")"
   ]
  },
  {
   "cell_type": "code",
   "execution_count": 71,
   "metadata": {},
   "outputs": [
    {
     "data": {
      "text/html": [
       "<div><div style = \"float: left;\"><span>49×3 DataFrame</span></div><div style = \"float: right;\"><span style = \"font-style: italic;\">24 rows omitted</span></div><div style = \"clear: both;\"></div></div><div class = \"data-frame\" style = \"overflow-x: scroll;\"><table class = \"data-frame\" style = \"margin-bottom: 6px;\"><thead><tr class = \"header\"><th class = \"rowNumber\" style = \"font-weight: bold; text-align: right;\">Row</th><th style = \"text-align: left;\">latitude</th><th style = \"text-align: left;\">longitude</th><th style = \"text-align: left;\">county</th></tr><tr class = \"subheader headerLastRow\"><th class = \"rowNumber\" style = \"font-weight: bold; text-align: right;\"></th><th title = \"Float64\" style = \"text-align: left;\">Float64</th><th title = \"Float64\" style = \"text-align: left;\">Float64</th><th title = \"Int64\" style = \"text-align: left;\">Int64</th></tr></thead><tbody><tr><td class = \"rowNumber\" style = \"font-weight: bold; text-align: right;\">1</td><td style = \"text-align: right;\">1.01578</td><td style = \"text-align: right;\">0.387463</td><td style = \"text-align: right;\">10</td></tr><tr><td class = \"rowNumber\" style = \"font-weight: bold; text-align: right;\">2</td><td style = \"text-align: right;\">1.02102</td><td style = \"text-align: right;\">0.387463</td><td style = \"text-align: right;\">10</td></tr><tr><td class = \"rowNumber\" style = \"font-weight: bold; text-align: right;\">3</td><td style = \"text-align: right;\">1.02102</td><td style = \"text-align: right;\">0.39619</td><td style = \"text-align: right;\">10</td></tr><tr><td class = \"rowNumber\" style = \"font-weight: bold; text-align: right;\">4</td><td style = \"text-align: right;\">1.02625</td><td style = \"text-align: right;\">0.39619</td><td style = \"text-align: right;\">1</td></tr><tr><td class = \"rowNumber\" style = \"font-weight: bold; text-align: right;\">5</td><td style = \"text-align: right;\">1.02102</td><td style = \"text-align: right;\">0.404916</td><td style = \"text-align: right;\">10</td></tr><tr><td class = \"rowNumber\" style = \"font-weight: bold; text-align: right;\">6</td><td style = \"text-align: right;\">1.02102</td><td style = \"text-align: right;\">0.413643</td><td style = \"text-align: right;\">7</td></tr><tr><td class = \"rowNumber\" style = \"font-weight: bold; text-align: right;\">7</td><td style = \"text-align: right;\">1.02625</td><td style = \"text-align: right;\">0.413643</td><td style = \"text-align: right;\">6</td></tr><tr><td class = \"rowNumber\" style = \"font-weight: bold; text-align: right;\">8</td><td style = \"text-align: right;\">1.03149</td><td style = \"text-align: right;\">0.413643</td><td style = \"text-align: right;\">6</td></tr><tr><td class = \"rowNumber\" style = \"font-weight: bold; text-align: right;\">9</td><td style = \"text-align: right;\">1.02102</td><td style = \"text-align: right;\">0.42237</td><td style = \"text-align: right;\">7</td></tr><tr><td class = \"rowNumber\" style = \"font-weight: bold; text-align: right;\">10</td><td style = \"text-align: right;\">1.02625</td><td style = \"text-align: right;\">0.42237</td><td style = \"text-align: right;\">9</td></tr><tr><td class = \"rowNumber\" style = \"font-weight: bold; text-align: right;\">11</td><td style = \"text-align: right;\">1.03149</td><td style = \"text-align: right;\">0.42237</td><td style = \"text-align: right;\">0</td></tr><tr><td class = \"rowNumber\" style = \"font-weight: bold; text-align: right;\">12</td><td style = \"text-align: right;\">1.03673</td><td style = \"text-align: right;\">0.42237</td><td style = \"text-align: right;\">0</td></tr><tr><td class = \"rowNumber\" style = \"font-weight: bold; text-align: right;\">13</td><td style = \"text-align: right;\">1.01578</td><td style = \"text-align: right;\">0.431096</td><td style = \"text-align: right;\">7</td></tr><tr><td style = \"text-align: right;\">&vellip;</td><td style = \"text-align: right;\">&vellip;</td><td style = \"text-align: right;\">&vellip;</td><td style = \"text-align: right;\">&vellip;</td></tr><tr><td class = \"rowNumber\" style = \"font-weight: bold; text-align: right;\">38</td><td style = \"text-align: right;\">1.02625</td><td style = \"text-align: right;\">0.466003</td><td style = \"text-align: right;\">4</td></tr><tr><td class = \"rowNumber\" style = \"font-weight: bold; text-align: right;\">39</td><td style = \"text-align: right;\">1.03149</td><td style = \"text-align: right;\">0.466003</td><td style = \"text-align: right;\">5</td></tr><tr><td class = \"rowNumber\" style = \"font-weight: bold; text-align: right;\">40</td><td style = \"text-align: right;\">1.03673</td><td style = \"text-align: right;\">0.466003</td><td style = \"text-align: right;\">5</td></tr><tr><td class = \"rowNumber\" style = \"font-weight: bold; text-align: right;\">41</td><td style = \"text-align: right;\">1.00531</td><td style = \"text-align: right;\">0.47473</td><td style = \"text-align: right;\">15</td></tr><tr><td class = \"rowNumber\" style = \"font-weight: bold; text-align: right;\">42</td><td style = \"text-align: right;\">1.01055</td><td style = \"text-align: right;\">0.47473</td><td style = \"text-align: right;\">15</td></tr><tr><td class = \"rowNumber\" style = \"font-weight: bold; text-align: right;\">43</td><td style = \"text-align: right;\">1.01578</td><td style = \"text-align: right;\">0.47473</td><td style = \"text-align: right;\">8</td></tr><tr><td class = \"rowNumber\" style = \"font-weight: bold; text-align: right;\">44</td><td style = \"text-align: right;\">1.02102</td><td style = \"text-align: right;\">0.47473</td><td style = \"text-align: right;\">11</td></tr><tr><td class = \"rowNumber\" style = \"font-weight: bold; text-align: right;\">45</td><td style = \"text-align: right;\">1.03149</td><td style = \"text-align: right;\">0.47473</td><td style = \"text-align: right;\">2</td></tr><tr><td class = \"rowNumber\" style = \"font-weight: bold; text-align: right;\">46</td><td style = \"text-align: right;\">1.03673</td><td style = \"text-align: right;\">0.47473</td><td style = \"text-align: right;\">2</td></tr><tr><td class = \"rowNumber\" style = \"font-weight: bold; text-align: right;\">47</td><td style = \"text-align: right;\">1.01055</td><td style = \"text-align: right;\">0.483456</td><td style = \"text-align: right;\">15</td></tr><tr><td class = \"rowNumber\" style = \"font-weight: bold; text-align: right;\">48</td><td style = \"text-align: right;\">1.03149</td><td style = \"text-align: right;\">0.483456</td><td style = \"text-align: right;\">2</td></tr><tr><td class = \"rowNumber\" style = \"font-weight: bold; text-align: right;\">49</td><td style = \"text-align: right;\">1.03673</td><td style = \"text-align: right;\">0.483456</td><td style = \"text-align: right;\">2</td></tr></tbody></table></div>"
      ],
      "text/latex": [
       "\\begin{tabular}{r|ccc}\n",
       "\t& latitude & longitude & county\\\\\n",
       "\t\\hline\n",
       "\t& Float64 & Float64 & Int64\\\\\n",
       "\t\\hline\n",
       "\t1 & 1.01578 & 0.387463 & 10 \\\\\n",
       "\t2 & 1.02102 & 0.387463 & 10 \\\\\n",
       "\t3 & 1.02102 & 0.39619 & 10 \\\\\n",
       "\t4 & 1.02625 & 0.39619 & 1 \\\\\n",
       "\t5 & 1.02102 & 0.404916 & 10 \\\\\n",
       "\t6 & 1.02102 & 0.413643 & 7 \\\\\n",
       "\t7 & 1.02625 & 0.413643 & 6 \\\\\n",
       "\t8 & 1.03149 & 0.413643 & 6 \\\\\n",
       "\t9 & 1.02102 & 0.42237 & 7 \\\\\n",
       "\t10 & 1.02625 & 0.42237 & 9 \\\\\n",
       "\t11 & 1.03149 & 0.42237 & 0 \\\\\n",
       "\t12 & 1.03673 & 0.42237 & 0 \\\\\n",
       "\t13 & 1.01578 & 0.431096 & 7 \\\\\n",
       "\t14 & 1.02102 & 0.431096 & 7 \\\\\n",
       "\t15 & 1.02625 & 0.431096 & 9 \\\\\n",
       "\t16 & 1.03149 & 0.431096 & 9 \\\\\n",
       "\t17 & 1.03673 & 0.431096 & 0 \\\\\n",
       "\t18 & 1.01578 & 0.439823 & 7 \\\\\n",
       "\t19 & 1.02102 & 0.439823 & 14 \\\\\n",
       "\t20 & 1.02625 & 0.439823 & 3 \\\\\n",
       "\t21 & 1.03149 & 0.439823 & 0 \\\\\n",
       "\t22 & 1.03673 & 0.439823 & 0 \\\\\n",
       "\t23 & 1.01578 & 0.44855 & 14 \\\\\n",
       "\t24 & 1.02102 & 0.44855 & 14 \\\\\n",
       "\t$\\dots$ & $\\dots$ & $\\dots$ & $\\dots$ \\\\\n",
       "\\end{tabular}\n"
      ],
      "text/plain": [
       "\u001b[1m49×3 DataFrame\u001b[0m\n",
       "\u001b[1m Row \u001b[0m│\u001b[1m latitude \u001b[0m\u001b[1m longitude \u001b[0m\u001b[1m county \u001b[0m\n",
       "     │\u001b[90m Float64  \u001b[0m\u001b[90m Float64   \u001b[0m\u001b[90m Int64  \u001b[0m\n",
       "─────┼─────────────────────────────\n",
       "   1 │  1.01578   0.387463      10\n",
       "   2 │  1.02102   0.387463      10\n",
       "   3 │  1.02102   0.39619       10\n",
       "   4 │  1.02625   0.39619        1\n",
       "   5 │  1.02102   0.404916      10\n",
       "   6 │  1.02102   0.413643       7\n",
       "   7 │  1.02625   0.413643       6\n",
       "   8 │  1.03149   0.413643       6\n",
       "  ⋮  │    ⋮          ⋮        ⋮\n",
       "  43 │  1.01578   0.47473        8\n",
       "  44 │  1.02102   0.47473       11\n",
       "  45 │  1.03149   0.47473        2\n",
       "  46 │  1.03673   0.47473        2\n",
       "  47 │  1.01055   0.483456      15\n",
       "  48 │  1.03149   0.483456       2\n",
       "  49 │  1.03673   0.483456       2\n",
       "\u001b[36m                    34 rows omitted\u001b[0m"
      ]
     },
     "metadata": {},
     "output_type": "display_data"
    }
   ],
   "source": [
    "hist_w = select(dfs[\"historical_weather\"], [:latitude, :longitude])\n",
    "hits_w_un = unique(hist_w, [:latitude, :longitude])\n",
    "stations = dropmissing(\n",
    "    select(dfs[\"weather_station\"], Not(\"county_name\"))\n",
    ")\n",
    "stations = select(\n",
    "    stations,\n",
    "    :latitude => ByRow(deg2rad) => :latitude,\n",
    "    :longitude => ByRow(deg2rad) => :longitude,\n",
    "    :county\n",
    ")"
   ]
  },
  {
   "cell_type": "code",
   "execution_count": 72,
   "metadata": {},
   "outputs": [
    {
     "data": {
      "text/html": [
       "<div><div style = \"float: left;\"><span>112×4 DataFrame</span></div><div style = \"float: right;\"><span style = \"font-style: italic;\">87 rows omitted</span></div><div style = \"clear: both;\"></div></div><div class = \"data-frame\" style = \"overflow-x: scroll;\"><table class = \"data-frame\" style = \"margin-bottom: 6px;\"><thead><tr class = \"header\"><th class = \"rowNumber\" style = \"font-weight: bold; text-align: right;\">Row</th><th style = \"text-align: left;\">latitude</th><th style = \"text-align: left;\">longitude</th><th style = \"text-align: left;\">lat_rad</th><th style = \"text-align: left;\">lon_rad</th></tr><tr class = \"subheader headerLastRow\"><th class = \"rowNumber\" style = \"font-weight: bold; text-align: right;\"></th><th title = \"Float64\" style = \"text-align: left;\">Float64</th><th title = \"Float64\" style = \"text-align: left;\">Float64</th><th title = \"Float64\" style = \"text-align: left;\">Float64</th><th title = \"Float64\" style = \"text-align: left;\">Float64</th></tr></thead><tbody><tr><td class = \"rowNumber\" style = \"font-weight: bold; text-align: right;\">1</td><td style = \"text-align: right;\">57.6</td><td style = \"text-align: right;\">21.7</td><td style = \"text-align: right;\">1.00531</td><td style = \"text-align: right;\">0.378736</td></tr><tr><td class = \"rowNumber\" style = \"font-weight: bold; text-align: right;\">2</td><td style = \"text-align: right;\">57.6</td><td style = \"text-align: right;\">22.2</td><td style = \"text-align: right;\">1.00531</td><td style = \"text-align: right;\">0.387463</td></tr><tr><td class = \"rowNumber\" style = \"font-weight: bold; text-align: right;\">3</td><td style = \"text-align: right;\">57.6</td><td style = \"text-align: right;\">22.7</td><td style = \"text-align: right;\">1.00531</td><td style = \"text-align: right;\">0.39619</td></tr><tr><td class = \"rowNumber\" style = \"font-weight: bold; text-align: right;\">4</td><td style = \"text-align: right;\">57.6</td><td style = \"text-align: right;\">23.2</td><td style = \"text-align: right;\">1.00531</td><td style = \"text-align: right;\">0.404916</td></tr><tr><td class = \"rowNumber\" style = \"font-weight: bold; text-align: right;\">5</td><td style = \"text-align: right;\">57.6</td><td style = \"text-align: right;\">23.7</td><td style = \"text-align: right;\">1.00531</td><td style = \"text-align: right;\">0.413643</td></tr><tr><td class = \"rowNumber\" style = \"font-weight: bold; text-align: right;\">6</td><td style = \"text-align: right;\">57.6</td><td style = \"text-align: right;\">24.2</td><td style = \"text-align: right;\">1.00531</td><td style = \"text-align: right;\">0.42237</td></tr><tr><td class = \"rowNumber\" style = \"font-weight: bold; text-align: right;\">7</td><td style = \"text-align: right;\">57.6</td><td style = \"text-align: right;\">24.7</td><td style = \"text-align: right;\">1.00531</td><td style = \"text-align: right;\">0.431096</td></tr><tr><td class = \"rowNumber\" style = \"font-weight: bold; text-align: right;\">8</td><td style = \"text-align: right;\">57.6</td><td style = \"text-align: right;\">25.2</td><td style = \"text-align: right;\">1.00531</td><td style = \"text-align: right;\">0.439823</td></tr><tr><td class = \"rowNumber\" style = \"font-weight: bold; text-align: right;\">9</td><td style = \"text-align: right;\">57.6</td><td style = \"text-align: right;\">25.7</td><td style = \"text-align: right;\">1.00531</td><td style = \"text-align: right;\">0.44855</td></tr><tr><td class = \"rowNumber\" style = \"font-weight: bold; text-align: right;\">10</td><td style = \"text-align: right;\">57.6</td><td style = \"text-align: right;\">26.2</td><td style = \"text-align: right;\">1.00531</td><td style = \"text-align: right;\">0.457276</td></tr><tr><td class = \"rowNumber\" style = \"font-weight: bold; text-align: right;\">11</td><td style = \"text-align: right;\">57.6</td><td style = \"text-align: right;\">26.7</td><td style = \"text-align: right;\">1.00531</td><td style = \"text-align: right;\">0.466003</td></tr><tr><td class = \"rowNumber\" style = \"font-weight: bold; text-align: right;\">12</td><td style = \"text-align: right;\">57.6</td><td style = \"text-align: right;\">27.2</td><td style = \"text-align: right;\">1.00531</td><td style = \"text-align: right;\">0.47473</td></tr><tr><td class = \"rowNumber\" style = \"font-weight: bold; text-align: right;\">13</td><td style = \"text-align: right;\">57.6</td><td style = \"text-align: right;\">27.7</td><td style = \"text-align: right;\">1.00531</td><td style = \"text-align: right;\">0.483456</td></tr><tr><td style = \"text-align: right;\">&vellip;</td><td style = \"text-align: right;\">&vellip;</td><td style = \"text-align: right;\">&vellip;</td><td style = \"text-align: right;\">&vellip;</td><td style = \"text-align: right;\">&vellip;</td></tr><tr><td class = \"rowNumber\" style = \"font-weight: bold; text-align: right;\">101</td><td style = \"text-align: right;\">59.7</td><td style = \"text-align: right;\">22.7</td><td style = \"text-align: right;\">1.04196</td><td style = \"text-align: right;\">0.39619</td></tr><tr><td class = \"rowNumber\" style = \"font-weight: bold; text-align: right;\">102</td><td style = \"text-align: right;\">59.7</td><td style = \"text-align: right;\">23.2</td><td style = \"text-align: right;\">1.04196</td><td style = \"text-align: right;\">0.404916</td></tr><tr><td class = \"rowNumber\" style = \"font-weight: bold; text-align: right;\">103</td><td style = \"text-align: right;\">59.7</td><td style = \"text-align: right;\">23.7</td><td style = \"text-align: right;\">1.04196</td><td style = \"text-align: right;\">0.413643</td></tr><tr><td class = \"rowNumber\" style = \"font-weight: bold; text-align: right;\">104</td><td style = \"text-align: right;\">59.7</td><td style = \"text-align: right;\">24.2</td><td style = \"text-align: right;\">1.04196</td><td style = \"text-align: right;\">0.42237</td></tr><tr><td class = \"rowNumber\" style = \"font-weight: bold; text-align: right;\">105</td><td style = \"text-align: right;\">59.7</td><td style = \"text-align: right;\">24.7</td><td style = \"text-align: right;\">1.04196</td><td style = \"text-align: right;\">0.431096</td></tr><tr><td class = \"rowNumber\" style = \"font-weight: bold; text-align: right;\">106</td><td style = \"text-align: right;\">59.7</td><td style = \"text-align: right;\">25.2</td><td style = \"text-align: right;\">1.04196</td><td style = \"text-align: right;\">0.439823</td></tr><tr><td class = \"rowNumber\" style = \"font-weight: bold; text-align: right;\">107</td><td style = \"text-align: right;\">59.7</td><td style = \"text-align: right;\">25.7</td><td style = \"text-align: right;\">1.04196</td><td style = \"text-align: right;\">0.44855</td></tr><tr><td class = \"rowNumber\" style = \"font-weight: bold; text-align: right;\">108</td><td style = \"text-align: right;\">59.7</td><td style = \"text-align: right;\">26.2</td><td style = \"text-align: right;\">1.04196</td><td style = \"text-align: right;\">0.457276</td></tr><tr><td class = \"rowNumber\" style = \"font-weight: bold; text-align: right;\">109</td><td style = \"text-align: right;\">59.7</td><td style = \"text-align: right;\">26.7</td><td style = \"text-align: right;\">1.04196</td><td style = \"text-align: right;\">0.466003</td></tr><tr><td class = \"rowNumber\" style = \"font-weight: bold; text-align: right;\">110</td><td style = \"text-align: right;\">59.7</td><td style = \"text-align: right;\">27.2</td><td style = \"text-align: right;\">1.04196</td><td style = \"text-align: right;\">0.47473</td></tr><tr><td class = \"rowNumber\" style = \"font-weight: bold; text-align: right;\">111</td><td style = \"text-align: right;\">59.7</td><td style = \"text-align: right;\">27.7</td><td style = \"text-align: right;\">1.04196</td><td style = \"text-align: right;\">0.483456</td></tr><tr><td class = \"rowNumber\" style = \"font-weight: bold; text-align: right;\">112</td><td style = \"text-align: right;\">59.7</td><td style = \"text-align: right;\">28.2</td><td style = \"text-align: right;\">1.04196</td><td style = \"text-align: right;\">0.492183</td></tr></tbody></table></div>"
      ],
      "text/latex": [
       "\\begin{tabular}{r|cccc}\n",
       "\t& latitude & longitude & lat\\_rad & lon\\_rad\\\\\n",
       "\t\\hline\n",
       "\t& Float64 & Float64 & Float64 & Float64\\\\\n",
       "\t\\hline\n",
       "\t1 & 57.6 & 21.7 & 1.00531 & 0.378736 \\\\\n",
       "\t2 & 57.6 & 22.2 & 1.00531 & 0.387463 \\\\\n",
       "\t3 & 57.6 & 22.7 & 1.00531 & 0.39619 \\\\\n",
       "\t4 & 57.6 & 23.2 & 1.00531 & 0.404916 \\\\\n",
       "\t5 & 57.6 & 23.7 & 1.00531 & 0.413643 \\\\\n",
       "\t6 & 57.6 & 24.2 & 1.00531 & 0.42237 \\\\\n",
       "\t7 & 57.6 & 24.7 & 1.00531 & 0.431096 \\\\\n",
       "\t8 & 57.6 & 25.2 & 1.00531 & 0.439823 \\\\\n",
       "\t9 & 57.6 & 25.7 & 1.00531 & 0.44855 \\\\\n",
       "\t10 & 57.6 & 26.2 & 1.00531 & 0.457276 \\\\\n",
       "\t11 & 57.6 & 26.7 & 1.00531 & 0.466003 \\\\\n",
       "\t12 & 57.6 & 27.2 & 1.00531 & 0.47473 \\\\\n",
       "\t13 & 57.6 & 27.7 & 1.00531 & 0.483456 \\\\\n",
       "\t14 & 57.6 & 28.2 & 1.00531 & 0.492183 \\\\\n",
       "\t15 & 57.9 & 21.7 & 1.01055 & 0.378736 \\\\\n",
       "\t16 & 57.9 & 22.2 & 1.01055 & 0.387463 \\\\\n",
       "\t17 & 57.9 & 22.7 & 1.01055 & 0.39619 \\\\\n",
       "\t18 & 57.9 & 23.2 & 1.01055 & 0.404916 \\\\\n",
       "\t19 & 57.9 & 23.7 & 1.01055 & 0.413643 \\\\\n",
       "\t20 & 57.9 & 24.2 & 1.01055 & 0.42237 \\\\\n",
       "\t21 & 57.9 & 24.7 & 1.01055 & 0.431096 \\\\\n",
       "\t22 & 57.9 & 25.2 & 1.01055 & 0.439823 \\\\\n",
       "\t23 & 57.9 & 25.7 & 1.01055 & 0.44855 \\\\\n",
       "\t24 & 57.9 & 26.2 & 1.01055 & 0.457276 \\\\\n",
       "\t$\\dots$ & $\\dots$ & $\\dots$ & $\\dots$ & $\\dots$ \\\\\n",
       "\\end{tabular}\n"
      ],
      "text/plain": [
       "\u001b[1m112×4 DataFrame\u001b[0m\n",
       "\u001b[1m Row \u001b[0m│\u001b[1m latitude \u001b[0m\u001b[1m longitude \u001b[0m\u001b[1m lat_rad \u001b[0m\u001b[1m lon_rad  \u001b[0m\n",
       "     │\u001b[90m Float64  \u001b[0m\u001b[90m Float64   \u001b[0m\u001b[90m Float64 \u001b[0m\u001b[90m Float64  \u001b[0m\n",
       "─────┼────────────────────────────────────────\n",
       "   1 │     57.6       21.7  1.00531  0.378736\n",
       "   2 │     57.6       22.2  1.00531  0.387463\n",
       "   3 │     57.6       22.7  1.00531  0.39619\n",
       "   4 │     57.6       23.2  1.00531  0.404916\n",
       "   5 │     57.6       23.7  1.00531  0.413643\n",
       "   6 │     57.6       24.2  1.00531  0.42237\n",
       "   7 │     57.6       24.7  1.00531  0.431096\n",
       "   8 │     57.6       25.2  1.00531  0.439823\n",
       "  ⋮  │    ⋮          ⋮         ⋮        ⋮\n",
       " 106 │     59.7       25.2  1.04196  0.439823\n",
       " 107 │     59.7       25.7  1.04196  0.44855\n",
       " 108 │     59.7       26.2  1.04196  0.457276\n",
       " 109 │     59.7       26.7  1.04196  0.466003\n",
       " 110 │     59.7       27.2  1.04196  0.47473\n",
       " 111 │     59.7       27.7  1.04196  0.483456\n",
       " 112 │     59.7       28.2  1.04196  0.492183\n",
       "\u001b[36m                               97 rows omitted\u001b[0m"
      ]
     },
     "metadata": {},
     "output_type": "display_data"
    }
   ],
   "source": [
    "hits_w_un = transform(\n",
    "    hits_w_un,\n",
    "    :latitude => ByRow(deg2rad) => :lat_rad,\n",
    "    :longitude => ByRow(deg2rad) => :lon_rad\n",
    ")"
   ]
  },
  {
   "cell_type": "code",
   "execution_count": 54,
   "metadata": {},
   "outputs": [
    {
     "data": {
      "text/html": [
       "<div><div style = \"float: left;\"><span>DataFrameRow (3 columns)</span></div><div style = \"clear: both;\"></div></div><div class = \"data-frame\" style = \"overflow-x: scroll;\"><table class = \"data-frame\" style = \"margin-bottom: 6px;\"><thead><tr class = \"header\"><th class = \"rowLabel\" style = \"font-weight: bold; text-align: right;\">Row</th><th style = \"text-align: left;\">latitude</th><th style = \"text-align: left;\">longitude</th><th style = \"text-align: left;\">county</th></tr><tr class = \"subheader headerLastRow\"><th class = \"rowLabel\" style = \"font-weight: bold; text-align: right;\"></th><th title = \"Float64\" style = \"text-align: left;\">Float64</th><th title = \"Float64\" style = \"text-align: left;\">Float64</th><th title = \"Int64\" style = \"text-align: left;\">Int64</th></tr></thead><tbody><tr><td class = \"rowLabel\" style = \"font-weight: bold; text-align: right;\">1</td><td style = \"text-align: right;\">1.01578</td><td style = \"text-align: right;\">0.387463</td><td style = \"text-align: right;\">10</td></tr></tbody></table></div>"
      ],
      "text/latex": [
       "\\begin{tabular}{r|ccc}\n",
       "\t& latitude & longitude & county\\\\\n",
       "\t\\hline\n",
       "\t& Float64 & Float64 & Int64\\\\\n",
       "\t\\hline\n",
       "\t1 & 1.01578 & 0.387463 & 10 \\\\\n",
       "\\end{tabular}\n"
      ],
      "text/plain": [
       "\u001b[1mDataFrameRow\u001b[0m\n",
       "\u001b[1m Row \u001b[0m│\u001b[1m latitude \u001b[0m\u001b[1m longitude \u001b[0m\u001b[1m county \u001b[0m\n",
       "     │\u001b[90m Float64  \u001b[0m\u001b[90m Float64   \u001b[0m\u001b[90m Int64  \u001b[0m\n",
       "─────┼─────────────────────────────\n",
       "   1 │  1.01578   0.387463      10"
      ]
     },
     "metadata": {},
     "output_type": "display_data"
    }
   ],
   "source": [
    "rw = stations[1, :]"
   ]
  },
  {
   "cell_type": "code",
   "execution_count": 56,
   "metadata": {},
   "outputs": [
    {
     "data": {
      "text/html": [
       "<div><div style = \"float: left;\"><span>DataFrameRow (2 columns)</span></div><div style = \"clear: both;\"></div></div><div class = \"data-frame\" style = \"overflow-x: scroll;\"><table class = \"data-frame\" style = \"margin-bottom: 6px;\"><thead><tr class = \"header\"><th class = \"rowLabel\" style = \"font-weight: bold; text-align: right;\">Row</th><th style = \"text-align: left;\">latitude</th><th style = \"text-align: left;\">longitude</th></tr><tr class = \"subheader headerLastRow\"><th class = \"rowLabel\" style = \"font-weight: bold; text-align: right;\"></th><th title = \"Float64\" style = \"text-align: left;\">Float64</th><th title = \"Float64\" style = \"text-align: left;\">Float64</th></tr></thead><tbody><tr><td class = \"rowLabel\" style = \"font-weight: bold; text-align: right;\">1</td><td style = \"text-align: right;\">1.01578</td><td style = \"text-align: right;\">0.387463</td></tr></tbody></table></div>"
      ],
      "text/latex": [
       "\\begin{tabular}{r|cc}\n",
       "\t& latitude & longitude\\\\\n",
       "\t\\hline\n",
       "\t& Float64 & Float64\\\\\n",
       "\t\\hline\n",
       "\t1 & 1.01578 & 0.387463 \\\\\n",
       "\\end{tabular}\n"
      ],
      "text/plain": [
       "\u001b[1mDataFrameRow\u001b[0m\n",
       "\u001b[1m Row \u001b[0m│\u001b[1m latitude \u001b[0m\u001b[1m longitude \u001b[0m\n",
       "     │\u001b[90m Float64  \u001b[0m\u001b[90m Float64   \u001b[0m\n",
       "─────┼─────────────────────\n",
       "   1 │  1.01578   0.387463"
      ]
     },
     "metadata": {},
     "output_type": "display_data"
    }
   ],
   "source": [
    "rw[[:latitude, :longitude]]"
   ]
  },
  {
   "cell_type": "code",
   "execution_count": 57,
   "metadata": {},
   "outputs": [
    {
     "data": {
      "text/plain": [
       "2-element Vector{Int64}:\n",
       "  4\n",
       " 54"
      ]
     },
     "metadata": {},
     "output_type": "display_data"
    }
   ],
   "source": [
    "a = zeros(Int, 0)\n",
    "append!(a, 4)\n",
    "append!(a, 54)"
   ]
  },
  {
   "cell_type": "code",
   "execution_count": 73,
   "metadata": {},
   "outputs": [
    {
     "data": {
      "text/plain": [
       "112-element Vector{Int64}:\n",
       " 10\n",
       " 10\n",
       " 10\n",
       " 10\n",
       "  7\n",
       "  7\n",
       "  7\n",
       "  7\n",
       " 13\n",
       " 13\n",
       "  ⋮\n",
       "  0\n",
       "  0\n",
       "  0\n",
       "  0\n",
       "  5\n",
       "  5\n",
       "  2\n",
       "  2\n",
       "  2"
      ]
     },
     "metadata": {},
     "output_type": "display_data"
    }
   ],
   "source": [
    "counties = zeros(Int, 0)\n",
    "\n",
    "for coord in eachrow(hits_w_un[:, 3:4])\n",
    "    min_dist = Inf\n",
    "    cnty = -1\n",
    "\n",
    "    for station in eachrow(stations)\n",
    "        dist = haversine(coord, \n",
    "        [station.latitude, station.longitude])\n",
    "\n",
    "        if dist < min_dist\n",
    "            cnty = station[:county]\n",
    "            min_dist = dist\n",
    "        end\n",
    "    end\n",
    "\n",
    "    append!(counties, cnty)\n",
    "end\n",
    "counties\n"
   ]
  },
  {
   "cell_type": "code",
   "execution_count": 87,
   "metadata": {},
   "outputs": [
    {
     "data": {
      "text/html": [
       "<div><div style = \"float: left;\"><span>1710802×18 DataFrame</span></div><div style = \"float: right;\"><span style = \"font-style: italic;\">1710777 rows omitted</span></div><div style = \"clear: both;\"></div></div><div class = \"data-frame\" style = \"overflow-x: scroll;\"><table class = \"data-frame\" style = \"margin-bottom: 6px;\"><thead><tr class = \"header\"><th class = \"rowNumber\" style = \"font-weight: bold; text-align: right;\">Row</th><th style = \"text-align: left;\">datetime</th><th style = \"text-align: left;\">temperature</th><th style = \"text-align: left;\">dewpoint</th><th style = \"text-align: left;\">rain</th><th style = \"text-align: left;\">snowfall</th><th style = \"text-align: left;\">surface_pressure</th><th style = \"text-align: left;\">cloudcover_total</th><th style = \"text-align: left;\">cloudcover_low</th><th style = \"text-align: left;\">cloudcover_mid</th><th style = \"text-align: left;\">cloudcover_high</th><th style = \"text-align: left;\">windspeed_10m</th><th style = \"text-align: left;\">winddirection_10m</th><th style = \"text-align: left;\">shortwave_radiation</th><th style = \"text-align: left;\">direct_solar_radiation</th><th style = \"text-align: left;\">diffuse_radiation</th><th style = \"text-align: left;\">latitude</th><th style = \"text-align: left;\">longitude</th><th style = \"text-align: left;\">data_block_id</th></tr><tr class = \"subheader headerLastRow\"><th class = \"rowNumber\" style = \"font-weight: bold; text-align: right;\"></th><th title = \"String31\" style = \"text-align: left;\">String31</th><th title = \"Float64\" style = \"text-align: left;\">Float64</th><th title = \"Float64\" style = \"text-align: left;\">Float64</th><th title = \"Float64\" style = \"text-align: left;\">Float64</th><th title = \"Float64\" style = \"text-align: left;\">Float64</th><th title = \"Float64\" style = \"text-align: left;\">Float64</th><th title = \"Int64\" style = \"text-align: left;\">Int64</th><th title = \"Int64\" style = \"text-align: left;\">Int64</th><th title = \"Int64\" style = \"text-align: left;\">Int64</th><th title = \"Int64\" style = \"text-align: left;\">Int64</th><th title = \"Float64\" style = \"text-align: left;\">Float64</th><th title = \"Int64\" style = \"text-align: left;\">Int64</th><th title = \"Float64\" style = \"text-align: left;\">Float64</th><th title = \"Float64\" style = \"text-align: left;\">Float64</th><th title = \"Float64\" style = \"text-align: left;\">Float64</th><th title = \"Float64\" style = \"text-align: left;\">Float64</th><th title = \"Float64\" style = \"text-align: left;\">Float64</th><th title = \"Float64\" style = \"text-align: left;\">Float64</th></tr></thead><tbody><tr><td class = \"rowNumber\" style = \"font-weight: bold; text-align: right;\">1</td><td style = \"text-align: left;\">2021-09-01 00:00:00</td><td style = \"text-align: right;\">14.2</td><td style = \"text-align: right;\">11.6</td><td style = \"text-align: right;\">0.0</td><td style = \"text-align: right;\">0.0</td><td style = \"text-align: right;\">1015.9</td><td style = \"text-align: right;\">31</td><td style = \"text-align: right;\">31</td><td style = \"text-align: right;\">0</td><td style = \"text-align: right;\">11</td><td style = \"text-align: right;\">7.08333</td><td style = \"text-align: right;\">8</td><td style = \"text-align: right;\">0.0</td><td style = \"text-align: right;\">0.0</td><td style = \"text-align: right;\">0.0</td><td style = \"text-align: right;\">57.6</td><td style = \"text-align: right;\">21.7</td><td style = \"text-align: right;\">1.0</td></tr><tr><td class = \"rowNumber\" style = \"font-weight: bold; text-align: right;\">2</td><td style = \"text-align: left;\">2021-09-01 00:00:00</td><td style = \"text-align: right;\">13.9</td><td style = \"text-align: right;\">11.5</td><td style = \"text-align: right;\">0.0</td><td style = \"text-align: right;\">0.0</td><td style = \"text-align: right;\">1010.7</td><td style = \"text-align: right;\">33</td><td style = \"text-align: right;\">37</td><td style = \"text-align: right;\">0</td><td style = \"text-align: right;\">0</td><td style = \"text-align: right;\">5.11111</td><td style = \"text-align: right;\">359</td><td style = \"text-align: right;\">0.0</td><td style = \"text-align: right;\">0.0</td><td style = \"text-align: right;\">0.0</td><td style = \"text-align: right;\">57.6</td><td style = \"text-align: right;\">22.2</td><td style = \"text-align: right;\">1.0</td></tr><tr><td class = \"rowNumber\" style = \"font-weight: bold; text-align: right;\">3</td><td style = \"text-align: left;\">2021-09-01 00:00:00</td><td style = \"text-align: right;\">14.0</td><td style = \"text-align: right;\">12.5</td><td style = \"text-align: right;\">0.0</td><td style = \"text-align: right;\">0.0</td><td style = \"text-align: right;\">1015.0</td><td style = \"text-align: right;\">31</td><td style = \"text-align: right;\">34</td><td style = \"text-align: right;\">0</td><td style = \"text-align: right;\">0</td><td style = \"text-align: right;\">6.33333</td><td style = \"text-align: right;\">355</td><td style = \"text-align: right;\">0.0</td><td style = \"text-align: right;\">0.0</td><td style = \"text-align: right;\">0.0</td><td style = \"text-align: right;\">57.6</td><td style = \"text-align: right;\">22.7</td><td style = \"text-align: right;\">1.0</td></tr><tr><td class = \"rowNumber\" style = \"font-weight: bold; text-align: right;\">4</td><td style = \"text-align: left;\">2021-09-01 00:00:00</td><td style = \"text-align: right;\">14.6</td><td style = \"text-align: right;\">11.5</td><td style = \"text-align: right;\">0.0</td><td style = \"text-align: right;\">0.0</td><td style = \"text-align: right;\">1017.3</td><td style = \"text-align: right;\">0</td><td style = \"text-align: right;\">0</td><td style = \"text-align: right;\">0</td><td style = \"text-align: right;\">0</td><td style = \"text-align: right;\">8.08333</td><td style = \"text-align: right;\">297</td><td style = \"text-align: right;\">358.0</td><td style = \"text-align: right;\">277.0</td><td style = \"text-align: right;\">81.0</td><td style = \"text-align: right;\">57.6</td><td style = \"text-align: right;\">23.2</td><td style = \"text-align: right;\">1.0</td></tr><tr><td class = \"rowNumber\" style = \"font-weight: bold; text-align: right;\">5</td><td style = \"text-align: left;\">2021-09-01 00:00:00</td><td style = \"text-align: right;\">15.7</td><td style = \"text-align: right;\">12.9</td><td style = \"text-align: right;\">0.0</td><td style = \"text-align: right;\">0.0</td><td style = \"text-align: right;\">1014.0</td><td style = \"text-align: right;\">22</td><td style = \"text-align: right;\">25</td><td style = \"text-align: right;\">0</td><td style = \"text-align: right;\">0</td><td style = \"text-align: right;\">8.41667</td><td style = \"text-align: right;\">5</td><td style = \"text-align: right;\">0.0</td><td style = \"text-align: right;\">0.0</td><td style = \"text-align: right;\">0.0</td><td style = \"text-align: right;\">57.6</td><td style = \"text-align: right;\">23.7</td><td style = \"text-align: right;\">1.0</td></tr><tr><td class = \"rowNumber\" style = \"font-weight: bold; text-align: right;\">6</td><td style = \"text-align: left;\">2021-09-01 00:00:00</td><td style = \"text-align: right;\">16.0</td><td style = \"text-align: right;\">11.4</td><td style = \"text-align: right;\">0.0</td><td style = \"text-align: right;\">0.0</td><td style = \"text-align: right;\">1016.7</td><td style = \"text-align: right;\">15</td><td style = \"text-align: right;\">12</td><td style = \"text-align: right;\">7</td><td style = \"text-align: right;\">0</td><td style = \"text-align: right;\">6.38889</td><td style = \"text-align: right;\">297</td><td style = \"text-align: right;\">349.0</td><td style = \"text-align: right;\">274.0</td><td style = \"text-align: right;\">75.0</td><td style = \"text-align: right;\">57.6</td><td style = \"text-align: right;\">24.2</td><td style = \"text-align: right;\">1.0</td></tr><tr><td class = \"rowNumber\" style = \"font-weight: bold; text-align: right;\">7</td><td style = \"text-align: left;\">2021-09-01 00:00:00</td><td style = \"text-align: right;\">12.2</td><td style = \"text-align: right;\">10.5</td><td style = \"text-align: right;\">0.0</td><td style = \"text-align: right;\">0.0</td><td style = \"text-align: right;\">1005.3</td><td style = \"text-align: right;\">19</td><td style = \"text-align: right;\">7</td><td style = \"text-align: right;\">0</td><td style = \"text-align: right;\">41</td><td style = \"text-align: right;\">4.11111</td><td style = \"text-align: right;\">359</td><td style = \"text-align: right;\">0.0</td><td style = \"text-align: right;\">0.0</td><td style = \"text-align: right;\">0.0</td><td style = \"text-align: right;\">57.6</td><td style = \"text-align: right;\">24.7</td><td style = \"text-align: right;\">1.0</td></tr><tr><td class = \"rowNumber\" style = \"font-weight: bold; text-align: right;\">8</td><td style = \"text-align: left;\">2021-09-01 00:00:00</td><td style = \"text-align: right;\">12.2</td><td style = \"text-align: right;\">10.5</td><td style = \"text-align: right;\">0.0</td><td style = \"text-align: right;\">0.0</td><td style = \"text-align: right;\">1006.1</td><td style = \"text-align: right;\">28</td><td style = \"text-align: right;\">8</td><td style = \"text-align: right;\">0</td><td style = \"text-align: right;\">68</td><td style = \"text-align: right;\">4.11111</td><td style = \"text-align: right;\">354</td><td style = \"text-align: right;\">0.0</td><td style = \"text-align: right;\">0.0</td><td style = \"text-align: right;\">0.0</td><td style = \"text-align: right;\">57.6</td><td style = \"text-align: right;\">25.2</td><td style = \"text-align: right;\">1.0</td></tr><tr><td class = \"rowNumber\" style = \"font-weight: bold; text-align: right;\">9</td><td style = \"text-align: left;\">2021-09-01 00:00:00</td><td style = \"text-align: right;\">12.4</td><td style = \"text-align: right;\">10.6</td><td style = \"text-align: right;\">0.0</td><td style = \"text-align: right;\">0.0</td><td style = \"text-align: right;\">1003.8</td><td style = \"text-align: right;\">49</td><td style = \"text-align: right;\">26</td><td style = \"text-align: right;\">0</td><td style = \"text-align: right;\">85</td><td style = \"text-align: right;\">4.25</td><td style = \"text-align: right;\">352</td><td style = \"text-align: right;\">0.0</td><td style = \"text-align: right;\">0.0</td><td style = \"text-align: right;\">0.0</td><td style = \"text-align: right;\">57.6</td><td style = \"text-align: right;\">25.7</td><td style = \"text-align: right;\">1.0</td></tr><tr><td class = \"rowNumber\" style = \"font-weight: bold; text-align: right;\">10</td><td style = \"text-align: left;\">2021-09-01 00:00:00</td><td style = \"text-align: right;\">12.9</td><td style = \"text-align: right;\">11.0</td><td style = \"text-align: right;\">0.0</td><td style = \"text-align: right;\">0.0</td><td style = \"text-align: right;\">1003.7</td><td style = \"text-align: right;\">81</td><td style = \"text-align: right;\">56</td><td style = \"text-align: right;\">3</td><td style = \"text-align: right;\">96</td><td style = \"text-align: right;\">4.25</td><td style = \"text-align: right;\">351</td><td style = \"text-align: right;\">0.0</td><td style = \"text-align: right;\">0.0</td><td style = \"text-align: right;\">0.0</td><td style = \"text-align: right;\">57.6</td><td style = \"text-align: right;\">26.2</td><td style = \"text-align: right;\">1.0</td></tr><tr><td class = \"rowNumber\" style = \"font-weight: bold; text-align: right;\">11</td><td style = \"text-align: left;\">2021-09-01 00:00:00</td><td style = \"text-align: right;\">13.0</td><td style = \"text-align: right;\">11.5</td><td style = \"text-align: right;\">0.0</td><td style = \"text-align: right;\">0.0</td><td style = \"text-align: right;\">998.5</td><td style = \"text-align: right;\">100</td><td style = \"text-align: right;\">85</td><td style = \"text-align: right;\">17</td><td style = \"text-align: right;\">98</td><td style = \"text-align: right;\">4.02778</td><td style = \"text-align: right;\">354</td><td style = \"text-align: right;\">0.0</td><td style = \"text-align: right;\">0.0</td><td style = \"text-align: right;\">0.0</td><td style = \"text-align: right;\">57.6</td><td style = \"text-align: right;\">26.7</td><td style = \"text-align: right;\">1.0</td></tr><tr><td class = \"rowNumber\" style = \"font-weight: bold; text-align: right;\">12</td><td style = \"text-align: left;\">2021-09-01 00:00:00</td><td style = \"text-align: right;\">13.0</td><td style = \"text-align: right;\">12.1</td><td style = \"text-align: right;\">0.1</td><td style = \"text-align: right;\">0.0</td><td style = \"text-align: right;\">988.9</td><td style = \"text-align: right;\">100</td><td style = \"text-align: right;\">100</td><td style = \"text-align: right;\">39</td><td style = \"text-align: right;\">99</td><td style = \"text-align: right;\">3.80556</td><td style = \"text-align: right;\">360</td><td style = \"text-align: right;\">0.0</td><td style = \"text-align: right;\">0.0</td><td style = \"text-align: right;\">0.0</td><td style = \"text-align: right;\">57.6</td><td style = \"text-align: right;\">27.2</td><td style = \"text-align: right;\">1.0</td></tr><tr><td class = \"rowNumber\" style = \"font-weight: bold; text-align: right;\">13</td><td style = \"text-align: left;\">2021-09-01 00:00:00</td><td style = \"text-align: right;\">13.1</td><td style = \"text-align: right;\">12.4</td><td style = \"text-align: right;\">0.6</td><td style = \"text-align: right;\">0.0</td><td style = \"text-align: right;\">996.0</td><td style = \"text-align: right;\">100</td><td style = \"text-align: right;\">100</td><td style = \"text-align: right;\">75</td><td style = \"text-align: right;\">100</td><td style = \"text-align: right;\">3.61111</td><td style = \"text-align: right;\">2</td><td style = \"text-align: right;\">0.0</td><td style = \"text-align: right;\">0.0</td><td style = \"text-align: right;\">0.0</td><td style = \"text-align: right;\">57.6</td><td style = \"text-align: right;\">27.7</td><td style = \"text-align: right;\">1.0</td></tr><tr><td style = \"text-align: right;\">&vellip;</td><td style = \"text-align: right;\">&vellip;</td><td style = \"text-align: right;\">&vellip;</td><td style = \"text-align: right;\">&vellip;</td><td style = \"text-align: right;\">&vellip;</td><td style = \"text-align: right;\">&vellip;</td><td style = \"text-align: right;\">&vellip;</td><td style = \"text-align: right;\">&vellip;</td><td style = \"text-align: right;\">&vellip;</td><td style = \"text-align: right;\">&vellip;</td><td style = \"text-align: right;\">&vellip;</td><td style = \"text-align: right;\">&vellip;</td><td style = \"text-align: right;\">&vellip;</td><td style = \"text-align: right;\">&vellip;</td><td style = \"text-align: right;\">&vellip;</td><td style = \"text-align: right;\">&vellip;</td><td style = \"text-align: right;\">&vellip;</td><td style = \"text-align: right;\">&vellip;</td><td style = \"text-align: right;\">&vellip;</td></tr><tr><td class = \"rowNumber\" style = \"font-weight: bold; text-align: right;\">1710791</td><td style = \"text-align: left;\">2023-05-30 10:00:00</td><td style = \"text-align: right;\">11.8</td><td style = \"text-align: right;\">3.7</td><td style = \"text-align: right;\">0.0</td><td style = \"text-align: right;\">0.0</td><td style = \"text-align: right;\">1019.8</td><td style = \"text-align: right;\">33</td><td style = \"text-align: right;\">31</td><td style = \"text-align: right;\">8</td><td style = \"text-align: right;\">0</td><td style = \"text-align: right;\">6.08333</td><td style = \"text-align: right;\">327</td><td style = \"text-align: right;\">542.0</td><td style = \"text-align: right;\">375.0</td><td style = \"text-align: right;\">167.0</td><td style = \"text-align: right;\">59.7</td><td style = \"text-align: right;\">22.7</td><td style = \"text-align: right;\">637.0</td></tr><tr><td class = \"rowNumber\" style = \"font-weight: bold; text-align: right;\">1710792</td><td style = \"text-align: left;\">2023-05-30 10:00:00</td><td style = \"text-align: right;\">11.8</td><td style = \"text-align: right;\">3.7</td><td style = \"text-align: right;\">0.0</td><td style = \"text-align: right;\">0.0</td><td style = \"text-align: right;\">1019.8</td><td style = \"text-align: right;\">33</td><td style = \"text-align: right;\">31</td><td style = \"text-align: right;\">8</td><td style = \"text-align: right;\">0</td><td style = \"text-align: right;\">6.08333</td><td style = \"text-align: right;\">327</td><td style = \"text-align: right;\">542.0</td><td style = \"text-align: right;\">375.0</td><td style = \"text-align: right;\">167.0</td><td style = \"text-align: right;\">59.7</td><td style = \"text-align: right;\">23.2</td><td style = \"text-align: right;\">637.0</td></tr><tr><td class = \"rowNumber\" style = \"font-weight: bold; text-align: right;\">1710793</td><td style = \"text-align: left;\">2023-05-30 10:00:00</td><td style = \"text-align: right;\">12.1</td><td style = \"text-align: right;\">3.8</td><td style = \"text-align: right;\">0.0</td><td style = \"text-align: right;\">0.0</td><td style = \"text-align: right;\">1019.3</td><td style = \"text-align: right;\">37</td><td style = \"text-align: right;\">28</td><td style = \"text-align: right;\">19</td><td style = \"text-align: right;\">0</td><td style = \"text-align: right;\">4.30556</td><td style = \"text-align: right;\">332</td><td style = \"text-align: right;\">549.0</td><td style = \"text-align: right;\">408.0</td><td style = \"text-align: right;\">141.0</td><td style = \"text-align: right;\">59.7</td><td style = \"text-align: right;\">23.7</td><td style = \"text-align: right;\">637.0</td></tr><tr><td class = \"rowNumber\" style = \"font-weight: bold; text-align: right;\">1710794</td><td style = \"text-align: left;\">2023-05-30 10:00:00</td><td style = \"text-align: right;\">10.1</td><td style = \"text-align: right;\">6.6</td><td style = \"text-align: right;\">0.0</td><td style = \"text-align: right;\">0.0</td><td style = \"text-align: right;\">1019.3</td><td style = \"text-align: right;\">20</td><td style = \"text-align: right;\">15</td><td style = \"text-align: right;\">10</td><td style = \"text-align: right;\">0</td><td style = \"text-align: right;\">4.52778</td><td style = \"text-align: right;\">313</td><td style = \"text-align: right;\">571.0</td><td style = \"text-align: right;\">435.0</td><td style = \"text-align: right;\">136.0</td><td style = \"text-align: right;\">59.7</td><td style = \"text-align: right;\">24.2</td><td style = \"text-align: right;\">637.0</td></tr><tr><td class = \"rowNumber\" style = \"font-weight: bold; text-align: right;\">1710795</td><td style = \"text-align: left;\">2023-05-30 10:00:00</td><td style = \"text-align: right;\">11.5</td><td style = \"text-align: right;\">6.0</td><td style = \"text-align: right;\">0.1</td><td style = \"text-align: right;\">0.0</td><td style = \"text-align: right;\">1019.0</td><td style = \"text-align: right;\">29</td><td style = \"text-align: right;\">24</td><td style = \"text-align: right;\">13</td><td style = \"text-align: right;\">0</td><td style = \"text-align: right;\">3.61111</td><td style = \"text-align: right;\">304</td><td style = \"text-align: right;\">568.0</td><td style = \"text-align: right;\">425.0</td><td style = \"text-align: right;\">143.0</td><td style = \"text-align: right;\">59.7</td><td style = \"text-align: right;\">24.7</td><td style = \"text-align: right;\">637.0</td></tr><tr><td class = \"rowNumber\" style = \"font-weight: bold; text-align: right;\">1710796</td><td style = \"text-align: left;\">2023-05-30 10:00:00</td><td style = \"text-align: right;\">11.3</td><td style = \"text-align: right;\">6.5</td><td style = \"text-align: right;\">0.0</td><td style = \"text-align: right;\">0.0</td><td style = \"text-align: right;\">1018.9</td><td style = \"text-align: right;\">32</td><td style = \"text-align: right;\">25</td><td style = \"text-align: right;\">16</td><td style = \"text-align: right;\">0</td><td style = \"text-align: right;\">3.13889</td><td style = \"text-align: right;\">297</td><td style = \"text-align: right;\">558.0</td><td style = \"text-align: right;\">404.0</td><td style = \"text-align: right;\">154.0</td><td style = \"text-align: right;\">59.7</td><td style = \"text-align: right;\">25.2</td><td style = \"text-align: right;\">637.0</td></tr><tr><td class = \"rowNumber\" style = \"font-weight: bold; text-align: right;\">1710797</td><td style = \"text-align: left;\">2023-05-30 10:00:00</td><td style = \"text-align: right;\">12.0</td><td style = \"text-align: right;\">5.5</td><td style = \"text-align: right;\">0.0</td><td style = \"text-align: right;\">0.0</td><td style = \"text-align: right;\">1018.8</td><td style = \"text-align: right;\">28</td><td style = \"text-align: right;\">20</td><td style = \"text-align: right;\">17</td><td style = \"text-align: right;\">0</td><td style = \"text-align: right;\">2.44444</td><td style = \"text-align: right;\">282</td><td style = \"text-align: right;\">550.0</td><td style = \"text-align: right;\">388.0</td><td style = \"text-align: right;\">162.0</td><td style = \"text-align: right;\">59.7</td><td style = \"text-align: right;\">25.7</td><td style = \"text-align: right;\">637.0</td></tr><tr><td class = \"rowNumber\" style = \"font-weight: bold; text-align: right;\">1710798</td><td style = \"text-align: left;\">2023-05-30 10:00:00</td><td style = \"text-align: right;\">11.7</td><td style = \"text-align: right;\">4.6</td><td style = \"text-align: right;\">0.0</td><td style = \"text-align: right;\">0.0</td><td style = \"text-align: right;\">1018.9</td><td style = \"text-align: right;\">40</td><td style = \"text-align: right;\">9</td><td style = \"text-align: right;\">54</td><td style = \"text-align: right;\">0</td><td style = \"text-align: right;\">1.05556</td><td style = \"text-align: right;\">253</td><td style = \"text-align: right;\">567.0</td><td style = \"text-align: right;\">392.0</td><td style = \"text-align: right;\">175.0</td><td style = \"text-align: right;\">59.7</td><td style = \"text-align: right;\">26.2</td><td style = \"text-align: right;\">637.0</td></tr><tr><td class = \"rowNumber\" style = \"font-weight: bold; text-align: right;\">1710799</td><td style = \"text-align: left;\">2023-05-30 10:00:00</td><td style = \"text-align: right;\">12.3</td><td style = \"text-align: right;\">3.5</td><td style = \"text-align: right;\">0.0</td><td style = \"text-align: right;\">0.0</td><td style = \"text-align: right;\">1019.0</td><td style = \"text-align: right;\">46</td><td style = \"text-align: right;\">4</td><td style = \"text-align: right;\">70</td><td style = \"text-align: right;\">0</td><td style = \"text-align: right;\">0.805556</td><td style = \"text-align: right;\">263</td><td style = \"text-align: right;\">581.0</td><td style = \"text-align: right;\">407.0</td><td style = \"text-align: right;\">174.0</td><td style = \"text-align: right;\">59.7</td><td style = \"text-align: right;\">26.7</td><td style = \"text-align: right;\">637.0</td></tr><tr><td class = \"rowNumber\" style = \"font-weight: bold; text-align: right;\">1710800</td><td style = \"text-align: left;\">2023-05-30 10:00:00</td><td style = \"text-align: right;\">9.8</td><td style = \"text-align: right;\">3.0</td><td style = \"text-align: right;\">0.0</td><td style = \"text-align: right;\">0.0</td><td style = \"text-align: right;\">1019.2</td><td style = \"text-align: right;\">41</td><td style = \"text-align: right;\">4</td><td style = \"text-align: right;\">62</td><td style = \"text-align: right;\">0</td><td style = \"text-align: right;\">1.97222</td><td style = \"text-align: right;\">285</td><td style = \"text-align: right;\">609.0</td><td style = \"text-align: right;\">432.0</td><td style = \"text-align: right;\">177.0</td><td style = \"text-align: right;\">59.7</td><td style = \"text-align: right;\">27.2</td><td style = \"text-align: right;\">637.0</td></tr><tr><td class = \"rowNumber\" style = \"font-weight: bold; text-align: right;\">1710801</td><td style = \"text-align: left;\">2023-05-30 10:00:00</td><td style = \"text-align: right;\">11.7</td><td style = \"text-align: right;\">1.6</td><td style = \"text-align: right;\">0.0</td><td style = \"text-align: right;\">0.0</td><td style = \"text-align: right;\">1019.0</td><td style = \"text-align: right;\">44</td><td style = \"text-align: right;\">0</td><td style = \"text-align: right;\">73</td><td style = \"text-align: right;\">0</td><td style = \"text-align: right;\">3.5</td><td style = \"text-align: right;\">307</td><td style = \"text-align: right;\">658.0</td><td style = \"text-align: right;\">521.0</td><td style = \"text-align: right;\">137.0</td><td style = \"text-align: right;\">59.7</td><td style = \"text-align: right;\">27.7</td><td style = \"text-align: right;\">637.0</td></tr><tr><td class = \"rowNumber\" style = \"font-weight: bold; text-align: right;\">1710802</td><td style = \"text-align: left;\">2023-05-30 10:00:00</td><td style = \"text-align: right;\">12.0</td><td style = \"text-align: right;\">1.4</td><td style = \"text-align: right;\">0.0</td><td style = \"text-align: right;\">0.0</td><td style = \"text-align: right;\">1016.1</td><td style = \"text-align: right;\">38</td><td style = \"text-align: right;\">0</td><td style = \"text-align: right;\">63</td><td style = \"text-align: right;\">0</td><td style = \"text-align: right;\">3.25</td><td style = \"text-align: right;\">304</td><td style = \"text-align: right;\">672.0</td><td style = \"text-align: right;\">550.0</td><td style = \"text-align: right;\">122.0</td><td style = \"text-align: right;\">59.7</td><td style = \"text-align: right;\">28.2</td><td style = \"text-align: right;\">637.0</td></tr></tbody></table></div>"
      ],
      "text/latex": [
       "\\begin{tabular}{r|ccccccc}\n",
       "\t& datetime & temperature & dewpoint & rain & snowfall & surface\\_pressure & \\\\\n",
       "\t\\hline\n",
       "\t& String31 & Float64 & Float64 & Float64 & Float64 & Float64 & \\\\\n",
       "\t\\hline\n",
       "\t1 & 2021-09-01 00:00:00 & 14.2 & 11.6 & 0.0 & 0.0 & 1015.9 & $\\dots$ \\\\\n",
       "\t2 & 2021-09-01 00:00:00 & 13.9 & 11.5 & 0.0 & 0.0 & 1010.7 & $\\dots$ \\\\\n",
       "\t3 & 2021-09-01 00:00:00 & 14.0 & 12.5 & 0.0 & 0.0 & 1015.0 & $\\dots$ \\\\\n",
       "\t4 & 2021-09-01 00:00:00 & 14.6 & 11.5 & 0.0 & 0.0 & 1017.3 & $\\dots$ \\\\\n",
       "\t5 & 2021-09-01 00:00:00 & 15.7 & 12.9 & 0.0 & 0.0 & 1014.0 & $\\dots$ \\\\\n",
       "\t6 & 2021-09-01 00:00:00 & 16.0 & 11.4 & 0.0 & 0.0 & 1016.7 & $\\dots$ \\\\\n",
       "\t7 & 2021-09-01 00:00:00 & 12.2 & 10.5 & 0.0 & 0.0 & 1005.3 & $\\dots$ \\\\\n",
       "\t8 & 2021-09-01 00:00:00 & 12.2 & 10.5 & 0.0 & 0.0 & 1006.1 & $\\dots$ \\\\\n",
       "\t9 & 2021-09-01 00:00:00 & 12.4 & 10.6 & 0.0 & 0.0 & 1003.8 & $\\dots$ \\\\\n",
       "\t10 & 2021-09-01 00:00:00 & 12.9 & 11.0 & 0.0 & 0.0 & 1003.7 & $\\dots$ \\\\\n",
       "\t11 & 2021-09-01 00:00:00 & 13.0 & 11.5 & 0.0 & 0.0 & 998.5 & $\\dots$ \\\\\n",
       "\t12 & 2021-09-01 00:00:00 & 13.0 & 12.1 & 0.1 & 0.0 & 988.9 & $\\dots$ \\\\\n",
       "\t13 & 2021-09-01 00:00:00 & 13.1 & 12.4 & 0.6 & 0.0 & 996.0 & $\\dots$ \\\\\n",
       "\t14 & 2021-09-01 00:00:00 & 12.9 & 12.1 & 0.8 & 0.0 & 1004.5 & $\\dots$ \\\\\n",
       "\t15 & 2021-09-01 00:00:00 & 13.3 & 10.7 & 0.0 & 0.0 & 1016.2 & $\\dots$ \\\\\n",
       "\t16 & 2021-09-01 00:00:00 & 14.4 & 11.3 & 0.0 & 0.0 & 1016.2 & $\\dots$ \\\\\n",
       "\t17 & 2021-09-01 00:00:00 & 13.5 & 11.2 & 0.0 & 0.0 & 1015.3 & $\\dots$ \\\\\n",
       "\t18 & 2021-09-01 00:00:00 & 15.5 & 12.7 & 0.0 & 0.0 & 1014.6 & $\\dots$ \\\\\n",
       "\t19 & 2021-09-01 00:00:00 & 15.4 & 13.2 & 0.0 & 0.0 & 1014.2 & $\\dots$ \\\\\n",
       "\t20 & 2021-09-01 00:00:00 & 10.7 & 10.1 & 0.0 & 0.0 & 1013.8 & $\\dots$ \\\\\n",
       "\t21 & 2021-09-01 00:00:00 & 11.7 & 10.1 & 0.0 & 0.0 & 1006.7 & $\\dots$ \\\\\n",
       "\t22 & 2021-09-01 00:00:00 & 11.8 & 10.2 & 0.0 & 0.0 & 1008.2 & $\\dots$ \\\\\n",
       "\t23 & 2021-09-01 00:00:00 & 12.0 & 10.4 & 0.0 & 0.0 & 1002.5 & $\\dots$ \\\\\n",
       "\t24 & 2021-09-01 00:00:00 & 12.8 & 10.9 & 0.0 & 0.0 & 1005.8 & $\\dots$ \\\\\n",
       "\t$\\dots$ & $\\dots$ & $\\dots$ & $\\dots$ & $\\dots$ & $\\dots$ & $\\dots$ &  \\\\\n",
       "\\end{tabular}\n"
      ],
      "text/plain": [
       "\u001b[1m1710802×18 DataFrame\u001b[0m\n",
       "\u001b[1m     Row \u001b[0m│\u001b[1m datetime            \u001b[0m\u001b[1m temperature \u001b[0m\u001b[1m dewpoint \u001b[0m\u001b[1m rain    \u001b[0m\u001b[1m snowfall \u001b[0m\u001b[1m surf\u001b[0m ⋯\n",
       "         │\u001b[90m String31            \u001b[0m\u001b[90m Float64     \u001b[0m\u001b[90m Float64  \u001b[0m\u001b[90m Float64 \u001b[0m\u001b[90m Float64  \u001b[0m\u001b[90m Floa\u001b[0m ⋯\n",
       "─────────┼──────────────────────────────────────────────────────────────────────\n",
       "       1 │ 2021-09-01 00:00:00         14.2      11.6      0.0       0.0       ⋯\n",
       "       2 │ 2021-09-01 00:00:00         13.9      11.5      0.0       0.0\n",
       "       3 │ 2021-09-01 00:00:00         14.0      12.5      0.0       0.0\n",
       "       4 │ 2021-09-01 00:00:00         14.6      11.5      0.0       0.0\n",
       "       5 │ 2021-09-01 00:00:00         15.7      12.9      0.0       0.0       ⋯\n",
       "       6 │ 2021-09-01 00:00:00         16.0      11.4      0.0       0.0\n",
       "       7 │ 2021-09-01 00:00:00         12.2      10.5      0.0       0.0\n",
       "       8 │ 2021-09-01 00:00:00         12.2      10.5      0.0       0.0\n",
       "    ⋮    │          ⋮                ⋮          ⋮         ⋮        ⋮           ⋱\n",
       " 1710796 │ 2023-05-30 10:00:00         11.3       6.5      0.0       0.0       ⋯\n",
       " 1710797 │ 2023-05-30 10:00:00         12.0       5.5      0.0       0.0\n",
       " 1710798 │ 2023-05-30 10:00:00         11.7       4.6      0.0       0.0\n",
       " 1710799 │ 2023-05-30 10:00:00         12.3       3.5      0.0       0.0\n",
       " 1710800 │ 2023-05-30 10:00:00          9.8       3.0      0.0       0.0       ⋯\n",
       " 1710801 │ 2023-05-30 10:00:00         11.7       1.6      0.0       0.0\n",
       " 1710802 │ 2023-05-30 10:00:00         12.0       1.4      0.0       0.0\n",
       "\u001b[36m                                             13 columns and 1710787 rows omitted\u001b[0m"
      ]
     },
     "metadata": {},
     "output_type": "display_data"
    }
   ],
   "source": [
    "hits_w_un[!, :county] = counties\n",
    "hits_w_un\n",
    "hw_cp = select(dfs[\"historical_weather\"], All())"
   ]
  },
  {
   "cell_type": "code",
   "execution_count": 89,
   "metadata": {},
   "outputs": [
    {
     "data": {
      "text/html": [
       "<div><div style = \"float: left;\"><span>1710802×21 DataFrame</span></div><div style = \"float: right;\"><span style = \"font-style: italic;\">1710777 rows omitted</span></div><div style = \"clear: both;\"></div></div><div class = \"data-frame\" style = \"overflow-x: scroll;\"><table class = \"data-frame\" style = \"margin-bottom: 6px;\"><thead><tr class = \"header\"><th class = \"rowNumber\" style = \"font-weight: bold; text-align: right;\">Row</th><th style = \"text-align: left;\">datetime</th><th style = \"text-align: left;\">temperature</th><th style = \"text-align: left;\">dewpoint</th><th style = \"text-align: left;\">rain</th><th style = \"text-align: left;\">snowfall</th><th style = \"text-align: left;\">surface_pressure</th><th style = \"text-align: left;\">cloudcover_total</th><th style = \"text-align: left;\">cloudcover_low</th><th style = \"text-align: left;\">cloudcover_mid</th><th style = \"text-align: left;\">cloudcover_high</th><th style = \"text-align: left;\">windspeed_10m</th><th style = \"text-align: left;\">winddirection_10m</th><th style = \"text-align: left;\">shortwave_radiation</th><th style = \"text-align: left;\">direct_solar_radiation</th><th style = \"text-align: left;\">diffuse_radiation</th><th style = \"text-align: left;\">latitude</th><th style = \"text-align: left;\">longitude</th><th style = \"text-align: left;\">data_block_id</th><th style = \"text-align: left;\">lat_rad</th><th style = \"text-align: left;\">lon_rad</th><th style = \"text-align: left;\">county</th></tr><tr class = \"subheader headerLastRow\"><th class = \"rowNumber\" style = \"font-weight: bold; text-align: right;\"></th><th title = \"String31\" style = \"text-align: left;\">String31</th><th title = \"Float64\" style = \"text-align: left;\">Float64</th><th title = \"Float64\" style = \"text-align: left;\">Float64</th><th title = \"Float64\" style = \"text-align: left;\">Float64</th><th title = \"Float64\" style = \"text-align: left;\">Float64</th><th title = \"Float64\" style = \"text-align: left;\">Float64</th><th title = \"Int64\" style = \"text-align: left;\">Int64</th><th title = \"Int64\" style = \"text-align: left;\">Int64</th><th title = \"Int64\" style = \"text-align: left;\">Int64</th><th title = \"Int64\" style = \"text-align: left;\">Int64</th><th title = \"Float64\" style = \"text-align: left;\">Float64</th><th title = \"Int64\" style = \"text-align: left;\">Int64</th><th title = \"Float64\" style = \"text-align: left;\">Float64</th><th title = \"Float64\" style = \"text-align: left;\">Float64</th><th title = \"Float64\" style = \"text-align: left;\">Float64</th><th title = \"Float64\" style = \"text-align: left;\">Float64</th><th title = \"Float64\" style = \"text-align: left;\">Float64</th><th title = \"Float64\" style = \"text-align: left;\">Float64</th><th title = \"Union{Missing, Float64}\" style = \"text-align: left;\">Float64?</th><th title = \"Union{Missing, Float64}\" style = \"text-align: left;\">Float64?</th><th title = \"Union{Missing, Int64}\" style = \"text-align: left;\">Int64?</th></tr></thead><tbody><tr><td class = \"rowNumber\" style = \"font-weight: bold; text-align: right;\">1</td><td style = \"text-align: left;\">2021-09-01 00:00:00</td><td style = \"text-align: right;\">14.2</td><td style = \"text-align: right;\">11.6</td><td style = \"text-align: right;\">0.0</td><td style = \"text-align: right;\">0.0</td><td style = \"text-align: right;\">1015.9</td><td style = \"text-align: right;\">31</td><td style = \"text-align: right;\">31</td><td style = \"text-align: right;\">0</td><td style = \"text-align: right;\">11</td><td style = \"text-align: right;\">7.08333</td><td style = \"text-align: right;\">8</td><td style = \"text-align: right;\">0.0</td><td style = \"text-align: right;\">0.0</td><td style = \"text-align: right;\">0.0</td><td style = \"text-align: right;\">57.6</td><td style = \"text-align: right;\">21.7</td><td style = \"text-align: right;\">1.0</td><td style = \"text-align: right;\">1.00531</td><td style = \"text-align: right;\">0.378736</td><td style = \"text-align: right;\">10</td></tr><tr><td class = \"rowNumber\" style = \"font-weight: bold; text-align: right;\">2</td><td style = \"text-align: left;\">2021-09-01 00:00:00</td><td style = \"text-align: right;\">13.9</td><td style = \"text-align: right;\">11.5</td><td style = \"text-align: right;\">0.0</td><td style = \"text-align: right;\">0.0</td><td style = \"text-align: right;\">1010.7</td><td style = \"text-align: right;\">33</td><td style = \"text-align: right;\">37</td><td style = \"text-align: right;\">0</td><td style = \"text-align: right;\">0</td><td style = \"text-align: right;\">5.11111</td><td style = \"text-align: right;\">359</td><td style = \"text-align: right;\">0.0</td><td style = \"text-align: right;\">0.0</td><td style = \"text-align: right;\">0.0</td><td style = \"text-align: right;\">57.6</td><td style = \"text-align: right;\">22.2</td><td style = \"text-align: right;\">1.0</td><td style = \"text-align: right;\">1.00531</td><td style = \"text-align: right;\">0.387463</td><td style = \"text-align: right;\">10</td></tr><tr><td class = \"rowNumber\" style = \"font-weight: bold; text-align: right;\">3</td><td style = \"text-align: left;\">2021-09-01 00:00:00</td><td style = \"text-align: right;\">14.0</td><td style = \"text-align: right;\">12.5</td><td style = \"text-align: right;\">0.0</td><td style = \"text-align: right;\">0.0</td><td style = \"text-align: right;\">1015.0</td><td style = \"text-align: right;\">31</td><td style = \"text-align: right;\">34</td><td style = \"text-align: right;\">0</td><td style = \"text-align: right;\">0</td><td style = \"text-align: right;\">6.33333</td><td style = \"text-align: right;\">355</td><td style = \"text-align: right;\">0.0</td><td style = \"text-align: right;\">0.0</td><td style = \"text-align: right;\">0.0</td><td style = \"text-align: right;\">57.6</td><td style = \"text-align: right;\">22.7</td><td style = \"text-align: right;\">1.0</td><td style = \"text-align: right;\">1.00531</td><td style = \"text-align: right;\">0.39619</td><td style = \"text-align: right;\">10</td></tr><tr><td class = \"rowNumber\" style = \"font-weight: bold; text-align: right;\">4</td><td style = \"text-align: left;\">2021-09-01 00:00:00</td><td style = \"text-align: right;\">14.6</td><td style = \"text-align: right;\">11.5</td><td style = \"text-align: right;\">0.0</td><td style = \"text-align: right;\">0.0</td><td style = \"text-align: right;\">1017.3</td><td style = \"text-align: right;\">0</td><td style = \"text-align: right;\">0</td><td style = \"text-align: right;\">0</td><td style = \"text-align: right;\">0</td><td style = \"text-align: right;\">8.08333</td><td style = \"text-align: right;\">297</td><td style = \"text-align: right;\">358.0</td><td style = \"text-align: right;\">277.0</td><td style = \"text-align: right;\">81.0</td><td style = \"text-align: right;\">57.6</td><td style = \"text-align: right;\">23.2</td><td style = \"text-align: right;\">1.0</td><td style = \"text-align: right;\">1.00531</td><td style = \"text-align: right;\">0.404916</td><td style = \"text-align: right;\">10</td></tr><tr><td class = \"rowNumber\" style = \"font-weight: bold; text-align: right;\">5</td><td style = \"text-align: left;\">2021-09-01 00:00:00</td><td style = \"text-align: right;\">15.7</td><td style = \"text-align: right;\">12.9</td><td style = \"text-align: right;\">0.0</td><td style = \"text-align: right;\">0.0</td><td style = \"text-align: right;\">1014.0</td><td style = \"text-align: right;\">22</td><td style = \"text-align: right;\">25</td><td style = \"text-align: right;\">0</td><td style = \"text-align: right;\">0</td><td style = \"text-align: right;\">8.41667</td><td style = \"text-align: right;\">5</td><td style = \"text-align: right;\">0.0</td><td style = \"text-align: right;\">0.0</td><td style = \"text-align: right;\">0.0</td><td style = \"text-align: right;\">57.6</td><td style = \"text-align: right;\">23.7</td><td style = \"text-align: right;\">1.0</td><td style = \"text-align: right;\">1.00531</td><td style = \"text-align: right;\">0.413643</td><td style = \"text-align: right;\">7</td></tr><tr><td class = \"rowNumber\" style = \"font-weight: bold; text-align: right;\">6</td><td style = \"text-align: left;\">2021-09-01 00:00:00</td><td style = \"text-align: right;\">16.0</td><td style = \"text-align: right;\">11.4</td><td style = \"text-align: right;\">0.0</td><td style = \"text-align: right;\">0.0</td><td style = \"text-align: right;\">1016.7</td><td style = \"text-align: right;\">15</td><td style = \"text-align: right;\">12</td><td style = \"text-align: right;\">7</td><td style = \"text-align: right;\">0</td><td style = \"text-align: right;\">6.38889</td><td style = \"text-align: right;\">297</td><td style = \"text-align: right;\">349.0</td><td style = \"text-align: right;\">274.0</td><td style = \"text-align: right;\">75.0</td><td style = \"text-align: right;\">57.6</td><td style = \"text-align: right;\">24.2</td><td style = \"text-align: right;\">1.0</td><td style = \"text-align: right;\">1.00531</td><td style = \"text-align: right;\">0.42237</td><td style = \"text-align: right;\">7</td></tr><tr><td class = \"rowNumber\" style = \"font-weight: bold; text-align: right;\">7</td><td style = \"text-align: left;\">2021-09-01 00:00:00</td><td style = \"text-align: right;\">12.2</td><td style = \"text-align: right;\">10.5</td><td style = \"text-align: right;\">0.0</td><td style = \"text-align: right;\">0.0</td><td style = \"text-align: right;\">1005.3</td><td style = \"text-align: right;\">19</td><td style = \"text-align: right;\">7</td><td style = \"text-align: right;\">0</td><td style = \"text-align: right;\">41</td><td style = \"text-align: right;\">4.11111</td><td style = \"text-align: right;\">359</td><td style = \"text-align: right;\">0.0</td><td style = \"text-align: right;\">0.0</td><td style = \"text-align: right;\">0.0</td><td style = \"text-align: right;\">57.6</td><td style = \"text-align: right;\">24.7</td><td style = \"text-align: right;\">1.0</td><td style = \"text-align: right;\">1.00531</td><td style = \"text-align: right;\">0.431096</td><td style = \"text-align: right;\">7</td></tr><tr><td class = \"rowNumber\" style = \"font-weight: bold; text-align: right;\">8</td><td style = \"text-align: left;\">2021-09-01 00:00:00</td><td style = \"text-align: right;\">12.2</td><td style = \"text-align: right;\">10.5</td><td style = \"text-align: right;\">0.0</td><td style = \"text-align: right;\">0.0</td><td style = \"text-align: right;\">1006.1</td><td style = \"text-align: right;\">28</td><td style = \"text-align: right;\">8</td><td style = \"text-align: right;\">0</td><td style = \"text-align: right;\">68</td><td style = \"text-align: right;\">4.11111</td><td style = \"text-align: right;\">354</td><td style = \"text-align: right;\">0.0</td><td style = \"text-align: right;\">0.0</td><td style = \"text-align: right;\">0.0</td><td style = \"text-align: right;\">57.6</td><td style = \"text-align: right;\">25.2</td><td style = \"text-align: right;\">1.0</td><td style = \"text-align: right;\">1.00531</td><td style = \"text-align: right;\">0.439823</td><td style = \"text-align: right;\">7</td></tr><tr><td class = \"rowNumber\" style = \"font-weight: bold; text-align: right;\">9</td><td style = \"text-align: left;\">2021-09-01 00:00:00</td><td style = \"text-align: right;\">12.4</td><td style = \"text-align: right;\">10.6</td><td style = \"text-align: right;\">0.0</td><td style = \"text-align: right;\">0.0</td><td style = \"text-align: right;\">1003.8</td><td style = \"text-align: right;\">49</td><td style = \"text-align: right;\">26</td><td style = \"text-align: right;\">0</td><td style = \"text-align: right;\">85</td><td style = \"text-align: right;\">4.25</td><td style = \"text-align: right;\">352</td><td style = \"text-align: right;\">0.0</td><td style = \"text-align: right;\">0.0</td><td style = \"text-align: right;\">0.0</td><td style = \"text-align: right;\">57.6</td><td style = \"text-align: right;\">25.7</td><td style = \"text-align: right;\">1.0</td><td style = \"text-align: right;\">1.00531</td><td style = \"text-align: right;\">0.44855</td><td style = \"text-align: right;\">13</td></tr><tr><td class = \"rowNumber\" style = \"font-weight: bold; text-align: right;\">10</td><td style = \"text-align: left;\">2021-09-01 00:00:00</td><td style = \"text-align: right;\">12.9</td><td style = \"text-align: right;\">11.0</td><td style = \"text-align: right;\">0.0</td><td style = \"text-align: right;\">0.0</td><td style = \"text-align: right;\">1003.7</td><td style = \"text-align: right;\">81</td><td style = \"text-align: right;\">56</td><td style = \"text-align: right;\">3</td><td style = \"text-align: right;\">96</td><td style = \"text-align: right;\">4.25</td><td style = \"text-align: right;\">351</td><td style = \"text-align: right;\">0.0</td><td style = \"text-align: right;\">0.0</td><td style = \"text-align: right;\">0.0</td><td style = \"text-align: right;\">57.6</td><td style = \"text-align: right;\">26.2</td><td style = \"text-align: right;\">1.0</td><td style = \"text-align: right;\">1.00531</td><td style = \"text-align: right;\">0.457276</td><td style = \"text-align: right;\">13</td></tr><tr><td class = \"rowNumber\" style = \"font-weight: bold; text-align: right;\">11</td><td style = \"text-align: left;\">2021-09-01 00:00:00</td><td style = \"text-align: right;\">13.0</td><td style = \"text-align: right;\">11.5</td><td style = \"text-align: right;\">0.0</td><td style = \"text-align: right;\">0.0</td><td style = \"text-align: right;\">998.5</td><td style = \"text-align: right;\">100</td><td style = \"text-align: right;\">85</td><td style = \"text-align: right;\">17</td><td style = \"text-align: right;\">98</td><td style = \"text-align: right;\">4.02778</td><td style = \"text-align: right;\">354</td><td style = \"text-align: right;\">0.0</td><td style = \"text-align: right;\">0.0</td><td style = \"text-align: right;\">0.0</td><td style = \"text-align: right;\">57.6</td><td style = \"text-align: right;\">26.7</td><td style = \"text-align: right;\">1.0</td><td style = \"text-align: right;\">1.00531</td><td style = \"text-align: right;\">0.466003</td><td style = \"text-align: right;\">15</td></tr><tr><td class = \"rowNumber\" style = \"font-weight: bold; text-align: right;\">12</td><td style = \"text-align: left;\">2021-09-01 00:00:00</td><td style = \"text-align: right;\">13.0</td><td style = \"text-align: right;\">12.1</td><td style = \"text-align: right;\">0.1</td><td style = \"text-align: right;\">0.0</td><td style = \"text-align: right;\">988.9</td><td style = \"text-align: right;\">100</td><td style = \"text-align: right;\">100</td><td style = \"text-align: right;\">39</td><td style = \"text-align: right;\">99</td><td style = \"text-align: right;\">3.80556</td><td style = \"text-align: right;\">360</td><td style = \"text-align: right;\">0.0</td><td style = \"text-align: right;\">0.0</td><td style = \"text-align: right;\">0.0</td><td style = \"text-align: right;\">57.6</td><td style = \"text-align: right;\">27.2</td><td style = \"text-align: right;\">1.0</td><td style = \"text-align: right;\">1.00531</td><td style = \"text-align: right;\">0.47473</td><td style = \"text-align: right;\">15</td></tr><tr><td class = \"rowNumber\" style = \"font-weight: bold; text-align: right;\">13</td><td style = \"text-align: left;\">2021-09-01 00:00:00</td><td style = \"text-align: right;\">13.1</td><td style = \"text-align: right;\">12.4</td><td style = \"text-align: right;\">0.6</td><td style = \"text-align: right;\">0.0</td><td style = \"text-align: right;\">996.0</td><td style = \"text-align: right;\">100</td><td style = \"text-align: right;\">100</td><td style = \"text-align: right;\">75</td><td style = \"text-align: right;\">100</td><td style = \"text-align: right;\">3.61111</td><td style = \"text-align: right;\">2</td><td style = \"text-align: right;\">0.0</td><td style = \"text-align: right;\">0.0</td><td style = \"text-align: right;\">0.0</td><td style = \"text-align: right;\">57.6</td><td style = \"text-align: right;\">27.7</td><td style = \"text-align: right;\">1.0</td><td style = \"text-align: right;\">1.00531</td><td style = \"text-align: right;\">0.483456</td><td style = \"text-align: right;\">15</td></tr><tr><td style = \"text-align: right;\">&vellip;</td><td style = \"text-align: right;\">&vellip;</td><td style = \"text-align: right;\">&vellip;</td><td style = \"text-align: right;\">&vellip;</td><td style = \"text-align: right;\">&vellip;</td><td style = \"text-align: right;\">&vellip;</td><td style = \"text-align: right;\">&vellip;</td><td style = \"text-align: right;\">&vellip;</td><td style = \"text-align: right;\">&vellip;</td><td style = \"text-align: right;\">&vellip;</td><td style = \"text-align: right;\">&vellip;</td><td style = \"text-align: right;\">&vellip;</td><td style = \"text-align: right;\">&vellip;</td><td style = \"text-align: right;\">&vellip;</td><td style = \"text-align: right;\">&vellip;</td><td style = \"text-align: right;\">&vellip;</td><td style = \"text-align: right;\">&vellip;</td><td style = \"text-align: right;\">&vellip;</td><td style = \"text-align: right;\">&vellip;</td><td style = \"text-align: right;\">&vellip;</td><td style = \"text-align: right;\">&vellip;</td><td style = \"text-align: right;\">&vellip;</td></tr><tr><td class = \"rowNumber\" style = \"font-weight: bold; text-align: right;\">1710791</td><td style = \"text-align: left;\">2023-05-30 10:00:00</td><td style = \"text-align: right;\">11.8</td><td style = \"text-align: right;\">3.7</td><td style = \"text-align: right;\">0.0</td><td style = \"text-align: right;\">0.0</td><td style = \"text-align: right;\">1019.8</td><td style = \"text-align: right;\">33</td><td style = \"text-align: right;\">31</td><td style = \"text-align: right;\">8</td><td style = \"text-align: right;\">0</td><td style = \"text-align: right;\">6.08333</td><td style = \"text-align: right;\">327</td><td style = \"text-align: right;\">542.0</td><td style = \"text-align: right;\">375.0</td><td style = \"text-align: right;\">167.0</td><td style = \"text-align: right;\">59.7</td><td style = \"text-align: right;\">22.7</td><td style = \"text-align: right;\">637.0</td><td style = \"text-align: right;\">1.04196</td><td style = \"text-align: right;\">0.39619</td><td style = \"text-align: right;\">1</td></tr><tr><td class = \"rowNumber\" style = \"font-weight: bold; text-align: right;\">1710792</td><td style = \"text-align: left;\">2023-05-30 10:00:00</td><td style = \"text-align: right;\">11.8</td><td style = \"text-align: right;\">3.7</td><td style = \"text-align: right;\">0.0</td><td style = \"text-align: right;\">0.0</td><td style = \"text-align: right;\">1019.8</td><td style = \"text-align: right;\">33</td><td style = \"text-align: right;\">31</td><td style = \"text-align: right;\">8</td><td style = \"text-align: right;\">0</td><td style = \"text-align: right;\">6.08333</td><td style = \"text-align: right;\">327</td><td style = \"text-align: right;\">542.0</td><td style = \"text-align: right;\">375.0</td><td style = \"text-align: right;\">167.0</td><td style = \"text-align: right;\">59.7</td><td style = \"text-align: right;\">23.2</td><td style = \"text-align: right;\">637.0</td><td style = \"text-align: right;\">1.04196</td><td style = \"text-align: right;\">0.404916</td><td style = \"text-align: right;\">6</td></tr><tr><td class = \"rowNumber\" style = \"font-weight: bold; text-align: right;\">1710793</td><td style = \"text-align: left;\">2023-05-30 10:00:00</td><td style = \"text-align: right;\">12.1</td><td style = \"text-align: right;\">3.8</td><td style = \"text-align: right;\">0.0</td><td style = \"text-align: right;\">0.0</td><td style = \"text-align: right;\">1019.3</td><td style = \"text-align: right;\">37</td><td style = \"text-align: right;\">28</td><td style = \"text-align: right;\">19</td><td style = \"text-align: right;\">0</td><td style = \"text-align: right;\">4.30556</td><td style = \"text-align: right;\">332</td><td style = \"text-align: right;\">549.0</td><td style = \"text-align: right;\">408.0</td><td style = \"text-align: right;\">141.0</td><td style = \"text-align: right;\">59.7</td><td style = \"text-align: right;\">23.7</td><td style = \"text-align: right;\">637.0</td><td style = \"text-align: right;\">1.04196</td><td style = \"text-align: right;\">0.413643</td><td style = \"text-align: right;\">0</td></tr><tr><td class = \"rowNumber\" style = \"font-weight: bold; text-align: right;\">1710794</td><td style = \"text-align: left;\">2023-05-30 10:00:00</td><td style = \"text-align: right;\">10.1</td><td style = \"text-align: right;\">6.6</td><td style = \"text-align: right;\">0.0</td><td style = \"text-align: right;\">0.0</td><td style = \"text-align: right;\">1019.3</td><td style = \"text-align: right;\">20</td><td style = \"text-align: right;\">15</td><td style = \"text-align: right;\">10</td><td style = \"text-align: right;\">0</td><td style = \"text-align: right;\">4.52778</td><td style = \"text-align: right;\">313</td><td style = \"text-align: right;\">571.0</td><td style = \"text-align: right;\">435.0</td><td style = \"text-align: right;\">136.0</td><td style = \"text-align: right;\">59.7</td><td style = \"text-align: right;\">24.2</td><td style = \"text-align: right;\">637.0</td><td style = \"text-align: right;\">1.04196</td><td style = \"text-align: right;\">0.42237</td><td style = \"text-align: right;\">0</td></tr><tr><td class = \"rowNumber\" style = \"font-weight: bold; text-align: right;\">1710795</td><td style = \"text-align: left;\">2023-05-30 10:00:00</td><td style = \"text-align: right;\">11.5</td><td style = \"text-align: right;\">6.0</td><td style = \"text-align: right;\">0.1</td><td style = \"text-align: right;\">0.0</td><td style = \"text-align: right;\">1019.0</td><td style = \"text-align: right;\">29</td><td style = \"text-align: right;\">24</td><td style = \"text-align: right;\">13</td><td style = \"text-align: right;\">0</td><td style = \"text-align: right;\">3.61111</td><td style = \"text-align: right;\">304</td><td style = \"text-align: right;\">568.0</td><td style = \"text-align: right;\">425.0</td><td style = \"text-align: right;\">143.0</td><td style = \"text-align: right;\">59.7</td><td style = \"text-align: right;\">24.7</td><td style = \"text-align: right;\">637.0</td><td style = \"text-align: right;\">1.04196</td><td style = \"text-align: right;\">0.431096</td><td style = \"text-align: right;\">0</td></tr><tr><td class = \"rowNumber\" style = \"font-weight: bold; text-align: right;\">1710796</td><td style = \"text-align: left;\">2023-05-30 10:00:00</td><td style = \"text-align: right;\">11.3</td><td style = \"text-align: right;\">6.5</td><td style = \"text-align: right;\">0.0</td><td style = \"text-align: right;\">0.0</td><td style = \"text-align: right;\">1018.9</td><td style = \"text-align: right;\">32</td><td style = \"text-align: right;\">25</td><td style = \"text-align: right;\">16</td><td style = \"text-align: right;\">0</td><td style = \"text-align: right;\">3.13889</td><td style = \"text-align: right;\">297</td><td style = \"text-align: right;\">558.0</td><td style = \"text-align: right;\">404.0</td><td style = \"text-align: right;\">154.0</td><td style = \"text-align: right;\">59.7</td><td style = \"text-align: right;\">25.2</td><td style = \"text-align: right;\">637.0</td><td style = \"text-align: right;\">1.04196</td><td style = \"text-align: right;\">0.439823</td><td style = \"text-align: right;\">0</td></tr><tr><td class = \"rowNumber\" style = \"font-weight: bold; text-align: right;\">1710797</td><td style = \"text-align: left;\">2023-05-30 10:00:00</td><td style = \"text-align: right;\">12.0</td><td style = \"text-align: right;\">5.5</td><td style = \"text-align: right;\">0.0</td><td style = \"text-align: right;\">0.0</td><td style = \"text-align: right;\">1018.8</td><td style = \"text-align: right;\">28</td><td style = \"text-align: right;\">20</td><td style = \"text-align: right;\">17</td><td style = \"text-align: right;\">0</td><td style = \"text-align: right;\">2.44444</td><td style = \"text-align: right;\">282</td><td style = \"text-align: right;\">550.0</td><td style = \"text-align: right;\">388.0</td><td style = \"text-align: right;\">162.0</td><td style = \"text-align: right;\">59.7</td><td style = \"text-align: right;\">25.7</td><td style = \"text-align: right;\">637.0</td><td style = \"text-align: right;\">1.04196</td><td style = \"text-align: right;\">0.44855</td><td style = \"text-align: right;\">0</td></tr><tr><td class = \"rowNumber\" style = \"font-weight: bold; text-align: right;\">1710798</td><td style = \"text-align: left;\">2023-05-30 10:00:00</td><td style = \"text-align: right;\">11.7</td><td style = \"text-align: right;\">4.6</td><td style = \"text-align: right;\">0.0</td><td style = \"text-align: right;\">0.0</td><td style = \"text-align: right;\">1018.9</td><td style = \"text-align: right;\">40</td><td style = \"text-align: right;\">9</td><td style = \"text-align: right;\">54</td><td style = \"text-align: right;\">0</td><td style = \"text-align: right;\">1.05556</td><td style = \"text-align: right;\">253</td><td style = \"text-align: right;\">567.0</td><td style = \"text-align: right;\">392.0</td><td style = \"text-align: right;\">175.0</td><td style = \"text-align: right;\">59.7</td><td style = \"text-align: right;\">26.2</td><td style = \"text-align: right;\">637.0</td><td style = \"text-align: right;\">1.04196</td><td style = \"text-align: right;\">0.457276</td><td style = \"text-align: right;\">5</td></tr><tr><td class = \"rowNumber\" style = \"font-weight: bold; text-align: right;\">1710799</td><td style = \"text-align: left;\">2023-05-30 10:00:00</td><td style = \"text-align: right;\">12.3</td><td style = \"text-align: right;\">3.5</td><td style = \"text-align: right;\">0.0</td><td style = \"text-align: right;\">0.0</td><td style = \"text-align: right;\">1019.0</td><td style = \"text-align: right;\">46</td><td style = \"text-align: right;\">4</td><td style = \"text-align: right;\">70</td><td style = \"text-align: right;\">0</td><td style = \"text-align: right;\">0.805556</td><td style = \"text-align: right;\">263</td><td style = \"text-align: right;\">581.0</td><td style = \"text-align: right;\">407.0</td><td style = \"text-align: right;\">174.0</td><td style = \"text-align: right;\">59.7</td><td style = \"text-align: right;\">26.7</td><td style = \"text-align: right;\">637.0</td><td style = \"text-align: right;\">1.04196</td><td style = \"text-align: right;\">0.466003</td><td style = \"text-align: right;\">5</td></tr><tr><td class = \"rowNumber\" style = \"font-weight: bold; text-align: right;\">1710800</td><td style = \"text-align: left;\">2023-05-30 10:00:00</td><td style = \"text-align: right;\">9.8</td><td style = \"text-align: right;\">3.0</td><td style = \"text-align: right;\">0.0</td><td style = \"text-align: right;\">0.0</td><td style = \"text-align: right;\">1019.2</td><td style = \"text-align: right;\">41</td><td style = \"text-align: right;\">4</td><td style = \"text-align: right;\">62</td><td style = \"text-align: right;\">0</td><td style = \"text-align: right;\">1.97222</td><td style = \"text-align: right;\">285</td><td style = \"text-align: right;\">609.0</td><td style = \"text-align: right;\">432.0</td><td style = \"text-align: right;\">177.0</td><td style = \"text-align: right;\">59.7</td><td style = \"text-align: right;\">27.2</td><td style = \"text-align: right;\">637.0</td><td style = \"text-align: right;\">1.04196</td><td style = \"text-align: right;\">0.47473</td><td style = \"text-align: right;\">2</td></tr><tr><td class = \"rowNumber\" style = \"font-weight: bold; text-align: right;\">1710801</td><td style = \"text-align: left;\">2023-05-30 10:00:00</td><td style = \"text-align: right;\">11.7</td><td style = \"text-align: right;\">1.6</td><td style = \"text-align: right;\">0.0</td><td style = \"text-align: right;\">0.0</td><td style = \"text-align: right;\">1019.0</td><td style = \"text-align: right;\">44</td><td style = \"text-align: right;\">0</td><td style = \"text-align: right;\">73</td><td style = \"text-align: right;\">0</td><td style = \"text-align: right;\">3.5</td><td style = \"text-align: right;\">307</td><td style = \"text-align: right;\">658.0</td><td style = \"text-align: right;\">521.0</td><td style = \"text-align: right;\">137.0</td><td style = \"text-align: right;\">59.7</td><td style = \"text-align: right;\">27.7</td><td style = \"text-align: right;\">637.0</td><td style = \"text-align: right;\">1.04196</td><td style = \"text-align: right;\">0.483456</td><td style = \"text-align: right;\">2</td></tr><tr><td class = \"rowNumber\" style = \"font-weight: bold; text-align: right;\">1710802</td><td style = \"text-align: left;\">2023-05-30 10:00:00</td><td style = \"text-align: right;\">12.0</td><td style = \"text-align: right;\">1.4</td><td style = \"text-align: right;\">0.0</td><td style = \"text-align: right;\">0.0</td><td style = \"text-align: right;\">1016.1</td><td style = \"text-align: right;\">38</td><td style = \"text-align: right;\">0</td><td style = \"text-align: right;\">63</td><td style = \"text-align: right;\">0</td><td style = \"text-align: right;\">3.25</td><td style = \"text-align: right;\">304</td><td style = \"text-align: right;\">672.0</td><td style = \"text-align: right;\">550.0</td><td style = \"text-align: right;\">122.0</td><td style = \"text-align: right;\">59.7</td><td style = \"text-align: right;\">28.2</td><td style = \"text-align: right;\">637.0</td><td style = \"text-align: right;\">1.04196</td><td style = \"text-align: right;\">0.492183</td><td style = \"text-align: right;\">2</td></tr></tbody></table></div>"
      ],
      "text/latex": [
       "\\begin{tabular}{r|ccccccc}\n",
       "\t& datetime & temperature & dewpoint & rain & snowfall & surface\\_pressure & \\\\\n",
       "\t\\hline\n",
       "\t& String31 & Float64 & Float64 & Float64 & Float64 & Float64 & \\\\\n",
       "\t\\hline\n",
       "\t1 & 2021-09-01 00:00:00 & 14.2 & 11.6 & 0.0 & 0.0 & 1015.9 & $\\dots$ \\\\\n",
       "\t2 & 2021-09-01 00:00:00 & 13.9 & 11.5 & 0.0 & 0.0 & 1010.7 & $\\dots$ \\\\\n",
       "\t3 & 2021-09-01 00:00:00 & 14.0 & 12.5 & 0.0 & 0.0 & 1015.0 & $\\dots$ \\\\\n",
       "\t4 & 2021-09-01 00:00:00 & 14.6 & 11.5 & 0.0 & 0.0 & 1017.3 & $\\dots$ \\\\\n",
       "\t5 & 2021-09-01 00:00:00 & 15.7 & 12.9 & 0.0 & 0.0 & 1014.0 & $\\dots$ \\\\\n",
       "\t6 & 2021-09-01 00:00:00 & 16.0 & 11.4 & 0.0 & 0.0 & 1016.7 & $\\dots$ \\\\\n",
       "\t7 & 2021-09-01 00:00:00 & 12.2 & 10.5 & 0.0 & 0.0 & 1005.3 & $\\dots$ \\\\\n",
       "\t8 & 2021-09-01 00:00:00 & 12.2 & 10.5 & 0.0 & 0.0 & 1006.1 & $\\dots$ \\\\\n",
       "\t9 & 2021-09-01 00:00:00 & 12.4 & 10.6 & 0.0 & 0.0 & 1003.8 & $\\dots$ \\\\\n",
       "\t10 & 2021-09-01 00:00:00 & 12.9 & 11.0 & 0.0 & 0.0 & 1003.7 & $\\dots$ \\\\\n",
       "\t11 & 2021-09-01 00:00:00 & 13.0 & 11.5 & 0.0 & 0.0 & 998.5 & $\\dots$ \\\\\n",
       "\t12 & 2021-09-01 00:00:00 & 13.0 & 12.1 & 0.1 & 0.0 & 988.9 & $\\dots$ \\\\\n",
       "\t13 & 2021-09-01 00:00:00 & 13.1 & 12.4 & 0.6 & 0.0 & 996.0 & $\\dots$ \\\\\n",
       "\t14 & 2021-09-01 00:00:00 & 12.9 & 12.1 & 0.8 & 0.0 & 1004.5 & $\\dots$ \\\\\n",
       "\t15 & 2021-09-01 00:00:00 & 13.3 & 10.7 & 0.0 & 0.0 & 1016.2 & $\\dots$ \\\\\n",
       "\t16 & 2021-09-01 00:00:00 & 14.4 & 11.3 & 0.0 & 0.0 & 1016.2 & $\\dots$ \\\\\n",
       "\t17 & 2021-09-01 00:00:00 & 13.5 & 11.2 & 0.0 & 0.0 & 1015.3 & $\\dots$ \\\\\n",
       "\t18 & 2021-09-01 00:00:00 & 15.5 & 12.7 & 0.0 & 0.0 & 1014.6 & $\\dots$ \\\\\n",
       "\t19 & 2021-09-01 00:00:00 & 15.4 & 13.2 & 0.0 & 0.0 & 1014.2 & $\\dots$ \\\\\n",
       "\t20 & 2021-09-01 00:00:00 & 10.7 & 10.1 & 0.0 & 0.0 & 1013.8 & $\\dots$ \\\\\n",
       "\t21 & 2021-09-01 00:00:00 & 11.7 & 10.1 & 0.0 & 0.0 & 1006.7 & $\\dots$ \\\\\n",
       "\t22 & 2021-09-01 00:00:00 & 11.8 & 10.2 & 0.0 & 0.0 & 1008.2 & $\\dots$ \\\\\n",
       "\t23 & 2021-09-01 00:00:00 & 12.0 & 10.4 & 0.0 & 0.0 & 1002.5 & $\\dots$ \\\\\n",
       "\t24 & 2021-09-01 00:00:00 & 12.8 & 10.9 & 0.0 & 0.0 & 1005.8 & $\\dots$ \\\\\n",
       "\t$\\dots$ & $\\dots$ & $\\dots$ & $\\dots$ & $\\dots$ & $\\dots$ & $\\dots$ &  \\\\\n",
       "\\end{tabular}\n"
      ],
      "text/plain": [
       "\u001b[1m1710802×21 DataFrame\u001b[0m\n",
       "\u001b[1m     Row \u001b[0m│\u001b[1m datetime            \u001b[0m\u001b[1m temperature \u001b[0m\u001b[1m dewpoint \u001b[0m\u001b[1m rain    \u001b[0m\u001b[1m snowfall \u001b[0m\u001b[1m surf\u001b[0m ⋯\n",
       "         │\u001b[90m String31            \u001b[0m\u001b[90m Float64     \u001b[0m\u001b[90m Float64  \u001b[0m\u001b[90m Float64 \u001b[0m\u001b[90m Float64  \u001b[0m\u001b[90m Floa\u001b[0m ⋯\n",
       "─────────┼──────────────────────────────────────────────────────────────────────\n",
       "       1 │ 2021-09-01 00:00:00         14.2      11.6      0.0       0.0       ⋯\n",
       "       2 │ 2021-09-01 00:00:00         13.9      11.5      0.0       0.0\n",
       "       3 │ 2021-09-01 00:00:00         14.0      12.5      0.0       0.0\n",
       "       4 │ 2021-09-01 00:00:00         14.6      11.5      0.0       0.0\n",
       "       5 │ 2021-09-01 00:00:00         15.7      12.9      0.0       0.0       ⋯\n",
       "       6 │ 2021-09-01 00:00:00         16.0      11.4      0.0       0.0\n",
       "       7 │ 2021-09-01 00:00:00         12.2      10.5      0.0       0.0\n",
       "       8 │ 2021-09-01 00:00:00         12.2      10.5      0.0       0.0\n",
       "    ⋮    │          ⋮                ⋮          ⋮         ⋮        ⋮           ⋱\n",
       " 1710796 │ 2023-05-30 10:00:00         11.3       6.5      0.0       0.0       ⋯\n",
       " 1710797 │ 2023-05-30 10:00:00         12.0       5.5      0.0       0.0\n",
       " 1710798 │ 2023-05-30 10:00:00         11.7       4.6      0.0       0.0\n",
       " 1710799 │ 2023-05-30 10:00:00         12.3       3.5      0.0       0.0\n",
       " 1710800 │ 2023-05-30 10:00:00          9.8       3.0      0.0       0.0       ⋯\n",
       " 1710801 │ 2023-05-30 10:00:00         11.7       1.6      0.0       0.0\n",
       " 1710802 │ 2023-05-30 10:00:00         12.0       1.4      0.0       0.0\n",
       "\u001b[36m                                             16 columns and 1710787 rows omitted\u001b[0m"
      ]
     },
     "metadata": {},
     "output_type": "display_data"
    }
   ],
   "source": [
    "leftjoin(hw_cp, hits_w_un, on=[\"latitude\", \"longitude\"])"
   ]
  },
  {
   "cell_type": "code",
   "execution_count": 100,
   "metadata": {},
   "outputs": [
    {
     "data": {
      "text/plain": [
       "process_data (generic function with 1 method)"
      ]
     },
     "metadata": {},
     "output_type": "display_data"
    }
   ],
   "source": [
    "struct DataProcessor\n",
    "    gas_join::Vector{String}\n",
    "    ep_join::Vector{String}\n",
    "    hw_join::Vector{String}\n",
    "    client_join::Vector{String}\n",
    "    lat_lon::Vector{String}\n",
    "end\n",
    "\n",
    "function DataProcessor()\n",
    "    DataProcessor(\n",
    "        [\"datetime\"],\n",
    "        [\"datetime\"],\n",
    "        [\"county\", \"datetime\"],\n",
    "        [\"product_type\", \"county\", \"is_business\", \"date\"],\n",
    "        [\"latitude\", \"longitude\"]\n",
    "    )\n",
    "end\n",
    "\n",
    "function change_names(df::DataFrame, suffix::AbstractString, no_change::Vector{String})\n",
    "    renamed_cols = [\n",
    "        col in no_change ? col : col * suffix for col in names(df)\n",
    "    ]\n",
    "\n",
    "    renamed_df = rename(df, names(df) .=> renamed_cols)\n",
    "    return renamed_df\n",
    "end\n",
    "\n",
    "function to_datetime(df::DataFrame, col::AbstractString)\n",
    "    new_df = deepcopy(df)\n",
    "    formato = DateFormat(\"yyyy-mm-dd HH:MM:SS\")\n",
    "\n",
    "    new_df[!, col] .= DateTime.(new_df[!, col], formato)\n",
    "    return new_df\n",
    "end\n",
    "\n",
    "function get_client_features(client_df::DataFrame, client_join::Vector{String})\n",
    "    return change_names(client_df, \"_client\", client_join)\n",
    "end\n",
    "\n",
    "function get_gas_features(gas_df::DataFrame, gas_join::Vector{String})\n",
    "    df = deepcopy(gas_df)\n",
    "\n",
    "    df[!, \"mean\"] = (df.highest_price_per_mwh + df.lowest_price_per_mwh) / 2\n",
    "\n",
    "    df = change_names(df, \"_gas\", gas_join)\n",
    "\n",
    "    return df\n",
    "end\n",
    "\n",
    "function get_electricity_features(ep_df::DataFrame, ep_join::Vector{String})\n",
    "    df = to_datetime(ep_df, \"forecast_date\")\n",
    "    df = rename(df, :forecast_date => :datetime)\n",
    "    df = change_names(df, \"_ep\", ep_join)\n",
    "    return df\n",
    "end\n",
    "\n",
    "function get_data_features(data::DataFrame)\n",
    "    df = to_datetime(data, \"datetime\")\n",
    "    df.date = Date.(df.datetime)\n",
    "    df.year = year.(df.datetime)\n",
    "    df.quarter = quarterofyear.(df.datetime)\n",
    "    df.month = month.(df.datetime)\n",
    "    df.week = week.(df.datetime)\n",
    "    df.hour = hour.(df.datetime)\n",
    "    df.day_of_year = dayofyear.(df.datetime)\n",
    "    df.day_of_month = dayofmonth.(df.datetime)\n",
    "    df.day_of_week = dayofweek.(df.datetime)\n",
    "\n",
    "    return df\n",
    "end\n",
    "\n",
    "function get_counties(histw_df:: DataFrame, wst_df:: DataFrame)\n",
    "    coords = select(histw_df, [:latitude, :longitude])\n",
    "    coords = unique(coords, [:latitude, :longitude])\n",
    "    coords = transform(\n",
    "        coords,\n",
    "        :latitude => ByRow(deg2rad) => :lat_rad,\n",
    "        :longitude => ByRow(deg2rad) => :lon_rad\n",
    "    )\n",
    "\n",
    "    stations = dropmissing(\n",
    "        select(\n",
    "            wst_df,\n",
    "            :latitude => ByRow(deg2rad) => :latitude,\n",
    "            :longitude => ByRow(deg2rad) => :longitude,\n",
    "            :county\n",
    "        )\n",
    "    )\n",
    "\n",
    "    counties = zeros(Int, 0)\n",
    "\n",
    "    for coord in eachrow(coords[:, [:lat_rad, :lon_rad]])\n",
    "        min_dist = Inf\n",
    "        cnty = -1\n",
    "\n",
    "        for station in eachrow(stations)\n",
    "            dist = haversine(\n",
    "                coord,\n",
    "                [station.latitude, station.longitude]\n",
    "            )\n",
    "\n",
    "            if dist < min_dist\n",
    "                cnty = station.county\n",
    "                min_dist = dist\n",
    "            end\n",
    "        end\n",
    "\n",
    "        append!(counties, cnty)\n",
    "    end\n",
    "\n",
    "    coords[:, :county] = counties\n",
    "\n",
    "    coords = select(coords, Not([:lat_rad, :lon_rad]))\n",
    "\n",
    "    histw_join = leftjoin(histw_df, coords, on=[\"latitude\", \"longitude\"])\n",
    "    return histw_join\n",
    "end\n",
    "\n",
    "function get_hist_weather_features(hw_df::DataFrame, ws_df::DataFrame, hw_joins::Vector{String})\n",
    "    df = to_datetime(hw_df, \"datetime\")\n",
    "    df = get_counties(hw_df, ws_df)\n",
    "    df = change_names(df, \"_hw\", hw_joins)\n",
    "    return df\n",
    "end\n",
    "\n",
    "function process_data(dp::DataProcessor, df_dict::Dict)\n",
    "    data = get_data_features(df_dict[\"train\"])\n",
    "    client = get_client_features(df_dict[\"client\"], dp.client_join)\n",
    "    gas = get_gas_features(df_dict[\"gas_prices\"], dp.gas_join)\n",
    "    electricity = get_electricity_features(df_dict[\"electricity_prices\"], dp.ep_join)\n",
    "    hist_wthr = get_hist_weather_features(\n",
    "        df_dict[\"historical_weather\"],\n",
    "        df_dict[\"weather_station\"],\n",
    "        dp.hw_join\n",
    "    )\n",
    "\n",
    "    joins = [dp.client_join, dp.ep_join, dp.gas_join]\n",
    "    final_data = leftjoin(data, gas, client, electricity, on=joins)\n",
    "    #final_data = leftjoin(final_data, hist_wthr, on=dp.hw_join)\n",
    "    \n",
    "    return final_data\n",
    "end"
   ]
  },
  {
   "cell_type": "code",
   "execution_count": 101,
   "metadata": {},
   "outputs": [
    {
     "ename": "MethodError",
     "evalue": "MethodError: no method matching leftjoin(::DataFrame, ::DataFrame, ::DataFrame, ::DataFrame; on::Vector{Vector{String}})\nThe function `leftjoin` exists, but no method is defined for this combination of argument types.\n\nClosest candidates are:\n  leftjoin(::AbstractDataFrame, ::AbstractDataFrame; on, makeunique, source, indicator, validate, renamecols, matchmissing, order)\n   @ DataFrames ~/.julia/packages/DataFrames/kcA9R/src/join/composer.jl:917\n",
     "output_type": "error",
     "traceback": [
      "MethodError: no method matching leftjoin(::DataFrame, ::DataFrame, ::DataFrame, ::DataFrame; on::Vector{Vector{String}})\n",
      "The function `leftjoin` exists, but no method is defined for this combination of argument types.\n",
      "\n",
      "Closest candidates are:\n",
      "  leftjoin(::AbstractDataFrame, ::AbstractDataFrame; on, makeunique, source, indicator, validate, renamecols, matchmissing, order)\n",
      "   @ DataFrames ~/.julia/packages/DataFrames/kcA9R/src/join/composer.jl:917\n",
      "\n",
      "\n",
      "Stacktrace:\n",
      " [1] process_data(dp::DataProcessor, df_dict::Dict{String, DataFrame})\n",
      "   @ Main ~/proyectos/TFG-ProduccionElectrica/codigo/Julia/jl_notebook_cell_df34fa98e69747e1a8f8a730347b8e2f_W3sZmlsZQ==.jl:138\n",
      " [2] top-level scope\n",
      "   @ ~/proyectos/TFG-ProduccionElectrica/codigo/Julia/jl_notebook_cell_df34fa98e69747e1a8f8a730347b8e2f_W4sZmlsZQ==.jl:2"
     ]
    }
   ],
   "source": [
    "processor = DataProcessor()\n",
    "process_data(processor, dfs)"
   ]
  },
  {
   "cell_type": "code",
   "execution_count": 77,
   "metadata": {},
   "outputs": [
    {
     "data": {
      "text/html": [
       "<div><div style = \"float: left;\"><span>1710802×18 DataFrame</span></div><div style = \"float: right;\"><span style = \"font-style: italic;\">1710777 rows omitted</span></div><div style = \"clear: both;\"></div></div><div class = \"data-frame\" style = \"overflow-x: scroll;\"><table class = \"data-frame\" style = \"margin-bottom: 6px;\"><thead><tr class = \"header\"><th class = \"rowNumber\" style = \"font-weight: bold; text-align: right;\">Row</th><th style = \"text-align: left;\">datetime</th><th style = \"text-align: left;\">temperature</th><th style = \"text-align: left;\">dewpoint</th><th style = \"text-align: left;\">rain</th><th style = \"text-align: left;\">snowfall</th><th style = \"text-align: left;\">surface_pressure</th><th style = \"text-align: left;\">cloudcover_total</th><th style = \"text-align: left;\">cloudcover_low</th><th style = \"text-align: left;\">cloudcover_mid</th><th style = \"text-align: left;\">cloudcover_high</th><th style = \"text-align: left;\">windspeed_10m</th><th style = \"text-align: left;\">winddirection_10m</th><th style = \"text-align: left;\">shortwave_radiation</th><th style = \"text-align: left;\">direct_solar_radiation</th><th style = \"text-align: left;\">diffuse_radiation</th><th style = \"text-align: left;\">latitude</th><th style = \"text-align: left;\">longitude</th><th style = \"text-align: left;\">data_block_id</th></tr><tr class = \"subheader headerLastRow\"><th class = \"rowNumber\" style = \"font-weight: bold; text-align: right;\"></th><th title = \"String31\" style = \"text-align: left;\">String31</th><th title = \"Float64\" style = \"text-align: left;\">Float64</th><th title = \"Float64\" style = \"text-align: left;\">Float64</th><th title = \"Float64\" style = \"text-align: left;\">Float64</th><th title = \"Float64\" style = \"text-align: left;\">Float64</th><th title = \"Float64\" style = \"text-align: left;\">Float64</th><th title = \"Int64\" style = \"text-align: left;\">Int64</th><th title = \"Int64\" style = \"text-align: left;\">Int64</th><th title = \"Int64\" style = \"text-align: left;\">Int64</th><th title = \"Int64\" style = \"text-align: left;\">Int64</th><th title = \"Float64\" style = \"text-align: left;\">Float64</th><th title = \"Int64\" style = \"text-align: left;\">Int64</th><th title = \"Float64\" style = \"text-align: left;\">Float64</th><th title = \"Float64\" style = \"text-align: left;\">Float64</th><th title = \"Float64\" style = \"text-align: left;\">Float64</th><th title = \"Float64\" style = \"text-align: left;\">Float64</th><th title = \"Float64\" style = \"text-align: left;\">Float64</th><th title = \"Float64\" style = \"text-align: left;\">Float64</th></tr></thead><tbody><tr><td class = \"rowNumber\" style = \"font-weight: bold; text-align: right;\">1</td><td style = \"text-align: left;\">2021-09-01 00:00:00</td><td style = \"text-align: right;\">14.2</td><td style = \"text-align: right;\">11.6</td><td style = \"text-align: right;\">0.0</td><td style = \"text-align: right;\">0.0</td><td style = \"text-align: right;\">1015.9</td><td style = \"text-align: right;\">31</td><td style = \"text-align: right;\">31</td><td style = \"text-align: right;\">0</td><td style = \"text-align: right;\">11</td><td style = \"text-align: right;\">7.08333</td><td style = \"text-align: right;\">8</td><td style = \"text-align: right;\">0.0</td><td style = \"text-align: right;\">0.0</td><td style = \"text-align: right;\">0.0</td><td style = \"text-align: right;\">57.6</td><td style = \"text-align: right;\">21.7</td><td style = \"text-align: right;\">1.0</td></tr><tr><td class = \"rowNumber\" style = \"font-weight: bold; text-align: right;\">2</td><td style = \"text-align: left;\">2021-09-01 00:00:00</td><td style = \"text-align: right;\">13.9</td><td style = \"text-align: right;\">11.5</td><td style = \"text-align: right;\">0.0</td><td style = \"text-align: right;\">0.0</td><td style = \"text-align: right;\">1010.7</td><td style = \"text-align: right;\">33</td><td style = \"text-align: right;\">37</td><td style = \"text-align: right;\">0</td><td style = \"text-align: right;\">0</td><td style = \"text-align: right;\">5.11111</td><td style = \"text-align: right;\">359</td><td style = \"text-align: right;\">0.0</td><td style = \"text-align: right;\">0.0</td><td style = \"text-align: right;\">0.0</td><td style = \"text-align: right;\">57.6</td><td style = \"text-align: right;\">22.2</td><td style = \"text-align: right;\">1.0</td></tr><tr><td class = \"rowNumber\" style = \"font-weight: bold; text-align: right;\">3</td><td style = \"text-align: left;\">2021-09-01 00:00:00</td><td style = \"text-align: right;\">14.0</td><td style = \"text-align: right;\">12.5</td><td style = \"text-align: right;\">0.0</td><td style = \"text-align: right;\">0.0</td><td style = \"text-align: right;\">1015.0</td><td style = \"text-align: right;\">31</td><td style = \"text-align: right;\">34</td><td style = \"text-align: right;\">0</td><td style = \"text-align: right;\">0</td><td style = \"text-align: right;\">6.33333</td><td style = \"text-align: right;\">355</td><td style = \"text-align: right;\">0.0</td><td style = \"text-align: right;\">0.0</td><td style = \"text-align: right;\">0.0</td><td style = \"text-align: right;\">57.6</td><td style = \"text-align: right;\">22.7</td><td style = \"text-align: right;\">1.0</td></tr><tr><td class = \"rowNumber\" style = \"font-weight: bold; text-align: right;\">4</td><td style = \"text-align: left;\">2021-09-01 00:00:00</td><td style = \"text-align: right;\">14.6</td><td style = \"text-align: right;\">11.5</td><td style = \"text-align: right;\">0.0</td><td style = \"text-align: right;\">0.0</td><td style = \"text-align: right;\">1017.3</td><td style = \"text-align: right;\">0</td><td style = \"text-align: right;\">0</td><td style = \"text-align: right;\">0</td><td style = \"text-align: right;\">0</td><td style = \"text-align: right;\">8.08333</td><td style = \"text-align: right;\">297</td><td style = \"text-align: right;\">358.0</td><td style = \"text-align: right;\">277.0</td><td style = \"text-align: right;\">81.0</td><td style = \"text-align: right;\">57.6</td><td style = \"text-align: right;\">23.2</td><td style = \"text-align: right;\">1.0</td></tr><tr><td class = \"rowNumber\" style = \"font-weight: bold; text-align: right;\">5</td><td style = \"text-align: left;\">2021-09-01 00:00:00</td><td style = \"text-align: right;\">15.7</td><td style = \"text-align: right;\">12.9</td><td style = \"text-align: right;\">0.0</td><td style = \"text-align: right;\">0.0</td><td style = \"text-align: right;\">1014.0</td><td style = \"text-align: right;\">22</td><td style = \"text-align: right;\">25</td><td style = \"text-align: right;\">0</td><td style = \"text-align: right;\">0</td><td style = \"text-align: right;\">8.41667</td><td style = \"text-align: right;\">5</td><td style = \"text-align: right;\">0.0</td><td style = \"text-align: right;\">0.0</td><td style = \"text-align: right;\">0.0</td><td style = \"text-align: right;\">57.6</td><td style = \"text-align: right;\">23.7</td><td style = \"text-align: right;\">1.0</td></tr><tr><td class = \"rowNumber\" style = \"font-weight: bold; text-align: right;\">6</td><td style = \"text-align: left;\">2021-09-01 00:00:00</td><td style = \"text-align: right;\">16.0</td><td style = \"text-align: right;\">11.4</td><td style = \"text-align: right;\">0.0</td><td style = \"text-align: right;\">0.0</td><td style = \"text-align: right;\">1016.7</td><td style = \"text-align: right;\">15</td><td style = \"text-align: right;\">12</td><td style = \"text-align: right;\">7</td><td style = \"text-align: right;\">0</td><td style = \"text-align: right;\">6.38889</td><td style = \"text-align: right;\">297</td><td style = \"text-align: right;\">349.0</td><td style = \"text-align: right;\">274.0</td><td style = \"text-align: right;\">75.0</td><td style = \"text-align: right;\">57.6</td><td style = \"text-align: right;\">24.2</td><td style = \"text-align: right;\">1.0</td></tr><tr><td class = \"rowNumber\" style = \"font-weight: bold; text-align: right;\">7</td><td style = \"text-align: left;\">2021-09-01 00:00:00</td><td style = \"text-align: right;\">12.2</td><td style = \"text-align: right;\">10.5</td><td style = \"text-align: right;\">0.0</td><td style = \"text-align: right;\">0.0</td><td style = \"text-align: right;\">1005.3</td><td style = \"text-align: right;\">19</td><td style = \"text-align: right;\">7</td><td style = \"text-align: right;\">0</td><td style = \"text-align: right;\">41</td><td style = \"text-align: right;\">4.11111</td><td style = \"text-align: right;\">359</td><td style = \"text-align: right;\">0.0</td><td style = \"text-align: right;\">0.0</td><td style = \"text-align: right;\">0.0</td><td style = \"text-align: right;\">57.6</td><td style = \"text-align: right;\">24.7</td><td style = \"text-align: right;\">1.0</td></tr><tr><td class = \"rowNumber\" style = \"font-weight: bold; text-align: right;\">8</td><td style = \"text-align: left;\">2021-09-01 00:00:00</td><td style = \"text-align: right;\">12.2</td><td style = \"text-align: right;\">10.5</td><td style = \"text-align: right;\">0.0</td><td style = \"text-align: right;\">0.0</td><td style = \"text-align: right;\">1006.1</td><td style = \"text-align: right;\">28</td><td style = \"text-align: right;\">8</td><td style = \"text-align: right;\">0</td><td style = \"text-align: right;\">68</td><td style = \"text-align: right;\">4.11111</td><td style = \"text-align: right;\">354</td><td style = \"text-align: right;\">0.0</td><td style = \"text-align: right;\">0.0</td><td style = \"text-align: right;\">0.0</td><td style = \"text-align: right;\">57.6</td><td style = \"text-align: right;\">25.2</td><td style = \"text-align: right;\">1.0</td></tr><tr><td class = \"rowNumber\" style = \"font-weight: bold; text-align: right;\">9</td><td style = \"text-align: left;\">2021-09-01 00:00:00</td><td style = \"text-align: right;\">12.4</td><td style = \"text-align: right;\">10.6</td><td style = \"text-align: right;\">0.0</td><td style = \"text-align: right;\">0.0</td><td style = \"text-align: right;\">1003.8</td><td style = \"text-align: right;\">49</td><td style = \"text-align: right;\">26</td><td style = \"text-align: right;\">0</td><td style = \"text-align: right;\">85</td><td style = \"text-align: right;\">4.25</td><td style = \"text-align: right;\">352</td><td style = \"text-align: right;\">0.0</td><td style = \"text-align: right;\">0.0</td><td style = \"text-align: right;\">0.0</td><td style = \"text-align: right;\">57.6</td><td style = \"text-align: right;\">25.7</td><td style = \"text-align: right;\">1.0</td></tr><tr><td class = \"rowNumber\" style = \"font-weight: bold; text-align: right;\">10</td><td style = \"text-align: left;\">2021-09-01 00:00:00</td><td style = \"text-align: right;\">12.9</td><td style = \"text-align: right;\">11.0</td><td style = \"text-align: right;\">0.0</td><td style = \"text-align: right;\">0.0</td><td style = \"text-align: right;\">1003.7</td><td style = \"text-align: right;\">81</td><td style = \"text-align: right;\">56</td><td style = \"text-align: right;\">3</td><td style = \"text-align: right;\">96</td><td style = \"text-align: right;\">4.25</td><td style = \"text-align: right;\">351</td><td style = \"text-align: right;\">0.0</td><td style = \"text-align: right;\">0.0</td><td style = \"text-align: right;\">0.0</td><td style = \"text-align: right;\">57.6</td><td style = \"text-align: right;\">26.2</td><td style = \"text-align: right;\">1.0</td></tr><tr><td class = \"rowNumber\" style = \"font-weight: bold; text-align: right;\">11</td><td style = \"text-align: left;\">2021-09-01 00:00:00</td><td style = \"text-align: right;\">13.0</td><td style = \"text-align: right;\">11.5</td><td style = \"text-align: right;\">0.0</td><td style = \"text-align: right;\">0.0</td><td style = \"text-align: right;\">998.5</td><td style = \"text-align: right;\">100</td><td style = \"text-align: right;\">85</td><td style = \"text-align: right;\">17</td><td style = \"text-align: right;\">98</td><td style = \"text-align: right;\">4.02778</td><td style = \"text-align: right;\">354</td><td style = \"text-align: right;\">0.0</td><td style = \"text-align: right;\">0.0</td><td style = \"text-align: right;\">0.0</td><td style = \"text-align: right;\">57.6</td><td style = \"text-align: right;\">26.7</td><td style = \"text-align: right;\">1.0</td></tr><tr><td class = \"rowNumber\" style = \"font-weight: bold; text-align: right;\">12</td><td style = \"text-align: left;\">2021-09-01 00:00:00</td><td style = \"text-align: right;\">13.0</td><td style = \"text-align: right;\">12.1</td><td style = \"text-align: right;\">0.1</td><td style = \"text-align: right;\">0.0</td><td style = \"text-align: right;\">988.9</td><td style = \"text-align: right;\">100</td><td style = \"text-align: right;\">100</td><td style = \"text-align: right;\">39</td><td style = \"text-align: right;\">99</td><td style = \"text-align: right;\">3.80556</td><td style = \"text-align: right;\">360</td><td style = \"text-align: right;\">0.0</td><td style = \"text-align: right;\">0.0</td><td style = \"text-align: right;\">0.0</td><td style = \"text-align: right;\">57.6</td><td style = \"text-align: right;\">27.2</td><td style = \"text-align: right;\">1.0</td></tr><tr><td class = \"rowNumber\" style = \"font-weight: bold; text-align: right;\">13</td><td style = \"text-align: left;\">2021-09-01 00:00:00</td><td style = \"text-align: right;\">13.1</td><td style = \"text-align: right;\">12.4</td><td style = \"text-align: right;\">0.6</td><td style = \"text-align: right;\">0.0</td><td style = \"text-align: right;\">996.0</td><td style = \"text-align: right;\">100</td><td style = \"text-align: right;\">100</td><td style = \"text-align: right;\">75</td><td style = \"text-align: right;\">100</td><td style = \"text-align: right;\">3.61111</td><td style = \"text-align: right;\">2</td><td style = \"text-align: right;\">0.0</td><td style = \"text-align: right;\">0.0</td><td style = \"text-align: right;\">0.0</td><td style = \"text-align: right;\">57.6</td><td style = \"text-align: right;\">27.7</td><td style = \"text-align: right;\">1.0</td></tr><tr><td style = \"text-align: right;\">&vellip;</td><td style = \"text-align: right;\">&vellip;</td><td style = \"text-align: right;\">&vellip;</td><td style = \"text-align: right;\">&vellip;</td><td style = \"text-align: right;\">&vellip;</td><td style = \"text-align: right;\">&vellip;</td><td style = \"text-align: right;\">&vellip;</td><td style = \"text-align: right;\">&vellip;</td><td style = \"text-align: right;\">&vellip;</td><td style = \"text-align: right;\">&vellip;</td><td style = \"text-align: right;\">&vellip;</td><td style = \"text-align: right;\">&vellip;</td><td style = \"text-align: right;\">&vellip;</td><td style = \"text-align: right;\">&vellip;</td><td style = \"text-align: right;\">&vellip;</td><td style = \"text-align: right;\">&vellip;</td><td style = \"text-align: right;\">&vellip;</td><td style = \"text-align: right;\">&vellip;</td><td style = \"text-align: right;\">&vellip;</td></tr><tr><td class = \"rowNumber\" style = \"font-weight: bold; text-align: right;\">1710791</td><td style = \"text-align: left;\">2023-05-30 10:00:00</td><td style = \"text-align: right;\">11.8</td><td style = \"text-align: right;\">3.7</td><td style = \"text-align: right;\">0.0</td><td style = \"text-align: right;\">0.0</td><td style = \"text-align: right;\">1019.8</td><td style = \"text-align: right;\">33</td><td style = \"text-align: right;\">31</td><td style = \"text-align: right;\">8</td><td style = \"text-align: right;\">0</td><td style = \"text-align: right;\">6.08333</td><td style = \"text-align: right;\">327</td><td style = \"text-align: right;\">542.0</td><td style = \"text-align: right;\">375.0</td><td style = \"text-align: right;\">167.0</td><td style = \"text-align: right;\">59.7</td><td style = \"text-align: right;\">22.7</td><td style = \"text-align: right;\">637.0</td></tr><tr><td class = \"rowNumber\" style = \"font-weight: bold; text-align: right;\">1710792</td><td style = \"text-align: left;\">2023-05-30 10:00:00</td><td style = \"text-align: right;\">11.8</td><td style = \"text-align: right;\">3.7</td><td style = \"text-align: right;\">0.0</td><td style = \"text-align: right;\">0.0</td><td style = \"text-align: right;\">1019.8</td><td style = \"text-align: right;\">33</td><td style = \"text-align: right;\">31</td><td style = \"text-align: right;\">8</td><td style = \"text-align: right;\">0</td><td style = \"text-align: right;\">6.08333</td><td style = \"text-align: right;\">327</td><td style = \"text-align: right;\">542.0</td><td style = \"text-align: right;\">375.0</td><td style = \"text-align: right;\">167.0</td><td style = \"text-align: right;\">59.7</td><td style = \"text-align: right;\">23.2</td><td style = \"text-align: right;\">637.0</td></tr><tr><td class = \"rowNumber\" style = \"font-weight: bold; text-align: right;\">1710793</td><td style = \"text-align: left;\">2023-05-30 10:00:00</td><td style = \"text-align: right;\">12.1</td><td style = \"text-align: right;\">3.8</td><td style = \"text-align: right;\">0.0</td><td style = \"text-align: right;\">0.0</td><td style = \"text-align: right;\">1019.3</td><td style = \"text-align: right;\">37</td><td style = \"text-align: right;\">28</td><td style = \"text-align: right;\">19</td><td style = \"text-align: right;\">0</td><td style = \"text-align: right;\">4.30556</td><td style = \"text-align: right;\">332</td><td style = \"text-align: right;\">549.0</td><td style = \"text-align: right;\">408.0</td><td style = \"text-align: right;\">141.0</td><td style = \"text-align: right;\">59.7</td><td style = \"text-align: right;\">23.7</td><td style = \"text-align: right;\">637.0</td></tr><tr><td class = \"rowNumber\" style = \"font-weight: bold; text-align: right;\">1710794</td><td style = \"text-align: left;\">2023-05-30 10:00:00</td><td style = \"text-align: right;\">10.1</td><td style = \"text-align: right;\">6.6</td><td style = \"text-align: right;\">0.0</td><td style = \"text-align: right;\">0.0</td><td style = \"text-align: right;\">1019.3</td><td style = \"text-align: right;\">20</td><td style = \"text-align: right;\">15</td><td style = \"text-align: right;\">10</td><td style = \"text-align: right;\">0</td><td style = \"text-align: right;\">4.52778</td><td style = \"text-align: right;\">313</td><td style = \"text-align: right;\">571.0</td><td style = \"text-align: right;\">435.0</td><td style = \"text-align: right;\">136.0</td><td style = \"text-align: right;\">59.7</td><td style = \"text-align: right;\">24.2</td><td style = \"text-align: right;\">637.0</td></tr><tr><td class = \"rowNumber\" style = \"font-weight: bold; text-align: right;\">1710795</td><td style = \"text-align: left;\">2023-05-30 10:00:00</td><td style = \"text-align: right;\">11.5</td><td style = \"text-align: right;\">6.0</td><td style = \"text-align: right;\">0.1</td><td style = \"text-align: right;\">0.0</td><td style = \"text-align: right;\">1019.0</td><td style = \"text-align: right;\">29</td><td style = \"text-align: right;\">24</td><td style = \"text-align: right;\">13</td><td style = \"text-align: right;\">0</td><td style = \"text-align: right;\">3.61111</td><td style = \"text-align: right;\">304</td><td style = \"text-align: right;\">568.0</td><td style = \"text-align: right;\">425.0</td><td style = \"text-align: right;\">143.0</td><td style = \"text-align: right;\">59.7</td><td style = \"text-align: right;\">24.7</td><td style = \"text-align: right;\">637.0</td></tr><tr><td class = \"rowNumber\" style = \"font-weight: bold; text-align: right;\">1710796</td><td style = \"text-align: left;\">2023-05-30 10:00:00</td><td style = \"text-align: right;\">11.3</td><td style = \"text-align: right;\">6.5</td><td style = \"text-align: right;\">0.0</td><td style = \"text-align: right;\">0.0</td><td style = \"text-align: right;\">1018.9</td><td style = \"text-align: right;\">32</td><td style = \"text-align: right;\">25</td><td style = \"text-align: right;\">16</td><td style = \"text-align: right;\">0</td><td style = \"text-align: right;\">3.13889</td><td style = \"text-align: right;\">297</td><td style = \"text-align: right;\">558.0</td><td style = \"text-align: right;\">404.0</td><td style = \"text-align: right;\">154.0</td><td style = \"text-align: right;\">59.7</td><td style = \"text-align: right;\">25.2</td><td style = \"text-align: right;\">637.0</td></tr><tr><td class = \"rowNumber\" style = \"font-weight: bold; text-align: right;\">1710797</td><td style = \"text-align: left;\">2023-05-30 10:00:00</td><td style = \"text-align: right;\">12.0</td><td style = \"text-align: right;\">5.5</td><td style = \"text-align: right;\">0.0</td><td style = \"text-align: right;\">0.0</td><td style = \"text-align: right;\">1018.8</td><td style = \"text-align: right;\">28</td><td style = \"text-align: right;\">20</td><td style = \"text-align: right;\">17</td><td style = \"text-align: right;\">0</td><td style = \"text-align: right;\">2.44444</td><td style = \"text-align: right;\">282</td><td style = \"text-align: right;\">550.0</td><td style = \"text-align: right;\">388.0</td><td style = \"text-align: right;\">162.0</td><td style = \"text-align: right;\">59.7</td><td style = \"text-align: right;\">25.7</td><td style = \"text-align: right;\">637.0</td></tr><tr><td class = \"rowNumber\" style = \"font-weight: bold; text-align: right;\">1710798</td><td style = \"text-align: left;\">2023-05-30 10:00:00</td><td style = \"text-align: right;\">11.7</td><td style = \"text-align: right;\">4.6</td><td style = \"text-align: right;\">0.0</td><td style = \"text-align: right;\">0.0</td><td style = \"text-align: right;\">1018.9</td><td style = \"text-align: right;\">40</td><td style = \"text-align: right;\">9</td><td style = \"text-align: right;\">54</td><td style = \"text-align: right;\">0</td><td style = \"text-align: right;\">1.05556</td><td style = \"text-align: right;\">253</td><td style = \"text-align: right;\">567.0</td><td style = \"text-align: right;\">392.0</td><td style = \"text-align: right;\">175.0</td><td style = \"text-align: right;\">59.7</td><td style = \"text-align: right;\">26.2</td><td style = \"text-align: right;\">637.0</td></tr><tr><td class = \"rowNumber\" style = \"font-weight: bold; text-align: right;\">1710799</td><td style = \"text-align: left;\">2023-05-30 10:00:00</td><td style = \"text-align: right;\">12.3</td><td style = \"text-align: right;\">3.5</td><td style = \"text-align: right;\">0.0</td><td style = \"text-align: right;\">0.0</td><td style = \"text-align: right;\">1019.0</td><td style = \"text-align: right;\">46</td><td style = \"text-align: right;\">4</td><td style = \"text-align: right;\">70</td><td style = \"text-align: right;\">0</td><td style = \"text-align: right;\">0.805556</td><td style = \"text-align: right;\">263</td><td style = \"text-align: right;\">581.0</td><td style = \"text-align: right;\">407.0</td><td style = \"text-align: right;\">174.0</td><td style = \"text-align: right;\">59.7</td><td style = \"text-align: right;\">26.7</td><td style = \"text-align: right;\">637.0</td></tr><tr><td class = \"rowNumber\" style = \"font-weight: bold; text-align: right;\">1710800</td><td style = \"text-align: left;\">2023-05-30 10:00:00</td><td style = \"text-align: right;\">9.8</td><td style = \"text-align: right;\">3.0</td><td style = \"text-align: right;\">0.0</td><td style = \"text-align: right;\">0.0</td><td style = \"text-align: right;\">1019.2</td><td style = \"text-align: right;\">41</td><td style = \"text-align: right;\">4</td><td style = \"text-align: right;\">62</td><td style = \"text-align: right;\">0</td><td style = \"text-align: right;\">1.97222</td><td style = \"text-align: right;\">285</td><td style = \"text-align: right;\">609.0</td><td style = \"text-align: right;\">432.0</td><td style = \"text-align: right;\">177.0</td><td style = \"text-align: right;\">59.7</td><td style = \"text-align: right;\">27.2</td><td style = \"text-align: right;\">637.0</td></tr><tr><td class = \"rowNumber\" style = \"font-weight: bold; text-align: right;\">1710801</td><td style = \"text-align: left;\">2023-05-30 10:00:00</td><td style = \"text-align: right;\">11.7</td><td style = \"text-align: right;\">1.6</td><td style = \"text-align: right;\">0.0</td><td style = \"text-align: right;\">0.0</td><td style = \"text-align: right;\">1019.0</td><td style = \"text-align: right;\">44</td><td style = \"text-align: right;\">0</td><td style = \"text-align: right;\">73</td><td style = \"text-align: right;\">0</td><td style = \"text-align: right;\">3.5</td><td style = \"text-align: right;\">307</td><td style = \"text-align: right;\">658.0</td><td style = \"text-align: right;\">521.0</td><td style = \"text-align: right;\">137.0</td><td style = \"text-align: right;\">59.7</td><td style = \"text-align: right;\">27.7</td><td style = \"text-align: right;\">637.0</td></tr><tr><td class = \"rowNumber\" style = \"font-weight: bold; text-align: right;\">1710802</td><td style = \"text-align: left;\">2023-05-30 10:00:00</td><td style = \"text-align: right;\">12.0</td><td style = \"text-align: right;\">1.4</td><td style = \"text-align: right;\">0.0</td><td style = \"text-align: right;\">0.0</td><td style = \"text-align: right;\">1016.1</td><td style = \"text-align: right;\">38</td><td style = \"text-align: right;\">0</td><td style = \"text-align: right;\">63</td><td style = \"text-align: right;\">0</td><td style = \"text-align: right;\">3.25</td><td style = \"text-align: right;\">304</td><td style = \"text-align: right;\">672.0</td><td style = \"text-align: right;\">550.0</td><td style = \"text-align: right;\">122.0</td><td style = \"text-align: right;\">59.7</td><td style = \"text-align: right;\">28.2</td><td style = \"text-align: right;\">637.0</td></tr></tbody></table></div>"
      ],
      "text/latex": [
       "\\begin{tabular}{r|ccccccc}\n",
       "\t& datetime & temperature & dewpoint & rain & snowfall & surface\\_pressure & \\\\\n",
       "\t\\hline\n",
       "\t& String31 & Float64 & Float64 & Float64 & Float64 & Float64 & \\\\\n",
       "\t\\hline\n",
       "\t1 & 2021-09-01 00:00:00 & 14.2 & 11.6 & 0.0 & 0.0 & 1015.9 & $\\dots$ \\\\\n",
       "\t2 & 2021-09-01 00:00:00 & 13.9 & 11.5 & 0.0 & 0.0 & 1010.7 & $\\dots$ \\\\\n",
       "\t3 & 2021-09-01 00:00:00 & 14.0 & 12.5 & 0.0 & 0.0 & 1015.0 & $\\dots$ \\\\\n",
       "\t4 & 2021-09-01 00:00:00 & 14.6 & 11.5 & 0.0 & 0.0 & 1017.3 & $\\dots$ \\\\\n",
       "\t5 & 2021-09-01 00:00:00 & 15.7 & 12.9 & 0.0 & 0.0 & 1014.0 & $\\dots$ \\\\\n",
       "\t6 & 2021-09-01 00:00:00 & 16.0 & 11.4 & 0.0 & 0.0 & 1016.7 & $\\dots$ \\\\\n",
       "\t7 & 2021-09-01 00:00:00 & 12.2 & 10.5 & 0.0 & 0.0 & 1005.3 & $\\dots$ \\\\\n",
       "\t8 & 2021-09-01 00:00:00 & 12.2 & 10.5 & 0.0 & 0.0 & 1006.1 & $\\dots$ \\\\\n",
       "\t9 & 2021-09-01 00:00:00 & 12.4 & 10.6 & 0.0 & 0.0 & 1003.8 & $\\dots$ \\\\\n",
       "\t10 & 2021-09-01 00:00:00 & 12.9 & 11.0 & 0.0 & 0.0 & 1003.7 & $\\dots$ \\\\\n",
       "\t11 & 2021-09-01 00:00:00 & 13.0 & 11.5 & 0.0 & 0.0 & 998.5 & $\\dots$ \\\\\n",
       "\t12 & 2021-09-01 00:00:00 & 13.0 & 12.1 & 0.1 & 0.0 & 988.9 & $\\dots$ \\\\\n",
       "\t13 & 2021-09-01 00:00:00 & 13.1 & 12.4 & 0.6 & 0.0 & 996.0 & $\\dots$ \\\\\n",
       "\t14 & 2021-09-01 00:00:00 & 12.9 & 12.1 & 0.8 & 0.0 & 1004.5 & $\\dots$ \\\\\n",
       "\t15 & 2021-09-01 00:00:00 & 13.3 & 10.7 & 0.0 & 0.0 & 1016.2 & $\\dots$ \\\\\n",
       "\t16 & 2021-09-01 00:00:00 & 14.4 & 11.3 & 0.0 & 0.0 & 1016.2 & $\\dots$ \\\\\n",
       "\t17 & 2021-09-01 00:00:00 & 13.5 & 11.2 & 0.0 & 0.0 & 1015.3 & $\\dots$ \\\\\n",
       "\t18 & 2021-09-01 00:00:00 & 15.5 & 12.7 & 0.0 & 0.0 & 1014.6 & $\\dots$ \\\\\n",
       "\t19 & 2021-09-01 00:00:00 & 15.4 & 13.2 & 0.0 & 0.0 & 1014.2 & $\\dots$ \\\\\n",
       "\t20 & 2021-09-01 00:00:00 & 10.7 & 10.1 & 0.0 & 0.0 & 1013.8 & $\\dots$ \\\\\n",
       "\t21 & 2021-09-01 00:00:00 & 11.7 & 10.1 & 0.0 & 0.0 & 1006.7 & $\\dots$ \\\\\n",
       "\t22 & 2021-09-01 00:00:00 & 11.8 & 10.2 & 0.0 & 0.0 & 1008.2 & $\\dots$ \\\\\n",
       "\t23 & 2021-09-01 00:00:00 & 12.0 & 10.4 & 0.0 & 0.0 & 1002.5 & $\\dots$ \\\\\n",
       "\t24 & 2021-09-01 00:00:00 & 12.8 & 10.9 & 0.0 & 0.0 & 1005.8 & $\\dots$ \\\\\n",
       "\t$\\dots$ & $\\dots$ & $\\dots$ & $\\dots$ & $\\dots$ & $\\dots$ & $\\dots$ &  \\\\\n",
       "\\end{tabular}\n"
      ],
      "text/plain": [
       "\u001b[1m1710802×18 DataFrame\u001b[0m\n",
       "\u001b[1m     Row \u001b[0m│\u001b[1m datetime            \u001b[0m\u001b[1m temperature \u001b[0m\u001b[1m dewpoint \u001b[0m\u001b[1m rain    \u001b[0m\u001b[1m snowfall \u001b[0m\u001b[1m surf\u001b[0m ⋯\n",
       "         │\u001b[90m String31            \u001b[0m\u001b[90m Float64     \u001b[0m\u001b[90m Float64  \u001b[0m\u001b[90m Float64 \u001b[0m\u001b[90m Float64  \u001b[0m\u001b[90m Floa\u001b[0m ⋯\n",
       "─────────┼──────────────────────────────────────────────────────────────────────\n",
       "       1 │ 2021-09-01 00:00:00         14.2      11.6      0.0       0.0       ⋯\n",
       "       2 │ 2021-09-01 00:00:00         13.9      11.5      0.0       0.0\n",
       "       3 │ 2021-09-01 00:00:00         14.0      12.5      0.0       0.0\n",
       "       4 │ 2021-09-01 00:00:00         14.6      11.5      0.0       0.0\n",
       "       5 │ 2021-09-01 00:00:00         15.7      12.9      0.0       0.0       ⋯\n",
       "       6 │ 2021-09-01 00:00:00         16.0      11.4      0.0       0.0\n",
       "       7 │ 2021-09-01 00:00:00         12.2      10.5      0.0       0.0\n",
       "       8 │ 2021-09-01 00:00:00         12.2      10.5      0.0       0.0\n",
       "    ⋮    │          ⋮                ⋮          ⋮         ⋮        ⋮           ⋱\n",
       " 1710796 │ 2023-05-30 10:00:00         11.3       6.5      0.0       0.0       ⋯\n",
       " 1710797 │ 2023-05-30 10:00:00         12.0       5.5      0.0       0.0\n",
       " 1710798 │ 2023-05-30 10:00:00         11.7       4.6      0.0       0.0\n",
       " 1710799 │ 2023-05-30 10:00:00         12.3       3.5      0.0       0.0\n",
       " 1710800 │ 2023-05-30 10:00:00          9.8       3.0      0.0       0.0       ⋯\n",
       " 1710801 │ 2023-05-30 10:00:00         11.7       1.6      0.0       0.0\n",
       " 1710802 │ 2023-05-30 10:00:00         12.0       1.4      0.0       0.0\n",
       "\u001b[36m                                             13 columns and 1710787 rows omitted\u001b[0m"
      ]
     },
     "metadata": {},
     "output_type": "display_data"
    }
   ],
   "source": [
    "dfs[\"historical_weather\"]"
   ]
  },
  {
   "cell_type": "code",
   "execution_count": 70,
   "metadata": {},
   "outputs": [
    {
     "data": {
      "text/html": [
       "<div><div style = \"float: left;\"><span>15286×13 DataFrame</span></div><div style = \"float: right;\"><span style = \"font-style: italic;\">15261 rows omitted</span></div><div style = \"clear: both;\"></div></div><div class = \"data-frame\" style = \"overflow-x: scroll;\"><table class = \"data-frame\" style = \"margin-bottom: 6px;\"><thead><tr class = \"header\"><th class = \"rowNumber\" style = \"font-weight: bold; text-align: right;\">Row</th><th style = \"text-align: left;\">datetime</th><th style = \"text-align: left;\">euros_per_mwh</th><th style = \"text-align: left;\">origin_date</th><th style = \"text-align: left;\">data_block_id</th><th style = \"text-align: left;\">date</th><th style = \"text-align: left;\">year</th><th style = \"text-align: left;\">quarter</th><th style = \"text-align: left;\">month</th><th style = \"text-align: left;\">day_of_year</th><th style = \"text-align: left;\">day_of_month</th><th style = \"text-align: left;\">day_of_week</th><th style = \"text-align: left;\">week</th><th style = \"text-align: left;\">hour</th></tr><tr class = \"subheader headerLastRow\"><th class = \"rowNumber\" style = \"font-weight: bold; text-align: right;\"></th><th title = \"DateTime\" style = \"text-align: left;\">DateTime</th><th title = \"Float64\" style = \"text-align: left;\">Float64</th><th title = \"String31\" style = \"text-align: left;\">String31</th><th title = \"Int64\" style = \"text-align: left;\">Int64</th><th title = \"Date\" style = \"text-align: left;\">Date</th><th title = \"Int64\" style = \"text-align: left;\">Int64</th><th title = \"Int64\" style = \"text-align: left;\">Int64</th><th title = \"Int64\" style = \"text-align: left;\">Int64</th><th title = \"Int64\" style = \"text-align: left;\">Int64</th><th title = \"Int64\" style = \"text-align: left;\">Int64</th><th title = \"Int64\" style = \"text-align: left;\">Int64</th><th title = \"Int64\" style = \"text-align: left;\">Int64</th><th title = \"Int64\" style = \"text-align: left;\">Int64</th></tr></thead><tbody><tr><td class = \"rowNumber\" style = \"font-weight: bold; text-align: right;\">1</td><td style = \"text-align: left;\">2021-09-01T00:00:00</td><td style = \"text-align: right;\">92.51</td><td style = \"text-align: left;\">2021-08-31 00:00:00</td><td style = \"text-align: right;\">1</td><td style = \"text-align: left;\">2021-09-01</td><td style = \"text-align: right;\">2021</td><td style = \"text-align: right;\">3</td><td style = \"text-align: right;\">9</td><td style = \"text-align: right;\">244</td><td style = \"text-align: right;\">1</td><td style = \"text-align: right;\">3</td><td style = \"text-align: right;\">35</td><td style = \"text-align: right;\">0</td></tr><tr><td class = \"rowNumber\" style = \"font-weight: bold; text-align: right;\">2</td><td style = \"text-align: left;\">2021-09-01T01:00:00</td><td style = \"text-align: right;\">88.9</td><td style = \"text-align: left;\">2021-08-31 01:00:00</td><td style = \"text-align: right;\">1</td><td style = \"text-align: left;\">2021-09-01</td><td style = \"text-align: right;\">2021</td><td style = \"text-align: right;\">3</td><td style = \"text-align: right;\">9</td><td style = \"text-align: right;\">244</td><td style = \"text-align: right;\">1</td><td style = \"text-align: right;\">3</td><td style = \"text-align: right;\">35</td><td style = \"text-align: right;\">1</td></tr><tr><td class = \"rowNumber\" style = \"font-weight: bold; text-align: right;\">3</td><td style = \"text-align: left;\">2021-09-01T02:00:00</td><td style = \"text-align: right;\">87.35</td><td style = \"text-align: left;\">2021-08-31 02:00:00</td><td style = \"text-align: right;\">1</td><td style = \"text-align: left;\">2021-09-01</td><td style = \"text-align: right;\">2021</td><td style = \"text-align: right;\">3</td><td style = \"text-align: right;\">9</td><td style = \"text-align: right;\">244</td><td style = \"text-align: right;\">1</td><td style = \"text-align: right;\">3</td><td style = \"text-align: right;\">35</td><td style = \"text-align: right;\">2</td></tr><tr><td class = \"rowNumber\" style = \"font-weight: bold; text-align: right;\">4</td><td style = \"text-align: left;\">2021-09-01T03:00:00</td><td style = \"text-align: right;\">86.88</td><td style = \"text-align: left;\">2021-08-31 03:00:00</td><td style = \"text-align: right;\">1</td><td style = \"text-align: left;\">2021-09-01</td><td style = \"text-align: right;\">2021</td><td style = \"text-align: right;\">3</td><td style = \"text-align: right;\">9</td><td style = \"text-align: right;\">244</td><td style = \"text-align: right;\">1</td><td style = \"text-align: right;\">3</td><td style = \"text-align: right;\">35</td><td style = \"text-align: right;\">3</td></tr><tr><td class = \"rowNumber\" style = \"font-weight: bold; text-align: right;\">5</td><td style = \"text-align: left;\">2021-09-01T04:00:00</td><td style = \"text-align: right;\">88.43</td><td style = \"text-align: left;\">2021-08-31 04:00:00</td><td style = \"text-align: right;\">1</td><td style = \"text-align: left;\">2021-09-01</td><td style = \"text-align: right;\">2021</td><td style = \"text-align: right;\">3</td><td style = \"text-align: right;\">9</td><td style = \"text-align: right;\">244</td><td style = \"text-align: right;\">1</td><td style = \"text-align: right;\">3</td><td style = \"text-align: right;\">35</td><td style = \"text-align: right;\">4</td></tr><tr><td class = \"rowNumber\" style = \"font-weight: bold; text-align: right;\">6</td><td style = \"text-align: left;\">2021-09-01T05:00:00</td><td style = \"text-align: right;\">93.58</td><td style = \"text-align: left;\">2021-08-31 05:00:00</td><td style = \"text-align: right;\">1</td><td style = \"text-align: left;\">2021-09-01</td><td style = \"text-align: right;\">2021</td><td style = \"text-align: right;\">3</td><td style = \"text-align: right;\">9</td><td style = \"text-align: right;\">244</td><td style = \"text-align: right;\">1</td><td style = \"text-align: right;\">3</td><td style = \"text-align: right;\">35</td><td style = \"text-align: right;\">5</td></tr><tr><td class = \"rowNumber\" style = \"font-weight: bold; text-align: right;\">7</td><td style = \"text-align: left;\">2021-09-01T06:00:00</td><td style = \"text-align: right;\">118.7</td><td style = \"text-align: left;\">2021-08-31 06:00:00</td><td style = \"text-align: right;\">1</td><td style = \"text-align: left;\">2021-09-01</td><td style = \"text-align: right;\">2021</td><td style = \"text-align: right;\">3</td><td style = \"text-align: right;\">9</td><td style = \"text-align: right;\">244</td><td style = \"text-align: right;\">1</td><td style = \"text-align: right;\">3</td><td style = \"text-align: right;\">35</td><td style = \"text-align: right;\">6</td></tr><tr><td class = \"rowNumber\" style = \"font-weight: bold; text-align: right;\">8</td><td style = \"text-align: left;\">2021-09-01T07:00:00</td><td style = \"text-align: right;\">135.44</td><td style = \"text-align: left;\">2021-08-31 07:00:00</td><td style = \"text-align: right;\">1</td><td style = \"text-align: left;\">2021-09-01</td><td style = \"text-align: right;\">2021</td><td style = \"text-align: right;\">3</td><td style = \"text-align: right;\">9</td><td style = \"text-align: right;\">244</td><td style = \"text-align: right;\">1</td><td style = \"text-align: right;\">3</td><td style = \"text-align: right;\">35</td><td style = \"text-align: right;\">7</td></tr><tr><td class = \"rowNumber\" style = \"font-weight: bold; text-align: right;\">9</td><td style = \"text-align: left;\">2021-09-01T08:00:00</td><td style = \"text-align: right;\">140.72</td><td style = \"text-align: left;\">2021-08-31 08:00:00</td><td style = \"text-align: right;\">1</td><td style = \"text-align: left;\">2021-09-01</td><td style = \"text-align: right;\">2021</td><td style = \"text-align: right;\">3</td><td style = \"text-align: right;\">9</td><td style = \"text-align: right;\">244</td><td style = \"text-align: right;\">1</td><td style = \"text-align: right;\">3</td><td style = \"text-align: right;\">35</td><td style = \"text-align: right;\">8</td></tr><tr><td class = \"rowNumber\" style = \"font-weight: bold; text-align: right;\">10</td><td style = \"text-align: left;\">2021-09-01T09:00:00</td><td style = \"text-align: right;\">130.0</td><td style = \"text-align: left;\">2021-08-31 09:00:00</td><td style = \"text-align: right;\">1</td><td style = \"text-align: left;\">2021-09-01</td><td style = \"text-align: right;\">2021</td><td style = \"text-align: right;\">3</td><td style = \"text-align: right;\">9</td><td style = \"text-align: right;\">244</td><td style = \"text-align: right;\">1</td><td style = \"text-align: right;\">3</td><td style = \"text-align: right;\">35</td><td style = \"text-align: right;\">9</td></tr><tr><td class = \"rowNumber\" style = \"font-weight: bold; text-align: right;\">11</td><td style = \"text-align: left;\">2021-09-01T10:00:00</td><td style = \"text-align: right;\">116.99</td><td style = \"text-align: left;\">2021-08-31 10:00:00</td><td style = \"text-align: right;\">1</td><td style = \"text-align: left;\">2021-09-01</td><td style = \"text-align: right;\">2021</td><td style = \"text-align: right;\">3</td><td style = \"text-align: right;\">9</td><td style = \"text-align: right;\">244</td><td style = \"text-align: right;\">1</td><td style = \"text-align: right;\">3</td><td style = \"text-align: right;\">35</td><td style = \"text-align: right;\">10</td></tr><tr><td class = \"rowNumber\" style = \"font-weight: bold; text-align: right;\">12</td><td style = \"text-align: left;\">2021-09-01T11:00:00</td><td style = \"text-align: right;\">109.75</td><td style = \"text-align: left;\">2021-08-31 11:00:00</td><td style = \"text-align: right;\">1</td><td style = \"text-align: left;\">2021-09-01</td><td style = \"text-align: right;\">2021</td><td style = \"text-align: right;\">3</td><td style = \"text-align: right;\">9</td><td style = \"text-align: right;\">244</td><td style = \"text-align: right;\">1</td><td style = \"text-align: right;\">3</td><td style = \"text-align: right;\">35</td><td style = \"text-align: right;\">11</td></tr><tr><td class = \"rowNumber\" style = \"font-weight: bold; text-align: right;\">13</td><td style = \"text-align: left;\">2021-09-01T12:00:00</td><td style = \"text-align: right;\">103.88</td><td style = \"text-align: left;\">2021-08-31 12:00:00</td><td style = \"text-align: right;\">1</td><td style = \"text-align: left;\">2021-09-01</td><td style = \"text-align: right;\">2021</td><td style = \"text-align: right;\">3</td><td style = \"text-align: right;\">9</td><td style = \"text-align: right;\">244</td><td style = \"text-align: right;\">1</td><td style = \"text-align: right;\">3</td><td style = \"text-align: right;\">35</td><td style = \"text-align: right;\">12</td></tr><tr><td style = \"text-align: right;\">&vellip;</td><td style = \"text-align: right;\">&vellip;</td><td style = \"text-align: right;\">&vellip;</td><td style = \"text-align: right;\">&vellip;</td><td style = \"text-align: right;\">&vellip;</td><td style = \"text-align: right;\">&vellip;</td><td style = \"text-align: right;\">&vellip;</td><td style = \"text-align: right;\">&vellip;</td><td style = \"text-align: right;\">&vellip;</td><td style = \"text-align: right;\">&vellip;</td><td style = \"text-align: right;\">&vellip;</td><td style = \"text-align: right;\">&vellip;</td><td style = \"text-align: right;\">&vellip;</td><td style = \"text-align: right;\">&vellip;</td></tr><tr><td class = \"rowNumber\" style = \"font-weight: bold; text-align: right;\">15275</td><td style = \"text-align: left;\">2023-05-30T12:00:00</td><td style = \"text-align: right;\">64.49</td><td style = \"text-align: left;\">2023-05-29 12:00:00</td><td style = \"text-align: right;\">637</td><td style = \"text-align: left;\">2023-05-30</td><td style = \"text-align: right;\">2023</td><td style = \"text-align: right;\">2</td><td style = \"text-align: right;\">5</td><td style = \"text-align: right;\">150</td><td style = \"text-align: right;\">30</td><td style = \"text-align: right;\">2</td><td style = \"text-align: right;\">22</td><td style = \"text-align: right;\">12</td></tr><tr><td class = \"rowNumber\" style = \"font-weight: bold; text-align: right;\">15276</td><td style = \"text-align: left;\">2023-05-30T13:00:00</td><td style = \"text-align: right;\">57.36</td><td style = \"text-align: left;\">2023-05-29 13:00:00</td><td style = \"text-align: right;\">637</td><td style = \"text-align: left;\">2023-05-30</td><td style = \"text-align: right;\">2023</td><td style = \"text-align: right;\">2</td><td style = \"text-align: right;\">5</td><td style = \"text-align: right;\">150</td><td style = \"text-align: right;\">30</td><td style = \"text-align: right;\">2</td><td style = \"text-align: right;\">22</td><td style = \"text-align: right;\">13</td></tr><tr><td class = \"rowNumber\" style = \"font-weight: bold; text-align: right;\">15277</td><td style = \"text-align: left;\">2023-05-30T14:00:00</td><td style = \"text-align: right;\">19.63</td><td style = \"text-align: left;\">2023-05-29 14:00:00</td><td style = \"text-align: right;\">637</td><td style = \"text-align: left;\">2023-05-30</td><td style = \"text-align: right;\">2023</td><td style = \"text-align: right;\">2</td><td style = \"text-align: right;\">5</td><td style = \"text-align: right;\">150</td><td style = \"text-align: right;\">30</td><td style = \"text-align: right;\">2</td><td style = \"text-align: right;\">22</td><td style = \"text-align: right;\">14</td></tr><tr><td class = \"rowNumber\" style = \"font-weight: bold; text-align: right;\">15278</td><td style = \"text-align: left;\">2023-05-30T15:00:00</td><td style = \"text-align: right;\">13.1</td><td style = \"text-align: left;\">2023-05-29 15:00:00</td><td style = \"text-align: right;\">637</td><td style = \"text-align: left;\">2023-05-30</td><td style = \"text-align: right;\">2023</td><td style = \"text-align: right;\">2</td><td style = \"text-align: right;\">5</td><td style = \"text-align: right;\">150</td><td style = \"text-align: right;\">30</td><td style = \"text-align: right;\">2</td><td style = \"text-align: right;\">22</td><td style = \"text-align: right;\">15</td></tr><tr><td class = \"rowNumber\" style = \"font-weight: bold; text-align: right;\">15279</td><td style = \"text-align: left;\">2023-05-30T16:00:00</td><td style = \"text-align: right;\">11.92</td><td style = \"text-align: left;\">2023-05-29 16:00:00</td><td style = \"text-align: right;\">637</td><td style = \"text-align: left;\">2023-05-30</td><td style = \"text-align: right;\">2023</td><td style = \"text-align: right;\">2</td><td style = \"text-align: right;\">5</td><td style = \"text-align: right;\">150</td><td style = \"text-align: right;\">30</td><td style = \"text-align: right;\">2</td><td style = \"text-align: right;\">22</td><td style = \"text-align: right;\">16</td></tr><tr><td class = \"rowNumber\" style = \"font-weight: bold; text-align: right;\">15280</td><td style = \"text-align: left;\">2023-05-30T17:00:00</td><td style = \"text-align: right;\">9.55</td><td style = \"text-align: left;\">2023-05-29 17:00:00</td><td style = \"text-align: right;\">637</td><td style = \"text-align: left;\">2023-05-30</td><td style = \"text-align: right;\">2023</td><td style = \"text-align: right;\">2</td><td style = \"text-align: right;\">5</td><td style = \"text-align: right;\">150</td><td style = \"text-align: right;\">30</td><td style = \"text-align: right;\">2</td><td style = \"text-align: right;\">22</td><td style = \"text-align: right;\">17</td></tr><tr><td class = \"rowNumber\" style = \"font-weight: bold; text-align: right;\">15281</td><td style = \"text-align: left;\">2023-05-30T18:00:00</td><td style = \"text-align: right;\">82.1</td><td style = \"text-align: left;\">2023-05-29 18:00:00</td><td style = \"text-align: right;\">637</td><td style = \"text-align: left;\">2023-05-30</td><td style = \"text-align: right;\">2023</td><td style = \"text-align: right;\">2</td><td style = \"text-align: right;\">5</td><td style = \"text-align: right;\">150</td><td style = \"text-align: right;\">30</td><td style = \"text-align: right;\">2</td><td style = \"text-align: right;\">22</td><td style = \"text-align: right;\">18</td></tr><tr><td class = \"rowNumber\" style = \"font-weight: bold; text-align: right;\">15282</td><td style = \"text-align: left;\">2023-05-30T19:00:00</td><td style = \"text-align: right;\">82.1</td><td style = \"text-align: left;\">2023-05-29 19:00:00</td><td style = \"text-align: right;\">637</td><td style = \"text-align: left;\">2023-05-30</td><td style = \"text-align: right;\">2023</td><td style = \"text-align: right;\">2</td><td style = \"text-align: right;\">5</td><td style = \"text-align: right;\">150</td><td style = \"text-align: right;\">30</td><td style = \"text-align: right;\">2</td><td style = \"text-align: right;\">22</td><td style = \"text-align: right;\">19</td></tr><tr><td class = \"rowNumber\" style = \"font-weight: bold; text-align: right;\">15283</td><td style = \"text-align: left;\">2023-05-30T20:00:00</td><td style = \"text-align: right;\">150.85</td><td style = \"text-align: left;\">2023-05-29 20:00:00</td><td style = \"text-align: right;\">637</td><td style = \"text-align: left;\">2023-05-30</td><td style = \"text-align: right;\">2023</td><td style = \"text-align: right;\">2</td><td style = \"text-align: right;\">5</td><td style = \"text-align: right;\">150</td><td style = \"text-align: right;\">30</td><td style = \"text-align: right;\">2</td><td style = \"text-align: right;\">22</td><td style = \"text-align: right;\">20</td></tr><tr><td class = \"rowNumber\" style = \"font-weight: bold; text-align: right;\">15284</td><td style = \"text-align: left;\">2023-05-30T21:00:00</td><td style = \"text-align: right;\">82.1</td><td style = \"text-align: left;\">2023-05-29 21:00:00</td><td style = \"text-align: right;\">637</td><td style = \"text-align: left;\">2023-05-30</td><td style = \"text-align: right;\">2023</td><td style = \"text-align: right;\">2</td><td style = \"text-align: right;\">5</td><td style = \"text-align: right;\">150</td><td style = \"text-align: right;\">30</td><td style = \"text-align: right;\">2</td><td style = \"text-align: right;\">22</td><td style = \"text-align: right;\">21</td></tr><tr><td class = \"rowNumber\" style = \"font-weight: bold; text-align: right;\">15285</td><td style = \"text-align: left;\">2023-05-30T22:00:00</td><td style = \"text-align: right;\">82.09</td><td style = \"text-align: left;\">2023-05-29 22:00:00</td><td style = \"text-align: right;\">637</td><td style = \"text-align: left;\">2023-05-30</td><td style = \"text-align: right;\">2023</td><td style = \"text-align: right;\">2</td><td style = \"text-align: right;\">5</td><td style = \"text-align: right;\">150</td><td style = \"text-align: right;\">30</td><td style = \"text-align: right;\">2</td><td style = \"text-align: right;\">22</td><td style = \"text-align: right;\">22</td></tr><tr><td class = \"rowNumber\" style = \"font-weight: bold; text-align: right;\">15286</td><td style = \"text-align: left;\">2023-05-30T23:00:00</td><td style = \"text-align: right;\">-1.29</td><td style = \"text-align: left;\">2023-05-29 23:00:00</td><td style = \"text-align: right;\">637</td><td style = \"text-align: left;\">2023-05-30</td><td style = \"text-align: right;\">2023</td><td style = \"text-align: right;\">2</td><td style = \"text-align: right;\">5</td><td style = \"text-align: right;\">150</td><td style = \"text-align: right;\">30</td><td style = \"text-align: right;\">2</td><td style = \"text-align: right;\">22</td><td style = \"text-align: right;\">23</td></tr></tbody></table></div>"
      ],
      "text/latex": [
       "\\begin{tabular}{r|cccccc}\n",
       "\t& datetime & euros\\_per\\_mwh & origin\\_date & data\\_block\\_id & date & \\\\\n",
       "\t\\hline\n",
       "\t& DateTime & Float64 & String31 & Int64 & Date & \\\\\n",
       "\t\\hline\n",
       "\t1 & 2021-09-01T00:00:00 & 92.51 & 2021-08-31 00:00:00 & 1 & 2021-09-01 & $\\dots$ \\\\\n",
       "\t2 & 2021-09-01T01:00:00 & 88.9 & 2021-08-31 01:00:00 & 1 & 2021-09-01 & $\\dots$ \\\\\n",
       "\t3 & 2021-09-01T02:00:00 & 87.35 & 2021-08-31 02:00:00 & 1 & 2021-09-01 & $\\dots$ \\\\\n",
       "\t4 & 2021-09-01T03:00:00 & 86.88 & 2021-08-31 03:00:00 & 1 & 2021-09-01 & $\\dots$ \\\\\n",
       "\t5 & 2021-09-01T04:00:00 & 88.43 & 2021-08-31 04:00:00 & 1 & 2021-09-01 & $\\dots$ \\\\\n",
       "\t6 & 2021-09-01T05:00:00 & 93.58 & 2021-08-31 05:00:00 & 1 & 2021-09-01 & $\\dots$ \\\\\n",
       "\t7 & 2021-09-01T06:00:00 & 118.7 & 2021-08-31 06:00:00 & 1 & 2021-09-01 & $\\dots$ \\\\\n",
       "\t8 & 2021-09-01T07:00:00 & 135.44 & 2021-08-31 07:00:00 & 1 & 2021-09-01 & $\\dots$ \\\\\n",
       "\t9 & 2021-09-01T08:00:00 & 140.72 & 2021-08-31 08:00:00 & 1 & 2021-09-01 & $\\dots$ \\\\\n",
       "\t10 & 2021-09-01T09:00:00 & 130.0 & 2021-08-31 09:00:00 & 1 & 2021-09-01 & $\\dots$ \\\\\n",
       "\t11 & 2021-09-01T10:00:00 & 116.99 & 2021-08-31 10:00:00 & 1 & 2021-09-01 & $\\dots$ \\\\\n",
       "\t12 & 2021-09-01T11:00:00 & 109.75 & 2021-08-31 11:00:00 & 1 & 2021-09-01 & $\\dots$ \\\\\n",
       "\t13 & 2021-09-01T12:00:00 & 103.88 & 2021-08-31 12:00:00 & 1 & 2021-09-01 & $\\dots$ \\\\\n",
       "\t14 & 2021-09-01T13:00:00 & 98.0 & 2021-08-31 13:00:00 & 1 & 2021-09-01 & $\\dots$ \\\\\n",
       "\t15 & 2021-09-01T14:00:00 & 94.98 & 2021-08-31 14:00:00 & 1 & 2021-09-01 & $\\dots$ \\\\\n",
       "\t16 & 2021-09-01T15:00:00 & 95.06 & 2021-08-31 15:00:00 & 1 & 2021-09-01 & $\\dots$ \\\\\n",
       "\t17 & 2021-09-01T16:00:00 & 97.61 & 2021-08-31 16:00:00 & 1 & 2021-09-01 & $\\dots$ \\\\\n",
       "\t18 & 2021-09-01T17:00:00 & 116.12 & 2021-08-31 17:00:00 & 1 & 2021-09-01 & $\\dots$ \\\\\n",
       "\t19 & 2021-09-01T18:00:00 & 131.0 & 2021-08-31 18:00:00 & 1 & 2021-09-01 & $\\dots$ \\\\\n",
       "\t20 & 2021-09-01T19:00:00 & 145.91 & 2021-08-31 19:00:00 & 1 & 2021-09-01 & $\\dots$ \\\\\n",
       "\t21 & 2021-09-01T20:00:00 & 144.93 & 2021-08-31 20:00:00 & 1 & 2021-09-01 & $\\dots$ \\\\\n",
       "\t22 & 2021-09-01T21:00:00 & 125.76 & 2021-08-31 21:00:00 & 1 & 2021-09-01 & $\\dots$ \\\\\n",
       "\t23 & 2021-09-01T22:00:00 & 114.39 & 2021-08-31 22:00:00 & 1 & 2021-09-01 & $\\dots$ \\\\\n",
       "\t24 & 2021-09-01T23:00:00 & 94.32 & 2021-08-31 23:00:00 & 1 & 2021-09-01 & $\\dots$ \\\\\n",
       "\t$\\dots$ & $\\dots$ & $\\dots$ & $\\dots$ & $\\dots$ & $\\dots$ &  \\\\\n",
       "\\end{tabular}\n"
      ],
      "text/plain": [
       "\u001b[1m15286×13 DataFrame\u001b[0m\n",
       "\u001b[1m   Row \u001b[0m│\u001b[1m datetime            \u001b[0m\u001b[1m euros_per_mwh \u001b[0m\u001b[1m origin_date         \u001b[0m\u001b[1m data_block_i\u001b[0m ⋯\n",
       "       │\u001b[90m DateTime            \u001b[0m\u001b[90m Float64       \u001b[0m\u001b[90m String31            \u001b[0m\u001b[90m Int64       \u001b[0m ⋯\n",
       "───────┼────────────────────────────────────────────────────────────────────────\n",
       "     1 │ 2021-09-01T00:00:00          92.51  2021-08-31 00:00:00               ⋯\n",
       "     2 │ 2021-09-01T01:00:00          88.9   2021-08-31 01:00:00\n",
       "     3 │ 2021-09-01T02:00:00          87.35  2021-08-31 02:00:00\n",
       "     4 │ 2021-09-01T03:00:00          86.88  2021-08-31 03:00:00\n",
       "     5 │ 2021-09-01T04:00:00          88.43  2021-08-31 04:00:00               ⋯\n",
       "     6 │ 2021-09-01T05:00:00          93.58  2021-08-31 05:00:00\n",
       "     7 │ 2021-09-01T06:00:00         118.7   2021-08-31 06:00:00\n",
       "     8 │ 2021-09-01T07:00:00         135.44  2021-08-31 07:00:00\n",
       "   ⋮   │          ⋮                 ⋮                 ⋮                 ⋮      ⋱\n",
       " 15280 │ 2023-05-30T17:00:00           9.55  2023-05-29 17:00:00            63 ⋯\n",
       " 15281 │ 2023-05-30T18:00:00          82.1   2023-05-29 18:00:00            63\n",
       " 15282 │ 2023-05-30T19:00:00          82.1   2023-05-29 19:00:00            63\n",
       " 15283 │ 2023-05-30T20:00:00         150.85  2023-05-29 20:00:00            63\n",
       " 15284 │ 2023-05-30T21:00:00          82.1   2023-05-29 21:00:00            63 ⋯\n",
       " 15285 │ 2023-05-30T22:00:00          82.09  2023-05-29 22:00:00            63\n",
       " 15286 │ 2023-05-30T23:00:00          -1.29  2023-05-29 23:00:00            63\n",
       "\u001b[36m                                               10 columns and 15271 rows omitted\u001b[0m"
      ]
     },
     "metadata": {},
     "output_type": "display_data"
    }
   ],
   "source": [
    "as = rename(\n",
    "    dfs[\"electricity_prices\"],\n",
    "    :forecast_date => :datetime\n",
    ");\n",
    "\n",
    "formato = DateFormat(\"yyyy-mm-dd HH:MM:SS\");\n",
    "\n",
    "as.datetime = DateTime.(as.datetime, formato);\n",
    "as.date = Date.(as.datetime)\n",
    "as.year = year.(as.datetime)\n",
    "as.quarter = quarterofyear.(as.datetime)\n",
    "as.month = month.(as.datetime)\n",
    "as.day_of_year = dayofyear.(as.datetime)\n",
    "as.day_of_month = dayofmonth.(as.datetime)\n",
    "as.day_of_week = dayofweek.(as.datetime)\n",
    "as.week = week.(as.datetime)\n",
    "as.hour = hour.(as.datetime)\n",
    "\n",
    "as"
   ]
  },
  {
   "cell_type": "code",
   "execution_count": 64,
   "metadata": {},
   "outputs": [
    {
     "data": {
      "text/html": [
       "<div><div style = \"float: left;\"><span>637×5 DataFrame</span></div><div style = \"float: right;\"><span style = \"font-style: italic;\">612 rows omitted</span></div><div style = \"clear: both;\"></div></div><div class = \"data-frame\" style = \"overflow-x: scroll;\"><table class = \"data-frame\" style = \"margin-bottom: 6px;\"><thead><tr class = \"header\"><th class = \"rowNumber\" style = \"font-weight: bold; text-align: right;\">Row</th><th style = \"text-align: left;\">forecast_date</th><th style = \"text-align: left;\">lowest_price_per_mwh</th><th style = \"text-align: left;\">highest_price_per_mwh</th><th style = \"text-align: left;\">origin_date</th><th style = \"text-align: left;\">data_block_id</th></tr><tr class = \"subheader headerLastRow\"><th class = \"rowNumber\" style = \"font-weight: bold; text-align: right;\"></th><th title = \"DateTime\" style = \"text-align: left;\">DateTime</th><th title = \"Float64\" style = \"text-align: left;\">Float64</th><th title = \"Float64\" style = \"text-align: left;\">Float64</th><th title = \"Date\" style = \"text-align: left;\">Date</th><th title = \"Int64\" style = \"text-align: left;\">Int64</th></tr></thead><tbody><tr><td class = \"rowNumber\" style = \"font-weight: bold; text-align: right;\">1</td><td style = \"text-align: left;\">2021-09-01T00:00:00</td><td style = \"text-align: right;\">45.23</td><td style = \"text-align: right;\">46.32</td><td style = \"text-align: left;\">2021-08-31</td><td style = \"text-align: right;\">1</td></tr><tr><td class = \"rowNumber\" style = \"font-weight: bold; text-align: right;\">2</td><td style = \"text-align: left;\">2021-09-02T00:00:00</td><td style = \"text-align: right;\">45.62</td><td style = \"text-align: right;\">46.29</td><td style = \"text-align: left;\">2021-09-01</td><td style = \"text-align: right;\">2</td></tr><tr><td class = \"rowNumber\" style = \"font-weight: bold; text-align: right;\">3</td><td style = \"text-align: left;\">2021-09-03T00:00:00</td><td style = \"text-align: right;\">45.85</td><td style = \"text-align: right;\">46.4</td><td style = \"text-align: left;\">2021-09-02</td><td style = \"text-align: right;\">3</td></tr><tr><td class = \"rowNumber\" style = \"font-weight: bold; text-align: right;\">4</td><td style = \"text-align: left;\">2021-09-04T00:00:00</td><td style = \"text-align: right;\">46.3</td><td style = \"text-align: right;\">46.8</td><td style = \"text-align: left;\">2021-09-03</td><td style = \"text-align: right;\">4</td></tr><tr><td class = \"rowNumber\" style = \"font-weight: bold; text-align: right;\">5</td><td style = \"text-align: left;\">2021-09-05T00:00:00</td><td style = \"text-align: right;\">46.3</td><td style = \"text-align: right;\">46.58</td><td style = \"text-align: left;\">2021-09-04</td><td style = \"text-align: right;\">5</td></tr><tr><td class = \"rowNumber\" style = \"font-weight: bold; text-align: right;\">6</td><td style = \"text-align: left;\">2021-09-06T00:00:00</td><td style = \"text-align: right;\">46.17</td><td style = \"text-align: right;\">46.95</td><td style = \"text-align: left;\">2021-09-05</td><td style = \"text-align: right;\">6</td></tr><tr><td class = \"rowNumber\" style = \"font-weight: bold; text-align: right;\">7</td><td style = \"text-align: left;\">2021-09-07T00:00:00</td><td style = \"text-align: right;\">46.35</td><td style = \"text-align: right;\">47.6</td><td style = \"text-align: left;\">2021-09-06</td><td style = \"text-align: right;\">7</td></tr><tr><td class = \"rowNumber\" style = \"font-weight: bold; text-align: right;\">8</td><td style = \"text-align: left;\">2021-09-08T00:00:00</td><td style = \"text-align: right;\">46.4</td><td style = \"text-align: right;\">47.64</td><td style = \"text-align: left;\">2021-09-07</td><td style = \"text-align: right;\">8</td></tr><tr><td class = \"rowNumber\" style = \"font-weight: bold; text-align: right;\">9</td><td style = \"text-align: left;\">2021-09-09T00:00:00</td><td style = \"text-align: right;\">44.96</td><td style = \"text-align: right;\">47.72</td><td style = \"text-align: left;\">2021-09-08</td><td style = \"text-align: right;\">9</td></tr><tr><td class = \"rowNumber\" style = \"font-weight: bold; text-align: right;\">10</td><td style = \"text-align: left;\">2021-09-10T00:00:00</td><td style = \"text-align: right;\">47.82</td><td style = \"text-align: right;\">48.29</td><td style = \"text-align: left;\">2021-09-09</td><td style = \"text-align: right;\">10</td></tr><tr><td class = \"rowNumber\" style = \"font-weight: bold; text-align: right;\">11</td><td style = \"text-align: left;\">2021-09-11T00:00:00</td><td style = \"text-align: right;\">47.6</td><td style = \"text-align: right;\">47.9</td><td style = \"text-align: left;\">2021-09-10</td><td style = \"text-align: right;\">11</td></tr><tr><td class = \"rowNumber\" style = \"font-weight: bold; text-align: right;\">12</td><td style = \"text-align: left;\">2021-09-12T00:00:00</td><td style = \"text-align: right;\">46.5</td><td style = \"text-align: right;\">47.62</td><td style = \"text-align: left;\">2021-09-11</td><td style = \"text-align: right;\">12</td></tr><tr><td class = \"rowNumber\" style = \"font-weight: bold; text-align: right;\">13</td><td style = \"text-align: left;\">2021-09-13T00:00:00</td><td style = \"text-align: right;\">46.03</td><td style = \"text-align: right;\">47.9</td><td style = \"text-align: left;\">2021-09-12</td><td style = \"text-align: right;\">13</td></tr><tr><td style = \"text-align: right;\">&vellip;</td><td style = \"text-align: right;\">&vellip;</td><td style = \"text-align: right;\">&vellip;</td><td style = \"text-align: right;\">&vellip;</td><td style = \"text-align: right;\">&vellip;</td><td style = \"text-align: right;\">&vellip;</td></tr><tr><td class = \"rowNumber\" style = \"font-weight: bold; text-align: right;\">626</td><td style = \"text-align: left;\">2023-05-19T00:00:00</td><td style = \"text-align: right;\">35.0</td><td style = \"text-align: right;\">40.23</td><td style = \"text-align: left;\">2023-05-18</td><td style = \"text-align: right;\">626</td></tr><tr><td class = \"rowNumber\" style = \"font-weight: bold; text-align: right;\">627</td><td style = \"text-align: left;\">2023-05-20T00:00:00</td><td style = \"text-align: right;\">34.81</td><td style = \"text-align: right;\">37.0</td><td style = \"text-align: left;\">2023-05-19</td><td style = \"text-align: right;\">627</td></tr><tr><td class = \"rowNumber\" style = \"font-weight: bold; text-align: right;\">628</td><td style = \"text-align: left;\">2023-05-21T00:00:00</td><td style = \"text-align: right;\">34.11</td><td style = \"text-align: right;\">37.0</td><td style = \"text-align: left;\">2023-05-20</td><td style = \"text-align: right;\">628</td></tr><tr><td class = \"rowNumber\" style = \"font-weight: bold; text-align: right;\">629</td><td style = \"text-align: left;\">2023-05-22T00:00:00</td><td style = \"text-align: right;\">34.23</td><td style = \"text-align: right;\">39.98</td><td style = \"text-align: left;\">2023-05-21</td><td style = \"text-align: right;\">629</td></tr><tr><td class = \"rowNumber\" style = \"font-weight: bold; text-align: right;\">630</td><td style = \"text-align: left;\">2023-05-23T00:00:00</td><td style = \"text-align: right;\">34.0</td><td style = \"text-align: right;\">35.4</td><td style = \"text-align: left;\">2023-05-22</td><td style = \"text-align: right;\">630</td></tr><tr><td class = \"rowNumber\" style = \"font-weight: bold; text-align: right;\">631</td><td style = \"text-align: left;\">2023-05-24T00:00:00</td><td style = \"text-align: right;\">33.56</td><td style = \"text-align: right;\">36.96</td><td style = \"text-align: left;\">2023-05-23</td><td style = \"text-align: right;\">631</td></tr><tr><td class = \"rowNumber\" style = \"font-weight: bold; text-align: right;\">632</td><td style = \"text-align: left;\">2023-05-25T00:00:00</td><td style = \"text-align: right;\">30.0</td><td style = \"text-align: right;\">35.0</td><td style = \"text-align: left;\">2023-05-24</td><td style = \"text-align: right;\">632</td></tr><tr><td class = \"rowNumber\" style = \"font-weight: bold; text-align: right;\">633</td><td style = \"text-align: left;\">2023-05-26T00:00:00</td><td style = \"text-align: right;\">29.1</td><td style = \"text-align: right;\">34.1</td><td style = \"text-align: left;\">2023-05-25</td><td style = \"text-align: right;\">633</td></tr><tr><td class = \"rowNumber\" style = \"font-weight: bold; text-align: right;\">634</td><td style = \"text-align: left;\">2023-05-27T00:00:00</td><td style = \"text-align: right;\">28.3</td><td style = \"text-align: right;\">34.1</td><td style = \"text-align: left;\">2023-05-26</td><td style = \"text-align: right;\">634</td></tr><tr><td class = \"rowNumber\" style = \"font-weight: bold; text-align: right;\">635</td><td style = \"text-align: left;\">2023-05-28T00:00:00</td><td style = \"text-align: right;\">28.1</td><td style = \"text-align: right;\">34.1</td><td style = \"text-align: left;\">2023-05-27</td><td style = \"text-align: right;\">635</td></tr><tr><td class = \"rowNumber\" style = \"font-weight: bold; text-align: right;\">636</td><td style = \"text-align: left;\">2023-05-29T00:00:00</td><td style = \"text-align: right;\">28.16</td><td style = \"text-align: right;\">36.98</td><td style = \"text-align: left;\">2023-05-28</td><td style = \"text-align: right;\">636</td></tr><tr><td class = \"rowNumber\" style = \"font-weight: bold; text-align: right;\">637</td><td style = \"text-align: left;\">2023-05-30T00:00:00</td><td style = \"text-align: right;\">29.0</td><td style = \"text-align: right;\">34.0</td><td style = \"text-align: left;\">2023-05-29</td><td style = \"text-align: right;\">637</td></tr></tbody></table></div>"
      ],
      "text/latex": [
       "\\begin{tabular}{r|ccccc}\n",
       "\t& forecast\\_date & lowest\\_price\\_per\\_mwh & highest\\_price\\_per\\_mwh & origin\\_date & data\\_block\\_id\\\\\n",
       "\t\\hline\n",
       "\t& DateTime & Float64 & Float64 & Date & Int64\\\\\n",
       "\t\\hline\n",
       "\t1 & 2021-09-01T00:00:00 & 45.23 & 46.32 & 2021-08-31 & 1 \\\\\n",
       "\t2 & 2021-09-02T00:00:00 & 45.62 & 46.29 & 2021-09-01 & 2 \\\\\n",
       "\t3 & 2021-09-03T00:00:00 & 45.85 & 46.4 & 2021-09-02 & 3 \\\\\n",
       "\t4 & 2021-09-04T00:00:00 & 46.3 & 46.8 & 2021-09-03 & 4 \\\\\n",
       "\t5 & 2021-09-05T00:00:00 & 46.3 & 46.58 & 2021-09-04 & 5 \\\\\n",
       "\t6 & 2021-09-06T00:00:00 & 46.17 & 46.95 & 2021-09-05 & 6 \\\\\n",
       "\t7 & 2021-09-07T00:00:00 & 46.35 & 47.6 & 2021-09-06 & 7 \\\\\n",
       "\t8 & 2021-09-08T00:00:00 & 46.4 & 47.64 & 2021-09-07 & 8 \\\\\n",
       "\t9 & 2021-09-09T00:00:00 & 44.96 & 47.72 & 2021-09-08 & 9 \\\\\n",
       "\t10 & 2021-09-10T00:00:00 & 47.82 & 48.29 & 2021-09-09 & 10 \\\\\n",
       "\t11 & 2021-09-11T00:00:00 & 47.6 & 47.9 & 2021-09-10 & 11 \\\\\n",
       "\t12 & 2021-09-12T00:00:00 & 46.5 & 47.62 & 2021-09-11 & 12 \\\\\n",
       "\t13 & 2021-09-13T00:00:00 & 46.03 & 47.9 & 2021-09-12 & 13 \\\\\n",
       "\t14 & 2021-09-14T00:00:00 & 46.51 & 48.19 & 2021-09-13 & 14 \\\\\n",
       "\t15 & 2021-09-15T00:00:00 & 47.2 & 48.9 & 2021-09-14 & 15 \\\\\n",
       "\t16 & 2021-09-16T00:00:00 & 47.9 & 48.9 & 2021-09-15 & 16 \\\\\n",
       "\t17 & 2021-09-17T00:00:00 & 46.52 & 48.9 & 2021-09-16 & 17 \\\\\n",
       "\t18 & 2021-09-18T00:00:00 & 47.09 & 48.62 & 2021-09-17 & 18 \\\\\n",
       "\t19 & 2021-09-19T00:00:00 & 47.0 & 48.62 & 2021-09-18 & 19 \\\\\n",
       "\t20 & 2021-09-20T00:00:00 & 48.0 & 50.4 & 2021-09-19 & 20 \\\\\n",
       "\t21 & 2021-09-21T00:00:00 & 47.0 & 49.2 & 2021-09-20 & 21 \\\\\n",
       "\t22 & 2021-09-22T00:00:00 & 47.46 & 50.4 & 2021-09-21 & 22 \\\\\n",
       "\t23 & 2021-09-23T00:00:00 & 47.5 & 50.4 & 2021-09-22 & 23 \\\\\n",
       "\t24 & 2021-09-24T00:00:00 & 47.6 & 54.99 & 2021-09-23 & 24 \\\\\n",
       "\t$\\dots$ & $\\dots$ & $\\dots$ & $\\dots$ & $\\dots$ & $\\dots$ \\\\\n",
       "\\end{tabular}\n"
      ],
      "text/plain": [
       "\u001b[1m637×5 DataFrame\u001b[0m\n",
       "\u001b[1m Row \u001b[0m│\u001b[1m forecast_date       \u001b[0m\u001b[1m lowest_price_per_mwh \u001b[0m\u001b[1m highest_price_per_mwh \u001b[0m\u001b[1m origi\u001b[0m ⋯\n",
       "     │\u001b[90m DateTime            \u001b[0m\u001b[90m Float64              \u001b[0m\u001b[90m Float64               \u001b[0m\u001b[90m Date \u001b[0m ⋯\n",
       "─────┼──────────────────────────────────────────────────────────────────────────\n",
       "   1 │ 2021-09-01T00:00:00                 45.23                  46.32  2021- ⋯\n",
       "   2 │ 2021-09-02T00:00:00                 45.62                  46.29  2021-\n",
       "   3 │ 2021-09-03T00:00:00                 45.85                  46.4   2021-\n",
       "   4 │ 2021-09-04T00:00:00                 46.3                   46.8   2021-\n",
       "   5 │ 2021-09-05T00:00:00                 46.3                   46.58  2021- ⋯\n",
       "   6 │ 2021-09-06T00:00:00                 46.17                  46.95  2021-\n",
       "   7 │ 2021-09-07T00:00:00                 46.35                  47.6   2021-\n",
       "   8 │ 2021-09-08T00:00:00                 46.4                   47.64  2021-\n",
       "  ⋮  │          ⋮                    ⋮                      ⋮                  ⋱\n",
       " 631 │ 2023-05-24T00:00:00                 33.56                  36.96  2023- ⋯\n",
       " 632 │ 2023-05-25T00:00:00                 30.0                   35.0   2023-\n",
       " 633 │ 2023-05-26T00:00:00                 29.1                   34.1   2023-\n",
       " 634 │ 2023-05-27T00:00:00                 28.3                   34.1   2023-\n",
       " 635 │ 2023-05-28T00:00:00                 28.1                   34.1   2023- ⋯\n",
       " 636 │ 2023-05-29T00:00:00                 28.16                  36.98  2023-\n",
       " 637 │ 2023-05-30T00:00:00                 29.0                   34.0   2023-\n",
       "\u001b[36m                                                  2 columns and 622 rows omitted\u001b[0m"
      ]
     },
     "metadata": {},
     "output_type": "display_data"
    }
   ],
   "source": [
    "as2 = copy(dfs[\"gas_prices\"])"
   ]
  },
  {
   "cell_type": "code",
   "execution_count": null,
   "metadata": {},
   "outputs": [
    {
     "data": {
      "text/plain": [
       "637-element Vector{Float64}:\n",
       " 45.775\n",
       " 45.955\n",
       " 46.125\n",
       " 46.55\n",
       " 46.44\n",
       " 46.56\n",
       " 46.975\n",
       " 47.019999999999996\n",
       " 46.34\n",
       " 48.055\n",
       "  ⋮\n",
       " 37.105\n",
       " 34.7\n",
       " 35.260000000000005\n",
       " 32.5\n",
       " 31.6\n",
       " 31.200000000000003\n",
       " 31.1\n",
       " 32.57\n",
       " 31.5"
      ]
     },
     "metadata": {},
     "output_type": "display_data"
    }
   ],
   "source": [
    "as2[!, \"mean\"] = (as2.lowest_price_per_mwh .+ as2.highest_price_per_mwh) ./ 2"
   ]
  },
  {
   "cell_type": "code",
   "execution_count": 66,
   "metadata": {},
   "outputs": [
    {
     "data": {
      "text/html": [
       "<div><div style = \"float: left;\"><span>637×6 DataFrame</span></div><div style = \"float: right;\"><span style = \"font-style: italic;\">612 rows omitted</span></div><div style = \"clear: both;\"></div></div><div class = \"data-frame\" style = \"overflow-x: scroll;\"><table class = \"data-frame\" style = \"margin-bottom: 6px;\"><thead><tr class = \"header\"><th class = \"rowNumber\" style = \"font-weight: bold; text-align: right;\">Row</th><th style = \"text-align: left;\">forecast_date</th><th style = \"text-align: left;\">lowest_price_per_mwh</th><th style = \"text-align: left;\">highest_price_per_mwh</th><th style = \"text-align: left;\">origin_date</th><th style = \"text-align: left;\">data_block_id</th><th style = \"text-align: left;\">mean</th></tr><tr class = \"subheader headerLastRow\"><th class = \"rowNumber\" style = \"font-weight: bold; text-align: right;\"></th><th title = \"DateTime\" style = \"text-align: left;\">DateTime</th><th title = \"Float64\" style = \"text-align: left;\">Float64</th><th title = \"Float64\" style = \"text-align: left;\">Float64</th><th title = \"Date\" style = \"text-align: left;\">Date</th><th title = \"Int64\" style = \"text-align: left;\">Int64</th><th title = \"Float64\" style = \"text-align: left;\">Float64</th></tr></thead><tbody><tr><td class = \"rowNumber\" style = \"font-weight: bold; text-align: right;\">1</td><td style = \"text-align: left;\">2021-09-01T00:00:00</td><td style = \"text-align: right;\">45.23</td><td style = \"text-align: right;\">46.32</td><td style = \"text-align: left;\">2021-08-31</td><td style = \"text-align: right;\">1</td><td style = \"text-align: right;\">45.775</td></tr><tr><td class = \"rowNumber\" style = \"font-weight: bold; text-align: right;\">2</td><td style = \"text-align: left;\">2021-09-02T00:00:00</td><td style = \"text-align: right;\">45.62</td><td style = \"text-align: right;\">46.29</td><td style = \"text-align: left;\">2021-09-01</td><td style = \"text-align: right;\">2</td><td style = \"text-align: right;\">45.955</td></tr><tr><td class = \"rowNumber\" style = \"font-weight: bold; text-align: right;\">3</td><td style = \"text-align: left;\">2021-09-03T00:00:00</td><td style = \"text-align: right;\">45.85</td><td style = \"text-align: right;\">46.4</td><td style = \"text-align: left;\">2021-09-02</td><td style = \"text-align: right;\">3</td><td style = \"text-align: right;\">46.125</td></tr><tr><td class = \"rowNumber\" style = \"font-weight: bold; text-align: right;\">4</td><td style = \"text-align: left;\">2021-09-04T00:00:00</td><td style = \"text-align: right;\">46.3</td><td style = \"text-align: right;\">46.8</td><td style = \"text-align: left;\">2021-09-03</td><td style = \"text-align: right;\">4</td><td style = \"text-align: right;\">46.55</td></tr><tr><td class = \"rowNumber\" style = \"font-weight: bold; text-align: right;\">5</td><td style = \"text-align: left;\">2021-09-05T00:00:00</td><td style = \"text-align: right;\">46.3</td><td style = \"text-align: right;\">46.58</td><td style = \"text-align: left;\">2021-09-04</td><td style = \"text-align: right;\">5</td><td style = \"text-align: right;\">46.44</td></tr><tr><td class = \"rowNumber\" style = \"font-weight: bold; text-align: right;\">6</td><td style = \"text-align: left;\">2021-09-06T00:00:00</td><td style = \"text-align: right;\">46.17</td><td style = \"text-align: right;\">46.95</td><td style = \"text-align: left;\">2021-09-05</td><td style = \"text-align: right;\">6</td><td style = \"text-align: right;\">46.56</td></tr><tr><td class = \"rowNumber\" style = \"font-weight: bold; text-align: right;\">7</td><td style = \"text-align: left;\">2021-09-07T00:00:00</td><td style = \"text-align: right;\">46.35</td><td style = \"text-align: right;\">47.6</td><td style = \"text-align: left;\">2021-09-06</td><td style = \"text-align: right;\">7</td><td style = \"text-align: right;\">46.975</td></tr><tr><td class = \"rowNumber\" style = \"font-weight: bold; text-align: right;\">8</td><td style = \"text-align: left;\">2021-09-08T00:00:00</td><td style = \"text-align: right;\">46.4</td><td style = \"text-align: right;\">47.64</td><td style = \"text-align: left;\">2021-09-07</td><td style = \"text-align: right;\">8</td><td style = \"text-align: right;\">47.02</td></tr><tr><td class = \"rowNumber\" style = \"font-weight: bold; text-align: right;\">9</td><td style = \"text-align: left;\">2021-09-09T00:00:00</td><td style = \"text-align: right;\">44.96</td><td style = \"text-align: right;\">47.72</td><td style = \"text-align: left;\">2021-09-08</td><td style = \"text-align: right;\">9</td><td style = \"text-align: right;\">46.34</td></tr><tr><td class = \"rowNumber\" style = \"font-weight: bold; text-align: right;\">10</td><td style = \"text-align: left;\">2021-09-10T00:00:00</td><td style = \"text-align: right;\">47.82</td><td style = \"text-align: right;\">48.29</td><td style = \"text-align: left;\">2021-09-09</td><td style = \"text-align: right;\">10</td><td style = \"text-align: right;\">48.055</td></tr><tr><td class = \"rowNumber\" style = \"font-weight: bold; text-align: right;\">11</td><td style = \"text-align: left;\">2021-09-11T00:00:00</td><td style = \"text-align: right;\">47.6</td><td style = \"text-align: right;\">47.9</td><td style = \"text-align: left;\">2021-09-10</td><td style = \"text-align: right;\">11</td><td style = \"text-align: right;\">47.75</td></tr><tr><td class = \"rowNumber\" style = \"font-weight: bold; text-align: right;\">12</td><td style = \"text-align: left;\">2021-09-12T00:00:00</td><td style = \"text-align: right;\">46.5</td><td style = \"text-align: right;\">47.62</td><td style = \"text-align: left;\">2021-09-11</td><td style = \"text-align: right;\">12</td><td style = \"text-align: right;\">47.06</td></tr><tr><td class = \"rowNumber\" style = \"font-weight: bold; text-align: right;\">13</td><td style = \"text-align: left;\">2021-09-13T00:00:00</td><td style = \"text-align: right;\">46.03</td><td style = \"text-align: right;\">47.9</td><td style = \"text-align: left;\">2021-09-12</td><td style = \"text-align: right;\">13</td><td style = \"text-align: right;\">46.965</td></tr><tr><td style = \"text-align: right;\">&vellip;</td><td style = \"text-align: right;\">&vellip;</td><td style = \"text-align: right;\">&vellip;</td><td style = \"text-align: right;\">&vellip;</td><td style = \"text-align: right;\">&vellip;</td><td style = \"text-align: right;\">&vellip;</td><td style = \"text-align: right;\">&vellip;</td></tr><tr><td class = \"rowNumber\" style = \"font-weight: bold; text-align: right;\">626</td><td style = \"text-align: left;\">2023-05-19T00:00:00</td><td style = \"text-align: right;\">35.0</td><td style = \"text-align: right;\">40.23</td><td style = \"text-align: left;\">2023-05-18</td><td style = \"text-align: right;\">626</td><td style = \"text-align: right;\">37.615</td></tr><tr><td class = \"rowNumber\" style = \"font-weight: bold; text-align: right;\">627</td><td style = \"text-align: left;\">2023-05-20T00:00:00</td><td style = \"text-align: right;\">34.81</td><td style = \"text-align: right;\">37.0</td><td style = \"text-align: left;\">2023-05-19</td><td style = \"text-align: right;\">627</td><td style = \"text-align: right;\">35.905</td></tr><tr><td class = \"rowNumber\" style = \"font-weight: bold; text-align: right;\">628</td><td style = \"text-align: left;\">2023-05-21T00:00:00</td><td style = \"text-align: right;\">34.11</td><td style = \"text-align: right;\">37.0</td><td style = \"text-align: left;\">2023-05-20</td><td style = \"text-align: right;\">628</td><td style = \"text-align: right;\">35.555</td></tr><tr><td class = \"rowNumber\" style = \"font-weight: bold; text-align: right;\">629</td><td style = \"text-align: left;\">2023-05-22T00:00:00</td><td style = \"text-align: right;\">34.23</td><td style = \"text-align: right;\">39.98</td><td style = \"text-align: left;\">2023-05-21</td><td style = \"text-align: right;\">629</td><td style = \"text-align: right;\">37.105</td></tr><tr><td class = \"rowNumber\" style = \"font-weight: bold; text-align: right;\">630</td><td style = \"text-align: left;\">2023-05-23T00:00:00</td><td style = \"text-align: right;\">34.0</td><td style = \"text-align: right;\">35.4</td><td style = \"text-align: left;\">2023-05-22</td><td style = \"text-align: right;\">630</td><td style = \"text-align: right;\">34.7</td></tr><tr><td class = \"rowNumber\" style = \"font-weight: bold; text-align: right;\">631</td><td style = \"text-align: left;\">2023-05-24T00:00:00</td><td style = \"text-align: right;\">33.56</td><td style = \"text-align: right;\">36.96</td><td style = \"text-align: left;\">2023-05-23</td><td style = \"text-align: right;\">631</td><td style = \"text-align: right;\">35.26</td></tr><tr><td class = \"rowNumber\" style = \"font-weight: bold; text-align: right;\">632</td><td style = \"text-align: left;\">2023-05-25T00:00:00</td><td style = \"text-align: right;\">30.0</td><td style = \"text-align: right;\">35.0</td><td style = \"text-align: left;\">2023-05-24</td><td style = \"text-align: right;\">632</td><td style = \"text-align: right;\">32.5</td></tr><tr><td class = \"rowNumber\" style = \"font-weight: bold; text-align: right;\">633</td><td style = \"text-align: left;\">2023-05-26T00:00:00</td><td style = \"text-align: right;\">29.1</td><td style = \"text-align: right;\">34.1</td><td style = \"text-align: left;\">2023-05-25</td><td style = \"text-align: right;\">633</td><td style = \"text-align: right;\">31.6</td></tr><tr><td class = \"rowNumber\" style = \"font-weight: bold; text-align: right;\">634</td><td style = \"text-align: left;\">2023-05-27T00:00:00</td><td style = \"text-align: right;\">28.3</td><td style = \"text-align: right;\">34.1</td><td style = \"text-align: left;\">2023-05-26</td><td style = \"text-align: right;\">634</td><td style = \"text-align: right;\">31.2</td></tr><tr><td class = \"rowNumber\" style = \"font-weight: bold; text-align: right;\">635</td><td style = \"text-align: left;\">2023-05-28T00:00:00</td><td style = \"text-align: right;\">28.1</td><td style = \"text-align: right;\">34.1</td><td style = \"text-align: left;\">2023-05-27</td><td style = \"text-align: right;\">635</td><td style = \"text-align: right;\">31.1</td></tr><tr><td class = \"rowNumber\" style = \"font-weight: bold; text-align: right;\">636</td><td style = \"text-align: left;\">2023-05-29T00:00:00</td><td style = \"text-align: right;\">28.16</td><td style = \"text-align: right;\">36.98</td><td style = \"text-align: left;\">2023-05-28</td><td style = \"text-align: right;\">636</td><td style = \"text-align: right;\">32.57</td></tr><tr><td class = \"rowNumber\" style = \"font-weight: bold; text-align: right;\">637</td><td style = \"text-align: left;\">2023-05-30T00:00:00</td><td style = \"text-align: right;\">29.0</td><td style = \"text-align: right;\">34.0</td><td style = \"text-align: left;\">2023-05-29</td><td style = \"text-align: right;\">637</td><td style = \"text-align: right;\">31.5</td></tr></tbody></table></div>"
      ],
      "text/latex": [
       "\\begin{tabular}{r|cccccc}\n",
       "\t& forecast\\_date & lowest\\_price\\_per\\_mwh & highest\\_price\\_per\\_mwh & origin\\_date & data\\_block\\_id & \\\\\n",
       "\t\\hline\n",
       "\t& DateTime & Float64 & Float64 & Date & Int64 & \\\\\n",
       "\t\\hline\n",
       "\t1 & 2021-09-01T00:00:00 & 45.23 & 46.32 & 2021-08-31 & 1 & $\\dots$ \\\\\n",
       "\t2 & 2021-09-02T00:00:00 & 45.62 & 46.29 & 2021-09-01 & 2 & $\\dots$ \\\\\n",
       "\t3 & 2021-09-03T00:00:00 & 45.85 & 46.4 & 2021-09-02 & 3 & $\\dots$ \\\\\n",
       "\t4 & 2021-09-04T00:00:00 & 46.3 & 46.8 & 2021-09-03 & 4 & $\\dots$ \\\\\n",
       "\t5 & 2021-09-05T00:00:00 & 46.3 & 46.58 & 2021-09-04 & 5 & $\\dots$ \\\\\n",
       "\t6 & 2021-09-06T00:00:00 & 46.17 & 46.95 & 2021-09-05 & 6 & $\\dots$ \\\\\n",
       "\t7 & 2021-09-07T00:00:00 & 46.35 & 47.6 & 2021-09-06 & 7 & $\\dots$ \\\\\n",
       "\t8 & 2021-09-08T00:00:00 & 46.4 & 47.64 & 2021-09-07 & 8 & $\\dots$ \\\\\n",
       "\t9 & 2021-09-09T00:00:00 & 44.96 & 47.72 & 2021-09-08 & 9 & $\\dots$ \\\\\n",
       "\t10 & 2021-09-10T00:00:00 & 47.82 & 48.29 & 2021-09-09 & 10 & $\\dots$ \\\\\n",
       "\t11 & 2021-09-11T00:00:00 & 47.6 & 47.9 & 2021-09-10 & 11 & $\\dots$ \\\\\n",
       "\t12 & 2021-09-12T00:00:00 & 46.5 & 47.62 & 2021-09-11 & 12 & $\\dots$ \\\\\n",
       "\t13 & 2021-09-13T00:00:00 & 46.03 & 47.9 & 2021-09-12 & 13 & $\\dots$ \\\\\n",
       "\t14 & 2021-09-14T00:00:00 & 46.51 & 48.19 & 2021-09-13 & 14 & $\\dots$ \\\\\n",
       "\t15 & 2021-09-15T00:00:00 & 47.2 & 48.9 & 2021-09-14 & 15 & $\\dots$ \\\\\n",
       "\t16 & 2021-09-16T00:00:00 & 47.9 & 48.9 & 2021-09-15 & 16 & $\\dots$ \\\\\n",
       "\t17 & 2021-09-17T00:00:00 & 46.52 & 48.9 & 2021-09-16 & 17 & $\\dots$ \\\\\n",
       "\t18 & 2021-09-18T00:00:00 & 47.09 & 48.62 & 2021-09-17 & 18 & $\\dots$ \\\\\n",
       "\t19 & 2021-09-19T00:00:00 & 47.0 & 48.62 & 2021-09-18 & 19 & $\\dots$ \\\\\n",
       "\t20 & 2021-09-20T00:00:00 & 48.0 & 50.4 & 2021-09-19 & 20 & $\\dots$ \\\\\n",
       "\t21 & 2021-09-21T00:00:00 & 47.0 & 49.2 & 2021-09-20 & 21 & $\\dots$ \\\\\n",
       "\t22 & 2021-09-22T00:00:00 & 47.46 & 50.4 & 2021-09-21 & 22 & $\\dots$ \\\\\n",
       "\t23 & 2021-09-23T00:00:00 & 47.5 & 50.4 & 2021-09-22 & 23 & $\\dots$ \\\\\n",
       "\t24 & 2021-09-24T00:00:00 & 47.6 & 54.99 & 2021-09-23 & 24 & $\\dots$ \\\\\n",
       "\t$\\dots$ & $\\dots$ & $\\dots$ & $\\dots$ & $\\dots$ & $\\dots$ &  \\\\\n",
       "\\end{tabular}\n"
      ],
      "text/plain": [
       "\u001b[1m637×6 DataFrame\u001b[0m\n",
       "\u001b[1m Row \u001b[0m│\u001b[1m forecast_date       \u001b[0m\u001b[1m lowest_price_per_mwh \u001b[0m\u001b[1m highest_price_per_mwh \u001b[0m\u001b[1m origi\u001b[0m ⋯\n",
       "     │\u001b[90m DateTime            \u001b[0m\u001b[90m Float64              \u001b[0m\u001b[90m Float64               \u001b[0m\u001b[90m Date \u001b[0m ⋯\n",
       "─────┼──────────────────────────────────────────────────────────────────────────\n",
       "   1 │ 2021-09-01T00:00:00                 45.23                  46.32  2021- ⋯\n",
       "   2 │ 2021-09-02T00:00:00                 45.62                  46.29  2021-\n",
       "   3 │ 2021-09-03T00:00:00                 45.85                  46.4   2021-\n",
       "   4 │ 2021-09-04T00:00:00                 46.3                   46.8   2021-\n",
       "   5 │ 2021-09-05T00:00:00                 46.3                   46.58  2021- ⋯\n",
       "   6 │ 2021-09-06T00:00:00                 46.17                  46.95  2021-\n",
       "   7 │ 2021-09-07T00:00:00                 46.35                  47.6   2021-\n",
       "   8 │ 2021-09-08T00:00:00                 46.4                   47.64  2021-\n",
       "  ⋮  │          ⋮                    ⋮                      ⋮                  ⋱\n",
       " 631 │ 2023-05-24T00:00:00                 33.56                  36.96  2023- ⋯\n",
       " 632 │ 2023-05-25T00:00:00                 30.0                   35.0   2023-\n",
       " 633 │ 2023-05-26T00:00:00                 29.1                   34.1   2023-\n",
       " 634 │ 2023-05-27T00:00:00                 28.3                   34.1   2023-\n",
       " 635 │ 2023-05-28T00:00:00                 28.1                   34.1   2023- ⋯\n",
       " 636 │ 2023-05-29T00:00:00                 28.16                  36.98  2023-\n",
       " 637 │ 2023-05-30T00:00:00                 29.0                   34.0   2023-\n",
       "\u001b[36m                                                  3 columns and 622 rows omitted\u001b[0m"
      ]
     },
     "metadata": {},
     "output_type": "display_data"
    }
   ],
   "source": [
    "as2"
   ]
  },
  {
   "cell_type": "code",
   "execution_count": null,
   "metadata": {},
   "outputs": [],
   "source": []
  }
 ],
 "metadata": {
  "kernelspec": {
   "display_name": "Julia 1.11.2",
   "language": "julia",
   "name": "julia-1.11"
  },
  "language_info": {
   "file_extension": ".jl",
   "mimetype": "application/julia",
   "name": "julia",
   "version": "1.11.2"
  }
 },
 "nbformat": 4,
 "nbformat_minor": 2
}
