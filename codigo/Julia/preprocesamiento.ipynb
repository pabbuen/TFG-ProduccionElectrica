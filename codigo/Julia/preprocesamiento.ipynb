{
 "cells": [
  {
   "cell_type": "code",
   "execution_count": 1,
   "metadata": {},
   "outputs": [
    {
     "name": "stderr",
     "output_type": "stream",
     "text": [
      "\u001b[32m\u001b[1m  Activating\u001b[22m\u001b[39m project at `~/proyectos/TFG-ProduccionElectrica/codigo/Julia`\n"
     ]
    }
   ],
   "source": [
    "using Pkg\n",
    "Pkg.activate(\".\"); Pkg.instantiate()\n",
    "Pkg.precompile()\n",
    "\n",
    "using CSV\n",
    "using DataFrames\n",
    "using Plots\n",
    "using Glob\n",
    "using Dates"
   ]
  },
  {
   "cell_type": "code",
   "execution_count": 2,
   "metadata": {},
   "outputs": [
    {
     "data": {
      "text/plain": [
       "8-element Vector{String}:\n",
       " \"../data/predict-energy-behavior-of-prosumers/client.csv\"\n",
       " \"../data/predict-energy-behavior-of-prosumers/county_lon_lats.csv\"\n",
       " \"../data/predict-energy-behavior-of-prosumers/electricity_prices.csv\"\n",
       " \"../data/predict-energy-behavior-of-prosumers/forecast_weather.csv\"\n",
       " \"../data/predict-energy-behavior-of-prosumers/gas_prices.csv\"\n",
       " \"../data/predict-energy-behavior-of-prosumers/historical_weather.csv\"\n",
       " \"../data/predict-energy-behavior-of-prosumers/train.csv\"\n",
       " \"../data/predict-energy-behavior\"\u001b[93m\u001b[1m ⋯ 20 bytes ⋯ \u001b[22m\u001b[39m\"r_station_to_county_mapping.csv\""
      ]
     },
     "metadata": {},
     "output_type": "display_data"
    }
   ],
   "source": [
    "filepath = \"../data/predict-energy-behavior-of-prosumers\"\n",
    "files = glob(\"*.csv\", filepath)"
   ]
  },
  {
   "cell_type": "code",
   "execution_count": 3,
   "metadata": {},
   "outputs": [
    {
     "data": {
      "text/plain": [
       "Dict{String, DataFrame} with 8 entries:\n",
       "  \"historical_weather\" => \u001b[1m1710802×18 DataFrame\u001b[0m\u001b[0m…\n",
       "  \"electricity_prices\" => \u001b[1m15286×4 DataFrame\u001b[0m\u001b[0m…\n",
       "  \"weather_station\"    => \u001b[1m112×4 DataFrame\u001b[0m\u001b[0m…\n",
       "  \"client\"             => \u001b[1m41919×7 DataFrame\u001b[0m\u001b[0m…\n",
       "  \"train\"              => \u001b[1m2018352×9 DataFrame\u001b[0m\u001b[0m…\n",
       "  \"forecast_weather\"   => \u001b[1m3424512×18 DataFrame\u001b[0m\u001b[0m…\n",
       "  \"county_lon_lats\"    => \u001b[1m75×4 DataFrame\u001b[0m\u001b[0m…\n",
       "  \"gas_prices\"         => \u001b[1m637×5 DataFrame\u001b[0m\u001b[0m…"
      ]
     },
     "metadata": {},
     "output_type": "display_data"
    }
   ],
   "source": [
    "dfs = Dict(\n",
    "    splitext(basename(archivo))[1] => CSV.read(archivo, DataFrame)\n",
    "    for archivo in files\n",
    ")\n",
    "dfs[\"weather_station\"] = dfs[\"weather_station_to_county_mapping\"]\n",
    "delete!(dfs, \"weather_station_to_county_mapping\")"
   ]
  },
  {
   "cell_type": "code",
   "execution_count": 15,
   "metadata": {},
   "outputs": [
    {
     "ename": "Base.Meta.ParseError",
     "evalue": "ParseError:\n# Error @ /home/pablo/proyectos/TFG-ProduccionElectrica/codigo/Julia/jl_notebook_cell_df34fa98e69747e1a8f8a730347b8e2f_W3sZmlsZQ==.jl:79:50\n    joins = [dp.client_join, dp.ep_join, dp.gas_join]\n    df = leftjoin(data, gas, client, electricity on=joins)\n#                                                └──────┘ ── Expected `)`",
     "output_type": "error",
     "traceback": [
      "ParseError:\n",
      "# Error @ /home/pablo/proyectos/TFG-ProduccionElectrica/codigo/Julia/jl_notebook_cell_df34fa98e69747e1a8f8a730347b8e2f_W3sZmlsZQ==.jl:79:50\n",
      "    joins = [dp.client_join, dp.ep_join, dp.gas_join]\n",
      "    df = leftjoin(data, gas, client, electricity on=joins)\n",
      "#                                                └──────┘ ── Expected `)`\n",
      "\n",
      "Stacktrace:\n",
      " [1] top-level scope\n",
      "   @ ~/proyectos/TFG-ProduccionElectrica/codigo/Julia/jl_notebook_cell_df34fa98e69747e1a8f8a730347b8e2f_W3sZmlsZQ==.jl:79"
     ]
    }
   ],
   "source": [
    "struct DataProcessor\n",
    "    gas_join::Vector{String}\n",
    "    ep_join::Vector{String}\n",
    "    hw_join::Vector{String}\n",
    "    client_join::Vector{String}\n",
    "    lat_lon::Vector{String}\n",
    "end\n",
    "\n",
    "function DataProcessor()\n",
    "    DataProcessor(\n",
    "        [\"data_block_id\"],\n",
    "        [\"datetime\", \"data_block_id\"],\n",
    "        [\"datetime\", \"county\", \"data_block_id\"],\n",
    "        [\"county\", \"is_business\", \"product_type\", \"data_block_id\"],\n",
    "        [\"latitude\", \"longitude\"]\n",
    "    )\n",
    "end\n",
    "\n",
    "function change_names(df::DataFrame, suffix::AbstractString, no_change::Vector{String})\n",
    "    renamed_cols = [\n",
    "        col in no_change ? col : col * suffix for col in names(df)\n",
    "    ]\n",
    "\n",
    "    renamed_df = rename(df, names(df) .=> renamed_cols)\n",
    "    return renamed_df\n",
    "end\n",
    "\n",
    "function to_datetime(df::DataFrame, col::AbstractString)\n",
    "    new_df = deepcopy(df)\n",
    "    formato = DateFormat(\"yyyy-mm-dd HH:MM:SS\")\n",
    "\n",
    "    new_df[!, col] .= DateTime.(new_df[!, col], formato)\n",
    "    return new_df\n",
    "end\n",
    "\n",
    "function get_client_features(client_df::DataFrame, client_join::Vector{String})\n",
    "    return change_names(client_df, \"_client\", client_join)\n",
    "end\n",
    "\n",
    "function get_gas_features(gas_df::DataFrame, gas_join::Vector{String})\n",
    "    df = deepcopy(gas_df)\n",
    "\n",
    "    df[!, \"mean\"] = (df.highest_price_per_mwh + df.lowest_price_per_mwh) / 2\n",
    "\n",
    "    df = change_names(df, \"_gas\", gas_join)\n",
    "\n",
    "    return df\n",
    "end\n",
    "\n",
    "function get_electricity_features(ep_df::DataFrame, ep_join::Vector{String})\n",
    "    df = to_datetime(ep_df, \"forecast_date\")\n",
    "    df = rename(df, :forecast_date => :datetime)\n",
    "    df = change_names(df, \"_ep\", ep_join)\n",
    "    return df\n",
    "end\n",
    "\n",
    "function get_data_features(data::DataFrame)\n",
    "    df = to_datetime(data, \"datetime\")\n",
    "    df.date = Date.(df.datetime)\n",
    "    df.year = year.(df.datetime)\n",
    "    df.quarter = quarterofyear.(df.datetime)\n",
    "    df.month = month.(df.datetime)\n",
    "    df.week = week.(df.datetime)\n",
    "    df.hour = hour.(df.datetime)\n",
    "    df.day_of_year = dayofyear.(df.datetime)\n",
    "    df.day_of_month = dayofmonth.(df.datetime)\n",
    "    df.day_of_week = dayofweek.(df.datetime)\n",
    "\n",
    "    return df\n",
    "end\n",
    "\n",
    "function process_data(dp::DataProcessor, df_dict::Dict)\n",
    "    data = get_data_features(df_dict[\"train\"])\n",
    "    client = get_client_features(df_dict[\"client\"], dp.client_join)\n",
    "    gas = get_gas_features(df_dict[\"gas_prices\"], dp.gas_join)\n",
    "    electricity = get_electricity_features(df_dict[\"electricity_prices\"], dp.ep_join)\n",
    "\n",
    "    joins = [dp.client_join, dp.ep_join, dp.gas_join]\n",
    "    df = leftjoin(data, gas, client, electricity on=joins)\n",
    "    \n",
    "    return df\n",
    "end"
   ]
  },
  {
   "cell_type": "code",
   "execution_count": 13,
   "metadata": {},
   "outputs": [
    {
     "data": {
      "text/html": [
       "<div><div style = \"float: left;\"><span>2018352×23 DataFrame</span></div><div style = \"float: right;\"><span style = \"font-style: italic;\">2018327 rows omitted</span></div><div style = \"clear: both;\"></div></div><div class = \"data-frame\" style = \"overflow-x: scroll;\"><table class = \"data-frame\" style = \"margin-bottom: 6px;\"><thead><tr class = \"header\"><th class = \"rowNumber\" style = \"font-weight: bold; text-align: right;\">Row</th><th style = \"text-align: left;\">county</th><th style = \"text-align: left;\">is_business</th><th style = \"text-align: left;\">product_type</th><th style = \"text-align: left;\">target</th><th style = \"text-align: left;\">is_consumption</th><th style = \"text-align: left;\">datetime</th><th style = \"text-align: left;\">data_block_id</th><th style = \"text-align: left;\">row_id</th><th style = \"text-align: left;\">prediction_unit_id</th><th style = \"text-align: left;\">date</th><th style = \"text-align: left;\">year</th><th style = \"text-align: left;\">quarter</th><th style = \"text-align: left;\">month</th><th style = \"text-align: left;\">week</th><th style = \"text-align: left;\">hour</th><th style = \"text-align: left;\">day_of_year</th><th style = \"text-align: left;\">day_of_month</th><th style = \"text-align: left;\">day_of_week</th><th style = \"text-align: left;\">forecast_date_gas</th><th style = \"text-align: left;\">lowest_price_per_mwh_gas</th><th style = \"text-align: left;\">highest_price_per_mwh_gas</th><th style = \"text-align: left;\">origin_date_gas</th><th style = \"text-align: left;\">mean_gas</th></tr><tr class = \"subheader headerLastRow\"><th class = \"rowNumber\" style = \"font-weight: bold; text-align: right;\"></th><th title = \"Int64\" style = \"text-align: left;\">Int64</th><th title = \"Int64\" style = \"text-align: left;\">Int64</th><th title = \"Int64\" style = \"text-align: left;\">Int64</th><th title = \"Union{Missing, Float64}\" style = \"text-align: left;\">Float64?</th><th title = \"Int64\" style = \"text-align: left;\">Int64</th><th title = \"DateTime\" style = \"text-align: left;\">DateTime</th><th title = \"Int64\" style = \"text-align: left;\">Int64</th><th title = \"Int64\" style = \"text-align: left;\">Int64</th><th title = \"Int64\" style = \"text-align: left;\">Int64</th><th title = \"Date\" style = \"text-align: left;\">Date</th><th title = \"Int64\" style = \"text-align: left;\">Int64</th><th title = \"Int64\" style = \"text-align: left;\">Int64</th><th title = \"Int64\" style = \"text-align: left;\">Int64</th><th title = \"Int64\" style = \"text-align: left;\">Int64</th><th title = \"Int64\" style = \"text-align: left;\">Int64</th><th title = \"Int64\" style = \"text-align: left;\">Int64</th><th title = \"Int64\" style = \"text-align: left;\">Int64</th><th title = \"Int64\" style = \"text-align: left;\">Int64</th><th title = \"Union{Missing, Date}\" style = \"text-align: left;\">Date?</th><th title = \"Union{Missing, Float64}\" style = \"text-align: left;\">Float64?</th><th title = \"Union{Missing, Float64}\" style = \"text-align: left;\">Float64?</th><th title = \"Union{Missing, Date}\" style = \"text-align: left;\">Date?</th><th title = \"Union{Missing, Float64}\" style = \"text-align: left;\">Float64?</th></tr></thead><tbody><tr><td class = \"rowNumber\" style = \"font-weight: bold; text-align: right;\">1</td><td style = \"text-align: right;\">0</td><td style = \"text-align: right;\">0</td><td style = \"text-align: right;\">1</td><td style = \"text-align: right;\">1.687</td><td style = \"text-align: right;\">0</td><td style = \"text-align: left;\">2021-09-02T00:00:00</td><td style = \"text-align: right;\">1</td><td style = \"text-align: right;\">2928</td><td style = \"text-align: right;\">0</td><td style = \"text-align: left;\">2021-09-02</td><td style = \"text-align: right;\">2021</td><td style = \"text-align: right;\">3</td><td style = \"text-align: right;\">9</td><td style = \"text-align: right;\">35</td><td style = \"text-align: right;\">0</td><td style = \"text-align: right;\">245</td><td style = \"text-align: right;\">2</td><td style = \"text-align: right;\">4</td><td style = \"text-align: left;\">2021-09-01</td><td style = \"text-align: right;\">45.23</td><td style = \"text-align: right;\">46.32</td><td style = \"text-align: left;\">2021-08-31</td><td style = \"text-align: right;\">45.775</td></tr><tr><td class = \"rowNumber\" style = \"font-weight: bold; text-align: right;\">2</td><td style = \"text-align: right;\">0</td><td style = \"text-align: right;\">0</td><td style = \"text-align: right;\">1</td><td style = \"text-align: right;\">109.366</td><td style = \"text-align: right;\">1</td><td style = \"text-align: left;\">2021-09-02T00:00:00</td><td style = \"text-align: right;\">1</td><td style = \"text-align: right;\">2929</td><td style = \"text-align: right;\">0</td><td style = \"text-align: left;\">2021-09-02</td><td style = \"text-align: right;\">2021</td><td style = \"text-align: right;\">3</td><td style = \"text-align: right;\">9</td><td style = \"text-align: right;\">35</td><td style = \"text-align: right;\">0</td><td style = \"text-align: right;\">245</td><td style = \"text-align: right;\">2</td><td style = \"text-align: right;\">4</td><td style = \"text-align: left;\">2021-09-01</td><td style = \"text-align: right;\">45.23</td><td style = \"text-align: right;\">46.32</td><td style = \"text-align: left;\">2021-08-31</td><td style = \"text-align: right;\">45.775</td></tr><tr><td class = \"rowNumber\" style = \"font-weight: bold; text-align: right;\">3</td><td style = \"text-align: right;\">0</td><td style = \"text-align: right;\">0</td><td style = \"text-align: right;\">2</td><td style = \"text-align: right;\">0.0</td><td style = \"text-align: right;\">0</td><td style = \"text-align: left;\">2021-09-02T00:00:00</td><td style = \"text-align: right;\">1</td><td style = \"text-align: right;\">2930</td><td style = \"text-align: right;\">1</td><td style = \"text-align: left;\">2021-09-02</td><td style = \"text-align: right;\">2021</td><td style = \"text-align: right;\">3</td><td style = \"text-align: right;\">9</td><td style = \"text-align: right;\">35</td><td style = \"text-align: right;\">0</td><td style = \"text-align: right;\">245</td><td style = \"text-align: right;\">2</td><td style = \"text-align: right;\">4</td><td style = \"text-align: left;\">2021-09-01</td><td style = \"text-align: right;\">45.23</td><td style = \"text-align: right;\">46.32</td><td style = \"text-align: left;\">2021-08-31</td><td style = \"text-align: right;\">45.775</td></tr><tr><td class = \"rowNumber\" style = \"font-weight: bold; text-align: right;\">4</td><td style = \"text-align: right;\">0</td><td style = \"text-align: right;\">0</td><td style = \"text-align: right;\">2</td><td style = \"text-align: right;\">21.008</td><td style = \"text-align: right;\">1</td><td style = \"text-align: left;\">2021-09-02T00:00:00</td><td style = \"text-align: right;\">1</td><td style = \"text-align: right;\">2931</td><td style = \"text-align: right;\">1</td><td style = \"text-align: left;\">2021-09-02</td><td style = \"text-align: right;\">2021</td><td style = \"text-align: right;\">3</td><td style = \"text-align: right;\">9</td><td style = \"text-align: right;\">35</td><td style = \"text-align: right;\">0</td><td style = \"text-align: right;\">245</td><td style = \"text-align: right;\">2</td><td style = \"text-align: right;\">4</td><td style = \"text-align: left;\">2021-09-01</td><td style = \"text-align: right;\">45.23</td><td style = \"text-align: right;\">46.32</td><td style = \"text-align: left;\">2021-08-31</td><td style = \"text-align: right;\">45.775</td></tr><tr><td class = \"rowNumber\" style = \"font-weight: bold; text-align: right;\">5</td><td style = \"text-align: right;\">0</td><td style = \"text-align: right;\">0</td><td style = \"text-align: right;\">3</td><td style = \"text-align: right;\">1.003</td><td style = \"text-align: right;\">0</td><td style = \"text-align: left;\">2021-09-02T00:00:00</td><td style = \"text-align: right;\">1</td><td style = \"text-align: right;\">2932</td><td style = \"text-align: right;\">2</td><td style = \"text-align: left;\">2021-09-02</td><td style = \"text-align: right;\">2021</td><td style = \"text-align: right;\">3</td><td style = \"text-align: right;\">9</td><td style = \"text-align: right;\">35</td><td style = \"text-align: right;\">0</td><td style = \"text-align: right;\">245</td><td style = \"text-align: right;\">2</td><td style = \"text-align: right;\">4</td><td style = \"text-align: left;\">2021-09-01</td><td style = \"text-align: right;\">45.23</td><td style = \"text-align: right;\">46.32</td><td style = \"text-align: left;\">2021-08-31</td><td style = \"text-align: right;\">45.775</td></tr><tr><td class = \"rowNumber\" style = \"font-weight: bold; text-align: right;\">6</td><td style = \"text-align: right;\">0</td><td style = \"text-align: right;\">0</td><td style = \"text-align: right;\">3</td><td style = \"text-align: right;\">735.696</td><td style = \"text-align: right;\">1</td><td style = \"text-align: left;\">2021-09-02T00:00:00</td><td style = \"text-align: right;\">1</td><td style = \"text-align: right;\">2933</td><td style = \"text-align: right;\">2</td><td style = \"text-align: left;\">2021-09-02</td><td style = \"text-align: right;\">2021</td><td style = \"text-align: right;\">3</td><td style = \"text-align: right;\">9</td><td style = \"text-align: right;\">35</td><td style = \"text-align: right;\">0</td><td style = \"text-align: right;\">245</td><td style = \"text-align: right;\">2</td><td style = \"text-align: right;\">4</td><td style = \"text-align: left;\">2021-09-01</td><td style = \"text-align: right;\">45.23</td><td style = \"text-align: right;\">46.32</td><td style = \"text-align: left;\">2021-08-31</td><td style = \"text-align: right;\">45.775</td></tr><tr><td class = \"rowNumber\" style = \"font-weight: bold; text-align: right;\">7</td><td style = \"text-align: right;\">0</td><td style = \"text-align: right;\">1</td><td style = \"text-align: right;\">0</td><td style = \"text-align: right;\">0.0</td><td style = \"text-align: right;\">0</td><td style = \"text-align: left;\">2021-09-02T00:00:00</td><td style = \"text-align: right;\">1</td><td style = \"text-align: right;\">2934</td><td style = \"text-align: right;\">3</td><td style = \"text-align: left;\">2021-09-02</td><td style = \"text-align: right;\">2021</td><td style = \"text-align: right;\">3</td><td style = \"text-align: right;\">9</td><td style = \"text-align: right;\">35</td><td style = \"text-align: right;\">0</td><td style = \"text-align: right;\">245</td><td style = \"text-align: right;\">2</td><td style = \"text-align: right;\">4</td><td style = \"text-align: left;\">2021-09-01</td><td style = \"text-align: right;\">45.23</td><td style = \"text-align: right;\">46.32</td><td style = \"text-align: left;\">2021-08-31</td><td style = \"text-align: right;\">45.775</td></tr><tr><td class = \"rowNumber\" style = \"font-weight: bold; text-align: right;\">8</td><td style = \"text-align: right;\">0</td><td style = \"text-align: right;\">1</td><td style = \"text-align: right;\">0</td><td style = \"text-align: right;\">75.8</td><td style = \"text-align: right;\">1</td><td style = \"text-align: left;\">2021-09-02T00:00:00</td><td style = \"text-align: right;\">1</td><td style = \"text-align: right;\">2935</td><td style = \"text-align: right;\">3</td><td style = \"text-align: left;\">2021-09-02</td><td style = \"text-align: right;\">2021</td><td style = \"text-align: right;\">3</td><td style = \"text-align: right;\">9</td><td style = \"text-align: right;\">35</td><td style = \"text-align: right;\">0</td><td style = \"text-align: right;\">245</td><td style = \"text-align: right;\">2</td><td style = \"text-align: right;\">4</td><td style = \"text-align: left;\">2021-09-01</td><td style = \"text-align: right;\">45.23</td><td style = \"text-align: right;\">46.32</td><td style = \"text-align: left;\">2021-08-31</td><td style = \"text-align: right;\">45.775</td></tr><tr><td class = \"rowNumber\" style = \"font-weight: bold; text-align: right;\">9</td><td style = \"text-align: right;\">0</td><td style = \"text-align: right;\">1</td><td style = \"text-align: right;\">1</td><td style = \"text-align: right;\">0.0</td><td style = \"text-align: right;\">0</td><td style = \"text-align: left;\">2021-09-02T00:00:00</td><td style = \"text-align: right;\">1</td><td style = \"text-align: right;\">2936</td><td style = \"text-align: right;\">4</td><td style = \"text-align: left;\">2021-09-02</td><td style = \"text-align: right;\">2021</td><td style = \"text-align: right;\">3</td><td style = \"text-align: right;\">9</td><td style = \"text-align: right;\">35</td><td style = \"text-align: right;\">0</td><td style = \"text-align: right;\">245</td><td style = \"text-align: right;\">2</td><td style = \"text-align: right;\">4</td><td style = \"text-align: left;\">2021-09-01</td><td style = \"text-align: right;\">45.23</td><td style = \"text-align: right;\">46.32</td><td style = \"text-align: left;\">2021-08-31</td><td style = \"text-align: right;\">45.775</td></tr><tr><td class = \"rowNumber\" style = \"font-weight: bold; text-align: right;\">10</td><td style = \"text-align: right;\">0</td><td style = \"text-align: right;\">1</td><td style = \"text-align: right;\">1</td><td style = \"text-align: right;\">502.241</td><td style = \"text-align: right;\">1</td><td style = \"text-align: left;\">2021-09-02T00:00:00</td><td style = \"text-align: right;\">1</td><td style = \"text-align: right;\">2937</td><td style = \"text-align: right;\">4</td><td style = \"text-align: left;\">2021-09-02</td><td style = \"text-align: right;\">2021</td><td style = \"text-align: right;\">3</td><td style = \"text-align: right;\">9</td><td style = \"text-align: right;\">35</td><td style = \"text-align: right;\">0</td><td style = \"text-align: right;\">245</td><td style = \"text-align: right;\">2</td><td style = \"text-align: right;\">4</td><td style = \"text-align: left;\">2021-09-01</td><td style = \"text-align: right;\">45.23</td><td style = \"text-align: right;\">46.32</td><td style = \"text-align: left;\">2021-08-31</td><td style = \"text-align: right;\">45.775</td></tr><tr><td class = \"rowNumber\" style = \"font-weight: bold; text-align: right;\">11</td><td style = \"text-align: right;\">0</td><td style = \"text-align: right;\">1</td><td style = \"text-align: right;\">3</td><td style = \"text-align: right;\">1.025</td><td style = \"text-align: right;\">0</td><td style = \"text-align: left;\">2021-09-02T00:00:00</td><td style = \"text-align: right;\">1</td><td style = \"text-align: right;\">2938</td><td style = \"text-align: right;\">5</td><td style = \"text-align: left;\">2021-09-02</td><td style = \"text-align: right;\">2021</td><td style = \"text-align: right;\">3</td><td style = \"text-align: right;\">9</td><td style = \"text-align: right;\">35</td><td style = \"text-align: right;\">0</td><td style = \"text-align: right;\">245</td><td style = \"text-align: right;\">2</td><td style = \"text-align: right;\">4</td><td style = \"text-align: left;\">2021-09-01</td><td style = \"text-align: right;\">45.23</td><td style = \"text-align: right;\">46.32</td><td style = \"text-align: left;\">2021-08-31</td><td style = \"text-align: right;\">45.775</td></tr><tr><td class = \"rowNumber\" style = \"font-weight: bold; text-align: right;\">12</td><td style = \"text-align: right;\">0</td><td style = \"text-align: right;\">1</td><td style = \"text-align: right;\">3</td><td style = \"text-align: right;\">4317.31</td><td style = \"text-align: right;\">1</td><td style = \"text-align: left;\">2021-09-02T00:00:00</td><td style = \"text-align: right;\">1</td><td style = \"text-align: right;\">2939</td><td style = \"text-align: right;\">5</td><td style = \"text-align: left;\">2021-09-02</td><td style = \"text-align: right;\">2021</td><td style = \"text-align: right;\">3</td><td style = \"text-align: right;\">9</td><td style = \"text-align: right;\">35</td><td style = \"text-align: right;\">0</td><td style = \"text-align: right;\">245</td><td style = \"text-align: right;\">2</td><td style = \"text-align: right;\">4</td><td style = \"text-align: left;\">2021-09-01</td><td style = \"text-align: right;\">45.23</td><td style = \"text-align: right;\">46.32</td><td style = \"text-align: left;\">2021-08-31</td><td style = \"text-align: right;\">45.775</td></tr><tr><td class = \"rowNumber\" style = \"font-weight: bold; text-align: right;\">13</td><td style = \"text-align: right;\">1</td><td style = \"text-align: right;\">0</td><td style = \"text-align: right;\">1</td><td style = \"text-align: right;\">0.0</td><td style = \"text-align: right;\">0</td><td style = \"text-align: left;\">2021-09-02T00:00:00</td><td style = \"text-align: right;\">1</td><td style = \"text-align: right;\">2940</td><td style = \"text-align: right;\">6</td><td style = \"text-align: left;\">2021-09-02</td><td style = \"text-align: right;\">2021</td><td style = \"text-align: right;\">3</td><td style = \"text-align: right;\">9</td><td style = \"text-align: right;\">35</td><td style = \"text-align: right;\">0</td><td style = \"text-align: right;\">245</td><td style = \"text-align: right;\">2</td><td style = \"text-align: right;\">4</td><td style = \"text-align: left;\">2021-09-01</td><td style = \"text-align: right;\">45.23</td><td style = \"text-align: right;\">46.32</td><td style = \"text-align: left;\">2021-08-31</td><td style = \"text-align: right;\">45.775</td></tr><tr><td style = \"text-align: right;\">&vellip;</td><td style = \"text-align: right;\">&vellip;</td><td style = \"text-align: right;\">&vellip;</td><td style = \"text-align: right;\">&vellip;</td><td style = \"text-align: right;\">&vellip;</td><td style = \"text-align: right;\">&vellip;</td><td style = \"text-align: right;\">&vellip;</td><td style = \"text-align: right;\">&vellip;</td><td style = \"text-align: right;\">&vellip;</td><td style = \"text-align: right;\">&vellip;</td><td style = \"text-align: right;\">&vellip;</td><td style = \"text-align: right;\">&vellip;</td><td style = \"text-align: right;\">&vellip;</td><td style = \"text-align: right;\">&vellip;</td><td style = \"text-align: right;\">&vellip;</td><td style = \"text-align: right;\">&vellip;</td><td style = \"text-align: right;\">&vellip;</td><td style = \"text-align: right;\">&vellip;</td><td style = \"text-align: right;\">&vellip;</td><td style = \"text-align: right;\">&vellip;</td><td style = \"text-align: right;\">&vellip;</td><td style = \"text-align: right;\">&vellip;</td><td style = \"text-align: right;\">&vellip;</td><td style = \"text-align: right;\">&vellip;</td></tr><tr><td class = \"rowNumber\" style = \"font-weight: bold; text-align: right;\">2018341</td><td style = \"text-align: right;\">14</td><td style = \"text-align: right;\">1</td><td style = \"text-align: right;\">1</td><td style = \"text-align: right;\">0.0</td><td style = \"text-align: right;\">0</td><td style = \"text-align: left;\">2021-09-01T23:00:00</td><td style = \"text-align: right;\">0</td><td style = \"text-align: right;\">2916</td><td style = \"text-align: right;\">55</td><td style = \"text-align: left;\">2021-09-01</td><td style = \"text-align: right;\">2021</td><td style = \"text-align: right;\">3</td><td style = \"text-align: right;\">9</td><td style = \"text-align: right;\">35</td><td style = \"text-align: right;\">23</td><td style = \"text-align: right;\">244</td><td style = \"text-align: right;\">1</td><td style = \"text-align: right;\">3</td><td style = \"font-style: italic; text-align: left;\">missing</td><td style = \"font-style: italic; text-align: right;\">missing</td><td style = \"font-style: italic; text-align: right;\">missing</td><td style = \"font-style: italic; text-align: left;\">missing</td><td style = \"font-style: italic; text-align: right;\">missing</td></tr><tr><td class = \"rowNumber\" style = \"font-weight: bold; text-align: right;\">2018342</td><td style = \"text-align: right;\">14</td><td style = \"text-align: right;\">1</td><td style = \"text-align: right;\">1</td><td style = \"text-align: right;\">103.126</td><td style = \"text-align: right;\">1</td><td style = \"text-align: left;\">2021-09-01T23:00:00</td><td style = \"text-align: right;\">0</td><td style = \"text-align: right;\">2917</td><td style = \"text-align: right;\">55</td><td style = \"text-align: left;\">2021-09-01</td><td style = \"text-align: right;\">2021</td><td style = \"text-align: right;\">3</td><td style = \"text-align: right;\">9</td><td style = \"text-align: right;\">35</td><td style = \"text-align: right;\">23</td><td style = \"text-align: right;\">244</td><td style = \"text-align: right;\">1</td><td style = \"text-align: right;\">3</td><td style = \"font-style: italic; text-align: left;\">missing</td><td style = \"font-style: italic; text-align: right;\">missing</td><td style = \"font-style: italic; text-align: right;\">missing</td><td style = \"font-style: italic; text-align: left;\">missing</td><td style = \"font-style: italic; text-align: right;\">missing</td></tr><tr><td class = \"rowNumber\" style = \"font-weight: bold; text-align: right;\">2018343</td><td style = \"text-align: right;\">14</td><td style = \"text-align: right;\">1</td><td style = \"text-align: right;\">3</td><td style = \"text-align: right;\">0.0</td><td style = \"text-align: right;\">0</td><td style = \"text-align: left;\">2021-09-01T23:00:00</td><td style = \"text-align: right;\">0</td><td style = \"text-align: right;\">2918</td><td style = \"text-align: right;\">56</td><td style = \"text-align: left;\">2021-09-01</td><td style = \"text-align: right;\">2021</td><td style = \"text-align: right;\">3</td><td style = \"text-align: right;\">9</td><td style = \"text-align: right;\">35</td><td style = \"text-align: right;\">23</td><td style = \"text-align: right;\">244</td><td style = \"text-align: right;\">1</td><td style = \"text-align: right;\">3</td><td style = \"font-style: italic; text-align: left;\">missing</td><td style = \"font-style: italic; text-align: right;\">missing</td><td style = \"font-style: italic; text-align: right;\">missing</td><td style = \"font-style: italic; text-align: left;\">missing</td><td style = \"font-style: italic; text-align: right;\">missing</td></tr><tr><td class = \"rowNumber\" style = \"font-weight: bold; text-align: right;\">2018344</td><td style = \"text-align: right;\">14</td><td style = \"text-align: right;\">1</td><td style = \"text-align: right;\">3</td><td style = \"text-align: right;\">895.868</td><td style = \"text-align: right;\">1</td><td style = \"text-align: left;\">2021-09-01T23:00:00</td><td style = \"text-align: right;\">0</td><td style = \"text-align: right;\">2919</td><td style = \"text-align: right;\">56</td><td style = \"text-align: left;\">2021-09-01</td><td style = \"text-align: right;\">2021</td><td style = \"text-align: right;\">3</td><td style = \"text-align: right;\">9</td><td style = \"text-align: right;\">35</td><td style = \"text-align: right;\">23</td><td style = \"text-align: right;\">244</td><td style = \"text-align: right;\">1</td><td style = \"text-align: right;\">3</td><td style = \"font-style: italic; text-align: left;\">missing</td><td style = \"font-style: italic; text-align: right;\">missing</td><td style = \"font-style: italic; text-align: right;\">missing</td><td style = \"font-style: italic; text-align: left;\">missing</td><td style = \"font-style: italic; text-align: right;\">missing</td></tr><tr><td class = \"rowNumber\" style = \"font-weight: bold; text-align: right;\">2018345</td><td style = \"text-align: right;\">15</td><td style = \"text-align: right;\">0</td><td style = \"text-align: right;\">1</td><td style = \"text-align: right;\">0.676</td><td style = \"text-align: right;\">0</td><td style = \"text-align: left;\">2021-09-01T23:00:00</td><td style = \"text-align: right;\">0</td><td style = \"text-align: right;\">2920</td><td style = \"text-align: right;\">57</td><td style = \"text-align: left;\">2021-09-01</td><td style = \"text-align: right;\">2021</td><td style = \"text-align: right;\">3</td><td style = \"text-align: right;\">9</td><td style = \"text-align: right;\">35</td><td style = \"text-align: right;\">23</td><td style = \"text-align: right;\">244</td><td style = \"text-align: right;\">1</td><td style = \"text-align: right;\">3</td><td style = \"font-style: italic; text-align: left;\">missing</td><td style = \"font-style: italic; text-align: right;\">missing</td><td style = \"font-style: italic; text-align: right;\">missing</td><td style = \"font-style: italic; text-align: left;\">missing</td><td style = \"font-style: italic; text-align: right;\">missing</td></tr><tr><td class = \"rowNumber\" style = \"font-weight: bold; text-align: right;\">2018346</td><td style = \"text-align: right;\">15</td><td style = \"text-align: right;\">0</td><td style = \"text-align: right;\">1</td><td style = \"text-align: right;\">6.387</td><td style = \"text-align: right;\">1</td><td style = \"text-align: left;\">2021-09-01T23:00:00</td><td style = \"text-align: right;\">0</td><td style = \"text-align: right;\">2921</td><td style = \"text-align: right;\">57</td><td style = \"text-align: left;\">2021-09-01</td><td style = \"text-align: right;\">2021</td><td style = \"text-align: right;\">3</td><td style = \"text-align: right;\">9</td><td style = \"text-align: right;\">35</td><td style = \"text-align: right;\">23</td><td style = \"text-align: right;\">244</td><td style = \"text-align: right;\">1</td><td style = \"text-align: right;\">3</td><td style = \"font-style: italic; text-align: left;\">missing</td><td style = \"font-style: italic; text-align: right;\">missing</td><td style = \"font-style: italic; text-align: right;\">missing</td><td style = \"font-style: italic; text-align: left;\">missing</td><td style = \"font-style: italic; text-align: right;\">missing</td></tr><tr><td class = \"rowNumber\" style = \"font-weight: bold; text-align: right;\">2018347</td><td style = \"text-align: right;\">15</td><td style = \"text-align: right;\">0</td><td style = \"text-align: right;\">3</td><td style = \"text-align: right;\">3.946</td><td style = \"text-align: right;\">0</td><td style = \"text-align: left;\">2021-09-01T23:00:00</td><td style = \"text-align: right;\">0</td><td style = \"text-align: right;\">2922</td><td style = \"text-align: right;\">58</td><td style = \"text-align: left;\">2021-09-01</td><td style = \"text-align: right;\">2021</td><td style = \"text-align: right;\">3</td><td style = \"text-align: right;\">9</td><td style = \"text-align: right;\">35</td><td style = \"text-align: right;\">23</td><td style = \"text-align: right;\">244</td><td style = \"text-align: right;\">1</td><td style = \"text-align: right;\">3</td><td style = \"font-style: italic; text-align: left;\">missing</td><td style = \"font-style: italic; text-align: right;\">missing</td><td style = \"font-style: italic; text-align: right;\">missing</td><td style = \"font-style: italic; text-align: left;\">missing</td><td style = \"font-style: italic; text-align: right;\">missing</td></tr><tr><td class = \"rowNumber\" style = \"font-weight: bold; text-align: right;\">2018348</td><td style = \"text-align: right;\">15</td><td style = \"text-align: right;\">0</td><td style = \"text-align: right;\">3</td><td style = \"text-align: right;\">57.519</td><td style = \"text-align: right;\">1</td><td style = \"text-align: left;\">2021-09-01T23:00:00</td><td style = \"text-align: right;\">0</td><td style = \"text-align: right;\">2923</td><td style = \"text-align: right;\">58</td><td style = \"text-align: left;\">2021-09-01</td><td style = \"text-align: right;\">2021</td><td style = \"text-align: right;\">3</td><td style = \"text-align: right;\">9</td><td style = \"text-align: right;\">35</td><td style = \"text-align: right;\">23</td><td style = \"text-align: right;\">244</td><td style = \"text-align: right;\">1</td><td style = \"text-align: right;\">3</td><td style = \"font-style: italic; text-align: left;\">missing</td><td style = \"font-style: italic; text-align: right;\">missing</td><td style = \"font-style: italic; text-align: right;\">missing</td><td style = \"font-style: italic; text-align: left;\">missing</td><td style = \"font-style: italic; text-align: right;\">missing</td></tr><tr><td class = \"rowNumber\" style = \"font-weight: bold; text-align: right;\">2018349</td><td style = \"text-align: right;\">15</td><td style = \"text-align: right;\">1</td><td style = \"text-align: right;\">1</td><td style = \"text-align: right;\">0.0</td><td style = \"text-align: right;\">0</td><td style = \"text-align: left;\">2021-09-01T23:00:00</td><td style = \"text-align: right;\">0</td><td style = \"text-align: right;\">2924</td><td style = \"text-align: right;\">59</td><td style = \"text-align: left;\">2021-09-01</td><td style = \"text-align: right;\">2021</td><td style = \"text-align: right;\">3</td><td style = \"text-align: right;\">9</td><td style = \"text-align: right;\">35</td><td style = \"text-align: right;\">23</td><td style = \"text-align: right;\">244</td><td style = \"text-align: right;\">1</td><td style = \"text-align: right;\">3</td><td style = \"font-style: italic; text-align: left;\">missing</td><td style = \"font-style: italic; text-align: right;\">missing</td><td style = \"font-style: italic; text-align: right;\">missing</td><td style = \"font-style: italic; text-align: left;\">missing</td><td style = \"font-style: italic; text-align: right;\">missing</td></tr><tr><td class = \"rowNumber\" style = \"font-weight: bold; text-align: right;\">2018350</td><td style = \"text-align: right;\">15</td><td style = \"text-align: right;\">1</td><td style = \"text-align: right;\">1</td><td style = \"text-align: right;\">20.209</td><td style = \"text-align: right;\">1</td><td style = \"text-align: left;\">2021-09-01T23:00:00</td><td style = \"text-align: right;\">0</td><td style = \"text-align: right;\">2925</td><td style = \"text-align: right;\">59</td><td style = \"text-align: left;\">2021-09-01</td><td style = \"text-align: right;\">2021</td><td style = \"text-align: right;\">3</td><td style = \"text-align: right;\">9</td><td style = \"text-align: right;\">35</td><td style = \"text-align: right;\">23</td><td style = \"text-align: right;\">244</td><td style = \"text-align: right;\">1</td><td style = \"text-align: right;\">3</td><td style = \"font-style: italic; text-align: left;\">missing</td><td style = \"font-style: italic; text-align: right;\">missing</td><td style = \"font-style: italic; text-align: right;\">missing</td><td style = \"font-style: italic; text-align: left;\">missing</td><td style = \"font-style: italic; text-align: right;\">missing</td></tr><tr><td class = \"rowNumber\" style = \"font-weight: bold; text-align: right;\">2018351</td><td style = \"text-align: right;\">15</td><td style = \"text-align: right;\">1</td><td style = \"text-align: right;\">3</td><td style = \"text-align: right;\">0.0</td><td style = \"text-align: right;\">0</td><td style = \"text-align: left;\">2021-09-01T23:00:00</td><td style = \"text-align: right;\">0</td><td style = \"text-align: right;\">2926</td><td style = \"text-align: right;\">60</td><td style = \"text-align: left;\">2021-09-01</td><td style = \"text-align: right;\">2021</td><td style = \"text-align: right;\">3</td><td style = \"text-align: right;\">9</td><td style = \"text-align: right;\">35</td><td style = \"text-align: right;\">23</td><td style = \"text-align: right;\">244</td><td style = \"text-align: right;\">1</td><td style = \"text-align: right;\">3</td><td style = \"font-style: italic; text-align: left;\">missing</td><td style = \"font-style: italic; text-align: right;\">missing</td><td style = \"font-style: italic; text-align: right;\">missing</td><td style = \"font-style: italic; text-align: left;\">missing</td><td style = \"font-style: italic; text-align: right;\">missing</td></tr><tr><td class = \"rowNumber\" style = \"font-weight: bold; text-align: right;\">2018352</td><td style = \"text-align: right;\">15</td><td style = \"text-align: right;\">1</td><td style = \"text-align: right;\">3</td><td style = \"text-align: right;\">284.945</td><td style = \"text-align: right;\">1</td><td style = \"text-align: left;\">2021-09-01T23:00:00</td><td style = \"text-align: right;\">0</td><td style = \"text-align: right;\">2927</td><td style = \"text-align: right;\">60</td><td style = \"text-align: left;\">2021-09-01</td><td style = \"text-align: right;\">2021</td><td style = \"text-align: right;\">3</td><td style = \"text-align: right;\">9</td><td style = \"text-align: right;\">35</td><td style = \"text-align: right;\">23</td><td style = \"text-align: right;\">244</td><td style = \"text-align: right;\">1</td><td style = \"text-align: right;\">3</td><td style = \"font-style: italic; text-align: left;\">missing</td><td style = \"font-style: italic; text-align: right;\">missing</td><td style = \"font-style: italic; text-align: right;\">missing</td><td style = \"font-style: italic; text-align: left;\">missing</td><td style = \"font-style: italic; text-align: right;\">missing</td></tr></tbody></table></div>"
      ],
      "text/latex": [
       "\\begin{tabular}{r|ccccccc}\n",
       "\t& county & is\\_business & product\\_type & target & is\\_consumption & datetime & \\\\\n",
       "\t\\hline\n",
       "\t& Int64 & Int64 & Int64 & Float64? & Int64 & DateTime & \\\\\n",
       "\t\\hline\n",
       "\t1 & 0 & 0 & 1 & 1.687 & 0 & 2021-09-02T00:00:00 & $\\dots$ \\\\\n",
       "\t2 & 0 & 0 & 1 & 109.366 & 1 & 2021-09-02T00:00:00 & $\\dots$ \\\\\n",
       "\t3 & 0 & 0 & 2 & 0.0 & 0 & 2021-09-02T00:00:00 & $\\dots$ \\\\\n",
       "\t4 & 0 & 0 & 2 & 21.008 & 1 & 2021-09-02T00:00:00 & $\\dots$ \\\\\n",
       "\t5 & 0 & 0 & 3 & 1.003 & 0 & 2021-09-02T00:00:00 & $\\dots$ \\\\\n",
       "\t6 & 0 & 0 & 3 & 735.696 & 1 & 2021-09-02T00:00:00 & $\\dots$ \\\\\n",
       "\t7 & 0 & 1 & 0 & 0.0 & 0 & 2021-09-02T00:00:00 & $\\dots$ \\\\\n",
       "\t8 & 0 & 1 & 0 & 75.8 & 1 & 2021-09-02T00:00:00 & $\\dots$ \\\\\n",
       "\t9 & 0 & 1 & 1 & 0.0 & 0 & 2021-09-02T00:00:00 & $\\dots$ \\\\\n",
       "\t10 & 0 & 1 & 1 & 502.241 & 1 & 2021-09-02T00:00:00 & $\\dots$ \\\\\n",
       "\t11 & 0 & 1 & 3 & 1.025 & 0 & 2021-09-02T00:00:00 & $\\dots$ \\\\\n",
       "\t12 & 0 & 1 & 3 & 4317.31 & 1 & 2021-09-02T00:00:00 & $\\dots$ \\\\\n",
       "\t13 & 1 & 0 & 1 & 0.0 & 0 & 2021-09-02T00:00:00 & $\\dots$ \\\\\n",
       "\t14 & 1 & 0 & 1 & 3.784 & 1 & 2021-09-02T00:00:00 & $\\dots$ \\\\\n",
       "\t15 & 1 & 0 & 3 & 0.147 & 0 & 2021-09-02T00:00:00 & $\\dots$ \\\\\n",
       "\t16 & 1 & 0 & 3 & 29.166 & 1 & 2021-09-02T00:00:00 & $\\dots$ \\\\\n",
       "\t17 & 1 & 1 & 3 & 0.0 & 0 & 2021-09-02T00:00:00 & $\\dots$ \\\\\n",
       "\t18 & 1 & 1 & 3 & 30.487 & 1 & 2021-09-02T00:00:00 & $\\dots$ \\\\\n",
       "\t19 & 2 & 0 & 3 & 0.206 & 0 & 2021-09-02T00:00:00 & $\\dots$ \\\\\n",
       "\t20 & 2 & 0 & 3 & 23.045 & 1 & 2021-09-02T00:00:00 & $\\dots$ \\\\\n",
       "\t21 & 2 & 1 & 3 & 0.0 & 0 & 2021-09-02T00:00:00 & $\\dots$ \\\\\n",
       "\t22 & 2 & 1 & 3 & 248.478 & 1 & 2021-09-02T00:00:00 & $\\dots$ \\\\\n",
       "\t23 & 3 & 0 & 1 & 0.0 & 0 & 2021-09-02T00:00:00 & $\\dots$ \\\\\n",
       "\t24 & 3 & 0 & 1 & 14.442 & 1 & 2021-09-02T00:00:00 & $\\dots$ \\\\\n",
       "\t$\\dots$ & $\\dots$ & $\\dots$ & $\\dots$ & $\\dots$ & $\\dots$ & $\\dots$ &  \\\\\n",
       "\\end{tabular}\n"
      ],
      "text/plain": [
       "\u001b[1m2018352×23 DataFrame\u001b[0m\n",
       "\u001b[1m     Row \u001b[0m│\u001b[1m county \u001b[0m\u001b[1m is_business \u001b[0m\u001b[1m product_type \u001b[0m\u001b[1m target   \u001b[0m\u001b[1m is_consumption \u001b[0m\u001b[1m dateti\u001b[0m ⋯\n",
       "         │\u001b[90m Int64  \u001b[0m\u001b[90m Int64       \u001b[0m\u001b[90m Int64        \u001b[0m\u001b[90m Float64? \u001b[0m\u001b[90m Int64          \u001b[0m\u001b[90m DateTi\u001b[0m ⋯\n",
       "─────────┼──────────────────────────────────────────────────────────────────────\n",
       "       1 │      0            0             1     1.687               0  2021-0 ⋯\n",
       "       2 │      0            0             1   109.366               1  2021-0\n",
       "       3 │      0            0             2     0.0                 0  2021-0\n",
       "       4 │      0            0             2    21.008               1  2021-0\n",
       "       5 │      0            0             3     1.003               0  2021-0 ⋯\n",
       "       6 │      0            0             3   735.696               1  2021-0\n",
       "       7 │      0            1             0     0.0                 0  2021-0\n",
       "       8 │      0            1             0    75.8                 1  2021-0\n",
       "    ⋮    │   ⋮          ⋮            ⋮           ⋮            ⋮                ⋱\n",
       " 2018346 │     15            0             1     6.387               1  2021-0 ⋯\n",
       " 2018347 │     15            0             3     3.946               0  2021-0\n",
       " 2018348 │     15            0             3    57.519               1  2021-0\n",
       " 2018349 │     15            1             1     0.0                 0  2021-0\n",
       " 2018350 │     15            1             1    20.209               1  2021-0 ⋯\n",
       " 2018351 │     15            1             3     0.0                 0  2021-0\n",
       " 2018352 │     15            1             3   284.945               1  2021-0\n",
       "\u001b[36m                                             18 columns and 2018337 rows omitted\u001b[0m"
      ]
     },
     "metadata": {},
     "output_type": "display_data"
    }
   ],
   "source": [
    "processor = DataProcessor()\n",
    "process_data(processor, dfs)"
   ]
  },
  {
   "cell_type": "code",
   "execution_count": 70,
   "metadata": {},
   "outputs": [
    {
     "data": {
      "text/html": [
       "<div><div style = \"float: left;\"><span>15286×13 DataFrame</span></div><div style = \"float: right;\"><span style = \"font-style: italic;\">15261 rows omitted</span></div><div style = \"clear: both;\"></div></div><div class = \"data-frame\" style = \"overflow-x: scroll;\"><table class = \"data-frame\" style = \"margin-bottom: 6px;\"><thead><tr class = \"header\"><th class = \"rowNumber\" style = \"font-weight: bold; text-align: right;\">Row</th><th style = \"text-align: left;\">datetime</th><th style = \"text-align: left;\">euros_per_mwh</th><th style = \"text-align: left;\">origin_date</th><th style = \"text-align: left;\">data_block_id</th><th style = \"text-align: left;\">date</th><th style = \"text-align: left;\">year</th><th style = \"text-align: left;\">quarter</th><th style = \"text-align: left;\">month</th><th style = \"text-align: left;\">day_of_year</th><th style = \"text-align: left;\">day_of_month</th><th style = \"text-align: left;\">day_of_week</th><th style = \"text-align: left;\">week</th><th style = \"text-align: left;\">hour</th></tr><tr class = \"subheader headerLastRow\"><th class = \"rowNumber\" style = \"font-weight: bold; text-align: right;\"></th><th title = \"DateTime\" style = \"text-align: left;\">DateTime</th><th title = \"Float64\" style = \"text-align: left;\">Float64</th><th title = \"String31\" style = \"text-align: left;\">String31</th><th title = \"Int64\" style = \"text-align: left;\">Int64</th><th title = \"Date\" style = \"text-align: left;\">Date</th><th title = \"Int64\" style = \"text-align: left;\">Int64</th><th title = \"Int64\" style = \"text-align: left;\">Int64</th><th title = \"Int64\" style = \"text-align: left;\">Int64</th><th title = \"Int64\" style = \"text-align: left;\">Int64</th><th title = \"Int64\" style = \"text-align: left;\">Int64</th><th title = \"Int64\" style = \"text-align: left;\">Int64</th><th title = \"Int64\" style = \"text-align: left;\">Int64</th><th title = \"Int64\" style = \"text-align: left;\">Int64</th></tr></thead><tbody><tr><td class = \"rowNumber\" style = \"font-weight: bold; text-align: right;\">1</td><td style = \"text-align: left;\">2021-09-01T00:00:00</td><td style = \"text-align: right;\">92.51</td><td style = \"text-align: left;\">2021-08-31 00:00:00</td><td style = \"text-align: right;\">1</td><td style = \"text-align: left;\">2021-09-01</td><td style = \"text-align: right;\">2021</td><td style = \"text-align: right;\">3</td><td style = \"text-align: right;\">9</td><td style = \"text-align: right;\">244</td><td style = \"text-align: right;\">1</td><td style = \"text-align: right;\">3</td><td style = \"text-align: right;\">35</td><td style = \"text-align: right;\">0</td></tr><tr><td class = \"rowNumber\" style = \"font-weight: bold; text-align: right;\">2</td><td style = \"text-align: left;\">2021-09-01T01:00:00</td><td style = \"text-align: right;\">88.9</td><td style = \"text-align: left;\">2021-08-31 01:00:00</td><td style = \"text-align: right;\">1</td><td style = \"text-align: left;\">2021-09-01</td><td style = \"text-align: right;\">2021</td><td style = \"text-align: right;\">3</td><td style = \"text-align: right;\">9</td><td style = \"text-align: right;\">244</td><td style = \"text-align: right;\">1</td><td style = \"text-align: right;\">3</td><td style = \"text-align: right;\">35</td><td style = \"text-align: right;\">1</td></tr><tr><td class = \"rowNumber\" style = \"font-weight: bold; text-align: right;\">3</td><td style = \"text-align: left;\">2021-09-01T02:00:00</td><td style = \"text-align: right;\">87.35</td><td style = \"text-align: left;\">2021-08-31 02:00:00</td><td style = \"text-align: right;\">1</td><td style = \"text-align: left;\">2021-09-01</td><td style = \"text-align: right;\">2021</td><td style = \"text-align: right;\">3</td><td style = \"text-align: right;\">9</td><td style = \"text-align: right;\">244</td><td style = \"text-align: right;\">1</td><td style = \"text-align: right;\">3</td><td style = \"text-align: right;\">35</td><td style = \"text-align: right;\">2</td></tr><tr><td class = \"rowNumber\" style = \"font-weight: bold; text-align: right;\">4</td><td style = \"text-align: left;\">2021-09-01T03:00:00</td><td style = \"text-align: right;\">86.88</td><td style = \"text-align: left;\">2021-08-31 03:00:00</td><td style = \"text-align: right;\">1</td><td style = \"text-align: left;\">2021-09-01</td><td style = \"text-align: right;\">2021</td><td style = \"text-align: right;\">3</td><td style = \"text-align: right;\">9</td><td style = \"text-align: right;\">244</td><td style = \"text-align: right;\">1</td><td style = \"text-align: right;\">3</td><td style = \"text-align: right;\">35</td><td style = \"text-align: right;\">3</td></tr><tr><td class = \"rowNumber\" style = \"font-weight: bold; text-align: right;\">5</td><td style = \"text-align: left;\">2021-09-01T04:00:00</td><td style = \"text-align: right;\">88.43</td><td style = \"text-align: left;\">2021-08-31 04:00:00</td><td style = \"text-align: right;\">1</td><td style = \"text-align: left;\">2021-09-01</td><td style = \"text-align: right;\">2021</td><td style = \"text-align: right;\">3</td><td style = \"text-align: right;\">9</td><td style = \"text-align: right;\">244</td><td style = \"text-align: right;\">1</td><td style = \"text-align: right;\">3</td><td style = \"text-align: right;\">35</td><td style = \"text-align: right;\">4</td></tr><tr><td class = \"rowNumber\" style = \"font-weight: bold; text-align: right;\">6</td><td style = \"text-align: left;\">2021-09-01T05:00:00</td><td style = \"text-align: right;\">93.58</td><td style = \"text-align: left;\">2021-08-31 05:00:00</td><td style = \"text-align: right;\">1</td><td style = \"text-align: left;\">2021-09-01</td><td style = \"text-align: right;\">2021</td><td style = \"text-align: right;\">3</td><td style = \"text-align: right;\">9</td><td style = \"text-align: right;\">244</td><td style = \"text-align: right;\">1</td><td style = \"text-align: right;\">3</td><td style = \"text-align: right;\">35</td><td style = \"text-align: right;\">5</td></tr><tr><td class = \"rowNumber\" style = \"font-weight: bold; text-align: right;\">7</td><td style = \"text-align: left;\">2021-09-01T06:00:00</td><td style = \"text-align: right;\">118.7</td><td style = \"text-align: left;\">2021-08-31 06:00:00</td><td style = \"text-align: right;\">1</td><td style = \"text-align: left;\">2021-09-01</td><td style = \"text-align: right;\">2021</td><td style = \"text-align: right;\">3</td><td style = \"text-align: right;\">9</td><td style = \"text-align: right;\">244</td><td style = \"text-align: right;\">1</td><td style = \"text-align: right;\">3</td><td style = \"text-align: right;\">35</td><td style = \"text-align: right;\">6</td></tr><tr><td class = \"rowNumber\" style = \"font-weight: bold; text-align: right;\">8</td><td style = \"text-align: left;\">2021-09-01T07:00:00</td><td style = \"text-align: right;\">135.44</td><td style = \"text-align: left;\">2021-08-31 07:00:00</td><td style = \"text-align: right;\">1</td><td style = \"text-align: left;\">2021-09-01</td><td style = \"text-align: right;\">2021</td><td style = \"text-align: right;\">3</td><td style = \"text-align: right;\">9</td><td style = \"text-align: right;\">244</td><td style = \"text-align: right;\">1</td><td style = \"text-align: right;\">3</td><td style = \"text-align: right;\">35</td><td style = \"text-align: right;\">7</td></tr><tr><td class = \"rowNumber\" style = \"font-weight: bold; text-align: right;\">9</td><td style = \"text-align: left;\">2021-09-01T08:00:00</td><td style = \"text-align: right;\">140.72</td><td style = \"text-align: left;\">2021-08-31 08:00:00</td><td style = \"text-align: right;\">1</td><td style = \"text-align: left;\">2021-09-01</td><td style = \"text-align: right;\">2021</td><td style = \"text-align: right;\">3</td><td style = \"text-align: right;\">9</td><td style = \"text-align: right;\">244</td><td style = \"text-align: right;\">1</td><td style = \"text-align: right;\">3</td><td style = \"text-align: right;\">35</td><td style = \"text-align: right;\">8</td></tr><tr><td class = \"rowNumber\" style = \"font-weight: bold; text-align: right;\">10</td><td style = \"text-align: left;\">2021-09-01T09:00:00</td><td style = \"text-align: right;\">130.0</td><td style = \"text-align: left;\">2021-08-31 09:00:00</td><td style = \"text-align: right;\">1</td><td style = \"text-align: left;\">2021-09-01</td><td style = \"text-align: right;\">2021</td><td style = \"text-align: right;\">3</td><td style = \"text-align: right;\">9</td><td style = \"text-align: right;\">244</td><td style = \"text-align: right;\">1</td><td style = \"text-align: right;\">3</td><td style = \"text-align: right;\">35</td><td style = \"text-align: right;\">9</td></tr><tr><td class = \"rowNumber\" style = \"font-weight: bold; text-align: right;\">11</td><td style = \"text-align: left;\">2021-09-01T10:00:00</td><td style = \"text-align: right;\">116.99</td><td style = \"text-align: left;\">2021-08-31 10:00:00</td><td style = \"text-align: right;\">1</td><td style = \"text-align: left;\">2021-09-01</td><td style = \"text-align: right;\">2021</td><td style = \"text-align: right;\">3</td><td style = \"text-align: right;\">9</td><td style = \"text-align: right;\">244</td><td style = \"text-align: right;\">1</td><td style = \"text-align: right;\">3</td><td style = \"text-align: right;\">35</td><td style = \"text-align: right;\">10</td></tr><tr><td class = \"rowNumber\" style = \"font-weight: bold; text-align: right;\">12</td><td style = \"text-align: left;\">2021-09-01T11:00:00</td><td style = \"text-align: right;\">109.75</td><td style = \"text-align: left;\">2021-08-31 11:00:00</td><td style = \"text-align: right;\">1</td><td style = \"text-align: left;\">2021-09-01</td><td style = \"text-align: right;\">2021</td><td style = \"text-align: right;\">3</td><td style = \"text-align: right;\">9</td><td style = \"text-align: right;\">244</td><td style = \"text-align: right;\">1</td><td style = \"text-align: right;\">3</td><td style = \"text-align: right;\">35</td><td style = \"text-align: right;\">11</td></tr><tr><td class = \"rowNumber\" style = \"font-weight: bold; text-align: right;\">13</td><td style = \"text-align: left;\">2021-09-01T12:00:00</td><td style = \"text-align: right;\">103.88</td><td style = \"text-align: left;\">2021-08-31 12:00:00</td><td style = \"text-align: right;\">1</td><td style = \"text-align: left;\">2021-09-01</td><td style = \"text-align: right;\">2021</td><td style = \"text-align: right;\">3</td><td style = \"text-align: right;\">9</td><td style = \"text-align: right;\">244</td><td style = \"text-align: right;\">1</td><td style = \"text-align: right;\">3</td><td style = \"text-align: right;\">35</td><td style = \"text-align: right;\">12</td></tr><tr><td style = \"text-align: right;\">&vellip;</td><td style = \"text-align: right;\">&vellip;</td><td style = \"text-align: right;\">&vellip;</td><td style = \"text-align: right;\">&vellip;</td><td style = \"text-align: right;\">&vellip;</td><td style = \"text-align: right;\">&vellip;</td><td style = \"text-align: right;\">&vellip;</td><td style = \"text-align: right;\">&vellip;</td><td style = \"text-align: right;\">&vellip;</td><td style = \"text-align: right;\">&vellip;</td><td style = \"text-align: right;\">&vellip;</td><td style = \"text-align: right;\">&vellip;</td><td style = \"text-align: right;\">&vellip;</td><td style = \"text-align: right;\">&vellip;</td></tr><tr><td class = \"rowNumber\" style = \"font-weight: bold; text-align: right;\">15275</td><td style = \"text-align: left;\">2023-05-30T12:00:00</td><td style = \"text-align: right;\">64.49</td><td style = \"text-align: left;\">2023-05-29 12:00:00</td><td style = \"text-align: right;\">637</td><td style = \"text-align: left;\">2023-05-30</td><td style = \"text-align: right;\">2023</td><td style = \"text-align: right;\">2</td><td style = \"text-align: right;\">5</td><td style = \"text-align: right;\">150</td><td style = \"text-align: right;\">30</td><td style = \"text-align: right;\">2</td><td style = \"text-align: right;\">22</td><td style = \"text-align: right;\">12</td></tr><tr><td class = \"rowNumber\" style = \"font-weight: bold; text-align: right;\">15276</td><td style = \"text-align: left;\">2023-05-30T13:00:00</td><td style = \"text-align: right;\">57.36</td><td style = \"text-align: left;\">2023-05-29 13:00:00</td><td style = \"text-align: right;\">637</td><td style = \"text-align: left;\">2023-05-30</td><td style = \"text-align: right;\">2023</td><td style = \"text-align: right;\">2</td><td style = \"text-align: right;\">5</td><td style = \"text-align: right;\">150</td><td style = \"text-align: right;\">30</td><td style = \"text-align: right;\">2</td><td style = \"text-align: right;\">22</td><td style = \"text-align: right;\">13</td></tr><tr><td class = \"rowNumber\" style = \"font-weight: bold; text-align: right;\">15277</td><td style = \"text-align: left;\">2023-05-30T14:00:00</td><td style = \"text-align: right;\">19.63</td><td style = \"text-align: left;\">2023-05-29 14:00:00</td><td style = \"text-align: right;\">637</td><td style = \"text-align: left;\">2023-05-30</td><td style = \"text-align: right;\">2023</td><td style = \"text-align: right;\">2</td><td style = \"text-align: right;\">5</td><td style = \"text-align: right;\">150</td><td style = \"text-align: right;\">30</td><td style = \"text-align: right;\">2</td><td style = \"text-align: right;\">22</td><td style = \"text-align: right;\">14</td></tr><tr><td class = \"rowNumber\" style = \"font-weight: bold; text-align: right;\">15278</td><td style = \"text-align: left;\">2023-05-30T15:00:00</td><td style = \"text-align: right;\">13.1</td><td style = \"text-align: left;\">2023-05-29 15:00:00</td><td style = \"text-align: right;\">637</td><td style = \"text-align: left;\">2023-05-30</td><td style = \"text-align: right;\">2023</td><td style = \"text-align: right;\">2</td><td style = \"text-align: right;\">5</td><td style = \"text-align: right;\">150</td><td style = \"text-align: right;\">30</td><td style = \"text-align: right;\">2</td><td style = \"text-align: right;\">22</td><td style = \"text-align: right;\">15</td></tr><tr><td class = \"rowNumber\" style = \"font-weight: bold; text-align: right;\">15279</td><td style = \"text-align: left;\">2023-05-30T16:00:00</td><td style = \"text-align: right;\">11.92</td><td style = \"text-align: left;\">2023-05-29 16:00:00</td><td style = \"text-align: right;\">637</td><td style = \"text-align: left;\">2023-05-30</td><td style = \"text-align: right;\">2023</td><td style = \"text-align: right;\">2</td><td style = \"text-align: right;\">5</td><td style = \"text-align: right;\">150</td><td style = \"text-align: right;\">30</td><td style = \"text-align: right;\">2</td><td style = \"text-align: right;\">22</td><td style = \"text-align: right;\">16</td></tr><tr><td class = \"rowNumber\" style = \"font-weight: bold; text-align: right;\">15280</td><td style = \"text-align: left;\">2023-05-30T17:00:00</td><td style = \"text-align: right;\">9.55</td><td style = \"text-align: left;\">2023-05-29 17:00:00</td><td style = \"text-align: right;\">637</td><td style = \"text-align: left;\">2023-05-30</td><td style = \"text-align: right;\">2023</td><td style = \"text-align: right;\">2</td><td style = \"text-align: right;\">5</td><td style = \"text-align: right;\">150</td><td style = \"text-align: right;\">30</td><td style = \"text-align: right;\">2</td><td style = \"text-align: right;\">22</td><td style = \"text-align: right;\">17</td></tr><tr><td class = \"rowNumber\" style = \"font-weight: bold; text-align: right;\">15281</td><td style = \"text-align: left;\">2023-05-30T18:00:00</td><td style = \"text-align: right;\">82.1</td><td style = \"text-align: left;\">2023-05-29 18:00:00</td><td style = \"text-align: right;\">637</td><td style = \"text-align: left;\">2023-05-30</td><td style = \"text-align: right;\">2023</td><td style = \"text-align: right;\">2</td><td style = \"text-align: right;\">5</td><td style = \"text-align: right;\">150</td><td style = \"text-align: right;\">30</td><td style = \"text-align: right;\">2</td><td style = \"text-align: right;\">22</td><td style = \"text-align: right;\">18</td></tr><tr><td class = \"rowNumber\" style = \"font-weight: bold; text-align: right;\">15282</td><td style = \"text-align: left;\">2023-05-30T19:00:00</td><td style = \"text-align: right;\">82.1</td><td style = \"text-align: left;\">2023-05-29 19:00:00</td><td style = \"text-align: right;\">637</td><td style = \"text-align: left;\">2023-05-30</td><td style = \"text-align: right;\">2023</td><td style = \"text-align: right;\">2</td><td style = \"text-align: right;\">5</td><td style = \"text-align: right;\">150</td><td style = \"text-align: right;\">30</td><td style = \"text-align: right;\">2</td><td style = \"text-align: right;\">22</td><td style = \"text-align: right;\">19</td></tr><tr><td class = \"rowNumber\" style = \"font-weight: bold; text-align: right;\">15283</td><td style = \"text-align: left;\">2023-05-30T20:00:00</td><td style = \"text-align: right;\">150.85</td><td style = \"text-align: left;\">2023-05-29 20:00:00</td><td style = \"text-align: right;\">637</td><td style = \"text-align: left;\">2023-05-30</td><td style = \"text-align: right;\">2023</td><td style = \"text-align: right;\">2</td><td style = \"text-align: right;\">5</td><td style = \"text-align: right;\">150</td><td style = \"text-align: right;\">30</td><td style = \"text-align: right;\">2</td><td style = \"text-align: right;\">22</td><td style = \"text-align: right;\">20</td></tr><tr><td class = \"rowNumber\" style = \"font-weight: bold; text-align: right;\">15284</td><td style = \"text-align: left;\">2023-05-30T21:00:00</td><td style = \"text-align: right;\">82.1</td><td style = \"text-align: left;\">2023-05-29 21:00:00</td><td style = \"text-align: right;\">637</td><td style = \"text-align: left;\">2023-05-30</td><td style = \"text-align: right;\">2023</td><td style = \"text-align: right;\">2</td><td style = \"text-align: right;\">5</td><td style = \"text-align: right;\">150</td><td style = \"text-align: right;\">30</td><td style = \"text-align: right;\">2</td><td style = \"text-align: right;\">22</td><td style = \"text-align: right;\">21</td></tr><tr><td class = \"rowNumber\" style = \"font-weight: bold; text-align: right;\">15285</td><td style = \"text-align: left;\">2023-05-30T22:00:00</td><td style = \"text-align: right;\">82.09</td><td style = \"text-align: left;\">2023-05-29 22:00:00</td><td style = \"text-align: right;\">637</td><td style = \"text-align: left;\">2023-05-30</td><td style = \"text-align: right;\">2023</td><td style = \"text-align: right;\">2</td><td style = \"text-align: right;\">5</td><td style = \"text-align: right;\">150</td><td style = \"text-align: right;\">30</td><td style = \"text-align: right;\">2</td><td style = \"text-align: right;\">22</td><td style = \"text-align: right;\">22</td></tr><tr><td class = \"rowNumber\" style = \"font-weight: bold; text-align: right;\">15286</td><td style = \"text-align: left;\">2023-05-30T23:00:00</td><td style = \"text-align: right;\">-1.29</td><td style = \"text-align: left;\">2023-05-29 23:00:00</td><td style = \"text-align: right;\">637</td><td style = \"text-align: left;\">2023-05-30</td><td style = \"text-align: right;\">2023</td><td style = \"text-align: right;\">2</td><td style = \"text-align: right;\">5</td><td style = \"text-align: right;\">150</td><td style = \"text-align: right;\">30</td><td style = \"text-align: right;\">2</td><td style = \"text-align: right;\">22</td><td style = \"text-align: right;\">23</td></tr></tbody></table></div>"
      ],
      "text/latex": [
       "\\begin{tabular}{r|cccccc}\n",
       "\t& datetime & euros\\_per\\_mwh & origin\\_date & data\\_block\\_id & date & \\\\\n",
       "\t\\hline\n",
       "\t& DateTime & Float64 & String31 & Int64 & Date & \\\\\n",
       "\t\\hline\n",
       "\t1 & 2021-09-01T00:00:00 & 92.51 & 2021-08-31 00:00:00 & 1 & 2021-09-01 & $\\dots$ \\\\\n",
       "\t2 & 2021-09-01T01:00:00 & 88.9 & 2021-08-31 01:00:00 & 1 & 2021-09-01 & $\\dots$ \\\\\n",
       "\t3 & 2021-09-01T02:00:00 & 87.35 & 2021-08-31 02:00:00 & 1 & 2021-09-01 & $\\dots$ \\\\\n",
       "\t4 & 2021-09-01T03:00:00 & 86.88 & 2021-08-31 03:00:00 & 1 & 2021-09-01 & $\\dots$ \\\\\n",
       "\t5 & 2021-09-01T04:00:00 & 88.43 & 2021-08-31 04:00:00 & 1 & 2021-09-01 & $\\dots$ \\\\\n",
       "\t6 & 2021-09-01T05:00:00 & 93.58 & 2021-08-31 05:00:00 & 1 & 2021-09-01 & $\\dots$ \\\\\n",
       "\t7 & 2021-09-01T06:00:00 & 118.7 & 2021-08-31 06:00:00 & 1 & 2021-09-01 & $\\dots$ \\\\\n",
       "\t8 & 2021-09-01T07:00:00 & 135.44 & 2021-08-31 07:00:00 & 1 & 2021-09-01 & $\\dots$ \\\\\n",
       "\t9 & 2021-09-01T08:00:00 & 140.72 & 2021-08-31 08:00:00 & 1 & 2021-09-01 & $\\dots$ \\\\\n",
       "\t10 & 2021-09-01T09:00:00 & 130.0 & 2021-08-31 09:00:00 & 1 & 2021-09-01 & $\\dots$ \\\\\n",
       "\t11 & 2021-09-01T10:00:00 & 116.99 & 2021-08-31 10:00:00 & 1 & 2021-09-01 & $\\dots$ \\\\\n",
       "\t12 & 2021-09-01T11:00:00 & 109.75 & 2021-08-31 11:00:00 & 1 & 2021-09-01 & $\\dots$ \\\\\n",
       "\t13 & 2021-09-01T12:00:00 & 103.88 & 2021-08-31 12:00:00 & 1 & 2021-09-01 & $\\dots$ \\\\\n",
       "\t14 & 2021-09-01T13:00:00 & 98.0 & 2021-08-31 13:00:00 & 1 & 2021-09-01 & $\\dots$ \\\\\n",
       "\t15 & 2021-09-01T14:00:00 & 94.98 & 2021-08-31 14:00:00 & 1 & 2021-09-01 & $\\dots$ \\\\\n",
       "\t16 & 2021-09-01T15:00:00 & 95.06 & 2021-08-31 15:00:00 & 1 & 2021-09-01 & $\\dots$ \\\\\n",
       "\t17 & 2021-09-01T16:00:00 & 97.61 & 2021-08-31 16:00:00 & 1 & 2021-09-01 & $\\dots$ \\\\\n",
       "\t18 & 2021-09-01T17:00:00 & 116.12 & 2021-08-31 17:00:00 & 1 & 2021-09-01 & $\\dots$ \\\\\n",
       "\t19 & 2021-09-01T18:00:00 & 131.0 & 2021-08-31 18:00:00 & 1 & 2021-09-01 & $\\dots$ \\\\\n",
       "\t20 & 2021-09-01T19:00:00 & 145.91 & 2021-08-31 19:00:00 & 1 & 2021-09-01 & $\\dots$ \\\\\n",
       "\t21 & 2021-09-01T20:00:00 & 144.93 & 2021-08-31 20:00:00 & 1 & 2021-09-01 & $\\dots$ \\\\\n",
       "\t22 & 2021-09-01T21:00:00 & 125.76 & 2021-08-31 21:00:00 & 1 & 2021-09-01 & $\\dots$ \\\\\n",
       "\t23 & 2021-09-01T22:00:00 & 114.39 & 2021-08-31 22:00:00 & 1 & 2021-09-01 & $\\dots$ \\\\\n",
       "\t24 & 2021-09-01T23:00:00 & 94.32 & 2021-08-31 23:00:00 & 1 & 2021-09-01 & $\\dots$ \\\\\n",
       "\t$\\dots$ & $\\dots$ & $\\dots$ & $\\dots$ & $\\dots$ & $\\dots$ &  \\\\\n",
       "\\end{tabular}\n"
      ],
      "text/plain": [
       "\u001b[1m15286×13 DataFrame\u001b[0m\n",
       "\u001b[1m   Row \u001b[0m│\u001b[1m datetime            \u001b[0m\u001b[1m euros_per_mwh \u001b[0m\u001b[1m origin_date         \u001b[0m\u001b[1m data_block_i\u001b[0m ⋯\n",
       "       │\u001b[90m DateTime            \u001b[0m\u001b[90m Float64       \u001b[0m\u001b[90m String31            \u001b[0m\u001b[90m Int64       \u001b[0m ⋯\n",
       "───────┼────────────────────────────────────────────────────────────────────────\n",
       "     1 │ 2021-09-01T00:00:00          92.51  2021-08-31 00:00:00               ⋯\n",
       "     2 │ 2021-09-01T01:00:00          88.9   2021-08-31 01:00:00\n",
       "     3 │ 2021-09-01T02:00:00          87.35  2021-08-31 02:00:00\n",
       "     4 │ 2021-09-01T03:00:00          86.88  2021-08-31 03:00:00\n",
       "     5 │ 2021-09-01T04:00:00          88.43  2021-08-31 04:00:00               ⋯\n",
       "     6 │ 2021-09-01T05:00:00          93.58  2021-08-31 05:00:00\n",
       "     7 │ 2021-09-01T06:00:00         118.7   2021-08-31 06:00:00\n",
       "     8 │ 2021-09-01T07:00:00         135.44  2021-08-31 07:00:00\n",
       "   ⋮   │          ⋮                 ⋮                 ⋮                 ⋮      ⋱\n",
       " 15280 │ 2023-05-30T17:00:00           9.55  2023-05-29 17:00:00            63 ⋯\n",
       " 15281 │ 2023-05-30T18:00:00          82.1   2023-05-29 18:00:00            63\n",
       " 15282 │ 2023-05-30T19:00:00          82.1   2023-05-29 19:00:00            63\n",
       " 15283 │ 2023-05-30T20:00:00         150.85  2023-05-29 20:00:00            63\n",
       " 15284 │ 2023-05-30T21:00:00          82.1   2023-05-29 21:00:00            63 ⋯\n",
       " 15285 │ 2023-05-30T22:00:00          82.09  2023-05-29 22:00:00            63\n",
       " 15286 │ 2023-05-30T23:00:00          -1.29  2023-05-29 23:00:00            63\n",
       "\u001b[36m                                               10 columns and 15271 rows omitted\u001b[0m"
      ]
     },
     "metadata": {},
     "output_type": "display_data"
    }
   ],
   "source": [
    "as = rename(\n",
    "    dfs[\"electricity_prices\"],\n",
    "    :forecast_date => :datetime\n",
    ");\n",
    "\n",
    "formato = DateFormat(\"yyyy-mm-dd HH:MM:SS\");\n",
    "\n",
    "as.datetime = DateTime.(as.datetime, formato);\n",
    "as.date = Date.(as.datetime)\n",
    "as.year = year.(as.datetime)\n",
    "as.quarter = quarterofyear.(as.datetime)\n",
    "as.month = month.(as.datetime)\n",
    "as.day_of_year = dayofyear.(as.datetime)\n",
    "as.day_of_month = dayofmonth.(as.datetime)\n",
    "as.day_of_week = dayofweek.(as.datetime)\n",
    "as.week = week.(as.datetime)\n",
    "as.hour = hour.(as.datetime)\n",
    "\n",
    "as"
   ]
  },
  {
   "cell_type": "code",
   "execution_count": 64,
   "metadata": {},
   "outputs": [
    {
     "data": {
      "text/html": [
       "<div><div style = \"float: left;\"><span>637×5 DataFrame</span></div><div style = \"float: right;\"><span style = \"font-style: italic;\">612 rows omitted</span></div><div style = \"clear: both;\"></div></div><div class = \"data-frame\" style = \"overflow-x: scroll;\"><table class = \"data-frame\" style = \"margin-bottom: 6px;\"><thead><tr class = \"header\"><th class = \"rowNumber\" style = \"font-weight: bold; text-align: right;\">Row</th><th style = \"text-align: left;\">forecast_date</th><th style = \"text-align: left;\">lowest_price_per_mwh</th><th style = \"text-align: left;\">highest_price_per_mwh</th><th style = \"text-align: left;\">origin_date</th><th style = \"text-align: left;\">data_block_id</th></tr><tr class = \"subheader headerLastRow\"><th class = \"rowNumber\" style = \"font-weight: bold; text-align: right;\"></th><th title = \"DateTime\" style = \"text-align: left;\">DateTime</th><th title = \"Float64\" style = \"text-align: left;\">Float64</th><th title = \"Float64\" style = \"text-align: left;\">Float64</th><th title = \"Date\" style = \"text-align: left;\">Date</th><th title = \"Int64\" style = \"text-align: left;\">Int64</th></tr></thead><tbody><tr><td class = \"rowNumber\" style = \"font-weight: bold; text-align: right;\">1</td><td style = \"text-align: left;\">2021-09-01T00:00:00</td><td style = \"text-align: right;\">45.23</td><td style = \"text-align: right;\">46.32</td><td style = \"text-align: left;\">2021-08-31</td><td style = \"text-align: right;\">1</td></tr><tr><td class = \"rowNumber\" style = \"font-weight: bold; text-align: right;\">2</td><td style = \"text-align: left;\">2021-09-02T00:00:00</td><td style = \"text-align: right;\">45.62</td><td style = \"text-align: right;\">46.29</td><td style = \"text-align: left;\">2021-09-01</td><td style = \"text-align: right;\">2</td></tr><tr><td class = \"rowNumber\" style = \"font-weight: bold; text-align: right;\">3</td><td style = \"text-align: left;\">2021-09-03T00:00:00</td><td style = \"text-align: right;\">45.85</td><td style = \"text-align: right;\">46.4</td><td style = \"text-align: left;\">2021-09-02</td><td style = \"text-align: right;\">3</td></tr><tr><td class = \"rowNumber\" style = \"font-weight: bold; text-align: right;\">4</td><td style = \"text-align: left;\">2021-09-04T00:00:00</td><td style = \"text-align: right;\">46.3</td><td style = \"text-align: right;\">46.8</td><td style = \"text-align: left;\">2021-09-03</td><td style = \"text-align: right;\">4</td></tr><tr><td class = \"rowNumber\" style = \"font-weight: bold; text-align: right;\">5</td><td style = \"text-align: left;\">2021-09-05T00:00:00</td><td style = \"text-align: right;\">46.3</td><td style = \"text-align: right;\">46.58</td><td style = \"text-align: left;\">2021-09-04</td><td style = \"text-align: right;\">5</td></tr><tr><td class = \"rowNumber\" style = \"font-weight: bold; text-align: right;\">6</td><td style = \"text-align: left;\">2021-09-06T00:00:00</td><td style = \"text-align: right;\">46.17</td><td style = \"text-align: right;\">46.95</td><td style = \"text-align: left;\">2021-09-05</td><td style = \"text-align: right;\">6</td></tr><tr><td class = \"rowNumber\" style = \"font-weight: bold; text-align: right;\">7</td><td style = \"text-align: left;\">2021-09-07T00:00:00</td><td style = \"text-align: right;\">46.35</td><td style = \"text-align: right;\">47.6</td><td style = \"text-align: left;\">2021-09-06</td><td style = \"text-align: right;\">7</td></tr><tr><td class = \"rowNumber\" style = \"font-weight: bold; text-align: right;\">8</td><td style = \"text-align: left;\">2021-09-08T00:00:00</td><td style = \"text-align: right;\">46.4</td><td style = \"text-align: right;\">47.64</td><td style = \"text-align: left;\">2021-09-07</td><td style = \"text-align: right;\">8</td></tr><tr><td class = \"rowNumber\" style = \"font-weight: bold; text-align: right;\">9</td><td style = \"text-align: left;\">2021-09-09T00:00:00</td><td style = \"text-align: right;\">44.96</td><td style = \"text-align: right;\">47.72</td><td style = \"text-align: left;\">2021-09-08</td><td style = \"text-align: right;\">9</td></tr><tr><td class = \"rowNumber\" style = \"font-weight: bold; text-align: right;\">10</td><td style = \"text-align: left;\">2021-09-10T00:00:00</td><td style = \"text-align: right;\">47.82</td><td style = \"text-align: right;\">48.29</td><td style = \"text-align: left;\">2021-09-09</td><td style = \"text-align: right;\">10</td></tr><tr><td class = \"rowNumber\" style = \"font-weight: bold; text-align: right;\">11</td><td style = \"text-align: left;\">2021-09-11T00:00:00</td><td style = \"text-align: right;\">47.6</td><td style = \"text-align: right;\">47.9</td><td style = \"text-align: left;\">2021-09-10</td><td style = \"text-align: right;\">11</td></tr><tr><td class = \"rowNumber\" style = \"font-weight: bold; text-align: right;\">12</td><td style = \"text-align: left;\">2021-09-12T00:00:00</td><td style = \"text-align: right;\">46.5</td><td style = \"text-align: right;\">47.62</td><td style = \"text-align: left;\">2021-09-11</td><td style = \"text-align: right;\">12</td></tr><tr><td class = \"rowNumber\" style = \"font-weight: bold; text-align: right;\">13</td><td style = \"text-align: left;\">2021-09-13T00:00:00</td><td style = \"text-align: right;\">46.03</td><td style = \"text-align: right;\">47.9</td><td style = \"text-align: left;\">2021-09-12</td><td style = \"text-align: right;\">13</td></tr><tr><td style = \"text-align: right;\">&vellip;</td><td style = \"text-align: right;\">&vellip;</td><td style = \"text-align: right;\">&vellip;</td><td style = \"text-align: right;\">&vellip;</td><td style = \"text-align: right;\">&vellip;</td><td style = \"text-align: right;\">&vellip;</td></tr><tr><td class = \"rowNumber\" style = \"font-weight: bold; text-align: right;\">626</td><td style = \"text-align: left;\">2023-05-19T00:00:00</td><td style = \"text-align: right;\">35.0</td><td style = \"text-align: right;\">40.23</td><td style = \"text-align: left;\">2023-05-18</td><td style = \"text-align: right;\">626</td></tr><tr><td class = \"rowNumber\" style = \"font-weight: bold; text-align: right;\">627</td><td style = \"text-align: left;\">2023-05-20T00:00:00</td><td style = \"text-align: right;\">34.81</td><td style = \"text-align: right;\">37.0</td><td style = \"text-align: left;\">2023-05-19</td><td style = \"text-align: right;\">627</td></tr><tr><td class = \"rowNumber\" style = \"font-weight: bold; text-align: right;\">628</td><td style = \"text-align: left;\">2023-05-21T00:00:00</td><td style = \"text-align: right;\">34.11</td><td style = \"text-align: right;\">37.0</td><td style = \"text-align: left;\">2023-05-20</td><td style = \"text-align: right;\">628</td></tr><tr><td class = \"rowNumber\" style = \"font-weight: bold; text-align: right;\">629</td><td style = \"text-align: left;\">2023-05-22T00:00:00</td><td style = \"text-align: right;\">34.23</td><td style = \"text-align: right;\">39.98</td><td style = \"text-align: left;\">2023-05-21</td><td style = \"text-align: right;\">629</td></tr><tr><td class = \"rowNumber\" style = \"font-weight: bold; text-align: right;\">630</td><td style = \"text-align: left;\">2023-05-23T00:00:00</td><td style = \"text-align: right;\">34.0</td><td style = \"text-align: right;\">35.4</td><td style = \"text-align: left;\">2023-05-22</td><td style = \"text-align: right;\">630</td></tr><tr><td class = \"rowNumber\" style = \"font-weight: bold; text-align: right;\">631</td><td style = \"text-align: left;\">2023-05-24T00:00:00</td><td style = \"text-align: right;\">33.56</td><td style = \"text-align: right;\">36.96</td><td style = \"text-align: left;\">2023-05-23</td><td style = \"text-align: right;\">631</td></tr><tr><td class = \"rowNumber\" style = \"font-weight: bold; text-align: right;\">632</td><td style = \"text-align: left;\">2023-05-25T00:00:00</td><td style = \"text-align: right;\">30.0</td><td style = \"text-align: right;\">35.0</td><td style = \"text-align: left;\">2023-05-24</td><td style = \"text-align: right;\">632</td></tr><tr><td class = \"rowNumber\" style = \"font-weight: bold; text-align: right;\">633</td><td style = \"text-align: left;\">2023-05-26T00:00:00</td><td style = \"text-align: right;\">29.1</td><td style = \"text-align: right;\">34.1</td><td style = \"text-align: left;\">2023-05-25</td><td style = \"text-align: right;\">633</td></tr><tr><td class = \"rowNumber\" style = \"font-weight: bold; text-align: right;\">634</td><td style = \"text-align: left;\">2023-05-27T00:00:00</td><td style = \"text-align: right;\">28.3</td><td style = \"text-align: right;\">34.1</td><td style = \"text-align: left;\">2023-05-26</td><td style = \"text-align: right;\">634</td></tr><tr><td class = \"rowNumber\" style = \"font-weight: bold; text-align: right;\">635</td><td style = \"text-align: left;\">2023-05-28T00:00:00</td><td style = \"text-align: right;\">28.1</td><td style = \"text-align: right;\">34.1</td><td style = \"text-align: left;\">2023-05-27</td><td style = \"text-align: right;\">635</td></tr><tr><td class = \"rowNumber\" style = \"font-weight: bold; text-align: right;\">636</td><td style = \"text-align: left;\">2023-05-29T00:00:00</td><td style = \"text-align: right;\">28.16</td><td style = \"text-align: right;\">36.98</td><td style = \"text-align: left;\">2023-05-28</td><td style = \"text-align: right;\">636</td></tr><tr><td class = \"rowNumber\" style = \"font-weight: bold; text-align: right;\">637</td><td style = \"text-align: left;\">2023-05-30T00:00:00</td><td style = \"text-align: right;\">29.0</td><td style = \"text-align: right;\">34.0</td><td style = \"text-align: left;\">2023-05-29</td><td style = \"text-align: right;\">637</td></tr></tbody></table></div>"
      ],
      "text/latex": [
       "\\begin{tabular}{r|ccccc}\n",
       "\t& forecast\\_date & lowest\\_price\\_per\\_mwh & highest\\_price\\_per\\_mwh & origin\\_date & data\\_block\\_id\\\\\n",
       "\t\\hline\n",
       "\t& DateTime & Float64 & Float64 & Date & Int64\\\\\n",
       "\t\\hline\n",
       "\t1 & 2021-09-01T00:00:00 & 45.23 & 46.32 & 2021-08-31 & 1 \\\\\n",
       "\t2 & 2021-09-02T00:00:00 & 45.62 & 46.29 & 2021-09-01 & 2 \\\\\n",
       "\t3 & 2021-09-03T00:00:00 & 45.85 & 46.4 & 2021-09-02 & 3 \\\\\n",
       "\t4 & 2021-09-04T00:00:00 & 46.3 & 46.8 & 2021-09-03 & 4 \\\\\n",
       "\t5 & 2021-09-05T00:00:00 & 46.3 & 46.58 & 2021-09-04 & 5 \\\\\n",
       "\t6 & 2021-09-06T00:00:00 & 46.17 & 46.95 & 2021-09-05 & 6 \\\\\n",
       "\t7 & 2021-09-07T00:00:00 & 46.35 & 47.6 & 2021-09-06 & 7 \\\\\n",
       "\t8 & 2021-09-08T00:00:00 & 46.4 & 47.64 & 2021-09-07 & 8 \\\\\n",
       "\t9 & 2021-09-09T00:00:00 & 44.96 & 47.72 & 2021-09-08 & 9 \\\\\n",
       "\t10 & 2021-09-10T00:00:00 & 47.82 & 48.29 & 2021-09-09 & 10 \\\\\n",
       "\t11 & 2021-09-11T00:00:00 & 47.6 & 47.9 & 2021-09-10 & 11 \\\\\n",
       "\t12 & 2021-09-12T00:00:00 & 46.5 & 47.62 & 2021-09-11 & 12 \\\\\n",
       "\t13 & 2021-09-13T00:00:00 & 46.03 & 47.9 & 2021-09-12 & 13 \\\\\n",
       "\t14 & 2021-09-14T00:00:00 & 46.51 & 48.19 & 2021-09-13 & 14 \\\\\n",
       "\t15 & 2021-09-15T00:00:00 & 47.2 & 48.9 & 2021-09-14 & 15 \\\\\n",
       "\t16 & 2021-09-16T00:00:00 & 47.9 & 48.9 & 2021-09-15 & 16 \\\\\n",
       "\t17 & 2021-09-17T00:00:00 & 46.52 & 48.9 & 2021-09-16 & 17 \\\\\n",
       "\t18 & 2021-09-18T00:00:00 & 47.09 & 48.62 & 2021-09-17 & 18 \\\\\n",
       "\t19 & 2021-09-19T00:00:00 & 47.0 & 48.62 & 2021-09-18 & 19 \\\\\n",
       "\t20 & 2021-09-20T00:00:00 & 48.0 & 50.4 & 2021-09-19 & 20 \\\\\n",
       "\t21 & 2021-09-21T00:00:00 & 47.0 & 49.2 & 2021-09-20 & 21 \\\\\n",
       "\t22 & 2021-09-22T00:00:00 & 47.46 & 50.4 & 2021-09-21 & 22 \\\\\n",
       "\t23 & 2021-09-23T00:00:00 & 47.5 & 50.4 & 2021-09-22 & 23 \\\\\n",
       "\t24 & 2021-09-24T00:00:00 & 47.6 & 54.99 & 2021-09-23 & 24 \\\\\n",
       "\t$\\dots$ & $\\dots$ & $\\dots$ & $\\dots$ & $\\dots$ & $\\dots$ \\\\\n",
       "\\end{tabular}\n"
      ],
      "text/plain": [
       "\u001b[1m637×5 DataFrame\u001b[0m\n",
       "\u001b[1m Row \u001b[0m│\u001b[1m forecast_date       \u001b[0m\u001b[1m lowest_price_per_mwh \u001b[0m\u001b[1m highest_price_per_mwh \u001b[0m\u001b[1m origi\u001b[0m ⋯\n",
       "     │\u001b[90m DateTime            \u001b[0m\u001b[90m Float64              \u001b[0m\u001b[90m Float64               \u001b[0m\u001b[90m Date \u001b[0m ⋯\n",
       "─────┼──────────────────────────────────────────────────────────────────────────\n",
       "   1 │ 2021-09-01T00:00:00                 45.23                  46.32  2021- ⋯\n",
       "   2 │ 2021-09-02T00:00:00                 45.62                  46.29  2021-\n",
       "   3 │ 2021-09-03T00:00:00                 45.85                  46.4   2021-\n",
       "   4 │ 2021-09-04T00:00:00                 46.3                   46.8   2021-\n",
       "   5 │ 2021-09-05T00:00:00                 46.3                   46.58  2021- ⋯\n",
       "   6 │ 2021-09-06T00:00:00                 46.17                  46.95  2021-\n",
       "   7 │ 2021-09-07T00:00:00                 46.35                  47.6   2021-\n",
       "   8 │ 2021-09-08T00:00:00                 46.4                   47.64  2021-\n",
       "  ⋮  │          ⋮                    ⋮                      ⋮                  ⋱\n",
       " 631 │ 2023-05-24T00:00:00                 33.56                  36.96  2023- ⋯\n",
       " 632 │ 2023-05-25T00:00:00                 30.0                   35.0   2023-\n",
       " 633 │ 2023-05-26T00:00:00                 29.1                   34.1   2023-\n",
       " 634 │ 2023-05-27T00:00:00                 28.3                   34.1   2023-\n",
       " 635 │ 2023-05-28T00:00:00                 28.1                   34.1   2023- ⋯\n",
       " 636 │ 2023-05-29T00:00:00                 28.16                  36.98  2023-\n",
       " 637 │ 2023-05-30T00:00:00                 29.0                   34.0   2023-\n",
       "\u001b[36m                                                  2 columns and 622 rows omitted\u001b[0m"
      ]
     },
     "metadata": {},
     "output_type": "display_data"
    }
   ],
   "source": [
    "as2 = copy(dfs[\"gas_prices\"])"
   ]
  },
  {
   "cell_type": "code",
   "execution_count": null,
   "metadata": {},
   "outputs": [
    {
     "data": {
      "text/plain": [
       "637-element Vector{Float64}:\n",
       " 45.775\n",
       " 45.955\n",
       " 46.125\n",
       " 46.55\n",
       " 46.44\n",
       " 46.56\n",
       " 46.975\n",
       " 47.019999999999996\n",
       " 46.34\n",
       " 48.055\n",
       "  ⋮\n",
       " 37.105\n",
       " 34.7\n",
       " 35.260000000000005\n",
       " 32.5\n",
       " 31.6\n",
       " 31.200000000000003\n",
       " 31.1\n",
       " 32.57\n",
       " 31.5"
      ]
     },
     "metadata": {},
     "output_type": "display_data"
    }
   ],
   "source": [
    "as2[!, \"mean\"] = (as2.lowest_price_per_mwh .+ as2.highest_price_per_mwh) ./ 2"
   ]
  },
  {
   "cell_type": "code",
   "execution_count": 66,
   "metadata": {},
   "outputs": [
    {
     "data": {
      "text/html": [
       "<div><div style = \"float: left;\"><span>637×6 DataFrame</span></div><div style = \"float: right;\"><span style = \"font-style: italic;\">612 rows omitted</span></div><div style = \"clear: both;\"></div></div><div class = \"data-frame\" style = \"overflow-x: scroll;\"><table class = \"data-frame\" style = \"margin-bottom: 6px;\"><thead><tr class = \"header\"><th class = \"rowNumber\" style = \"font-weight: bold; text-align: right;\">Row</th><th style = \"text-align: left;\">forecast_date</th><th style = \"text-align: left;\">lowest_price_per_mwh</th><th style = \"text-align: left;\">highest_price_per_mwh</th><th style = \"text-align: left;\">origin_date</th><th style = \"text-align: left;\">data_block_id</th><th style = \"text-align: left;\">mean</th></tr><tr class = \"subheader headerLastRow\"><th class = \"rowNumber\" style = \"font-weight: bold; text-align: right;\"></th><th title = \"DateTime\" style = \"text-align: left;\">DateTime</th><th title = \"Float64\" style = \"text-align: left;\">Float64</th><th title = \"Float64\" style = \"text-align: left;\">Float64</th><th title = \"Date\" style = \"text-align: left;\">Date</th><th title = \"Int64\" style = \"text-align: left;\">Int64</th><th title = \"Float64\" style = \"text-align: left;\">Float64</th></tr></thead><tbody><tr><td class = \"rowNumber\" style = \"font-weight: bold; text-align: right;\">1</td><td style = \"text-align: left;\">2021-09-01T00:00:00</td><td style = \"text-align: right;\">45.23</td><td style = \"text-align: right;\">46.32</td><td style = \"text-align: left;\">2021-08-31</td><td style = \"text-align: right;\">1</td><td style = \"text-align: right;\">45.775</td></tr><tr><td class = \"rowNumber\" style = \"font-weight: bold; text-align: right;\">2</td><td style = \"text-align: left;\">2021-09-02T00:00:00</td><td style = \"text-align: right;\">45.62</td><td style = \"text-align: right;\">46.29</td><td style = \"text-align: left;\">2021-09-01</td><td style = \"text-align: right;\">2</td><td style = \"text-align: right;\">45.955</td></tr><tr><td class = \"rowNumber\" style = \"font-weight: bold; text-align: right;\">3</td><td style = \"text-align: left;\">2021-09-03T00:00:00</td><td style = \"text-align: right;\">45.85</td><td style = \"text-align: right;\">46.4</td><td style = \"text-align: left;\">2021-09-02</td><td style = \"text-align: right;\">3</td><td style = \"text-align: right;\">46.125</td></tr><tr><td class = \"rowNumber\" style = \"font-weight: bold; text-align: right;\">4</td><td style = \"text-align: left;\">2021-09-04T00:00:00</td><td style = \"text-align: right;\">46.3</td><td style = \"text-align: right;\">46.8</td><td style = \"text-align: left;\">2021-09-03</td><td style = \"text-align: right;\">4</td><td style = \"text-align: right;\">46.55</td></tr><tr><td class = \"rowNumber\" style = \"font-weight: bold; text-align: right;\">5</td><td style = \"text-align: left;\">2021-09-05T00:00:00</td><td style = \"text-align: right;\">46.3</td><td style = \"text-align: right;\">46.58</td><td style = \"text-align: left;\">2021-09-04</td><td style = \"text-align: right;\">5</td><td style = \"text-align: right;\">46.44</td></tr><tr><td class = \"rowNumber\" style = \"font-weight: bold; text-align: right;\">6</td><td style = \"text-align: left;\">2021-09-06T00:00:00</td><td style = \"text-align: right;\">46.17</td><td style = \"text-align: right;\">46.95</td><td style = \"text-align: left;\">2021-09-05</td><td style = \"text-align: right;\">6</td><td style = \"text-align: right;\">46.56</td></tr><tr><td class = \"rowNumber\" style = \"font-weight: bold; text-align: right;\">7</td><td style = \"text-align: left;\">2021-09-07T00:00:00</td><td style = \"text-align: right;\">46.35</td><td style = \"text-align: right;\">47.6</td><td style = \"text-align: left;\">2021-09-06</td><td style = \"text-align: right;\">7</td><td style = \"text-align: right;\">46.975</td></tr><tr><td class = \"rowNumber\" style = \"font-weight: bold; text-align: right;\">8</td><td style = \"text-align: left;\">2021-09-08T00:00:00</td><td style = \"text-align: right;\">46.4</td><td style = \"text-align: right;\">47.64</td><td style = \"text-align: left;\">2021-09-07</td><td style = \"text-align: right;\">8</td><td style = \"text-align: right;\">47.02</td></tr><tr><td class = \"rowNumber\" style = \"font-weight: bold; text-align: right;\">9</td><td style = \"text-align: left;\">2021-09-09T00:00:00</td><td style = \"text-align: right;\">44.96</td><td style = \"text-align: right;\">47.72</td><td style = \"text-align: left;\">2021-09-08</td><td style = \"text-align: right;\">9</td><td style = \"text-align: right;\">46.34</td></tr><tr><td class = \"rowNumber\" style = \"font-weight: bold; text-align: right;\">10</td><td style = \"text-align: left;\">2021-09-10T00:00:00</td><td style = \"text-align: right;\">47.82</td><td style = \"text-align: right;\">48.29</td><td style = \"text-align: left;\">2021-09-09</td><td style = \"text-align: right;\">10</td><td style = \"text-align: right;\">48.055</td></tr><tr><td class = \"rowNumber\" style = \"font-weight: bold; text-align: right;\">11</td><td style = \"text-align: left;\">2021-09-11T00:00:00</td><td style = \"text-align: right;\">47.6</td><td style = \"text-align: right;\">47.9</td><td style = \"text-align: left;\">2021-09-10</td><td style = \"text-align: right;\">11</td><td style = \"text-align: right;\">47.75</td></tr><tr><td class = \"rowNumber\" style = \"font-weight: bold; text-align: right;\">12</td><td style = \"text-align: left;\">2021-09-12T00:00:00</td><td style = \"text-align: right;\">46.5</td><td style = \"text-align: right;\">47.62</td><td style = \"text-align: left;\">2021-09-11</td><td style = \"text-align: right;\">12</td><td style = \"text-align: right;\">47.06</td></tr><tr><td class = \"rowNumber\" style = \"font-weight: bold; text-align: right;\">13</td><td style = \"text-align: left;\">2021-09-13T00:00:00</td><td style = \"text-align: right;\">46.03</td><td style = \"text-align: right;\">47.9</td><td style = \"text-align: left;\">2021-09-12</td><td style = \"text-align: right;\">13</td><td style = \"text-align: right;\">46.965</td></tr><tr><td style = \"text-align: right;\">&vellip;</td><td style = \"text-align: right;\">&vellip;</td><td style = \"text-align: right;\">&vellip;</td><td style = \"text-align: right;\">&vellip;</td><td style = \"text-align: right;\">&vellip;</td><td style = \"text-align: right;\">&vellip;</td><td style = \"text-align: right;\">&vellip;</td></tr><tr><td class = \"rowNumber\" style = \"font-weight: bold; text-align: right;\">626</td><td style = \"text-align: left;\">2023-05-19T00:00:00</td><td style = \"text-align: right;\">35.0</td><td style = \"text-align: right;\">40.23</td><td style = \"text-align: left;\">2023-05-18</td><td style = \"text-align: right;\">626</td><td style = \"text-align: right;\">37.615</td></tr><tr><td class = \"rowNumber\" style = \"font-weight: bold; text-align: right;\">627</td><td style = \"text-align: left;\">2023-05-20T00:00:00</td><td style = \"text-align: right;\">34.81</td><td style = \"text-align: right;\">37.0</td><td style = \"text-align: left;\">2023-05-19</td><td style = \"text-align: right;\">627</td><td style = \"text-align: right;\">35.905</td></tr><tr><td class = \"rowNumber\" style = \"font-weight: bold; text-align: right;\">628</td><td style = \"text-align: left;\">2023-05-21T00:00:00</td><td style = \"text-align: right;\">34.11</td><td style = \"text-align: right;\">37.0</td><td style = \"text-align: left;\">2023-05-20</td><td style = \"text-align: right;\">628</td><td style = \"text-align: right;\">35.555</td></tr><tr><td class = \"rowNumber\" style = \"font-weight: bold; text-align: right;\">629</td><td style = \"text-align: left;\">2023-05-22T00:00:00</td><td style = \"text-align: right;\">34.23</td><td style = \"text-align: right;\">39.98</td><td style = \"text-align: left;\">2023-05-21</td><td style = \"text-align: right;\">629</td><td style = \"text-align: right;\">37.105</td></tr><tr><td class = \"rowNumber\" style = \"font-weight: bold; text-align: right;\">630</td><td style = \"text-align: left;\">2023-05-23T00:00:00</td><td style = \"text-align: right;\">34.0</td><td style = \"text-align: right;\">35.4</td><td style = \"text-align: left;\">2023-05-22</td><td style = \"text-align: right;\">630</td><td style = \"text-align: right;\">34.7</td></tr><tr><td class = \"rowNumber\" style = \"font-weight: bold; text-align: right;\">631</td><td style = \"text-align: left;\">2023-05-24T00:00:00</td><td style = \"text-align: right;\">33.56</td><td style = \"text-align: right;\">36.96</td><td style = \"text-align: left;\">2023-05-23</td><td style = \"text-align: right;\">631</td><td style = \"text-align: right;\">35.26</td></tr><tr><td class = \"rowNumber\" style = \"font-weight: bold; text-align: right;\">632</td><td style = \"text-align: left;\">2023-05-25T00:00:00</td><td style = \"text-align: right;\">30.0</td><td style = \"text-align: right;\">35.0</td><td style = \"text-align: left;\">2023-05-24</td><td style = \"text-align: right;\">632</td><td style = \"text-align: right;\">32.5</td></tr><tr><td class = \"rowNumber\" style = \"font-weight: bold; text-align: right;\">633</td><td style = \"text-align: left;\">2023-05-26T00:00:00</td><td style = \"text-align: right;\">29.1</td><td style = \"text-align: right;\">34.1</td><td style = \"text-align: left;\">2023-05-25</td><td style = \"text-align: right;\">633</td><td style = \"text-align: right;\">31.6</td></tr><tr><td class = \"rowNumber\" style = \"font-weight: bold; text-align: right;\">634</td><td style = \"text-align: left;\">2023-05-27T00:00:00</td><td style = \"text-align: right;\">28.3</td><td style = \"text-align: right;\">34.1</td><td style = \"text-align: left;\">2023-05-26</td><td style = \"text-align: right;\">634</td><td style = \"text-align: right;\">31.2</td></tr><tr><td class = \"rowNumber\" style = \"font-weight: bold; text-align: right;\">635</td><td style = \"text-align: left;\">2023-05-28T00:00:00</td><td style = \"text-align: right;\">28.1</td><td style = \"text-align: right;\">34.1</td><td style = \"text-align: left;\">2023-05-27</td><td style = \"text-align: right;\">635</td><td style = \"text-align: right;\">31.1</td></tr><tr><td class = \"rowNumber\" style = \"font-weight: bold; text-align: right;\">636</td><td style = \"text-align: left;\">2023-05-29T00:00:00</td><td style = \"text-align: right;\">28.16</td><td style = \"text-align: right;\">36.98</td><td style = \"text-align: left;\">2023-05-28</td><td style = \"text-align: right;\">636</td><td style = \"text-align: right;\">32.57</td></tr><tr><td class = \"rowNumber\" style = \"font-weight: bold; text-align: right;\">637</td><td style = \"text-align: left;\">2023-05-30T00:00:00</td><td style = \"text-align: right;\">29.0</td><td style = \"text-align: right;\">34.0</td><td style = \"text-align: left;\">2023-05-29</td><td style = \"text-align: right;\">637</td><td style = \"text-align: right;\">31.5</td></tr></tbody></table></div>"
      ],
      "text/latex": [
       "\\begin{tabular}{r|cccccc}\n",
       "\t& forecast\\_date & lowest\\_price\\_per\\_mwh & highest\\_price\\_per\\_mwh & origin\\_date & data\\_block\\_id & \\\\\n",
       "\t\\hline\n",
       "\t& DateTime & Float64 & Float64 & Date & Int64 & \\\\\n",
       "\t\\hline\n",
       "\t1 & 2021-09-01T00:00:00 & 45.23 & 46.32 & 2021-08-31 & 1 & $\\dots$ \\\\\n",
       "\t2 & 2021-09-02T00:00:00 & 45.62 & 46.29 & 2021-09-01 & 2 & $\\dots$ \\\\\n",
       "\t3 & 2021-09-03T00:00:00 & 45.85 & 46.4 & 2021-09-02 & 3 & $\\dots$ \\\\\n",
       "\t4 & 2021-09-04T00:00:00 & 46.3 & 46.8 & 2021-09-03 & 4 & $\\dots$ \\\\\n",
       "\t5 & 2021-09-05T00:00:00 & 46.3 & 46.58 & 2021-09-04 & 5 & $\\dots$ \\\\\n",
       "\t6 & 2021-09-06T00:00:00 & 46.17 & 46.95 & 2021-09-05 & 6 & $\\dots$ \\\\\n",
       "\t7 & 2021-09-07T00:00:00 & 46.35 & 47.6 & 2021-09-06 & 7 & $\\dots$ \\\\\n",
       "\t8 & 2021-09-08T00:00:00 & 46.4 & 47.64 & 2021-09-07 & 8 & $\\dots$ \\\\\n",
       "\t9 & 2021-09-09T00:00:00 & 44.96 & 47.72 & 2021-09-08 & 9 & $\\dots$ \\\\\n",
       "\t10 & 2021-09-10T00:00:00 & 47.82 & 48.29 & 2021-09-09 & 10 & $\\dots$ \\\\\n",
       "\t11 & 2021-09-11T00:00:00 & 47.6 & 47.9 & 2021-09-10 & 11 & $\\dots$ \\\\\n",
       "\t12 & 2021-09-12T00:00:00 & 46.5 & 47.62 & 2021-09-11 & 12 & $\\dots$ \\\\\n",
       "\t13 & 2021-09-13T00:00:00 & 46.03 & 47.9 & 2021-09-12 & 13 & $\\dots$ \\\\\n",
       "\t14 & 2021-09-14T00:00:00 & 46.51 & 48.19 & 2021-09-13 & 14 & $\\dots$ \\\\\n",
       "\t15 & 2021-09-15T00:00:00 & 47.2 & 48.9 & 2021-09-14 & 15 & $\\dots$ \\\\\n",
       "\t16 & 2021-09-16T00:00:00 & 47.9 & 48.9 & 2021-09-15 & 16 & $\\dots$ \\\\\n",
       "\t17 & 2021-09-17T00:00:00 & 46.52 & 48.9 & 2021-09-16 & 17 & $\\dots$ \\\\\n",
       "\t18 & 2021-09-18T00:00:00 & 47.09 & 48.62 & 2021-09-17 & 18 & $\\dots$ \\\\\n",
       "\t19 & 2021-09-19T00:00:00 & 47.0 & 48.62 & 2021-09-18 & 19 & $\\dots$ \\\\\n",
       "\t20 & 2021-09-20T00:00:00 & 48.0 & 50.4 & 2021-09-19 & 20 & $\\dots$ \\\\\n",
       "\t21 & 2021-09-21T00:00:00 & 47.0 & 49.2 & 2021-09-20 & 21 & $\\dots$ \\\\\n",
       "\t22 & 2021-09-22T00:00:00 & 47.46 & 50.4 & 2021-09-21 & 22 & $\\dots$ \\\\\n",
       "\t23 & 2021-09-23T00:00:00 & 47.5 & 50.4 & 2021-09-22 & 23 & $\\dots$ \\\\\n",
       "\t24 & 2021-09-24T00:00:00 & 47.6 & 54.99 & 2021-09-23 & 24 & $\\dots$ \\\\\n",
       "\t$\\dots$ & $\\dots$ & $\\dots$ & $\\dots$ & $\\dots$ & $\\dots$ &  \\\\\n",
       "\\end{tabular}\n"
      ],
      "text/plain": [
       "\u001b[1m637×6 DataFrame\u001b[0m\n",
       "\u001b[1m Row \u001b[0m│\u001b[1m forecast_date       \u001b[0m\u001b[1m lowest_price_per_mwh \u001b[0m\u001b[1m highest_price_per_mwh \u001b[0m\u001b[1m origi\u001b[0m ⋯\n",
       "     │\u001b[90m DateTime            \u001b[0m\u001b[90m Float64              \u001b[0m\u001b[90m Float64               \u001b[0m\u001b[90m Date \u001b[0m ⋯\n",
       "─────┼──────────────────────────────────────────────────────────────────────────\n",
       "   1 │ 2021-09-01T00:00:00                 45.23                  46.32  2021- ⋯\n",
       "   2 │ 2021-09-02T00:00:00                 45.62                  46.29  2021-\n",
       "   3 │ 2021-09-03T00:00:00                 45.85                  46.4   2021-\n",
       "   4 │ 2021-09-04T00:00:00                 46.3                   46.8   2021-\n",
       "   5 │ 2021-09-05T00:00:00                 46.3                   46.58  2021- ⋯\n",
       "   6 │ 2021-09-06T00:00:00                 46.17                  46.95  2021-\n",
       "   7 │ 2021-09-07T00:00:00                 46.35                  47.6   2021-\n",
       "   8 │ 2021-09-08T00:00:00                 46.4                   47.64  2021-\n",
       "  ⋮  │          ⋮                    ⋮                      ⋮                  ⋱\n",
       " 631 │ 2023-05-24T00:00:00                 33.56                  36.96  2023- ⋯\n",
       " 632 │ 2023-05-25T00:00:00                 30.0                   35.0   2023-\n",
       " 633 │ 2023-05-26T00:00:00                 29.1                   34.1   2023-\n",
       " 634 │ 2023-05-27T00:00:00                 28.3                   34.1   2023-\n",
       " 635 │ 2023-05-28T00:00:00                 28.1                   34.1   2023- ⋯\n",
       " 636 │ 2023-05-29T00:00:00                 28.16                  36.98  2023-\n",
       " 637 │ 2023-05-30T00:00:00                 29.0                   34.0   2023-\n",
       "\u001b[36m                                                  3 columns and 622 rows omitted\u001b[0m"
      ]
     },
     "metadata": {},
     "output_type": "display_data"
    }
   ],
   "source": [
    "as2"
   ]
  },
  {
   "cell_type": "code",
   "execution_count": null,
   "metadata": {},
   "outputs": [],
   "source": []
  }
 ],
 "metadata": {
  "kernelspec": {
   "display_name": "Julia 1.11.2",
   "language": "julia",
   "name": "julia-1.11"
  },
  "language_info": {
   "file_extension": ".jl",
   "mimetype": "application/julia",
   "name": "julia",
   "version": "1.11.2"
  }
 },
 "nbformat": 4,
 "nbformat_minor": 2
}
